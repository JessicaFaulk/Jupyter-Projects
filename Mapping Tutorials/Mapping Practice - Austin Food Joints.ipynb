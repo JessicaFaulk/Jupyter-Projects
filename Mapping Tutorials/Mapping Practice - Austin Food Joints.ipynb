{
 "cells": [
  {
   "cell_type": "markdown",
   "id": "tutorial-guest",
   "metadata": {},
   "source": [
    "Let's look at the location of food service joints in Austin and a history of their alcohol servings using geopandas!\n",
    "\n",
    "Some links:\n",
    "- For data cleaning \n",
    "    - https://socalgis.org/2016/04/05/python-library-for-standardizing-us-addresses/\n",
    "    - https://github.com/datamade/usaddress\n",
    "    - https://parserator.datamade.us/usaddress/\n",
    "    \n",
    "- For google maps:\n",
    "    - https://developers.google.com/maps/documentation/geocoding/get-api-key\n",
    "    - https://developers.google.com/maps/documentation/geocoding/best-practices\n",
    "- For nominatium\n",
    "\n",
    "\n",
    "- Simple walk-thru at Country Level \n",
    "    - https://www.learnpythonwithrune.org/pandas-and-geopy-plot-world-population-by-latitude-and-longitude-using-weighted-histograms-5-step-tutorial/\n",
    "    \n",
    "- Video Tutorials\n",
    "    -https://youtu.be/q_OUHA_zqeM (44 Python Tutorial Example Geocoding Addresses with Pandas and Geopy)\n",
    "    "
   ]
  },
  {
   "cell_type": "code",
   "execution_count": 1,
   "id": "dirty-purple",
   "metadata": {},
   "outputs": [],
   "source": [
    "import pandas as pd\n",
    "import numpy as np"
   ]
  },
  {
   "cell_type": "code",
   "execution_count": 36,
   "id": "individual-ecology",
   "metadata": {},
   "outputs": [],
   "source": [
    "#import the data files\n",
    "food_joints=pd.read_csv('Food_Establishment_Inspection_Scores.csv', parse_dates=['Inspection Date'])\n",
    "mixed_beverages=pd.read_csv('Mixed_Beverage_Gross_Receipts.csv')"
   ]
  },
  {
   "cell_type": "code",
   "execution_count": 37,
   "id": "solar-proposal",
   "metadata": {},
   "outputs": [
    {
     "data": {
      "text/plain": [
       "geopy.geocoders.nominatim.Nominatim"
      ]
     },
     "execution_count": 37,
     "metadata": {},
     "output_type": "execute_result"
    }
   ],
   "source": [
    "from geopy.geocoders import get_geocoder_for_service\n",
    "get_geocoder_for_service(\"nominatim\")"
   ]
  },
  {
   "cell_type": "code",
   "execution_count": 38,
   "id": "searching-adventure",
   "metadata": {},
   "outputs": [
    {
     "data": {
      "text/html": [
       "<div>\n",
       "<style scoped>\n",
       "    .dataframe tbody tr th:only-of-type {\n",
       "        vertical-align: middle;\n",
       "    }\n",
       "\n",
       "    .dataframe tbody tr th {\n",
       "        vertical-align: top;\n",
       "    }\n",
       "\n",
       "    .dataframe thead th {\n",
       "        text-align: right;\n",
       "    }\n",
       "</style>\n",
       "<table border=\"1\" class=\"dataframe\">\n",
       "  <thead>\n",
       "    <tr style=\"text-align: right;\">\n",
       "      <th></th>\n",
       "      <th>Restaurant Name</th>\n",
       "      <th>Zip Code</th>\n",
       "      <th>Inspection Date</th>\n",
       "      <th>Score</th>\n",
       "      <th>Address</th>\n",
       "      <th>Facility ID</th>\n",
       "      <th>Process Description</th>\n",
       "    </tr>\n",
       "  </thead>\n",
       "  <tbody>\n",
       "    <tr>\n",
       "      <th>0</th>\n",
       "      <td>Austin Golf Club</td>\n",
       "      <td>78669.0</td>\n",
       "      <td>2018-08-15</td>\n",
       "      <td>100</td>\n",
       "      <td>24900 W SH\\nSPICEWOOD, TX 78669</td>\n",
       "      <td>2801719</td>\n",
       "      <td>Routine Inspection</td>\n",
       "    </tr>\n",
       "    <tr>\n",
       "      <th>1</th>\n",
       "      <td>Habesha Restaurant &amp; Bar</td>\n",
       "      <td>78723.0</td>\n",
       "      <td>2018-02-12</td>\n",
       "      <td>78</td>\n",
       "      <td>1 2\\nAUSTIN, TX 78723</td>\n",
       "      <td>10864575</td>\n",
       "      <td>Routine Inspection</td>\n",
       "    </tr>\n",
       "    <tr>\n",
       "      <th>2</th>\n",
       "      <td>LW - Raising Cane's Restaurants</td>\n",
       "      <td>78734.0</td>\n",
       "      <td>2020-09-15</td>\n",
       "      <td>100</td>\n",
       "      <td>1600 S FM 620 RD\\nLAKEWAY, TX 78734</td>\n",
       "      <td>11531765</td>\n",
       "      <td>Routine Inspection</td>\n",
       "    </tr>\n",
       "    <tr>\n",
       "      <th>3</th>\n",
       "      <td>Dollar Tree #07241</td>\n",
       "      <td>78736.0</td>\n",
       "      <td>2018-01-25</td>\n",
       "      <td>92</td>\n",
       "      <td>7101 W SH\\nAUSTIN, TX 78736</td>\n",
       "      <td>11723124</td>\n",
       "      <td>Routine Inspection</td>\n",
       "    </tr>\n",
       "    <tr>\n",
       "      <th>4</th>\n",
       "      <td>Cedar International Academy II</td>\n",
       "      <td>78753.0</td>\n",
       "      <td>2018-05-09</td>\n",
       "      <td>85</td>\n",
       "      <td>8416 N IH\\nAUSTIN, TX 78753</td>\n",
       "      <td>10118311</td>\n",
       "      <td>Routine Inspection</td>\n",
       "    </tr>\n",
       "    <tr>\n",
       "      <th>...</th>\n",
       "      <td>...</td>\n",
       "      <td>...</td>\n",
       "      <td>...</td>\n",
       "      <td>...</td>\n",
       "      <td>...</td>\n",
       "      <td>...</td>\n",
       "      <td>...</td>\n",
       "    </tr>\n",
       "    <tr>\n",
       "      <th>25388</th>\n",
       "      <td>Burger Fi</td>\n",
       "      <td>78749.0</td>\n",
       "      <td>2018-06-08</td>\n",
       "      <td>91</td>\n",
       "      <td>5701 W SLAUGHTER LN\\nAUSTIN, TX 78749\\n(30.201...</td>\n",
       "      <td>10985744</td>\n",
       "      <td>Routine Inspection</td>\n",
       "    </tr>\n",
       "    <tr>\n",
       "      <th>25389</th>\n",
       "      <td>S-H Donuts</td>\n",
       "      <td>78723.0</td>\n",
       "      <td>2020-06-09</td>\n",
       "      <td>88</td>\n",
       "      <td>5313 MANOR RD\\nAUSTIN, TX 78723\\n(30.300732, -...</td>\n",
       "      <td>10451981</td>\n",
       "      <td>Routine Inspection</td>\n",
       "    </tr>\n",
       "    <tr>\n",
       "      <th>25390</th>\n",
       "      <td>The Rolling Rooster</td>\n",
       "      <td>78727.0</td>\n",
       "      <td>2018-03-20</td>\n",
       "      <td>65</td>\n",
       "      <td>13717 BURNET RD\\nAUSTIN, TX 78727\\n(30.438049,...</td>\n",
       "      <td>11692367</td>\n",
       "      <td>Routine Inspection</td>\n",
       "    </tr>\n",
       "    <tr>\n",
       "      <th>25391</th>\n",
       "      <td>Best Taste Of Pho Saigon</td>\n",
       "      <td>78756.0</td>\n",
       "      <td>2020-06-16</td>\n",
       "      <td>84</td>\n",
       "      <td>5222 BURNET RD\\nAUSTIN, TX 78756\\n(30.324549, ...</td>\n",
       "      <td>12392379</td>\n",
       "      <td>Routine Inspection</td>\n",
       "    </tr>\n",
       "    <tr>\n",
       "      <th>25392</th>\n",
       "      <td>El Agazajo Grill LLC</td>\n",
       "      <td>78744.0</td>\n",
       "      <td>2020-01-03</td>\n",
       "      <td>90</td>\n",
       "      <td>2408 S US 183 HWY\\nAUSTIN, TX 78744\\n(30.21294...</td>\n",
       "      <td>10716700</td>\n",
       "      <td>Routine Inspection</td>\n",
       "    </tr>\n",
       "  </tbody>\n",
       "</table>\n",
       "<p>25393 rows × 7 columns</p>\n",
       "</div>"
      ],
      "text/plain": [
       "                       Restaurant Name  Zip Code Inspection Date  Score  \\\n",
       "0                     Austin Golf Club   78669.0      2018-08-15    100   \n",
       "1             Habesha Restaurant & Bar   78723.0      2018-02-12     78   \n",
       "2      LW - Raising Cane's Restaurants   78734.0      2020-09-15    100   \n",
       "3                   Dollar Tree #07241   78736.0      2018-01-25     92   \n",
       "4       Cedar International Academy II   78753.0      2018-05-09     85   \n",
       "...                                ...       ...             ...    ...   \n",
       "25388                        Burger Fi   78749.0      2018-06-08     91   \n",
       "25389                       S-H Donuts   78723.0      2020-06-09     88   \n",
       "25390              The Rolling Rooster   78727.0      2018-03-20     65   \n",
       "25391         Best Taste Of Pho Saigon   78756.0      2020-06-16     84   \n",
       "25392             El Agazajo Grill LLC   78744.0      2020-01-03     90   \n",
       "\n",
       "                                                 Address  Facility ID  \\\n",
       "0                        24900 W SH\\nSPICEWOOD, TX 78669      2801719   \n",
       "1                                  1 2\\nAUSTIN, TX 78723     10864575   \n",
       "2                    1600 S FM 620 RD\\nLAKEWAY, TX 78734     11531765   \n",
       "3                            7101 W SH\\nAUSTIN, TX 78736     11723124   \n",
       "4                            8416 N IH\\nAUSTIN, TX 78753     10118311   \n",
       "...                                                  ...          ...   \n",
       "25388  5701 W SLAUGHTER LN\\nAUSTIN, TX 78749\\n(30.201...     10985744   \n",
       "25389  5313 MANOR RD\\nAUSTIN, TX 78723\\n(30.300732, -...     10451981   \n",
       "25390  13717 BURNET RD\\nAUSTIN, TX 78727\\n(30.438049,...     11692367   \n",
       "25391  5222 BURNET RD\\nAUSTIN, TX 78756\\n(30.324549, ...     12392379   \n",
       "25392  2408 S US 183 HWY\\nAUSTIN, TX 78744\\n(30.21294...     10716700   \n",
       "\n",
       "      Process Description  \n",
       "0      Routine Inspection  \n",
       "1      Routine Inspection  \n",
       "2      Routine Inspection  \n",
       "3      Routine Inspection  \n",
       "4      Routine Inspection  \n",
       "...                   ...  \n",
       "25388  Routine Inspection  \n",
       "25389  Routine Inspection  \n",
       "25390  Routine Inspection  \n",
       "25391  Routine Inspection  \n",
       "25392  Routine Inspection  \n",
       "\n",
       "[25393 rows x 7 columns]"
      ]
     },
     "execution_count": 38,
     "metadata": {},
     "output_type": "execute_result"
    }
   ],
   "source": [
    "food_joints"
   ]
  },
  {
   "cell_type": "code",
   "execution_count": 48,
   "id": "closed-lebanon",
   "metadata": {},
   "outputs": [],
   "source": [
    "food_joints[['Street', 'City', 'geo']]=food_joints['Address'].str.split(pat='\\n', expand=True)"
   ]
  },
  {
   "cell_type": "code",
   "execution_count": 54,
   "id": "waiting-examination",
   "metadata": {},
   "outputs": [],
   "source": [
    "#look for missing geos\n",
    "food_joints['missing_geo']=food_joints['geo'].isnull()"
   ]
  },
  {
   "cell_type": "code",
   "execution_count": 55,
   "id": "musical-pledge",
   "metadata": {},
   "outputs": [
    {
     "data": {
      "text/plain": [
       "Inspection Date\n",
       "2018-01-31     72\n",
       "2018-02-28    111\n",
       "2018-03-31    108\n",
       "2018-04-30     96\n",
       "2018-05-31     68\n",
       "2018-06-30     99\n",
       "2018-07-31    133\n",
       "2018-08-31     99\n",
       "2018-09-30     83\n",
       "2018-10-31    103\n",
       "2018-11-30     47\n",
       "2018-12-31     69\n",
       "2019-01-31     90\n",
       "2019-02-28     90\n",
       "2019-03-31     82\n",
       "2019-04-30     89\n",
       "2019-05-31    107\n",
       "2019-06-30     96\n",
       "2019-07-31    112\n",
       "2019-08-31     93\n",
       "2019-09-30    123\n",
       "2019-10-31    118\n",
       "2019-11-30     96\n",
       "2019-12-31    123\n",
       "2020-01-31    109\n",
       "2020-02-29     90\n",
       "2020-03-31    114\n",
       "2020-04-30    117\n",
       "2020-05-31    108\n",
       "2020-06-30     89\n",
       "2020-07-31    102\n",
       "2020-08-31    106\n",
       "2020-09-30     76\n",
       "2020-10-31     73\n",
       "2020-11-30     90\n",
       "2020-12-31     87\n",
       "Freq: M, Name: missing_geo, dtype: int64"
      ]
     },
     "execution_count": 55,
     "metadata": {},
     "output_type": "execute_result"
    }
   ],
   "source": [
    "food_joints.groupby(pd.Grouper(key='Inspection Date', freq='M'))['missing_geo'].sum()"
   ]
  },
  {
   "cell_type": "code",
   "execution_count": 58,
   "id": "extensive-heritage",
   "metadata": {},
   "outputs": [
    {
     "data": {
      "text/html": [
       "<div>\n",
       "<style scoped>\n",
       "    .dataframe tbody tr th:only-of-type {\n",
       "        vertical-align: middle;\n",
       "    }\n",
       "\n",
       "    .dataframe tbody tr th {\n",
       "        vertical-align: top;\n",
       "    }\n",
       "\n",
       "    .dataframe thead th {\n",
       "        text-align: right;\n",
       "    }\n",
       "</style>\n",
       "<table border=\"1\" class=\"dataframe\">\n",
       "  <thead>\n",
       "    <tr style=\"text-align: right;\">\n",
       "      <th></th>\n",
       "      <th>Restaurant Name</th>\n",
       "      <th>Zip Code</th>\n",
       "      <th>Inspection Date</th>\n",
       "      <th>Score</th>\n",
       "      <th>Address</th>\n",
       "      <th>Facility ID</th>\n",
       "      <th>Process Description</th>\n",
       "      <th>Street</th>\n",
       "      <th>City</th>\n",
       "      <th>geo</th>\n",
       "      <th>missing_geo</th>\n",
       "    </tr>\n",
       "  </thead>\n",
       "  <tbody>\n",
       "    <tr>\n",
       "      <th>2</th>\n",
       "      <td>LW - Raising Cane's Restaurants</td>\n",
       "      <td>78734.0</td>\n",
       "      <td>2020-09-15</td>\n",
       "      <td>100</td>\n",
       "      <td>1600 S FM 620 RD\\nLAKEWAY, TX 78734</td>\n",
       "      <td>11531765</td>\n",
       "      <td>Routine Inspection</td>\n",
       "      <td>1600 S FM 620 RD</td>\n",
       "      <td>LAKEWAY, TX 78734</td>\n",
       "      <td>None</td>\n",
       "      <td>True</td>\n",
       "    </tr>\n",
       "    <tr>\n",
       "      <th>12</th>\n",
       "      <td>Hayley Cakes and Cookies</td>\n",
       "      <td>78730.0</td>\n",
       "      <td>2020-03-17</td>\n",
       "      <td>99</td>\n",
       "      <td>10601 FM 2222 RD\\nAUSTIN, TX 78730</td>\n",
       "      <td>11042164</td>\n",
       "      <td>Routine Inspection</td>\n",
       "      <td>10601 FM 2222 RD</td>\n",
       "      <td>AUSTIN, TX 78730</td>\n",
       "      <td>None</td>\n",
       "      <td>True</td>\n",
       "    </tr>\n",
       "    <tr>\n",
       "      <th>15</th>\n",
       "      <td>Courtesy Shell #4</td>\n",
       "      <td>78741.0</td>\n",
       "      <td>2020-12-11</td>\n",
       "      <td>91</td>\n",
       "      <td>2241 S IH\\nAUSTIN, TX 78741</td>\n",
       "      <td>11130514</td>\n",
       "      <td>Routine Inspection</td>\n",
       "      <td>2241 S IH</td>\n",
       "      <td>AUSTIN, TX 78741</td>\n",
       "      <td>None</td>\n",
       "      <td>True</td>\n",
       "    </tr>\n",
       "    <tr>\n",
       "      <th>23</th>\n",
       "      <td>PF - Bush's Chicken</td>\n",
       "      <td>78660.0</td>\n",
       "      <td>2020-10-14</td>\n",
       "      <td>90</td>\n",
       "      <td>21315 N SH\\nPFLUGERVILLE, TX 78660</td>\n",
       "      <td>12392711</td>\n",
       "      <td>Routine Inspection</td>\n",
       "      <td>21315 N SH</td>\n",
       "      <td>PFLUGERVILLE, TX 78660</td>\n",
       "      <td>None</td>\n",
       "      <td>True</td>\n",
       "    </tr>\n",
       "    <tr>\n",
       "      <th>24</th>\n",
       "      <td>Mi Pueblito Market</td>\n",
       "      <td>78741.0</td>\n",
       "      <td>2020-01-30</td>\n",
       "      <td>91</td>\n",
       "      <td>2030 E OLTORF ST\\nAUSTIN, TX 78741\\n(30.230384...</td>\n",
       "      <td>10214537</td>\n",
       "      <td>Routine Inspection</td>\n",
       "      <td>2030 E OLTORF ST</td>\n",
       "      <td>AUSTIN, TX 78741</td>\n",
       "      <td>(30.230384, -97.732366)</td>\n",
       "      <td>False</td>\n",
       "    </tr>\n",
       "    <tr>\n",
       "      <th>...</th>\n",
       "      <td>...</td>\n",
       "      <td>...</td>\n",
       "      <td>...</td>\n",
       "      <td>...</td>\n",
       "      <td>...</td>\n",
       "      <td>...</td>\n",
       "      <td>...</td>\n",
       "      <td>...</td>\n",
       "      <td>...</td>\n",
       "      <td>...</td>\n",
       "      <td>...</td>\n",
       "    </tr>\n",
       "    <tr>\n",
       "      <th>25369</th>\n",
       "      <td>La Tapatia #7</td>\n",
       "      <td>78757.0</td>\n",
       "      <td>2020-05-06</td>\n",
       "      <td>81</td>\n",
       "      <td>8618 RESEARCH BLVD\\nAUSTIN, TX 78757\\n(30.3624...</td>\n",
       "      <td>12185861</td>\n",
       "      <td>Routine Inspection</td>\n",
       "      <td>8618 RESEARCH BLVD</td>\n",
       "      <td>AUSTIN, TX 78757</td>\n",
       "      <td>(30.362484, -97.717498)</td>\n",
       "      <td>False</td>\n",
       "    </tr>\n",
       "    <tr>\n",
       "      <th>25371</th>\n",
       "      <td>Casa Montessori</td>\n",
       "      <td>78703.0</td>\n",
       "      <td>2020-09-10</td>\n",
       "      <td>100</td>\n",
       "      <td>404 ATLANTA ST\\nBLDG B AUSTIN, TX 78703\\n(30.2...</td>\n",
       "      <td>12027109</td>\n",
       "      <td>Routine Inspection</td>\n",
       "      <td>404 ATLANTA ST</td>\n",
       "      <td>BLDG B AUSTIN, TX 78703</td>\n",
       "      <td>(30.276546, -97.77096)</td>\n",
       "      <td>False</td>\n",
       "    </tr>\n",
       "    <tr>\n",
       "      <th>25389</th>\n",
       "      <td>S-H Donuts</td>\n",
       "      <td>78723.0</td>\n",
       "      <td>2020-06-09</td>\n",
       "      <td>88</td>\n",
       "      <td>5313 MANOR RD\\nAUSTIN, TX 78723\\n(30.300732, -...</td>\n",
       "      <td>10451981</td>\n",
       "      <td>Routine Inspection</td>\n",
       "      <td>5313 MANOR RD</td>\n",
       "      <td>AUSTIN, TX 78723</td>\n",
       "      <td>(30.300732, -97.685406)</td>\n",
       "      <td>False</td>\n",
       "    </tr>\n",
       "    <tr>\n",
       "      <th>25391</th>\n",
       "      <td>Best Taste Of Pho Saigon</td>\n",
       "      <td>78756.0</td>\n",
       "      <td>2020-06-16</td>\n",
       "      <td>84</td>\n",
       "      <td>5222 BURNET RD\\nAUSTIN, TX 78756\\n(30.324549, ...</td>\n",
       "      <td>12392379</td>\n",
       "      <td>Routine Inspection</td>\n",
       "      <td>5222 BURNET RD</td>\n",
       "      <td>AUSTIN, TX 78756</td>\n",
       "      <td>(30.324549, -97.739532)</td>\n",
       "      <td>False</td>\n",
       "    </tr>\n",
       "    <tr>\n",
       "      <th>25392</th>\n",
       "      <td>El Agazajo Grill LLC</td>\n",
       "      <td>78744.0</td>\n",
       "      <td>2020-01-03</td>\n",
       "      <td>90</td>\n",
       "      <td>2408 S US 183 HWY\\nAUSTIN, TX 78744\\n(30.21294...</td>\n",
       "      <td>10716700</td>\n",
       "      <td>Routine Inspection</td>\n",
       "      <td>2408 S US 183 HWY</td>\n",
       "      <td>AUSTIN, TX 78744</td>\n",
       "      <td>(30.212947, -97.683467)</td>\n",
       "      <td>False</td>\n",
       "    </tr>\n",
       "  </tbody>\n",
       "</table>\n",
       "<p>8252 rows × 11 columns</p>\n",
       "</div>"
      ],
      "text/plain": [
       "                       Restaurant Name  Zip Code Inspection Date  Score  \\\n",
       "2      LW - Raising Cane's Restaurants   78734.0      2020-09-15    100   \n",
       "12            Hayley Cakes and Cookies   78730.0      2020-03-17     99   \n",
       "15                   Courtesy Shell #4   78741.0      2020-12-11     91   \n",
       "23                 PF - Bush's Chicken   78660.0      2020-10-14     90   \n",
       "24                  Mi Pueblito Market   78741.0      2020-01-30     91   \n",
       "...                                ...       ...             ...    ...   \n",
       "25369                    La Tapatia #7   78757.0      2020-05-06     81   \n",
       "25371                  Casa Montessori   78703.0      2020-09-10    100   \n",
       "25389                       S-H Donuts   78723.0      2020-06-09     88   \n",
       "25391         Best Taste Of Pho Saigon   78756.0      2020-06-16     84   \n",
       "25392             El Agazajo Grill LLC   78744.0      2020-01-03     90   \n",
       "\n",
       "                                                 Address  Facility ID  \\\n",
       "2                    1600 S FM 620 RD\\nLAKEWAY, TX 78734     11531765   \n",
       "12                    10601 FM 2222 RD\\nAUSTIN, TX 78730     11042164   \n",
       "15                           2241 S IH\\nAUSTIN, TX 78741     11130514   \n",
       "23                    21315 N SH\\nPFLUGERVILLE, TX 78660     12392711   \n",
       "24     2030 E OLTORF ST\\nAUSTIN, TX 78741\\n(30.230384...     10214537   \n",
       "...                                                  ...          ...   \n",
       "25369  8618 RESEARCH BLVD\\nAUSTIN, TX 78757\\n(30.3624...     12185861   \n",
       "25371  404 ATLANTA ST\\nBLDG B AUSTIN, TX 78703\\n(30.2...     12027109   \n",
       "25389  5313 MANOR RD\\nAUSTIN, TX 78723\\n(30.300732, -...     10451981   \n",
       "25391  5222 BURNET RD\\nAUSTIN, TX 78756\\n(30.324549, ...     12392379   \n",
       "25392  2408 S US 183 HWY\\nAUSTIN, TX 78744\\n(30.21294...     10716700   \n",
       "\n",
       "      Process Description              Street                     City  \\\n",
       "2      Routine Inspection    1600 S FM 620 RD        LAKEWAY, TX 78734   \n",
       "12     Routine Inspection    10601 FM 2222 RD         AUSTIN, TX 78730   \n",
       "15     Routine Inspection           2241 S IH         AUSTIN, TX 78741   \n",
       "23     Routine Inspection          21315 N SH   PFLUGERVILLE, TX 78660   \n",
       "24     Routine Inspection    2030 E OLTORF ST         AUSTIN, TX 78741   \n",
       "...                   ...                 ...                      ...   \n",
       "25369  Routine Inspection  8618 RESEARCH BLVD         AUSTIN, TX 78757   \n",
       "25371  Routine Inspection      404 ATLANTA ST  BLDG B AUSTIN, TX 78703   \n",
       "25389  Routine Inspection       5313 MANOR RD         AUSTIN, TX 78723   \n",
       "25391  Routine Inspection      5222 BURNET RD         AUSTIN, TX 78756   \n",
       "25392  Routine Inspection   2408 S US 183 HWY         AUSTIN, TX 78744   \n",
       "\n",
       "                           geo  missing_geo  \n",
       "2                         None         True  \n",
       "12                        None         True  \n",
       "15                        None         True  \n",
       "23                        None         True  \n",
       "24     (30.230384, -97.732366)        False  \n",
       "...                        ...          ...  \n",
       "25369  (30.362484, -97.717498)        False  \n",
       "25371   (30.276546, -97.77096)        False  \n",
       "25389  (30.300732, -97.685406)        False  \n",
       "25391  (30.324549, -97.739532)        False  \n",
       "25392  (30.212947, -97.683467)        False  \n",
       "\n",
       "[8252 rows x 11 columns]"
      ]
     },
     "execution_count": 58,
     "metadata": {},
     "output_type": "execute_result"
    }
   ],
   "source": [
    "food_joints.query(\"`Inspection Date` >= '01-01-2020'\")"
   ]
  },
  {
   "cell_type": "code",
   "execution_count": 167,
   "id": "desperate-interest",
   "metadata": {},
   "outputs": [
    {
     "name": "stderr",
     "output_type": "stream",
     "text": [
      "<ipython-input-167-84638b9df1e2>:2: FutureWarning:\n",
      "\n",
      "The default value of regex will change from True to False in a future version. In addition, single character regular expressions will*not* be treated as literal strings when regex=True.\n",
      "\n"
     ]
    }
   ],
   "source": [
    "food_joints['geo'].str.contains('[0-9]*', regex=True).value_counts(dropna=False)\n",
    "food_joints[['lat', 'lon']]=((food_joints['geo'].str.replace('(', '')).str.replace(')', '')).str.split(',', expand=True)"
   ]
  },
  {
   "cell_type": "code",
   "execution_count": 168,
   "id": "sublime-summary",
   "metadata": {},
   "outputs": [
    {
     "data": {
      "text/plain": [
       "0"
      ]
     },
     "metadata": {},
     "output_type": "display_data"
    },
    {
     "name": "stdout",
     "output_type": "stream",
     "text": [
      "<class 'pandas.core.frame.DataFrame'>\n",
      "RangeIndex: 25393 entries, 0 to 25392\n",
      "Data columns (total 13 columns):\n",
      " #   Column               Non-Null Count  Dtype         \n",
      "---  ------               --------------  -----         \n",
      " 0   Restaurant Name      25393 non-null  object        \n",
      " 1   Zip Code             25385 non-null  float64       \n",
      " 2   Inspection Date      25393 non-null  datetime64[ns]\n",
      " 3   Score                25393 non-null  int64         \n",
      " 4   Address              25391 non-null  object        \n",
      " 5   Facility ID          25393 non-null  int64         \n",
      " 6   Process Description  25393 non-null  object        \n",
      " 7   Street               25391 non-null  object        \n",
      " 8   City                 25391 non-null  object        \n",
      " 9   geo                  21925 non-null  object        \n",
      " 10  missing_geo          25393 non-null  bool          \n",
      " 11  lat                  21925 non-null  float64       \n",
      " 12  lon                  21925 non-null  float64       \n",
      "dtypes: bool(1), datetime64[ns](1), float64(3), int64(2), object(6)\n",
      "memory usage: 2.3+ MB\n"
     ]
    }
   ],
   "source": [
    "food_joints[['lat', 'lon']]=food_joints[['lat', 'lon']].astype('float')\n",
    "display(food_joints['Inspection Date'].dt.day.isnull().sum())\n",
    "food_joints.info()"
   ]
  },
  {
   "cell_type": "code",
   "execution_count": 183,
   "id": "functional-gabriel",
   "metadata": {},
   "outputs": [
    {
     "name": "stderr",
     "output_type": "stream",
     "text": [
      "<ipython-input-183-955a3e91f40d>:7: SettingWithCopyWarning:\n",
      "\n",
      "\n",
      "A value is trying to be set on a copy of a slice from a DataFrame.\n",
      "Try using .loc[row_indexer,col_indexer] = value instead\n",
      "\n",
      "See the caveats in the documentation: https://pandas.pydata.org/pandas-docs/stable/user_guide/indexing.html#returning-a-view-versus-a-copy\n",
      "\n",
      "<ipython-input-183-955a3e91f40d>:8: SettingWithCopyWarning:\n",
      "\n",
      "\n",
      "A value is trying to be set on a copy of a slice from a DataFrame.\n",
      "Try using .loc[row_indexer,col_indexer] = value instead\n",
      "\n",
      "See the caveats in the documentation: https://pandas.pydata.org/pandas-docs/stable/user_guide/indexing.html#returning-a-view-versus-a-copy\n",
      "\n"
     ]
    }
   ],
   "source": [
    "import plotly.express as px\n",
    "import plotly.io as pio\n",
    "pio.templates.defauly=\"plotly+draft\" # does this even do anything?\n",
    "\n",
    "\n",
    "df = food_joints.query(\"`Inspection Date` >= '12-01-2020'\")\n",
    "df['color']=df.Score.round(-1)\n",
    "df['Score']=df['Score'].astype('string') + \"%\""
   ]
  },
  {
   "cell_type": "code",
   "execution_count": 514,
   "id": "combined-zealand",
   "metadata": {},
   "outputs": [
    {
     "data": {
      "application/vnd.plotly.v1+json": {
       "config": {
        "plotlyServerURL": "https://plot.ly"
       },
       "data": [
        {
         "customdata": [
          [
           "Courtesy Shell #4",
           "91%",
           "2241 S IH",
           "2020-12-11T00:00:00"
          ],
          [
           "Little China Restaurant",
           "92%",
           "1921 CEDAR BEND DR",
           "2020-12-22T00:00:00"
          ],
          [
           "PF - Los Amigos Market (Grocery/Produce)",
           "96%",
           "15812 WINDERMERE DR",
           "2020-12-01T00:00:00"
          ],
          [
           "Del Valle ISD Opportunity Center",
           "96%",
           "5301 ROSS RD",
           "2020-12-02T00:00:00"
          ],
          [
           "WL - Randall's #2477-Bakery",
           "99%",
           "3300 BEE CAVES RD",
           "2020-12-07T00:00:00"
          ],
          [
           "Tavern, The",
           "75%",
           "922 W 12TH ST",
           "2020-12-14T00:00:00"
          ],
          [
           "Walgreens #3341",
           "98%",
           "5600 S 1ST ST",
           "2020-12-14T00:00:00"
          ],
          [
           "La Madeleine # 201",
           "92%",
           "9828 GREAT HILLS TRL",
           "2020-12-08T00:00:00"
          ],
          [
           "P F Chang's China Bistro",
           "99%",
           "10114 JOLLYVILLE RD",
           "2020-12-02T00:00:00"
          ],
          [
           "Stepping Stone School",
           "94%",
           "8121 SHOAL CREEK BLVD",
           "2020-12-14T00:00:00"
          ],
          [
           "Cover 2",
           "70%",
           "13701 N US 183 HWY",
           "2020-12-07T00:00:00"
          ],
          [
           "BC - Chick-Fil-A of Lake Travis",
           "94%",
           "3600 S FM 620 RD",
           "2020-12-03T00:00:00"
          ],
          [
           "Willie's Bar-B-Q",
           "78%",
           "4505 E MARTIN LUTHER KING JR BLVD",
           "2020-12-07T00:00:00"
          ],
          [
           "Pretzel Maker",
           "90%",
           "2901 S CAPITAL OF TEXAS HWY",
           "2020-12-09T00:00:00"
          ],
          [
           "Church's Chicken Store No. 386",
           "86%",
           "1945 W WILLIAM CANNON DR",
           "2020-12-16T00:00:00"
          ],
          [
           "St. Paul Lutheran",
           "89%",
           "3501 RED RIVER ST",
           "2020-12-03T00:00:00"
          ],
          [
           "La Mexiquense",
           "94%",
           "850 E RUNDBERG LN",
           "2020-12-22T00:00:00"
          ],
          [
           "Los Comales Taqueria",
           "86%",
           "2136 E 7TH ST",
           "2020-12-14T00:00:00"
          ],
          [
           "Speedy Express",
           "95%",
           "12836 E US 290 HWY",
           "2020-12-03T00:00:00"
          ],
          [
           "Encompass Health Rehabilitation Hospital of Austin",
           "94%",
           "330 W BEN WHITE BLVD",
           "2020-12-11T00:00:00"
          ],
          [
           "Seoul Restaurant",
           "81%",
           "6400 S 1ST ST",
           "2020-12-07T00:00:00"
          ],
          [
           "CVS Pharmacy #6893",
           "98%",
           "3569 FAR WEST BLVD",
           "2020-12-11T00:00:00"
          ],
          [
           "Little Country Diner",
           "93%",
           "22000 W SH",
           "2020-12-15T00:00:00"
          ],
          [
           "PF - Accent Food Services",
           "97%",
           "2913 AW GRIMES BLVD",
           "2020-12-15T00:00:00"
          ],
          [
           "South Austin Beer Garden",
           "93%",
           "10700 MANCHACA RD",
           "2020-12-10T00:00:00"
          ],
          [
           "Oasis Cantina",
           "90%",
           "6550 COMANCHE TRL",
           "2020-12-04T00:00:00"
          ],
          [
           "PF - Freddy's Frozen Custard & Steakburgers",
           "90%",
           "2602 W PECAN ST",
           "2020-12-01T00:00:00"
          ],
          [
           "Thom's Market",
           "97%",
           "1500 SPYGLASS DR",
           "2020-12-11T00:00:00"
          ],
          [
           "EPOCH Coffee",
           "100%",
           "3900 FAR WEST BLVD",
           "2020-12-01T00:00:00"
          ],
          [
           "Tokyo Gardens Catering",
           "100%",
           "6001 W PARMER LN",
           "2020-12-22T00:00:00"
          ],
          [
           "Harmony Science Academy-Pflugerville",
           "100%",
           "1421 W WELLS BRANCH PKWY",
           "2020-12-02T00:00:00"
          ],
          [
           "Freebirds World Burrito",
           "91%",
           "11101 BURNET RD",
           "2020-12-22T00:00:00"
          ],
          [
           "E-Z Stop Groceries & Gas / Conoco",
           "92%",
           "5029 MANOR RD",
           "2020-12-07T00:00:00"
          ],
          [
           "Cava Mezze Grill",
           "90%",
           "10808 DOMAIN DR",
           "2020-12-21T00:00:00"
          ],
          [
           "Austin's Pizza #23",
           "97%",
           "3435 GREYSTONE DR",
           "2020-12-01T00:00:00"
          ],
          [
           "Fogo De Chao Churrascaria",
           "85%",
           "309 E 3RD ST",
           "2020-12-10T00:00:00"
          ],
          [
           "Zilker Elementary",
           "99%",
           "1900 BLUEBONNET LN",
           "2020-12-15T00:00:00"
          ],
          [
           "Pho Tin",
           "70%",
           "2438 W ANDERSON LN",
           "2020-12-08T00:00:00"
          ],
          [
           "PF - HEB Food Store #479 (Grocery)",
           "95%",
           "201 N FM",
           "2020-12-15T00:00:00"
          ],
          [
           "La Pera",
           "97%",
           "502 THOMPSON LN",
           "2020-12-23T00:00:00"
          ],
          [
           "Residence Inn Austin North/Parmer",
           "100%",
           "12401 N LAMAR BLVD",
           "2020-12-22T00:00:00"
          ],
          [
           "Whole Foods Market",
           "93%",
           "901 E 5TH ST",
           "2020-12-17T00:00:00"
          ],
          [
           "Fazoli's Italian Food",
           "90%",
           "13201 N FM 620 RD",
           "2020-12-01T00:00:00"
          ],
          [
           "Snowfox SC8259",
           "98%",
           "1 2",
           "2020-12-16T00:00:00"
          ],
          [
           "John Connally High School",
           "93%",
           "13212 N LAMAR BLVD",
           "2020-12-07T00:00:00"
          ],
          [
           "HEB #20 Retail",
           "99%",
           "6001 W PARMER LN",
           "2020-12-22T00:00:00"
          ],
          [
           "Circle K Store #2704677",
           "80%",
           "1601 E ST ELMO RD",
           "2020-12-11T00:00:00"
          ],
          [
           "Jack in the Box #4850",
           "98%",
           "2517 E SH",
           "2020-12-15T00:00:00"
          ],
          [
           "Generations",
           "93%",
           "8203 SAM RAYBURN DR",
           "2020-12-10T00:00:00"
          ],
          [
           "WL - Randall's Grocery #2477",
           "97%",
           "3300 BEE CAVES RD",
           "2020-12-07T00:00:00"
          ],
          [
           "Double Dave's Pizza",
           "88%",
           "13343 N US 183 HWY",
           "2020-12-08T00:00:00"
          ],
          [
           "Jimmy John's Gourmet Sandwiches",
           "95%",
           "10900 RESEARCH BLVD",
           "2020-12-14T00:00:00"
          ],
          [
           "PF-Moi! Vietnamese Grill",
           "91%",
           "16051 DESSAU RD",
           "2020-12-15T00:00:00"
          ],
          [
           "Kerbey Lane",
           "89%",
           "2606 GUADALUPE ST",
           "2020-12-14T00:00:00"
          ],
          [
           "7-Eleven Convenience Store #36274B",
           "97%",
           "3324 NORTHLAND DR",
           "2020-12-08T00:00:00"
          ],
          [
           "Twin Peaks",
           "93%",
           "701 E STASSNEY LN",
           "2020-12-03T00:00:00"
          ],
          [
           "Taco Bell #030080",
           "91%",
           "3324 W SLAUGHTER LN",
           "2020-12-23T00:00:00"
          ],
          [
           "BC - Barnes & Noble Booksellers",
           "94%",
           "12701 HILL COUNTRY BLVD",
           "2020-12-15T00:00:00"
          ],
          [
           "MN - Golden Beijing",
           "80%",
           "100 E PARSONS ST",
           "2020-12-17T00:00:00"
          ],
          [
           "Nickel City",
           "92%",
           "1133 E 11TH ST",
           "2020-12-16T00:00:00"
          ],
          [
           "Lost Creek Country Club",
           "92%",
           "2612 LOST CREEK BLVD",
           "2020-12-16T00:00:00"
          ],
          [
           "Circle K #2741308",
           "93%",
           "8656 SPICEWOOD SPRINGS RD",
           "2020-12-18T00:00:00"
          ],
          [
           "Miraval Austin (Pool Cafe)",
           "100%",
           "13500 FM 2769 RD",
           "2020-12-17T00:00:00"
          ],
          [
           "Nanami Sushi Bar",
           "75%",
           "9001 BRODIE LN",
           "2020-12-14T00:00:00"
          ],
          [
           "Pollolandia",
           "91%",
           "14905 DESSAU RD",
           "2020-12-11T00:00:00"
          ],
          [
           "Austin Baptist Chapel",
           "94%",
           "908 E CESAR CHAVEZ ST",
           "2020-12-17T00:00:00"
          ],
          [
           "TEJI's Indian Restaurant",
           "54%",
           "2100 GUADALUPE ST",
           "2020-12-16T00:00:00"
          ],
          [
           "Wooldridge Elementary",
           "100%",
           "1412 NORSEMAN TER",
           "2020-12-16T00:00:00"
          ],
          [
           "McDonald's #24993",
           "89%",
           "6010 W PARMER LN",
           "2020-12-09T00:00:00"
          ],
          [
           "PF - Cobal Food Service",
           "90%",
           "2913 A W GRIMES BLVD",
           "2020-12-15T00:00:00"
          ],
          [
           "Pizzeria Casa Nostra",
           "93%",
           "21209 W SH",
           "2020-12-15T00:00:00"
          ],
          [
           "Little Woodrow's",
           "96%",
           "6301 W PARMER LN",
           "2020-12-10T00:00:00"
          ],
          [
           "Smokey Mo's BBQ",
           "80%",
           "6001 W PARMER LN",
           "2020-12-22T00:00:00"
          ],
          [
           "PF - Nothing Bundt Cakes",
           "98%",
           "18616 LIMESTONE COMMERCIAL DR",
           "2020-12-17T00:00:00"
          ],
          [
           "Bombay Walla",
           "86%",
           "8023 BURNET RD",
           "2020-12-03T00:00:00"
          ],
          [
           "Hacienda Arandinas",
           "89%",
           "9001 BRODIE LN",
           "2020-12-15T00:00:00"
          ],
          [
           "Chuy's Bakery",
           "83%",
           "801 E WILLIAM CANNON DR",
           "2020-12-08T00:00:00"
          ],
          [
           "MN - Texas Traditional BBQ",
           "82%",
           "910 N CALDWELL ST",
           "2020-12-04T00:00:00"
          ],
          [
           "LW - Flores Mexican Restaurant",
           "88%",
           "2127 LOHMANS CROSSING RD",
           "2020-12-23T00:00:00"
          ],
          [
           "Wal-Mart Supercenter #1253-Meat/Produce",
           "97%",
           "710 E BEN WHITE BLVD",
           "2020-12-15T00:00:00"
          ],
          [
           "Tiny's Milk & Cookies",
           "92%",
           "1515 W 35TH ST",
           "2020-12-07T00:00:00"
          ],
          [
           "PF - Los Amigos Meat (Kitchen)",
           "92%",
           "15812 WINDERMERE DR",
           "2020-12-01T00:00:00"
          ],
          [
           "NorthEast High School",
           "98%",
           "7104 BERKMAN DR",
           "2020-12-17T00:00:00"
          ],
          [
           "Pacha",
           "88%",
           "4618 BURNET RD",
           "2020-12-22T00:00:00"
          ],
          [
           "Provident Memory Care",
           "96%",
           "11013 SIGNAL HILL DR",
           "2020-12-01T00:00:00"
          ],
          [
           "Target Store T3250 - Starbucks",
           "97%",
           "2021 GUADALUPE ST",
           "2020-12-02T00:00:00"
          ],
          [
           "Circle K #2742420",
           "86%",
           "1405 W WILLIAM CANNON DR",
           "2020-12-01T00:00:00"
          ],
          [
           "Austin Daily Press",
           "93%",
           "3121 S LAMAR BLVD",
           "2020-12-21T00:00:00"
          ],
          [
           "HEB #20 Deli & Bakery",
           "88%",
           "6001 W PARMER LN",
           "2020-12-22T00:00:00"
          ],
          [
           "Parmer Lane Tavern",
           "89%",
           "2121 W PARMER LN",
           "2020-12-23T00:00:00"
          ],
          [
           "Numart",
           "88%",
           "11913 RANCHO ALTO RD",
           "2020-12-03T00:00:00"
          ],
          [
           "OOB Sonic",
           "86%",
           "12453 LAMPLIGHT VILLAGE AVE",
           "2020-12-01T00:00:00"
          ],
          [
           "Wing's N More",
           "74%",
           "1200 W HOWARD LN",
           "2020-12-23T00:00:00"
          ],
          [
           "Cheesecake Factory",
           "93%",
           "10000 RESEARCH BLVD",
           "2020-12-08T00:00:00"
          ],
          [
           "Tender Memories Learning Center",
           "97%",
           "308 W STASSNEY LN",
           "2020-12-02T00:00:00"
          ],
          [
           "Long John Silver's",
           "93%",
           "5600 CAMERON RD",
           "2020-12-16T00:00:00"
          ],
          [
           "Short Stop #2",
           "89%",
           "12784 N US 183 HWY",
           "2020-12-09T00:00:00"
          ],
          [
           "Verdes Grill",
           "94%",
           "16018 HAMILTON POOL RD",
           "2020-12-03T00:00:00"
          ],
          [
           "Food' n More",
           "89%",
           "9400 N IH",
           "2020-12-21T00:00:00"
          ],
          [
           "Donut Crown",
           "92%",
           "2438 W ANDERSON LN",
           "2020-12-17T00:00:00"
          ],
          [
           "PitaLicious",
           "76%",
           "4101 W PARMER LN",
           "2020-12-01T00:00:00"
          ],
          [
           "Tam Deli Cafe",
           "78%",
           "8222 N LAMAR BLVD",
           "2020-12-02T00:00:00"
          ],
          [
           "Chuck E. Cheese's #951",
           "89%",
           "9811 S IH",
           "2020-12-23T00:00:00"
          ],
          [
           "7-Eleven Convenience Store #36563B",
           "79%",
           "11643 RESEARCH BLVD",
           "2020-12-23T00:00:00"
          ],
          [
           "Radio Coffee & Beer",
           "97%",
           "4204 MANCHACA RD",
           "2020-12-11T00:00:00"
          ],
          [
           "Texas French Bread",
           "95%",
           "2900 RIO GRANDE ST",
           "2020-12-14T00:00:00"
          ],
          [
           "Popeye's #323 - Z & H Foods Inc.",
           "91%",
           "9718 MANCHACA RD",
           "2020-12-22T00:00:00"
          ],
          [
           "Jack in the Box #949",
           "90%",
           "9300 S IH",
           "2020-12-23T00:00:00"
          ],
          [
           "Via 313",
           "94%",
           "1802 E 6TH ST",
           "2020-12-17T00:00:00"
          ],
          [
           "Beatniks Market",
           "87%",
           "4415 MANCHACA RD",
           "2020-12-11T00:00:00"
          ],
          [
           "Casa Vallarta Restaurant",
           "72%",
           "6002 BURLESON RD",
           "2020-12-22T00:00:00"
          ],
          [
           "Summermoon Coffee Bar",
           "96%",
           "11601 W US 290 HWY",
           "2020-12-04T00:00:00"
          ],
          [
           "Donut Taco Palace II",
           "89%",
           "1807 W SLAUGHTER LN",
           "2020-12-18T00:00:00"
          ],
          [
           "Kentucky Fried Chicken",
           "74%",
           "13435 N US 183 HWY",
           "2020-12-15T00:00:00"
          ],
          [
           "Jimmy Johns",
           "100%",
           "515 CONGRESS AVE",
           "2020-12-04T00:00:00"
          ],
          [
           "Star Stop 75",
           "98%",
           "5801 N IH",
           "2020-12-04T00:00:00"
          ],
          [
           "Hospice Austin",
           "100%",
           "2820 E MARTIN LUTHER KING JR BLVD",
           "2020-12-16T00:00:00"
          ],
          [
           "Texas Chili Parlor",
           "87%",
           "1409 LAVACA ST",
           "2020-12-01T00:00:00"
          ],
          [
           "O' Henry Jr High",
           "99%",
           "2610 W 10TH ST",
           "2020-12-10T00:00:00"
          ],
          [
           "PF - Iron Fish Sushi and Grill",
           "87%",
           "900 E PECAN ST",
           "2020-12-16T00:00:00"
          ],
          [
           "Starbuck's Coffee#6203",
           "100%",
           "9722 GREAT HILLS TRL",
           "2020-12-08T00:00:00"
          ],
          [
           "Epoch Coffee",
           "92%",
           "2700 W ANDERSON LN",
           "2020-12-11T00:00:00"
          ],
          [
           "Express - O",
           "91%",
           "2228 E CESAR CHAVEZ ST",
           "2020-12-16T00:00:00"
          ],
          [
           "Homer's Bar and Grill",
           "99%",
           "1779 W WELLS BRANCH PKWY",
           "2020-12-16T00:00:00"
          ],
          [
           "Rosedale Market",
           "87%",
           "1309 W 45TH ST",
           "2020-12-22T00:00:00"
          ],
          [
           "Modern Market",
           "95%",
           "3201 BEE CAVES RD",
           "2020-12-07T00:00:00"
          ],
          [
           "Marbridge Foundation-Villa",
           "93%",
           "2504 BLISS SPILLAR RD",
           "2020-12-02T00:00:00"
          ],
          [
           "Peoples Pharmacy",
           "100%",
           "4018 N LAMAR BLVD",
           "2020-12-01T00:00:00"
          ],
          [
           "BC - Walgreens #11272",
           "100%",
           "12200 BEE CAVE PKWY",
           "2020-12-02T00:00:00"
          ],
          [
           "Domino's",
           "94%",
           "5145 N FM 620 RD",
           "2020-12-21T00:00:00"
          ],
          [
           "Shop N Save",
           "88%",
           "2204 WOODLAND AVE",
           "2020-12-01T00:00:00"
          ],
          [
           "Whistle Stop Grocery/La Mexicana",
           "95%",
           "834 E RUNDBERG LN",
           "2020-12-11T00:00:00"
          ],
          [
           "Dollar General Store #12967",
           "91%",
           "6729 MANOR RD",
           "2020-12-04T00:00:00"
          ],
          [
           "Zachary Scott Theatre Center",
           "100%",
           "202 S LAMAR BLVD",
           "2020-12-10T00:00:00"
          ],
          [
           "Rudy's Country Store and BBQ",
           "93%",
           "2451 S CAPITAL OF TEXAS HWY",
           "2020-12-16T00:00:00"
          ],
          [
           "Catfish Parlour",
           "92%",
           "11910 RESEARCH BLVD",
           "2020-12-10T00:00:00"
          ],
          [
           "Domino's",
           "99%",
           "311 W 5TH ST",
           "2020-12-01T00:00:00"
          ],
          [
           "Tutty Frutty",
           "90%",
           "500 W WILLIAM CANNON DR",
           "2020-12-04T00:00:00"
          ],
          [
           "WL - Waterfall Restaurant @ Westlake Surgical",
           "100%",
           "5656 BEE CAVES RD",
           "2020-12-08T00:00:00"
          ],
          [
           "High 5",
           "76%",
           "2700 W ANDERSON LN",
           "2020-12-21T00:00:00"
          ],
          [
           "Bruegger's Bagels",
           "91%",
           "3267 BEE CAVES RD",
           "2020-12-07T00:00:00"
          ],
          [
           "Eureka",
           "96%",
           "200 E 6TH ST",
           "2020-12-08T00:00:00"
          ],
          [
           "Eastside Pies Too!",
           "86%",
           "5312 AIRPORT BLVD",
           "2020-12-17T00:00:00"
          ],
          [
           "Waffle House #1623",
           "95%",
           "7809 E BEN WHITE BLVD",
           "2020-12-18T00:00:00"
          ],
          [
           "Bowie H.S. Culinary Kitchen",
           "97%",
           "4103 W SLAUGHTER LN",
           "2020-12-07T00:00:00"
          ],
          [
           "Signature #2",
           "97%",
           "608 S LAMAR BLVD",
           "2020-12-11T00:00:00"
          ],
          [
           "Accent Food Services - Netspend Airport",
           "99%",
           "5800 AIRPORT BLVD",
           "2020-12-18T00:00:00"
          ],
          [
           "Backyard Bar & Grill",
           "100%",
           "9900 S IH",
           "2020-12-10T00:00:00"
          ],
          [
           "La Michoacana-Austin #3 (Kitchen)",
           "88%",
           "512 W STASSNEY LN",
           "2020-12-10T00:00:00"
          ],
          [
           "Pizza Day",
           "86%",
           "10225 RESEARCH BLVD",
           "2020-12-09T00:00:00"
          ],
          [
           "Burger King #4228",
           "88%",
           "9523 N LAMAR BLVD",
           "2020-12-21T00:00:00"
          ],
          [
           "WL-Trianon Coffee",
           "90%",
           "3654 BEE CAVES RD",
           "2020-12-17T00:00:00"
          ],
          [
           "MN - Panda Express #2516",
           "98%",
           "11808 RING DR",
           "2020-12-09T00:00:00"
          ],
          [
           "BC-Giovanni's Table",
           "93%",
           "11701 FM 2244 RD",
           "2020-12-01T00:00:00"
          ],
          [
           "Flyrite Chicken Inc",
           "80%",
           "6539 BURNET RD",
           "2020-12-07T00:00:00"
          ],
          [
           "HEB Deli #236",
           "96%",
           "1434 W WELLS BRANCH PKWY",
           "2020-12-11T00:00:00"
          ],
          [
           "DH Mini Mart",
           "96%",
           "2911 S 1ST ST",
           "2020-12-15T00:00:00"
          ],
          [
           "BC - Bon Japanese Cuisine",
           "96%",
           "3500 S FM 620 RD",
           "2020-12-15T00:00:00"
          ],
          [
           "Subway #44843",
           "90%",
           "11215 S IH",
           "2020-12-23T00:00:00"
          ],
          [
           "LW - Pao's Mandarin House",
           "88%",
           "2300 LOHMANS SPUR RD",
           "2020-12-18T00:00:00"
          ],
          [
           "Staybridge Hotel",
           "89%",
           "1611 AIRPORT COMMERCE DR",
           "2020-12-17T00:00:00"
          ],
          [
           "PF - Kumar's Austin",
           "73%",
           "15803 WINDERMERE DR",
           "2020-12-17T00:00:00"
          ],
          [
           "Wingstop #188",
           "86%",
           "9616 N LAMAR BLVD",
           "2020-12-18T00:00:00"
          ],
          [
           "Starbucks Coffee #9617",
           "91%",
           "9600 ESCARPMENT BLVD",
           "2020-12-16T00:00:00"
          ],
          [
           "BC- Artemis Mediterranean Grill",
           "89%",
           "4025 S FM 620 RD",
           "2020-12-03T00:00:00"
          ],
          [
           "Summermoon Coffee Bar",
           "91%",
           "8300 N FM 620 RD",
           "2020-12-14T00:00:00"
          ],
          [
           "Crazy Fruits # 2",
           "95%",
           "6100 E RIVERSIDE DR",
           "2020-12-23T00:00:00"
          ],
          [
           "Stepping Stone Child Care",
           "93%",
           "1710 RICHCREEK RD",
           "2020-12-18T00:00:00"
          ],
          [
           "Pho MPH",
           "84%",
           "4616 TRIANGLE AVE",
           "2020-12-22T00:00:00"
          ],
          [
           "Dollar General #16198",
           "97%",
           "13903 FM 812 RD",
           "2020-12-17T00:00:00"
          ],
          [
           "LW - Santa Catarina",
           "79%",
           "1310 S FM 620 RD",
           "2020-12-21T00:00:00"
          ],
          [
           "Paola's Kitchen",
           "95%",
           "1700 W ANDERSON LN",
           "2020-12-21T00:00:00"
          ],
          [
           "2nd Street Market",
           "89%",
           "200 SAN JACINTO BLVD",
           "2020-12-14T00:00:00"
          ],
          [
           "Central Donut",
           "93%",
           "1910 W BRAKER LN",
           "2020-12-21T00:00:00"
          ],
          [
           "DJ's Food & Gas Stop",
           "93%",
           "1135 AIRPORT BLVD",
           "2020-12-11T00:00:00"
          ],
          [
           "Buddy's Mexican Grill",
           "81%",
           "9001 CAMERON RD",
           "2020-12-04T00:00:00"
          ],
          [
           "Walnut Hills Nursing & Rehab",
           "89%",
           "3509 ROGGE LN",
           "2020-12-15T00:00:00"
          ],
          [
           "Food Basket",
           "85%",
           "12503 LAMPLIGHT VILLAGE AVE",
           "2020-12-21T00:00:00"
          ],
          [
           "El Pollo Rico #4",
           "94%",
           "730 W STASSNEY LN",
           "2020-12-03T00:00:00"
          ],
          [
           "Kerbey Lane Cafe",
           "70%",
           "13435 N US 183 HWY",
           "2020-12-15T00:00:00"
          ],
          [
           "Joy East Chinese Buffet",
           "74%",
           "2410 E RIVERSIDE DR",
           "2020-12-01T00:00:00"
          ],
          [
           "Fairfield Inn & Suites Austin North",
           "96%",
           "12536 N IH",
           "2020-12-22T00:00:00"
          ],
          [
           "Old School Liquor & Market",
           "99%",
           "1901 W WILLIAM CANNON DR",
           "2020-12-09T00:00:00"
          ],
          [
           "Teji's Indian Restaurant",
           "92%",
           "8023 BURNET RD",
           "2020-12-03T00:00:00"
          ],
          [
           "RBM Food Mart",
           "87%",
           "2601 MANOR RD",
           "2020-12-07T00:00:00"
          ],
          [
           "7-Eleven Convenience Store # 24909B",
           "78%",
           "8010 BRODIE LN",
           "2020-12-16T00:00:00"
          ],
          [
           "HEB #236",
           "100%",
           "1434 W WELLS BRANCH PKWY",
           "2020-12-11T00:00:00"
          ],
          [
           "Popeye's #318 - Z & H Foods Inc",
           "95%",
           "9815 N LAMAR BLVD",
           "2020-12-03T00:00:00"
          ],
          [
           "Foodie's Corner 2",
           "96%",
           "2400 RIO GRANDE ST",
           "2020-12-15T00:00:00"
          ],
          [
           "Gold's Gym Austin Downtown",
           "98%",
           "115 E 6TH ST",
           "2020-12-14T00:00:00"
          ],
          [
           "7-Eleven Convenience Store #36592A",
           "91%",
           "12000 N MOPAC EXPY",
           "2020-12-23T00:00:00"
          ],
          [
           "Siena Restaurant at Bull Creek",
           "91%",
           "6203 N CAPITAL OF TEXAS HWY",
           "2020-12-15T00:00:00"
          ],
          [
           "WL - Chick-Fil-A",
           "98%",
           "701 S CAPITAL OF TEXAS HWY",
           "2020-12-08T00:00:00"
          ],
          [
           "Clay Pit Contemporary Indian Restaurant",
           "88%",
           "1601 GUADALUPE ST",
           "2020-12-02T00:00:00"
          ],
          [
           "San Francisco Bakery Cafe",
           "89%",
           "2900 W ANDERSON LN",
           "2020-12-18T00:00:00"
          ],
          [
           "Antonelli's Cheese Shop",
           "95%",
           "500 PARK BLVD",
           "2020-12-07T00:00:00"
          ],
          [
           "Stop N Tote",
           "80%",
           "2715 E 5TH ST",
           "2020-12-15T00:00:00"
          ],
          [
           "Circle K #2740080",
           "88%",
           "3909 GUADALUPE ST",
           "2020-12-07T00:00:00"
          ],
          [
           "Little Rascals Day Care",
           "89%",
           "1006 E YAGER LN",
           "2020-12-15T00:00:00"
          ],
          [
           "Wheatsville Food Co-Op - Deli",
           "91%",
           "4001 S LAMAR BLVD",
           "2020-12-14T00:00:00"
          ],
          [
           "Jiffy Sak",
           "95%",
           "6105 TECHNI CENTER DR",
           "2020-12-08T00:00:00"
          ],
          [
           "EPIC POKE",
           "93%",
           "6448 E US",
           "2020-12-03T00:00:00"
          ],
          [
           "Omelettry, The",
           "89%",
           "4631 AIRPORT BLVD",
           "2020-12-22T00:00:00"
          ],
          [
           "LW - Orange Leaf",
           "95%",
           "2011 MAIN ST",
           "2020-12-07T00:00:00"
          ],
          [
           "Westminster Manor AL & Arbour Dining Services",
           "92%",
           "4200 JACKSON AVE",
           "2020-12-01T00:00:00"
          ],
          [
           "Rositas Al Pastor",
           "86%",
           "1911 E RIVERSIDE DR",
           "2020-12-16T00:00:00"
          ],
          [
           "Short Stop",
           "83%",
           "6603 BERKMAN DR",
           "2020-12-01T00:00:00"
          ],
          [
           "Lala's",
           "86%",
           "2207 JUSTIN LN",
           "2020-12-21T00:00:00"
          ],
          [
           "KIPP Austin Public Schools",
           "96%",
           "8509 FM 969 RD",
           "2020-12-04T00:00:00"
          ],
          [
           "Amy's Ice Cream",
           "95%",
           "10000 RESEARCH BLVD",
           "2020-12-21T00:00:00"
          ],
          [
           "Ravenscroft Market",
           "87%",
           "11200 MANCHACA RD",
           "2020-12-03T00:00:00"
          ],
          [
           "Nordstrom Ebar",
           "98%",
           "3111 PALM WAY",
           "2020-12-21T00:00:00"
          ],
          [
           "Best Western Plus, Austin Airport",
           "92%",
           "1805 AIRPORT COMMERCE DR",
           "2020-12-17T00:00:00"
          ],
          [
           "Star Papa",
           "98%",
           "11601 W US 290 HWY",
           "2020-12-04T00:00:00"
          ],
          [
           "YMOK DayCare Austin LLC",
           "100%",
           "510 CLARKE ST",
           "2020-12-02T00:00:00"
          ],
          [
           "Thundercloud Subs",
           "91%",
           "3204 GUADALUPE ST",
           "2020-12-14T00:00:00"
          ],
          [
           "Little Caesar's Pizza",
           "87%",
           "4410 E RIVERSIDE DR",
           "2020-12-11T00:00:00"
          ],
          [
           "Nana's Playhouse Learning Center",
           "96%",
           "4406 RUSSELL DR",
           "2020-12-04T00:00:00"
          ],
          [
           "ATX Food Mart",
           "98%",
           "3002 S CONGRESS AVE",
           "2020-12-14T00:00:00"
          ],
          [
           "PF - Children's Courtyard, The",
           "99%",
           "1308 PICADILLY DR",
           "2020-12-21T00:00:00"
          ],
          [
           "Walnut Creek School",
           "96%",
           "401 W BRAKER LN",
           "2020-12-08T00:00:00"
          ],
          [
           "Cuvee Coffee",
           "98%",
           "2000 E 6TH ST",
           "2020-12-11T00:00:00"
          ],
          [
           "Ruby Thai Kitchen",
           "80%",
           "2901 S CAPITAL OF TEXAS HWY",
           "2020-12-09T00:00:00"
          ],
          [
           "Chow Town Foods",
           "100%",
           "14735 BRATTON LN",
           "2020-12-16T00:00:00"
          ],
          [
           "Cafe Regents",
           "90%",
           "3230 TRAVIS COUNTRY CIR",
           "2020-12-16T00:00:00"
          ],
          [
           "Chili's Grill & Bar",
           "84%",
           "701 E STASSNEY LN",
           "2020-12-17T00:00:00"
          ],
          [
           "Teapioca Arboretum",
           "86%",
           "10000 RESEARCH BLVD",
           "2020-12-14T00:00:00"
          ],
          [
           "PF - La Patisserie by Oven - Fresh Delights",
           "98%",
           "2604 W PECAN ST",
           "2020-12-01T00:00:00"
          ],
          [
           "Stop N Start",
           "88%",
           "6010 W PARMER LN",
           "2020-12-08T00:00:00"
          ],
          [
           "PF - Shogun Japanese Grill & Sushi Bar",
           "75%",
           "18816 LIMESTONE COMMERCIAL DR",
           "2020-12-15T00:00:00"
          ],
          [
           "Texan Market No. 7, The",
           "86%",
           "4205 MANCHACA RD",
           "2020-12-23T00:00:00"
          ],
          [
           "House Wine",
           "89%",
           "408 JOSEPHINE ST",
           "2020-12-21T00:00:00"
          ],
          [
           "Spokesman",
           "97%",
           "440 E ST ELMO RD",
           "2020-12-10T00:00:00"
          ],
          [
           "Hudson's Hill Country",
           "93%",
           "3509 N FM 620 RD",
           "2020-12-22T00:00:00"
          ],
          [
           "Subway #43067",
           "97%",
           "1910 W BRAKER LN",
           "2020-12-21T00:00:00"
          ],
          [
           "Nothing Bundt Cakes - South Austin",
           "97%",
           "9600 S IH",
           "2020-12-04T00:00:00"
          ],
          [
           "Growing Imaginations L.C.",
           "100%",
           "5410 S 1ST ST",
           "2020-12-07T00:00:00"
          ],
          [
           "Village @ Marbridge",
           "100%",
           "2310 BLISS SPILLAR RD",
           "2020-12-02T00:00:00"
          ],
          [
           "Intel ANA Cafe",
           "97%",
           "1300 S MOPAC EXPY",
           "2020-12-10T00:00:00"
          ],
          [
           "Muro's Pizza",
           "98%",
           "6301 W PARMER LN",
           "2020-12-10T00:00:00"
          ],
          [
           "Tiff's Treats",
           "80%",
           "11011 RESEARCH BLVD",
           "2020-12-02T00:00:00"
          ],
          [
           "Children's Courtyard",
           "98%",
           "4213 SPICEWOOD SPRINGS RD",
           "2020-12-16T00:00:00"
          ],
          [
           "Heritage Park Rehabilitation and Skilled Nursing Center",
           "95%",
           "2806 REAL ST",
           "2020-12-04T00:00:00"
          ],
          [
           "Terry's Seafood",
           "86%",
           "1805 AIRPORT BLVD",
           "2020-12-08T00:00:00"
          ],
          [
           "Batch Craft Beer & Kolaches",
           "91%",
           "3220 MANOR RD",
           "2020-12-11T00:00:00"
          ],
          [
           "The Liberty",
           "100%",
           "1618 1 2 E 6TH ST",
           "2020-12-12T00:00:00"
          ],
          [
           "Wendy's Old Fashioned Hamburgers #113",
           "80%",
           "6210 E BEN WHITE BLVD",
           "2020-12-18T00:00:00"
          ],
          [
           "WL - Tacodeli V, L.L.C.",
           "92%",
           "701 S CAPITAL OF TEXAS HWY",
           "2020-12-18T00:00:00"
          ],
          [
           "Challenger School Elementary",
           "94%",
           "15101 AVERY RANCH BLVD",
           "2020-12-07T00:00:00"
          ],
          [
           "Kinder Care Learning Center",
           "95%",
           "6434 S CONGRESS AVE",
           "2020-12-11T00:00:00"
          ],
          [
           "Pizza Paradise",
           "88%",
           "1921 CEDAR BEND DR",
           "2020-12-23T00:00:00"
          ],
          [
           "Lamar C Store",
           "83%",
           "6301 N LAMAR BLVD",
           "2020-12-07T00:00:00"
          ],
          [
           "McDonald's # 12430",
           "91%",
           "5762 N MOPAC EXPY",
           "2020-12-14T00:00:00"
          ],
          [
           "Pho Noodle House, The",
           "73%",
           "609 CLAYTON LN",
           "2020-12-16T00:00:00"
          ],
          [
           "Circle K #2741301",
           "92%",
           "1310 W HOWARD LN",
           "2020-12-22T00:00:00"
          ],
          [
           "Chick-fil-A",
           "99%",
           "503 W MARTIN LUTHER KING JR BLVD",
           "2020-12-18T00:00:00"
          ],
          [
           "BC - Rosie's Tamale House",
           "80%",
           "13436 W SH",
           "2020-12-02T00:00:00"
          ],
          [
           "MN - Shipley Donuts",
           "83%",
           "11300 E US 290 HWY",
           "2020-12-04T00:00:00"
          ],
          [
           "Insomnia Cookies",
           "96%",
           "2323 SAN ANTONIO ST",
           "2020-12-02T00:00:00"
          ],
          [
           "Miraval Resort & Spa",
           "89%",
           "13500 FM 2769 RD",
           "2020-12-17T00:00:00"
          ],
          [
           "LeRoy and Lewis BBQ",
           "93%",
           "630 RALPH ABLANEDO DR",
           "2020-12-17T00:00:00"
          ],
          [
           "Paper Route Bakery",
           "100%",
           "1010 E CESAR CHAVEZ ST",
           "2020-12-21T00:00:00"
          ],
          [
           "Asahi Imports",
           "85%",
           "6105 BURNET RD",
           "2020-12-11T00:00:00"
          ],
          [
           "Danelia Rogel Fruit Cup Shop LLC",
           "72%",
           "704 E ST JOHNS AVE",
           "2020-12-09T00:00:00"
          ],
          [
           "Whataburger #481",
           "100%",
           "11135 N IH",
           "2020-12-18T00:00:00"
          ],
          [
           "Paperboy",
           "92%",
           "1203 E 11TH ST",
           "2020-12-21T00:00:00"
          ],
          [
           "Jaime D. Padron Elementary",
           "100%",
           "2011 W RUNDBERG LN",
           "2020-12-16T00:00:00"
          ],
          [
           "IHOP",
           "98%",
           "11654 RESEARCH BLVD",
           "2020-12-02T00:00:00"
          ],
          [
           "Dairy Queen",
           "95%",
           "13301 N US 183 HWY",
           "2020-12-08T00:00:00"
          ],
          [
           "Whataburger",
           "99%",
           "2800 GUADALUPE ST",
           "2020-12-22T00:00:00"
          ],
          [
           "LW- HEB 714",
           "90%",
           "2000 S FM 620 RD",
           "2020-12-21T00:00:00"
          ],
          [
           "Daily Food Store",
           "92%",
           "1071 SPRINGDALE RD",
           "2020-12-14T00:00:00"
          ],
          [
           "Tienda Mexicana",
           "92%",
           "825 E RUNDBERG LN",
           "2020-12-11T00:00:00"
          ],
          [
           "Gong Cha",
           "83%",
           "13201 N FM 620 RD",
           "2020-12-01T00:00:00"
          ],
          [
           "Betos #2  Mexican Restaurant",
           "70%",
           "3306 OAK SPRINGS DR",
           "2020-12-11T00:00:00"
          ],
          [
           "Tokyo Gardens Catering",
           "100%",
           "1434 W WELLS BRANCH PKWY",
           "2020-12-11T00:00:00"
          ],
          [
           "Food Basket #7",
           "88%",
           "2015 W PARMER LN",
           "2020-12-22T00:00:00"
          ],
          [
           "Brookdale Beckett Meadows",
           "78%",
           "7709 BECKETT RD",
           "2020-12-16T00:00:00"
          ],
          [
           "Boston Market #1981",
           "80%",
           "4607 W BRAKER LN",
           "2020-12-16T00:00:00"
          ],
          [
           "Omni Barton Creek",
           "90%",
           "8501 CARRANZO DR",
           "2020-12-10T00:00:00"
          ],
          [
           "Las Lomas Mexican Restaurant",
           "73%",
           "730 W STASSNEY LN",
           "2020-12-16T00:00:00"
          ],
          [
           "H & C Food Service",
           "79%",
           "1914 GUADALUPE ST",
           "2020-12-07T00:00:00"
          ],
          [
           "BC - Spec's Wine, Spirits & Finer Foods",
           "100%",
           "13015 SHOPS PKWY",
           "2020-12-03T00:00:00"
          ],
          [
           "Austin Eastciders Barton Springs",
           "89%",
           "1530 BARTON SPRINGS RD",
           "2020-12-03T00:00:00"
          ],
          [
           "Pappadeaux Seafood Kitchen #3",
           "94%",
           "6319 N IH",
           "2020-12-11T00:00:00"
          ],
          [
           "Galaxy Cafe",
           "97%",
           "1000 WEST LYNN ST",
           "2020-12-07T00:00:00"
          ],
          [
           "Bread Basket",
           "81%",
           "2213 JUSTIN LN",
           "2020-12-04T00:00:00"
          ],
          [
           "MOD Superfast Pizza",
           "97%",
           "1920 E RIVERSIDE DR",
           "2020-12-22T00:00:00"
          ],
          [
           "Whataburger",
           "99%",
           "1616 E OLTORF ST",
           "2020-12-04T00:00:00"
          ],
          [
           "Pillow Elementary",
           "99%",
           "3025 CROSSCREEK DR",
           "2020-12-16T00:00:00"
          ],
          [
           "7 Eleven # 36610A",
           "89%",
           "2616 W BRAKER LN",
           "2020-12-21T00:00:00"
          ],
          [
           "Bungalow",
           "100%",
           "92 RAINEY ST",
           "2020-12-05T00:00:00"
          ],
          [
           "Einstein Bros Bagels #3111",
           "92%",
           "3010 W ANDERSON LN",
           "2020-12-08T00:00:00"
          ],
          [
           "House of Little Angels",
           "96%",
           "735 TURTLE CREEK BLVD",
           "2020-12-04T00:00:00"
          ],
          [
           "MN - Dollar General #6946",
           "86%",
           "12750 LAPOYNOR ST",
           "2020-12-09T00:00:00"
          ],
          [
           "Ben White Shell",
           "83%",
           "2125 W BEN WHITE BLVD",
           "2020-12-23T00:00:00"
          ],
          [
           "Mathews Elementary School",
           "100%",
           "906 WEST LYNN ST",
           "2020-12-10T00:00:00"
          ],
          [
           "TLC",
           "90%",
           "1100 S LAMAR BLVD",
           "2020-12-03T00:00:00"
          ],
          [
           "Randalls 2480 Bakery",
           "96%",
           "6600 S MOPAC EXPY",
           "2020-12-22T00:00:00"
          ],
          [
           "Clifton Center",
           "97%",
           "1519 CORONADO HILLS DR",
           "2020-12-11T00:00:00"
          ],
          [
           "Southside Flying Pizza - Arcade and Grill",
           "85%",
           "11600 MANCHACA RD",
           "2020-12-21T00:00:00"
          ],
          [
           "Gonzalo Garza Independence H S",
           "96%",
           "1600 CHICON ST",
           "2020-12-16T00:00:00"
          ],
          [
           "Whataburger #1022",
           "94%",
           "8300 N FM 620 RD",
           "2020-12-14T00:00:00"
          ],
          [
           "Vaquero Taquero",
           "90%",
           "104 E 31ST ST",
           "2020-12-08T00:00:00"
          ],
          [
           "BC - Falconhead Golf Club",
           "95%",
           "15201 FALCON HEAD BLVD",
           "2020-12-02T00:00:00"
          ],
          [
           "Popeye's #325 - Z & H Foods Inc.",
           "90%",
           "2320 E RIVERSIDE DR",
           "2020-12-22T00:00:00"
          ],
          [
           "Aviator Pizza & Drafthouse",
           "90%",
           "4005 W PARMER LN",
           "2020-12-01T00:00:00"
          ],
          [
           "OOB - Sonic Drive In",
           "71%",
           "6816 MC NEIL DR",
           "2020-12-08T00:00:00"
          ],
          [
           "Target Store T2288 -Grocery",
           "96%",
           "9500 S IH",
           "2020-12-07T00:00:00"
          ],
          [
           "Marbridge Found-Senior Dorm",
           "94%",
           "2310 BLISS SPILLAR RD",
           "2020-12-02T00:00:00"
          ],
          [
           "MN - Wendy's",
           "97%",
           "11808 RING DR",
           "2020-12-09T00:00:00"
          ],
          [
           "Westminster Manor",
           "86%",
           "4100 JACKSON AVE",
           "2020-12-01T00:00:00"
          ],
          [
           "Canteen @ Corning Optical Communications",
           "100%",
           "8201 N FM 620 RD",
           "2020-12-14T00:00:00"
          ],
          [
           "PF - Papa John's #1127",
           "90%",
           "900 E PECAN",
           "2020-12-17T00:00:00"
          ],
          [
           "Sonic Drive-In, Austin, North Lamar, LP",
           "93%",
           "9325 N LAMAR BLVD",
           "2020-12-17T00:00:00"
          ],
          [
           "People's Pharmacy",
           "93%",
           "4201 WESTBANK DR",
           "2020-12-08T00:00:00"
          ],
          [
           "Pizza Press, The",
           "87%",
           "404 W 26TH ST",
           "2020-12-15T00:00:00"
          ],
          [
           "Randall's #2480-Retail",
           "93%",
           "6600 S MOPAC EXPY",
           "2020-12-22T00:00:00"
          ],
          [
           "Bee Grocery, The",
           "88%",
           "1001 E 6TH ST",
           "2020-12-23T00:00:00"
          ],
          [
           "KIPP Austin Arts & Letters",
           "98%",
           "8509 FM 969 RD",
           "2020-12-04T00:00:00"
          ],
          [
           "Central District Brewing",
           "96%",
           "417 RED RIVER ST",
           "2020-12-07T00:00:00"
          ],
          [
           "BC - All Star Burger",
           "88%",
           "12921 HILL COUNTRY BLVD",
           "2020-12-03T00:00:00"
          ],
          [
           "Rudy's Country Store & BBQ",
           "96%",
           "3914 N LAMAR BLVD",
           "2020-12-09T00:00:00"
          ],
          [
           "Challenger School",
           "100%",
           "13015 POND SPRINGS RD",
           "2020-12-08T00:00:00"
          ],
          [
           "Little Caesars Pizza",
           "95%",
           "2601 E 7TH ST",
           "2020-12-16T00:00:00"
          ],
          [
           "MN-Country Boyz Fixins",
           "88%",
           "101 N LEXINGTON ST",
           "2020-12-04T00:00:00"
          ],
          [
           "League, The",
           "80%",
           "10526 W PARMER LN",
           "2020-12-21T00:00:00"
          ],
          [
           "Shipley's Donuts",
           "94%",
           "1045 NORWOOD PARK BLVD",
           "2020-12-10T00:00:00"
          ],
          [
           "Austin Catering",
           "97%",
           "2700 W ANDERSON LN",
           "2020-12-10T00:00:00"
          ],
          [
           "Big Easy Bar and Grill",
           "92%",
           "1806 E 12TH ST",
           "2020-12-02T00:00:00"
          ],
          [
           "Smoothie King",
           "97%",
           "4301 W WILLIAM CANNON DR",
           "2020-12-04T00:00:00"
          ],
          [
           "Rusty Cannon Pub",
           "79%",
           "730 W STASSNEY LN",
           "2020-12-18T00:00:00"
          ],
          [
           "Magellan International School, The",
           "100%",
           "7130 CHIMNEY CORNERS",
           "2020-12-01T00:00:00"
          ],
          [
           "Barnison Catering",
           "100%",
           "2614 EXPOSITION BLVD",
           "2020-12-03T00:00:00"
          ],
          [
           "Twin Liquors #44",
           "97%",
           "4001 S LAMAR BLVD",
           "2020-12-23T00:00:00"
          ],
          [
           "Wal-Mart Supercenter Deli/Bakery #5317",
           "97%",
           "9300 S IH",
           "2020-12-21T00:00:00"
          ],
          [
           "7-Eleven Convenience Store #36263B",
           "91%",
           "3801 W PARMER LN",
           "2020-12-23T00:00:00"
          ],
          [
           "Walgreen #4458",
           "98%",
           "3601 W WILLIAM CANNON DR",
           "2020-12-22T00:00:00"
          ],
          [
           "Fresh Plus",
           "83%",
           "2401 SAN GABRIEL ST",
           "2020-12-22T00:00:00"
          ],
          [
           "Erica Nelson Brown Catering",
           "100%",
           "12800 GALLERIA CIR",
           "2020-12-07T00:00:00"
          ],
          [
           "LW - Jason's Deli",
           "89%",
           "1504 S FM 620 RD",
           "2020-12-02T00:00:00"
          ],
          [
           "Tortilleria Rio Grande",
           "80%",
           "500 W WILLIAM CANNON DR",
           "2020-12-18T00:00:00"
          ],
          [
           "Foodheads",
           "92%",
           "616 W 34TH ST",
           "2020-12-17T00:00:00"
          ],
          [
           "Lamppost Coffee",
           "94%",
           "515 CONGRESS AVE",
           "2020-12-04T00:00:00"
          ],
          [
           "Susy's Child Care",
           "87%",
           "308 W WILLIAM CANNON DR",
           "2020-12-04T00:00:00"
          ],
          [
           "LW - Lakeway Market",
           "80%",
           "2114 LAKEWAY BLVD",
           "2020-12-02T00:00:00"
          ],
          [
           "Home 2 Suites by Hilton",
           "96%",
           "1705 AIRPORT COMMERCE DR",
           "2020-12-17T00:00:00"
          ],
          [
           "Upper Crust Bakery",
           "90%",
           "4508 BURNET RD",
           "2020-12-18T00:00:00"
          ],
          [
           "Star Stop 74",
           "96%",
           "2819 GUADALUPE ST",
           "2020-12-03T00:00:00"
          ],
          [
           "LW - Sakura Sushi & Bar",
           "70%",
           "1945 MEDICAL DR",
           "2020-12-21T00:00:00"
          ],
          [
           "Staybridge Suites Austin South Interstate 35",
           "97%",
           "901 LITTLE TEXAS LN",
           "2020-12-10T00:00:00"
          ],
          [
           "Respite Recovery",
           "95%",
           "403 E 15TH ST",
           "2020-12-03T00:00:00"
          ],
          [
           "Lavallarta Restaurant",
           "88%",
           "6628 S CONGRESS AVE",
           "2020-12-07T00:00:00"
          ],
          [
           "P F Chang's To Go - Mix on Burnet",
           "96%",
           "8023 BURNET RD",
           "2020-12-22T00:00:00"
          ],
          [
           "Alternative Learning Center School",
           "99%",
           "4900 GONZALES ST",
           "2020-12-07T00:00:00"
          ],
          [
           "Paleface Grocery",
           "89%",
           "23526 W SH",
           "2020-12-07T00:00:00"
          ],
          [
           "Graceland Grocery",
           "97%",
           "8600 W US 290 HWY",
           "2020-12-08T00:00:00"
          ],
          [
           "Casa Linda Taqueria",
           "94%",
           "623 W DITTMAR RD",
           "2020-12-10T00:00:00"
          ],
          [
           "Jimmy John's Gourmet Sandwiches",
           "97%",
           "13429 N US 183 HWY",
           "2020-12-10T00:00:00"
          ],
          [
           "Children's Courtyard",
           "90%",
           "11718 METRIC BLVD",
           "2020-12-22T00:00:00"
          ],
          [
           "Sun Ray Waters",
           "98%",
           "7801 N LAMAR BLVD",
           "2020-12-21T00:00:00"
          ],
          [
           "7-Eleven #36562H",
           "90%",
           "6422 S US 183 HWY",
           "2020-12-17T00:00:00"
          ],
          [
           "Amy's Ice Cream",
           "94%",
           "3500 GUADALUPE ST",
           "2020-12-07T00:00:00"
          ],
          [
           "Church's Chicken Store No. 765",
           "87%",
           "8545 RESEARCH BLVD",
           "2020-12-11T00:00:00"
          ],
          [
           "Taco Bell #030157",
           "96%",
           "1016 E ANDERSON LN",
           "2020-12-10T00:00:00"
          ],
          [
           "Lamar Middle School",
           "99%",
           "6201 WYNONA AVE",
           "2020-12-04T00:00:00"
          ],
          [
           "Fast Food Store",
           "81%",
           "4611 E MARTIN LUTHER KING JR BLVD",
           "2020-12-21T00:00:00"
          ],
          [
           "MTM Indian Foods",
           "90%",
           "9225 W PARMER LN",
           "2020-12-21T00:00:00"
          ],
          [
           "PF - HEB Food Store #479 (Bakery)",
           "97%",
           "201 N FM",
           "2020-12-15T00:00:00"
          ],
          [
           "Subway",
           "90%",
           "6001 W PARMER LN",
           "2020-12-22T00:00:00"
          ],
          [
           "China Steakhouse",
           "96%",
           "15511 W SH",
           "2020-12-14T00:00:00"
          ],
          [
           "Bricker Food and Beverage",
           "98%",
           "630 RALPH ABLANEDO DR",
           "2020-12-17T00:00:00"
          ],
          [
           "Taco Shack",
           "93%",
           "2825 GUADALUPE ST",
           "2020-12-08T00:00:00"
          ],
          [
           "Chipotle Mexican Grill #3328",
           "99%",
           "1109 E 5TH ST",
           "2020-12-11T00:00:00"
          ],
          [
           "Royal Blue Grocery",
           "96%",
           "301 BRAZOS ST",
           "2020-12-08T00:00:00"
          ],
          [
           "Whataburger #132",
           "96%",
           "9516 N LAMAR BLVD",
           "2020-12-23T00:00:00"
          ],
          [
           "BC-Hill Country Indoor",
           "96%",
           "13875 BEE CAVE PKWY",
           "2020-12-04T00:00:00"
          ],
          [
           "District",
           "71%",
           "5900 W SLAUGHTER LN",
           "2020-12-11T00:00:00"
          ],
          [
           "Stepping Stone School",
           "77%",
           "6616 MC NEIL DR",
           "2020-12-01T00:00:00"
          ],
          [
           "Little Darlin', The",
           "80%",
           "6507 CIRCLE S RD",
           "2020-12-17T00:00:00"
          ],
          [
           "Las Mangonadas",
           "91%",
           "1144 AIRPORT BLVD",
           "2020-12-21T00:00:00"
          ],
          [
           "Madam Mam",
           "92%",
           "510 W 26TH ST",
           "2020-12-17T00:00:00"
          ],
          [
           "LW - Little Sunshine's Playhouse & Preschool",
           "98%",
           "1501 LOHMANS CROSSING RD",
           "2020-12-23T00:00:00"
          ],
          [
           "Mariana's Kitchen",
           "90%",
           "5510 S IH",
           "2020-12-16T00:00:00"
          ],
          [
           "Pizza Hut",
           "87%",
           "8500 N LAMAR BLVD",
           "2020-12-04T00:00:00"
          ],
          [
           "BC - CVS/ Pharmacy # 8925",
           "98%",
           "14057 BEE CAVE PKWY",
           "2020-12-03T00:00:00"
          ],
          [
           "Fujiyama",
           "97%",
           "4815 W BRAKER LN",
           "2020-12-15T00:00:00"
          ],
          [
           "Braker Food Mart",
           "87%",
           "11300 N IH",
           "2020-12-09T00:00:00"
          ],
          [
           "Subway 66727",
           "94%",
           "8906 BRODIE LN",
           "2020-12-15T00:00:00"
          ],
          [
           "La Quinta Inn #0522",
           "94%",
           "1603 E OLTORF ST",
           "2020-12-18T00:00:00"
          ],
          [
           "Las Delicias Meat Market-Kitchen",
           "75%",
           "111 W WILLIAM CANNON DR",
           "2020-12-07T00:00:00"
          ],
          [
           "Shipley Donuts",
           "88%",
           "2113 W ANDERSON LN",
           "2020-12-15T00:00:00"
          ],
          [
           "MN - Taqueria La Parrillita",
           "98%",
           "10400 E US 290 HWY",
           "2020-12-17T00:00:00"
          ],
          [
           "Lone Star Kolaches",
           "83%",
           "1701 W PARMER LN",
           "2020-12-21T00:00:00"
          ],
          [
           "Austin's Moontower Saloon",
           "100%",
           "10212 MANCHACA RD",
           "2020-12-22T00:00:00"
          ],
          [
           "Austin's Pizza #7",
           "92%",
           "10900 RESEARCH BLVD",
           "2020-12-17T00:00:00"
          ],
          [
           "Four Brothers",
           "93%",
           "2901 S CAPITAL OF TEXAS HWY",
           "2020-12-09T00:00:00"
          ],
          [
           "PF - Eden Cafe",
           "76%",
           "15803 WINDERMERE DR",
           "2020-12-01T00:00:00"
          ],
          [
           "PF - HEB Food Store #479 (Deli)",
           "95%",
           "201 N FM",
           "2020-12-15T00:00:00"
          ],
          [
           "LW - Sandeez Hamburger Hut",
           "86%",
           "113 N FM 620 RD",
           "2020-12-03T00:00:00"
          ],
          [
           "Barton Hills Elementary",
           "98%",
           "2108 BARTON HILLS DR",
           "2020-12-15T00:00:00"
          ],
          [
           "Abacus School of Austin",
           "91%",
           "14115 AVERY RANCH BLVD",
           "2020-12-10T00:00:00"
          ],
          [
           "Escarpment Exxon",
           "93%",
           "6109 W WILLIAM CANNON DR",
           "2020-12-01T00:00:00"
          ],
          [
           "Wal-Mart Supercenter #1253",
           "99%",
           "710 E BEN WHITE BLVD",
           "2020-12-15T00:00:00"
          ],
          [
           "Eskimo Hut Beer-Wine-Frozen Daquiris to Go",
           "100%",
           "1045 NORWOOD PARK BLVD",
           "2020-12-10T00:00:00"
          ],
          [
           "Hunan Ranch",
           "80%",
           "14900 AVERY RANCH BLVD",
           "2020-12-07T00:00:00"
          ],
          [
           "Cedar Creek Elem. School",
           "98%",
           "3301 PINNACLE RD",
           "2020-12-16T00:00:00"
          ],
          [
           "Nueces Mart",
           "95%",
           "2700 NUECES ST",
           "2020-12-15T00:00:00"
          ],
          [
           "Hardin House",
           "94%",
           "2206 RIO GRANDE ST",
           "2020-12-07T00:00:00"
          ],
          [
           "Austin Montessori School, Inc",
           "99%",
           "6819 GREAT NORTHERN BLVD",
           "2020-12-17T00:00:00"
          ],
          [
           "El Tacorrido",
           "92%",
           "5811 BERKMAN DR",
           "2020-12-18T00:00:00"
          ],
          [
           "BC - Sonesta Bee Cave",
           "90%",
           "12525 BEE CAVE PKWY",
           "2020-12-15T00:00:00"
          ],
          [
           "7-Eleven Convenience Store #36680A",
           "91%",
           "3848 AIRPORT BLVD",
           "2020-12-18T00:00:00"
          ],
          [
           "La Michoacana Meat Market",
           "89%",
           "9811 N IH",
           "2020-12-09T00:00:00"
          ],
          [
           "Julie Myrtille Bakery",
           "88%",
           "1023 SPRINGDALE RD",
           "2020-12-02T00:00:00"
          ],
          [
           "Twin Lion Chinese Restaurant",
           "92%",
           "4815 W BRAKER LN",
           "2020-12-02T00:00:00"
          ],
          [
           "Bridgepoint Elem School",
           "96%",
           "6401 CEDAR ST",
           "2020-12-16T00:00:00"
          ],
          [
           "Courtesy Shell #2",
           "90%",
           "3906 S CONGRESS AVE",
           "2020-12-14T00:00:00"
          ],
          [
           "Austin Diner",
           "82%",
           "5222 BURNET RD",
           "2020-12-03T00:00:00"
          ],
          [
           "Galindo Elementary",
           "98%",
           "3800 S 2ND ST",
           "2020-12-15T00:00:00"
          ],
          [
           "Pi Beta Phi Sorority",
           "93%",
           "2300 SAN ANTONIO ST",
           "2020-12-14T00:00:00"
          ],
          [
           "Omni Austin",
           "94%",
           "701 BRAZOS ST",
           "2020-12-15T00:00:00"
          ],
          [
           "Snack Max",
           "85%",
           "5630 N LAMAR BLVD",
           "2020-12-17T00:00:00"
          ],
          [
           "Jack in the Box #907",
           "88%",
           "1151 AIRPORT BLVD",
           "2020-12-18T00:00:00"
          ],
          [
           "The Gossip Shack 2",
           "89%",
           "1615 GRAND AVENUE PKWY",
           "2020-12-01T00:00:00"
          ],
          [
           "HEB #236",
           "98%",
           "1434 W WELLS BRANCH PKWY",
           "2020-12-11T00:00:00"
          ],
          [
           "Las Palomas",
           "84%",
           "3201 BEE CAVES RD",
           "2020-12-08T00:00:00"
          ],
          [
           "Champ's Food Mart",
           "96%",
           "2433 S PLEASANT VALLEY RD",
           "2020-12-17T00:00:00"
          ],
          [
           "Wheatsville Food Co-Op",
           "97%",
           "4001 S LAMAR BLVD",
           "2020-12-14T00:00:00"
          ],
          [
           "Smokey Denmark Sausage",
           "97%",
           "3505 E 5TH ST",
           "2020-12-15T00:00:00"
          ],
          [
           "Viva Food Mart - Taqueria",
           "85%",
           "8610 N LAMAR BLVD",
           "2020-12-15T00:00:00"
          ],
          [
           "Dia's Market",
           "77%",
           "812 JUSTIN LN",
           "2020-12-07T00:00:00"
          ],
          [
           "Starbucks Coffee #6470",
           "95%",
           "1001 CONGRESS AVE",
           "2020-12-01T00:00:00"
          ],
          [
           "Hudson Bend Grocery",
           "97%",
           "5001 HUDSON BEND RD",
           "2020-12-10T00:00:00"
          ],
          [
           "PF - Rio Grande Tex Mex",
           "86%",
           "15821 CENTRAL COMMERCE DR",
           "2020-12-15T00:00:00"
          ],
          [
           "Wal-Mart Deli & Bakery",
           "93%",
           "710 E BEN WHITE BLVD",
           "2020-12-15T00:00:00"
          ],
          [
           "New Generation Daycare",
           "92%",
           "2606 S 1ST ST",
           "2020-12-22T00:00:00"
          ],
          [
           "Wendy's Old Fashioned Hamburgers #116",
           "95%",
           "2224 E RIVERSIDE DR",
           "2020-12-10T00:00:00"
          ],
          [
           "Wingstop #164",
           "93%",
           "2410 E RIVERSIDE DR",
           "2020-12-07T00:00:00"
          ],
          [
           "Mom's Convenience Store, Inc.",
           "93%",
           "10900 W US 290 HWY",
           "2020-12-08T00:00:00"
          ],
          [
           "Coco's Cafe",
           "94%",
           "8557 RESEARCH BLVD",
           "2020-12-21T00:00:00"
          ],
          [
           "Wing Daddy's Sauce House",
           "75%",
           "9811 S IH",
           "2020-12-16T00:00:00"
          ],
          [
           "BC - Madam Mam's Thai Cuisine",
           "78%",
           "3929 MARKET ST",
           "2020-12-03T00:00:00"
          ],
          [
           "PF - Morelia Mexican Grill",
           "72%",
           "18900 LIMESTONE COMMERCIAL DR",
           "2020-12-16T00:00:00"
          ],
          [
           "Howdy Donut",
           "97%",
           "10815 FM 2222 RD",
           "2020-12-03T00:00:00"
          ],
          [
           "PF - Los Amigos Market (Meat)",
           "90%",
           "15812 WINDERMERE DR",
           "2020-12-01T00:00:00"
          ],
          [
           "Zachary Scott Theatre",
           "100%",
           "1510 TOOMEY RD",
           "2020-12-10T00:00:00"
          ],
          [
           "Austin Recovery Inc.",
           "96%",
           "13207 WRIGHT RD",
           "2020-12-08T00:00:00"
          ],
          [
           "BC - Maudie's Hill Country LLC",
           "84%",
           "12506 SHOPS PKWY",
           "2020-12-02T00:00:00"
          ],
          [
           "7 - Eleven # 23807B",
           "99%",
           "6306 MANCHACA RD",
           "2020-12-18T00:00:00"
          ],
          [
           "Dell Seton Medical Center at the University of Texas",
           "90%",
           "1500 RED RIVER ST",
           "2020-12-03T00:00:00"
          ],
          [
           "Home of Southern Hospitality LLC",
           "86%",
           "5000 SHOALWOOD AVE",
           "2020-12-01T00:00:00"
          ],
          [
           "BC - Yaghi's New York Pizzeria",
           "91%",
           "12400 W SH",
           "2020-12-01T00:00:00"
          ],
          [
           "Kinder Care #155",
           "97%",
           "610 EMERALD WOOD DR",
           "2020-12-02T00:00:00"
          ],
          [
           "Central Market: Deli/Bakery/Produce",
           "97%",
           "4477 S LAMAR BLVD",
           "2020-12-02T00:00:00"
          ],
          [
           "Nurturing Child Care Center",
           "90%",
           "1054 SPRINGDALE RD",
           "2020-12-15T00:00:00"
          ],
          [
           "Julio's Restaurant, Inc.",
           "94%",
           "4230 DUVAL ST",
           "2020-12-01T00:00:00"
          ],
          [
           "Sleep Inn & Suites",
           "98%",
           "14004 OWEN TECH BLVD",
           "2020-12-21T00:00:00"
          ],
          [
           "Poco Loco Supermercado - Deli & Bakery",
           "81%",
           "611 W BEN WHITE BLVD",
           "2020-12-10T00:00:00"
          ],
          [
           "Chi'Lantro - Parmer",
           "96%",
           "6301 W PARMER LN",
           "2020-12-14T00:00:00"
          ],
          [
           "Blue Star Alkaline Water Store",
           "100%",
           "1154 ANGELINA ST",
           "2020-12-23T00:00:00"
          ],
          [
           "Domino's Pizza",
           "97%",
           "10001 S IH",
           "2020-12-08T00:00:00"
          ],
          [
           "Asian American Cultural Center",
           "90%",
           "11713 JOLLYVILLE RD",
           "2020-12-15T00:00:00"
          ],
          [
           "Tic Tac Toe",
           "92%",
           "2003 W ANDERSON LN",
           "2020-12-10T00:00:00"
          ],
          [
           "Lost Creek Ctry Club Snack Bar",
           "99%",
           "2612 LOST CREEK BLVD",
           "2020-12-16T00:00:00"
          ],
          [
           "Accent Food Services",
           "98%",
           "5501 AIRPORT BLVD",
           "2020-12-22T00:00:00"
          ],
          [
           "Master Donuts",
           "81%",
           "1725 E RIVERSIDE DR",
           "2020-12-10T00:00:00"
          ],
          [
           "Cost Plus World Market #74",
           "93%",
           "9333 RESEARCH BLVD",
           "2020-12-17T00:00:00"
          ],
          [
           "My Friends House Child Care",
           "100%",
           "7050 VILLAGE CENTER DR",
           "2020-12-14T00:00:00"
          ],
          [
           "Riverside Golf Course",
           "92%",
           "1020 GROVE BLVD",
           "2020-12-16T00:00:00"
          ],
          [
           "Chick-Fil-A",
           "98%",
           "161 W SLAUGHTER LN",
           "2020-12-17T00:00:00"
          ],
          [
           "BC - Snack Max # 6",
           "75%",
           "13006 W SH",
           "2020-12-03T00:00:00"
          ],
          [
           "Short Stop #5",
           "84%",
           "3001 W ANDERSON LN",
           "2020-12-14T00:00:00"
          ],
          [
           "IDEA Public Schools - Rundberg",
           "93%",
           "700 SHOWPLACE LN",
           "2020-12-08T00:00:00"
          ],
          [
           "Burnet Jr. High",
           "97%",
           "8401 HATHAWAY DR",
           "2020-12-16T00:00:00"
          ],
          [
           "Taco Bell #30099",
           "100%",
           "7793 BURNET RD",
           "2020-12-22T00:00:00"
          ],
          [
           "Sushi Japon Steak House",
           "77%",
           "807 CAMINO LA",
           "2020-12-16T00:00:00"
          ],
          [
           "BC-Marble Slab /Great American Cookies",
           "95%",
           "12717 SHOPS PKWY",
           "2020-12-03T00:00:00"
          ],
          [
           "Riverbend Church",
           "88%",
           "4214 N CAPITAL OF TEXAS HWY",
           "2020-12-21T00:00:00"
          ],
          [
           "JuiceLand Dom",
           "96%",
           "3120 PALM WAY",
           "2020-12-21T00:00:00"
          ],
          [
           "Child's Day Child Development Center",
           "100%",
           "2525 WALLINGWOOD DR",
           "2020-12-21T00:00:00"
          ],
          [
           "Fairfield Inn and Suites Austin NW/Research",
           "94%",
           "13087 N US 183 HWY",
           "2020-12-22T00:00:00"
          ],
          [
           "WL - Randall's #2477-Starbucks",
           "100%",
           "3300 BEE CAVES RD",
           "2020-12-07T00:00:00"
          ],
          [
           "RW - Panera Bread Bakery and Cafe",
           "86%",
           "2805 BEE CAVES RD",
           "2020-12-16T00:00:00"
          ],
          [
           "Rudy's Country Store",
           "95%",
           "11570 RESEARCH BLVD",
           "2020-12-10T00:00:00"
          ],
          [
           "WL - Maryes Gourmet Pizza",
           "93%",
           "3663 BEE CAVES RD",
           "2020-12-07T00:00:00"
          ],
          [
           "Salvation Pizza",
           "73%",
           "11501 ROCK ROSE AVE",
           "2020-12-22T00:00:00"
          ],
          [
           "Randalls 2480 Deli",
           "98%",
           "6600 S MOPAC EXPY",
           "2020-12-22T00:00:00"
          ],
          [
           "MN - McDonald's of Manor",
           "89%",
           "12609 LEXINGTON ST",
           "2020-12-09T00:00:00"
          ],
          [
           "Dry Creek Shell",
           "89%",
           "3800 DRY CREEK DR",
           "2020-12-15T00:00:00"
          ],
          [
           "Nordstrom's Cafe Bistro",
           "92%",
           "2901 S CAPITAL OF TEXAS HWY",
           "2020-12-22T00:00:00"
          ],
          [
           "Super 8 Capitol Downtown",
           "96%",
           "1201 N IH",
           "2020-12-14T00:00:00"
          ],
          [
           "La Sabrocita Restaurant & Tortilleria",
           "91%",
           "850 E RUNDBERG LN",
           "2020-12-09T00:00:00"
          ],
          [
           "Moms 6",
           "90%",
           "6301 E RIVERSIDE DR",
           "2020-12-18T00:00:00"
          ],
          [
           "Highway Food Mart",
           "79%",
           "4535 E SH",
           "2020-12-17T00:00:00"
          ],
          [
           "Teapioca Lounge",
           "98%",
           "1700 W PARMER LN",
           "2020-12-22T00:00:00"
          ],
          [
           "Ashley's Playhouse",
           "100%",
           "13343 N US 183 HWY",
           "2020-12-08T00:00:00"
          ],
          [
           "Capt Benny's Seafood",
           "90%",
           "5700 N IH",
           "2020-12-01T00:00:00"
          ],
          [
           "Wendy's #W129/11274",
           "90%",
           "10701 RESEARCH BLVD",
           "2020-12-23T00:00:00"
          ],
          [
           "Kid Spa Austin",
           "94%",
           "12809 N FM 620 RD",
           "2020-12-14T00:00:00"
          ],
          [
           "Panera Bread",
           "82%",
           "4625 W WILLIAM CANNON DR",
           "2020-12-11T00:00:00"
          ],
          [
           "The Carpenter Hotel",
           "96%",
           "400 JOSEPHINE ST",
           "2020-12-03T00:00:00"
          ],
          [
           "Honest Mary's",
           "86%",
           "4800 BURNET RD",
           "2020-12-17T00:00:00"
          ],
          [
           "Chinatown Restaurant",
           "71%",
           "3407 GREYSTONE DR",
           "2020-12-01T00:00:00"
          ],
          [
           "Ann Richards School For Girls",
           "99%",
           "2206 PRATHER LN",
           "2020-12-16T00:00:00"
          ],
          [
           "Short Stop",
           "83%",
           "6920 MANCHACA RD",
           "2020-12-01T00:00:00"
          ],
          [
           "Subs-N-More / AM Petroleum",
           "86%",
           "3926 ED BLUESTEIN BLVD",
           "2020-12-04T00:00:00"
          ],
          [
           "Northland Shell",
           "81%",
           "3310 NORTHLAND DR",
           "2020-12-09T00:00:00"
          ],
          [
           "Subway",
           "90%",
           "4410 E RIVERSIDE DR",
           "2020-12-23T00:00:00"
          ],
          [
           "Austin Ice",
           "100%",
           "1 2 8512 N LAMAR BLVD",
           "2020-12-09T00:00:00"
          ],
          [
           "Sugar Pine",
           "86%",
           "8578 RESEARCH BLVD",
           "2020-12-15T00:00:00"
          ],
          [
           "Austin Ridge Bible Church",
           "96%",
           "9300 FM 2244 RD",
           "2020-12-14T00:00:00"
          ],
          [
           "Canteen @ Dell Seton Medical Center",
           "100%",
           "1500 RED RIVER ST",
           "2020-12-03T00:00:00"
          ],
          [
           "MN-Libation Station",
           "100%",
           "201 E PARSONS ST",
           "2020-12-04T00:00:00"
          ],
          [
           "Cannon Coffee",
           "95%",
           "1901 W WILLIAM CANNON DR",
           "2020-12-03T00:00:00"
          ],
          [
           "Camino Real Restaurant",
           "95%",
           "8650 SPICEWOOD SPRINGS RD",
           "2020-12-03T00:00:00"
          ],
          [
           "Biderman's Deli, LLC",
           "94%",
           "3742 FAR WEST BLVD",
           "2020-12-17T00:00:00"
          ],
          [
           "Ken's Subs, Tacos and More",
           "86%",
           "9408 DESSAU RD",
           "2020-12-07T00:00:00"
          ],
          [
           "PD Thai Cuisine",
           "90%",
           "3208 GUADALUPE ST",
           "2020-12-14T00:00:00"
          ],
          [
           "Schlotzsky's Deli",
           "95%",
           "111 W WILLIAM CANNON DR",
           "2020-12-14T00:00:00"
          ],
          [
           "BC - Edible Arrangements #1705",
           "97%",
           "11905 FM 2244 RD",
           "2020-12-02T00:00:00"
          ],
          [
           "Bread Basket",
           "88%",
           "11410 MANCHACA RD",
           "2020-12-14T00:00:00"
          ],
          [
           "Thundercloud Subs",
           "88%",
           "2801 S LAMAR BLVD",
           "2020-12-08T00:00:00"
          ],
          [
           "BC - HEB Food Store #404",
           "91%",
           "12400 W SH",
           "2020-12-01T00:00:00"
          ],
          [
           "House of Three Gorges",
           "70%",
           "8557 RESEARCH BLVD",
           "2020-12-17T00:00:00"
          ],
          [
           "Yummi Taco",
           "90%",
           "12518 RESEARCH BLVD",
           "2020-12-07T00:00:00"
          ],
          [
           "Austin High School",
           "95%",
           "1715 W CESAR CHAVEZ ST",
           "2020-12-10T00:00:00"
          ],
          [
           "Mi Ranchito Taqueria",
           "96%",
           "1105 W FM 1626 RD",
           "2020-12-22T00:00:00"
          ],
          [
           "Bar-B-Q-Inn",
           "70%",
           "9310 N LAMAR BLVD",
           "2020-12-03T00:00:00"
          ],
          [
           "McDonald's",
           "92%",
           "2426 E RIVERSIDE DR",
           "2020-12-10T00:00:00"
          ],
          [
           "IAS Austin",
           "99%",
           "8201 N FM 620 RD",
           "2020-12-14T00:00:00"
          ],
          [
           "Dog Haus",
           "87%",
           "8023 BURNET RD",
           "2020-12-22T00:00:00"
          ],
          [
           "BC - Domino's",
           "99%",
           "11805 FM 2244 RD",
           "2020-12-02T00:00:00"
          ],
          [
           "Pho with US",
           "79%",
           "9900 S IH",
           "2020-12-18T00:00:00"
          ],
          [
           "Subway Sandwich #22880",
           "93%",
           "1030 NORWOOD PARK BLVD",
           "2020-12-10T00:00:00"
          ],
          [
           "Chick-Fil-A",
           "95%",
           "5033 W US 290 HWY",
           "2020-12-03T00:00:00"
          ],
          [
           "BC - Jersey Mike's Subs",
           "92%",
           "4005 MARKET ST",
           "2020-12-03T00:00:00"
          ],
          [
           "Subway Sandwiches",
           "98%",
           "6105 TECHNI CENTER DR",
           "2020-12-08T00:00:00"
          ],
          [
           "Bread Basket - Chevron",
           "86%",
           "9401 S US 183 HWY",
           "2020-12-15T00:00:00"
          ],
          [
           "Ramen Tatsu-Ya comal",
           "91%",
           "1600 E 6TH ST",
           "2020-12-17T00:00:00"
          ],
          [
           "Osio",
           "95%",
           "2901 S CAPITAL OF TEXAS HWY",
           "2020-12-02T00:00:00"
          ],
          [
           "Ike's Love & Sandwiches",
           "97%",
           "5207 BRODIE LN",
           "2020-12-03T00:00:00"
          ],
          [
           "BC-Learn and Laugh Preschool",
           "93%",
           "11715 FM 2244 RD",
           "2020-12-02T00:00:00"
          ],
          [
           "Poco Loco Supermercado",
           "81%",
           "1148 AIRPORT BLVD",
           "2020-12-22T00:00:00"
          ],
          [
           "El Pollo Rico # 11",
           "93%",
           "609 W SLAUGHTER LN",
           "2020-12-17T00:00:00"
          ],
          [
           "Lamar Grocery",
           "92%",
           "2238 S LAMAR BLVD",
           "2020-12-23T00:00:00"
          ],
          [
           "Alameda House",
           "93%",
           "4019 MANCHACA RD",
           "2020-12-11T00:00:00"
          ],
          [
           "Golden Chick",
           "93%",
           "9600 N LAMAR BLVD",
           "2020-12-23T00:00:00"
          ],
          [
           "PF - Tokyo Garden Catering, LLC",
           "99%",
           "201 N FM",
           "2020-12-15T00:00:00"
          ],
          [
           "LW - Lupine Lane",
           "98%",
           "1001 HIGHLANDS BLVD",
           "2020-12-04T00:00:00"
          ],
          [
           "Gattis Pizza",
           "100%",
           "801 E WILLIAM CANNON DR",
           "2020-12-08T00:00:00"
          ],
          [
           "GoPuff",
           "98%",
           "1138 AIRPORT BLVD",
           "2020-12-14T00:00:00"
          ],
          [
           "Tony C's Pizza & Wine Bar",
           "80%",
           "10526 W PARMER LN",
           "2020-12-10T00:00:00"
          ],
          [
           "J.D's Market #4",
           "80%",
           "11720 FM 1826 RD",
           "2020-12-08T00:00:00"
          ],
          [
           "El Pollo Rico #13",
           "90%",
           "110 E WILLIAM CANNON DR",
           "2020-12-03T00:00:00"
          ],
          [
           "LW - Randall's #1779 -Deli",
           "98%",
           "2301 S FM 620 RD",
           "2020-12-02T00:00:00"
          ],
          [
           "PF - HEB Food Store #479 (Meat & Seafood)",
           "96%",
           "201 N FM",
           "2020-12-15T00:00:00"
          ],
          [
           "Bluebonnet School of Canyon Creek",
           "94%",
           "10321 BOULDER LN",
           "2020-12-14T00:00:00"
          ],
          [
           "WL - Jersey Mikes Subs",
           "98%",
           "3300 BEE CAVES RD",
           "2020-12-08T00:00:00"
          ],
          [
           "Walgreens #03092",
           "100%",
           "8104 MESA DR",
           "2020-12-18T00:00:00"
          ],
          [
           "Way South Philly Deli",
           "96%",
           "5222 BURNET RD",
           "2020-12-07T00:00:00"
          ],
          [
           "Freddy's Frozen Custard & Steakburgers",
           "90%",
           "8300 N FM 620 RD",
           "2020-12-14T00:00:00"
          ],
          [
           "La Quinta Inn & Suites # 937",
           "96%",
           "11901 N MOPAC EXPY",
           "2020-12-23T00:00:00"
          ],
          [
           "Soup Peddler, The",
           "93%",
           "4631 AIRPORT BLVD",
           "2020-12-18T00:00:00"
          ],
          [
           "Beer Geek",
           "94%",
           "2051 W FM 1626 RD",
           "2020-12-22T00:00:00"
          ],
          [
           "C- Mart #9",
           "92%",
           "8523 RESEARCH BLVD",
           "2020-12-15T00:00:00"
          ],
          [
           "Two Steps Ahead Learning Center",
           "95%",
           "3028 ROGGE LN",
           "2020-12-15T00:00:00"
          ],
          [
           "Whataburger",
           "96%",
           "6301 W PARMER LN",
           "2020-12-04T00:00:00"
          ],
          [
           "Marbridge Foundation-Winters",
           "97%",
           "2310 BLISS SPILLAR RD",
           "2020-12-02T00:00:00"
          ],
          [
           "Taco Cabana #129",
           "87%",
           "2507 E RIVERSIDE DR",
           "2020-12-16T00:00:00"
          ],
          [
           "MN - Excel High School",
           "100%",
           "600 E PARSONS ST",
           "2020-12-02T00:00:00"
          ],
          [
           "Express Food Mart #7",
           "79%",
           "10500 N LAMAR BLVD",
           "2020-12-23T00:00:00"
          ],
          [
           "Tierra Linda Taqueria",
           "93%",
           "8540 RESEARCH BLVD",
           "2020-12-02T00:00:00"
          ],
          [
           "Super 8 Motel",
           "93%",
           "5606 E 51ST ST",
           "2020-12-15T00:00:00"
          ],
          [
           "Circle K Store #2704682",
           "85%",
           "6500 S US 183 HWY",
           "2020-12-15T00:00:00"
          ],
          [
           "1-Stop Food Store",
           "97%",
           "5101 AIRPORT BLVD",
           "2020-12-16T00:00:00"
          ],
          [
           "Staybridge Suites",
           "91%",
           "13000 N IH",
           "2020-12-22T00:00:00"
          ],
          [
           "Suprabhat",
           "70%",
           "9225 W PARMER LN",
           "2020-12-21T00:00:00"
          ],
          [
           "Daily Juice Cafe",
           "100%",
           "3720 FAR WEST BLVD",
           "2020-12-11T00:00:00"
          ],
          [
           "Springhill Suites Austin North",
           "97%",
           "12520 N IH",
           "2020-12-22T00:00:00"
          ],
          [
           "Profile by Sanford",
           "93%",
           "9607 RESEARCH BLVD",
           "2020-12-16T00:00:00"
          ],
          [
           "Crazy Fruits # 3",
           "98%",
           "5611 S US 183 HWY",
           "2020-12-15T00:00:00"
          ],
          [
           "WL - Izumi Sushi",
           "87%",
           "701 S CAPITAL OF TEXAS HWY",
           "2020-12-08T00:00:00"
          ],
          [
           "7-Eleven Convenience Store #35801A",
           "89%",
           "9704 GILES LN",
           "2020-12-18T00:00:00"
          ],
          [
           "Great Hills Golf Club",
           "90%",
           "5914 LOST HORIZON DR",
           "2020-12-02T00:00:00"
          ],
          [
           "Dunkin Donuts",
           "91%",
           "12200 RESEARCH BLVD",
           "2020-12-10T00:00:00"
          ],
          [
           "Cook Elementary School",
           "98%",
           "1511 CRIPPLE CREEK DR",
           "2020-12-16T00:00:00"
          ],
          [
           "Hwy 969 Food Mart",
           "84%",
           "6401 FM 969 RD",
           "2020-12-04T00:00:00"
          ],
          [
           "Marco's Pizza",
           "87%",
           "11011 RESEARCH BLVD",
           "2020-12-02T00:00:00"
          ],
          [
           "Family Business Beer Company",
           "100%",
           "19510 HAMILTON POOL RD",
           "2020-12-03T00:00:00"
          ],
          [
           "1618 Asian Fusion",
           "74%",
           "1618 E RIVERSIDE DR",
           "2020-12-16T00:00:00"
          ],
          [
           "Bert's BBQ",
           "89%",
           "3563 FAR WEST BLVD",
           "2020-12-14T00:00:00"
          ],
          [
           "Silverado Barton Springs",
           "83%",
           "5200 DAVIS LN",
           "2020-12-18T00:00:00"
          ],
          [
           "HEB #096-Deli/Bakery/Produce",
           "97%",
           "7025 VILLAGE CENTER DR",
           "2020-12-07T00:00:00"
          ],
          [
           "Milano Pizza",
           "76%",
           "1025 W STASSNEY LN",
           "2020-12-11T00:00:00"
          ],
          [
           "La Michoacana Meat Market",
           "74%",
           "2237 E RIVERSIDE DR",
           "2020-12-23T00:00:00"
          ],
          [
           "Club El Tahur",
           "89%",
           "214 E ANDERSON LN",
           "2020-12-21T00:00:00"
          ],
          [
           "Austin Ice",
           "97%",
           "7517 CAMERON RD",
           "2020-12-09T00:00:00"
          ],
          [
           "BC - HEB Food Store #404 (Deli/Bakery)",
           "98%",
           "12400 W SH",
           "2020-12-01T00:00:00"
          ],
          [
           "Dollar General #10959",
           "98%",
           "6010 E RIVERSIDE DR",
           "2020-12-10T00:00:00"
          ],
          [
           "Chef Robert Catering",
           "100%",
           "8134 MESA DR",
           "2020-12-17T00:00:00"
          ],
          [
           "Club de la Raza",
           "89%",
           "2429 E SH",
           "2020-12-22T00:00:00"
          ],
          [
           "LW - Table 620",
           "98%",
           "2000 S FM 620 RD",
           "2020-12-21T00:00:00"
          ]
         ],
         "hovertemplate": "Restaurant Name: %{customdata[0]}<br>Score: %{customdata[1]}<br>Street: %{customdata[2]}<br>Inspection Date: %{customdata[3]}",
         "lat": [
          null,
          30.408522,
          30.447473,
          30.177931,
          30.2749,
          30.276806,
          30.208272,
          30.394225,
          30.396092,
          30.365558,
          null,
          null,
          30.285611,
          30.255443,
          30.202797,
          30.294778,
          30.356996,
          30.26165,
          30.349678,
          30.225443,
          30.200184,
          30.353756,
          null,
          30.477802,
          30.163664,
          30.406508,
          30.448429,
          30.258663,
          30.357642,
          30.441937,
          30.44057,
          30.396129,
          30.297764,
          30.393948,
          30.357567,
          30.264475,
          30.252383,
          30.356395,
          null,
          30.238711,
          30.405944,
          30.26437,
          null,
          null,
          30.417542,
          30.441937,
          30.212609,
          null,
          30.346442,
          30.2749,
          null,
          30.401922,
          30.434702,
          30.291053,
          30.337222,
          30.2,
          30.181994,
          30.308385,
          30.341028,
          30.268742,
          30.275231,
          30.433702,
          null,
          30.194048,
          30.421254,
          30.260704,
          30.284019,
          30.36441,
          30.442957,
          30.477802,
          null,
          30.445314,
          30.441937,
          30.465601,
          30.359155,
          30.194048,
          30.19096,
          30.348381,
          30.341725,
          30.218964,
          30.30675,
          30.447473,
          30.323972,
          30.317286,
          30.211841,
          30.283319,
          30.200463,
          30.241593,
          30.441937,
          30.416351,
          30.148928,
          30.41503,
          null,
          30.392352,
          30.206706,
          30.313641,
          null,
          30.29806,
          null,
          30.356395,
          30.425948,
          30.351231,
          null,
          30.416577,
          30.231447,
          30.296106,
          30.174896,
          null,
          30.261912,
          30.228372,
          30.20676,
          30.216371,
          30.173693,
          null,
          30.267349,
          null,
          30.281511,
          30.277014,
          30.285249,
          30.436116,
          30.394529,
          30.358106,
          30.255321,
          null,
          30.31524,
          30.273599,
          30.137606,
          30.30881,
          30.307203,
          30.390328,
          30.235855,
          30.357262,
          30.311288,
          30.264459,
          30.263083,
          30.424498,
          30.268058,
          30.196231,
          30.294735,
          30.358106,
          30.274413,
          30.26763,
          30.31466,
          30.219122,
          30.188388,
          30.259141,
          30.322681,
          null,
          30.207855,
          30.394877,
          30.36508,
          30.279246,
          null,
          null,
          30.340912,
          30.441282,
          30.235507,
          null,
          null,
          30.338728,
          30.221781,
          30.446183,
          30.366401,
          30.203667,
          null,
          30.4204,
          30.226141,
          30.34713,
          30.31487,
          30.121291,
          null,
          30.352668,
          30.264124,
          30.392008,
          30.269458,
          30.346501,
          30.301073,
          30.416273,
          30.209029,
          null,
          30.236507,
          null,
          30.202651,
          30.359155,
          30.284891,
          30.202875,
          30.441282,
          30.368077,
          30.288198,
          30.267971,
          30.409161,
          30.360309,
          30.292189,
          30.278932,
          30.359579,
          30.303794,
          30.256749,
          30.304871,
          30.391159,
          30.235825,
          30.276059,
          30.295179,
          30.306151,
          30.345791,
          30.315534,
          30.242222,
          30.319315,
          30.344864,
          null,
          30.392352,
          30.157697,
          null,
          30.220859,
          30.216371,
          30.225437,
          30.299588,
          30.233175,
          30.227884,
          30.2323,
          30.467184,
          30.380289,
          30.261166,
          30.255443,
          30.446424,
          30.255221,
          30.2,
          30.392352,
          30.44865,
          30.442957,
          30.468797,
          30.231279,
          30.261819,
          30.215188,
          null,
          30.392008,
          null,
          30.210163,
          30.136879,
          null,
          30.445314,
          30.403592,
          30.371414,
          30.28244,
          30.281321,
          30.286835,
          30.262568,
          30.212841,
          30.292189,
          30.498868,
          30.195647,
          30.408522,
          30.331385,
          30.339003,
          null,
          30.424623,
          30.282032,
          null,
          30.349015,
          30.287311,
          null,
          30.174157,
          30.260384,
          30.336486,
          30.333311,
          null,
          30.268577,
          30.373732,
          30.416867,
          null,
          30.293609,
          null,
          30.272251,
          30.357466,
          null,
          30.273727,
          30.441282,
          30.415584,
          30.217891,
          30.40026,
          30.271901,
          30.209029,
          30.282708,
          30.307606,
          30.261959,
          null,
          30.279246,
          30.344978,
          30.242031,
          30.233362,
          30.369642,
          30.3911,
          30.260455,
          30.360601,
          30.203569,
          30.33542,
          30.231155,
          30.278077,
          30.255454,
          30.220579,
          30.326754,
          30.151943,
          30.277589,
          30.4204,
          30.295089,
          30.320667,
          30.237459,
          30.425623,
          30.437959,
          null,
          30.136879,
          null,
          30.314499,
          30.45313,
          30.436116,
          30.362817,
          30.276054,
          30.290493,
          30.220579,
          30.26505,
          null,
          30.26478,
          30.309564,
          30.307221,
          30.440956,
          30.260763,
          30.341398,
          30.496761,
          30.337689,
          30.358106,
          30.273683,
          30.222178,
          30.209029,
          30.357964,
          30.301917,
          30.235825,
          null,
          30.424508,
          30.214771,
          30.288452,
          30.307985,
          null,
          30.196231,
          30.300666,
          30.267349,
          30.194788,
          30.357847,
          30.221194,
          30.315685,
          30.294801,
          30.346342,
          30.197961,
          30.275803,
          30.193353,
          30.359155,
          30.255645,
          null,
          30.23447,
          30.183677,
          null,
          30.39806,
          30.345616,
          30.164607,
          30.301295,
          30.360739,
          30.33674,
          30.337919,
          30.285955,
          30.478405,
          null,
          30.441937,
          null,
          30.174157,
          30.295085,
          30.263709,
          30.2651,
          30.36516,
          30.31268,
          30.200841,
          30.438743,
          30.194148,
          30.272293,
          30.290551,
          30.357503,
          null,
          30.353397,
          30.311864,
          30.40065,
          null,
          30.194794,
          30.233436,
          30.193108,
          30.355045,
          null,
          30.412643,
          30.168927,
          30.401922,
          30.255443,
          30.446183,
          null,
          null,
          30.254056,
          30.494618,
          30.229501,
          30.218964,
          30.337689,
          30.497655,
          30.269774,
          30.29203,
          30.285782,
          30.350454,
          30.312538,
          30.309715,
          30.290012,
          null,
          30.267919,
          30.40065,
          30.339981,
          30.223821,
          30.324549,
          30.228614,
          30.28684,
          30.269153,
          30.325649,
          30.273807,
          30.456005,
          30.441282,
          30.273599,
          30.227802,
          30.235825,
          30.254031,
          30.354942,
          30.337181,
          30.271775,
          30.412468,
          30.45037,
          30.218964,
          30.239069,
          30.238678,
          30.236507,
          30.221809,
          30.361033,
          null,
          30.307616,
          30.469768,
          null,
          30.447473,
          30.263892,
          30.084128,
          30.304679,
          30.209124,
          30.276147,
          30.322958,
          null,
          30.212956,
          30.232228,
          30.272605,
          30.304855,
          30.429684,
          30.226725,
          30.445314,
          30.26926,
          null,
          30.419705,
          30.354444,
          30.275231,
          30.316742,
          30.24371,
          30.382116,
          30.353297,
          30.235995,
          30.167179,
          null,
          30.360404,
          30.361597,
          30.363947,
          30.354586,
          null,
          30.305053,
          30.340843,
          30.402572,
          30.26452,
          null,
          30.2749,
          30.271017,
          30.413727,
          30.27897,
          30.401102,
          30.220579,
          30.349816,
          30.342994,
          30.255443,
          null,
          30.356996,
          30.224799,
          null,
          30.412512,
          null,
          null,
          30.398571,
          null,
          30.223712,
          30.262045,
          30.318803,
          30.356842,
          30.234747,
          30.202311,
          30.275195,
          30.33711,
          30.233175,
          null,
          30.36194,
          null,
          30.276147,
          30.340865,
          30.202651,
          30.433558,
          30.355859,
          30.351197,
          30.299782,
          30.193108,
          null,
          30.154194,
          30.243957,
          null,
          30.361033,
          30.429156,
          30.274085,
          30.140471,
          30.362392,
          30.235633,
          30.45313,
          30.359155,
          null,
          null,
          30.33872,
          null,
          30.307228,
          30.276059,
          null,
          30.262989,
          30.255443,
          30.231596,
          null,
          30.272115,
          30.173058,
          30.24741,
          30.232532,
          30.365544,
          null,
          30.349938,
          30.19096,
          30.269959,
          30.496761,
          30.192594,
          30.19287,
          null,
          null,
          30.428742,
          30.2749,
          30.371773,
          30.324549,
          30.4204,
          30.407262,
          30.306151,
          30.138581,
          30.360095,
          30.303188,
          30.445314,
          30.136879,
          30.23403,
          30.341783,
          30.37324,
          30.360701,
          30.2927,
          30.164023,
          30.312363,
          null,
          30.478405,
          30.35546,
          null,
          30.388391,
          null,
          30.292189,
          30.332321,
          30.402112,
          30.425921,
          30.377667,
          null,
          30.403592,
          30.291006,
          30.245028,
          30.353534,
          30.208765,
          30.352555,
          30.210567,
          30.238295,
          30.343521,
          30.329586,
          null,
          30.226402,
          30.373443,
          null,
          null
         ],
         "legendgroup": "",
         "lon": [
          null,
          -97.698168,
          -97.648368,
          -97.615839,
          -97.801111,
          -97.751192,
          -97.781635,
          -97.748272,
          -97.749989,
          -97.738956,
          null,
          null,
          -97.684167,
          -97.810066,
          -97.806221,
          -97.724118,
          -97.685774,
          -97.718305,
          -97.526006,
          -97.76661,
          -97.785895,
          -97.75401,
          null,
          -97.643263,
          -97.830628,
          -97.874421,
          -97.655218,
          -97.786729,
          -97.762151,
          -97.74148,
          -97.663126,
          -97.720128,
          -97.687283,
          -97.726442,
          -97.748349,
          -97.741002,
          -97.773635,
          -97.731374,
          null,
          -97.683849,
          -97.678556,
          -97.733445,
          null,
          null,
          -97.675682,
          -97.74148,
          -97.752474,
          null,
          -97.700016,
          -97.801111,
          null,
          -97.746122,
          -97.615494,
          -97.741264,
          -97.756645,
          -97.77,
          -97.8465,
          -97.938816,
          -97.557461,
          -97.728041,
          -97.843793,
          -97.77132,
          null,
          -97.843038,
          -97.628454,
          -97.734925,
          -97.74194,
          -97.710274,
          -97.741799,
          -97.643263,
          null,
          -97.743259,
          -97.74148,
          -97.597297,
          -97.73005,
          -97.843038,
          -97.771937,
          -97.557039,
          -97.970094,
          -97.755433,
          -97.750208,
          -97.648368,
          -97.689635,
          -97.740391,
          -97.964736,
          -97.742009,
          -97.799243,
          -97.785134,
          -97.74148,
          -97.697097,
          -97.842579,
          -97.696431,
          null,
          -97.746845,
          -97.77795,
          -97.704222,
          null,
          -98.006844,
          null,
          -97.731374,
          -97.716411,
          -97.708533,
          null,
          -97.745964,
          -97.787322,
          -97.743872,
          -97.82327,
          null,
          -97.723182,
          -97.789335,
          -97.719122,
          -97.964091,
          -97.821911,
          null,
          -97.743063,
          null,
          -97.710596,
          -97.742141,
          -97.774785,
          -97.612748,
          -97.75208,
          -97.735077,
          -97.719477,
          null,
          -97.741316,
          -97.799243,
          -97.857505,
          -97.740756,
          -97.931757,
          -97.884583,
          -97.728243,
          -97.686159,
          -97.666151,
          -97.757249,
          -97.816129,
          -97.750561,
          -97.746432,
          -97.785737,
          -97.824938,
          -97.735077,
          -97.800458,
          -97.741285,
          -97.71482,
          -97.688528,
          -97.856475,
          -97.759029,
          -97.714855,
          null,
          -97.780106,
          -97.745915,
          -97.695882,
          -97.806703,
          null,
          null,
          -97.738848,
          -97.66529,
          -97.763802,
          null,
          null,
          -97.97035,
          -97.689832,
          -97.648258,
          -97.695129,
          -97.878534,
          null,
          -97.84557,
          -97.705922,
          -97.72721,
          -97.733618,
          -97.635979,
          null,
          -97.723662,
          -97.741615,
          -97.707343,
          -97.696677,
          -97.67724,
          -97.674094,
          -97.695601,
          -97.78292,
          null,
          -97.725029,
          null,
          -97.805566,
          -97.73005,
          -97.715382,
          -97.837567,
          -97.66529,
          -97.694197,
          -97.744632,
          -97.742507,
          -97.715712,
          -97.790126,
          -97.828184,
          -97.742615,
          -97.737925,
          -97.726441,
          -97.71153,
          -97.736783,
          -97.659773,
          -97.792954,
          -97.668702,
          -97.740547,
          -97.715837,
          -97.967013,
          -97.755907,
          -97.72868,
          -97.689358,
          -97.736361,
          null,
          -97.746845,
          -97.833381,
          null,
          -97.691306,
          -97.964091,
          -97.769581,
          -97.740175,
          -97.721518,
          -97.786555,
          -97.758576,
          -97.64526,
          -97.68363,
          -97.721147,
          -97.810066,
          -97.686119,
          -97.844945,
          -97.77,
          -97.746845,
          -97.655677,
          -97.741799,
          -97.595887,
          -97.787453,
          -97.758731,
          -97.762343,
          null,
          -97.707343,
          null,
          -97.780138,
          -97.856197,
          null,
          -97.743259,
          -97.745141,
          -97.757,
          -97.711754,
          -97.703182,
          -97.703049,
          -97.725167,
          -97.713113,
          -97.828184,
          -97.773275,
          -97.777748,
          -97.698168,
          -97.722908,
          -97.754988,
          null,
          -97.672008,
          -97.743038,
          null,
          -97.554111,
          -97.742693,
          null,
          -97.796784,
          -97.734006,
          -97.739563,
          -97.705301,
          null,
          -97.727607,
          -97.719236,
          -97.746868,
          null,
          -97.741925,
          null,
          -97.691247,
          -97.686736,
          null,
          -97.697031,
          -97.66529,
          -97.695563,
          -97.861448,
          -97.745036,
          -97.876727,
          -97.78292,
          -97.74207,
          -97.945544,
          -97.761269,
          null,
          -97.759767,
          -97.736664,
          -97.728362,
          -97.73959,
          -97.733164,
          -97.721166,
          -97.738167,
          -97.739855,
          -97.785518,
          -97.559559,
          -97.791658,
          -97.760581,
          -97.761872,
          -97.837688,
          -97.687198,
          -97.833228,
          -97.720737,
          -97.84557,
          -97.73667,
          -97.968512,
          -97.725513,
          -97.715752,
          -97.75871,
          null,
          -97.856197,
          null,
          -97.755166,
          -97.8277,
          -97.612748,
          -97.69719,
          -97.816218,
          -97.742018,
          -97.837688,
          -97.732382,
          null,
          -97.737795,
          -97.941855,
          -97.74177,
          -97.773218,
          -97.712656,
          -97.557848,
          -97.774899,
          -97.692266,
          -97.735077,
          -97.720484,
          -97.838856,
          -97.78292,
          -97.760539,
          -97.764901,
          -97.792954,
          null,
          -97.713215,
          -97.832351,
          -97.747786,
          -97.940692,
          null,
          -97.785737,
          -97.74041,
          -97.743063,
          -97.783619,
          -97.978237,
          -97.690654,
          -97.741373,
          -97.742566,
          -97.966225,
          -97.767334,
          -97.735692,
          -97.77868,
          -97.73005,
          -97.698125,
          null,
          -97.911646,
          -97.792016,
          null,
          -97.704665,
          -97.713435,
          -97.692906,
          -97.739098,
          -97.716586,
          -97.694535,
          -97.74121,
          -97.681617,
          -97.765794,
          null,
          -97.74148,
          null,
          -97.796784,
          -97.742718,
          -97.731481,
          -97.742451,
          -97.695836,
          -97.960154,
          -97.879006,
          -97.756268,
          -97.77723,
          -97.697526,
          -97.742629,
          -97.97889,
          null,
          -97.705543,
          -97.963409,
          -97.747851,
          null,
          -97.842717,
          -97.739816,
          -97.779336,
          -97.728669,
          null,
          -97.689502,
          -97.825756,
          -97.746122,
          -97.810066,
          -97.648258,
          null,
          null,
          -97.782807,
          -97.7882,
          -97.864222,
          -97.755433,
          -97.692266,
          -97.777084,
          -97.806002,
          -97.742784,
          -97.744893,
          -97.748102,
          -97.693481,
          -97.934312,
          -97.707435,
          null,
          -97.694035,
          -97.747851,
          -97.804557,
          -97.763391,
          -97.739532,
          -97.77134,
          -97.742736,
          -97.740924,
          -97.726544,
          -97.697987,
          -97.659227,
          -97.66529,
          -97.799243,
          -97.727487,
          -97.792954,
          -97.703643,
          -97.703436,
          -97.720538,
          -97.741424,
          -97.927049,
          -97.655136,
          -97.755433,
          -97.761559,
          -97.72594,
          -97.725029,
          -97.956195,
          -97.716672,
          null,
          -97.937139,
          -97.595626,
          null,
          -97.648368,
          -97.759549,
          -97.752177,
          -97.93797,
          -97.804503,
          -97.733582,
          -97.742673,
          null,
          -97.778807,
          -97.79909,
          -97.691021,
          -97.725971,
          -97.671287,
          -97.770608,
          -97.743259,
          -97.724397,
          null,
          -97.752565,
          -97.727417,
          -97.843793,
          -97.713804,
          -97.729736,
          -97.740032,
          -97.755725,
          -97.703777,
          -97.791596,
          null,
          -97.739692,
          -97.687419,
          -97.726577,
          -97.731747,
          null,
          -97.940736,
          -97.80285,
          -97.721403,
          -97.78401,
          null,
          -97.801111,
          -97.789586,
          -97.746293,
          -97.806439,
          -97.722763,
          -97.837688,
          -97.55595,
          -97.763511,
          -97.810066,
          null,
          -97.685774,
          -97.703211,
          null,
          -97.688909,
          null,
          null,
          -97.745647,
          null,
          -97.843827,
          -97.758588,
          -97.739443,
          -97.747275,
          -97.788031,
          -97.806963,
          -97.668307,
          -97.756437,
          -97.721518,
          null,
          -97.717321,
          null,
          -97.733582,
          -97.556468,
          -97.805566,
          -97.771837,
          -97.758223,
          -97.675864,
          -97.740052,
          -97.779336,
          null,
          -97.833283,
          -97.781825,
          null,
          -97.716672,
          -97.760067,
          -97.766118,
          -97.834444,
          -97.697423,
          -97.724398,
          -97.8277,
          -97.73005,
          null,
          null,
          -97.692623,
          null,
          -97.937337,
          -97.668702,
          null,
          -97.72637,
          -97.810066,
          -97.818902,
          null,
          -97.697472,
          -97.800341,
          -97.7743,
          -97.786561,
          -97.695617,
          null,
          -98.012061,
          -97.771937,
          -97.696825,
          -97.774899,
          -97.925054,
          -97.77775,
          null,
          null,
          -97.838764,
          -97.801111,
          -97.757113,
          -97.739532,
          -97.84557,
          -97.719376,
          -97.715837,
          -97.849046,
          -97.716393,
          -97.678524,
          -97.743259,
          -97.856197,
          -97.723776,
          -97.551086,
          -97.691287,
          -97.716962,
          -97.664656,
          -97.693075,
          -97.715363,
          null,
          -97.765794,
          -97.757281,
          null,
          -97.743593,
          null,
          -97.828184,
          -97.622991,
          -97.766923,
          -97.753486,
          -97.703772,
          null,
          -97.745141,
          -98.075811,
          -97.73049,
          -97.753552,
          -97.862494,
          -97.756199,
          -97.786896,
          -97.725943,
          -97.704292,
          -97.689879,
          null,
          -97.706476,
          -97.756073,
          null,
          null
         ],
         "marker": {
          "color": [
           90,
           90,
           100,
           100,
           100,
           80,
           100,
           90,
           100,
           90,
           70,
           90,
           80,
           90,
           90,
           90,
           90,
           90,
           100,
           90,
           80,
           100,
           90,
           100,
           90,
           90,
           90,
           100,
           100,
           100,
           100,
           90,
           90,
           90,
           100,
           80,
           100,
           70,
           100,
           100,
           100,
           90,
           90,
           100,
           90,
           100,
           80,
           100,
           90,
           100,
           90,
           100,
           90,
           90,
           100,
           90,
           90,
           90,
           80,
           90,
           90,
           90,
           100,
           80,
           90,
           90,
           50,
           100,
           90,
           90,
           90,
           100,
           80,
           100,
           90,
           90,
           80,
           80,
           90,
           100,
           90,
           90,
           100,
           90,
           100,
           100,
           90,
           90,
           90,
           90,
           90,
           90,
           70,
           90,
           100,
           90,
           90,
           90,
           90,
           90,
           80,
           80,
           90,
           80,
           100,
           100,
           90,
           90,
           90,
           90,
           70,
           100,
           90,
           70,
           100,
           100,
           100,
           90,
           100,
           90,
           100,
           90,
           90,
           100,
           90,
           100,
           90,
           100,
           100,
           90,
           90,
           100,
           90,
           100,
           90,
           90,
           100,
           90,
           100,
           80,
           90,
           100,
           90,
           100,
           100,
           100,
           100,
           100,
           90,
           90,
           90,
           90,
           100,
           90,
           80,
           100,
           100,
           100,
           90,
           90,
           90,
           70,
           90,
           90,
           90,
           90,
           100,
           90,
           80,
           100,
           80,
           100,
           90,
           90,
           90,
           80,
           90,
           80,
           90,
           70,
           70,
           100,
           100,
           90,
           90,
           80,
           100,
           100,
           100,
           100,
           90,
           90,
           100,
           90,
           90,
           100,
           80,
           90,
           90,
           90,
           100,
           90,
           90,
           100,
           90,
           90,
           80,
           90,
           100,
           100,
           90,
           100,
           90,
           100,
           100,
           90,
           90,
           100,
           100,
           100,
           100,
           100,
           80,
           100,
           90,
           80,
           90,
           100,
           90,
           80,
           90,
           90,
           100,
           90,
           100,
           100,
           100,
           100,
           100,
           100,
           80,
           100,
           100,
           90,
           90,
           100,
           80,
           90,
           90,
           100,
           90,
           80,
           90,
           70,
           90,
           100,
           80,
           80,
           100,
           90,
           90,
           100,
           80,
           70,
           100,
           90,
           100,
           100,
           100,
           100,
           90,
           90,
           90,
           80,
           70,
           100,
           90,
           80,
           80,
           90,
           70,
           80,
           100,
           90,
           90,
           100,
           80,
           100,
           100,
           100,
           90,
           100,
           90,
           100,
           90,
           80,
           100,
           90,
           100,
           100,
           80,
           100,
           90,
           90,
           100,
           90,
           90,
           70,
           100,
           90,
           100,
           90,
           100,
           90,
           90,
           90,
           90,
           90,
           90,
           100,
           100,
           90,
           100,
           100,
           100,
           90,
           80,
           90,
           100,
           90,
           100,
           80,
           100,
           100,
           100,
           100,
           90,
           100,
           80,
           100,
           90,
           80,
           90,
           90,
           90,
           80,
           100,
           90,
           100,
           70,
           100,
           100,
           90,
           100,
           100,
           90,
           100,
           90,
           100,
           90,
           100,
           90,
           90,
           90,
           100,
           100,
           80,
           90,
           100,
           90,
           100,
           100,
           90,
           100,
           100,
           100,
           100,
           70,
           80,
           80,
           90,
           90,
           100,
           90,
           90,
           100,
           100,
           90,
           90,
           90,
           80,
           90,
           100,
           80,
           100,
           90,
           90,
           80,
           100,
           90,
           100,
           90,
           90,
           100,
           100,
           80,
           100,
           100,
           90,
           100,
           90,
           90,
           90,
           90,
           90,
           90,
           100,
           90,
           80,
           100,
           90,
           90,
           80,
           90,
           90,
           100,
           80,
           100,
           100,
           100,
           80,
           80,
           100,
           100,
           90,
           90,
           90,
           100,
           90,
           90,
           90,
           80,
           80,
           70,
           100,
           90,
           100,
           100,
           80,
           100,
           90,
           90,
           90,
           100,
           100,
           90,
           90,
           100,
           80,
           100,
           100,
           100,
           90,
           90,
           100,
           100,
           80,
           90,
           100,
           90,
           100,
           80,
           80,
           90,
           100,
           100,
           80,
           100,
           90,
           100,
           100,
           90,
           100,
           90,
           100,
           90,
           70,
           100,
           90,
           90,
           90,
           100,
           90,
           90,
           80,
           100,
           100,
           90,
           90,
           90,
           80,
           100,
           90,
           70,
           100,
           80,
           90,
           80,
           90,
           100,
           90,
           100,
           100,
           100,
           100,
           100,
           90,
           90,
           90,
           100,
           100,
           90,
           90,
           90,
           70,
           90,
           100,
           100,
           70,
           90,
           100,
           90,
           100,
           80,
           90,
           100,
           90,
           100,
           90,
           90,
           100,
           100,
           90,
           80,
           90,
           90,
           90,
           90,
           100,
           100,
           100,
           100,
           80,
           80,
           90,
           100,
           100,
           90,
           100,
           100,
           100,
           90,
           100,
           90,
           90,
           90,
           100,
           100,
           100,
           90,
           100,
           80,
           90,
           90,
           80,
           100,
           90,
           70,
           100,
           100,
           90,
           100,
           90,
           90,
           90,
           90,
           100,
           80,
           90,
           100,
           70,
           90,
           80,
           100,
           80,
           70,
           90,
           100,
           100,
           100,
           100,
           90,
           100
          ],
          "coloraxis": "coloraxis",
          "opacity": 0.5,
          "size": 10
         },
         "mode": "markers",
         "name": "",
         "showlegend": false,
         "subplot": "mapbox",
         "type": "scattermapbox"
        }
       ],
       "layout": {
        "coloraxis": {
         "colorbar": {
          "title": {
           "text": "color"
          }
         },
         "colorscale": [
          [
           0,
           "#0d0887"
          ],
          [
           0.1111111111111111,
           "#46039f"
          ],
          [
           0.2222222222222222,
           "#7201a8"
          ],
          [
           0.3333333333333333,
           "#9c179e"
          ],
          [
           0.4444444444444444,
           "#bd3786"
          ],
          [
           0.5555555555555556,
           "#d8576b"
          ],
          [
           0.6666666666666666,
           "#ed7953"
          ],
          [
           0.7777777777777778,
           "#fb9f3a"
          ],
          [
           0.8888888888888888,
           "#fdca26"
          ],
          [
           1,
           "#f0f921"
          ]
         ]
        },
        "legend": {
         "tracegroupgap": 0
        },
        "mapbox": {
         "center": {
          "lat": 30.308063885658914,
          "lon": -97.75314880813954
         },
         "domain": {
          "x": [
           0,
           1
          ],
          "y": [
           0,
           1
          ]
         },
         "style": "open-street-map",
         "zoom": 10
        },
        "margin": {
         "t": 60
        },
        "template": {
         "data": {
          "bar": [
           {
            "error_x": {
             "color": "#2a3f5f"
            },
            "error_y": {
             "color": "#2a3f5f"
            },
            "marker": {
             "line": {
              "color": "#E5ECF6",
              "width": 0.5
             }
            },
            "type": "bar"
           }
          ],
          "barpolar": [
           {
            "marker": {
             "line": {
              "color": "#E5ECF6",
              "width": 0.5
             }
            },
            "type": "barpolar"
           }
          ],
          "carpet": [
           {
            "aaxis": {
             "endlinecolor": "#2a3f5f",
             "gridcolor": "white",
             "linecolor": "white",
             "minorgridcolor": "white",
             "startlinecolor": "#2a3f5f"
            },
            "baxis": {
             "endlinecolor": "#2a3f5f",
             "gridcolor": "white",
             "linecolor": "white",
             "minorgridcolor": "white",
             "startlinecolor": "#2a3f5f"
            },
            "type": "carpet"
           }
          ],
          "choropleth": [
           {
            "colorbar": {
             "outlinewidth": 0,
             "ticks": ""
            },
            "type": "choropleth"
           }
          ],
          "contour": [
           {
            "colorbar": {
             "outlinewidth": 0,
             "ticks": ""
            },
            "colorscale": [
             [
              0,
              "#0d0887"
             ],
             [
              0.1111111111111111,
              "#46039f"
             ],
             [
              0.2222222222222222,
              "#7201a8"
             ],
             [
              0.3333333333333333,
              "#9c179e"
             ],
             [
              0.4444444444444444,
              "#bd3786"
             ],
             [
              0.5555555555555556,
              "#d8576b"
             ],
             [
              0.6666666666666666,
              "#ed7953"
             ],
             [
              0.7777777777777778,
              "#fb9f3a"
             ],
             [
              0.8888888888888888,
              "#fdca26"
             ],
             [
              1,
              "#f0f921"
             ]
            ],
            "type": "contour"
           }
          ],
          "contourcarpet": [
           {
            "colorbar": {
             "outlinewidth": 0,
             "ticks": ""
            },
            "type": "contourcarpet"
           }
          ],
          "heatmap": [
           {
            "colorbar": {
             "outlinewidth": 0,
             "ticks": ""
            },
            "colorscale": [
             [
              0,
              "#0d0887"
             ],
             [
              0.1111111111111111,
              "#46039f"
             ],
             [
              0.2222222222222222,
              "#7201a8"
             ],
             [
              0.3333333333333333,
              "#9c179e"
             ],
             [
              0.4444444444444444,
              "#bd3786"
             ],
             [
              0.5555555555555556,
              "#d8576b"
             ],
             [
              0.6666666666666666,
              "#ed7953"
             ],
             [
              0.7777777777777778,
              "#fb9f3a"
             ],
             [
              0.8888888888888888,
              "#fdca26"
             ],
             [
              1,
              "#f0f921"
             ]
            ],
            "type": "heatmap"
           }
          ],
          "heatmapgl": [
           {
            "colorbar": {
             "outlinewidth": 0,
             "ticks": ""
            },
            "colorscale": [
             [
              0,
              "#0d0887"
             ],
             [
              0.1111111111111111,
              "#46039f"
             ],
             [
              0.2222222222222222,
              "#7201a8"
             ],
             [
              0.3333333333333333,
              "#9c179e"
             ],
             [
              0.4444444444444444,
              "#bd3786"
             ],
             [
              0.5555555555555556,
              "#d8576b"
             ],
             [
              0.6666666666666666,
              "#ed7953"
             ],
             [
              0.7777777777777778,
              "#fb9f3a"
             ],
             [
              0.8888888888888888,
              "#fdca26"
             ],
             [
              1,
              "#f0f921"
             ]
            ],
            "type": "heatmapgl"
           }
          ],
          "histogram": [
           {
            "marker": {
             "colorbar": {
              "outlinewidth": 0,
              "ticks": ""
             }
            },
            "type": "histogram"
           }
          ],
          "histogram2d": [
           {
            "colorbar": {
             "outlinewidth": 0,
             "ticks": ""
            },
            "colorscale": [
             [
              0,
              "#0d0887"
             ],
             [
              0.1111111111111111,
              "#46039f"
             ],
             [
              0.2222222222222222,
              "#7201a8"
             ],
             [
              0.3333333333333333,
              "#9c179e"
             ],
             [
              0.4444444444444444,
              "#bd3786"
             ],
             [
              0.5555555555555556,
              "#d8576b"
             ],
             [
              0.6666666666666666,
              "#ed7953"
             ],
             [
              0.7777777777777778,
              "#fb9f3a"
             ],
             [
              0.8888888888888888,
              "#fdca26"
             ],
             [
              1,
              "#f0f921"
             ]
            ],
            "type": "histogram2d"
           }
          ],
          "histogram2dcontour": [
           {
            "colorbar": {
             "outlinewidth": 0,
             "ticks": ""
            },
            "colorscale": [
             [
              0,
              "#0d0887"
             ],
             [
              0.1111111111111111,
              "#46039f"
             ],
             [
              0.2222222222222222,
              "#7201a8"
             ],
             [
              0.3333333333333333,
              "#9c179e"
             ],
             [
              0.4444444444444444,
              "#bd3786"
             ],
             [
              0.5555555555555556,
              "#d8576b"
             ],
             [
              0.6666666666666666,
              "#ed7953"
             ],
             [
              0.7777777777777778,
              "#fb9f3a"
             ],
             [
              0.8888888888888888,
              "#fdca26"
             ],
             [
              1,
              "#f0f921"
             ]
            ],
            "type": "histogram2dcontour"
           }
          ],
          "mesh3d": [
           {
            "colorbar": {
             "outlinewidth": 0,
             "ticks": ""
            },
            "type": "mesh3d"
           }
          ],
          "parcoords": [
           {
            "line": {
             "colorbar": {
              "outlinewidth": 0,
              "ticks": ""
             }
            },
            "type": "parcoords"
           }
          ],
          "pie": [
           {
            "automargin": true,
            "type": "pie"
           }
          ],
          "scatter": [
           {
            "marker": {
             "colorbar": {
              "outlinewidth": 0,
              "ticks": ""
             }
            },
            "type": "scatter"
           }
          ],
          "scatter3d": [
           {
            "line": {
             "colorbar": {
              "outlinewidth": 0,
              "ticks": ""
             }
            },
            "marker": {
             "colorbar": {
              "outlinewidth": 0,
              "ticks": ""
             }
            },
            "type": "scatter3d"
           }
          ],
          "scattercarpet": [
           {
            "marker": {
             "colorbar": {
              "outlinewidth": 0,
              "ticks": ""
             }
            },
            "type": "scattercarpet"
           }
          ],
          "scattergeo": [
           {
            "marker": {
             "colorbar": {
              "outlinewidth": 0,
              "ticks": ""
             }
            },
            "type": "scattergeo"
           }
          ],
          "scattergl": [
           {
            "marker": {
             "colorbar": {
              "outlinewidth": 0,
              "ticks": ""
             }
            },
            "type": "scattergl"
           }
          ],
          "scattermapbox": [
           {
            "marker": {
             "colorbar": {
              "outlinewidth": 0,
              "ticks": ""
             }
            },
            "type": "scattermapbox"
           }
          ],
          "scatterpolar": [
           {
            "marker": {
             "colorbar": {
              "outlinewidth": 0,
              "ticks": ""
             }
            },
            "type": "scatterpolar"
           }
          ],
          "scatterpolargl": [
           {
            "marker": {
             "colorbar": {
              "outlinewidth": 0,
              "ticks": ""
             }
            },
            "type": "scatterpolargl"
           }
          ],
          "scatterternary": [
           {
            "marker": {
             "colorbar": {
              "outlinewidth": 0,
              "ticks": ""
             }
            },
            "type": "scatterternary"
           }
          ],
          "surface": [
           {
            "colorbar": {
             "outlinewidth": 0,
             "ticks": ""
            },
            "colorscale": [
             [
              0,
              "#0d0887"
             ],
             [
              0.1111111111111111,
              "#46039f"
             ],
             [
              0.2222222222222222,
              "#7201a8"
             ],
             [
              0.3333333333333333,
              "#9c179e"
             ],
             [
              0.4444444444444444,
              "#bd3786"
             ],
             [
              0.5555555555555556,
              "#d8576b"
             ],
             [
              0.6666666666666666,
              "#ed7953"
             ],
             [
              0.7777777777777778,
              "#fb9f3a"
             ],
             [
              0.8888888888888888,
              "#fdca26"
             ],
             [
              1,
              "#f0f921"
             ]
            ],
            "type": "surface"
           }
          ],
          "table": [
           {
            "cells": {
             "fill": {
              "color": "#EBF0F8"
             },
             "line": {
              "color": "white"
             }
            },
            "header": {
             "fill": {
              "color": "#C8D4E3"
             },
             "line": {
              "color": "white"
             }
            },
            "type": "table"
           }
          ]
         },
         "layout": {
          "annotationdefaults": {
           "arrowcolor": "#2a3f5f",
           "arrowhead": 0,
           "arrowwidth": 1
          },
          "autotypenumbers": "strict",
          "coloraxis": {
           "colorbar": {
            "outlinewidth": 0,
            "ticks": ""
           }
          },
          "colorscale": {
           "diverging": [
            [
             0,
             "#8e0152"
            ],
            [
             0.1,
             "#c51b7d"
            ],
            [
             0.2,
             "#de77ae"
            ],
            [
             0.3,
             "#f1b6da"
            ],
            [
             0.4,
             "#fde0ef"
            ],
            [
             0.5,
             "#f7f7f7"
            ],
            [
             0.6,
             "#e6f5d0"
            ],
            [
             0.7,
             "#b8e186"
            ],
            [
             0.8,
             "#7fbc41"
            ],
            [
             0.9,
             "#4d9221"
            ],
            [
             1,
             "#276419"
            ]
           ],
           "sequential": [
            [
             0,
             "#0d0887"
            ],
            [
             0.1111111111111111,
             "#46039f"
            ],
            [
             0.2222222222222222,
             "#7201a8"
            ],
            [
             0.3333333333333333,
             "#9c179e"
            ],
            [
             0.4444444444444444,
             "#bd3786"
            ],
            [
             0.5555555555555556,
             "#d8576b"
            ],
            [
             0.6666666666666666,
             "#ed7953"
            ],
            [
             0.7777777777777778,
             "#fb9f3a"
            ],
            [
             0.8888888888888888,
             "#fdca26"
            ],
            [
             1,
             "#f0f921"
            ]
           ],
           "sequentialminus": [
            [
             0,
             "#0d0887"
            ],
            [
             0.1111111111111111,
             "#46039f"
            ],
            [
             0.2222222222222222,
             "#7201a8"
            ],
            [
             0.3333333333333333,
             "#9c179e"
            ],
            [
             0.4444444444444444,
             "#bd3786"
            ],
            [
             0.5555555555555556,
             "#d8576b"
            ],
            [
             0.6666666666666666,
             "#ed7953"
            ],
            [
             0.7777777777777778,
             "#fb9f3a"
            ],
            [
             0.8888888888888888,
             "#fdca26"
            ],
            [
             1,
             "#f0f921"
            ]
           ]
          },
          "colorway": [
           "#636efa",
           "#EF553B",
           "#00cc96",
           "#ab63fa",
           "#FFA15A",
           "#19d3f3",
           "#FF6692",
           "#B6E880",
           "#FF97FF",
           "#FECB52"
          ],
          "font": {
           "color": "#2a3f5f"
          },
          "geo": {
           "bgcolor": "white",
           "lakecolor": "white",
           "landcolor": "#E5ECF6",
           "showlakes": true,
           "showland": true,
           "subunitcolor": "white"
          },
          "hoverlabel": {
           "align": "left"
          },
          "hovermode": "closest",
          "mapbox": {
           "style": "light"
          },
          "paper_bgcolor": "white",
          "plot_bgcolor": "#E5ECF6",
          "polar": {
           "angularaxis": {
            "gridcolor": "white",
            "linecolor": "white",
            "ticks": ""
           },
           "bgcolor": "#E5ECF6",
           "radialaxis": {
            "gridcolor": "white",
            "linecolor": "white",
            "ticks": ""
           }
          },
          "scene": {
           "xaxis": {
            "backgroundcolor": "#E5ECF6",
            "gridcolor": "white",
            "gridwidth": 2,
            "linecolor": "white",
            "showbackground": true,
            "ticks": "",
            "zerolinecolor": "white"
           },
           "yaxis": {
            "backgroundcolor": "#E5ECF6",
            "gridcolor": "white",
            "gridwidth": 2,
            "linecolor": "white",
            "showbackground": true,
            "ticks": "",
            "zerolinecolor": "white"
           },
           "zaxis": {
            "backgroundcolor": "#E5ECF6",
            "gridcolor": "white",
            "gridwidth": 2,
            "linecolor": "white",
            "showbackground": true,
            "ticks": "",
            "zerolinecolor": "white"
           }
          },
          "shapedefaults": {
           "line": {
            "color": "#2a3f5f"
           }
          },
          "ternary": {
           "aaxis": {
            "gridcolor": "white",
            "linecolor": "white",
            "ticks": ""
           },
           "baxis": {
            "gridcolor": "white",
            "linecolor": "white",
            "ticks": ""
           },
           "bgcolor": "#E5ECF6",
           "caxis": {
            "gridcolor": "white",
            "linecolor": "white",
            "ticks": ""
           }
          },
          "title": {
           "x": 0.05
          },
          "xaxis": {
           "automargin": true,
           "gridcolor": "white",
           "linecolor": "white",
           "ticks": "",
           "title": {
            "standoff": 15
           },
           "zerolinecolor": "white",
           "zerolinewidth": 2
          },
          "yaxis": {
           "automargin": true,
           "gridcolor": "white",
           "linecolor": "white",
           "ticks": "",
           "title": {
            "standoff": 15
           },
           "zerolinecolor": "white",
           "zerolinewidth": 2
          }
         }
        }
       }
      },
      "text/html": [
       "<div>                            <div id=\"a261e551-91d0-4628-841b-cc6d54237bee\" class=\"plotly-graph-div\" style=\"height:525px; width:100%;\"></div>            <script type=\"text/javascript\">                require([\"plotly\"], function(Plotly) {                    window.PLOTLYENV=window.PLOTLYENV || {};                                    if (document.getElementById(\"a261e551-91d0-4628-841b-cc6d54237bee\")) {                    Plotly.newPlot(                        \"a261e551-91d0-4628-841b-cc6d54237bee\",                        [{\"customdata\": [[\"Courtesy Shell #4\", \"91%\", \"2241 S IH\", \"2020-12-11T00:00:00\"], [\"Little China Restaurant\", \"92%\", \"1921 CEDAR BEND DR\", \"2020-12-22T00:00:00\"], [\"PF - Los Amigos Market (Grocery/Produce)\", \"96%\", \"15812 WINDERMERE DR\", \"2020-12-01T00:00:00\"], [\"Del Valle ISD Opportunity Center\", \"96%\", \"5301 ROSS RD\", \"2020-12-02T00:00:00\"], [\"WL - Randall's #2477-Bakery\", \"99%\", \"3300 BEE CAVES RD\", \"2020-12-07T00:00:00\"], [\"Tavern, The\", \"75%\", \"922 W 12TH ST\", \"2020-12-14T00:00:00\"], [\"Walgreens #3341\", \"98%\", \"5600 S 1ST ST\", \"2020-12-14T00:00:00\"], [\"La Madeleine # 201\", \"92%\", \"9828 GREAT HILLS TRL\", \"2020-12-08T00:00:00\"], [\"P F Chang's China Bistro\", \"99%\", \"10114 JOLLYVILLE RD\", \"2020-12-02T00:00:00\"], [\"Stepping Stone School\", \"94%\", \"8121 SHOAL CREEK BLVD\", \"2020-12-14T00:00:00\"], [\"Cover 2\", \"70%\", \"13701 N US 183 HWY\", \"2020-12-07T00:00:00\"], [\"BC - Chick-Fil-A of Lake Travis\", \"94%\", \"3600 S FM 620 RD\", \"2020-12-03T00:00:00\"], [\"Willie's Bar-B-Q\", \"78%\", \"4505 E MARTIN LUTHER KING JR BLVD\", \"2020-12-07T00:00:00\"], [\"Pretzel Maker\", \"90%\", \"2901 S CAPITAL OF TEXAS HWY\", \"2020-12-09T00:00:00\"], [\"Church's Chicken Store No. 386\", \"86%\", \"1945 W WILLIAM CANNON DR\", \"2020-12-16T00:00:00\"], [\"St. Paul Lutheran\", \"89%\", \"3501 RED RIVER ST\", \"2020-12-03T00:00:00\"], [\"La Mexiquense\", \"94%\", \"850 E RUNDBERG LN\", \"2020-12-22T00:00:00\"], [\"Los Comales Taqueria\", \"86%\", \"2136 E 7TH ST\", \"2020-12-14T00:00:00\"], [\"Speedy Express\", \"95%\", \"12836 E US 290 HWY\", \"2020-12-03T00:00:00\"], [\"Encompass Health Rehabilitation Hospital of Austin\", \"94%\", \"330 W BEN WHITE BLVD\", \"2020-12-11T00:00:00\"], [\"Seoul Restaurant\", \"81%\", \"6400 S 1ST ST\", \"2020-12-07T00:00:00\"], [\"CVS Pharmacy #6893\", \"98%\", \"3569 FAR WEST BLVD\", \"2020-12-11T00:00:00\"], [\"Little Country Diner\", \"93%\", \"22000 W SH\", \"2020-12-15T00:00:00\"], [\"PF - Accent Food Services\", \"97%\", \"2913 AW GRIMES BLVD\", \"2020-12-15T00:00:00\"], [\"South Austin Beer Garden\", \"93%\", \"10700 MANCHACA RD\", \"2020-12-10T00:00:00\"], [\"Oasis Cantina\", \"90%\", \"6550 COMANCHE TRL\", \"2020-12-04T00:00:00\"], [\"PF - Freddy's Frozen Custard & Steakburgers\", \"90%\", \"2602 W PECAN ST\", \"2020-12-01T00:00:00\"], [\"Thom's Market\", \"97%\", \"1500 SPYGLASS DR\", \"2020-12-11T00:00:00\"], [\"EPOCH Coffee\", \"100%\", \"3900 FAR WEST BLVD\", \"2020-12-01T00:00:00\"], [\"Tokyo Gardens Catering\", \"100%\", \"6001 W PARMER LN\", \"2020-12-22T00:00:00\"], [\"Harmony Science Academy-Pflugerville\", \"100%\", \"1421 W WELLS BRANCH PKWY\", \"2020-12-02T00:00:00\"], [\"Freebirds World Burrito\", \"91%\", \"11101 BURNET RD\", \"2020-12-22T00:00:00\"], [\"E-Z Stop Groceries & Gas / Conoco\", \"92%\", \"5029 MANOR RD\", \"2020-12-07T00:00:00\"], [\"Cava Mezze Grill\", \"90%\", \"10808 DOMAIN DR\", \"2020-12-21T00:00:00\"], [\"Austin's Pizza #23\", \"97%\", \"3435 GREYSTONE DR\", \"2020-12-01T00:00:00\"], [\"Fogo De Chao Churrascaria\", \"85%\", \"309 E 3RD ST\", \"2020-12-10T00:00:00\"], [\"Zilker Elementary\", \"99%\", \"1900 BLUEBONNET LN\", \"2020-12-15T00:00:00\"], [\"Pho Tin\", \"70%\", \"2438 W ANDERSON LN\", \"2020-12-08T00:00:00\"], [\"PF - HEB Food Store #479 (Grocery)\", \"95%\", \"201 N FM\", \"2020-12-15T00:00:00\"], [\"La Pera\", \"97%\", \"502 THOMPSON LN\", \"2020-12-23T00:00:00\"], [\"Residence Inn Austin North/Parmer\", \"100%\", \"12401 N LAMAR BLVD\", \"2020-12-22T00:00:00\"], [\"Whole Foods Market\", \"93%\", \"901 E 5TH ST\", \"2020-12-17T00:00:00\"], [\"Fazoli's Italian Food\", \"90%\", \"13201 N FM 620 RD\", \"2020-12-01T00:00:00\"], [\"Snowfox SC8259\", \"98%\", \"1 2\", \"2020-12-16T00:00:00\"], [\"John Connally High School\", \"93%\", \"13212 N LAMAR BLVD\", \"2020-12-07T00:00:00\"], [\"HEB #20 Retail\", \"99%\", \"6001 W PARMER LN\", \"2020-12-22T00:00:00\"], [\"Circle K Store #2704677\", \"80%\", \"1601 E ST ELMO RD\", \"2020-12-11T00:00:00\"], [\"Jack in the Box #4850\", \"98%\", \"2517 E SH\", \"2020-12-15T00:00:00\"], [\"Generations\", \"93%\", \"8203 SAM RAYBURN DR\", \"2020-12-10T00:00:00\"], [\"WL - Randall's Grocery #2477\", \"97%\", \"3300 BEE CAVES RD\", \"2020-12-07T00:00:00\"], [\"Double Dave's Pizza\", \"88%\", \"13343 N US 183 HWY\", \"2020-12-08T00:00:00\"], [\"Jimmy John's Gourmet Sandwiches\", \"95%\", \"10900 RESEARCH BLVD\", \"2020-12-14T00:00:00\"], [\"PF-Moi! Vietnamese Grill\", \"91%\", \"16051 DESSAU RD\", \"2020-12-15T00:00:00\"], [\"Kerbey Lane\", \"89%\", \"2606 GUADALUPE ST\", \"2020-12-14T00:00:00\"], [\"7-Eleven Convenience Store #36274B\", \"97%\", \"3324 NORTHLAND DR\", \"2020-12-08T00:00:00\"], [\"Twin Peaks\", \"93%\", \"701 E STASSNEY LN\", \"2020-12-03T00:00:00\"], [\"Taco Bell #030080\", \"91%\", \"3324 W SLAUGHTER LN\", \"2020-12-23T00:00:00\"], [\"BC - Barnes & Noble Booksellers\", \"94%\", \"12701 HILL COUNTRY BLVD\", \"2020-12-15T00:00:00\"], [\"MN - Golden Beijing\", \"80%\", \"100 E PARSONS ST\", \"2020-12-17T00:00:00\"], [\"Nickel City\", \"92%\", \"1133 E 11TH ST\", \"2020-12-16T00:00:00\"], [\"Lost Creek Country Club\", \"92%\", \"2612 LOST CREEK BLVD\", \"2020-12-16T00:00:00\"], [\"Circle K #2741308\", \"93%\", \"8656 SPICEWOOD SPRINGS RD\", \"2020-12-18T00:00:00\"], [\"Miraval Austin (Pool Cafe)\", \"100%\", \"13500 FM 2769 RD\", \"2020-12-17T00:00:00\"], [\"Nanami Sushi Bar\", \"75%\", \"9001 BRODIE LN\", \"2020-12-14T00:00:00\"], [\"Pollolandia\", \"91%\", \"14905 DESSAU RD\", \"2020-12-11T00:00:00\"], [\"Austin Baptist Chapel\", \"94%\", \"908 E CESAR CHAVEZ ST\", \"2020-12-17T00:00:00\"], [\"TEJI's Indian Restaurant\", \"54%\", \"2100 GUADALUPE ST\", \"2020-12-16T00:00:00\"], [\"Wooldridge Elementary\", \"100%\", \"1412 NORSEMAN TER\", \"2020-12-16T00:00:00\"], [\"McDonald's #24993\", \"89%\", \"6010 W PARMER LN\", \"2020-12-09T00:00:00\"], [\"PF - Cobal Food Service\", \"90%\", \"2913 A W GRIMES BLVD\", \"2020-12-15T00:00:00\"], [\"Pizzeria Casa Nostra\", \"93%\", \"21209 W SH\", \"2020-12-15T00:00:00\"], [\"Little Woodrow's\", \"96%\", \"6301 W PARMER LN\", \"2020-12-10T00:00:00\"], [\"Smokey Mo's BBQ\", \"80%\", \"6001 W PARMER LN\", \"2020-12-22T00:00:00\"], [\"PF - Nothing Bundt Cakes\", \"98%\", \"18616 LIMESTONE COMMERCIAL DR\", \"2020-12-17T00:00:00\"], [\"Bombay Walla\", \"86%\", \"8023 BURNET RD\", \"2020-12-03T00:00:00\"], [\"Hacienda Arandinas\", \"89%\", \"9001 BRODIE LN\", \"2020-12-15T00:00:00\"], [\"Chuy's Bakery\", \"83%\", \"801 E WILLIAM CANNON DR\", \"2020-12-08T00:00:00\"], [\"MN - Texas Traditional BBQ\", \"82%\", \"910 N CALDWELL ST\", \"2020-12-04T00:00:00\"], [\"LW - Flores Mexican Restaurant\", \"88%\", \"2127 LOHMANS CROSSING RD\", \"2020-12-23T00:00:00\"], [\"Wal-Mart Supercenter #1253-Meat/Produce\", \"97%\", \"710 E BEN WHITE BLVD\", \"2020-12-15T00:00:00\"], [\"Tiny's Milk & Cookies\", \"92%\", \"1515 W 35TH ST\", \"2020-12-07T00:00:00\"], [\"PF - Los Amigos Meat (Kitchen)\", \"92%\", \"15812 WINDERMERE DR\", \"2020-12-01T00:00:00\"], [\"NorthEast High School\", \"98%\", \"7104 BERKMAN DR\", \"2020-12-17T00:00:00\"], [\"Pacha\", \"88%\", \"4618 BURNET RD\", \"2020-12-22T00:00:00\"], [\"Provident Memory Care\", \"96%\", \"11013 SIGNAL HILL DR\", \"2020-12-01T00:00:00\"], [\"Target Store T3250 - Starbucks\", \"97%\", \"2021 GUADALUPE ST\", \"2020-12-02T00:00:00\"], [\"Circle K #2742420\", \"86%\", \"1405 W WILLIAM CANNON DR\", \"2020-12-01T00:00:00\"], [\"Austin Daily Press\", \"93%\", \"3121 S LAMAR BLVD\", \"2020-12-21T00:00:00\"], [\"HEB #20 Deli & Bakery\", \"88%\", \"6001 W PARMER LN\", \"2020-12-22T00:00:00\"], [\"Parmer Lane Tavern\", \"89%\", \"2121 W PARMER LN\", \"2020-12-23T00:00:00\"], [\"Numart\", \"88%\", \"11913 RANCHO ALTO RD\", \"2020-12-03T00:00:00\"], [\"OOB Sonic\", \"86%\", \"12453 LAMPLIGHT VILLAGE AVE\", \"2020-12-01T00:00:00\"], [\"Wing's N More\", \"74%\", \"1200 W HOWARD LN\", \"2020-12-23T00:00:00\"], [\"Cheesecake Factory\", \"93%\", \"10000 RESEARCH BLVD\", \"2020-12-08T00:00:00\"], [\"Tender Memories Learning Center\", \"97%\", \"308 W STASSNEY LN\", \"2020-12-02T00:00:00\"], [\"Long John Silver's\", \"93%\", \"5600 CAMERON RD\", \"2020-12-16T00:00:00\"], [\"Short Stop #2\", \"89%\", \"12784 N US 183 HWY\", \"2020-12-09T00:00:00\"], [\"Verdes Grill\", \"94%\", \"16018 HAMILTON POOL RD\", \"2020-12-03T00:00:00\"], [\"Food' n More\", \"89%\", \"9400 N IH\", \"2020-12-21T00:00:00\"], [\"Donut Crown\", \"92%\", \"2438 W ANDERSON LN\", \"2020-12-17T00:00:00\"], [\"PitaLicious\", \"76%\", \"4101 W PARMER LN\", \"2020-12-01T00:00:00\"], [\"Tam Deli Cafe\", \"78%\", \"8222 N LAMAR BLVD\", \"2020-12-02T00:00:00\"], [\"Chuck E. Cheese's #951\", \"89%\", \"9811 S IH\", \"2020-12-23T00:00:00\"], [\"7-Eleven Convenience Store #36563B\", \"79%\", \"11643 RESEARCH BLVD\", \"2020-12-23T00:00:00\"], [\"Radio Coffee & Beer\", \"97%\", \"4204 MANCHACA RD\", \"2020-12-11T00:00:00\"], [\"Texas French Bread\", \"95%\", \"2900 RIO GRANDE ST\", \"2020-12-14T00:00:00\"], [\"Popeye's #323 - Z & H Foods Inc.\", \"91%\", \"9718 MANCHACA RD\", \"2020-12-22T00:00:00\"], [\"Jack in the Box #949\", \"90%\", \"9300 S IH\", \"2020-12-23T00:00:00\"], [\"Via 313\", \"94%\", \"1802 E 6TH ST\", \"2020-12-17T00:00:00\"], [\"Beatniks Market\", \"87%\", \"4415 MANCHACA RD\", \"2020-12-11T00:00:00\"], [\"Casa Vallarta Restaurant\", \"72%\", \"6002 BURLESON RD\", \"2020-12-22T00:00:00\"], [\"Summermoon Coffee Bar\", \"96%\", \"11601 W US 290 HWY\", \"2020-12-04T00:00:00\"], [\"Donut Taco Palace II\", \"89%\", \"1807 W SLAUGHTER LN\", \"2020-12-18T00:00:00\"], [\"Kentucky Fried Chicken\", \"74%\", \"13435 N US 183 HWY\", \"2020-12-15T00:00:00\"], [\"Jimmy Johns\", \"100%\", \"515 CONGRESS AVE\", \"2020-12-04T00:00:00\"], [\"Star Stop 75\", \"98%\", \"5801 N IH\", \"2020-12-04T00:00:00\"], [\"Hospice Austin\", \"100%\", \"2820 E MARTIN LUTHER KING JR BLVD\", \"2020-12-16T00:00:00\"], [\"Texas Chili Parlor\", \"87%\", \"1409 LAVACA ST\", \"2020-12-01T00:00:00\"], [\"O' Henry Jr High\", \"99%\", \"2610 W 10TH ST\", \"2020-12-10T00:00:00\"], [\"PF - Iron Fish Sushi and Grill\", \"87%\", \"900 E PECAN ST\", \"2020-12-16T00:00:00\"], [\"Starbuck's Coffee#6203\", \"100%\", \"9722 GREAT HILLS TRL\", \"2020-12-08T00:00:00\"], [\"Epoch Coffee\", \"92%\", \"2700 W ANDERSON LN\", \"2020-12-11T00:00:00\"], [\"Express - O\", \"91%\", \"2228 E CESAR CHAVEZ ST\", \"2020-12-16T00:00:00\"], [\"Homer's Bar and Grill\", \"99%\", \"1779 W WELLS BRANCH PKWY\", \"2020-12-16T00:00:00\"], [\"Rosedale Market\", \"87%\", \"1309 W 45TH ST\", \"2020-12-22T00:00:00\"], [\"Modern Market\", \"95%\", \"3201 BEE CAVES RD\", \"2020-12-07T00:00:00\"], [\"Marbridge Foundation-Villa\", \"93%\", \"2504 BLISS SPILLAR RD\", \"2020-12-02T00:00:00\"], [\"Peoples Pharmacy\", \"100%\", \"4018 N LAMAR BLVD\", \"2020-12-01T00:00:00\"], [\"BC - Walgreens #11272\", \"100%\", \"12200 BEE CAVE PKWY\", \"2020-12-02T00:00:00\"], [\"Domino's\", \"94%\", \"5145 N FM 620 RD\", \"2020-12-21T00:00:00\"], [\"Shop N Save\", \"88%\", \"2204 WOODLAND AVE\", \"2020-12-01T00:00:00\"], [\"Whistle Stop Grocery/La Mexicana\", \"95%\", \"834 E RUNDBERG LN\", \"2020-12-11T00:00:00\"], [\"Dollar General Store #12967\", \"91%\", \"6729 MANOR RD\", \"2020-12-04T00:00:00\"], [\"Zachary Scott Theatre Center\", \"100%\", \"202 S LAMAR BLVD\", \"2020-12-10T00:00:00\"], [\"Rudy's Country Store and BBQ\", \"93%\", \"2451 S CAPITAL OF TEXAS HWY\", \"2020-12-16T00:00:00\"], [\"Catfish Parlour\", \"92%\", \"11910 RESEARCH BLVD\", \"2020-12-10T00:00:00\"], [\"Domino's\", \"99%\", \"311 W 5TH ST\", \"2020-12-01T00:00:00\"], [\"Tutty Frutty\", \"90%\", \"500 W WILLIAM CANNON DR\", \"2020-12-04T00:00:00\"], [\"WL - Waterfall Restaurant @ Westlake Surgical\", \"100%\", \"5656 BEE CAVES RD\", \"2020-12-08T00:00:00\"], [\"High 5\", \"76%\", \"2700 W ANDERSON LN\", \"2020-12-21T00:00:00\"], [\"Bruegger's Bagels\", \"91%\", \"3267 BEE CAVES RD\", \"2020-12-07T00:00:00\"], [\"Eureka\", \"96%\", \"200 E 6TH ST\", \"2020-12-08T00:00:00\"], [\"Eastside Pies Too!\", \"86%\", \"5312 AIRPORT BLVD\", \"2020-12-17T00:00:00\"], [\"Waffle House #1623\", \"95%\", \"7809 E BEN WHITE BLVD\", \"2020-12-18T00:00:00\"], [\"Bowie H.S. Culinary Kitchen\", \"97%\", \"4103 W SLAUGHTER LN\", \"2020-12-07T00:00:00\"], [\"Signature #2\", \"97%\", \"608 S LAMAR BLVD\", \"2020-12-11T00:00:00\"], [\"Accent Food Services - Netspend Airport\", \"99%\", \"5800 AIRPORT BLVD\", \"2020-12-18T00:00:00\"], [\"Backyard Bar & Grill\", \"100%\", \"9900 S IH\", \"2020-12-10T00:00:00\"], [\"La Michoacana-Austin #3 (Kitchen)\", \"88%\", \"512 W STASSNEY LN\", \"2020-12-10T00:00:00\"], [\"Pizza Day\", \"86%\", \"10225 RESEARCH BLVD\", \"2020-12-09T00:00:00\"], [\"Burger King #4228\", \"88%\", \"9523 N LAMAR BLVD\", \"2020-12-21T00:00:00\"], [\"WL-Trianon Coffee\", \"90%\", \"3654 BEE CAVES RD\", \"2020-12-17T00:00:00\"], [\"MN - Panda Express #2516\", \"98%\", \"11808 RING DR\", \"2020-12-09T00:00:00\"], [\"BC-Giovanni's Table\", \"93%\", \"11701 FM 2244 RD\", \"2020-12-01T00:00:00\"], [\"Flyrite Chicken Inc\", \"80%\", \"6539 BURNET RD\", \"2020-12-07T00:00:00\"], [\"HEB Deli #236\", \"96%\", \"1434 W WELLS BRANCH PKWY\", \"2020-12-11T00:00:00\"], [\"DH Mini Mart\", \"96%\", \"2911 S 1ST ST\", \"2020-12-15T00:00:00\"], [\"BC - Bon Japanese Cuisine\", \"96%\", \"3500 S FM 620 RD\", \"2020-12-15T00:00:00\"], [\"Subway #44843\", \"90%\", \"11215 S IH\", \"2020-12-23T00:00:00\"], [\"LW - Pao's Mandarin House\", \"88%\", \"2300 LOHMANS SPUR RD\", \"2020-12-18T00:00:00\"], [\"Staybridge Hotel\", \"89%\", \"1611 AIRPORT COMMERCE DR\", \"2020-12-17T00:00:00\"], [\"PF - Kumar's Austin\", \"73%\", \"15803 WINDERMERE DR\", \"2020-12-17T00:00:00\"], [\"Wingstop #188\", \"86%\", \"9616 N LAMAR BLVD\", \"2020-12-18T00:00:00\"], [\"Starbucks Coffee #9617\", \"91%\", \"9600 ESCARPMENT BLVD\", \"2020-12-16T00:00:00\"], [\"BC- Artemis Mediterranean Grill\", \"89%\", \"4025 S FM 620 RD\", \"2020-12-03T00:00:00\"], [\"Summermoon Coffee Bar\", \"91%\", \"8300 N FM 620 RD\", \"2020-12-14T00:00:00\"], [\"Crazy Fruits # 2\", \"95%\", \"6100 E RIVERSIDE DR\", \"2020-12-23T00:00:00\"], [\"Stepping Stone Child Care\", \"93%\", \"1710 RICHCREEK RD\", \"2020-12-18T00:00:00\"], [\"Pho MPH\", \"84%\", \"4616 TRIANGLE AVE\", \"2020-12-22T00:00:00\"], [\"Dollar General #16198\", \"97%\", \"13903 FM 812 RD\", \"2020-12-17T00:00:00\"], [\"LW - Santa Catarina\", \"79%\", \"1310 S FM 620 RD\", \"2020-12-21T00:00:00\"], [\"Paola's Kitchen\", \"95%\", \"1700 W ANDERSON LN\", \"2020-12-21T00:00:00\"], [\"2nd Street Market\", \"89%\", \"200 SAN JACINTO BLVD\", \"2020-12-14T00:00:00\"], [\"Central Donut\", \"93%\", \"1910 W BRAKER LN\", \"2020-12-21T00:00:00\"], [\"DJ's Food & Gas Stop\", \"93%\", \"1135 AIRPORT BLVD\", \"2020-12-11T00:00:00\"], [\"Buddy's Mexican Grill\", \"81%\", \"9001 CAMERON RD\", \"2020-12-04T00:00:00\"], [\"Walnut Hills Nursing & Rehab\", \"89%\", \"3509 ROGGE LN\", \"2020-12-15T00:00:00\"], [\"Food Basket\", \"85%\", \"12503 LAMPLIGHT VILLAGE AVE\", \"2020-12-21T00:00:00\"], [\"El Pollo Rico #4\", \"94%\", \"730 W STASSNEY LN\", \"2020-12-03T00:00:00\"], [\"Kerbey Lane Cafe\", \"70%\", \"13435 N US 183 HWY\", \"2020-12-15T00:00:00\"], [\"Joy East Chinese Buffet\", \"74%\", \"2410 E RIVERSIDE DR\", \"2020-12-01T00:00:00\"], [\"Fairfield Inn & Suites Austin North\", \"96%\", \"12536 N IH\", \"2020-12-22T00:00:00\"], [\"Old School Liquor & Market\", \"99%\", \"1901 W WILLIAM CANNON DR\", \"2020-12-09T00:00:00\"], [\"Teji's Indian Restaurant\", \"92%\", \"8023 BURNET RD\", \"2020-12-03T00:00:00\"], [\"RBM Food Mart\", \"87%\", \"2601 MANOR RD\", \"2020-12-07T00:00:00\"], [\"7-Eleven Convenience Store # 24909B\", \"78%\", \"8010 BRODIE LN\", \"2020-12-16T00:00:00\"], [\"HEB #236\", \"100%\", \"1434 W WELLS BRANCH PKWY\", \"2020-12-11T00:00:00\"], [\"Popeye's #318 - Z & H Foods Inc\", \"95%\", \"9815 N LAMAR BLVD\", \"2020-12-03T00:00:00\"], [\"Foodie's Corner 2\", \"96%\", \"2400 RIO GRANDE ST\", \"2020-12-15T00:00:00\"], [\"Gold's Gym Austin Downtown\", \"98%\", \"115 E 6TH ST\", \"2020-12-14T00:00:00\"], [\"7-Eleven Convenience Store #36592A\", \"91%\", \"12000 N MOPAC EXPY\", \"2020-12-23T00:00:00\"], [\"Siena Restaurant at Bull Creek\", \"91%\", \"6203 N CAPITAL OF TEXAS HWY\", \"2020-12-15T00:00:00\"], [\"WL - Chick-Fil-A\", \"98%\", \"701 S CAPITAL OF TEXAS HWY\", \"2020-12-08T00:00:00\"], [\"Clay Pit Contemporary Indian Restaurant\", \"88%\", \"1601 GUADALUPE ST\", \"2020-12-02T00:00:00\"], [\"San Francisco Bakery Cafe\", \"89%\", \"2900 W ANDERSON LN\", \"2020-12-18T00:00:00\"], [\"Antonelli's Cheese Shop\", \"95%\", \"500 PARK BLVD\", \"2020-12-07T00:00:00\"], [\"Stop N Tote\", \"80%\", \"2715 E 5TH ST\", \"2020-12-15T00:00:00\"], [\"Circle K #2740080\", \"88%\", \"3909 GUADALUPE ST\", \"2020-12-07T00:00:00\"], [\"Little Rascals Day Care\", \"89%\", \"1006 E YAGER LN\", \"2020-12-15T00:00:00\"], [\"Wheatsville Food Co-Op - Deli\", \"91%\", \"4001 S LAMAR BLVD\", \"2020-12-14T00:00:00\"], [\"Jiffy Sak\", \"95%\", \"6105 TECHNI CENTER DR\", \"2020-12-08T00:00:00\"], [\"EPIC POKE\", \"93%\", \"6448 E US\", \"2020-12-03T00:00:00\"], [\"Omelettry, The\", \"89%\", \"4631 AIRPORT BLVD\", \"2020-12-22T00:00:00\"], [\"LW - Orange Leaf\", \"95%\", \"2011 MAIN ST\", \"2020-12-07T00:00:00\"], [\"Westminster Manor AL & Arbour Dining Services\", \"92%\", \"4200 JACKSON AVE\", \"2020-12-01T00:00:00\"], [\"Rositas Al Pastor\", \"86%\", \"1911 E RIVERSIDE DR\", \"2020-12-16T00:00:00\"], [\"Short Stop\", \"83%\", \"6603 BERKMAN DR\", \"2020-12-01T00:00:00\"], [\"Lala's\", \"86%\", \"2207 JUSTIN LN\", \"2020-12-21T00:00:00\"], [\"KIPP Austin Public Schools\", \"96%\", \"8509 FM 969 RD\", \"2020-12-04T00:00:00\"], [\"Amy's Ice Cream\", \"95%\", \"10000 RESEARCH BLVD\", \"2020-12-21T00:00:00\"], [\"Ravenscroft Market\", \"87%\", \"11200 MANCHACA RD\", \"2020-12-03T00:00:00\"], [\"Nordstrom Ebar\", \"98%\", \"3111 PALM WAY\", \"2020-12-21T00:00:00\"], [\"Best Western Plus, Austin Airport\", \"92%\", \"1805 AIRPORT COMMERCE DR\", \"2020-12-17T00:00:00\"], [\"Star Papa\", \"98%\", \"11601 W US 290 HWY\", \"2020-12-04T00:00:00\"], [\"YMOK DayCare Austin LLC\", \"100%\", \"510 CLARKE ST\", \"2020-12-02T00:00:00\"], [\"Thundercloud Subs\", \"91%\", \"3204 GUADALUPE ST\", \"2020-12-14T00:00:00\"], [\"Little Caesar's Pizza\", \"87%\", \"4410 E RIVERSIDE DR\", \"2020-12-11T00:00:00\"], [\"Nana's Playhouse Learning Center\", \"96%\", \"4406 RUSSELL DR\", \"2020-12-04T00:00:00\"], [\"ATX Food Mart\", \"98%\", \"3002 S CONGRESS AVE\", \"2020-12-14T00:00:00\"], [\"PF - Children's Courtyard, The\", \"99%\", \"1308 PICADILLY DR\", \"2020-12-21T00:00:00\"], [\"Walnut Creek School\", \"96%\", \"401 W BRAKER LN\", \"2020-12-08T00:00:00\"], [\"Cuvee Coffee\", \"98%\", \"2000 E 6TH ST\", \"2020-12-11T00:00:00\"], [\"Ruby Thai Kitchen\", \"80%\", \"2901 S CAPITAL OF TEXAS HWY\", \"2020-12-09T00:00:00\"], [\"Chow Town Foods\", \"100%\", \"14735 BRATTON LN\", \"2020-12-16T00:00:00\"], [\"Cafe Regents\", \"90%\", \"3230 TRAVIS COUNTRY CIR\", \"2020-12-16T00:00:00\"], [\"Chili's Grill & Bar\", \"84%\", \"701 E STASSNEY LN\", \"2020-12-17T00:00:00\"], [\"Teapioca Arboretum\", \"86%\", \"10000 RESEARCH BLVD\", \"2020-12-14T00:00:00\"], [\"PF - La Patisserie by Oven - Fresh Delights\", \"98%\", \"2604 W PECAN ST\", \"2020-12-01T00:00:00\"], [\"Stop N Start\", \"88%\", \"6010 W PARMER LN\", \"2020-12-08T00:00:00\"], [\"PF - Shogun Japanese Grill & Sushi Bar\", \"75%\", \"18816 LIMESTONE COMMERCIAL DR\", \"2020-12-15T00:00:00\"], [\"Texan Market No. 7, The\", \"86%\", \"4205 MANCHACA RD\", \"2020-12-23T00:00:00\"], [\"House Wine\", \"89%\", \"408 JOSEPHINE ST\", \"2020-12-21T00:00:00\"], [\"Spokesman\", \"97%\", \"440 E ST ELMO RD\", \"2020-12-10T00:00:00\"], [\"Hudson's Hill Country\", \"93%\", \"3509 N FM 620 RD\", \"2020-12-22T00:00:00\"], [\"Subway #43067\", \"97%\", \"1910 W BRAKER LN\", \"2020-12-21T00:00:00\"], [\"Nothing Bundt Cakes - South Austin\", \"97%\", \"9600 S IH\", \"2020-12-04T00:00:00\"], [\"Growing Imaginations L.C.\", \"100%\", \"5410 S 1ST ST\", \"2020-12-07T00:00:00\"], [\"Village @ Marbridge\", \"100%\", \"2310 BLISS SPILLAR RD\", \"2020-12-02T00:00:00\"], [\"Intel ANA Cafe\", \"97%\", \"1300 S MOPAC EXPY\", \"2020-12-10T00:00:00\"], [\"Muro's Pizza\", \"98%\", \"6301 W PARMER LN\", \"2020-12-10T00:00:00\"], [\"Tiff's Treats\", \"80%\", \"11011 RESEARCH BLVD\", \"2020-12-02T00:00:00\"], [\"Children's Courtyard\", \"98%\", \"4213 SPICEWOOD SPRINGS RD\", \"2020-12-16T00:00:00\"], [\"Heritage Park Rehabilitation and Skilled Nursing Center\", \"95%\", \"2806 REAL ST\", \"2020-12-04T00:00:00\"], [\"Terry's Seafood\", \"86%\", \"1805 AIRPORT BLVD\", \"2020-12-08T00:00:00\"], [\"Batch Craft Beer & Kolaches\", \"91%\", \"3220 MANOR RD\", \"2020-12-11T00:00:00\"], [\"The Liberty\", \"100%\", \"1618 1 2 E 6TH ST\", \"2020-12-12T00:00:00\"], [\"Wendy's Old Fashioned Hamburgers #113\", \"80%\", \"6210 E BEN WHITE BLVD\", \"2020-12-18T00:00:00\"], [\"WL - Tacodeli V, L.L.C.\", \"92%\", \"701 S CAPITAL OF TEXAS HWY\", \"2020-12-18T00:00:00\"], [\"Challenger School Elementary\", \"94%\", \"15101 AVERY RANCH BLVD\", \"2020-12-07T00:00:00\"], [\"Kinder Care Learning Center\", \"95%\", \"6434 S CONGRESS AVE\", \"2020-12-11T00:00:00\"], [\"Pizza Paradise\", \"88%\", \"1921 CEDAR BEND DR\", \"2020-12-23T00:00:00\"], [\"Lamar C Store\", \"83%\", \"6301 N LAMAR BLVD\", \"2020-12-07T00:00:00\"], [\"McDonald's # 12430\", \"91%\", \"5762 N MOPAC EXPY\", \"2020-12-14T00:00:00\"], [\"Pho Noodle House, The\", \"73%\", \"609 CLAYTON LN\", \"2020-12-16T00:00:00\"], [\"Circle K #2741301\", \"92%\", \"1310 W HOWARD LN\", \"2020-12-22T00:00:00\"], [\"Chick-fil-A\", \"99%\", \"503 W MARTIN LUTHER KING JR BLVD\", \"2020-12-18T00:00:00\"], [\"BC - Rosie's Tamale House\", \"80%\", \"13436 W SH\", \"2020-12-02T00:00:00\"], [\"MN - Shipley Donuts\", \"83%\", \"11300 E US 290 HWY\", \"2020-12-04T00:00:00\"], [\"Insomnia Cookies\", \"96%\", \"2323 SAN ANTONIO ST\", \"2020-12-02T00:00:00\"], [\"Miraval Resort & Spa\", \"89%\", \"13500 FM 2769 RD\", \"2020-12-17T00:00:00\"], [\"LeRoy and Lewis BBQ\", \"93%\", \"630 RALPH ABLANEDO DR\", \"2020-12-17T00:00:00\"], [\"Paper Route Bakery\", \"100%\", \"1010 E CESAR CHAVEZ ST\", \"2020-12-21T00:00:00\"], [\"Asahi Imports\", \"85%\", \"6105 BURNET RD\", \"2020-12-11T00:00:00\"], [\"Danelia Rogel Fruit Cup Shop LLC\", \"72%\", \"704 E ST JOHNS AVE\", \"2020-12-09T00:00:00\"], [\"Whataburger #481\", \"100%\", \"11135 N IH\", \"2020-12-18T00:00:00\"], [\"Paperboy\", \"92%\", \"1203 E 11TH ST\", \"2020-12-21T00:00:00\"], [\"Jaime D. Padron Elementary\", \"100%\", \"2011 W RUNDBERG LN\", \"2020-12-16T00:00:00\"], [\"IHOP\", \"98%\", \"11654 RESEARCH BLVD\", \"2020-12-02T00:00:00\"], [\"Dairy Queen\", \"95%\", \"13301 N US 183 HWY\", \"2020-12-08T00:00:00\"], [\"Whataburger\", \"99%\", \"2800 GUADALUPE ST\", \"2020-12-22T00:00:00\"], [\"LW- HEB 714\", \"90%\", \"2000 S FM 620 RD\", \"2020-12-21T00:00:00\"], [\"Daily Food Store\", \"92%\", \"1071 SPRINGDALE RD\", \"2020-12-14T00:00:00\"], [\"Tienda Mexicana\", \"92%\", \"825 E RUNDBERG LN\", \"2020-12-11T00:00:00\"], [\"Gong Cha\", \"83%\", \"13201 N FM 620 RD\", \"2020-12-01T00:00:00\"], [\"Betos #2  Mexican Restaurant\", \"70%\", \"3306 OAK SPRINGS DR\", \"2020-12-11T00:00:00\"], [\"Tokyo Gardens Catering\", \"100%\", \"1434 W WELLS BRANCH PKWY\", \"2020-12-11T00:00:00\"], [\"Food Basket #7\", \"88%\", \"2015 W PARMER LN\", \"2020-12-22T00:00:00\"], [\"Brookdale Beckett Meadows\", \"78%\", \"7709 BECKETT RD\", \"2020-12-16T00:00:00\"], [\"Boston Market #1981\", \"80%\", \"4607 W BRAKER LN\", \"2020-12-16T00:00:00\"], [\"Omni Barton Creek\", \"90%\", \"8501 CARRANZO DR\", \"2020-12-10T00:00:00\"], [\"Las Lomas Mexican Restaurant\", \"73%\", \"730 W STASSNEY LN\", \"2020-12-16T00:00:00\"], [\"H & C Food Service\", \"79%\", \"1914 GUADALUPE ST\", \"2020-12-07T00:00:00\"], [\"BC - Spec's Wine, Spirits & Finer Foods\", \"100%\", \"13015 SHOPS PKWY\", \"2020-12-03T00:00:00\"], [\"Austin Eastciders Barton Springs\", \"89%\", \"1530 BARTON SPRINGS RD\", \"2020-12-03T00:00:00\"], [\"Pappadeaux Seafood Kitchen #3\", \"94%\", \"6319 N IH\", \"2020-12-11T00:00:00\"], [\"Galaxy Cafe\", \"97%\", \"1000 WEST LYNN ST\", \"2020-12-07T00:00:00\"], [\"Bread Basket\", \"81%\", \"2213 JUSTIN LN\", \"2020-12-04T00:00:00\"], [\"MOD Superfast Pizza\", \"97%\", \"1920 E RIVERSIDE DR\", \"2020-12-22T00:00:00\"], [\"Whataburger\", \"99%\", \"1616 E OLTORF ST\", \"2020-12-04T00:00:00\"], [\"Pillow Elementary\", \"99%\", \"3025 CROSSCREEK DR\", \"2020-12-16T00:00:00\"], [\"7 Eleven # 36610A\", \"89%\", \"2616 W BRAKER LN\", \"2020-12-21T00:00:00\"], [\"Bungalow\", \"100%\", \"92 RAINEY ST\", \"2020-12-05T00:00:00\"], [\"Einstein Bros Bagels #3111\", \"92%\", \"3010 W ANDERSON LN\", \"2020-12-08T00:00:00\"], [\"House of Little Angels\", \"96%\", \"735 TURTLE CREEK BLVD\", \"2020-12-04T00:00:00\"], [\"MN - Dollar General #6946\", \"86%\", \"12750 LAPOYNOR ST\", \"2020-12-09T00:00:00\"], [\"Ben White Shell\", \"83%\", \"2125 W BEN WHITE BLVD\", \"2020-12-23T00:00:00\"], [\"Mathews Elementary School\", \"100%\", \"906 WEST LYNN ST\", \"2020-12-10T00:00:00\"], [\"TLC\", \"90%\", \"1100 S LAMAR BLVD\", \"2020-12-03T00:00:00\"], [\"Randalls 2480 Bakery\", \"96%\", \"6600 S MOPAC EXPY\", \"2020-12-22T00:00:00\"], [\"Clifton Center\", \"97%\", \"1519 CORONADO HILLS DR\", \"2020-12-11T00:00:00\"], [\"Southside Flying Pizza - Arcade and Grill\", \"85%\", \"11600 MANCHACA RD\", \"2020-12-21T00:00:00\"], [\"Gonzalo Garza Independence H S\", \"96%\", \"1600 CHICON ST\", \"2020-12-16T00:00:00\"], [\"Whataburger #1022\", \"94%\", \"8300 N FM 620 RD\", \"2020-12-14T00:00:00\"], [\"Vaquero Taquero\", \"90%\", \"104 E 31ST ST\", \"2020-12-08T00:00:00\"], [\"BC - Falconhead Golf Club\", \"95%\", \"15201 FALCON HEAD BLVD\", \"2020-12-02T00:00:00\"], [\"Popeye's #325 - Z & H Foods Inc.\", \"90%\", \"2320 E RIVERSIDE DR\", \"2020-12-22T00:00:00\"], [\"Aviator Pizza & Drafthouse\", \"90%\", \"4005 W PARMER LN\", \"2020-12-01T00:00:00\"], [\"OOB - Sonic Drive In\", \"71%\", \"6816 MC NEIL DR\", \"2020-12-08T00:00:00\"], [\"Target Store T2288 -Grocery\", \"96%\", \"9500 S IH\", \"2020-12-07T00:00:00\"], [\"Marbridge Found-Senior Dorm\", \"94%\", \"2310 BLISS SPILLAR RD\", \"2020-12-02T00:00:00\"], [\"MN - Wendy's\", \"97%\", \"11808 RING DR\", \"2020-12-09T00:00:00\"], [\"Westminster Manor\", \"86%\", \"4100 JACKSON AVE\", \"2020-12-01T00:00:00\"], [\"Canteen @ Corning Optical Communications\", \"100%\", \"8201 N FM 620 RD\", \"2020-12-14T00:00:00\"], [\"PF - Papa John's #1127\", \"90%\", \"900 E PECAN\", \"2020-12-17T00:00:00\"], [\"Sonic Drive-In, Austin, North Lamar, LP\", \"93%\", \"9325 N LAMAR BLVD\", \"2020-12-17T00:00:00\"], [\"People's Pharmacy\", \"93%\", \"4201 WESTBANK DR\", \"2020-12-08T00:00:00\"], [\"Pizza Press, The\", \"87%\", \"404 W 26TH ST\", \"2020-12-15T00:00:00\"], [\"Randall's #2480-Retail\", \"93%\", \"6600 S MOPAC EXPY\", \"2020-12-22T00:00:00\"], [\"Bee Grocery, The\", \"88%\", \"1001 E 6TH ST\", \"2020-12-23T00:00:00\"], [\"KIPP Austin Arts & Letters\", \"98%\", \"8509 FM 969 RD\", \"2020-12-04T00:00:00\"], [\"Central District Brewing\", \"96%\", \"417 RED RIVER ST\", \"2020-12-07T00:00:00\"], [\"BC - All Star Burger\", \"88%\", \"12921 HILL COUNTRY BLVD\", \"2020-12-03T00:00:00\"], [\"Rudy's Country Store & BBQ\", \"96%\", \"3914 N LAMAR BLVD\", \"2020-12-09T00:00:00\"], [\"Challenger School\", \"100%\", \"13015 POND SPRINGS RD\", \"2020-12-08T00:00:00\"], [\"Little Caesars Pizza\", \"95%\", \"2601 E 7TH ST\", \"2020-12-16T00:00:00\"], [\"MN-Country Boyz Fixins\", \"88%\", \"101 N LEXINGTON ST\", \"2020-12-04T00:00:00\"], [\"League, The\", \"80%\", \"10526 W PARMER LN\", \"2020-12-21T00:00:00\"], [\"Shipley's Donuts\", \"94%\", \"1045 NORWOOD PARK BLVD\", \"2020-12-10T00:00:00\"], [\"Austin Catering\", \"97%\", \"2700 W ANDERSON LN\", \"2020-12-10T00:00:00\"], [\"Big Easy Bar and Grill\", \"92%\", \"1806 E 12TH ST\", \"2020-12-02T00:00:00\"], [\"Smoothie King\", \"97%\", \"4301 W WILLIAM CANNON DR\", \"2020-12-04T00:00:00\"], [\"Rusty Cannon Pub\", \"79%\", \"730 W STASSNEY LN\", \"2020-12-18T00:00:00\"], [\"Magellan International School, The\", \"100%\", \"7130 CHIMNEY CORNERS\", \"2020-12-01T00:00:00\"], [\"Barnison Catering\", \"100%\", \"2614 EXPOSITION BLVD\", \"2020-12-03T00:00:00\"], [\"Twin Liquors #44\", \"97%\", \"4001 S LAMAR BLVD\", \"2020-12-23T00:00:00\"], [\"Wal-Mart Supercenter Deli/Bakery #5317\", \"97%\", \"9300 S IH\", \"2020-12-21T00:00:00\"], [\"7-Eleven Convenience Store #36263B\", \"91%\", \"3801 W PARMER LN\", \"2020-12-23T00:00:00\"], [\"Walgreen #4458\", \"98%\", \"3601 W WILLIAM CANNON DR\", \"2020-12-22T00:00:00\"], [\"Fresh Plus\", \"83%\", \"2401 SAN GABRIEL ST\", \"2020-12-22T00:00:00\"], [\"Erica Nelson Brown Catering\", \"100%\", \"12800 GALLERIA CIR\", \"2020-12-07T00:00:00\"], [\"LW - Jason's Deli\", \"89%\", \"1504 S FM 620 RD\", \"2020-12-02T00:00:00\"], [\"Tortilleria Rio Grande\", \"80%\", \"500 W WILLIAM CANNON DR\", \"2020-12-18T00:00:00\"], [\"Foodheads\", \"92%\", \"616 W 34TH ST\", \"2020-12-17T00:00:00\"], [\"Lamppost Coffee\", \"94%\", \"515 CONGRESS AVE\", \"2020-12-04T00:00:00\"], [\"Susy's Child Care\", \"87%\", \"308 W WILLIAM CANNON DR\", \"2020-12-04T00:00:00\"], [\"LW - Lakeway Market\", \"80%\", \"2114 LAKEWAY BLVD\", \"2020-12-02T00:00:00\"], [\"Home 2 Suites by Hilton\", \"96%\", \"1705 AIRPORT COMMERCE DR\", \"2020-12-17T00:00:00\"], [\"Upper Crust Bakery\", \"90%\", \"4508 BURNET RD\", \"2020-12-18T00:00:00\"], [\"Star Stop 74\", \"96%\", \"2819 GUADALUPE ST\", \"2020-12-03T00:00:00\"], [\"LW - Sakura Sushi & Bar\", \"70%\", \"1945 MEDICAL DR\", \"2020-12-21T00:00:00\"], [\"Staybridge Suites Austin South Interstate 35\", \"97%\", \"901 LITTLE TEXAS LN\", \"2020-12-10T00:00:00\"], [\"Respite Recovery\", \"95%\", \"403 E 15TH ST\", \"2020-12-03T00:00:00\"], [\"Lavallarta Restaurant\", \"88%\", \"6628 S CONGRESS AVE\", \"2020-12-07T00:00:00\"], [\"P F Chang's To Go - Mix on Burnet\", \"96%\", \"8023 BURNET RD\", \"2020-12-22T00:00:00\"], [\"Alternative Learning Center School\", \"99%\", \"4900 GONZALES ST\", \"2020-12-07T00:00:00\"], [\"Paleface Grocery\", \"89%\", \"23526 W SH\", \"2020-12-07T00:00:00\"], [\"Graceland Grocery\", \"97%\", \"8600 W US 290 HWY\", \"2020-12-08T00:00:00\"], [\"Casa Linda Taqueria\", \"94%\", \"623 W DITTMAR RD\", \"2020-12-10T00:00:00\"], [\"Jimmy John's Gourmet Sandwiches\", \"97%\", \"13429 N US 183 HWY\", \"2020-12-10T00:00:00\"], [\"Children's Courtyard\", \"90%\", \"11718 METRIC BLVD\", \"2020-12-22T00:00:00\"], [\"Sun Ray Waters\", \"98%\", \"7801 N LAMAR BLVD\", \"2020-12-21T00:00:00\"], [\"7-Eleven #36562H\", \"90%\", \"6422 S US 183 HWY\", \"2020-12-17T00:00:00\"], [\"Amy's Ice Cream\", \"94%\", \"3500 GUADALUPE ST\", \"2020-12-07T00:00:00\"], [\"Church's Chicken Store No. 765\", \"87%\", \"8545 RESEARCH BLVD\", \"2020-12-11T00:00:00\"], [\"Taco Bell #030157\", \"96%\", \"1016 E ANDERSON LN\", \"2020-12-10T00:00:00\"], [\"Lamar Middle School\", \"99%\", \"6201 WYNONA AVE\", \"2020-12-04T00:00:00\"], [\"Fast Food Store\", \"81%\", \"4611 E MARTIN LUTHER KING JR BLVD\", \"2020-12-21T00:00:00\"], [\"MTM Indian Foods\", \"90%\", \"9225 W PARMER LN\", \"2020-12-21T00:00:00\"], [\"PF - HEB Food Store #479 (Bakery)\", \"97%\", \"201 N FM\", \"2020-12-15T00:00:00\"], [\"Subway\", \"90%\", \"6001 W PARMER LN\", \"2020-12-22T00:00:00\"], [\"China Steakhouse\", \"96%\", \"15511 W SH\", \"2020-12-14T00:00:00\"], [\"Bricker Food and Beverage\", \"98%\", \"630 RALPH ABLANEDO DR\", \"2020-12-17T00:00:00\"], [\"Taco Shack\", \"93%\", \"2825 GUADALUPE ST\", \"2020-12-08T00:00:00\"], [\"Chipotle Mexican Grill #3328\", \"99%\", \"1109 E 5TH ST\", \"2020-12-11T00:00:00\"], [\"Royal Blue Grocery\", \"96%\", \"301 BRAZOS ST\", \"2020-12-08T00:00:00\"], [\"Whataburger #132\", \"96%\", \"9516 N LAMAR BLVD\", \"2020-12-23T00:00:00\"], [\"BC-Hill Country Indoor\", \"96%\", \"13875 BEE CAVE PKWY\", \"2020-12-04T00:00:00\"], [\"District\", \"71%\", \"5900 W SLAUGHTER LN\", \"2020-12-11T00:00:00\"], [\"Stepping Stone School\", \"77%\", \"6616 MC NEIL DR\", \"2020-12-01T00:00:00\"], [\"Little Darlin', The\", \"80%\", \"6507 CIRCLE S RD\", \"2020-12-17T00:00:00\"], [\"Las Mangonadas\", \"91%\", \"1144 AIRPORT BLVD\", \"2020-12-21T00:00:00\"], [\"Madam Mam\", \"92%\", \"510 W 26TH ST\", \"2020-12-17T00:00:00\"], [\"LW - Little Sunshine's Playhouse & Preschool\", \"98%\", \"1501 LOHMANS CROSSING RD\", \"2020-12-23T00:00:00\"], [\"Mariana's Kitchen\", \"90%\", \"5510 S IH\", \"2020-12-16T00:00:00\"], [\"Pizza Hut\", \"87%\", \"8500 N LAMAR BLVD\", \"2020-12-04T00:00:00\"], [\"BC - CVS/ Pharmacy # 8925\", \"98%\", \"14057 BEE CAVE PKWY\", \"2020-12-03T00:00:00\"], [\"Fujiyama\", \"97%\", \"4815 W BRAKER LN\", \"2020-12-15T00:00:00\"], [\"Braker Food Mart\", \"87%\", \"11300 N IH\", \"2020-12-09T00:00:00\"], [\"Subway 66727\", \"94%\", \"8906 BRODIE LN\", \"2020-12-15T00:00:00\"], [\"La Quinta Inn #0522\", \"94%\", \"1603 E OLTORF ST\", \"2020-12-18T00:00:00\"], [\"Las Delicias Meat Market-Kitchen\", \"75%\", \"111 W WILLIAM CANNON DR\", \"2020-12-07T00:00:00\"], [\"Shipley Donuts\", \"88%\", \"2113 W ANDERSON LN\", \"2020-12-15T00:00:00\"], [\"MN - Taqueria La Parrillita\", \"98%\", \"10400 E US 290 HWY\", \"2020-12-17T00:00:00\"], [\"Lone Star Kolaches\", \"83%\", \"1701 W PARMER LN\", \"2020-12-21T00:00:00\"], [\"Austin's Moontower Saloon\", \"100%\", \"10212 MANCHACA RD\", \"2020-12-22T00:00:00\"], [\"Austin's Pizza #7\", \"92%\", \"10900 RESEARCH BLVD\", \"2020-12-17T00:00:00\"], [\"Four Brothers\", \"93%\", \"2901 S CAPITAL OF TEXAS HWY\", \"2020-12-09T00:00:00\"], [\"PF - Eden Cafe\", \"76%\", \"15803 WINDERMERE DR\", \"2020-12-01T00:00:00\"], [\"PF - HEB Food Store #479 (Deli)\", \"95%\", \"201 N FM\", \"2020-12-15T00:00:00\"], [\"LW - Sandeez Hamburger Hut\", \"86%\", \"113 N FM 620 RD\", \"2020-12-03T00:00:00\"], [\"Barton Hills Elementary\", \"98%\", \"2108 BARTON HILLS DR\", \"2020-12-15T00:00:00\"], [\"Abacus School of Austin\", \"91%\", \"14115 AVERY RANCH BLVD\", \"2020-12-10T00:00:00\"], [\"Escarpment Exxon\", \"93%\", \"6109 W WILLIAM CANNON DR\", \"2020-12-01T00:00:00\"], [\"Wal-Mart Supercenter #1253\", \"99%\", \"710 E BEN WHITE BLVD\", \"2020-12-15T00:00:00\"], [\"Eskimo Hut Beer-Wine-Frozen Daquiris to Go\", \"100%\", \"1045 NORWOOD PARK BLVD\", \"2020-12-10T00:00:00\"], [\"Hunan Ranch\", \"80%\", \"14900 AVERY RANCH BLVD\", \"2020-12-07T00:00:00\"], [\"Cedar Creek Elem. School\", \"98%\", \"3301 PINNACLE RD\", \"2020-12-16T00:00:00\"], [\"Nueces Mart\", \"95%\", \"2700 NUECES ST\", \"2020-12-15T00:00:00\"], [\"Hardin House\", \"94%\", \"2206 RIO GRANDE ST\", \"2020-12-07T00:00:00\"], [\"Austin Montessori School, Inc\", \"99%\", \"6819 GREAT NORTHERN BLVD\", \"2020-12-17T00:00:00\"], [\"El Tacorrido\", \"92%\", \"5811 BERKMAN DR\", \"2020-12-18T00:00:00\"], [\"BC - Sonesta Bee Cave\", \"90%\", \"12525 BEE CAVE PKWY\", \"2020-12-15T00:00:00\"], [\"7-Eleven Convenience Store #36680A\", \"91%\", \"3848 AIRPORT BLVD\", \"2020-12-18T00:00:00\"], [\"La Michoacana Meat Market\", \"89%\", \"9811 N IH\", \"2020-12-09T00:00:00\"], [\"Julie Myrtille Bakery\", \"88%\", \"1023 SPRINGDALE RD\", \"2020-12-02T00:00:00\"], [\"Twin Lion Chinese Restaurant\", \"92%\", \"4815 W BRAKER LN\", \"2020-12-02T00:00:00\"], [\"Bridgepoint Elem School\", \"96%\", \"6401 CEDAR ST\", \"2020-12-16T00:00:00\"], [\"Courtesy Shell #2\", \"90%\", \"3906 S CONGRESS AVE\", \"2020-12-14T00:00:00\"], [\"Austin Diner\", \"82%\", \"5222 BURNET RD\", \"2020-12-03T00:00:00\"], [\"Galindo Elementary\", \"98%\", \"3800 S 2ND ST\", \"2020-12-15T00:00:00\"], [\"Pi Beta Phi Sorority\", \"93%\", \"2300 SAN ANTONIO ST\", \"2020-12-14T00:00:00\"], [\"Omni Austin\", \"94%\", \"701 BRAZOS ST\", \"2020-12-15T00:00:00\"], [\"Snack Max\", \"85%\", \"5630 N LAMAR BLVD\", \"2020-12-17T00:00:00\"], [\"Jack in the Box #907\", \"88%\", \"1151 AIRPORT BLVD\", \"2020-12-18T00:00:00\"], [\"The Gossip Shack 2\", \"89%\", \"1615 GRAND AVENUE PKWY\", \"2020-12-01T00:00:00\"], [\"HEB #236\", \"98%\", \"1434 W WELLS BRANCH PKWY\", \"2020-12-11T00:00:00\"], [\"Las Palomas\", \"84%\", \"3201 BEE CAVES RD\", \"2020-12-08T00:00:00\"], [\"Champ's Food Mart\", \"96%\", \"2433 S PLEASANT VALLEY RD\", \"2020-12-17T00:00:00\"], [\"Wheatsville Food Co-Op\", \"97%\", \"4001 S LAMAR BLVD\", \"2020-12-14T00:00:00\"], [\"Smokey Denmark Sausage\", \"97%\", \"3505 E 5TH ST\", \"2020-12-15T00:00:00\"], [\"Viva Food Mart - Taqueria\", \"85%\", \"8610 N LAMAR BLVD\", \"2020-12-15T00:00:00\"], [\"Dia's Market\", \"77%\", \"812 JUSTIN LN\", \"2020-12-07T00:00:00\"], [\"Starbucks Coffee #6470\", \"95%\", \"1001 CONGRESS AVE\", \"2020-12-01T00:00:00\"], [\"Hudson Bend Grocery\", \"97%\", \"5001 HUDSON BEND RD\", \"2020-12-10T00:00:00\"], [\"PF - Rio Grande Tex Mex\", \"86%\", \"15821 CENTRAL COMMERCE DR\", \"2020-12-15T00:00:00\"], [\"Wal-Mart Deli & Bakery\", \"93%\", \"710 E BEN WHITE BLVD\", \"2020-12-15T00:00:00\"], [\"New Generation Daycare\", \"92%\", \"2606 S 1ST ST\", \"2020-12-22T00:00:00\"], [\"Wendy's Old Fashioned Hamburgers #116\", \"95%\", \"2224 E RIVERSIDE DR\", \"2020-12-10T00:00:00\"], [\"Wingstop #164\", \"93%\", \"2410 E RIVERSIDE DR\", \"2020-12-07T00:00:00\"], [\"Mom's Convenience Store, Inc.\", \"93%\", \"10900 W US 290 HWY\", \"2020-12-08T00:00:00\"], [\"Coco's Cafe\", \"94%\", \"8557 RESEARCH BLVD\", \"2020-12-21T00:00:00\"], [\"Wing Daddy's Sauce House\", \"75%\", \"9811 S IH\", \"2020-12-16T00:00:00\"], [\"BC - Madam Mam's Thai Cuisine\", \"78%\", \"3929 MARKET ST\", \"2020-12-03T00:00:00\"], [\"PF - Morelia Mexican Grill\", \"72%\", \"18900 LIMESTONE COMMERCIAL DR\", \"2020-12-16T00:00:00\"], [\"Howdy Donut\", \"97%\", \"10815 FM 2222 RD\", \"2020-12-03T00:00:00\"], [\"PF - Los Amigos Market (Meat)\", \"90%\", \"15812 WINDERMERE DR\", \"2020-12-01T00:00:00\"], [\"Zachary Scott Theatre\", \"100%\", \"1510 TOOMEY RD\", \"2020-12-10T00:00:00\"], [\"Austin Recovery Inc.\", \"96%\", \"13207 WRIGHT RD\", \"2020-12-08T00:00:00\"], [\"BC - Maudie's Hill Country LLC\", \"84%\", \"12506 SHOPS PKWY\", \"2020-12-02T00:00:00\"], [\"7 - Eleven # 23807B\", \"99%\", \"6306 MANCHACA RD\", \"2020-12-18T00:00:00\"], [\"Dell Seton Medical Center at the University of Texas\", \"90%\", \"1500 RED RIVER ST\", \"2020-12-03T00:00:00\"], [\"Home of Southern Hospitality LLC\", \"86%\", \"5000 SHOALWOOD AVE\", \"2020-12-01T00:00:00\"], [\"BC - Yaghi's New York Pizzeria\", \"91%\", \"12400 W SH\", \"2020-12-01T00:00:00\"], [\"Kinder Care #155\", \"97%\", \"610 EMERALD WOOD DR\", \"2020-12-02T00:00:00\"], [\"Central Market: Deli/Bakery/Produce\", \"97%\", \"4477 S LAMAR BLVD\", \"2020-12-02T00:00:00\"], [\"Nurturing Child Care Center\", \"90%\", \"1054 SPRINGDALE RD\", \"2020-12-15T00:00:00\"], [\"Julio's Restaurant, Inc.\", \"94%\", \"4230 DUVAL ST\", \"2020-12-01T00:00:00\"], [\"Sleep Inn & Suites\", \"98%\", \"14004 OWEN TECH BLVD\", \"2020-12-21T00:00:00\"], [\"Poco Loco Supermercado - Deli & Bakery\", \"81%\", \"611 W BEN WHITE BLVD\", \"2020-12-10T00:00:00\"], [\"Chi'Lantro - Parmer\", \"96%\", \"6301 W PARMER LN\", \"2020-12-14T00:00:00\"], [\"Blue Star Alkaline Water Store\", \"100%\", \"1154 ANGELINA ST\", \"2020-12-23T00:00:00\"], [\"Domino's Pizza\", \"97%\", \"10001 S IH\", \"2020-12-08T00:00:00\"], [\"Asian American Cultural Center\", \"90%\", \"11713 JOLLYVILLE RD\", \"2020-12-15T00:00:00\"], [\"Tic Tac Toe\", \"92%\", \"2003 W ANDERSON LN\", \"2020-12-10T00:00:00\"], [\"Lost Creek Ctry Club Snack Bar\", \"99%\", \"2612 LOST CREEK BLVD\", \"2020-12-16T00:00:00\"], [\"Accent Food Services\", \"98%\", \"5501 AIRPORT BLVD\", \"2020-12-22T00:00:00\"], [\"Master Donuts\", \"81%\", \"1725 E RIVERSIDE DR\", \"2020-12-10T00:00:00\"], [\"Cost Plus World Market #74\", \"93%\", \"9333 RESEARCH BLVD\", \"2020-12-17T00:00:00\"], [\"My Friends House Child Care\", \"100%\", \"7050 VILLAGE CENTER DR\", \"2020-12-14T00:00:00\"], [\"Riverside Golf Course\", \"92%\", \"1020 GROVE BLVD\", \"2020-12-16T00:00:00\"], [\"Chick-Fil-A\", \"98%\", \"161 W SLAUGHTER LN\", \"2020-12-17T00:00:00\"], [\"BC - Snack Max # 6\", \"75%\", \"13006 W SH\", \"2020-12-03T00:00:00\"], [\"Short Stop #5\", \"84%\", \"3001 W ANDERSON LN\", \"2020-12-14T00:00:00\"], [\"IDEA Public Schools - Rundberg\", \"93%\", \"700 SHOWPLACE LN\", \"2020-12-08T00:00:00\"], [\"Burnet Jr. High\", \"97%\", \"8401 HATHAWAY DR\", \"2020-12-16T00:00:00\"], [\"Taco Bell #30099\", \"100%\", \"7793 BURNET RD\", \"2020-12-22T00:00:00\"], [\"Sushi Japon Steak House\", \"77%\", \"807 CAMINO LA\", \"2020-12-16T00:00:00\"], [\"BC-Marble Slab /Great American Cookies\", \"95%\", \"12717 SHOPS PKWY\", \"2020-12-03T00:00:00\"], [\"Riverbend Church\", \"88%\", \"4214 N CAPITAL OF TEXAS HWY\", \"2020-12-21T00:00:00\"], [\"JuiceLand Dom\", \"96%\", \"3120 PALM WAY\", \"2020-12-21T00:00:00\"], [\"Child's Day Child Development Center\", \"100%\", \"2525 WALLINGWOOD DR\", \"2020-12-21T00:00:00\"], [\"Fairfield Inn and Suites Austin NW/Research\", \"94%\", \"13087 N US 183 HWY\", \"2020-12-22T00:00:00\"], [\"WL - Randall's #2477-Starbucks\", \"100%\", \"3300 BEE CAVES RD\", \"2020-12-07T00:00:00\"], [\"RW - Panera Bread Bakery and Cafe\", \"86%\", \"2805 BEE CAVES RD\", \"2020-12-16T00:00:00\"], [\"Rudy's Country Store\", \"95%\", \"11570 RESEARCH BLVD\", \"2020-12-10T00:00:00\"], [\"WL - Maryes Gourmet Pizza\", \"93%\", \"3663 BEE CAVES RD\", \"2020-12-07T00:00:00\"], [\"Salvation Pizza\", \"73%\", \"11501 ROCK ROSE AVE\", \"2020-12-22T00:00:00\"], [\"Randalls 2480 Deli\", \"98%\", \"6600 S MOPAC EXPY\", \"2020-12-22T00:00:00\"], [\"MN - McDonald's of Manor\", \"89%\", \"12609 LEXINGTON ST\", \"2020-12-09T00:00:00\"], [\"Dry Creek Shell\", \"89%\", \"3800 DRY CREEK DR\", \"2020-12-15T00:00:00\"], [\"Nordstrom's Cafe Bistro\", \"92%\", \"2901 S CAPITAL OF TEXAS HWY\", \"2020-12-22T00:00:00\"], [\"Super 8 Capitol Downtown\", \"96%\", \"1201 N IH\", \"2020-12-14T00:00:00\"], [\"La Sabrocita Restaurant & Tortilleria\", \"91%\", \"850 E RUNDBERG LN\", \"2020-12-09T00:00:00\"], [\"Moms 6\", \"90%\", \"6301 E RIVERSIDE DR\", \"2020-12-18T00:00:00\"], [\"Highway Food Mart\", \"79%\", \"4535 E SH\", \"2020-12-17T00:00:00\"], [\"Teapioca Lounge\", \"98%\", \"1700 W PARMER LN\", \"2020-12-22T00:00:00\"], [\"Ashley's Playhouse\", \"100%\", \"13343 N US 183 HWY\", \"2020-12-08T00:00:00\"], [\"Capt Benny's Seafood\", \"90%\", \"5700 N IH\", \"2020-12-01T00:00:00\"], [\"Wendy's #W129/11274\", \"90%\", \"10701 RESEARCH BLVD\", \"2020-12-23T00:00:00\"], [\"Kid Spa Austin\", \"94%\", \"12809 N FM 620 RD\", \"2020-12-14T00:00:00\"], [\"Panera Bread\", \"82%\", \"4625 W WILLIAM CANNON DR\", \"2020-12-11T00:00:00\"], [\"The Carpenter Hotel\", \"96%\", \"400 JOSEPHINE ST\", \"2020-12-03T00:00:00\"], [\"Honest Mary's\", \"86%\", \"4800 BURNET RD\", \"2020-12-17T00:00:00\"], [\"Chinatown Restaurant\", \"71%\", \"3407 GREYSTONE DR\", \"2020-12-01T00:00:00\"], [\"Ann Richards School For Girls\", \"99%\", \"2206 PRATHER LN\", \"2020-12-16T00:00:00\"], [\"Short Stop\", \"83%\", \"6920 MANCHACA RD\", \"2020-12-01T00:00:00\"], [\"Subs-N-More / AM Petroleum\", \"86%\", \"3926 ED BLUESTEIN BLVD\", \"2020-12-04T00:00:00\"], [\"Northland Shell\", \"81%\", \"3310 NORTHLAND DR\", \"2020-12-09T00:00:00\"], [\"Subway\", \"90%\", \"4410 E RIVERSIDE DR\", \"2020-12-23T00:00:00\"], [\"Austin Ice\", \"100%\", \"1 2 8512 N LAMAR BLVD\", \"2020-12-09T00:00:00\"], [\"Sugar Pine\", \"86%\", \"8578 RESEARCH BLVD\", \"2020-12-15T00:00:00\"], [\"Austin Ridge Bible Church\", \"96%\", \"9300 FM 2244 RD\", \"2020-12-14T00:00:00\"], [\"Canteen @ Dell Seton Medical Center\", \"100%\", \"1500 RED RIVER ST\", \"2020-12-03T00:00:00\"], [\"MN-Libation Station\", \"100%\", \"201 E PARSONS ST\", \"2020-12-04T00:00:00\"], [\"Cannon Coffee\", \"95%\", \"1901 W WILLIAM CANNON DR\", \"2020-12-03T00:00:00\"], [\"Camino Real Restaurant\", \"95%\", \"8650 SPICEWOOD SPRINGS RD\", \"2020-12-03T00:00:00\"], [\"Biderman's Deli, LLC\", \"94%\", \"3742 FAR WEST BLVD\", \"2020-12-17T00:00:00\"], [\"Ken's Subs, Tacos and More\", \"86%\", \"9408 DESSAU RD\", \"2020-12-07T00:00:00\"], [\"PD Thai Cuisine\", \"90%\", \"3208 GUADALUPE ST\", \"2020-12-14T00:00:00\"], [\"Schlotzsky's Deli\", \"95%\", \"111 W WILLIAM CANNON DR\", \"2020-12-14T00:00:00\"], [\"BC - Edible Arrangements #1705\", \"97%\", \"11905 FM 2244 RD\", \"2020-12-02T00:00:00\"], [\"Bread Basket\", \"88%\", \"11410 MANCHACA RD\", \"2020-12-14T00:00:00\"], [\"Thundercloud Subs\", \"88%\", \"2801 S LAMAR BLVD\", \"2020-12-08T00:00:00\"], [\"BC - HEB Food Store #404\", \"91%\", \"12400 W SH\", \"2020-12-01T00:00:00\"], [\"House of Three Gorges\", \"70%\", \"8557 RESEARCH BLVD\", \"2020-12-17T00:00:00\"], [\"Yummi Taco\", \"90%\", \"12518 RESEARCH BLVD\", \"2020-12-07T00:00:00\"], [\"Austin High School\", \"95%\", \"1715 W CESAR CHAVEZ ST\", \"2020-12-10T00:00:00\"], [\"Mi Ranchito Taqueria\", \"96%\", \"1105 W FM 1626 RD\", \"2020-12-22T00:00:00\"], [\"Bar-B-Q-Inn\", \"70%\", \"9310 N LAMAR BLVD\", \"2020-12-03T00:00:00\"], [\"McDonald's\", \"92%\", \"2426 E RIVERSIDE DR\", \"2020-12-10T00:00:00\"], [\"IAS Austin\", \"99%\", \"8201 N FM 620 RD\", \"2020-12-14T00:00:00\"], [\"Dog Haus\", \"87%\", \"8023 BURNET RD\", \"2020-12-22T00:00:00\"], [\"BC - Domino's\", \"99%\", \"11805 FM 2244 RD\", \"2020-12-02T00:00:00\"], [\"Pho with US\", \"79%\", \"9900 S IH\", \"2020-12-18T00:00:00\"], [\"Subway Sandwich #22880\", \"93%\", \"1030 NORWOOD PARK BLVD\", \"2020-12-10T00:00:00\"], [\"Chick-Fil-A\", \"95%\", \"5033 W US 290 HWY\", \"2020-12-03T00:00:00\"], [\"BC - Jersey Mike's Subs\", \"92%\", \"4005 MARKET ST\", \"2020-12-03T00:00:00\"], [\"Subway Sandwiches\", \"98%\", \"6105 TECHNI CENTER DR\", \"2020-12-08T00:00:00\"], [\"Bread Basket - Chevron\", \"86%\", \"9401 S US 183 HWY\", \"2020-12-15T00:00:00\"], [\"Ramen Tatsu-Ya comal\", \"91%\", \"1600 E 6TH ST\", \"2020-12-17T00:00:00\"], [\"Osio\", \"95%\", \"2901 S CAPITAL OF TEXAS HWY\", \"2020-12-02T00:00:00\"], [\"Ike's Love & Sandwiches\", \"97%\", \"5207 BRODIE LN\", \"2020-12-03T00:00:00\"], [\"BC-Learn and Laugh Preschool\", \"93%\", \"11715 FM 2244 RD\", \"2020-12-02T00:00:00\"], [\"Poco Loco Supermercado\", \"81%\", \"1148 AIRPORT BLVD\", \"2020-12-22T00:00:00\"], [\"El Pollo Rico # 11\", \"93%\", \"609 W SLAUGHTER LN\", \"2020-12-17T00:00:00\"], [\"Lamar Grocery\", \"92%\", \"2238 S LAMAR BLVD\", \"2020-12-23T00:00:00\"], [\"Alameda House\", \"93%\", \"4019 MANCHACA RD\", \"2020-12-11T00:00:00\"], [\"Golden Chick\", \"93%\", \"9600 N LAMAR BLVD\", \"2020-12-23T00:00:00\"], [\"PF - Tokyo Garden Catering, LLC\", \"99%\", \"201 N FM\", \"2020-12-15T00:00:00\"], [\"LW - Lupine Lane\", \"98%\", \"1001 HIGHLANDS BLVD\", \"2020-12-04T00:00:00\"], [\"Gattis Pizza\", \"100%\", \"801 E WILLIAM CANNON DR\", \"2020-12-08T00:00:00\"], [\"GoPuff\", \"98%\", \"1138 AIRPORT BLVD\", \"2020-12-14T00:00:00\"], [\"Tony C's Pizza & Wine Bar\", \"80%\", \"10526 W PARMER LN\", \"2020-12-10T00:00:00\"], [\"J.D's Market #4\", \"80%\", \"11720 FM 1826 RD\", \"2020-12-08T00:00:00\"], [\"El Pollo Rico #13\", \"90%\", \"110 E WILLIAM CANNON DR\", \"2020-12-03T00:00:00\"], [\"LW - Randall's #1779 -Deli\", \"98%\", \"2301 S FM 620 RD\", \"2020-12-02T00:00:00\"], [\"PF - HEB Food Store #479 (Meat & Seafood)\", \"96%\", \"201 N FM\", \"2020-12-15T00:00:00\"], [\"Bluebonnet School of Canyon Creek\", \"94%\", \"10321 BOULDER LN\", \"2020-12-14T00:00:00\"], [\"WL - Jersey Mikes Subs\", \"98%\", \"3300 BEE CAVES RD\", \"2020-12-08T00:00:00\"], [\"Walgreens #03092\", \"100%\", \"8104 MESA DR\", \"2020-12-18T00:00:00\"], [\"Way South Philly Deli\", \"96%\", \"5222 BURNET RD\", \"2020-12-07T00:00:00\"], [\"Freddy's Frozen Custard & Steakburgers\", \"90%\", \"8300 N FM 620 RD\", \"2020-12-14T00:00:00\"], [\"La Quinta Inn & Suites # 937\", \"96%\", \"11901 N MOPAC EXPY\", \"2020-12-23T00:00:00\"], [\"Soup Peddler, The\", \"93%\", \"4631 AIRPORT BLVD\", \"2020-12-18T00:00:00\"], [\"Beer Geek\", \"94%\", \"2051 W FM 1626 RD\", \"2020-12-22T00:00:00\"], [\"C- Mart #9\", \"92%\", \"8523 RESEARCH BLVD\", \"2020-12-15T00:00:00\"], [\"Two Steps Ahead Learning Center\", \"95%\", \"3028 ROGGE LN\", \"2020-12-15T00:00:00\"], [\"Whataburger\", \"96%\", \"6301 W PARMER LN\", \"2020-12-04T00:00:00\"], [\"Marbridge Foundation-Winters\", \"97%\", \"2310 BLISS SPILLAR RD\", \"2020-12-02T00:00:00\"], [\"Taco Cabana #129\", \"87%\", \"2507 E RIVERSIDE DR\", \"2020-12-16T00:00:00\"], [\"MN - Excel High School\", \"100%\", \"600 E PARSONS ST\", \"2020-12-02T00:00:00\"], [\"Express Food Mart #7\", \"79%\", \"10500 N LAMAR BLVD\", \"2020-12-23T00:00:00\"], [\"Tierra Linda Taqueria\", \"93%\", \"8540 RESEARCH BLVD\", \"2020-12-02T00:00:00\"], [\"Super 8 Motel\", \"93%\", \"5606 E 51ST ST\", \"2020-12-15T00:00:00\"], [\"Circle K Store #2704682\", \"85%\", \"6500 S US 183 HWY\", \"2020-12-15T00:00:00\"], [\"1-Stop Food Store\", \"97%\", \"5101 AIRPORT BLVD\", \"2020-12-16T00:00:00\"], [\"Staybridge Suites\", \"91%\", \"13000 N IH\", \"2020-12-22T00:00:00\"], [\"Suprabhat\", \"70%\", \"9225 W PARMER LN\", \"2020-12-21T00:00:00\"], [\"Daily Juice Cafe\", \"100%\", \"3720 FAR WEST BLVD\", \"2020-12-11T00:00:00\"], [\"Springhill Suites Austin North\", \"97%\", \"12520 N IH\", \"2020-12-22T00:00:00\"], [\"Profile by Sanford\", \"93%\", \"9607 RESEARCH BLVD\", \"2020-12-16T00:00:00\"], [\"Crazy Fruits # 3\", \"98%\", \"5611 S US 183 HWY\", \"2020-12-15T00:00:00\"], [\"WL - Izumi Sushi\", \"87%\", \"701 S CAPITAL OF TEXAS HWY\", \"2020-12-08T00:00:00\"], [\"7-Eleven Convenience Store #35801A\", \"89%\", \"9704 GILES LN\", \"2020-12-18T00:00:00\"], [\"Great Hills Golf Club\", \"90%\", \"5914 LOST HORIZON DR\", \"2020-12-02T00:00:00\"], [\"Dunkin Donuts\", \"91%\", \"12200 RESEARCH BLVD\", \"2020-12-10T00:00:00\"], [\"Cook Elementary School\", \"98%\", \"1511 CRIPPLE CREEK DR\", \"2020-12-16T00:00:00\"], [\"Hwy 969 Food Mart\", \"84%\", \"6401 FM 969 RD\", \"2020-12-04T00:00:00\"], [\"Marco's Pizza\", \"87%\", \"11011 RESEARCH BLVD\", \"2020-12-02T00:00:00\"], [\"Family Business Beer Company\", \"100%\", \"19510 HAMILTON POOL RD\", \"2020-12-03T00:00:00\"], [\"1618 Asian Fusion\", \"74%\", \"1618 E RIVERSIDE DR\", \"2020-12-16T00:00:00\"], [\"Bert's BBQ\", \"89%\", \"3563 FAR WEST BLVD\", \"2020-12-14T00:00:00\"], [\"Silverado Barton Springs\", \"83%\", \"5200 DAVIS LN\", \"2020-12-18T00:00:00\"], [\"HEB #096-Deli/Bakery/Produce\", \"97%\", \"7025 VILLAGE CENTER DR\", \"2020-12-07T00:00:00\"], [\"Milano Pizza\", \"76%\", \"1025 W STASSNEY LN\", \"2020-12-11T00:00:00\"], [\"La Michoacana Meat Market\", \"74%\", \"2237 E RIVERSIDE DR\", \"2020-12-23T00:00:00\"], [\"Club El Tahur\", \"89%\", \"214 E ANDERSON LN\", \"2020-12-21T00:00:00\"], [\"Austin Ice\", \"97%\", \"7517 CAMERON RD\", \"2020-12-09T00:00:00\"], [\"BC - HEB Food Store #404 (Deli/Bakery)\", \"98%\", \"12400 W SH\", \"2020-12-01T00:00:00\"], [\"Dollar General #10959\", \"98%\", \"6010 E RIVERSIDE DR\", \"2020-12-10T00:00:00\"], [\"Chef Robert Catering\", \"100%\", \"8134 MESA DR\", \"2020-12-17T00:00:00\"], [\"Club de la Raza\", \"89%\", \"2429 E SH\", \"2020-12-22T00:00:00\"], [\"LW - Table 620\", \"98%\", \"2000 S FM 620 RD\", \"2020-12-21T00:00:00\"]], \"hovertemplate\": \"Restaurant Name: %{customdata[0]}<br>Score: %{customdata[1]}<br>Street: %{customdata[2]}<br>Inspection Date: %{customdata[3]}\", \"lat\": [null, 30.408522, 30.447473, 30.177931, 30.2749, 30.276806, 30.208272, 30.394225, 30.396092, 30.365558, null, null, 30.285611, 30.255443, 30.202797, 30.294778, 30.356996, 30.26165, 30.349678, 30.225443, 30.200184, 30.353756, null, 30.477802, 30.163664, 30.406508, 30.448429, 30.258663, 30.357642, 30.441937, 30.44057, 30.396129, 30.297764, 30.393948, 30.357567, 30.264475, 30.252383, 30.356395, null, 30.238711, 30.405944, 30.26437, null, null, 30.417542, 30.441937, 30.212609, null, 30.346442, 30.2749, null, 30.401922, 30.434702, 30.291053, 30.337222, 30.2, 30.181994, 30.308385, 30.341028, 30.268742, 30.275231, 30.433702, null, 30.194048, 30.421254, 30.260704, 30.284019, 30.36441, 30.442957, 30.477802, null, 30.445314, 30.441937, 30.465601, 30.359155, 30.194048, 30.19096, 30.348381, 30.341725, 30.218964, 30.30675, 30.447473, 30.323972, 30.317286, 30.211841, 30.283319, 30.200463, 30.241593, 30.441937, 30.416351, 30.148928, 30.41503, null, 30.392352, 30.206706, 30.313641, null, 30.29806, null, 30.356395, 30.425948, 30.351231, null, 30.416577, 30.231447, 30.296106, 30.174896, null, 30.261912, 30.228372, 30.20676, 30.216371, 30.173693, null, 30.267349, null, 30.281511, 30.277014, 30.285249, 30.436116, 30.394529, 30.358106, 30.255321, null, 30.31524, 30.273599, 30.137606, 30.30881, 30.307203, 30.390328, 30.235855, 30.357262, 30.311288, 30.264459, 30.263083, 30.424498, 30.268058, 30.196231, 30.294735, 30.358106, 30.274413, 30.26763, 30.31466, 30.219122, 30.188388, 30.259141, 30.322681, null, 30.207855, 30.394877, 30.36508, 30.279246, null, null, 30.340912, 30.441282, 30.235507, null, null, 30.338728, 30.221781, 30.446183, 30.366401, 30.203667, null, 30.4204, 30.226141, 30.34713, 30.31487, 30.121291, null, 30.352668, 30.264124, 30.392008, 30.269458, 30.346501, 30.301073, 30.416273, 30.209029, null, 30.236507, null, 30.202651, 30.359155, 30.284891, 30.202875, 30.441282, 30.368077, 30.288198, 30.267971, 30.409161, 30.360309, 30.292189, 30.278932, 30.359579, 30.303794, 30.256749, 30.304871, 30.391159, 30.235825, 30.276059, 30.295179, 30.306151, 30.345791, 30.315534, 30.242222, 30.319315, 30.344864, null, 30.392352, 30.157697, null, 30.220859, 30.216371, 30.225437, 30.299588, 30.233175, 30.227884, 30.2323, 30.467184, 30.380289, 30.261166, 30.255443, 30.446424, 30.255221, 30.2, 30.392352, 30.44865, 30.442957, 30.468797, 30.231279, 30.261819, 30.215188, null, 30.392008, null, 30.210163, 30.136879, null, 30.445314, 30.403592, 30.371414, 30.28244, 30.281321, 30.286835, 30.262568, 30.212841, 30.292189, 30.498868, 30.195647, 30.408522, 30.331385, 30.339003, null, 30.424623, 30.282032, null, 30.349015, 30.287311, null, 30.174157, 30.260384, 30.336486, 30.333311, null, 30.268577, 30.373732, 30.416867, null, 30.293609, null, 30.272251, 30.357466, null, 30.273727, 30.441282, 30.415584, 30.217891, 30.40026, 30.271901, 30.209029, 30.282708, 30.307606, 30.261959, null, 30.279246, 30.344978, 30.242031, 30.233362, 30.369642, 30.3911, 30.260455, 30.360601, 30.203569, 30.33542, 30.231155, 30.278077, 30.255454, 30.220579, 30.326754, 30.151943, 30.277589, 30.4204, 30.295089, 30.320667, 30.237459, 30.425623, 30.437959, null, 30.136879, null, 30.314499, 30.45313, 30.436116, 30.362817, 30.276054, 30.290493, 30.220579, 30.26505, null, 30.26478, 30.309564, 30.307221, 30.440956, 30.260763, 30.341398, 30.496761, 30.337689, 30.358106, 30.273683, 30.222178, 30.209029, 30.357964, 30.301917, 30.235825, null, 30.424508, 30.214771, 30.288452, 30.307985, null, 30.196231, 30.300666, 30.267349, 30.194788, 30.357847, 30.221194, 30.315685, 30.294801, 30.346342, 30.197961, 30.275803, 30.193353, 30.359155, 30.255645, null, 30.23447, 30.183677, null, 30.39806, 30.345616, 30.164607, 30.301295, 30.360739, 30.33674, 30.337919, 30.285955, 30.478405, null, 30.441937, null, 30.174157, 30.295085, 30.263709, 30.2651, 30.36516, 30.31268, 30.200841, 30.438743, 30.194148, 30.272293, 30.290551, 30.357503, null, 30.353397, 30.311864, 30.40065, null, 30.194794, 30.233436, 30.193108, 30.355045, null, 30.412643, 30.168927, 30.401922, 30.255443, 30.446183, null, null, 30.254056, 30.494618, 30.229501, 30.218964, 30.337689, 30.497655, 30.269774, 30.29203, 30.285782, 30.350454, 30.312538, 30.309715, 30.290012, null, 30.267919, 30.40065, 30.339981, 30.223821, 30.324549, 30.228614, 30.28684, 30.269153, 30.325649, 30.273807, 30.456005, 30.441282, 30.273599, 30.227802, 30.235825, 30.254031, 30.354942, 30.337181, 30.271775, 30.412468, 30.45037, 30.218964, 30.239069, 30.238678, 30.236507, 30.221809, 30.361033, null, 30.307616, 30.469768, null, 30.447473, 30.263892, 30.084128, 30.304679, 30.209124, 30.276147, 30.322958, null, 30.212956, 30.232228, 30.272605, 30.304855, 30.429684, 30.226725, 30.445314, 30.26926, null, 30.419705, 30.354444, 30.275231, 30.316742, 30.24371, 30.382116, 30.353297, 30.235995, 30.167179, null, 30.360404, 30.361597, 30.363947, 30.354586, null, 30.305053, 30.340843, 30.402572, 30.26452, null, 30.2749, 30.271017, 30.413727, 30.27897, 30.401102, 30.220579, 30.349816, 30.342994, 30.255443, null, 30.356996, 30.224799, null, 30.412512, null, null, 30.398571, null, 30.223712, 30.262045, 30.318803, 30.356842, 30.234747, 30.202311, 30.275195, 30.33711, 30.233175, null, 30.36194, null, 30.276147, 30.340865, 30.202651, 30.433558, 30.355859, 30.351197, 30.299782, 30.193108, null, 30.154194, 30.243957, null, 30.361033, 30.429156, 30.274085, 30.140471, 30.362392, 30.235633, 30.45313, 30.359155, null, null, 30.33872, null, 30.307228, 30.276059, null, 30.262989, 30.255443, 30.231596, null, 30.272115, 30.173058, 30.24741, 30.232532, 30.365544, null, 30.349938, 30.19096, 30.269959, 30.496761, 30.192594, 30.19287, null, null, 30.428742, 30.2749, 30.371773, 30.324549, 30.4204, 30.407262, 30.306151, 30.138581, 30.360095, 30.303188, 30.445314, 30.136879, 30.23403, 30.341783, 30.37324, 30.360701, 30.2927, 30.164023, 30.312363, null, 30.478405, 30.35546, null, 30.388391, null, 30.292189, 30.332321, 30.402112, 30.425921, 30.377667, null, 30.403592, 30.291006, 30.245028, 30.353534, 30.208765, 30.352555, 30.210567, 30.238295, 30.343521, 30.329586, null, 30.226402, 30.373443, null, null], \"legendgroup\": \"\", \"lon\": [null, -97.698168, -97.648368, -97.615839, -97.801111, -97.751192, -97.781635, -97.748272, -97.749989, -97.738956, null, null, -97.684167, -97.810066, -97.806221, -97.724118, -97.685774, -97.718305, -97.526006, -97.76661, -97.785895, -97.75401, null, -97.643263, -97.830628, -97.874421, -97.655218, -97.786729, -97.762151, -97.74148, -97.663126, -97.720128, -97.687283, -97.726442, -97.748349, -97.741002, -97.773635, -97.731374, null, -97.683849, -97.678556, -97.733445, null, null, -97.675682, -97.74148, -97.752474, null, -97.700016, -97.801111, null, -97.746122, -97.615494, -97.741264, -97.756645, -97.77, -97.8465, -97.938816, -97.557461, -97.728041, -97.843793, -97.77132, null, -97.843038, -97.628454, -97.734925, -97.74194, -97.710274, -97.741799, -97.643263, null, -97.743259, -97.74148, -97.597297, -97.73005, -97.843038, -97.771937, -97.557039, -97.970094, -97.755433, -97.750208, -97.648368, -97.689635, -97.740391, -97.964736, -97.742009, -97.799243, -97.785134, -97.74148, -97.697097, -97.842579, -97.696431, null, -97.746845, -97.77795, -97.704222, null, -98.006844, null, -97.731374, -97.716411, -97.708533, null, -97.745964, -97.787322, -97.743872, -97.82327, null, -97.723182, -97.789335, -97.719122, -97.964091, -97.821911, null, -97.743063, null, -97.710596, -97.742141, -97.774785, -97.612748, -97.75208, -97.735077, -97.719477, null, -97.741316, -97.799243, -97.857505, -97.740756, -97.931757, -97.884583, -97.728243, -97.686159, -97.666151, -97.757249, -97.816129, -97.750561, -97.746432, -97.785737, -97.824938, -97.735077, -97.800458, -97.741285, -97.71482, -97.688528, -97.856475, -97.759029, -97.714855, null, -97.780106, -97.745915, -97.695882, -97.806703, null, null, -97.738848, -97.66529, -97.763802, null, null, -97.97035, -97.689832, -97.648258, -97.695129, -97.878534, null, -97.84557, -97.705922, -97.72721, -97.733618, -97.635979, null, -97.723662, -97.741615, -97.707343, -97.696677, -97.67724, -97.674094, -97.695601, -97.78292, null, -97.725029, null, -97.805566, -97.73005, -97.715382, -97.837567, -97.66529, -97.694197, -97.744632, -97.742507, -97.715712, -97.790126, -97.828184, -97.742615, -97.737925, -97.726441, -97.71153, -97.736783, -97.659773, -97.792954, -97.668702, -97.740547, -97.715837, -97.967013, -97.755907, -97.72868, -97.689358, -97.736361, null, -97.746845, -97.833381, null, -97.691306, -97.964091, -97.769581, -97.740175, -97.721518, -97.786555, -97.758576, -97.64526, -97.68363, -97.721147, -97.810066, -97.686119, -97.844945, -97.77, -97.746845, -97.655677, -97.741799, -97.595887, -97.787453, -97.758731, -97.762343, null, -97.707343, null, -97.780138, -97.856197, null, -97.743259, -97.745141, -97.757, -97.711754, -97.703182, -97.703049, -97.725167, -97.713113, -97.828184, -97.773275, -97.777748, -97.698168, -97.722908, -97.754988, null, -97.672008, -97.743038, null, -97.554111, -97.742693, null, -97.796784, -97.734006, -97.739563, -97.705301, null, -97.727607, -97.719236, -97.746868, null, -97.741925, null, -97.691247, -97.686736, null, -97.697031, -97.66529, -97.695563, -97.861448, -97.745036, -97.876727, -97.78292, -97.74207, -97.945544, -97.761269, null, -97.759767, -97.736664, -97.728362, -97.73959, -97.733164, -97.721166, -97.738167, -97.739855, -97.785518, -97.559559, -97.791658, -97.760581, -97.761872, -97.837688, -97.687198, -97.833228, -97.720737, -97.84557, -97.73667, -97.968512, -97.725513, -97.715752, -97.75871, null, -97.856197, null, -97.755166, -97.8277, -97.612748, -97.69719, -97.816218, -97.742018, -97.837688, -97.732382, null, -97.737795, -97.941855, -97.74177, -97.773218, -97.712656, -97.557848, -97.774899, -97.692266, -97.735077, -97.720484, -97.838856, -97.78292, -97.760539, -97.764901, -97.792954, null, -97.713215, -97.832351, -97.747786, -97.940692, null, -97.785737, -97.74041, -97.743063, -97.783619, -97.978237, -97.690654, -97.741373, -97.742566, -97.966225, -97.767334, -97.735692, -97.77868, -97.73005, -97.698125, null, -97.911646, -97.792016, null, -97.704665, -97.713435, -97.692906, -97.739098, -97.716586, -97.694535, -97.74121, -97.681617, -97.765794, null, -97.74148, null, -97.796784, -97.742718, -97.731481, -97.742451, -97.695836, -97.960154, -97.879006, -97.756268, -97.77723, -97.697526, -97.742629, -97.97889, null, -97.705543, -97.963409, -97.747851, null, -97.842717, -97.739816, -97.779336, -97.728669, null, -97.689502, -97.825756, -97.746122, -97.810066, -97.648258, null, null, -97.782807, -97.7882, -97.864222, -97.755433, -97.692266, -97.777084, -97.806002, -97.742784, -97.744893, -97.748102, -97.693481, -97.934312, -97.707435, null, -97.694035, -97.747851, -97.804557, -97.763391, -97.739532, -97.77134, -97.742736, -97.740924, -97.726544, -97.697987, -97.659227, -97.66529, -97.799243, -97.727487, -97.792954, -97.703643, -97.703436, -97.720538, -97.741424, -97.927049, -97.655136, -97.755433, -97.761559, -97.72594, -97.725029, -97.956195, -97.716672, null, -97.937139, -97.595626, null, -97.648368, -97.759549, -97.752177, -97.93797, -97.804503, -97.733582, -97.742673, null, -97.778807, -97.79909, -97.691021, -97.725971, -97.671287, -97.770608, -97.743259, -97.724397, null, -97.752565, -97.727417, -97.843793, -97.713804, -97.729736, -97.740032, -97.755725, -97.703777, -97.791596, null, -97.739692, -97.687419, -97.726577, -97.731747, null, -97.940736, -97.80285, -97.721403, -97.78401, null, -97.801111, -97.789586, -97.746293, -97.806439, -97.722763, -97.837688, -97.55595, -97.763511, -97.810066, null, -97.685774, -97.703211, null, -97.688909, null, null, -97.745647, null, -97.843827, -97.758588, -97.739443, -97.747275, -97.788031, -97.806963, -97.668307, -97.756437, -97.721518, null, -97.717321, null, -97.733582, -97.556468, -97.805566, -97.771837, -97.758223, -97.675864, -97.740052, -97.779336, null, -97.833283, -97.781825, null, -97.716672, -97.760067, -97.766118, -97.834444, -97.697423, -97.724398, -97.8277, -97.73005, null, null, -97.692623, null, -97.937337, -97.668702, null, -97.72637, -97.810066, -97.818902, null, -97.697472, -97.800341, -97.7743, -97.786561, -97.695617, null, -98.012061, -97.771937, -97.696825, -97.774899, -97.925054, -97.77775, null, null, -97.838764, -97.801111, -97.757113, -97.739532, -97.84557, -97.719376, -97.715837, -97.849046, -97.716393, -97.678524, -97.743259, -97.856197, -97.723776, -97.551086, -97.691287, -97.716962, -97.664656, -97.693075, -97.715363, null, -97.765794, -97.757281, null, -97.743593, null, -97.828184, -97.622991, -97.766923, -97.753486, -97.703772, null, -97.745141, -98.075811, -97.73049, -97.753552, -97.862494, -97.756199, -97.786896, -97.725943, -97.704292, -97.689879, null, -97.706476, -97.756073, null, null], \"marker\": {\"color\": [90, 90, 100, 100, 100, 80, 100, 90, 100, 90, 70, 90, 80, 90, 90, 90, 90, 90, 100, 90, 80, 100, 90, 100, 90, 90, 90, 100, 100, 100, 100, 90, 90, 90, 100, 80, 100, 70, 100, 100, 100, 90, 90, 100, 90, 100, 80, 100, 90, 100, 90, 100, 90, 90, 100, 90, 90, 90, 80, 90, 90, 90, 100, 80, 90, 90, 50, 100, 90, 90, 90, 100, 80, 100, 90, 90, 80, 80, 90, 100, 90, 90, 100, 90, 100, 100, 90, 90, 90, 90, 90, 90, 70, 90, 100, 90, 90, 90, 90, 90, 80, 80, 90, 80, 100, 100, 90, 90, 90, 90, 70, 100, 90, 70, 100, 100, 100, 90, 100, 90, 100, 90, 90, 100, 90, 100, 90, 100, 100, 90, 90, 100, 90, 100, 90, 90, 100, 90, 100, 80, 90, 100, 90, 100, 100, 100, 100, 100, 90, 90, 90, 90, 100, 90, 80, 100, 100, 100, 90, 90, 90, 70, 90, 90, 90, 90, 100, 90, 80, 100, 80, 100, 90, 90, 90, 80, 90, 80, 90, 70, 70, 100, 100, 90, 90, 80, 100, 100, 100, 100, 90, 90, 100, 90, 90, 100, 80, 90, 90, 90, 100, 90, 90, 100, 90, 90, 80, 90, 100, 100, 90, 100, 90, 100, 100, 90, 90, 100, 100, 100, 100, 100, 80, 100, 90, 80, 90, 100, 90, 80, 90, 90, 100, 90, 100, 100, 100, 100, 100, 100, 80, 100, 100, 90, 90, 100, 80, 90, 90, 100, 90, 80, 90, 70, 90, 100, 80, 80, 100, 90, 90, 100, 80, 70, 100, 90, 100, 100, 100, 100, 90, 90, 90, 80, 70, 100, 90, 80, 80, 90, 70, 80, 100, 90, 90, 100, 80, 100, 100, 100, 90, 100, 90, 100, 90, 80, 100, 90, 100, 100, 80, 100, 90, 90, 100, 90, 90, 70, 100, 90, 100, 90, 100, 90, 90, 90, 90, 90, 90, 100, 100, 90, 100, 100, 100, 90, 80, 90, 100, 90, 100, 80, 100, 100, 100, 100, 90, 100, 80, 100, 90, 80, 90, 90, 90, 80, 100, 90, 100, 70, 100, 100, 90, 100, 100, 90, 100, 90, 100, 90, 100, 90, 90, 90, 100, 100, 80, 90, 100, 90, 100, 100, 90, 100, 100, 100, 100, 70, 80, 80, 90, 90, 100, 90, 90, 100, 100, 90, 90, 90, 80, 90, 100, 80, 100, 90, 90, 80, 100, 90, 100, 90, 90, 100, 100, 80, 100, 100, 90, 100, 90, 90, 90, 90, 90, 90, 100, 90, 80, 100, 90, 90, 80, 90, 90, 100, 80, 100, 100, 100, 80, 80, 100, 100, 90, 90, 90, 100, 90, 90, 90, 80, 80, 70, 100, 90, 100, 100, 80, 100, 90, 90, 90, 100, 100, 90, 90, 100, 80, 100, 100, 100, 90, 90, 100, 100, 80, 90, 100, 90, 100, 80, 80, 90, 100, 100, 80, 100, 90, 100, 100, 90, 100, 90, 100, 90, 70, 100, 90, 90, 90, 100, 90, 90, 80, 100, 100, 90, 90, 90, 80, 100, 90, 70, 100, 80, 90, 80, 90, 100, 90, 100, 100, 100, 100, 100, 90, 90, 90, 100, 100, 90, 90, 90, 70, 90, 100, 100, 70, 90, 100, 90, 100, 80, 90, 100, 90, 100, 90, 90, 100, 100, 90, 80, 90, 90, 90, 90, 100, 100, 100, 100, 80, 80, 90, 100, 100, 90, 100, 100, 100, 90, 100, 90, 90, 90, 100, 100, 100, 90, 100, 80, 90, 90, 80, 100, 90, 70, 100, 100, 90, 100, 90, 90, 90, 90, 100, 80, 90, 100, 70, 90, 80, 100, 80, 70, 90, 100, 100, 100, 100, 90, 100], \"coloraxis\": \"coloraxis\", \"opacity\": 0.5, \"size\": 10}, \"mode\": \"markers\", \"name\": \"\", \"showlegend\": false, \"subplot\": \"mapbox\", \"type\": \"scattermapbox\"}],                        {\"coloraxis\": {\"colorbar\": {\"title\": {\"text\": \"color\"}}, \"colorscale\": [[0.0, \"#0d0887\"], [0.1111111111111111, \"#46039f\"], [0.2222222222222222, \"#7201a8\"], [0.3333333333333333, \"#9c179e\"], [0.4444444444444444, \"#bd3786\"], [0.5555555555555556, \"#d8576b\"], [0.6666666666666666, \"#ed7953\"], [0.7777777777777778, \"#fb9f3a\"], [0.8888888888888888, \"#fdca26\"], [1.0, \"#f0f921\"]]}, \"legend\": {\"tracegroupgap\": 0}, \"mapbox\": {\"center\": {\"lat\": 30.308063885658914, \"lon\": -97.75314880813954}, \"domain\": {\"x\": [0.0, 1.0], \"y\": [0.0, 1.0]}, \"style\": \"open-street-map\", \"zoom\": 10}, \"margin\": {\"t\": 60}, \"template\": {\"data\": {\"bar\": [{\"error_x\": {\"color\": \"#2a3f5f\"}, \"error_y\": {\"color\": \"#2a3f5f\"}, \"marker\": {\"line\": {\"color\": \"#E5ECF6\", \"width\": 0.5}}, \"type\": \"bar\"}], \"barpolar\": [{\"marker\": {\"line\": {\"color\": \"#E5ECF6\", \"width\": 0.5}}, \"type\": \"barpolar\"}], \"carpet\": [{\"aaxis\": {\"endlinecolor\": \"#2a3f5f\", \"gridcolor\": \"white\", \"linecolor\": \"white\", \"minorgridcolor\": \"white\", \"startlinecolor\": \"#2a3f5f\"}, \"baxis\": {\"endlinecolor\": \"#2a3f5f\", \"gridcolor\": \"white\", \"linecolor\": \"white\", \"minorgridcolor\": \"white\", \"startlinecolor\": \"#2a3f5f\"}, \"type\": \"carpet\"}], \"choropleth\": [{\"colorbar\": {\"outlinewidth\": 0, \"ticks\": \"\"}, \"type\": \"choropleth\"}], \"contour\": [{\"colorbar\": {\"outlinewidth\": 0, \"ticks\": \"\"}, \"colorscale\": [[0.0, \"#0d0887\"], [0.1111111111111111, \"#46039f\"], [0.2222222222222222, \"#7201a8\"], [0.3333333333333333, \"#9c179e\"], [0.4444444444444444, \"#bd3786\"], [0.5555555555555556, \"#d8576b\"], [0.6666666666666666, \"#ed7953\"], [0.7777777777777778, \"#fb9f3a\"], [0.8888888888888888, \"#fdca26\"], [1.0, \"#f0f921\"]], \"type\": \"contour\"}], \"contourcarpet\": [{\"colorbar\": {\"outlinewidth\": 0, \"ticks\": \"\"}, \"type\": \"contourcarpet\"}], \"heatmap\": [{\"colorbar\": {\"outlinewidth\": 0, \"ticks\": \"\"}, \"colorscale\": [[0.0, \"#0d0887\"], [0.1111111111111111, \"#46039f\"], [0.2222222222222222, \"#7201a8\"], [0.3333333333333333, \"#9c179e\"], [0.4444444444444444, \"#bd3786\"], [0.5555555555555556, \"#d8576b\"], [0.6666666666666666, \"#ed7953\"], [0.7777777777777778, \"#fb9f3a\"], [0.8888888888888888, \"#fdca26\"], [1.0, \"#f0f921\"]], \"type\": \"heatmap\"}], \"heatmapgl\": [{\"colorbar\": {\"outlinewidth\": 0, \"ticks\": \"\"}, \"colorscale\": [[0.0, \"#0d0887\"], [0.1111111111111111, \"#46039f\"], [0.2222222222222222, \"#7201a8\"], [0.3333333333333333, \"#9c179e\"], [0.4444444444444444, \"#bd3786\"], [0.5555555555555556, \"#d8576b\"], [0.6666666666666666, \"#ed7953\"], [0.7777777777777778, \"#fb9f3a\"], [0.8888888888888888, \"#fdca26\"], [1.0, \"#f0f921\"]], \"type\": \"heatmapgl\"}], \"histogram\": [{\"marker\": {\"colorbar\": {\"outlinewidth\": 0, \"ticks\": \"\"}}, \"type\": \"histogram\"}], \"histogram2d\": [{\"colorbar\": {\"outlinewidth\": 0, \"ticks\": \"\"}, \"colorscale\": [[0.0, \"#0d0887\"], [0.1111111111111111, \"#46039f\"], [0.2222222222222222, \"#7201a8\"], [0.3333333333333333, \"#9c179e\"], [0.4444444444444444, \"#bd3786\"], [0.5555555555555556, \"#d8576b\"], [0.6666666666666666, \"#ed7953\"], [0.7777777777777778, \"#fb9f3a\"], [0.8888888888888888, \"#fdca26\"], [1.0, \"#f0f921\"]], \"type\": \"histogram2d\"}], \"histogram2dcontour\": [{\"colorbar\": {\"outlinewidth\": 0, \"ticks\": \"\"}, \"colorscale\": [[0.0, \"#0d0887\"], [0.1111111111111111, \"#46039f\"], [0.2222222222222222, \"#7201a8\"], [0.3333333333333333, \"#9c179e\"], [0.4444444444444444, \"#bd3786\"], [0.5555555555555556, \"#d8576b\"], [0.6666666666666666, \"#ed7953\"], [0.7777777777777778, \"#fb9f3a\"], [0.8888888888888888, \"#fdca26\"], [1.0, \"#f0f921\"]], \"type\": \"histogram2dcontour\"}], \"mesh3d\": [{\"colorbar\": {\"outlinewidth\": 0, \"ticks\": \"\"}, \"type\": \"mesh3d\"}], \"parcoords\": [{\"line\": {\"colorbar\": {\"outlinewidth\": 0, \"ticks\": \"\"}}, \"type\": \"parcoords\"}], \"pie\": [{\"automargin\": true, \"type\": \"pie\"}], \"scatter\": [{\"marker\": {\"colorbar\": {\"outlinewidth\": 0, \"ticks\": \"\"}}, \"type\": \"scatter\"}], \"scatter3d\": [{\"line\": {\"colorbar\": {\"outlinewidth\": 0, \"ticks\": \"\"}}, \"marker\": {\"colorbar\": {\"outlinewidth\": 0, \"ticks\": \"\"}}, \"type\": \"scatter3d\"}], \"scattercarpet\": [{\"marker\": {\"colorbar\": {\"outlinewidth\": 0, \"ticks\": \"\"}}, \"type\": \"scattercarpet\"}], \"scattergeo\": [{\"marker\": {\"colorbar\": {\"outlinewidth\": 0, \"ticks\": \"\"}}, \"type\": \"scattergeo\"}], \"scattergl\": [{\"marker\": {\"colorbar\": {\"outlinewidth\": 0, \"ticks\": \"\"}}, \"type\": \"scattergl\"}], \"scattermapbox\": [{\"marker\": {\"colorbar\": {\"outlinewidth\": 0, \"ticks\": \"\"}}, \"type\": \"scattermapbox\"}], \"scatterpolar\": [{\"marker\": {\"colorbar\": {\"outlinewidth\": 0, \"ticks\": \"\"}}, \"type\": \"scatterpolar\"}], \"scatterpolargl\": [{\"marker\": {\"colorbar\": {\"outlinewidth\": 0, \"ticks\": \"\"}}, \"type\": \"scatterpolargl\"}], \"scatterternary\": [{\"marker\": {\"colorbar\": {\"outlinewidth\": 0, \"ticks\": \"\"}}, \"type\": \"scatterternary\"}], \"surface\": [{\"colorbar\": {\"outlinewidth\": 0, \"ticks\": \"\"}, \"colorscale\": [[0.0, \"#0d0887\"], [0.1111111111111111, \"#46039f\"], [0.2222222222222222, \"#7201a8\"], [0.3333333333333333, \"#9c179e\"], [0.4444444444444444, \"#bd3786\"], [0.5555555555555556, \"#d8576b\"], [0.6666666666666666, \"#ed7953\"], [0.7777777777777778, \"#fb9f3a\"], [0.8888888888888888, \"#fdca26\"], [1.0, \"#f0f921\"]], \"type\": \"surface\"}], \"table\": [{\"cells\": {\"fill\": {\"color\": \"#EBF0F8\"}, \"line\": {\"color\": \"white\"}}, \"header\": {\"fill\": {\"color\": \"#C8D4E3\"}, \"line\": {\"color\": \"white\"}}, \"type\": \"table\"}]}, \"layout\": {\"annotationdefaults\": {\"arrowcolor\": \"#2a3f5f\", \"arrowhead\": 0, \"arrowwidth\": 1}, \"autotypenumbers\": \"strict\", \"coloraxis\": {\"colorbar\": {\"outlinewidth\": 0, \"ticks\": \"\"}}, \"colorscale\": {\"diverging\": [[0, \"#8e0152\"], [0.1, \"#c51b7d\"], [0.2, \"#de77ae\"], [0.3, \"#f1b6da\"], [0.4, \"#fde0ef\"], [0.5, \"#f7f7f7\"], [0.6, \"#e6f5d0\"], [0.7, \"#b8e186\"], [0.8, \"#7fbc41\"], [0.9, \"#4d9221\"], [1, \"#276419\"]], \"sequential\": [[0.0, \"#0d0887\"], [0.1111111111111111, \"#46039f\"], [0.2222222222222222, \"#7201a8\"], [0.3333333333333333, \"#9c179e\"], [0.4444444444444444, \"#bd3786\"], [0.5555555555555556, \"#d8576b\"], [0.6666666666666666, \"#ed7953\"], [0.7777777777777778, \"#fb9f3a\"], [0.8888888888888888, \"#fdca26\"], [1.0, \"#f0f921\"]], \"sequentialminus\": [[0.0, \"#0d0887\"], [0.1111111111111111, \"#46039f\"], [0.2222222222222222, \"#7201a8\"], [0.3333333333333333, \"#9c179e\"], [0.4444444444444444, \"#bd3786\"], [0.5555555555555556, \"#d8576b\"], [0.6666666666666666, \"#ed7953\"], [0.7777777777777778, \"#fb9f3a\"], [0.8888888888888888, \"#fdca26\"], [1.0, \"#f0f921\"]]}, \"colorway\": [\"#636efa\", \"#EF553B\", \"#00cc96\", \"#ab63fa\", \"#FFA15A\", \"#19d3f3\", \"#FF6692\", \"#B6E880\", \"#FF97FF\", \"#FECB52\"], \"font\": {\"color\": \"#2a3f5f\"}, \"geo\": {\"bgcolor\": \"white\", \"lakecolor\": \"white\", \"landcolor\": \"#E5ECF6\", \"showlakes\": true, \"showland\": true, \"subunitcolor\": \"white\"}, \"hoverlabel\": {\"align\": \"left\"}, \"hovermode\": \"closest\", \"mapbox\": {\"style\": \"light\"}, \"paper_bgcolor\": \"white\", \"plot_bgcolor\": \"#E5ECF6\", \"polar\": {\"angularaxis\": {\"gridcolor\": \"white\", \"linecolor\": \"white\", \"ticks\": \"\"}, \"bgcolor\": \"#E5ECF6\", \"radialaxis\": {\"gridcolor\": \"white\", \"linecolor\": \"white\", \"ticks\": \"\"}}, \"scene\": {\"xaxis\": {\"backgroundcolor\": \"#E5ECF6\", \"gridcolor\": \"white\", \"gridwidth\": 2, \"linecolor\": \"white\", \"showbackground\": true, \"ticks\": \"\", \"zerolinecolor\": \"white\"}, \"yaxis\": {\"backgroundcolor\": \"#E5ECF6\", \"gridcolor\": \"white\", \"gridwidth\": 2, \"linecolor\": \"white\", \"showbackground\": true, \"ticks\": \"\", \"zerolinecolor\": \"white\"}, \"zaxis\": {\"backgroundcolor\": \"#E5ECF6\", \"gridcolor\": \"white\", \"gridwidth\": 2, \"linecolor\": \"white\", \"showbackground\": true, \"ticks\": \"\", \"zerolinecolor\": \"white\"}}, \"shapedefaults\": {\"line\": {\"color\": \"#2a3f5f\"}}, \"ternary\": {\"aaxis\": {\"gridcolor\": \"white\", \"linecolor\": \"white\", \"ticks\": \"\"}, \"baxis\": {\"gridcolor\": \"white\", \"linecolor\": \"white\", \"ticks\": \"\"}, \"bgcolor\": \"#E5ECF6\", \"caxis\": {\"gridcolor\": \"white\", \"linecolor\": \"white\", \"ticks\": \"\"}}, \"title\": {\"x\": 0.05}, \"xaxis\": {\"automargin\": true, \"gridcolor\": \"white\", \"linecolor\": \"white\", \"ticks\": \"\", \"title\": {\"standoff\": 15}, \"zerolinecolor\": \"white\", \"zerolinewidth\": 2}, \"yaxis\": {\"automargin\": true, \"gridcolor\": \"white\", \"linecolor\": \"white\", \"ticks\": \"\", \"title\": {\"standoff\": 15}, \"zerolinecolor\": \"white\", \"zerolinewidth\": 2}}}},                        {\"responsive\": true}                    ).then(function(){\n",
       "                            \n",
       "var gd = document.getElementById('a261e551-91d0-4628-841b-cc6d54237bee');\n",
       "var x = new MutationObserver(function (mutations, observer) {{\n",
       "        var display = window.getComputedStyle(gd).display;\n",
       "        if (!display || display === 'none') {{\n",
       "            console.log([gd, 'removed!']);\n",
       "            Plotly.purge(gd);\n",
       "            observer.disconnect();\n",
       "        }}\n",
       "}});\n",
       "\n",
       "// Listen for the removal of the full notebook cells\n",
       "var notebookContainer = gd.closest('#notebook-container');\n",
       "if (notebookContainer) {{\n",
       "    x.observe(notebookContainer, {childList: true});\n",
       "}}\n",
       "\n",
       "// Listen for the clearing of the current output cell\n",
       "var outputEl = gd.closest('.output');\n",
       "if (outputEl) {{\n",
       "    x.observe(outputEl, {childList: true});\n",
       "}}\n",
       "\n",
       "                        })                };                });            </script>        </div>"
      ]
     },
     "metadata": {},
     "output_type": "display_data"
    }
   ],
   "source": [
    "\n",
    "fig = px.scatter_mapbox(df,\n",
    "                        lat=\"lat\",\n",
    "                        lon=\"lon\",\n",
    "                        color='color',\n",
    "                        custom_data=['Restaurant Name','Score','Street', 'Inspection Date'],\n",
    "                        size_max=10,\n",
    "                        zoom=10)\n",
    "\n",
    "fig.update_layout(mapbox_style=\"open-street-map\")\n",
    "\n",
    "fig.update_traces(showlegend=False,\n",
    "    hovertemplate=\"<br>\".join([\n",
    "        \"Restaurant Name: %{customdata[0]}\",\n",
    "        \"Score: %{customdata[1]}\",\n",
    "        \"Street: %{customdata[2]}\",\n",
    "        \"Inspection Date: %{customdata[3]}\"\n",
    "    ]), marker_size = 10, marker_opacity = 0.5)\n",
    "fig.show()"
   ]
  },
  {
   "cell_type": "markdown",
   "id": "instrumental-tissue",
   "metadata": {},
   "source": [
    "OK, so that's a terrible color scale. Plus I don't think it's color blind friendly. Take a second to read this article about creating graphics that a visually impaired friendly: https://venngage.com/blog/color-blind-friendly-palette/"
   ]
  },
  {
   "cell_type": "markdown",
   "id": "legal-repair",
   "metadata": {},
   "source": [
    "Let's change the color scale bar to something else and then reseve it. Since the colors for the scale are passed as a list plotly express we can provide the follow to do make this change.\n",
    "- color_continuous_scale=px.colors.diverging.RdYlGn[::-1]"
   ]
  },
  {
   "cell_type": "code",
   "execution_count": 516,
   "id": "acknowledged-dubai",
   "metadata": {},
   "outputs": [
    {
     "data": {
      "application/vnd.plotly.v1+json": {
       "config": {
        "plotlyServerURL": "https://plot.ly"
       },
       "data": [
        {
         "customdata": [
          [
           "Courtesy Shell #4",
           "91%",
           "2241 S IH",
           "2020-12-11T00:00:00"
          ],
          [
           "Little China Restaurant",
           "92%",
           "1921 CEDAR BEND DR",
           "2020-12-22T00:00:00"
          ],
          [
           "PF - Los Amigos Market (Grocery/Produce)",
           "96%",
           "15812 WINDERMERE DR",
           "2020-12-01T00:00:00"
          ],
          [
           "Del Valle ISD Opportunity Center",
           "96%",
           "5301 ROSS RD",
           "2020-12-02T00:00:00"
          ],
          [
           "WL - Randall's #2477-Bakery",
           "99%",
           "3300 BEE CAVES RD",
           "2020-12-07T00:00:00"
          ],
          [
           "Tavern, The",
           "75%",
           "922 W 12TH ST",
           "2020-12-14T00:00:00"
          ],
          [
           "Walgreens #3341",
           "98%",
           "5600 S 1ST ST",
           "2020-12-14T00:00:00"
          ],
          [
           "La Madeleine # 201",
           "92%",
           "9828 GREAT HILLS TRL",
           "2020-12-08T00:00:00"
          ],
          [
           "P F Chang's China Bistro",
           "99%",
           "10114 JOLLYVILLE RD",
           "2020-12-02T00:00:00"
          ],
          [
           "Stepping Stone School",
           "94%",
           "8121 SHOAL CREEK BLVD",
           "2020-12-14T00:00:00"
          ],
          [
           "Cover 2",
           "70%",
           "13701 N US 183 HWY",
           "2020-12-07T00:00:00"
          ],
          [
           "BC - Chick-Fil-A of Lake Travis",
           "94%",
           "3600 S FM 620 RD",
           "2020-12-03T00:00:00"
          ],
          [
           "Willie's Bar-B-Q",
           "78%",
           "4505 E MARTIN LUTHER KING JR BLVD",
           "2020-12-07T00:00:00"
          ],
          [
           "Pretzel Maker",
           "90%",
           "2901 S CAPITAL OF TEXAS HWY",
           "2020-12-09T00:00:00"
          ],
          [
           "Church's Chicken Store No. 386",
           "86%",
           "1945 W WILLIAM CANNON DR",
           "2020-12-16T00:00:00"
          ],
          [
           "St. Paul Lutheran",
           "89%",
           "3501 RED RIVER ST",
           "2020-12-03T00:00:00"
          ],
          [
           "La Mexiquense",
           "94%",
           "850 E RUNDBERG LN",
           "2020-12-22T00:00:00"
          ],
          [
           "Los Comales Taqueria",
           "86%",
           "2136 E 7TH ST",
           "2020-12-14T00:00:00"
          ],
          [
           "Speedy Express",
           "95%",
           "12836 E US 290 HWY",
           "2020-12-03T00:00:00"
          ],
          [
           "Encompass Health Rehabilitation Hospital of Austin",
           "94%",
           "330 W BEN WHITE BLVD",
           "2020-12-11T00:00:00"
          ],
          [
           "Seoul Restaurant",
           "81%",
           "6400 S 1ST ST",
           "2020-12-07T00:00:00"
          ],
          [
           "CVS Pharmacy #6893",
           "98%",
           "3569 FAR WEST BLVD",
           "2020-12-11T00:00:00"
          ],
          [
           "Little Country Diner",
           "93%",
           "22000 W SH",
           "2020-12-15T00:00:00"
          ],
          [
           "PF - Accent Food Services",
           "97%",
           "2913 AW GRIMES BLVD",
           "2020-12-15T00:00:00"
          ],
          [
           "South Austin Beer Garden",
           "93%",
           "10700 MANCHACA RD",
           "2020-12-10T00:00:00"
          ],
          [
           "Oasis Cantina",
           "90%",
           "6550 COMANCHE TRL",
           "2020-12-04T00:00:00"
          ],
          [
           "PF - Freddy's Frozen Custard & Steakburgers",
           "90%",
           "2602 W PECAN ST",
           "2020-12-01T00:00:00"
          ],
          [
           "Thom's Market",
           "97%",
           "1500 SPYGLASS DR",
           "2020-12-11T00:00:00"
          ],
          [
           "EPOCH Coffee",
           "100%",
           "3900 FAR WEST BLVD",
           "2020-12-01T00:00:00"
          ],
          [
           "Tokyo Gardens Catering",
           "100%",
           "6001 W PARMER LN",
           "2020-12-22T00:00:00"
          ],
          [
           "Harmony Science Academy-Pflugerville",
           "100%",
           "1421 W WELLS BRANCH PKWY",
           "2020-12-02T00:00:00"
          ],
          [
           "Freebirds World Burrito",
           "91%",
           "11101 BURNET RD",
           "2020-12-22T00:00:00"
          ],
          [
           "E-Z Stop Groceries & Gas / Conoco",
           "92%",
           "5029 MANOR RD",
           "2020-12-07T00:00:00"
          ],
          [
           "Cava Mezze Grill",
           "90%",
           "10808 DOMAIN DR",
           "2020-12-21T00:00:00"
          ],
          [
           "Austin's Pizza #23",
           "97%",
           "3435 GREYSTONE DR",
           "2020-12-01T00:00:00"
          ],
          [
           "Fogo De Chao Churrascaria",
           "85%",
           "309 E 3RD ST",
           "2020-12-10T00:00:00"
          ],
          [
           "Zilker Elementary",
           "99%",
           "1900 BLUEBONNET LN",
           "2020-12-15T00:00:00"
          ],
          [
           "Pho Tin",
           "70%",
           "2438 W ANDERSON LN",
           "2020-12-08T00:00:00"
          ],
          [
           "PF - HEB Food Store #479 (Grocery)",
           "95%",
           "201 N FM",
           "2020-12-15T00:00:00"
          ],
          [
           "La Pera",
           "97%",
           "502 THOMPSON LN",
           "2020-12-23T00:00:00"
          ],
          [
           "Residence Inn Austin North/Parmer",
           "100%",
           "12401 N LAMAR BLVD",
           "2020-12-22T00:00:00"
          ],
          [
           "Whole Foods Market",
           "93%",
           "901 E 5TH ST",
           "2020-12-17T00:00:00"
          ],
          [
           "Fazoli's Italian Food",
           "90%",
           "13201 N FM 620 RD",
           "2020-12-01T00:00:00"
          ],
          [
           "Snowfox SC8259",
           "98%",
           "1 2",
           "2020-12-16T00:00:00"
          ],
          [
           "John Connally High School",
           "93%",
           "13212 N LAMAR BLVD",
           "2020-12-07T00:00:00"
          ],
          [
           "HEB #20 Retail",
           "99%",
           "6001 W PARMER LN",
           "2020-12-22T00:00:00"
          ],
          [
           "Circle K Store #2704677",
           "80%",
           "1601 E ST ELMO RD",
           "2020-12-11T00:00:00"
          ],
          [
           "Jack in the Box #4850",
           "98%",
           "2517 E SH",
           "2020-12-15T00:00:00"
          ],
          [
           "Generations",
           "93%",
           "8203 SAM RAYBURN DR",
           "2020-12-10T00:00:00"
          ],
          [
           "WL - Randall's Grocery #2477",
           "97%",
           "3300 BEE CAVES RD",
           "2020-12-07T00:00:00"
          ],
          [
           "Double Dave's Pizza",
           "88%",
           "13343 N US 183 HWY",
           "2020-12-08T00:00:00"
          ],
          [
           "Jimmy John's Gourmet Sandwiches",
           "95%",
           "10900 RESEARCH BLVD",
           "2020-12-14T00:00:00"
          ],
          [
           "PF-Moi! Vietnamese Grill",
           "91%",
           "16051 DESSAU RD",
           "2020-12-15T00:00:00"
          ],
          [
           "Kerbey Lane",
           "89%",
           "2606 GUADALUPE ST",
           "2020-12-14T00:00:00"
          ],
          [
           "7-Eleven Convenience Store #36274B",
           "97%",
           "3324 NORTHLAND DR",
           "2020-12-08T00:00:00"
          ],
          [
           "Twin Peaks",
           "93%",
           "701 E STASSNEY LN",
           "2020-12-03T00:00:00"
          ],
          [
           "Taco Bell #030080",
           "91%",
           "3324 W SLAUGHTER LN",
           "2020-12-23T00:00:00"
          ],
          [
           "BC - Barnes & Noble Booksellers",
           "94%",
           "12701 HILL COUNTRY BLVD",
           "2020-12-15T00:00:00"
          ],
          [
           "MN - Golden Beijing",
           "80%",
           "100 E PARSONS ST",
           "2020-12-17T00:00:00"
          ],
          [
           "Nickel City",
           "92%",
           "1133 E 11TH ST",
           "2020-12-16T00:00:00"
          ],
          [
           "Lost Creek Country Club",
           "92%",
           "2612 LOST CREEK BLVD",
           "2020-12-16T00:00:00"
          ],
          [
           "Circle K #2741308",
           "93%",
           "8656 SPICEWOOD SPRINGS RD",
           "2020-12-18T00:00:00"
          ],
          [
           "Miraval Austin (Pool Cafe)",
           "100%",
           "13500 FM 2769 RD",
           "2020-12-17T00:00:00"
          ],
          [
           "Nanami Sushi Bar",
           "75%",
           "9001 BRODIE LN",
           "2020-12-14T00:00:00"
          ],
          [
           "Pollolandia",
           "91%",
           "14905 DESSAU RD",
           "2020-12-11T00:00:00"
          ],
          [
           "Austin Baptist Chapel",
           "94%",
           "908 E CESAR CHAVEZ ST",
           "2020-12-17T00:00:00"
          ],
          [
           "TEJI's Indian Restaurant",
           "54%",
           "2100 GUADALUPE ST",
           "2020-12-16T00:00:00"
          ],
          [
           "Wooldridge Elementary",
           "100%",
           "1412 NORSEMAN TER",
           "2020-12-16T00:00:00"
          ],
          [
           "McDonald's #24993",
           "89%",
           "6010 W PARMER LN",
           "2020-12-09T00:00:00"
          ],
          [
           "PF - Cobal Food Service",
           "90%",
           "2913 A W GRIMES BLVD",
           "2020-12-15T00:00:00"
          ],
          [
           "Pizzeria Casa Nostra",
           "93%",
           "21209 W SH",
           "2020-12-15T00:00:00"
          ],
          [
           "Little Woodrow's",
           "96%",
           "6301 W PARMER LN",
           "2020-12-10T00:00:00"
          ],
          [
           "Smokey Mo's BBQ",
           "80%",
           "6001 W PARMER LN",
           "2020-12-22T00:00:00"
          ],
          [
           "PF - Nothing Bundt Cakes",
           "98%",
           "18616 LIMESTONE COMMERCIAL DR",
           "2020-12-17T00:00:00"
          ],
          [
           "Bombay Walla",
           "86%",
           "8023 BURNET RD",
           "2020-12-03T00:00:00"
          ],
          [
           "Hacienda Arandinas",
           "89%",
           "9001 BRODIE LN",
           "2020-12-15T00:00:00"
          ],
          [
           "Chuy's Bakery",
           "83%",
           "801 E WILLIAM CANNON DR",
           "2020-12-08T00:00:00"
          ],
          [
           "MN - Texas Traditional BBQ",
           "82%",
           "910 N CALDWELL ST",
           "2020-12-04T00:00:00"
          ],
          [
           "LW - Flores Mexican Restaurant",
           "88%",
           "2127 LOHMANS CROSSING RD",
           "2020-12-23T00:00:00"
          ],
          [
           "Wal-Mart Supercenter #1253-Meat/Produce",
           "97%",
           "710 E BEN WHITE BLVD",
           "2020-12-15T00:00:00"
          ],
          [
           "Tiny's Milk & Cookies",
           "92%",
           "1515 W 35TH ST",
           "2020-12-07T00:00:00"
          ],
          [
           "PF - Los Amigos Meat (Kitchen)",
           "92%",
           "15812 WINDERMERE DR",
           "2020-12-01T00:00:00"
          ],
          [
           "NorthEast High School",
           "98%",
           "7104 BERKMAN DR",
           "2020-12-17T00:00:00"
          ],
          [
           "Pacha",
           "88%",
           "4618 BURNET RD",
           "2020-12-22T00:00:00"
          ],
          [
           "Provident Memory Care",
           "96%",
           "11013 SIGNAL HILL DR",
           "2020-12-01T00:00:00"
          ],
          [
           "Target Store T3250 - Starbucks",
           "97%",
           "2021 GUADALUPE ST",
           "2020-12-02T00:00:00"
          ],
          [
           "Circle K #2742420",
           "86%",
           "1405 W WILLIAM CANNON DR",
           "2020-12-01T00:00:00"
          ],
          [
           "Austin Daily Press",
           "93%",
           "3121 S LAMAR BLVD",
           "2020-12-21T00:00:00"
          ],
          [
           "HEB #20 Deli & Bakery",
           "88%",
           "6001 W PARMER LN",
           "2020-12-22T00:00:00"
          ],
          [
           "Parmer Lane Tavern",
           "89%",
           "2121 W PARMER LN",
           "2020-12-23T00:00:00"
          ],
          [
           "Numart",
           "88%",
           "11913 RANCHO ALTO RD",
           "2020-12-03T00:00:00"
          ],
          [
           "OOB Sonic",
           "86%",
           "12453 LAMPLIGHT VILLAGE AVE",
           "2020-12-01T00:00:00"
          ],
          [
           "Wing's N More",
           "74%",
           "1200 W HOWARD LN",
           "2020-12-23T00:00:00"
          ],
          [
           "Cheesecake Factory",
           "93%",
           "10000 RESEARCH BLVD",
           "2020-12-08T00:00:00"
          ],
          [
           "Tender Memories Learning Center",
           "97%",
           "308 W STASSNEY LN",
           "2020-12-02T00:00:00"
          ],
          [
           "Long John Silver's",
           "93%",
           "5600 CAMERON RD",
           "2020-12-16T00:00:00"
          ],
          [
           "Short Stop #2",
           "89%",
           "12784 N US 183 HWY",
           "2020-12-09T00:00:00"
          ],
          [
           "Verdes Grill",
           "94%",
           "16018 HAMILTON POOL RD",
           "2020-12-03T00:00:00"
          ],
          [
           "Food' n More",
           "89%",
           "9400 N IH",
           "2020-12-21T00:00:00"
          ],
          [
           "Donut Crown",
           "92%",
           "2438 W ANDERSON LN",
           "2020-12-17T00:00:00"
          ],
          [
           "PitaLicious",
           "76%",
           "4101 W PARMER LN",
           "2020-12-01T00:00:00"
          ],
          [
           "Tam Deli Cafe",
           "78%",
           "8222 N LAMAR BLVD",
           "2020-12-02T00:00:00"
          ],
          [
           "Chuck E. Cheese's #951",
           "89%",
           "9811 S IH",
           "2020-12-23T00:00:00"
          ],
          [
           "7-Eleven Convenience Store #36563B",
           "79%",
           "11643 RESEARCH BLVD",
           "2020-12-23T00:00:00"
          ],
          [
           "Radio Coffee & Beer",
           "97%",
           "4204 MANCHACA RD",
           "2020-12-11T00:00:00"
          ],
          [
           "Texas French Bread",
           "95%",
           "2900 RIO GRANDE ST",
           "2020-12-14T00:00:00"
          ],
          [
           "Popeye's #323 - Z & H Foods Inc.",
           "91%",
           "9718 MANCHACA RD",
           "2020-12-22T00:00:00"
          ],
          [
           "Jack in the Box #949",
           "90%",
           "9300 S IH",
           "2020-12-23T00:00:00"
          ],
          [
           "Via 313",
           "94%",
           "1802 E 6TH ST",
           "2020-12-17T00:00:00"
          ],
          [
           "Beatniks Market",
           "87%",
           "4415 MANCHACA RD",
           "2020-12-11T00:00:00"
          ],
          [
           "Casa Vallarta Restaurant",
           "72%",
           "6002 BURLESON RD",
           "2020-12-22T00:00:00"
          ],
          [
           "Summermoon Coffee Bar",
           "96%",
           "11601 W US 290 HWY",
           "2020-12-04T00:00:00"
          ],
          [
           "Donut Taco Palace II",
           "89%",
           "1807 W SLAUGHTER LN",
           "2020-12-18T00:00:00"
          ],
          [
           "Kentucky Fried Chicken",
           "74%",
           "13435 N US 183 HWY",
           "2020-12-15T00:00:00"
          ],
          [
           "Jimmy Johns",
           "100%",
           "515 CONGRESS AVE",
           "2020-12-04T00:00:00"
          ],
          [
           "Star Stop 75",
           "98%",
           "5801 N IH",
           "2020-12-04T00:00:00"
          ],
          [
           "Hospice Austin",
           "100%",
           "2820 E MARTIN LUTHER KING JR BLVD",
           "2020-12-16T00:00:00"
          ],
          [
           "Texas Chili Parlor",
           "87%",
           "1409 LAVACA ST",
           "2020-12-01T00:00:00"
          ],
          [
           "O' Henry Jr High",
           "99%",
           "2610 W 10TH ST",
           "2020-12-10T00:00:00"
          ],
          [
           "PF - Iron Fish Sushi and Grill",
           "87%",
           "900 E PECAN ST",
           "2020-12-16T00:00:00"
          ],
          [
           "Starbuck's Coffee#6203",
           "100%",
           "9722 GREAT HILLS TRL",
           "2020-12-08T00:00:00"
          ],
          [
           "Epoch Coffee",
           "92%",
           "2700 W ANDERSON LN",
           "2020-12-11T00:00:00"
          ],
          [
           "Express - O",
           "91%",
           "2228 E CESAR CHAVEZ ST",
           "2020-12-16T00:00:00"
          ],
          [
           "Homer's Bar and Grill",
           "99%",
           "1779 W WELLS BRANCH PKWY",
           "2020-12-16T00:00:00"
          ],
          [
           "Rosedale Market",
           "87%",
           "1309 W 45TH ST",
           "2020-12-22T00:00:00"
          ],
          [
           "Modern Market",
           "95%",
           "3201 BEE CAVES RD",
           "2020-12-07T00:00:00"
          ],
          [
           "Marbridge Foundation-Villa",
           "93%",
           "2504 BLISS SPILLAR RD",
           "2020-12-02T00:00:00"
          ],
          [
           "Peoples Pharmacy",
           "100%",
           "4018 N LAMAR BLVD",
           "2020-12-01T00:00:00"
          ],
          [
           "BC - Walgreens #11272",
           "100%",
           "12200 BEE CAVE PKWY",
           "2020-12-02T00:00:00"
          ],
          [
           "Domino's",
           "94%",
           "5145 N FM 620 RD",
           "2020-12-21T00:00:00"
          ],
          [
           "Shop N Save",
           "88%",
           "2204 WOODLAND AVE",
           "2020-12-01T00:00:00"
          ],
          [
           "Whistle Stop Grocery/La Mexicana",
           "95%",
           "834 E RUNDBERG LN",
           "2020-12-11T00:00:00"
          ],
          [
           "Dollar General Store #12967",
           "91%",
           "6729 MANOR RD",
           "2020-12-04T00:00:00"
          ],
          [
           "Zachary Scott Theatre Center",
           "100%",
           "202 S LAMAR BLVD",
           "2020-12-10T00:00:00"
          ],
          [
           "Rudy's Country Store and BBQ",
           "93%",
           "2451 S CAPITAL OF TEXAS HWY",
           "2020-12-16T00:00:00"
          ],
          [
           "Catfish Parlour",
           "92%",
           "11910 RESEARCH BLVD",
           "2020-12-10T00:00:00"
          ],
          [
           "Domino's",
           "99%",
           "311 W 5TH ST",
           "2020-12-01T00:00:00"
          ],
          [
           "Tutty Frutty",
           "90%",
           "500 W WILLIAM CANNON DR",
           "2020-12-04T00:00:00"
          ],
          [
           "WL - Waterfall Restaurant @ Westlake Surgical",
           "100%",
           "5656 BEE CAVES RD",
           "2020-12-08T00:00:00"
          ],
          [
           "High 5",
           "76%",
           "2700 W ANDERSON LN",
           "2020-12-21T00:00:00"
          ],
          [
           "Bruegger's Bagels",
           "91%",
           "3267 BEE CAVES RD",
           "2020-12-07T00:00:00"
          ],
          [
           "Eureka",
           "96%",
           "200 E 6TH ST",
           "2020-12-08T00:00:00"
          ],
          [
           "Eastside Pies Too!",
           "86%",
           "5312 AIRPORT BLVD",
           "2020-12-17T00:00:00"
          ],
          [
           "Waffle House #1623",
           "95%",
           "7809 E BEN WHITE BLVD",
           "2020-12-18T00:00:00"
          ],
          [
           "Bowie H.S. Culinary Kitchen",
           "97%",
           "4103 W SLAUGHTER LN",
           "2020-12-07T00:00:00"
          ],
          [
           "Signature #2",
           "97%",
           "608 S LAMAR BLVD",
           "2020-12-11T00:00:00"
          ],
          [
           "Accent Food Services - Netspend Airport",
           "99%",
           "5800 AIRPORT BLVD",
           "2020-12-18T00:00:00"
          ],
          [
           "Backyard Bar & Grill",
           "100%",
           "9900 S IH",
           "2020-12-10T00:00:00"
          ],
          [
           "La Michoacana-Austin #3 (Kitchen)",
           "88%",
           "512 W STASSNEY LN",
           "2020-12-10T00:00:00"
          ],
          [
           "Pizza Day",
           "86%",
           "10225 RESEARCH BLVD",
           "2020-12-09T00:00:00"
          ],
          [
           "Burger King #4228",
           "88%",
           "9523 N LAMAR BLVD",
           "2020-12-21T00:00:00"
          ],
          [
           "WL-Trianon Coffee",
           "90%",
           "3654 BEE CAVES RD",
           "2020-12-17T00:00:00"
          ],
          [
           "MN - Panda Express #2516",
           "98%",
           "11808 RING DR",
           "2020-12-09T00:00:00"
          ],
          [
           "BC-Giovanni's Table",
           "93%",
           "11701 FM 2244 RD",
           "2020-12-01T00:00:00"
          ],
          [
           "Flyrite Chicken Inc",
           "80%",
           "6539 BURNET RD",
           "2020-12-07T00:00:00"
          ],
          [
           "HEB Deli #236",
           "96%",
           "1434 W WELLS BRANCH PKWY",
           "2020-12-11T00:00:00"
          ],
          [
           "DH Mini Mart",
           "96%",
           "2911 S 1ST ST",
           "2020-12-15T00:00:00"
          ],
          [
           "BC - Bon Japanese Cuisine",
           "96%",
           "3500 S FM 620 RD",
           "2020-12-15T00:00:00"
          ],
          [
           "Subway #44843",
           "90%",
           "11215 S IH",
           "2020-12-23T00:00:00"
          ],
          [
           "LW - Pao's Mandarin House",
           "88%",
           "2300 LOHMANS SPUR RD",
           "2020-12-18T00:00:00"
          ],
          [
           "Staybridge Hotel",
           "89%",
           "1611 AIRPORT COMMERCE DR",
           "2020-12-17T00:00:00"
          ],
          [
           "PF - Kumar's Austin",
           "73%",
           "15803 WINDERMERE DR",
           "2020-12-17T00:00:00"
          ],
          [
           "Wingstop #188",
           "86%",
           "9616 N LAMAR BLVD",
           "2020-12-18T00:00:00"
          ],
          [
           "Starbucks Coffee #9617",
           "91%",
           "9600 ESCARPMENT BLVD",
           "2020-12-16T00:00:00"
          ],
          [
           "BC- Artemis Mediterranean Grill",
           "89%",
           "4025 S FM 620 RD",
           "2020-12-03T00:00:00"
          ],
          [
           "Summermoon Coffee Bar",
           "91%",
           "8300 N FM 620 RD",
           "2020-12-14T00:00:00"
          ],
          [
           "Crazy Fruits # 2",
           "95%",
           "6100 E RIVERSIDE DR",
           "2020-12-23T00:00:00"
          ],
          [
           "Stepping Stone Child Care",
           "93%",
           "1710 RICHCREEK RD",
           "2020-12-18T00:00:00"
          ],
          [
           "Pho MPH",
           "84%",
           "4616 TRIANGLE AVE",
           "2020-12-22T00:00:00"
          ],
          [
           "Dollar General #16198",
           "97%",
           "13903 FM 812 RD",
           "2020-12-17T00:00:00"
          ],
          [
           "LW - Santa Catarina",
           "79%",
           "1310 S FM 620 RD",
           "2020-12-21T00:00:00"
          ],
          [
           "Paola's Kitchen",
           "95%",
           "1700 W ANDERSON LN",
           "2020-12-21T00:00:00"
          ],
          [
           "2nd Street Market",
           "89%",
           "200 SAN JACINTO BLVD",
           "2020-12-14T00:00:00"
          ],
          [
           "Central Donut",
           "93%",
           "1910 W BRAKER LN",
           "2020-12-21T00:00:00"
          ],
          [
           "DJ's Food & Gas Stop",
           "93%",
           "1135 AIRPORT BLVD",
           "2020-12-11T00:00:00"
          ],
          [
           "Buddy's Mexican Grill",
           "81%",
           "9001 CAMERON RD",
           "2020-12-04T00:00:00"
          ],
          [
           "Walnut Hills Nursing & Rehab",
           "89%",
           "3509 ROGGE LN",
           "2020-12-15T00:00:00"
          ],
          [
           "Food Basket",
           "85%",
           "12503 LAMPLIGHT VILLAGE AVE",
           "2020-12-21T00:00:00"
          ],
          [
           "El Pollo Rico #4",
           "94%",
           "730 W STASSNEY LN",
           "2020-12-03T00:00:00"
          ],
          [
           "Kerbey Lane Cafe",
           "70%",
           "13435 N US 183 HWY",
           "2020-12-15T00:00:00"
          ],
          [
           "Joy East Chinese Buffet",
           "74%",
           "2410 E RIVERSIDE DR",
           "2020-12-01T00:00:00"
          ],
          [
           "Fairfield Inn & Suites Austin North",
           "96%",
           "12536 N IH",
           "2020-12-22T00:00:00"
          ],
          [
           "Old School Liquor & Market",
           "99%",
           "1901 W WILLIAM CANNON DR",
           "2020-12-09T00:00:00"
          ],
          [
           "Teji's Indian Restaurant",
           "92%",
           "8023 BURNET RD",
           "2020-12-03T00:00:00"
          ],
          [
           "RBM Food Mart",
           "87%",
           "2601 MANOR RD",
           "2020-12-07T00:00:00"
          ],
          [
           "7-Eleven Convenience Store # 24909B",
           "78%",
           "8010 BRODIE LN",
           "2020-12-16T00:00:00"
          ],
          [
           "HEB #236",
           "100%",
           "1434 W WELLS BRANCH PKWY",
           "2020-12-11T00:00:00"
          ],
          [
           "Popeye's #318 - Z & H Foods Inc",
           "95%",
           "9815 N LAMAR BLVD",
           "2020-12-03T00:00:00"
          ],
          [
           "Foodie's Corner 2",
           "96%",
           "2400 RIO GRANDE ST",
           "2020-12-15T00:00:00"
          ],
          [
           "Gold's Gym Austin Downtown",
           "98%",
           "115 E 6TH ST",
           "2020-12-14T00:00:00"
          ],
          [
           "7-Eleven Convenience Store #36592A",
           "91%",
           "12000 N MOPAC EXPY",
           "2020-12-23T00:00:00"
          ],
          [
           "Siena Restaurant at Bull Creek",
           "91%",
           "6203 N CAPITAL OF TEXAS HWY",
           "2020-12-15T00:00:00"
          ],
          [
           "WL - Chick-Fil-A",
           "98%",
           "701 S CAPITAL OF TEXAS HWY",
           "2020-12-08T00:00:00"
          ],
          [
           "Clay Pit Contemporary Indian Restaurant",
           "88%",
           "1601 GUADALUPE ST",
           "2020-12-02T00:00:00"
          ],
          [
           "San Francisco Bakery Cafe",
           "89%",
           "2900 W ANDERSON LN",
           "2020-12-18T00:00:00"
          ],
          [
           "Antonelli's Cheese Shop",
           "95%",
           "500 PARK BLVD",
           "2020-12-07T00:00:00"
          ],
          [
           "Stop N Tote",
           "80%",
           "2715 E 5TH ST",
           "2020-12-15T00:00:00"
          ],
          [
           "Circle K #2740080",
           "88%",
           "3909 GUADALUPE ST",
           "2020-12-07T00:00:00"
          ],
          [
           "Little Rascals Day Care",
           "89%",
           "1006 E YAGER LN",
           "2020-12-15T00:00:00"
          ],
          [
           "Wheatsville Food Co-Op - Deli",
           "91%",
           "4001 S LAMAR BLVD",
           "2020-12-14T00:00:00"
          ],
          [
           "Jiffy Sak",
           "95%",
           "6105 TECHNI CENTER DR",
           "2020-12-08T00:00:00"
          ],
          [
           "EPIC POKE",
           "93%",
           "6448 E US",
           "2020-12-03T00:00:00"
          ],
          [
           "Omelettry, The",
           "89%",
           "4631 AIRPORT BLVD",
           "2020-12-22T00:00:00"
          ],
          [
           "LW - Orange Leaf",
           "95%",
           "2011 MAIN ST",
           "2020-12-07T00:00:00"
          ],
          [
           "Westminster Manor AL & Arbour Dining Services",
           "92%",
           "4200 JACKSON AVE",
           "2020-12-01T00:00:00"
          ],
          [
           "Rositas Al Pastor",
           "86%",
           "1911 E RIVERSIDE DR",
           "2020-12-16T00:00:00"
          ],
          [
           "Short Stop",
           "83%",
           "6603 BERKMAN DR",
           "2020-12-01T00:00:00"
          ],
          [
           "Lala's",
           "86%",
           "2207 JUSTIN LN",
           "2020-12-21T00:00:00"
          ],
          [
           "KIPP Austin Public Schools",
           "96%",
           "8509 FM 969 RD",
           "2020-12-04T00:00:00"
          ],
          [
           "Amy's Ice Cream",
           "95%",
           "10000 RESEARCH BLVD",
           "2020-12-21T00:00:00"
          ],
          [
           "Ravenscroft Market",
           "87%",
           "11200 MANCHACA RD",
           "2020-12-03T00:00:00"
          ],
          [
           "Nordstrom Ebar",
           "98%",
           "3111 PALM WAY",
           "2020-12-21T00:00:00"
          ],
          [
           "Best Western Plus, Austin Airport",
           "92%",
           "1805 AIRPORT COMMERCE DR",
           "2020-12-17T00:00:00"
          ],
          [
           "Star Papa",
           "98%",
           "11601 W US 290 HWY",
           "2020-12-04T00:00:00"
          ],
          [
           "YMOK DayCare Austin LLC",
           "100%",
           "510 CLARKE ST",
           "2020-12-02T00:00:00"
          ],
          [
           "Thundercloud Subs",
           "91%",
           "3204 GUADALUPE ST",
           "2020-12-14T00:00:00"
          ],
          [
           "Little Caesar's Pizza",
           "87%",
           "4410 E RIVERSIDE DR",
           "2020-12-11T00:00:00"
          ],
          [
           "Nana's Playhouse Learning Center",
           "96%",
           "4406 RUSSELL DR",
           "2020-12-04T00:00:00"
          ],
          [
           "ATX Food Mart",
           "98%",
           "3002 S CONGRESS AVE",
           "2020-12-14T00:00:00"
          ],
          [
           "PF - Children's Courtyard, The",
           "99%",
           "1308 PICADILLY DR",
           "2020-12-21T00:00:00"
          ],
          [
           "Walnut Creek School",
           "96%",
           "401 W BRAKER LN",
           "2020-12-08T00:00:00"
          ],
          [
           "Cuvee Coffee",
           "98%",
           "2000 E 6TH ST",
           "2020-12-11T00:00:00"
          ],
          [
           "Ruby Thai Kitchen",
           "80%",
           "2901 S CAPITAL OF TEXAS HWY",
           "2020-12-09T00:00:00"
          ],
          [
           "Chow Town Foods",
           "100%",
           "14735 BRATTON LN",
           "2020-12-16T00:00:00"
          ],
          [
           "Cafe Regents",
           "90%",
           "3230 TRAVIS COUNTRY CIR",
           "2020-12-16T00:00:00"
          ],
          [
           "Chili's Grill & Bar",
           "84%",
           "701 E STASSNEY LN",
           "2020-12-17T00:00:00"
          ],
          [
           "Teapioca Arboretum",
           "86%",
           "10000 RESEARCH BLVD",
           "2020-12-14T00:00:00"
          ],
          [
           "PF - La Patisserie by Oven - Fresh Delights",
           "98%",
           "2604 W PECAN ST",
           "2020-12-01T00:00:00"
          ],
          [
           "Stop N Start",
           "88%",
           "6010 W PARMER LN",
           "2020-12-08T00:00:00"
          ],
          [
           "PF - Shogun Japanese Grill & Sushi Bar",
           "75%",
           "18816 LIMESTONE COMMERCIAL DR",
           "2020-12-15T00:00:00"
          ],
          [
           "Texan Market No. 7, The",
           "86%",
           "4205 MANCHACA RD",
           "2020-12-23T00:00:00"
          ],
          [
           "House Wine",
           "89%",
           "408 JOSEPHINE ST",
           "2020-12-21T00:00:00"
          ],
          [
           "Spokesman",
           "97%",
           "440 E ST ELMO RD",
           "2020-12-10T00:00:00"
          ],
          [
           "Hudson's Hill Country",
           "93%",
           "3509 N FM 620 RD",
           "2020-12-22T00:00:00"
          ],
          [
           "Subway #43067",
           "97%",
           "1910 W BRAKER LN",
           "2020-12-21T00:00:00"
          ],
          [
           "Nothing Bundt Cakes - South Austin",
           "97%",
           "9600 S IH",
           "2020-12-04T00:00:00"
          ],
          [
           "Growing Imaginations L.C.",
           "100%",
           "5410 S 1ST ST",
           "2020-12-07T00:00:00"
          ],
          [
           "Village @ Marbridge",
           "100%",
           "2310 BLISS SPILLAR RD",
           "2020-12-02T00:00:00"
          ],
          [
           "Intel ANA Cafe",
           "97%",
           "1300 S MOPAC EXPY",
           "2020-12-10T00:00:00"
          ],
          [
           "Muro's Pizza",
           "98%",
           "6301 W PARMER LN",
           "2020-12-10T00:00:00"
          ],
          [
           "Tiff's Treats",
           "80%",
           "11011 RESEARCH BLVD",
           "2020-12-02T00:00:00"
          ],
          [
           "Children's Courtyard",
           "98%",
           "4213 SPICEWOOD SPRINGS RD",
           "2020-12-16T00:00:00"
          ],
          [
           "Heritage Park Rehabilitation and Skilled Nursing Center",
           "95%",
           "2806 REAL ST",
           "2020-12-04T00:00:00"
          ],
          [
           "Terry's Seafood",
           "86%",
           "1805 AIRPORT BLVD",
           "2020-12-08T00:00:00"
          ],
          [
           "Batch Craft Beer & Kolaches",
           "91%",
           "3220 MANOR RD",
           "2020-12-11T00:00:00"
          ],
          [
           "The Liberty",
           "100%",
           "1618 1 2 E 6TH ST",
           "2020-12-12T00:00:00"
          ],
          [
           "Wendy's Old Fashioned Hamburgers #113",
           "80%",
           "6210 E BEN WHITE BLVD",
           "2020-12-18T00:00:00"
          ],
          [
           "WL - Tacodeli V, L.L.C.",
           "92%",
           "701 S CAPITAL OF TEXAS HWY",
           "2020-12-18T00:00:00"
          ],
          [
           "Challenger School Elementary",
           "94%",
           "15101 AVERY RANCH BLVD",
           "2020-12-07T00:00:00"
          ],
          [
           "Kinder Care Learning Center",
           "95%",
           "6434 S CONGRESS AVE",
           "2020-12-11T00:00:00"
          ],
          [
           "Pizza Paradise",
           "88%",
           "1921 CEDAR BEND DR",
           "2020-12-23T00:00:00"
          ],
          [
           "Lamar C Store",
           "83%",
           "6301 N LAMAR BLVD",
           "2020-12-07T00:00:00"
          ],
          [
           "McDonald's # 12430",
           "91%",
           "5762 N MOPAC EXPY",
           "2020-12-14T00:00:00"
          ],
          [
           "Pho Noodle House, The",
           "73%",
           "609 CLAYTON LN",
           "2020-12-16T00:00:00"
          ],
          [
           "Circle K #2741301",
           "92%",
           "1310 W HOWARD LN",
           "2020-12-22T00:00:00"
          ],
          [
           "Chick-fil-A",
           "99%",
           "503 W MARTIN LUTHER KING JR BLVD",
           "2020-12-18T00:00:00"
          ],
          [
           "BC - Rosie's Tamale House",
           "80%",
           "13436 W SH",
           "2020-12-02T00:00:00"
          ],
          [
           "MN - Shipley Donuts",
           "83%",
           "11300 E US 290 HWY",
           "2020-12-04T00:00:00"
          ],
          [
           "Insomnia Cookies",
           "96%",
           "2323 SAN ANTONIO ST",
           "2020-12-02T00:00:00"
          ],
          [
           "Miraval Resort & Spa",
           "89%",
           "13500 FM 2769 RD",
           "2020-12-17T00:00:00"
          ],
          [
           "LeRoy and Lewis BBQ",
           "93%",
           "630 RALPH ABLANEDO DR",
           "2020-12-17T00:00:00"
          ],
          [
           "Paper Route Bakery",
           "100%",
           "1010 E CESAR CHAVEZ ST",
           "2020-12-21T00:00:00"
          ],
          [
           "Asahi Imports",
           "85%",
           "6105 BURNET RD",
           "2020-12-11T00:00:00"
          ],
          [
           "Danelia Rogel Fruit Cup Shop LLC",
           "72%",
           "704 E ST JOHNS AVE",
           "2020-12-09T00:00:00"
          ],
          [
           "Whataburger #481",
           "100%",
           "11135 N IH",
           "2020-12-18T00:00:00"
          ],
          [
           "Paperboy",
           "92%",
           "1203 E 11TH ST",
           "2020-12-21T00:00:00"
          ],
          [
           "Jaime D. Padron Elementary",
           "100%",
           "2011 W RUNDBERG LN",
           "2020-12-16T00:00:00"
          ],
          [
           "IHOP",
           "98%",
           "11654 RESEARCH BLVD",
           "2020-12-02T00:00:00"
          ],
          [
           "Dairy Queen",
           "95%",
           "13301 N US 183 HWY",
           "2020-12-08T00:00:00"
          ],
          [
           "Whataburger",
           "99%",
           "2800 GUADALUPE ST",
           "2020-12-22T00:00:00"
          ],
          [
           "LW- HEB 714",
           "90%",
           "2000 S FM 620 RD",
           "2020-12-21T00:00:00"
          ],
          [
           "Daily Food Store",
           "92%",
           "1071 SPRINGDALE RD",
           "2020-12-14T00:00:00"
          ],
          [
           "Tienda Mexicana",
           "92%",
           "825 E RUNDBERG LN",
           "2020-12-11T00:00:00"
          ],
          [
           "Gong Cha",
           "83%",
           "13201 N FM 620 RD",
           "2020-12-01T00:00:00"
          ],
          [
           "Betos #2  Mexican Restaurant",
           "70%",
           "3306 OAK SPRINGS DR",
           "2020-12-11T00:00:00"
          ],
          [
           "Tokyo Gardens Catering",
           "100%",
           "1434 W WELLS BRANCH PKWY",
           "2020-12-11T00:00:00"
          ],
          [
           "Food Basket #7",
           "88%",
           "2015 W PARMER LN",
           "2020-12-22T00:00:00"
          ],
          [
           "Brookdale Beckett Meadows",
           "78%",
           "7709 BECKETT RD",
           "2020-12-16T00:00:00"
          ],
          [
           "Boston Market #1981",
           "80%",
           "4607 W BRAKER LN",
           "2020-12-16T00:00:00"
          ],
          [
           "Omni Barton Creek",
           "90%",
           "8501 CARRANZO DR",
           "2020-12-10T00:00:00"
          ],
          [
           "Las Lomas Mexican Restaurant",
           "73%",
           "730 W STASSNEY LN",
           "2020-12-16T00:00:00"
          ],
          [
           "H & C Food Service",
           "79%",
           "1914 GUADALUPE ST",
           "2020-12-07T00:00:00"
          ],
          [
           "BC - Spec's Wine, Spirits & Finer Foods",
           "100%",
           "13015 SHOPS PKWY",
           "2020-12-03T00:00:00"
          ],
          [
           "Austin Eastciders Barton Springs",
           "89%",
           "1530 BARTON SPRINGS RD",
           "2020-12-03T00:00:00"
          ],
          [
           "Pappadeaux Seafood Kitchen #3",
           "94%",
           "6319 N IH",
           "2020-12-11T00:00:00"
          ],
          [
           "Galaxy Cafe",
           "97%",
           "1000 WEST LYNN ST",
           "2020-12-07T00:00:00"
          ],
          [
           "Bread Basket",
           "81%",
           "2213 JUSTIN LN",
           "2020-12-04T00:00:00"
          ],
          [
           "MOD Superfast Pizza",
           "97%",
           "1920 E RIVERSIDE DR",
           "2020-12-22T00:00:00"
          ],
          [
           "Whataburger",
           "99%",
           "1616 E OLTORF ST",
           "2020-12-04T00:00:00"
          ],
          [
           "Pillow Elementary",
           "99%",
           "3025 CROSSCREEK DR",
           "2020-12-16T00:00:00"
          ],
          [
           "7 Eleven # 36610A",
           "89%",
           "2616 W BRAKER LN",
           "2020-12-21T00:00:00"
          ],
          [
           "Bungalow",
           "100%",
           "92 RAINEY ST",
           "2020-12-05T00:00:00"
          ],
          [
           "Einstein Bros Bagels #3111",
           "92%",
           "3010 W ANDERSON LN",
           "2020-12-08T00:00:00"
          ],
          [
           "House of Little Angels",
           "96%",
           "735 TURTLE CREEK BLVD",
           "2020-12-04T00:00:00"
          ],
          [
           "MN - Dollar General #6946",
           "86%",
           "12750 LAPOYNOR ST",
           "2020-12-09T00:00:00"
          ],
          [
           "Ben White Shell",
           "83%",
           "2125 W BEN WHITE BLVD",
           "2020-12-23T00:00:00"
          ],
          [
           "Mathews Elementary School",
           "100%",
           "906 WEST LYNN ST",
           "2020-12-10T00:00:00"
          ],
          [
           "TLC",
           "90%",
           "1100 S LAMAR BLVD",
           "2020-12-03T00:00:00"
          ],
          [
           "Randalls 2480 Bakery",
           "96%",
           "6600 S MOPAC EXPY",
           "2020-12-22T00:00:00"
          ],
          [
           "Clifton Center",
           "97%",
           "1519 CORONADO HILLS DR",
           "2020-12-11T00:00:00"
          ],
          [
           "Southside Flying Pizza - Arcade and Grill",
           "85%",
           "11600 MANCHACA RD",
           "2020-12-21T00:00:00"
          ],
          [
           "Gonzalo Garza Independence H S",
           "96%",
           "1600 CHICON ST",
           "2020-12-16T00:00:00"
          ],
          [
           "Whataburger #1022",
           "94%",
           "8300 N FM 620 RD",
           "2020-12-14T00:00:00"
          ],
          [
           "Vaquero Taquero",
           "90%",
           "104 E 31ST ST",
           "2020-12-08T00:00:00"
          ],
          [
           "BC - Falconhead Golf Club",
           "95%",
           "15201 FALCON HEAD BLVD",
           "2020-12-02T00:00:00"
          ],
          [
           "Popeye's #325 - Z & H Foods Inc.",
           "90%",
           "2320 E RIVERSIDE DR",
           "2020-12-22T00:00:00"
          ],
          [
           "Aviator Pizza & Drafthouse",
           "90%",
           "4005 W PARMER LN",
           "2020-12-01T00:00:00"
          ],
          [
           "OOB - Sonic Drive In",
           "71%",
           "6816 MC NEIL DR",
           "2020-12-08T00:00:00"
          ],
          [
           "Target Store T2288 -Grocery",
           "96%",
           "9500 S IH",
           "2020-12-07T00:00:00"
          ],
          [
           "Marbridge Found-Senior Dorm",
           "94%",
           "2310 BLISS SPILLAR RD",
           "2020-12-02T00:00:00"
          ],
          [
           "MN - Wendy's",
           "97%",
           "11808 RING DR",
           "2020-12-09T00:00:00"
          ],
          [
           "Westminster Manor",
           "86%",
           "4100 JACKSON AVE",
           "2020-12-01T00:00:00"
          ],
          [
           "Canteen @ Corning Optical Communications",
           "100%",
           "8201 N FM 620 RD",
           "2020-12-14T00:00:00"
          ],
          [
           "PF - Papa John's #1127",
           "90%",
           "900 E PECAN",
           "2020-12-17T00:00:00"
          ],
          [
           "Sonic Drive-In, Austin, North Lamar, LP",
           "93%",
           "9325 N LAMAR BLVD",
           "2020-12-17T00:00:00"
          ],
          [
           "People's Pharmacy",
           "93%",
           "4201 WESTBANK DR",
           "2020-12-08T00:00:00"
          ],
          [
           "Pizza Press, The",
           "87%",
           "404 W 26TH ST",
           "2020-12-15T00:00:00"
          ],
          [
           "Randall's #2480-Retail",
           "93%",
           "6600 S MOPAC EXPY",
           "2020-12-22T00:00:00"
          ],
          [
           "Bee Grocery, The",
           "88%",
           "1001 E 6TH ST",
           "2020-12-23T00:00:00"
          ],
          [
           "KIPP Austin Arts & Letters",
           "98%",
           "8509 FM 969 RD",
           "2020-12-04T00:00:00"
          ],
          [
           "Central District Brewing",
           "96%",
           "417 RED RIVER ST",
           "2020-12-07T00:00:00"
          ],
          [
           "BC - All Star Burger",
           "88%",
           "12921 HILL COUNTRY BLVD",
           "2020-12-03T00:00:00"
          ],
          [
           "Rudy's Country Store & BBQ",
           "96%",
           "3914 N LAMAR BLVD",
           "2020-12-09T00:00:00"
          ],
          [
           "Challenger School",
           "100%",
           "13015 POND SPRINGS RD",
           "2020-12-08T00:00:00"
          ],
          [
           "Little Caesars Pizza",
           "95%",
           "2601 E 7TH ST",
           "2020-12-16T00:00:00"
          ],
          [
           "MN-Country Boyz Fixins",
           "88%",
           "101 N LEXINGTON ST",
           "2020-12-04T00:00:00"
          ],
          [
           "League, The",
           "80%",
           "10526 W PARMER LN",
           "2020-12-21T00:00:00"
          ],
          [
           "Shipley's Donuts",
           "94%",
           "1045 NORWOOD PARK BLVD",
           "2020-12-10T00:00:00"
          ],
          [
           "Austin Catering",
           "97%",
           "2700 W ANDERSON LN",
           "2020-12-10T00:00:00"
          ],
          [
           "Big Easy Bar and Grill",
           "92%",
           "1806 E 12TH ST",
           "2020-12-02T00:00:00"
          ],
          [
           "Smoothie King",
           "97%",
           "4301 W WILLIAM CANNON DR",
           "2020-12-04T00:00:00"
          ],
          [
           "Rusty Cannon Pub",
           "79%",
           "730 W STASSNEY LN",
           "2020-12-18T00:00:00"
          ],
          [
           "Magellan International School, The",
           "100%",
           "7130 CHIMNEY CORNERS",
           "2020-12-01T00:00:00"
          ],
          [
           "Barnison Catering",
           "100%",
           "2614 EXPOSITION BLVD",
           "2020-12-03T00:00:00"
          ],
          [
           "Twin Liquors #44",
           "97%",
           "4001 S LAMAR BLVD",
           "2020-12-23T00:00:00"
          ],
          [
           "Wal-Mart Supercenter Deli/Bakery #5317",
           "97%",
           "9300 S IH",
           "2020-12-21T00:00:00"
          ],
          [
           "7-Eleven Convenience Store #36263B",
           "91%",
           "3801 W PARMER LN",
           "2020-12-23T00:00:00"
          ],
          [
           "Walgreen #4458",
           "98%",
           "3601 W WILLIAM CANNON DR",
           "2020-12-22T00:00:00"
          ],
          [
           "Fresh Plus",
           "83%",
           "2401 SAN GABRIEL ST",
           "2020-12-22T00:00:00"
          ],
          [
           "Erica Nelson Brown Catering",
           "100%",
           "12800 GALLERIA CIR",
           "2020-12-07T00:00:00"
          ],
          [
           "LW - Jason's Deli",
           "89%",
           "1504 S FM 620 RD",
           "2020-12-02T00:00:00"
          ],
          [
           "Tortilleria Rio Grande",
           "80%",
           "500 W WILLIAM CANNON DR",
           "2020-12-18T00:00:00"
          ],
          [
           "Foodheads",
           "92%",
           "616 W 34TH ST",
           "2020-12-17T00:00:00"
          ],
          [
           "Lamppost Coffee",
           "94%",
           "515 CONGRESS AVE",
           "2020-12-04T00:00:00"
          ],
          [
           "Susy's Child Care",
           "87%",
           "308 W WILLIAM CANNON DR",
           "2020-12-04T00:00:00"
          ],
          [
           "LW - Lakeway Market",
           "80%",
           "2114 LAKEWAY BLVD",
           "2020-12-02T00:00:00"
          ],
          [
           "Home 2 Suites by Hilton",
           "96%",
           "1705 AIRPORT COMMERCE DR",
           "2020-12-17T00:00:00"
          ],
          [
           "Upper Crust Bakery",
           "90%",
           "4508 BURNET RD",
           "2020-12-18T00:00:00"
          ],
          [
           "Star Stop 74",
           "96%",
           "2819 GUADALUPE ST",
           "2020-12-03T00:00:00"
          ],
          [
           "LW - Sakura Sushi & Bar",
           "70%",
           "1945 MEDICAL DR",
           "2020-12-21T00:00:00"
          ],
          [
           "Staybridge Suites Austin South Interstate 35",
           "97%",
           "901 LITTLE TEXAS LN",
           "2020-12-10T00:00:00"
          ],
          [
           "Respite Recovery",
           "95%",
           "403 E 15TH ST",
           "2020-12-03T00:00:00"
          ],
          [
           "Lavallarta Restaurant",
           "88%",
           "6628 S CONGRESS AVE",
           "2020-12-07T00:00:00"
          ],
          [
           "P F Chang's To Go - Mix on Burnet",
           "96%",
           "8023 BURNET RD",
           "2020-12-22T00:00:00"
          ],
          [
           "Alternative Learning Center School",
           "99%",
           "4900 GONZALES ST",
           "2020-12-07T00:00:00"
          ],
          [
           "Paleface Grocery",
           "89%",
           "23526 W SH",
           "2020-12-07T00:00:00"
          ],
          [
           "Graceland Grocery",
           "97%",
           "8600 W US 290 HWY",
           "2020-12-08T00:00:00"
          ],
          [
           "Casa Linda Taqueria",
           "94%",
           "623 W DITTMAR RD",
           "2020-12-10T00:00:00"
          ],
          [
           "Jimmy John's Gourmet Sandwiches",
           "97%",
           "13429 N US 183 HWY",
           "2020-12-10T00:00:00"
          ],
          [
           "Children's Courtyard",
           "90%",
           "11718 METRIC BLVD",
           "2020-12-22T00:00:00"
          ],
          [
           "Sun Ray Waters",
           "98%",
           "7801 N LAMAR BLVD",
           "2020-12-21T00:00:00"
          ],
          [
           "7-Eleven #36562H",
           "90%",
           "6422 S US 183 HWY",
           "2020-12-17T00:00:00"
          ],
          [
           "Amy's Ice Cream",
           "94%",
           "3500 GUADALUPE ST",
           "2020-12-07T00:00:00"
          ],
          [
           "Church's Chicken Store No. 765",
           "87%",
           "8545 RESEARCH BLVD",
           "2020-12-11T00:00:00"
          ],
          [
           "Taco Bell #030157",
           "96%",
           "1016 E ANDERSON LN",
           "2020-12-10T00:00:00"
          ],
          [
           "Lamar Middle School",
           "99%",
           "6201 WYNONA AVE",
           "2020-12-04T00:00:00"
          ],
          [
           "Fast Food Store",
           "81%",
           "4611 E MARTIN LUTHER KING JR BLVD",
           "2020-12-21T00:00:00"
          ],
          [
           "MTM Indian Foods",
           "90%",
           "9225 W PARMER LN",
           "2020-12-21T00:00:00"
          ],
          [
           "PF - HEB Food Store #479 (Bakery)",
           "97%",
           "201 N FM",
           "2020-12-15T00:00:00"
          ],
          [
           "Subway",
           "90%",
           "6001 W PARMER LN",
           "2020-12-22T00:00:00"
          ],
          [
           "China Steakhouse",
           "96%",
           "15511 W SH",
           "2020-12-14T00:00:00"
          ],
          [
           "Bricker Food and Beverage",
           "98%",
           "630 RALPH ABLANEDO DR",
           "2020-12-17T00:00:00"
          ],
          [
           "Taco Shack",
           "93%",
           "2825 GUADALUPE ST",
           "2020-12-08T00:00:00"
          ],
          [
           "Chipotle Mexican Grill #3328",
           "99%",
           "1109 E 5TH ST",
           "2020-12-11T00:00:00"
          ],
          [
           "Royal Blue Grocery",
           "96%",
           "301 BRAZOS ST",
           "2020-12-08T00:00:00"
          ],
          [
           "Whataburger #132",
           "96%",
           "9516 N LAMAR BLVD",
           "2020-12-23T00:00:00"
          ],
          [
           "BC-Hill Country Indoor",
           "96%",
           "13875 BEE CAVE PKWY",
           "2020-12-04T00:00:00"
          ],
          [
           "District",
           "71%",
           "5900 W SLAUGHTER LN",
           "2020-12-11T00:00:00"
          ],
          [
           "Stepping Stone School",
           "77%",
           "6616 MC NEIL DR",
           "2020-12-01T00:00:00"
          ],
          [
           "Little Darlin', The",
           "80%",
           "6507 CIRCLE S RD",
           "2020-12-17T00:00:00"
          ],
          [
           "Las Mangonadas",
           "91%",
           "1144 AIRPORT BLVD",
           "2020-12-21T00:00:00"
          ],
          [
           "Madam Mam",
           "92%",
           "510 W 26TH ST",
           "2020-12-17T00:00:00"
          ],
          [
           "LW - Little Sunshine's Playhouse & Preschool",
           "98%",
           "1501 LOHMANS CROSSING RD",
           "2020-12-23T00:00:00"
          ],
          [
           "Mariana's Kitchen",
           "90%",
           "5510 S IH",
           "2020-12-16T00:00:00"
          ],
          [
           "Pizza Hut",
           "87%",
           "8500 N LAMAR BLVD",
           "2020-12-04T00:00:00"
          ],
          [
           "BC - CVS/ Pharmacy # 8925",
           "98%",
           "14057 BEE CAVE PKWY",
           "2020-12-03T00:00:00"
          ],
          [
           "Fujiyama",
           "97%",
           "4815 W BRAKER LN",
           "2020-12-15T00:00:00"
          ],
          [
           "Braker Food Mart",
           "87%",
           "11300 N IH",
           "2020-12-09T00:00:00"
          ],
          [
           "Subway 66727",
           "94%",
           "8906 BRODIE LN",
           "2020-12-15T00:00:00"
          ],
          [
           "La Quinta Inn #0522",
           "94%",
           "1603 E OLTORF ST",
           "2020-12-18T00:00:00"
          ],
          [
           "Las Delicias Meat Market-Kitchen",
           "75%",
           "111 W WILLIAM CANNON DR",
           "2020-12-07T00:00:00"
          ],
          [
           "Shipley Donuts",
           "88%",
           "2113 W ANDERSON LN",
           "2020-12-15T00:00:00"
          ],
          [
           "MN - Taqueria La Parrillita",
           "98%",
           "10400 E US 290 HWY",
           "2020-12-17T00:00:00"
          ],
          [
           "Lone Star Kolaches",
           "83%",
           "1701 W PARMER LN",
           "2020-12-21T00:00:00"
          ],
          [
           "Austin's Moontower Saloon",
           "100%",
           "10212 MANCHACA RD",
           "2020-12-22T00:00:00"
          ],
          [
           "Austin's Pizza #7",
           "92%",
           "10900 RESEARCH BLVD",
           "2020-12-17T00:00:00"
          ],
          [
           "Four Brothers",
           "93%",
           "2901 S CAPITAL OF TEXAS HWY",
           "2020-12-09T00:00:00"
          ],
          [
           "PF - Eden Cafe",
           "76%",
           "15803 WINDERMERE DR",
           "2020-12-01T00:00:00"
          ],
          [
           "PF - HEB Food Store #479 (Deli)",
           "95%",
           "201 N FM",
           "2020-12-15T00:00:00"
          ],
          [
           "LW - Sandeez Hamburger Hut",
           "86%",
           "113 N FM 620 RD",
           "2020-12-03T00:00:00"
          ],
          [
           "Barton Hills Elementary",
           "98%",
           "2108 BARTON HILLS DR",
           "2020-12-15T00:00:00"
          ],
          [
           "Abacus School of Austin",
           "91%",
           "14115 AVERY RANCH BLVD",
           "2020-12-10T00:00:00"
          ],
          [
           "Escarpment Exxon",
           "93%",
           "6109 W WILLIAM CANNON DR",
           "2020-12-01T00:00:00"
          ],
          [
           "Wal-Mart Supercenter #1253",
           "99%",
           "710 E BEN WHITE BLVD",
           "2020-12-15T00:00:00"
          ],
          [
           "Eskimo Hut Beer-Wine-Frozen Daquiris to Go",
           "100%",
           "1045 NORWOOD PARK BLVD",
           "2020-12-10T00:00:00"
          ],
          [
           "Hunan Ranch",
           "80%",
           "14900 AVERY RANCH BLVD",
           "2020-12-07T00:00:00"
          ],
          [
           "Cedar Creek Elem. School",
           "98%",
           "3301 PINNACLE RD",
           "2020-12-16T00:00:00"
          ],
          [
           "Nueces Mart",
           "95%",
           "2700 NUECES ST",
           "2020-12-15T00:00:00"
          ],
          [
           "Hardin House",
           "94%",
           "2206 RIO GRANDE ST",
           "2020-12-07T00:00:00"
          ],
          [
           "Austin Montessori School, Inc",
           "99%",
           "6819 GREAT NORTHERN BLVD",
           "2020-12-17T00:00:00"
          ],
          [
           "El Tacorrido",
           "92%",
           "5811 BERKMAN DR",
           "2020-12-18T00:00:00"
          ],
          [
           "BC - Sonesta Bee Cave",
           "90%",
           "12525 BEE CAVE PKWY",
           "2020-12-15T00:00:00"
          ],
          [
           "7-Eleven Convenience Store #36680A",
           "91%",
           "3848 AIRPORT BLVD",
           "2020-12-18T00:00:00"
          ],
          [
           "La Michoacana Meat Market",
           "89%",
           "9811 N IH",
           "2020-12-09T00:00:00"
          ],
          [
           "Julie Myrtille Bakery",
           "88%",
           "1023 SPRINGDALE RD",
           "2020-12-02T00:00:00"
          ],
          [
           "Twin Lion Chinese Restaurant",
           "92%",
           "4815 W BRAKER LN",
           "2020-12-02T00:00:00"
          ],
          [
           "Bridgepoint Elem School",
           "96%",
           "6401 CEDAR ST",
           "2020-12-16T00:00:00"
          ],
          [
           "Courtesy Shell #2",
           "90%",
           "3906 S CONGRESS AVE",
           "2020-12-14T00:00:00"
          ],
          [
           "Austin Diner",
           "82%",
           "5222 BURNET RD",
           "2020-12-03T00:00:00"
          ],
          [
           "Galindo Elementary",
           "98%",
           "3800 S 2ND ST",
           "2020-12-15T00:00:00"
          ],
          [
           "Pi Beta Phi Sorority",
           "93%",
           "2300 SAN ANTONIO ST",
           "2020-12-14T00:00:00"
          ],
          [
           "Omni Austin",
           "94%",
           "701 BRAZOS ST",
           "2020-12-15T00:00:00"
          ],
          [
           "Snack Max",
           "85%",
           "5630 N LAMAR BLVD",
           "2020-12-17T00:00:00"
          ],
          [
           "Jack in the Box #907",
           "88%",
           "1151 AIRPORT BLVD",
           "2020-12-18T00:00:00"
          ],
          [
           "The Gossip Shack 2",
           "89%",
           "1615 GRAND AVENUE PKWY",
           "2020-12-01T00:00:00"
          ],
          [
           "HEB #236",
           "98%",
           "1434 W WELLS BRANCH PKWY",
           "2020-12-11T00:00:00"
          ],
          [
           "Las Palomas",
           "84%",
           "3201 BEE CAVES RD",
           "2020-12-08T00:00:00"
          ],
          [
           "Champ's Food Mart",
           "96%",
           "2433 S PLEASANT VALLEY RD",
           "2020-12-17T00:00:00"
          ],
          [
           "Wheatsville Food Co-Op",
           "97%",
           "4001 S LAMAR BLVD",
           "2020-12-14T00:00:00"
          ],
          [
           "Smokey Denmark Sausage",
           "97%",
           "3505 E 5TH ST",
           "2020-12-15T00:00:00"
          ],
          [
           "Viva Food Mart - Taqueria",
           "85%",
           "8610 N LAMAR BLVD",
           "2020-12-15T00:00:00"
          ],
          [
           "Dia's Market",
           "77%",
           "812 JUSTIN LN",
           "2020-12-07T00:00:00"
          ],
          [
           "Starbucks Coffee #6470",
           "95%",
           "1001 CONGRESS AVE",
           "2020-12-01T00:00:00"
          ],
          [
           "Hudson Bend Grocery",
           "97%",
           "5001 HUDSON BEND RD",
           "2020-12-10T00:00:00"
          ],
          [
           "PF - Rio Grande Tex Mex",
           "86%",
           "15821 CENTRAL COMMERCE DR",
           "2020-12-15T00:00:00"
          ],
          [
           "Wal-Mart Deli & Bakery",
           "93%",
           "710 E BEN WHITE BLVD",
           "2020-12-15T00:00:00"
          ],
          [
           "New Generation Daycare",
           "92%",
           "2606 S 1ST ST",
           "2020-12-22T00:00:00"
          ],
          [
           "Wendy's Old Fashioned Hamburgers #116",
           "95%",
           "2224 E RIVERSIDE DR",
           "2020-12-10T00:00:00"
          ],
          [
           "Wingstop #164",
           "93%",
           "2410 E RIVERSIDE DR",
           "2020-12-07T00:00:00"
          ],
          [
           "Mom's Convenience Store, Inc.",
           "93%",
           "10900 W US 290 HWY",
           "2020-12-08T00:00:00"
          ],
          [
           "Coco's Cafe",
           "94%",
           "8557 RESEARCH BLVD",
           "2020-12-21T00:00:00"
          ],
          [
           "Wing Daddy's Sauce House",
           "75%",
           "9811 S IH",
           "2020-12-16T00:00:00"
          ],
          [
           "BC - Madam Mam's Thai Cuisine",
           "78%",
           "3929 MARKET ST",
           "2020-12-03T00:00:00"
          ],
          [
           "PF - Morelia Mexican Grill",
           "72%",
           "18900 LIMESTONE COMMERCIAL DR",
           "2020-12-16T00:00:00"
          ],
          [
           "Howdy Donut",
           "97%",
           "10815 FM 2222 RD",
           "2020-12-03T00:00:00"
          ],
          [
           "PF - Los Amigos Market (Meat)",
           "90%",
           "15812 WINDERMERE DR",
           "2020-12-01T00:00:00"
          ],
          [
           "Zachary Scott Theatre",
           "100%",
           "1510 TOOMEY RD",
           "2020-12-10T00:00:00"
          ],
          [
           "Austin Recovery Inc.",
           "96%",
           "13207 WRIGHT RD",
           "2020-12-08T00:00:00"
          ],
          [
           "BC - Maudie's Hill Country LLC",
           "84%",
           "12506 SHOPS PKWY",
           "2020-12-02T00:00:00"
          ],
          [
           "7 - Eleven # 23807B",
           "99%",
           "6306 MANCHACA RD",
           "2020-12-18T00:00:00"
          ],
          [
           "Dell Seton Medical Center at the University of Texas",
           "90%",
           "1500 RED RIVER ST",
           "2020-12-03T00:00:00"
          ],
          [
           "Home of Southern Hospitality LLC",
           "86%",
           "5000 SHOALWOOD AVE",
           "2020-12-01T00:00:00"
          ],
          [
           "BC - Yaghi's New York Pizzeria",
           "91%",
           "12400 W SH",
           "2020-12-01T00:00:00"
          ],
          [
           "Kinder Care #155",
           "97%",
           "610 EMERALD WOOD DR",
           "2020-12-02T00:00:00"
          ],
          [
           "Central Market: Deli/Bakery/Produce",
           "97%",
           "4477 S LAMAR BLVD",
           "2020-12-02T00:00:00"
          ],
          [
           "Nurturing Child Care Center",
           "90%",
           "1054 SPRINGDALE RD",
           "2020-12-15T00:00:00"
          ],
          [
           "Julio's Restaurant, Inc.",
           "94%",
           "4230 DUVAL ST",
           "2020-12-01T00:00:00"
          ],
          [
           "Sleep Inn & Suites",
           "98%",
           "14004 OWEN TECH BLVD",
           "2020-12-21T00:00:00"
          ],
          [
           "Poco Loco Supermercado - Deli & Bakery",
           "81%",
           "611 W BEN WHITE BLVD",
           "2020-12-10T00:00:00"
          ],
          [
           "Chi'Lantro - Parmer",
           "96%",
           "6301 W PARMER LN",
           "2020-12-14T00:00:00"
          ],
          [
           "Blue Star Alkaline Water Store",
           "100%",
           "1154 ANGELINA ST",
           "2020-12-23T00:00:00"
          ],
          [
           "Domino's Pizza",
           "97%",
           "10001 S IH",
           "2020-12-08T00:00:00"
          ],
          [
           "Asian American Cultural Center",
           "90%",
           "11713 JOLLYVILLE RD",
           "2020-12-15T00:00:00"
          ],
          [
           "Tic Tac Toe",
           "92%",
           "2003 W ANDERSON LN",
           "2020-12-10T00:00:00"
          ],
          [
           "Lost Creek Ctry Club Snack Bar",
           "99%",
           "2612 LOST CREEK BLVD",
           "2020-12-16T00:00:00"
          ],
          [
           "Accent Food Services",
           "98%",
           "5501 AIRPORT BLVD",
           "2020-12-22T00:00:00"
          ],
          [
           "Master Donuts",
           "81%",
           "1725 E RIVERSIDE DR",
           "2020-12-10T00:00:00"
          ],
          [
           "Cost Plus World Market #74",
           "93%",
           "9333 RESEARCH BLVD",
           "2020-12-17T00:00:00"
          ],
          [
           "My Friends House Child Care",
           "100%",
           "7050 VILLAGE CENTER DR",
           "2020-12-14T00:00:00"
          ],
          [
           "Riverside Golf Course",
           "92%",
           "1020 GROVE BLVD",
           "2020-12-16T00:00:00"
          ],
          [
           "Chick-Fil-A",
           "98%",
           "161 W SLAUGHTER LN",
           "2020-12-17T00:00:00"
          ],
          [
           "BC - Snack Max # 6",
           "75%",
           "13006 W SH",
           "2020-12-03T00:00:00"
          ],
          [
           "Short Stop #5",
           "84%",
           "3001 W ANDERSON LN",
           "2020-12-14T00:00:00"
          ],
          [
           "IDEA Public Schools - Rundberg",
           "93%",
           "700 SHOWPLACE LN",
           "2020-12-08T00:00:00"
          ],
          [
           "Burnet Jr. High",
           "97%",
           "8401 HATHAWAY DR",
           "2020-12-16T00:00:00"
          ],
          [
           "Taco Bell #30099",
           "100%",
           "7793 BURNET RD",
           "2020-12-22T00:00:00"
          ],
          [
           "Sushi Japon Steak House",
           "77%",
           "807 CAMINO LA",
           "2020-12-16T00:00:00"
          ],
          [
           "BC-Marble Slab /Great American Cookies",
           "95%",
           "12717 SHOPS PKWY",
           "2020-12-03T00:00:00"
          ],
          [
           "Riverbend Church",
           "88%",
           "4214 N CAPITAL OF TEXAS HWY",
           "2020-12-21T00:00:00"
          ],
          [
           "JuiceLand Dom",
           "96%",
           "3120 PALM WAY",
           "2020-12-21T00:00:00"
          ],
          [
           "Child's Day Child Development Center",
           "100%",
           "2525 WALLINGWOOD DR",
           "2020-12-21T00:00:00"
          ],
          [
           "Fairfield Inn and Suites Austin NW/Research",
           "94%",
           "13087 N US 183 HWY",
           "2020-12-22T00:00:00"
          ],
          [
           "WL - Randall's #2477-Starbucks",
           "100%",
           "3300 BEE CAVES RD",
           "2020-12-07T00:00:00"
          ],
          [
           "RW - Panera Bread Bakery and Cafe",
           "86%",
           "2805 BEE CAVES RD",
           "2020-12-16T00:00:00"
          ],
          [
           "Rudy's Country Store",
           "95%",
           "11570 RESEARCH BLVD",
           "2020-12-10T00:00:00"
          ],
          [
           "WL - Maryes Gourmet Pizza",
           "93%",
           "3663 BEE CAVES RD",
           "2020-12-07T00:00:00"
          ],
          [
           "Salvation Pizza",
           "73%",
           "11501 ROCK ROSE AVE",
           "2020-12-22T00:00:00"
          ],
          [
           "Randalls 2480 Deli",
           "98%",
           "6600 S MOPAC EXPY",
           "2020-12-22T00:00:00"
          ],
          [
           "MN - McDonald's of Manor",
           "89%",
           "12609 LEXINGTON ST",
           "2020-12-09T00:00:00"
          ],
          [
           "Dry Creek Shell",
           "89%",
           "3800 DRY CREEK DR",
           "2020-12-15T00:00:00"
          ],
          [
           "Nordstrom's Cafe Bistro",
           "92%",
           "2901 S CAPITAL OF TEXAS HWY",
           "2020-12-22T00:00:00"
          ],
          [
           "Super 8 Capitol Downtown",
           "96%",
           "1201 N IH",
           "2020-12-14T00:00:00"
          ],
          [
           "La Sabrocita Restaurant & Tortilleria",
           "91%",
           "850 E RUNDBERG LN",
           "2020-12-09T00:00:00"
          ],
          [
           "Moms 6",
           "90%",
           "6301 E RIVERSIDE DR",
           "2020-12-18T00:00:00"
          ],
          [
           "Highway Food Mart",
           "79%",
           "4535 E SH",
           "2020-12-17T00:00:00"
          ],
          [
           "Teapioca Lounge",
           "98%",
           "1700 W PARMER LN",
           "2020-12-22T00:00:00"
          ],
          [
           "Ashley's Playhouse",
           "100%",
           "13343 N US 183 HWY",
           "2020-12-08T00:00:00"
          ],
          [
           "Capt Benny's Seafood",
           "90%",
           "5700 N IH",
           "2020-12-01T00:00:00"
          ],
          [
           "Wendy's #W129/11274",
           "90%",
           "10701 RESEARCH BLVD",
           "2020-12-23T00:00:00"
          ],
          [
           "Kid Spa Austin",
           "94%",
           "12809 N FM 620 RD",
           "2020-12-14T00:00:00"
          ],
          [
           "Panera Bread",
           "82%",
           "4625 W WILLIAM CANNON DR",
           "2020-12-11T00:00:00"
          ],
          [
           "The Carpenter Hotel",
           "96%",
           "400 JOSEPHINE ST",
           "2020-12-03T00:00:00"
          ],
          [
           "Honest Mary's",
           "86%",
           "4800 BURNET RD",
           "2020-12-17T00:00:00"
          ],
          [
           "Chinatown Restaurant",
           "71%",
           "3407 GREYSTONE DR",
           "2020-12-01T00:00:00"
          ],
          [
           "Ann Richards School For Girls",
           "99%",
           "2206 PRATHER LN",
           "2020-12-16T00:00:00"
          ],
          [
           "Short Stop",
           "83%",
           "6920 MANCHACA RD",
           "2020-12-01T00:00:00"
          ],
          [
           "Subs-N-More / AM Petroleum",
           "86%",
           "3926 ED BLUESTEIN BLVD",
           "2020-12-04T00:00:00"
          ],
          [
           "Northland Shell",
           "81%",
           "3310 NORTHLAND DR",
           "2020-12-09T00:00:00"
          ],
          [
           "Subway",
           "90%",
           "4410 E RIVERSIDE DR",
           "2020-12-23T00:00:00"
          ],
          [
           "Austin Ice",
           "100%",
           "1 2 8512 N LAMAR BLVD",
           "2020-12-09T00:00:00"
          ],
          [
           "Sugar Pine",
           "86%",
           "8578 RESEARCH BLVD",
           "2020-12-15T00:00:00"
          ],
          [
           "Austin Ridge Bible Church",
           "96%",
           "9300 FM 2244 RD",
           "2020-12-14T00:00:00"
          ],
          [
           "Canteen @ Dell Seton Medical Center",
           "100%",
           "1500 RED RIVER ST",
           "2020-12-03T00:00:00"
          ],
          [
           "MN-Libation Station",
           "100%",
           "201 E PARSONS ST",
           "2020-12-04T00:00:00"
          ],
          [
           "Cannon Coffee",
           "95%",
           "1901 W WILLIAM CANNON DR",
           "2020-12-03T00:00:00"
          ],
          [
           "Camino Real Restaurant",
           "95%",
           "8650 SPICEWOOD SPRINGS RD",
           "2020-12-03T00:00:00"
          ],
          [
           "Biderman's Deli, LLC",
           "94%",
           "3742 FAR WEST BLVD",
           "2020-12-17T00:00:00"
          ],
          [
           "Ken's Subs, Tacos and More",
           "86%",
           "9408 DESSAU RD",
           "2020-12-07T00:00:00"
          ],
          [
           "PD Thai Cuisine",
           "90%",
           "3208 GUADALUPE ST",
           "2020-12-14T00:00:00"
          ],
          [
           "Schlotzsky's Deli",
           "95%",
           "111 W WILLIAM CANNON DR",
           "2020-12-14T00:00:00"
          ],
          [
           "BC - Edible Arrangements #1705",
           "97%",
           "11905 FM 2244 RD",
           "2020-12-02T00:00:00"
          ],
          [
           "Bread Basket",
           "88%",
           "11410 MANCHACA RD",
           "2020-12-14T00:00:00"
          ],
          [
           "Thundercloud Subs",
           "88%",
           "2801 S LAMAR BLVD",
           "2020-12-08T00:00:00"
          ],
          [
           "BC - HEB Food Store #404",
           "91%",
           "12400 W SH",
           "2020-12-01T00:00:00"
          ],
          [
           "House of Three Gorges",
           "70%",
           "8557 RESEARCH BLVD",
           "2020-12-17T00:00:00"
          ],
          [
           "Yummi Taco",
           "90%",
           "12518 RESEARCH BLVD",
           "2020-12-07T00:00:00"
          ],
          [
           "Austin High School",
           "95%",
           "1715 W CESAR CHAVEZ ST",
           "2020-12-10T00:00:00"
          ],
          [
           "Mi Ranchito Taqueria",
           "96%",
           "1105 W FM 1626 RD",
           "2020-12-22T00:00:00"
          ],
          [
           "Bar-B-Q-Inn",
           "70%",
           "9310 N LAMAR BLVD",
           "2020-12-03T00:00:00"
          ],
          [
           "McDonald's",
           "92%",
           "2426 E RIVERSIDE DR",
           "2020-12-10T00:00:00"
          ],
          [
           "IAS Austin",
           "99%",
           "8201 N FM 620 RD",
           "2020-12-14T00:00:00"
          ],
          [
           "Dog Haus",
           "87%",
           "8023 BURNET RD",
           "2020-12-22T00:00:00"
          ],
          [
           "BC - Domino's",
           "99%",
           "11805 FM 2244 RD",
           "2020-12-02T00:00:00"
          ],
          [
           "Pho with US",
           "79%",
           "9900 S IH",
           "2020-12-18T00:00:00"
          ],
          [
           "Subway Sandwich #22880",
           "93%",
           "1030 NORWOOD PARK BLVD",
           "2020-12-10T00:00:00"
          ],
          [
           "Chick-Fil-A",
           "95%",
           "5033 W US 290 HWY",
           "2020-12-03T00:00:00"
          ],
          [
           "BC - Jersey Mike's Subs",
           "92%",
           "4005 MARKET ST",
           "2020-12-03T00:00:00"
          ],
          [
           "Subway Sandwiches",
           "98%",
           "6105 TECHNI CENTER DR",
           "2020-12-08T00:00:00"
          ],
          [
           "Bread Basket - Chevron",
           "86%",
           "9401 S US 183 HWY",
           "2020-12-15T00:00:00"
          ],
          [
           "Ramen Tatsu-Ya comal",
           "91%",
           "1600 E 6TH ST",
           "2020-12-17T00:00:00"
          ],
          [
           "Osio",
           "95%",
           "2901 S CAPITAL OF TEXAS HWY",
           "2020-12-02T00:00:00"
          ],
          [
           "Ike's Love & Sandwiches",
           "97%",
           "5207 BRODIE LN",
           "2020-12-03T00:00:00"
          ],
          [
           "BC-Learn and Laugh Preschool",
           "93%",
           "11715 FM 2244 RD",
           "2020-12-02T00:00:00"
          ],
          [
           "Poco Loco Supermercado",
           "81%",
           "1148 AIRPORT BLVD",
           "2020-12-22T00:00:00"
          ],
          [
           "El Pollo Rico # 11",
           "93%",
           "609 W SLAUGHTER LN",
           "2020-12-17T00:00:00"
          ],
          [
           "Lamar Grocery",
           "92%",
           "2238 S LAMAR BLVD",
           "2020-12-23T00:00:00"
          ],
          [
           "Alameda House",
           "93%",
           "4019 MANCHACA RD",
           "2020-12-11T00:00:00"
          ],
          [
           "Golden Chick",
           "93%",
           "9600 N LAMAR BLVD",
           "2020-12-23T00:00:00"
          ],
          [
           "PF - Tokyo Garden Catering, LLC",
           "99%",
           "201 N FM",
           "2020-12-15T00:00:00"
          ],
          [
           "LW - Lupine Lane",
           "98%",
           "1001 HIGHLANDS BLVD",
           "2020-12-04T00:00:00"
          ],
          [
           "Gattis Pizza",
           "100%",
           "801 E WILLIAM CANNON DR",
           "2020-12-08T00:00:00"
          ],
          [
           "GoPuff",
           "98%",
           "1138 AIRPORT BLVD",
           "2020-12-14T00:00:00"
          ],
          [
           "Tony C's Pizza & Wine Bar",
           "80%",
           "10526 W PARMER LN",
           "2020-12-10T00:00:00"
          ],
          [
           "J.D's Market #4",
           "80%",
           "11720 FM 1826 RD",
           "2020-12-08T00:00:00"
          ],
          [
           "El Pollo Rico #13",
           "90%",
           "110 E WILLIAM CANNON DR",
           "2020-12-03T00:00:00"
          ],
          [
           "LW - Randall's #1779 -Deli",
           "98%",
           "2301 S FM 620 RD",
           "2020-12-02T00:00:00"
          ],
          [
           "PF - HEB Food Store #479 (Meat & Seafood)",
           "96%",
           "201 N FM",
           "2020-12-15T00:00:00"
          ],
          [
           "Bluebonnet School of Canyon Creek",
           "94%",
           "10321 BOULDER LN",
           "2020-12-14T00:00:00"
          ],
          [
           "WL - Jersey Mikes Subs",
           "98%",
           "3300 BEE CAVES RD",
           "2020-12-08T00:00:00"
          ],
          [
           "Walgreens #03092",
           "100%",
           "8104 MESA DR",
           "2020-12-18T00:00:00"
          ],
          [
           "Way South Philly Deli",
           "96%",
           "5222 BURNET RD",
           "2020-12-07T00:00:00"
          ],
          [
           "Freddy's Frozen Custard & Steakburgers",
           "90%",
           "8300 N FM 620 RD",
           "2020-12-14T00:00:00"
          ],
          [
           "La Quinta Inn & Suites # 937",
           "96%",
           "11901 N MOPAC EXPY",
           "2020-12-23T00:00:00"
          ],
          [
           "Soup Peddler, The",
           "93%",
           "4631 AIRPORT BLVD",
           "2020-12-18T00:00:00"
          ],
          [
           "Beer Geek",
           "94%",
           "2051 W FM 1626 RD",
           "2020-12-22T00:00:00"
          ],
          [
           "C- Mart #9",
           "92%",
           "8523 RESEARCH BLVD",
           "2020-12-15T00:00:00"
          ],
          [
           "Two Steps Ahead Learning Center",
           "95%",
           "3028 ROGGE LN",
           "2020-12-15T00:00:00"
          ],
          [
           "Whataburger",
           "96%",
           "6301 W PARMER LN",
           "2020-12-04T00:00:00"
          ],
          [
           "Marbridge Foundation-Winters",
           "97%",
           "2310 BLISS SPILLAR RD",
           "2020-12-02T00:00:00"
          ],
          [
           "Taco Cabana #129",
           "87%",
           "2507 E RIVERSIDE DR",
           "2020-12-16T00:00:00"
          ],
          [
           "MN - Excel High School",
           "100%",
           "600 E PARSONS ST",
           "2020-12-02T00:00:00"
          ],
          [
           "Express Food Mart #7",
           "79%",
           "10500 N LAMAR BLVD",
           "2020-12-23T00:00:00"
          ],
          [
           "Tierra Linda Taqueria",
           "93%",
           "8540 RESEARCH BLVD",
           "2020-12-02T00:00:00"
          ],
          [
           "Super 8 Motel",
           "93%",
           "5606 E 51ST ST",
           "2020-12-15T00:00:00"
          ],
          [
           "Circle K Store #2704682",
           "85%",
           "6500 S US 183 HWY",
           "2020-12-15T00:00:00"
          ],
          [
           "1-Stop Food Store",
           "97%",
           "5101 AIRPORT BLVD",
           "2020-12-16T00:00:00"
          ],
          [
           "Staybridge Suites",
           "91%",
           "13000 N IH",
           "2020-12-22T00:00:00"
          ],
          [
           "Suprabhat",
           "70%",
           "9225 W PARMER LN",
           "2020-12-21T00:00:00"
          ],
          [
           "Daily Juice Cafe",
           "100%",
           "3720 FAR WEST BLVD",
           "2020-12-11T00:00:00"
          ],
          [
           "Springhill Suites Austin North",
           "97%",
           "12520 N IH",
           "2020-12-22T00:00:00"
          ],
          [
           "Profile by Sanford",
           "93%",
           "9607 RESEARCH BLVD",
           "2020-12-16T00:00:00"
          ],
          [
           "Crazy Fruits # 3",
           "98%",
           "5611 S US 183 HWY",
           "2020-12-15T00:00:00"
          ],
          [
           "WL - Izumi Sushi",
           "87%",
           "701 S CAPITAL OF TEXAS HWY",
           "2020-12-08T00:00:00"
          ],
          [
           "7-Eleven Convenience Store #35801A",
           "89%",
           "9704 GILES LN",
           "2020-12-18T00:00:00"
          ],
          [
           "Great Hills Golf Club",
           "90%",
           "5914 LOST HORIZON DR",
           "2020-12-02T00:00:00"
          ],
          [
           "Dunkin Donuts",
           "91%",
           "12200 RESEARCH BLVD",
           "2020-12-10T00:00:00"
          ],
          [
           "Cook Elementary School",
           "98%",
           "1511 CRIPPLE CREEK DR",
           "2020-12-16T00:00:00"
          ],
          [
           "Hwy 969 Food Mart",
           "84%",
           "6401 FM 969 RD",
           "2020-12-04T00:00:00"
          ],
          [
           "Marco's Pizza",
           "87%",
           "11011 RESEARCH BLVD",
           "2020-12-02T00:00:00"
          ],
          [
           "Family Business Beer Company",
           "100%",
           "19510 HAMILTON POOL RD",
           "2020-12-03T00:00:00"
          ],
          [
           "1618 Asian Fusion",
           "74%",
           "1618 E RIVERSIDE DR",
           "2020-12-16T00:00:00"
          ],
          [
           "Bert's BBQ",
           "89%",
           "3563 FAR WEST BLVD",
           "2020-12-14T00:00:00"
          ],
          [
           "Silverado Barton Springs",
           "83%",
           "5200 DAVIS LN",
           "2020-12-18T00:00:00"
          ],
          [
           "HEB #096-Deli/Bakery/Produce",
           "97%",
           "7025 VILLAGE CENTER DR",
           "2020-12-07T00:00:00"
          ],
          [
           "Milano Pizza",
           "76%",
           "1025 W STASSNEY LN",
           "2020-12-11T00:00:00"
          ],
          [
           "La Michoacana Meat Market",
           "74%",
           "2237 E RIVERSIDE DR",
           "2020-12-23T00:00:00"
          ],
          [
           "Club El Tahur",
           "89%",
           "214 E ANDERSON LN",
           "2020-12-21T00:00:00"
          ],
          [
           "Austin Ice",
           "97%",
           "7517 CAMERON RD",
           "2020-12-09T00:00:00"
          ],
          [
           "BC - HEB Food Store #404 (Deli/Bakery)",
           "98%",
           "12400 W SH",
           "2020-12-01T00:00:00"
          ],
          [
           "Dollar General #10959",
           "98%",
           "6010 E RIVERSIDE DR",
           "2020-12-10T00:00:00"
          ],
          [
           "Chef Robert Catering",
           "100%",
           "8134 MESA DR",
           "2020-12-17T00:00:00"
          ],
          [
           "Club de la Raza",
           "89%",
           "2429 E SH",
           "2020-12-22T00:00:00"
          ],
          [
           "LW - Table 620",
           "98%",
           "2000 S FM 620 RD",
           "2020-12-21T00:00:00"
          ]
         ],
         "hovertemplate": "Restaurant Name: %{customdata[0]}<br>Score: %{customdata[1]}<br>Street: %{customdata[2]}<br>Inspection Date: %{customdata[3]}",
         "lat": [
          null,
          30.408522,
          30.447473,
          30.177931,
          30.2749,
          30.276806,
          30.208272,
          30.394225,
          30.396092,
          30.365558,
          null,
          null,
          30.285611,
          30.255443,
          30.202797,
          30.294778,
          30.356996,
          30.26165,
          30.349678,
          30.225443,
          30.200184,
          30.353756,
          null,
          30.477802,
          30.163664,
          30.406508,
          30.448429,
          30.258663,
          30.357642,
          30.441937,
          30.44057,
          30.396129,
          30.297764,
          30.393948,
          30.357567,
          30.264475,
          30.252383,
          30.356395,
          null,
          30.238711,
          30.405944,
          30.26437,
          null,
          null,
          30.417542,
          30.441937,
          30.212609,
          null,
          30.346442,
          30.2749,
          null,
          30.401922,
          30.434702,
          30.291053,
          30.337222,
          30.2,
          30.181994,
          30.308385,
          30.341028,
          30.268742,
          30.275231,
          30.433702,
          null,
          30.194048,
          30.421254,
          30.260704,
          30.284019,
          30.36441,
          30.442957,
          30.477802,
          null,
          30.445314,
          30.441937,
          30.465601,
          30.359155,
          30.194048,
          30.19096,
          30.348381,
          30.341725,
          30.218964,
          30.30675,
          30.447473,
          30.323972,
          30.317286,
          30.211841,
          30.283319,
          30.200463,
          30.241593,
          30.441937,
          30.416351,
          30.148928,
          30.41503,
          null,
          30.392352,
          30.206706,
          30.313641,
          null,
          30.29806,
          null,
          30.356395,
          30.425948,
          30.351231,
          null,
          30.416577,
          30.231447,
          30.296106,
          30.174896,
          null,
          30.261912,
          30.228372,
          30.20676,
          30.216371,
          30.173693,
          null,
          30.267349,
          null,
          30.281511,
          30.277014,
          30.285249,
          30.436116,
          30.394529,
          30.358106,
          30.255321,
          null,
          30.31524,
          30.273599,
          30.137606,
          30.30881,
          30.307203,
          30.390328,
          30.235855,
          30.357262,
          30.311288,
          30.264459,
          30.263083,
          30.424498,
          30.268058,
          30.196231,
          30.294735,
          30.358106,
          30.274413,
          30.26763,
          30.31466,
          30.219122,
          30.188388,
          30.259141,
          30.322681,
          null,
          30.207855,
          30.394877,
          30.36508,
          30.279246,
          null,
          null,
          30.340912,
          30.441282,
          30.235507,
          null,
          null,
          30.338728,
          30.221781,
          30.446183,
          30.366401,
          30.203667,
          null,
          30.4204,
          30.226141,
          30.34713,
          30.31487,
          30.121291,
          null,
          30.352668,
          30.264124,
          30.392008,
          30.269458,
          30.346501,
          30.301073,
          30.416273,
          30.209029,
          null,
          30.236507,
          null,
          30.202651,
          30.359155,
          30.284891,
          30.202875,
          30.441282,
          30.368077,
          30.288198,
          30.267971,
          30.409161,
          30.360309,
          30.292189,
          30.278932,
          30.359579,
          30.303794,
          30.256749,
          30.304871,
          30.391159,
          30.235825,
          30.276059,
          30.295179,
          30.306151,
          30.345791,
          30.315534,
          30.242222,
          30.319315,
          30.344864,
          null,
          30.392352,
          30.157697,
          null,
          30.220859,
          30.216371,
          30.225437,
          30.299588,
          30.233175,
          30.227884,
          30.2323,
          30.467184,
          30.380289,
          30.261166,
          30.255443,
          30.446424,
          30.255221,
          30.2,
          30.392352,
          30.44865,
          30.442957,
          30.468797,
          30.231279,
          30.261819,
          30.215188,
          null,
          30.392008,
          null,
          30.210163,
          30.136879,
          null,
          30.445314,
          30.403592,
          30.371414,
          30.28244,
          30.281321,
          30.286835,
          30.262568,
          30.212841,
          30.292189,
          30.498868,
          30.195647,
          30.408522,
          30.331385,
          30.339003,
          null,
          30.424623,
          30.282032,
          null,
          30.349015,
          30.287311,
          null,
          30.174157,
          30.260384,
          30.336486,
          30.333311,
          null,
          30.268577,
          30.373732,
          30.416867,
          null,
          30.293609,
          null,
          30.272251,
          30.357466,
          null,
          30.273727,
          30.441282,
          30.415584,
          30.217891,
          30.40026,
          30.271901,
          30.209029,
          30.282708,
          30.307606,
          30.261959,
          null,
          30.279246,
          30.344978,
          30.242031,
          30.233362,
          30.369642,
          30.3911,
          30.260455,
          30.360601,
          30.203569,
          30.33542,
          30.231155,
          30.278077,
          30.255454,
          30.220579,
          30.326754,
          30.151943,
          30.277589,
          30.4204,
          30.295089,
          30.320667,
          30.237459,
          30.425623,
          30.437959,
          null,
          30.136879,
          null,
          30.314499,
          30.45313,
          30.436116,
          30.362817,
          30.276054,
          30.290493,
          30.220579,
          30.26505,
          null,
          30.26478,
          30.309564,
          30.307221,
          30.440956,
          30.260763,
          30.341398,
          30.496761,
          30.337689,
          30.358106,
          30.273683,
          30.222178,
          30.209029,
          30.357964,
          30.301917,
          30.235825,
          null,
          30.424508,
          30.214771,
          30.288452,
          30.307985,
          null,
          30.196231,
          30.300666,
          30.267349,
          30.194788,
          30.357847,
          30.221194,
          30.315685,
          30.294801,
          30.346342,
          30.197961,
          30.275803,
          30.193353,
          30.359155,
          30.255645,
          null,
          30.23447,
          30.183677,
          null,
          30.39806,
          30.345616,
          30.164607,
          30.301295,
          30.360739,
          30.33674,
          30.337919,
          30.285955,
          30.478405,
          null,
          30.441937,
          null,
          30.174157,
          30.295085,
          30.263709,
          30.2651,
          30.36516,
          30.31268,
          30.200841,
          30.438743,
          30.194148,
          30.272293,
          30.290551,
          30.357503,
          null,
          30.353397,
          30.311864,
          30.40065,
          null,
          30.194794,
          30.233436,
          30.193108,
          30.355045,
          null,
          30.412643,
          30.168927,
          30.401922,
          30.255443,
          30.446183,
          null,
          null,
          30.254056,
          30.494618,
          30.229501,
          30.218964,
          30.337689,
          30.497655,
          30.269774,
          30.29203,
          30.285782,
          30.350454,
          30.312538,
          30.309715,
          30.290012,
          null,
          30.267919,
          30.40065,
          30.339981,
          30.223821,
          30.324549,
          30.228614,
          30.28684,
          30.269153,
          30.325649,
          30.273807,
          30.456005,
          30.441282,
          30.273599,
          30.227802,
          30.235825,
          30.254031,
          30.354942,
          30.337181,
          30.271775,
          30.412468,
          30.45037,
          30.218964,
          30.239069,
          30.238678,
          30.236507,
          30.221809,
          30.361033,
          null,
          30.307616,
          30.469768,
          null,
          30.447473,
          30.263892,
          30.084128,
          30.304679,
          30.209124,
          30.276147,
          30.322958,
          null,
          30.212956,
          30.232228,
          30.272605,
          30.304855,
          30.429684,
          30.226725,
          30.445314,
          30.26926,
          null,
          30.419705,
          30.354444,
          30.275231,
          30.316742,
          30.24371,
          30.382116,
          30.353297,
          30.235995,
          30.167179,
          null,
          30.360404,
          30.361597,
          30.363947,
          30.354586,
          null,
          30.305053,
          30.340843,
          30.402572,
          30.26452,
          null,
          30.2749,
          30.271017,
          30.413727,
          30.27897,
          30.401102,
          30.220579,
          30.349816,
          30.342994,
          30.255443,
          null,
          30.356996,
          30.224799,
          null,
          30.412512,
          null,
          null,
          30.398571,
          null,
          30.223712,
          30.262045,
          30.318803,
          30.356842,
          30.234747,
          30.202311,
          30.275195,
          30.33711,
          30.233175,
          null,
          30.36194,
          null,
          30.276147,
          30.340865,
          30.202651,
          30.433558,
          30.355859,
          30.351197,
          30.299782,
          30.193108,
          null,
          30.154194,
          30.243957,
          null,
          30.361033,
          30.429156,
          30.274085,
          30.140471,
          30.362392,
          30.235633,
          30.45313,
          30.359155,
          null,
          null,
          30.33872,
          null,
          30.307228,
          30.276059,
          null,
          30.262989,
          30.255443,
          30.231596,
          null,
          30.272115,
          30.173058,
          30.24741,
          30.232532,
          30.365544,
          null,
          30.349938,
          30.19096,
          30.269959,
          30.496761,
          30.192594,
          30.19287,
          null,
          null,
          30.428742,
          30.2749,
          30.371773,
          30.324549,
          30.4204,
          30.407262,
          30.306151,
          30.138581,
          30.360095,
          30.303188,
          30.445314,
          30.136879,
          30.23403,
          30.341783,
          30.37324,
          30.360701,
          30.2927,
          30.164023,
          30.312363,
          null,
          30.478405,
          30.35546,
          null,
          30.388391,
          null,
          30.292189,
          30.332321,
          30.402112,
          30.425921,
          30.377667,
          null,
          30.403592,
          30.291006,
          30.245028,
          30.353534,
          30.208765,
          30.352555,
          30.210567,
          30.238295,
          30.343521,
          30.329586,
          null,
          30.226402,
          30.373443,
          null,
          null
         ],
         "legendgroup": "",
         "lon": [
          null,
          -97.698168,
          -97.648368,
          -97.615839,
          -97.801111,
          -97.751192,
          -97.781635,
          -97.748272,
          -97.749989,
          -97.738956,
          null,
          null,
          -97.684167,
          -97.810066,
          -97.806221,
          -97.724118,
          -97.685774,
          -97.718305,
          -97.526006,
          -97.76661,
          -97.785895,
          -97.75401,
          null,
          -97.643263,
          -97.830628,
          -97.874421,
          -97.655218,
          -97.786729,
          -97.762151,
          -97.74148,
          -97.663126,
          -97.720128,
          -97.687283,
          -97.726442,
          -97.748349,
          -97.741002,
          -97.773635,
          -97.731374,
          null,
          -97.683849,
          -97.678556,
          -97.733445,
          null,
          null,
          -97.675682,
          -97.74148,
          -97.752474,
          null,
          -97.700016,
          -97.801111,
          null,
          -97.746122,
          -97.615494,
          -97.741264,
          -97.756645,
          -97.77,
          -97.8465,
          -97.938816,
          -97.557461,
          -97.728041,
          -97.843793,
          -97.77132,
          null,
          -97.843038,
          -97.628454,
          -97.734925,
          -97.74194,
          -97.710274,
          -97.741799,
          -97.643263,
          null,
          -97.743259,
          -97.74148,
          -97.597297,
          -97.73005,
          -97.843038,
          -97.771937,
          -97.557039,
          -97.970094,
          -97.755433,
          -97.750208,
          -97.648368,
          -97.689635,
          -97.740391,
          -97.964736,
          -97.742009,
          -97.799243,
          -97.785134,
          -97.74148,
          -97.697097,
          -97.842579,
          -97.696431,
          null,
          -97.746845,
          -97.77795,
          -97.704222,
          null,
          -98.006844,
          null,
          -97.731374,
          -97.716411,
          -97.708533,
          null,
          -97.745964,
          -97.787322,
          -97.743872,
          -97.82327,
          null,
          -97.723182,
          -97.789335,
          -97.719122,
          -97.964091,
          -97.821911,
          null,
          -97.743063,
          null,
          -97.710596,
          -97.742141,
          -97.774785,
          -97.612748,
          -97.75208,
          -97.735077,
          -97.719477,
          null,
          -97.741316,
          -97.799243,
          -97.857505,
          -97.740756,
          -97.931757,
          -97.884583,
          -97.728243,
          -97.686159,
          -97.666151,
          -97.757249,
          -97.816129,
          -97.750561,
          -97.746432,
          -97.785737,
          -97.824938,
          -97.735077,
          -97.800458,
          -97.741285,
          -97.71482,
          -97.688528,
          -97.856475,
          -97.759029,
          -97.714855,
          null,
          -97.780106,
          -97.745915,
          -97.695882,
          -97.806703,
          null,
          null,
          -97.738848,
          -97.66529,
          -97.763802,
          null,
          null,
          -97.97035,
          -97.689832,
          -97.648258,
          -97.695129,
          -97.878534,
          null,
          -97.84557,
          -97.705922,
          -97.72721,
          -97.733618,
          -97.635979,
          null,
          -97.723662,
          -97.741615,
          -97.707343,
          -97.696677,
          -97.67724,
          -97.674094,
          -97.695601,
          -97.78292,
          null,
          -97.725029,
          null,
          -97.805566,
          -97.73005,
          -97.715382,
          -97.837567,
          -97.66529,
          -97.694197,
          -97.744632,
          -97.742507,
          -97.715712,
          -97.790126,
          -97.828184,
          -97.742615,
          -97.737925,
          -97.726441,
          -97.71153,
          -97.736783,
          -97.659773,
          -97.792954,
          -97.668702,
          -97.740547,
          -97.715837,
          -97.967013,
          -97.755907,
          -97.72868,
          -97.689358,
          -97.736361,
          null,
          -97.746845,
          -97.833381,
          null,
          -97.691306,
          -97.964091,
          -97.769581,
          -97.740175,
          -97.721518,
          -97.786555,
          -97.758576,
          -97.64526,
          -97.68363,
          -97.721147,
          -97.810066,
          -97.686119,
          -97.844945,
          -97.77,
          -97.746845,
          -97.655677,
          -97.741799,
          -97.595887,
          -97.787453,
          -97.758731,
          -97.762343,
          null,
          -97.707343,
          null,
          -97.780138,
          -97.856197,
          null,
          -97.743259,
          -97.745141,
          -97.757,
          -97.711754,
          -97.703182,
          -97.703049,
          -97.725167,
          -97.713113,
          -97.828184,
          -97.773275,
          -97.777748,
          -97.698168,
          -97.722908,
          -97.754988,
          null,
          -97.672008,
          -97.743038,
          null,
          -97.554111,
          -97.742693,
          null,
          -97.796784,
          -97.734006,
          -97.739563,
          -97.705301,
          null,
          -97.727607,
          -97.719236,
          -97.746868,
          null,
          -97.741925,
          null,
          -97.691247,
          -97.686736,
          null,
          -97.697031,
          -97.66529,
          -97.695563,
          -97.861448,
          -97.745036,
          -97.876727,
          -97.78292,
          -97.74207,
          -97.945544,
          -97.761269,
          null,
          -97.759767,
          -97.736664,
          -97.728362,
          -97.73959,
          -97.733164,
          -97.721166,
          -97.738167,
          -97.739855,
          -97.785518,
          -97.559559,
          -97.791658,
          -97.760581,
          -97.761872,
          -97.837688,
          -97.687198,
          -97.833228,
          -97.720737,
          -97.84557,
          -97.73667,
          -97.968512,
          -97.725513,
          -97.715752,
          -97.75871,
          null,
          -97.856197,
          null,
          -97.755166,
          -97.8277,
          -97.612748,
          -97.69719,
          -97.816218,
          -97.742018,
          -97.837688,
          -97.732382,
          null,
          -97.737795,
          -97.941855,
          -97.74177,
          -97.773218,
          -97.712656,
          -97.557848,
          -97.774899,
          -97.692266,
          -97.735077,
          -97.720484,
          -97.838856,
          -97.78292,
          -97.760539,
          -97.764901,
          -97.792954,
          null,
          -97.713215,
          -97.832351,
          -97.747786,
          -97.940692,
          null,
          -97.785737,
          -97.74041,
          -97.743063,
          -97.783619,
          -97.978237,
          -97.690654,
          -97.741373,
          -97.742566,
          -97.966225,
          -97.767334,
          -97.735692,
          -97.77868,
          -97.73005,
          -97.698125,
          null,
          -97.911646,
          -97.792016,
          null,
          -97.704665,
          -97.713435,
          -97.692906,
          -97.739098,
          -97.716586,
          -97.694535,
          -97.74121,
          -97.681617,
          -97.765794,
          null,
          -97.74148,
          null,
          -97.796784,
          -97.742718,
          -97.731481,
          -97.742451,
          -97.695836,
          -97.960154,
          -97.879006,
          -97.756268,
          -97.77723,
          -97.697526,
          -97.742629,
          -97.97889,
          null,
          -97.705543,
          -97.963409,
          -97.747851,
          null,
          -97.842717,
          -97.739816,
          -97.779336,
          -97.728669,
          null,
          -97.689502,
          -97.825756,
          -97.746122,
          -97.810066,
          -97.648258,
          null,
          null,
          -97.782807,
          -97.7882,
          -97.864222,
          -97.755433,
          -97.692266,
          -97.777084,
          -97.806002,
          -97.742784,
          -97.744893,
          -97.748102,
          -97.693481,
          -97.934312,
          -97.707435,
          null,
          -97.694035,
          -97.747851,
          -97.804557,
          -97.763391,
          -97.739532,
          -97.77134,
          -97.742736,
          -97.740924,
          -97.726544,
          -97.697987,
          -97.659227,
          -97.66529,
          -97.799243,
          -97.727487,
          -97.792954,
          -97.703643,
          -97.703436,
          -97.720538,
          -97.741424,
          -97.927049,
          -97.655136,
          -97.755433,
          -97.761559,
          -97.72594,
          -97.725029,
          -97.956195,
          -97.716672,
          null,
          -97.937139,
          -97.595626,
          null,
          -97.648368,
          -97.759549,
          -97.752177,
          -97.93797,
          -97.804503,
          -97.733582,
          -97.742673,
          null,
          -97.778807,
          -97.79909,
          -97.691021,
          -97.725971,
          -97.671287,
          -97.770608,
          -97.743259,
          -97.724397,
          null,
          -97.752565,
          -97.727417,
          -97.843793,
          -97.713804,
          -97.729736,
          -97.740032,
          -97.755725,
          -97.703777,
          -97.791596,
          null,
          -97.739692,
          -97.687419,
          -97.726577,
          -97.731747,
          null,
          -97.940736,
          -97.80285,
          -97.721403,
          -97.78401,
          null,
          -97.801111,
          -97.789586,
          -97.746293,
          -97.806439,
          -97.722763,
          -97.837688,
          -97.55595,
          -97.763511,
          -97.810066,
          null,
          -97.685774,
          -97.703211,
          null,
          -97.688909,
          null,
          null,
          -97.745647,
          null,
          -97.843827,
          -97.758588,
          -97.739443,
          -97.747275,
          -97.788031,
          -97.806963,
          -97.668307,
          -97.756437,
          -97.721518,
          null,
          -97.717321,
          null,
          -97.733582,
          -97.556468,
          -97.805566,
          -97.771837,
          -97.758223,
          -97.675864,
          -97.740052,
          -97.779336,
          null,
          -97.833283,
          -97.781825,
          null,
          -97.716672,
          -97.760067,
          -97.766118,
          -97.834444,
          -97.697423,
          -97.724398,
          -97.8277,
          -97.73005,
          null,
          null,
          -97.692623,
          null,
          -97.937337,
          -97.668702,
          null,
          -97.72637,
          -97.810066,
          -97.818902,
          null,
          -97.697472,
          -97.800341,
          -97.7743,
          -97.786561,
          -97.695617,
          null,
          -98.012061,
          -97.771937,
          -97.696825,
          -97.774899,
          -97.925054,
          -97.77775,
          null,
          null,
          -97.838764,
          -97.801111,
          -97.757113,
          -97.739532,
          -97.84557,
          -97.719376,
          -97.715837,
          -97.849046,
          -97.716393,
          -97.678524,
          -97.743259,
          -97.856197,
          -97.723776,
          -97.551086,
          -97.691287,
          -97.716962,
          -97.664656,
          -97.693075,
          -97.715363,
          null,
          -97.765794,
          -97.757281,
          null,
          -97.743593,
          null,
          -97.828184,
          -97.622991,
          -97.766923,
          -97.753486,
          -97.703772,
          null,
          -97.745141,
          -98.075811,
          -97.73049,
          -97.753552,
          -97.862494,
          -97.756199,
          -97.786896,
          -97.725943,
          -97.704292,
          -97.689879,
          null,
          -97.706476,
          -97.756073,
          null,
          null
         ],
         "marker": {
          "color": [
           90,
           90,
           100,
           100,
           100,
           80,
           100,
           90,
           100,
           90,
           70,
           90,
           80,
           90,
           90,
           90,
           90,
           90,
           100,
           90,
           80,
           100,
           90,
           100,
           90,
           90,
           90,
           100,
           100,
           100,
           100,
           90,
           90,
           90,
           100,
           80,
           100,
           70,
           100,
           100,
           100,
           90,
           90,
           100,
           90,
           100,
           80,
           100,
           90,
           100,
           90,
           100,
           90,
           90,
           100,
           90,
           90,
           90,
           80,
           90,
           90,
           90,
           100,
           80,
           90,
           90,
           50,
           100,
           90,
           90,
           90,
           100,
           80,
           100,
           90,
           90,
           80,
           80,
           90,
           100,
           90,
           90,
           100,
           90,
           100,
           100,
           90,
           90,
           90,
           90,
           90,
           90,
           70,
           90,
           100,
           90,
           90,
           90,
           90,
           90,
           80,
           80,
           90,
           80,
           100,
           100,
           90,
           90,
           90,
           90,
           70,
           100,
           90,
           70,
           100,
           100,
           100,
           90,
           100,
           90,
           100,
           90,
           90,
           100,
           90,
           100,
           90,
           100,
           100,
           90,
           90,
           100,
           90,
           100,
           90,
           90,
           100,
           90,
           100,
           80,
           90,
           100,
           90,
           100,
           100,
           100,
           100,
           100,
           90,
           90,
           90,
           90,
           100,
           90,
           80,
           100,
           100,
           100,
           90,
           90,
           90,
           70,
           90,
           90,
           90,
           90,
           100,
           90,
           80,
           100,
           80,
           100,
           90,
           90,
           90,
           80,
           90,
           80,
           90,
           70,
           70,
           100,
           100,
           90,
           90,
           80,
           100,
           100,
           100,
           100,
           90,
           90,
           100,
           90,
           90,
           100,
           80,
           90,
           90,
           90,
           100,
           90,
           90,
           100,
           90,
           90,
           80,
           90,
           100,
           100,
           90,
           100,
           90,
           100,
           100,
           90,
           90,
           100,
           100,
           100,
           100,
           100,
           80,
           100,
           90,
           80,
           90,
           100,
           90,
           80,
           90,
           90,
           100,
           90,
           100,
           100,
           100,
           100,
           100,
           100,
           80,
           100,
           100,
           90,
           90,
           100,
           80,
           90,
           90,
           100,
           90,
           80,
           90,
           70,
           90,
           100,
           80,
           80,
           100,
           90,
           90,
           100,
           80,
           70,
           100,
           90,
           100,
           100,
           100,
           100,
           90,
           90,
           90,
           80,
           70,
           100,
           90,
           80,
           80,
           90,
           70,
           80,
           100,
           90,
           90,
           100,
           80,
           100,
           100,
           100,
           90,
           100,
           90,
           100,
           90,
           80,
           100,
           90,
           100,
           100,
           80,
           100,
           90,
           90,
           100,
           90,
           90,
           70,
           100,
           90,
           100,
           90,
           100,
           90,
           90,
           90,
           90,
           90,
           90,
           100,
           100,
           90,
           100,
           100,
           100,
           90,
           80,
           90,
           100,
           90,
           100,
           80,
           100,
           100,
           100,
           100,
           90,
           100,
           80,
           100,
           90,
           80,
           90,
           90,
           90,
           80,
           100,
           90,
           100,
           70,
           100,
           100,
           90,
           100,
           100,
           90,
           100,
           90,
           100,
           90,
           100,
           90,
           90,
           90,
           100,
           100,
           80,
           90,
           100,
           90,
           100,
           100,
           90,
           100,
           100,
           100,
           100,
           70,
           80,
           80,
           90,
           90,
           100,
           90,
           90,
           100,
           100,
           90,
           90,
           90,
           80,
           90,
           100,
           80,
           100,
           90,
           90,
           80,
           100,
           90,
           100,
           90,
           90,
           100,
           100,
           80,
           100,
           100,
           90,
           100,
           90,
           90,
           90,
           90,
           90,
           90,
           100,
           90,
           80,
           100,
           90,
           90,
           80,
           90,
           90,
           100,
           80,
           100,
           100,
           100,
           80,
           80,
           100,
           100,
           90,
           90,
           90,
           100,
           90,
           90,
           90,
           80,
           80,
           70,
           100,
           90,
           100,
           100,
           80,
           100,
           90,
           90,
           90,
           100,
           100,
           90,
           90,
           100,
           80,
           100,
           100,
           100,
           90,
           90,
           100,
           100,
           80,
           90,
           100,
           90,
           100,
           80,
           80,
           90,
           100,
           100,
           80,
           100,
           90,
           100,
           100,
           90,
           100,
           90,
           100,
           90,
           70,
           100,
           90,
           90,
           90,
           100,
           90,
           90,
           80,
           100,
           100,
           90,
           90,
           90,
           80,
           100,
           90,
           70,
           100,
           80,
           90,
           80,
           90,
           100,
           90,
           100,
           100,
           100,
           100,
           100,
           90,
           90,
           90,
           100,
           100,
           90,
           90,
           90,
           70,
           90,
           100,
           100,
           70,
           90,
           100,
           90,
           100,
           80,
           90,
           100,
           90,
           100,
           90,
           90,
           100,
           100,
           90,
           80,
           90,
           90,
           90,
           90,
           100,
           100,
           100,
           100,
           80,
           80,
           90,
           100,
           100,
           90,
           100,
           100,
           100,
           90,
           100,
           90,
           90,
           90,
           100,
           100,
           100,
           90,
           100,
           80,
           90,
           90,
           80,
           100,
           90,
           70,
           100,
           100,
           90,
           100,
           90,
           90,
           90,
           90,
           100,
           80,
           90,
           100,
           70,
           90,
           80,
           100,
           80,
           70,
           90,
           100,
           100,
           100,
           100,
           90,
           100
          ],
          "coloraxis": "coloraxis",
          "opacity": 0.5,
          "size": 10
         },
         "mode": "markers",
         "name": "",
         "showlegend": false,
         "subplot": "mapbox",
         "type": "scattermapbox"
        }
       ],
       "layout": {
        "coloraxis": {
         "colorbar": {
          "title": {
           "text": "color"
          }
         },
         "colorscale": [
          [
           0,
           "rgb(0,104,55)"
          ],
          [
           0.1,
           "rgb(26,152,80)"
          ],
          [
           0.2,
           "rgb(102,189,99)"
          ],
          [
           0.3,
           "rgb(166,217,106)"
          ],
          [
           0.4,
           "rgb(217,239,139)"
          ],
          [
           0.5,
           "rgb(255,255,191)"
          ],
          [
           0.6,
           "rgb(254,224,139)"
          ],
          [
           0.7,
           "rgb(253,174,97)"
          ],
          [
           0.8,
           "rgb(244,109,67)"
          ],
          [
           0.9,
           "rgb(215,48,39)"
          ],
          [
           1,
           "rgb(165,0,38)"
          ]
         ]
        },
        "legend": {
         "tracegroupgap": 0
        },
        "mapbox": {
         "center": {
          "lat": 30.308063885658914,
          "lon": -97.75314880813954
         },
         "domain": {
          "x": [
           0,
           1
          ],
          "y": [
           0,
           1
          ]
         },
         "style": "open-street-map",
         "zoom": 10
        },
        "margin": {
         "t": 60
        },
        "template": {
         "data": {
          "bar": [
           {
            "error_x": {
             "color": "#2a3f5f"
            },
            "error_y": {
             "color": "#2a3f5f"
            },
            "marker": {
             "line": {
              "color": "#E5ECF6",
              "width": 0.5
             }
            },
            "type": "bar"
           }
          ],
          "barpolar": [
           {
            "marker": {
             "line": {
              "color": "#E5ECF6",
              "width": 0.5
             }
            },
            "type": "barpolar"
           }
          ],
          "carpet": [
           {
            "aaxis": {
             "endlinecolor": "#2a3f5f",
             "gridcolor": "white",
             "linecolor": "white",
             "minorgridcolor": "white",
             "startlinecolor": "#2a3f5f"
            },
            "baxis": {
             "endlinecolor": "#2a3f5f",
             "gridcolor": "white",
             "linecolor": "white",
             "minorgridcolor": "white",
             "startlinecolor": "#2a3f5f"
            },
            "type": "carpet"
           }
          ],
          "choropleth": [
           {
            "colorbar": {
             "outlinewidth": 0,
             "ticks": ""
            },
            "type": "choropleth"
           }
          ],
          "contour": [
           {
            "colorbar": {
             "outlinewidth": 0,
             "ticks": ""
            },
            "colorscale": [
             [
              0,
              "#0d0887"
             ],
             [
              0.1111111111111111,
              "#46039f"
             ],
             [
              0.2222222222222222,
              "#7201a8"
             ],
             [
              0.3333333333333333,
              "#9c179e"
             ],
             [
              0.4444444444444444,
              "#bd3786"
             ],
             [
              0.5555555555555556,
              "#d8576b"
             ],
             [
              0.6666666666666666,
              "#ed7953"
             ],
             [
              0.7777777777777778,
              "#fb9f3a"
             ],
             [
              0.8888888888888888,
              "#fdca26"
             ],
             [
              1,
              "#f0f921"
             ]
            ],
            "type": "contour"
           }
          ],
          "contourcarpet": [
           {
            "colorbar": {
             "outlinewidth": 0,
             "ticks": ""
            },
            "type": "contourcarpet"
           }
          ],
          "heatmap": [
           {
            "colorbar": {
             "outlinewidth": 0,
             "ticks": ""
            },
            "colorscale": [
             [
              0,
              "#0d0887"
             ],
             [
              0.1111111111111111,
              "#46039f"
             ],
             [
              0.2222222222222222,
              "#7201a8"
             ],
             [
              0.3333333333333333,
              "#9c179e"
             ],
             [
              0.4444444444444444,
              "#bd3786"
             ],
             [
              0.5555555555555556,
              "#d8576b"
             ],
             [
              0.6666666666666666,
              "#ed7953"
             ],
             [
              0.7777777777777778,
              "#fb9f3a"
             ],
             [
              0.8888888888888888,
              "#fdca26"
             ],
             [
              1,
              "#f0f921"
             ]
            ],
            "type": "heatmap"
           }
          ],
          "heatmapgl": [
           {
            "colorbar": {
             "outlinewidth": 0,
             "ticks": ""
            },
            "colorscale": [
             [
              0,
              "#0d0887"
             ],
             [
              0.1111111111111111,
              "#46039f"
             ],
             [
              0.2222222222222222,
              "#7201a8"
             ],
             [
              0.3333333333333333,
              "#9c179e"
             ],
             [
              0.4444444444444444,
              "#bd3786"
             ],
             [
              0.5555555555555556,
              "#d8576b"
             ],
             [
              0.6666666666666666,
              "#ed7953"
             ],
             [
              0.7777777777777778,
              "#fb9f3a"
             ],
             [
              0.8888888888888888,
              "#fdca26"
             ],
             [
              1,
              "#f0f921"
             ]
            ],
            "type": "heatmapgl"
           }
          ],
          "histogram": [
           {
            "marker": {
             "colorbar": {
              "outlinewidth": 0,
              "ticks": ""
             }
            },
            "type": "histogram"
           }
          ],
          "histogram2d": [
           {
            "colorbar": {
             "outlinewidth": 0,
             "ticks": ""
            },
            "colorscale": [
             [
              0,
              "#0d0887"
             ],
             [
              0.1111111111111111,
              "#46039f"
             ],
             [
              0.2222222222222222,
              "#7201a8"
             ],
             [
              0.3333333333333333,
              "#9c179e"
             ],
             [
              0.4444444444444444,
              "#bd3786"
             ],
             [
              0.5555555555555556,
              "#d8576b"
             ],
             [
              0.6666666666666666,
              "#ed7953"
             ],
             [
              0.7777777777777778,
              "#fb9f3a"
             ],
             [
              0.8888888888888888,
              "#fdca26"
             ],
             [
              1,
              "#f0f921"
             ]
            ],
            "type": "histogram2d"
           }
          ],
          "histogram2dcontour": [
           {
            "colorbar": {
             "outlinewidth": 0,
             "ticks": ""
            },
            "colorscale": [
             [
              0,
              "#0d0887"
             ],
             [
              0.1111111111111111,
              "#46039f"
             ],
             [
              0.2222222222222222,
              "#7201a8"
             ],
             [
              0.3333333333333333,
              "#9c179e"
             ],
             [
              0.4444444444444444,
              "#bd3786"
             ],
             [
              0.5555555555555556,
              "#d8576b"
             ],
             [
              0.6666666666666666,
              "#ed7953"
             ],
             [
              0.7777777777777778,
              "#fb9f3a"
             ],
             [
              0.8888888888888888,
              "#fdca26"
             ],
             [
              1,
              "#f0f921"
             ]
            ],
            "type": "histogram2dcontour"
           }
          ],
          "mesh3d": [
           {
            "colorbar": {
             "outlinewidth": 0,
             "ticks": ""
            },
            "type": "mesh3d"
           }
          ],
          "parcoords": [
           {
            "line": {
             "colorbar": {
              "outlinewidth": 0,
              "ticks": ""
             }
            },
            "type": "parcoords"
           }
          ],
          "pie": [
           {
            "automargin": true,
            "type": "pie"
           }
          ],
          "scatter": [
           {
            "marker": {
             "colorbar": {
              "outlinewidth": 0,
              "ticks": ""
             }
            },
            "type": "scatter"
           }
          ],
          "scatter3d": [
           {
            "line": {
             "colorbar": {
              "outlinewidth": 0,
              "ticks": ""
             }
            },
            "marker": {
             "colorbar": {
              "outlinewidth": 0,
              "ticks": ""
             }
            },
            "type": "scatter3d"
           }
          ],
          "scattercarpet": [
           {
            "marker": {
             "colorbar": {
              "outlinewidth": 0,
              "ticks": ""
             }
            },
            "type": "scattercarpet"
           }
          ],
          "scattergeo": [
           {
            "marker": {
             "colorbar": {
              "outlinewidth": 0,
              "ticks": ""
             }
            },
            "type": "scattergeo"
           }
          ],
          "scattergl": [
           {
            "marker": {
             "colorbar": {
              "outlinewidth": 0,
              "ticks": ""
             }
            },
            "type": "scattergl"
           }
          ],
          "scattermapbox": [
           {
            "marker": {
             "colorbar": {
              "outlinewidth": 0,
              "ticks": ""
             }
            },
            "type": "scattermapbox"
           }
          ],
          "scatterpolar": [
           {
            "marker": {
             "colorbar": {
              "outlinewidth": 0,
              "ticks": ""
             }
            },
            "type": "scatterpolar"
           }
          ],
          "scatterpolargl": [
           {
            "marker": {
             "colorbar": {
              "outlinewidth": 0,
              "ticks": ""
             }
            },
            "type": "scatterpolargl"
           }
          ],
          "scatterternary": [
           {
            "marker": {
             "colorbar": {
              "outlinewidth": 0,
              "ticks": ""
             }
            },
            "type": "scatterternary"
           }
          ],
          "surface": [
           {
            "colorbar": {
             "outlinewidth": 0,
             "ticks": ""
            },
            "colorscale": [
             [
              0,
              "#0d0887"
             ],
             [
              0.1111111111111111,
              "#46039f"
             ],
             [
              0.2222222222222222,
              "#7201a8"
             ],
             [
              0.3333333333333333,
              "#9c179e"
             ],
             [
              0.4444444444444444,
              "#bd3786"
             ],
             [
              0.5555555555555556,
              "#d8576b"
             ],
             [
              0.6666666666666666,
              "#ed7953"
             ],
             [
              0.7777777777777778,
              "#fb9f3a"
             ],
             [
              0.8888888888888888,
              "#fdca26"
             ],
             [
              1,
              "#f0f921"
             ]
            ],
            "type": "surface"
           }
          ],
          "table": [
           {
            "cells": {
             "fill": {
              "color": "#EBF0F8"
             },
             "line": {
              "color": "white"
             }
            },
            "header": {
             "fill": {
              "color": "#C8D4E3"
             },
             "line": {
              "color": "white"
             }
            },
            "type": "table"
           }
          ]
         },
         "layout": {
          "annotationdefaults": {
           "arrowcolor": "#2a3f5f",
           "arrowhead": 0,
           "arrowwidth": 1
          },
          "autotypenumbers": "strict",
          "coloraxis": {
           "colorbar": {
            "outlinewidth": 0,
            "ticks": ""
           }
          },
          "colorscale": {
           "diverging": [
            [
             0,
             "#8e0152"
            ],
            [
             0.1,
             "#c51b7d"
            ],
            [
             0.2,
             "#de77ae"
            ],
            [
             0.3,
             "#f1b6da"
            ],
            [
             0.4,
             "#fde0ef"
            ],
            [
             0.5,
             "#f7f7f7"
            ],
            [
             0.6,
             "#e6f5d0"
            ],
            [
             0.7,
             "#b8e186"
            ],
            [
             0.8,
             "#7fbc41"
            ],
            [
             0.9,
             "#4d9221"
            ],
            [
             1,
             "#276419"
            ]
           ],
           "sequential": [
            [
             0,
             "#0d0887"
            ],
            [
             0.1111111111111111,
             "#46039f"
            ],
            [
             0.2222222222222222,
             "#7201a8"
            ],
            [
             0.3333333333333333,
             "#9c179e"
            ],
            [
             0.4444444444444444,
             "#bd3786"
            ],
            [
             0.5555555555555556,
             "#d8576b"
            ],
            [
             0.6666666666666666,
             "#ed7953"
            ],
            [
             0.7777777777777778,
             "#fb9f3a"
            ],
            [
             0.8888888888888888,
             "#fdca26"
            ],
            [
             1,
             "#f0f921"
            ]
           ],
           "sequentialminus": [
            [
             0,
             "#0d0887"
            ],
            [
             0.1111111111111111,
             "#46039f"
            ],
            [
             0.2222222222222222,
             "#7201a8"
            ],
            [
             0.3333333333333333,
             "#9c179e"
            ],
            [
             0.4444444444444444,
             "#bd3786"
            ],
            [
             0.5555555555555556,
             "#d8576b"
            ],
            [
             0.6666666666666666,
             "#ed7953"
            ],
            [
             0.7777777777777778,
             "#fb9f3a"
            ],
            [
             0.8888888888888888,
             "#fdca26"
            ],
            [
             1,
             "#f0f921"
            ]
           ]
          },
          "colorway": [
           "#636efa",
           "#EF553B",
           "#00cc96",
           "#ab63fa",
           "#FFA15A",
           "#19d3f3",
           "#FF6692",
           "#B6E880",
           "#FF97FF",
           "#FECB52"
          ],
          "font": {
           "color": "#2a3f5f"
          },
          "geo": {
           "bgcolor": "white",
           "lakecolor": "white",
           "landcolor": "#E5ECF6",
           "showlakes": true,
           "showland": true,
           "subunitcolor": "white"
          },
          "hoverlabel": {
           "align": "left"
          },
          "hovermode": "closest",
          "mapbox": {
           "style": "light"
          },
          "paper_bgcolor": "white",
          "plot_bgcolor": "#E5ECF6",
          "polar": {
           "angularaxis": {
            "gridcolor": "white",
            "linecolor": "white",
            "ticks": ""
           },
           "bgcolor": "#E5ECF6",
           "radialaxis": {
            "gridcolor": "white",
            "linecolor": "white",
            "ticks": ""
           }
          },
          "scene": {
           "xaxis": {
            "backgroundcolor": "#E5ECF6",
            "gridcolor": "white",
            "gridwidth": 2,
            "linecolor": "white",
            "showbackground": true,
            "ticks": "",
            "zerolinecolor": "white"
           },
           "yaxis": {
            "backgroundcolor": "#E5ECF6",
            "gridcolor": "white",
            "gridwidth": 2,
            "linecolor": "white",
            "showbackground": true,
            "ticks": "",
            "zerolinecolor": "white"
           },
           "zaxis": {
            "backgroundcolor": "#E5ECF6",
            "gridcolor": "white",
            "gridwidth": 2,
            "linecolor": "white",
            "showbackground": true,
            "ticks": "",
            "zerolinecolor": "white"
           }
          },
          "shapedefaults": {
           "line": {
            "color": "#2a3f5f"
           }
          },
          "ternary": {
           "aaxis": {
            "gridcolor": "white",
            "linecolor": "white",
            "ticks": ""
           },
           "baxis": {
            "gridcolor": "white",
            "linecolor": "white",
            "ticks": ""
           },
           "bgcolor": "#E5ECF6",
           "caxis": {
            "gridcolor": "white",
            "linecolor": "white",
            "ticks": ""
           }
          },
          "title": {
           "x": 0.05
          },
          "xaxis": {
           "automargin": true,
           "gridcolor": "white",
           "linecolor": "white",
           "ticks": "",
           "title": {
            "standoff": 15
           },
           "zerolinecolor": "white",
           "zerolinewidth": 2
          },
          "yaxis": {
           "automargin": true,
           "gridcolor": "white",
           "linecolor": "white",
           "ticks": "",
           "title": {
            "standoff": 15
           },
           "zerolinecolor": "white",
           "zerolinewidth": 2
          }
         }
        }
       }
      },
      "text/html": [
       "<div>                            <div id=\"dc732db7-fb6b-4811-aa17-9fb8b7cbee8f\" class=\"plotly-graph-div\" style=\"height:525px; width:100%;\"></div>            <script type=\"text/javascript\">                require([\"plotly\"], function(Plotly) {                    window.PLOTLYENV=window.PLOTLYENV || {};                                    if (document.getElementById(\"dc732db7-fb6b-4811-aa17-9fb8b7cbee8f\")) {                    Plotly.newPlot(                        \"dc732db7-fb6b-4811-aa17-9fb8b7cbee8f\",                        [{\"customdata\": [[\"Courtesy Shell #4\", \"91%\", \"2241 S IH\", \"2020-12-11T00:00:00\"], [\"Little China Restaurant\", \"92%\", \"1921 CEDAR BEND DR\", \"2020-12-22T00:00:00\"], [\"PF - Los Amigos Market (Grocery/Produce)\", \"96%\", \"15812 WINDERMERE DR\", \"2020-12-01T00:00:00\"], [\"Del Valle ISD Opportunity Center\", \"96%\", \"5301 ROSS RD\", \"2020-12-02T00:00:00\"], [\"WL - Randall's #2477-Bakery\", \"99%\", \"3300 BEE CAVES RD\", \"2020-12-07T00:00:00\"], [\"Tavern, The\", \"75%\", \"922 W 12TH ST\", \"2020-12-14T00:00:00\"], [\"Walgreens #3341\", \"98%\", \"5600 S 1ST ST\", \"2020-12-14T00:00:00\"], [\"La Madeleine # 201\", \"92%\", \"9828 GREAT HILLS TRL\", \"2020-12-08T00:00:00\"], [\"P F Chang's China Bistro\", \"99%\", \"10114 JOLLYVILLE RD\", \"2020-12-02T00:00:00\"], [\"Stepping Stone School\", \"94%\", \"8121 SHOAL CREEK BLVD\", \"2020-12-14T00:00:00\"], [\"Cover 2\", \"70%\", \"13701 N US 183 HWY\", \"2020-12-07T00:00:00\"], [\"BC - Chick-Fil-A of Lake Travis\", \"94%\", \"3600 S FM 620 RD\", \"2020-12-03T00:00:00\"], [\"Willie's Bar-B-Q\", \"78%\", \"4505 E MARTIN LUTHER KING JR BLVD\", \"2020-12-07T00:00:00\"], [\"Pretzel Maker\", \"90%\", \"2901 S CAPITAL OF TEXAS HWY\", \"2020-12-09T00:00:00\"], [\"Church's Chicken Store No. 386\", \"86%\", \"1945 W WILLIAM CANNON DR\", \"2020-12-16T00:00:00\"], [\"St. Paul Lutheran\", \"89%\", \"3501 RED RIVER ST\", \"2020-12-03T00:00:00\"], [\"La Mexiquense\", \"94%\", \"850 E RUNDBERG LN\", \"2020-12-22T00:00:00\"], [\"Los Comales Taqueria\", \"86%\", \"2136 E 7TH ST\", \"2020-12-14T00:00:00\"], [\"Speedy Express\", \"95%\", \"12836 E US 290 HWY\", \"2020-12-03T00:00:00\"], [\"Encompass Health Rehabilitation Hospital of Austin\", \"94%\", \"330 W BEN WHITE BLVD\", \"2020-12-11T00:00:00\"], [\"Seoul Restaurant\", \"81%\", \"6400 S 1ST ST\", \"2020-12-07T00:00:00\"], [\"CVS Pharmacy #6893\", \"98%\", \"3569 FAR WEST BLVD\", \"2020-12-11T00:00:00\"], [\"Little Country Diner\", \"93%\", \"22000 W SH\", \"2020-12-15T00:00:00\"], [\"PF - Accent Food Services\", \"97%\", \"2913 AW GRIMES BLVD\", \"2020-12-15T00:00:00\"], [\"South Austin Beer Garden\", \"93%\", \"10700 MANCHACA RD\", \"2020-12-10T00:00:00\"], [\"Oasis Cantina\", \"90%\", \"6550 COMANCHE TRL\", \"2020-12-04T00:00:00\"], [\"PF - Freddy's Frozen Custard & Steakburgers\", \"90%\", \"2602 W PECAN ST\", \"2020-12-01T00:00:00\"], [\"Thom's Market\", \"97%\", \"1500 SPYGLASS DR\", \"2020-12-11T00:00:00\"], [\"EPOCH Coffee\", \"100%\", \"3900 FAR WEST BLVD\", \"2020-12-01T00:00:00\"], [\"Tokyo Gardens Catering\", \"100%\", \"6001 W PARMER LN\", \"2020-12-22T00:00:00\"], [\"Harmony Science Academy-Pflugerville\", \"100%\", \"1421 W WELLS BRANCH PKWY\", \"2020-12-02T00:00:00\"], [\"Freebirds World Burrito\", \"91%\", \"11101 BURNET RD\", \"2020-12-22T00:00:00\"], [\"E-Z Stop Groceries & Gas / Conoco\", \"92%\", \"5029 MANOR RD\", \"2020-12-07T00:00:00\"], [\"Cava Mezze Grill\", \"90%\", \"10808 DOMAIN DR\", \"2020-12-21T00:00:00\"], [\"Austin's Pizza #23\", \"97%\", \"3435 GREYSTONE DR\", \"2020-12-01T00:00:00\"], [\"Fogo De Chao Churrascaria\", \"85%\", \"309 E 3RD ST\", \"2020-12-10T00:00:00\"], [\"Zilker Elementary\", \"99%\", \"1900 BLUEBONNET LN\", \"2020-12-15T00:00:00\"], [\"Pho Tin\", \"70%\", \"2438 W ANDERSON LN\", \"2020-12-08T00:00:00\"], [\"PF - HEB Food Store #479 (Grocery)\", \"95%\", \"201 N FM\", \"2020-12-15T00:00:00\"], [\"La Pera\", \"97%\", \"502 THOMPSON LN\", \"2020-12-23T00:00:00\"], [\"Residence Inn Austin North/Parmer\", \"100%\", \"12401 N LAMAR BLVD\", \"2020-12-22T00:00:00\"], [\"Whole Foods Market\", \"93%\", \"901 E 5TH ST\", \"2020-12-17T00:00:00\"], [\"Fazoli's Italian Food\", \"90%\", \"13201 N FM 620 RD\", \"2020-12-01T00:00:00\"], [\"Snowfox SC8259\", \"98%\", \"1 2\", \"2020-12-16T00:00:00\"], [\"John Connally High School\", \"93%\", \"13212 N LAMAR BLVD\", \"2020-12-07T00:00:00\"], [\"HEB #20 Retail\", \"99%\", \"6001 W PARMER LN\", \"2020-12-22T00:00:00\"], [\"Circle K Store #2704677\", \"80%\", \"1601 E ST ELMO RD\", \"2020-12-11T00:00:00\"], [\"Jack in the Box #4850\", \"98%\", \"2517 E SH\", \"2020-12-15T00:00:00\"], [\"Generations\", \"93%\", \"8203 SAM RAYBURN DR\", \"2020-12-10T00:00:00\"], [\"WL - Randall's Grocery #2477\", \"97%\", \"3300 BEE CAVES RD\", \"2020-12-07T00:00:00\"], [\"Double Dave's Pizza\", \"88%\", \"13343 N US 183 HWY\", \"2020-12-08T00:00:00\"], [\"Jimmy John's Gourmet Sandwiches\", \"95%\", \"10900 RESEARCH BLVD\", \"2020-12-14T00:00:00\"], [\"PF-Moi! Vietnamese Grill\", \"91%\", \"16051 DESSAU RD\", \"2020-12-15T00:00:00\"], [\"Kerbey Lane\", \"89%\", \"2606 GUADALUPE ST\", \"2020-12-14T00:00:00\"], [\"7-Eleven Convenience Store #36274B\", \"97%\", \"3324 NORTHLAND DR\", \"2020-12-08T00:00:00\"], [\"Twin Peaks\", \"93%\", \"701 E STASSNEY LN\", \"2020-12-03T00:00:00\"], [\"Taco Bell #030080\", \"91%\", \"3324 W SLAUGHTER LN\", \"2020-12-23T00:00:00\"], [\"BC - Barnes & Noble Booksellers\", \"94%\", \"12701 HILL COUNTRY BLVD\", \"2020-12-15T00:00:00\"], [\"MN - Golden Beijing\", \"80%\", \"100 E PARSONS ST\", \"2020-12-17T00:00:00\"], [\"Nickel City\", \"92%\", \"1133 E 11TH ST\", \"2020-12-16T00:00:00\"], [\"Lost Creek Country Club\", \"92%\", \"2612 LOST CREEK BLVD\", \"2020-12-16T00:00:00\"], [\"Circle K #2741308\", \"93%\", \"8656 SPICEWOOD SPRINGS RD\", \"2020-12-18T00:00:00\"], [\"Miraval Austin (Pool Cafe)\", \"100%\", \"13500 FM 2769 RD\", \"2020-12-17T00:00:00\"], [\"Nanami Sushi Bar\", \"75%\", \"9001 BRODIE LN\", \"2020-12-14T00:00:00\"], [\"Pollolandia\", \"91%\", \"14905 DESSAU RD\", \"2020-12-11T00:00:00\"], [\"Austin Baptist Chapel\", \"94%\", \"908 E CESAR CHAVEZ ST\", \"2020-12-17T00:00:00\"], [\"TEJI's Indian Restaurant\", \"54%\", \"2100 GUADALUPE ST\", \"2020-12-16T00:00:00\"], [\"Wooldridge Elementary\", \"100%\", \"1412 NORSEMAN TER\", \"2020-12-16T00:00:00\"], [\"McDonald's #24993\", \"89%\", \"6010 W PARMER LN\", \"2020-12-09T00:00:00\"], [\"PF - Cobal Food Service\", \"90%\", \"2913 A W GRIMES BLVD\", \"2020-12-15T00:00:00\"], [\"Pizzeria Casa Nostra\", \"93%\", \"21209 W SH\", \"2020-12-15T00:00:00\"], [\"Little Woodrow's\", \"96%\", \"6301 W PARMER LN\", \"2020-12-10T00:00:00\"], [\"Smokey Mo's BBQ\", \"80%\", \"6001 W PARMER LN\", \"2020-12-22T00:00:00\"], [\"PF - Nothing Bundt Cakes\", \"98%\", \"18616 LIMESTONE COMMERCIAL DR\", \"2020-12-17T00:00:00\"], [\"Bombay Walla\", \"86%\", \"8023 BURNET RD\", \"2020-12-03T00:00:00\"], [\"Hacienda Arandinas\", \"89%\", \"9001 BRODIE LN\", \"2020-12-15T00:00:00\"], [\"Chuy's Bakery\", \"83%\", \"801 E WILLIAM CANNON DR\", \"2020-12-08T00:00:00\"], [\"MN - Texas Traditional BBQ\", \"82%\", \"910 N CALDWELL ST\", \"2020-12-04T00:00:00\"], [\"LW - Flores Mexican Restaurant\", \"88%\", \"2127 LOHMANS CROSSING RD\", \"2020-12-23T00:00:00\"], [\"Wal-Mart Supercenter #1253-Meat/Produce\", \"97%\", \"710 E BEN WHITE BLVD\", \"2020-12-15T00:00:00\"], [\"Tiny's Milk & Cookies\", \"92%\", \"1515 W 35TH ST\", \"2020-12-07T00:00:00\"], [\"PF - Los Amigos Meat (Kitchen)\", \"92%\", \"15812 WINDERMERE DR\", \"2020-12-01T00:00:00\"], [\"NorthEast High School\", \"98%\", \"7104 BERKMAN DR\", \"2020-12-17T00:00:00\"], [\"Pacha\", \"88%\", \"4618 BURNET RD\", \"2020-12-22T00:00:00\"], [\"Provident Memory Care\", \"96%\", \"11013 SIGNAL HILL DR\", \"2020-12-01T00:00:00\"], [\"Target Store T3250 - Starbucks\", \"97%\", \"2021 GUADALUPE ST\", \"2020-12-02T00:00:00\"], [\"Circle K #2742420\", \"86%\", \"1405 W WILLIAM CANNON DR\", \"2020-12-01T00:00:00\"], [\"Austin Daily Press\", \"93%\", \"3121 S LAMAR BLVD\", \"2020-12-21T00:00:00\"], [\"HEB #20 Deli & Bakery\", \"88%\", \"6001 W PARMER LN\", \"2020-12-22T00:00:00\"], [\"Parmer Lane Tavern\", \"89%\", \"2121 W PARMER LN\", \"2020-12-23T00:00:00\"], [\"Numart\", \"88%\", \"11913 RANCHO ALTO RD\", \"2020-12-03T00:00:00\"], [\"OOB Sonic\", \"86%\", \"12453 LAMPLIGHT VILLAGE AVE\", \"2020-12-01T00:00:00\"], [\"Wing's N More\", \"74%\", \"1200 W HOWARD LN\", \"2020-12-23T00:00:00\"], [\"Cheesecake Factory\", \"93%\", \"10000 RESEARCH BLVD\", \"2020-12-08T00:00:00\"], [\"Tender Memories Learning Center\", \"97%\", \"308 W STASSNEY LN\", \"2020-12-02T00:00:00\"], [\"Long John Silver's\", \"93%\", \"5600 CAMERON RD\", \"2020-12-16T00:00:00\"], [\"Short Stop #2\", \"89%\", \"12784 N US 183 HWY\", \"2020-12-09T00:00:00\"], [\"Verdes Grill\", \"94%\", \"16018 HAMILTON POOL RD\", \"2020-12-03T00:00:00\"], [\"Food' n More\", \"89%\", \"9400 N IH\", \"2020-12-21T00:00:00\"], [\"Donut Crown\", \"92%\", \"2438 W ANDERSON LN\", \"2020-12-17T00:00:00\"], [\"PitaLicious\", \"76%\", \"4101 W PARMER LN\", \"2020-12-01T00:00:00\"], [\"Tam Deli Cafe\", \"78%\", \"8222 N LAMAR BLVD\", \"2020-12-02T00:00:00\"], [\"Chuck E. Cheese's #951\", \"89%\", \"9811 S IH\", \"2020-12-23T00:00:00\"], [\"7-Eleven Convenience Store #36563B\", \"79%\", \"11643 RESEARCH BLVD\", \"2020-12-23T00:00:00\"], [\"Radio Coffee & Beer\", \"97%\", \"4204 MANCHACA RD\", \"2020-12-11T00:00:00\"], [\"Texas French Bread\", \"95%\", \"2900 RIO GRANDE ST\", \"2020-12-14T00:00:00\"], [\"Popeye's #323 - Z & H Foods Inc.\", \"91%\", \"9718 MANCHACA RD\", \"2020-12-22T00:00:00\"], [\"Jack in the Box #949\", \"90%\", \"9300 S IH\", \"2020-12-23T00:00:00\"], [\"Via 313\", \"94%\", \"1802 E 6TH ST\", \"2020-12-17T00:00:00\"], [\"Beatniks Market\", \"87%\", \"4415 MANCHACA RD\", \"2020-12-11T00:00:00\"], [\"Casa Vallarta Restaurant\", \"72%\", \"6002 BURLESON RD\", \"2020-12-22T00:00:00\"], [\"Summermoon Coffee Bar\", \"96%\", \"11601 W US 290 HWY\", \"2020-12-04T00:00:00\"], [\"Donut Taco Palace II\", \"89%\", \"1807 W SLAUGHTER LN\", \"2020-12-18T00:00:00\"], [\"Kentucky Fried Chicken\", \"74%\", \"13435 N US 183 HWY\", \"2020-12-15T00:00:00\"], [\"Jimmy Johns\", \"100%\", \"515 CONGRESS AVE\", \"2020-12-04T00:00:00\"], [\"Star Stop 75\", \"98%\", \"5801 N IH\", \"2020-12-04T00:00:00\"], [\"Hospice Austin\", \"100%\", \"2820 E MARTIN LUTHER KING JR BLVD\", \"2020-12-16T00:00:00\"], [\"Texas Chili Parlor\", \"87%\", \"1409 LAVACA ST\", \"2020-12-01T00:00:00\"], [\"O' Henry Jr High\", \"99%\", \"2610 W 10TH ST\", \"2020-12-10T00:00:00\"], [\"PF - Iron Fish Sushi and Grill\", \"87%\", \"900 E PECAN ST\", \"2020-12-16T00:00:00\"], [\"Starbuck's Coffee#6203\", \"100%\", \"9722 GREAT HILLS TRL\", \"2020-12-08T00:00:00\"], [\"Epoch Coffee\", \"92%\", \"2700 W ANDERSON LN\", \"2020-12-11T00:00:00\"], [\"Express - O\", \"91%\", \"2228 E CESAR CHAVEZ ST\", \"2020-12-16T00:00:00\"], [\"Homer's Bar and Grill\", \"99%\", \"1779 W WELLS BRANCH PKWY\", \"2020-12-16T00:00:00\"], [\"Rosedale Market\", \"87%\", \"1309 W 45TH ST\", \"2020-12-22T00:00:00\"], [\"Modern Market\", \"95%\", \"3201 BEE CAVES RD\", \"2020-12-07T00:00:00\"], [\"Marbridge Foundation-Villa\", \"93%\", \"2504 BLISS SPILLAR RD\", \"2020-12-02T00:00:00\"], [\"Peoples Pharmacy\", \"100%\", \"4018 N LAMAR BLVD\", \"2020-12-01T00:00:00\"], [\"BC - Walgreens #11272\", \"100%\", \"12200 BEE CAVE PKWY\", \"2020-12-02T00:00:00\"], [\"Domino's\", \"94%\", \"5145 N FM 620 RD\", \"2020-12-21T00:00:00\"], [\"Shop N Save\", \"88%\", \"2204 WOODLAND AVE\", \"2020-12-01T00:00:00\"], [\"Whistle Stop Grocery/La Mexicana\", \"95%\", \"834 E RUNDBERG LN\", \"2020-12-11T00:00:00\"], [\"Dollar General Store #12967\", \"91%\", \"6729 MANOR RD\", \"2020-12-04T00:00:00\"], [\"Zachary Scott Theatre Center\", \"100%\", \"202 S LAMAR BLVD\", \"2020-12-10T00:00:00\"], [\"Rudy's Country Store and BBQ\", \"93%\", \"2451 S CAPITAL OF TEXAS HWY\", \"2020-12-16T00:00:00\"], [\"Catfish Parlour\", \"92%\", \"11910 RESEARCH BLVD\", \"2020-12-10T00:00:00\"], [\"Domino's\", \"99%\", \"311 W 5TH ST\", \"2020-12-01T00:00:00\"], [\"Tutty Frutty\", \"90%\", \"500 W WILLIAM CANNON DR\", \"2020-12-04T00:00:00\"], [\"WL - Waterfall Restaurant @ Westlake Surgical\", \"100%\", \"5656 BEE CAVES RD\", \"2020-12-08T00:00:00\"], [\"High 5\", \"76%\", \"2700 W ANDERSON LN\", \"2020-12-21T00:00:00\"], [\"Bruegger's Bagels\", \"91%\", \"3267 BEE CAVES RD\", \"2020-12-07T00:00:00\"], [\"Eureka\", \"96%\", \"200 E 6TH ST\", \"2020-12-08T00:00:00\"], [\"Eastside Pies Too!\", \"86%\", \"5312 AIRPORT BLVD\", \"2020-12-17T00:00:00\"], [\"Waffle House #1623\", \"95%\", \"7809 E BEN WHITE BLVD\", \"2020-12-18T00:00:00\"], [\"Bowie H.S. Culinary Kitchen\", \"97%\", \"4103 W SLAUGHTER LN\", \"2020-12-07T00:00:00\"], [\"Signature #2\", \"97%\", \"608 S LAMAR BLVD\", \"2020-12-11T00:00:00\"], [\"Accent Food Services - Netspend Airport\", \"99%\", \"5800 AIRPORT BLVD\", \"2020-12-18T00:00:00\"], [\"Backyard Bar & Grill\", \"100%\", \"9900 S IH\", \"2020-12-10T00:00:00\"], [\"La Michoacana-Austin #3 (Kitchen)\", \"88%\", \"512 W STASSNEY LN\", \"2020-12-10T00:00:00\"], [\"Pizza Day\", \"86%\", \"10225 RESEARCH BLVD\", \"2020-12-09T00:00:00\"], [\"Burger King #4228\", \"88%\", \"9523 N LAMAR BLVD\", \"2020-12-21T00:00:00\"], [\"WL-Trianon Coffee\", \"90%\", \"3654 BEE CAVES RD\", \"2020-12-17T00:00:00\"], [\"MN - Panda Express #2516\", \"98%\", \"11808 RING DR\", \"2020-12-09T00:00:00\"], [\"BC-Giovanni's Table\", \"93%\", \"11701 FM 2244 RD\", \"2020-12-01T00:00:00\"], [\"Flyrite Chicken Inc\", \"80%\", \"6539 BURNET RD\", \"2020-12-07T00:00:00\"], [\"HEB Deli #236\", \"96%\", \"1434 W WELLS BRANCH PKWY\", \"2020-12-11T00:00:00\"], [\"DH Mini Mart\", \"96%\", \"2911 S 1ST ST\", \"2020-12-15T00:00:00\"], [\"BC - Bon Japanese Cuisine\", \"96%\", \"3500 S FM 620 RD\", \"2020-12-15T00:00:00\"], [\"Subway #44843\", \"90%\", \"11215 S IH\", \"2020-12-23T00:00:00\"], [\"LW - Pao's Mandarin House\", \"88%\", \"2300 LOHMANS SPUR RD\", \"2020-12-18T00:00:00\"], [\"Staybridge Hotel\", \"89%\", \"1611 AIRPORT COMMERCE DR\", \"2020-12-17T00:00:00\"], [\"PF - Kumar's Austin\", \"73%\", \"15803 WINDERMERE DR\", \"2020-12-17T00:00:00\"], [\"Wingstop #188\", \"86%\", \"9616 N LAMAR BLVD\", \"2020-12-18T00:00:00\"], [\"Starbucks Coffee #9617\", \"91%\", \"9600 ESCARPMENT BLVD\", \"2020-12-16T00:00:00\"], [\"BC- Artemis Mediterranean Grill\", \"89%\", \"4025 S FM 620 RD\", \"2020-12-03T00:00:00\"], [\"Summermoon Coffee Bar\", \"91%\", \"8300 N FM 620 RD\", \"2020-12-14T00:00:00\"], [\"Crazy Fruits # 2\", \"95%\", \"6100 E RIVERSIDE DR\", \"2020-12-23T00:00:00\"], [\"Stepping Stone Child Care\", \"93%\", \"1710 RICHCREEK RD\", \"2020-12-18T00:00:00\"], [\"Pho MPH\", \"84%\", \"4616 TRIANGLE AVE\", \"2020-12-22T00:00:00\"], [\"Dollar General #16198\", \"97%\", \"13903 FM 812 RD\", \"2020-12-17T00:00:00\"], [\"LW - Santa Catarina\", \"79%\", \"1310 S FM 620 RD\", \"2020-12-21T00:00:00\"], [\"Paola's Kitchen\", \"95%\", \"1700 W ANDERSON LN\", \"2020-12-21T00:00:00\"], [\"2nd Street Market\", \"89%\", \"200 SAN JACINTO BLVD\", \"2020-12-14T00:00:00\"], [\"Central Donut\", \"93%\", \"1910 W BRAKER LN\", \"2020-12-21T00:00:00\"], [\"DJ's Food & Gas Stop\", \"93%\", \"1135 AIRPORT BLVD\", \"2020-12-11T00:00:00\"], [\"Buddy's Mexican Grill\", \"81%\", \"9001 CAMERON RD\", \"2020-12-04T00:00:00\"], [\"Walnut Hills Nursing & Rehab\", \"89%\", \"3509 ROGGE LN\", \"2020-12-15T00:00:00\"], [\"Food Basket\", \"85%\", \"12503 LAMPLIGHT VILLAGE AVE\", \"2020-12-21T00:00:00\"], [\"El Pollo Rico #4\", \"94%\", \"730 W STASSNEY LN\", \"2020-12-03T00:00:00\"], [\"Kerbey Lane Cafe\", \"70%\", \"13435 N US 183 HWY\", \"2020-12-15T00:00:00\"], [\"Joy East Chinese Buffet\", \"74%\", \"2410 E RIVERSIDE DR\", \"2020-12-01T00:00:00\"], [\"Fairfield Inn & Suites Austin North\", \"96%\", \"12536 N IH\", \"2020-12-22T00:00:00\"], [\"Old School Liquor & Market\", \"99%\", \"1901 W WILLIAM CANNON DR\", \"2020-12-09T00:00:00\"], [\"Teji's Indian Restaurant\", \"92%\", \"8023 BURNET RD\", \"2020-12-03T00:00:00\"], [\"RBM Food Mart\", \"87%\", \"2601 MANOR RD\", \"2020-12-07T00:00:00\"], [\"7-Eleven Convenience Store # 24909B\", \"78%\", \"8010 BRODIE LN\", \"2020-12-16T00:00:00\"], [\"HEB #236\", \"100%\", \"1434 W WELLS BRANCH PKWY\", \"2020-12-11T00:00:00\"], [\"Popeye's #318 - Z & H Foods Inc\", \"95%\", \"9815 N LAMAR BLVD\", \"2020-12-03T00:00:00\"], [\"Foodie's Corner 2\", \"96%\", \"2400 RIO GRANDE ST\", \"2020-12-15T00:00:00\"], [\"Gold's Gym Austin Downtown\", \"98%\", \"115 E 6TH ST\", \"2020-12-14T00:00:00\"], [\"7-Eleven Convenience Store #36592A\", \"91%\", \"12000 N MOPAC EXPY\", \"2020-12-23T00:00:00\"], [\"Siena Restaurant at Bull Creek\", \"91%\", \"6203 N CAPITAL OF TEXAS HWY\", \"2020-12-15T00:00:00\"], [\"WL - Chick-Fil-A\", \"98%\", \"701 S CAPITAL OF TEXAS HWY\", \"2020-12-08T00:00:00\"], [\"Clay Pit Contemporary Indian Restaurant\", \"88%\", \"1601 GUADALUPE ST\", \"2020-12-02T00:00:00\"], [\"San Francisco Bakery Cafe\", \"89%\", \"2900 W ANDERSON LN\", \"2020-12-18T00:00:00\"], [\"Antonelli's Cheese Shop\", \"95%\", \"500 PARK BLVD\", \"2020-12-07T00:00:00\"], [\"Stop N Tote\", \"80%\", \"2715 E 5TH ST\", \"2020-12-15T00:00:00\"], [\"Circle K #2740080\", \"88%\", \"3909 GUADALUPE ST\", \"2020-12-07T00:00:00\"], [\"Little Rascals Day Care\", \"89%\", \"1006 E YAGER LN\", \"2020-12-15T00:00:00\"], [\"Wheatsville Food Co-Op - Deli\", \"91%\", \"4001 S LAMAR BLVD\", \"2020-12-14T00:00:00\"], [\"Jiffy Sak\", \"95%\", \"6105 TECHNI CENTER DR\", \"2020-12-08T00:00:00\"], [\"EPIC POKE\", \"93%\", \"6448 E US\", \"2020-12-03T00:00:00\"], [\"Omelettry, The\", \"89%\", \"4631 AIRPORT BLVD\", \"2020-12-22T00:00:00\"], [\"LW - Orange Leaf\", \"95%\", \"2011 MAIN ST\", \"2020-12-07T00:00:00\"], [\"Westminster Manor AL & Arbour Dining Services\", \"92%\", \"4200 JACKSON AVE\", \"2020-12-01T00:00:00\"], [\"Rositas Al Pastor\", \"86%\", \"1911 E RIVERSIDE DR\", \"2020-12-16T00:00:00\"], [\"Short Stop\", \"83%\", \"6603 BERKMAN DR\", \"2020-12-01T00:00:00\"], [\"Lala's\", \"86%\", \"2207 JUSTIN LN\", \"2020-12-21T00:00:00\"], [\"KIPP Austin Public Schools\", \"96%\", \"8509 FM 969 RD\", \"2020-12-04T00:00:00\"], [\"Amy's Ice Cream\", \"95%\", \"10000 RESEARCH BLVD\", \"2020-12-21T00:00:00\"], [\"Ravenscroft Market\", \"87%\", \"11200 MANCHACA RD\", \"2020-12-03T00:00:00\"], [\"Nordstrom Ebar\", \"98%\", \"3111 PALM WAY\", \"2020-12-21T00:00:00\"], [\"Best Western Plus, Austin Airport\", \"92%\", \"1805 AIRPORT COMMERCE DR\", \"2020-12-17T00:00:00\"], [\"Star Papa\", \"98%\", \"11601 W US 290 HWY\", \"2020-12-04T00:00:00\"], [\"YMOK DayCare Austin LLC\", \"100%\", \"510 CLARKE ST\", \"2020-12-02T00:00:00\"], [\"Thundercloud Subs\", \"91%\", \"3204 GUADALUPE ST\", \"2020-12-14T00:00:00\"], [\"Little Caesar's Pizza\", \"87%\", \"4410 E RIVERSIDE DR\", \"2020-12-11T00:00:00\"], [\"Nana's Playhouse Learning Center\", \"96%\", \"4406 RUSSELL DR\", \"2020-12-04T00:00:00\"], [\"ATX Food Mart\", \"98%\", \"3002 S CONGRESS AVE\", \"2020-12-14T00:00:00\"], [\"PF - Children's Courtyard, The\", \"99%\", \"1308 PICADILLY DR\", \"2020-12-21T00:00:00\"], [\"Walnut Creek School\", \"96%\", \"401 W BRAKER LN\", \"2020-12-08T00:00:00\"], [\"Cuvee Coffee\", \"98%\", \"2000 E 6TH ST\", \"2020-12-11T00:00:00\"], [\"Ruby Thai Kitchen\", \"80%\", \"2901 S CAPITAL OF TEXAS HWY\", \"2020-12-09T00:00:00\"], [\"Chow Town Foods\", \"100%\", \"14735 BRATTON LN\", \"2020-12-16T00:00:00\"], [\"Cafe Regents\", \"90%\", \"3230 TRAVIS COUNTRY CIR\", \"2020-12-16T00:00:00\"], [\"Chili's Grill & Bar\", \"84%\", \"701 E STASSNEY LN\", \"2020-12-17T00:00:00\"], [\"Teapioca Arboretum\", \"86%\", \"10000 RESEARCH BLVD\", \"2020-12-14T00:00:00\"], [\"PF - La Patisserie by Oven - Fresh Delights\", \"98%\", \"2604 W PECAN ST\", \"2020-12-01T00:00:00\"], [\"Stop N Start\", \"88%\", \"6010 W PARMER LN\", \"2020-12-08T00:00:00\"], [\"PF - Shogun Japanese Grill & Sushi Bar\", \"75%\", \"18816 LIMESTONE COMMERCIAL DR\", \"2020-12-15T00:00:00\"], [\"Texan Market No. 7, The\", \"86%\", \"4205 MANCHACA RD\", \"2020-12-23T00:00:00\"], [\"House Wine\", \"89%\", \"408 JOSEPHINE ST\", \"2020-12-21T00:00:00\"], [\"Spokesman\", \"97%\", \"440 E ST ELMO RD\", \"2020-12-10T00:00:00\"], [\"Hudson's Hill Country\", \"93%\", \"3509 N FM 620 RD\", \"2020-12-22T00:00:00\"], [\"Subway #43067\", \"97%\", \"1910 W BRAKER LN\", \"2020-12-21T00:00:00\"], [\"Nothing Bundt Cakes - South Austin\", \"97%\", \"9600 S IH\", \"2020-12-04T00:00:00\"], [\"Growing Imaginations L.C.\", \"100%\", \"5410 S 1ST ST\", \"2020-12-07T00:00:00\"], [\"Village @ Marbridge\", \"100%\", \"2310 BLISS SPILLAR RD\", \"2020-12-02T00:00:00\"], [\"Intel ANA Cafe\", \"97%\", \"1300 S MOPAC EXPY\", \"2020-12-10T00:00:00\"], [\"Muro's Pizza\", \"98%\", \"6301 W PARMER LN\", \"2020-12-10T00:00:00\"], [\"Tiff's Treats\", \"80%\", \"11011 RESEARCH BLVD\", \"2020-12-02T00:00:00\"], [\"Children's Courtyard\", \"98%\", \"4213 SPICEWOOD SPRINGS RD\", \"2020-12-16T00:00:00\"], [\"Heritage Park Rehabilitation and Skilled Nursing Center\", \"95%\", \"2806 REAL ST\", \"2020-12-04T00:00:00\"], [\"Terry's Seafood\", \"86%\", \"1805 AIRPORT BLVD\", \"2020-12-08T00:00:00\"], [\"Batch Craft Beer & Kolaches\", \"91%\", \"3220 MANOR RD\", \"2020-12-11T00:00:00\"], [\"The Liberty\", \"100%\", \"1618 1 2 E 6TH ST\", \"2020-12-12T00:00:00\"], [\"Wendy's Old Fashioned Hamburgers #113\", \"80%\", \"6210 E BEN WHITE BLVD\", \"2020-12-18T00:00:00\"], [\"WL - Tacodeli V, L.L.C.\", \"92%\", \"701 S CAPITAL OF TEXAS HWY\", \"2020-12-18T00:00:00\"], [\"Challenger School Elementary\", \"94%\", \"15101 AVERY RANCH BLVD\", \"2020-12-07T00:00:00\"], [\"Kinder Care Learning Center\", \"95%\", \"6434 S CONGRESS AVE\", \"2020-12-11T00:00:00\"], [\"Pizza Paradise\", \"88%\", \"1921 CEDAR BEND DR\", \"2020-12-23T00:00:00\"], [\"Lamar C Store\", \"83%\", \"6301 N LAMAR BLVD\", \"2020-12-07T00:00:00\"], [\"McDonald's # 12430\", \"91%\", \"5762 N MOPAC EXPY\", \"2020-12-14T00:00:00\"], [\"Pho Noodle House, The\", \"73%\", \"609 CLAYTON LN\", \"2020-12-16T00:00:00\"], [\"Circle K #2741301\", \"92%\", \"1310 W HOWARD LN\", \"2020-12-22T00:00:00\"], [\"Chick-fil-A\", \"99%\", \"503 W MARTIN LUTHER KING JR BLVD\", \"2020-12-18T00:00:00\"], [\"BC - Rosie's Tamale House\", \"80%\", \"13436 W SH\", \"2020-12-02T00:00:00\"], [\"MN - Shipley Donuts\", \"83%\", \"11300 E US 290 HWY\", \"2020-12-04T00:00:00\"], [\"Insomnia Cookies\", \"96%\", \"2323 SAN ANTONIO ST\", \"2020-12-02T00:00:00\"], [\"Miraval Resort & Spa\", \"89%\", \"13500 FM 2769 RD\", \"2020-12-17T00:00:00\"], [\"LeRoy and Lewis BBQ\", \"93%\", \"630 RALPH ABLANEDO DR\", \"2020-12-17T00:00:00\"], [\"Paper Route Bakery\", \"100%\", \"1010 E CESAR CHAVEZ ST\", \"2020-12-21T00:00:00\"], [\"Asahi Imports\", \"85%\", \"6105 BURNET RD\", \"2020-12-11T00:00:00\"], [\"Danelia Rogel Fruit Cup Shop LLC\", \"72%\", \"704 E ST JOHNS AVE\", \"2020-12-09T00:00:00\"], [\"Whataburger #481\", \"100%\", \"11135 N IH\", \"2020-12-18T00:00:00\"], [\"Paperboy\", \"92%\", \"1203 E 11TH ST\", \"2020-12-21T00:00:00\"], [\"Jaime D. Padron Elementary\", \"100%\", \"2011 W RUNDBERG LN\", \"2020-12-16T00:00:00\"], [\"IHOP\", \"98%\", \"11654 RESEARCH BLVD\", \"2020-12-02T00:00:00\"], [\"Dairy Queen\", \"95%\", \"13301 N US 183 HWY\", \"2020-12-08T00:00:00\"], [\"Whataburger\", \"99%\", \"2800 GUADALUPE ST\", \"2020-12-22T00:00:00\"], [\"LW- HEB 714\", \"90%\", \"2000 S FM 620 RD\", \"2020-12-21T00:00:00\"], [\"Daily Food Store\", \"92%\", \"1071 SPRINGDALE RD\", \"2020-12-14T00:00:00\"], [\"Tienda Mexicana\", \"92%\", \"825 E RUNDBERG LN\", \"2020-12-11T00:00:00\"], [\"Gong Cha\", \"83%\", \"13201 N FM 620 RD\", \"2020-12-01T00:00:00\"], [\"Betos #2  Mexican Restaurant\", \"70%\", \"3306 OAK SPRINGS DR\", \"2020-12-11T00:00:00\"], [\"Tokyo Gardens Catering\", \"100%\", \"1434 W WELLS BRANCH PKWY\", \"2020-12-11T00:00:00\"], [\"Food Basket #7\", \"88%\", \"2015 W PARMER LN\", \"2020-12-22T00:00:00\"], [\"Brookdale Beckett Meadows\", \"78%\", \"7709 BECKETT RD\", \"2020-12-16T00:00:00\"], [\"Boston Market #1981\", \"80%\", \"4607 W BRAKER LN\", \"2020-12-16T00:00:00\"], [\"Omni Barton Creek\", \"90%\", \"8501 CARRANZO DR\", \"2020-12-10T00:00:00\"], [\"Las Lomas Mexican Restaurant\", \"73%\", \"730 W STASSNEY LN\", \"2020-12-16T00:00:00\"], [\"H & C Food Service\", \"79%\", \"1914 GUADALUPE ST\", \"2020-12-07T00:00:00\"], [\"BC - Spec's Wine, Spirits & Finer Foods\", \"100%\", \"13015 SHOPS PKWY\", \"2020-12-03T00:00:00\"], [\"Austin Eastciders Barton Springs\", \"89%\", \"1530 BARTON SPRINGS RD\", \"2020-12-03T00:00:00\"], [\"Pappadeaux Seafood Kitchen #3\", \"94%\", \"6319 N IH\", \"2020-12-11T00:00:00\"], [\"Galaxy Cafe\", \"97%\", \"1000 WEST LYNN ST\", \"2020-12-07T00:00:00\"], [\"Bread Basket\", \"81%\", \"2213 JUSTIN LN\", \"2020-12-04T00:00:00\"], [\"MOD Superfast Pizza\", \"97%\", \"1920 E RIVERSIDE DR\", \"2020-12-22T00:00:00\"], [\"Whataburger\", \"99%\", \"1616 E OLTORF ST\", \"2020-12-04T00:00:00\"], [\"Pillow Elementary\", \"99%\", \"3025 CROSSCREEK DR\", \"2020-12-16T00:00:00\"], [\"7 Eleven # 36610A\", \"89%\", \"2616 W BRAKER LN\", \"2020-12-21T00:00:00\"], [\"Bungalow\", \"100%\", \"92 RAINEY ST\", \"2020-12-05T00:00:00\"], [\"Einstein Bros Bagels #3111\", \"92%\", \"3010 W ANDERSON LN\", \"2020-12-08T00:00:00\"], [\"House of Little Angels\", \"96%\", \"735 TURTLE CREEK BLVD\", \"2020-12-04T00:00:00\"], [\"MN - Dollar General #6946\", \"86%\", \"12750 LAPOYNOR ST\", \"2020-12-09T00:00:00\"], [\"Ben White Shell\", \"83%\", \"2125 W BEN WHITE BLVD\", \"2020-12-23T00:00:00\"], [\"Mathews Elementary School\", \"100%\", \"906 WEST LYNN ST\", \"2020-12-10T00:00:00\"], [\"TLC\", \"90%\", \"1100 S LAMAR BLVD\", \"2020-12-03T00:00:00\"], [\"Randalls 2480 Bakery\", \"96%\", \"6600 S MOPAC EXPY\", \"2020-12-22T00:00:00\"], [\"Clifton Center\", \"97%\", \"1519 CORONADO HILLS DR\", \"2020-12-11T00:00:00\"], [\"Southside Flying Pizza - Arcade and Grill\", \"85%\", \"11600 MANCHACA RD\", \"2020-12-21T00:00:00\"], [\"Gonzalo Garza Independence H S\", \"96%\", \"1600 CHICON ST\", \"2020-12-16T00:00:00\"], [\"Whataburger #1022\", \"94%\", \"8300 N FM 620 RD\", \"2020-12-14T00:00:00\"], [\"Vaquero Taquero\", \"90%\", \"104 E 31ST ST\", \"2020-12-08T00:00:00\"], [\"BC - Falconhead Golf Club\", \"95%\", \"15201 FALCON HEAD BLVD\", \"2020-12-02T00:00:00\"], [\"Popeye's #325 - Z & H Foods Inc.\", \"90%\", \"2320 E RIVERSIDE DR\", \"2020-12-22T00:00:00\"], [\"Aviator Pizza & Drafthouse\", \"90%\", \"4005 W PARMER LN\", \"2020-12-01T00:00:00\"], [\"OOB - Sonic Drive In\", \"71%\", \"6816 MC NEIL DR\", \"2020-12-08T00:00:00\"], [\"Target Store T2288 -Grocery\", \"96%\", \"9500 S IH\", \"2020-12-07T00:00:00\"], [\"Marbridge Found-Senior Dorm\", \"94%\", \"2310 BLISS SPILLAR RD\", \"2020-12-02T00:00:00\"], [\"MN - Wendy's\", \"97%\", \"11808 RING DR\", \"2020-12-09T00:00:00\"], [\"Westminster Manor\", \"86%\", \"4100 JACKSON AVE\", \"2020-12-01T00:00:00\"], [\"Canteen @ Corning Optical Communications\", \"100%\", \"8201 N FM 620 RD\", \"2020-12-14T00:00:00\"], [\"PF - Papa John's #1127\", \"90%\", \"900 E PECAN\", \"2020-12-17T00:00:00\"], [\"Sonic Drive-In, Austin, North Lamar, LP\", \"93%\", \"9325 N LAMAR BLVD\", \"2020-12-17T00:00:00\"], [\"People's Pharmacy\", \"93%\", \"4201 WESTBANK DR\", \"2020-12-08T00:00:00\"], [\"Pizza Press, The\", \"87%\", \"404 W 26TH ST\", \"2020-12-15T00:00:00\"], [\"Randall's #2480-Retail\", \"93%\", \"6600 S MOPAC EXPY\", \"2020-12-22T00:00:00\"], [\"Bee Grocery, The\", \"88%\", \"1001 E 6TH ST\", \"2020-12-23T00:00:00\"], [\"KIPP Austin Arts & Letters\", \"98%\", \"8509 FM 969 RD\", \"2020-12-04T00:00:00\"], [\"Central District Brewing\", \"96%\", \"417 RED RIVER ST\", \"2020-12-07T00:00:00\"], [\"BC - All Star Burger\", \"88%\", \"12921 HILL COUNTRY BLVD\", \"2020-12-03T00:00:00\"], [\"Rudy's Country Store & BBQ\", \"96%\", \"3914 N LAMAR BLVD\", \"2020-12-09T00:00:00\"], [\"Challenger School\", \"100%\", \"13015 POND SPRINGS RD\", \"2020-12-08T00:00:00\"], [\"Little Caesars Pizza\", \"95%\", \"2601 E 7TH ST\", \"2020-12-16T00:00:00\"], [\"MN-Country Boyz Fixins\", \"88%\", \"101 N LEXINGTON ST\", \"2020-12-04T00:00:00\"], [\"League, The\", \"80%\", \"10526 W PARMER LN\", \"2020-12-21T00:00:00\"], [\"Shipley's Donuts\", \"94%\", \"1045 NORWOOD PARK BLVD\", \"2020-12-10T00:00:00\"], [\"Austin Catering\", \"97%\", \"2700 W ANDERSON LN\", \"2020-12-10T00:00:00\"], [\"Big Easy Bar and Grill\", \"92%\", \"1806 E 12TH ST\", \"2020-12-02T00:00:00\"], [\"Smoothie King\", \"97%\", \"4301 W WILLIAM CANNON DR\", \"2020-12-04T00:00:00\"], [\"Rusty Cannon Pub\", \"79%\", \"730 W STASSNEY LN\", \"2020-12-18T00:00:00\"], [\"Magellan International School, The\", \"100%\", \"7130 CHIMNEY CORNERS\", \"2020-12-01T00:00:00\"], [\"Barnison Catering\", \"100%\", \"2614 EXPOSITION BLVD\", \"2020-12-03T00:00:00\"], [\"Twin Liquors #44\", \"97%\", \"4001 S LAMAR BLVD\", \"2020-12-23T00:00:00\"], [\"Wal-Mart Supercenter Deli/Bakery #5317\", \"97%\", \"9300 S IH\", \"2020-12-21T00:00:00\"], [\"7-Eleven Convenience Store #36263B\", \"91%\", \"3801 W PARMER LN\", \"2020-12-23T00:00:00\"], [\"Walgreen #4458\", \"98%\", \"3601 W WILLIAM CANNON DR\", \"2020-12-22T00:00:00\"], [\"Fresh Plus\", \"83%\", \"2401 SAN GABRIEL ST\", \"2020-12-22T00:00:00\"], [\"Erica Nelson Brown Catering\", \"100%\", \"12800 GALLERIA CIR\", \"2020-12-07T00:00:00\"], [\"LW - Jason's Deli\", \"89%\", \"1504 S FM 620 RD\", \"2020-12-02T00:00:00\"], [\"Tortilleria Rio Grande\", \"80%\", \"500 W WILLIAM CANNON DR\", \"2020-12-18T00:00:00\"], [\"Foodheads\", \"92%\", \"616 W 34TH ST\", \"2020-12-17T00:00:00\"], [\"Lamppost Coffee\", \"94%\", \"515 CONGRESS AVE\", \"2020-12-04T00:00:00\"], [\"Susy's Child Care\", \"87%\", \"308 W WILLIAM CANNON DR\", \"2020-12-04T00:00:00\"], [\"LW - Lakeway Market\", \"80%\", \"2114 LAKEWAY BLVD\", \"2020-12-02T00:00:00\"], [\"Home 2 Suites by Hilton\", \"96%\", \"1705 AIRPORT COMMERCE DR\", \"2020-12-17T00:00:00\"], [\"Upper Crust Bakery\", \"90%\", \"4508 BURNET RD\", \"2020-12-18T00:00:00\"], [\"Star Stop 74\", \"96%\", \"2819 GUADALUPE ST\", \"2020-12-03T00:00:00\"], [\"LW - Sakura Sushi & Bar\", \"70%\", \"1945 MEDICAL DR\", \"2020-12-21T00:00:00\"], [\"Staybridge Suites Austin South Interstate 35\", \"97%\", \"901 LITTLE TEXAS LN\", \"2020-12-10T00:00:00\"], [\"Respite Recovery\", \"95%\", \"403 E 15TH ST\", \"2020-12-03T00:00:00\"], [\"Lavallarta Restaurant\", \"88%\", \"6628 S CONGRESS AVE\", \"2020-12-07T00:00:00\"], [\"P F Chang's To Go - Mix on Burnet\", \"96%\", \"8023 BURNET RD\", \"2020-12-22T00:00:00\"], [\"Alternative Learning Center School\", \"99%\", \"4900 GONZALES ST\", \"2020-12-07T00:00:00\"], [\"Paleface Grocery\", \"89%\", \"23526 W SH\", \"2020-12-07T00:00:00\"], [\"Graceland Grocery\", \"97%\", \"8600 W US 290 HWY\", \"2020-12-08T00:00:00\"], [\"Casa Linda Taqueria\", \"94%\", \"623 W DITTMAR RD\", \"2020-12-10T00:00:00\"], [\"Jimmy John's Gourmet Sandwiches\", \"97%\", \"13429 N US 183 HWY\", \"2020-12-10T00:00:00\"], [\"Children's Courtyard\", \"90%\", \"11718 METRIC BLVD\", \"2020-12-22T00:00:00\"], [\"Sun Ray Waters\", \"98%\", \"7801 N LAMAR BLVD\", \"2020-12-21T00:00:00\"], [\"7-Eleven #36562H\", \"90%\", \"6422 S US 183 HWY\", \"2020-12-17T00:00:00\"], [\"Amy's Ice Cream\", \"94%\", \"3500 GUADALUPE ST\", \"2020-12-07T00:00:00\"], [\"Church's Chicken Store No. 765\", \"87%\", \"8545 RESEARCH BLVD\", \"2020-12-11T00:00:00\"], [\"Taco Bell #030157\", \"96%\", \"1016 E ANDERSON LN\", \"2020-12-10T00:00:00\"], [\"Lamar Middle School\", \"99%\", \"6201 WYNONA AVE\", \"2020-12-04T00:00:00\"], [\"Fast Food Store\", \"81%\", \"4611 E MARTIN LUTHER KING JR BLVD\", \"2020-12-21T00:00:00\"], [\"MTM Indian Foods\", \"90%\", \"9225 W PARMER LN\", \"2020-12-21T00:00:00\"], [\"PF - HEB Food Store #479 (Bakery)\", \"97%\", \"201 N FM\", \"2020-12-15T00:00:00\"], [\"Subway\", \"90%\", \"6001 W PARMER LN\", \"2020-12-22T00:00:00\"], [\"China Steakhouse\", \"96%\", \"15511 W SH\", \"2020-12-14T00:00:00\"], [\"Bricker Food and Beverage\", \"98%\", \"630 RALPH ABLANEDO DR\", \"2020-12-17T00:00:00\"], [\"Taco Shack\", \"93%\", \"2825 GUADALUPE ST\", \"2020-12-08T00:00:00\"], [\"Chipotle Mexican Grill #3328\", \"99%\", \"1109 E 5TH ST\", \"2020-12-11T00:00:00\"], [\"Royal Blue Grocery\", \"96%\", \"301 BRAZOS ST\", \"2020-12-08T00:00:00\"], [\"Whataburger #132\", \"96%\", \"9516 N LAMAR BLVD\", \"2020-12-23T00:00:00\"], [\"BC-Hill Country Indoor\", \"96%\", \"13875 BEE CAVE PKWY\", \"2020-12-04T00:00:00\"], [\"District\", \"71%\", \"5900 W SLAUGHTER LN\", \"2020-12-11T00:00:00\"], [\"Stepping Stone School\", \"77%\", \"6616 MC NEIL DR\", \"2020-12-01T00:00:00\"], [\"Little Darlin', The\", \"80%\", \"6507 CIRCLE S RD\", \"2020-12-17T00:00:00\"], [\"Las Mangonadas\", \"91%\", \"1144 AIRPORT BLVD\", \"2020-12-21T00:00:00\"], [\"Madam Mam\", \"92%\", \"510 W 26TH ST\", \"2020-12-17T00:00:00\"], [\"LW - Little Sunshine's Playhouse & Preschool\", \"98%\", \"1501 LOHMANS CROSSING RD\", \"2020-12-23T00:00:00\"], [\"Mariana's Kitchen\", \"90%\", \"5510 S IH\", \"2020-12-16T00:00:00\"], [\"Pizza Hut\", \"87%\", \"8500 N LAMAR BLVD\", \"2020-12-04T00:00:00\"], [\"BC - CVS/ Pharmacy # 8925\", \"98%\", \"14057 BEE CAVE PKWY\", \"2020-12-03T00:00:00\"], [\"Fujiyama\", \"97%\", \"4815 W BRAKER LN\", \"2020-12-15T00:00:00\"], [\"Braker Food Mart\", \"87%\", \"11300 N IH\", \"2020-12-09T00:00:00\"], [\"Subway 66727\", \"94%\", \"8906 BRODIE LN\", \"2020-12-15T00:00:00\"], [\"La Quinta Inn #0522\", \"94%\", \"1603 E OLTORF ST\", \"2020-12-18T00:00:00\"], [\"Las Delicias Meat Market-Kitchen\", \"75%\", \"111 W WILLIAM CANNON DR\", \"2020-12-07T00:00:00\"], [\"Shipley Donuts\", \"88%\", \"2113 W ANDERSON LN\", \"2020-12-15T00:00:00\"], [\"MN - Taqueria La Parrillita\", \"98%\", \"10400 E US 290 HWY\", \"2020-12-17T00:00:00\"], [\"Lone Star Kolaches\", \"83%\", \"1701 W PARMER LN\", \"2020-12-21T00:00:00\"], [\"Austin's Moontower Saloon\", \"100%\", \"10212 MANCHACA RD\", \"2020-12-22T00:00:00\"], [\"Austin's Pizza #7\", \"92%\", \"10900 RESEARCH BLVD\", \"2020-12-17T00:00:00\"], [\"Four Brothers\", \"93%\", \"2901 S CAPITAL OF TEXAS HWY\", \"2020-12-09T00:00:00\"], [\"PF - Eden Cafe\", \"76%\", \"15803 WINDERMERE DR\", \"2020-12-01T00:00:00\"], [\"PF - HEB Food Store #479 (Deli)\", \"95%\", \"201 N FM\", \"2020-12-15T00:00:00\"], [\"LW - Sandeez Hamburger Hut\", \"86%\", \"113 N FM 620 RD\", \"2020-12-03T00:00:00\"], [\"Barton Hills Elementary\", \"98%\", \"2108 BARTON HILLS DR\", \"2020-12-15T00:00:00\"], [\"Abacus School of Austin\", \"91%\", \"14115 AVERY RANCH BLVD\", \"2020-12-10T00:00:00\"], [\"Escarpment Exxon\", \"93%\", \"6109 W WILLIAM CANNON DR\", \"2020-12-01T00:00:00\"], [\"Wal-Mart Supercenter #1253\", \"99%\", \"710 E BEN WHITE BLVD\", \"2020-12-15T00:00:00\"], [\"Eskimo Hut Beer-Wine-Frozen Daquiris to Go\", \"100%\", \"1045 NORWOOD PARK BLVD\", \"2020-12-10T00:00:00\"], [\"Hunan Ranch\", \"80%\", \"14900 AVERY RANCH BLVD\", \"2020-12-07T00:00:00\"], [\"Cedar Creek Elem. School\", \"98%\", \"3301 PINNACLE RD\", \"2020-12-16T00:00:00\"], [\"Nueces Mart\", \"95%\", \"2700 NUECES ST\", \"2020-12-15T00:00:00\"], [\"Hardin House\", \"94%\", \"2206 RIO GRANDE ST\", \"2020-12-07T00:00:00\"], [\"Austin Montessori School, Inc\", \"99%\", \"6819 GREAT NORTHERN BLVD\", \"2020-12-17T00:00:00\"], [\"El Tacorrido\", \"92%\", \"5811 BERKMAN DR\", \"2020-12-18T00:00:00\"], [\"BC - Sonesta Bee Cave\", \"90%\", \"12525 BEE CAVE PKWY\", \"2020-12-15T00:00:00\"], [\"7-Eleven Convenience Store #36680A\", \"91%\", \"3848 AIRPORT BLVD\", \"2020-12-18T00:00:00\"], [\"La Michoacana Meat Market\", \"89%\", \"9811 N IH\", \"2020-12-09T00:00:00\"], [\"Julie Myrtille Bakery\", \"88%\", \"1023 SPRINGDALE RD\", \"2020-12-02T00:00:00\"], [\"Twin Lion Chinese Restaurant\", \"92%\", \"4815 W BRAKER LN\", \"2020-12-02T00:00:00\"], [\"Bridgepoint Elem School\", \"96%\", \"6401 CEDAR ST\", \"2020-12-16T00:00:00\"], [\"Courtesy Shell #2\", \"90%\", \"3906 S CONGRESS AVE\", \"2020-12-14T00:00:00\"], [\"Austin Diner\", \"82%\", \"5222 BURNET RD\", \"2020-12-03T00:00:00\"], [\"Galindo Elementary\", \"98%\", \"3800 S 2ND ST\", \"2020-12-15T00:00:00\"], [\"Pi Beta Phi Sorority\", \"93%\", \"2300 SAN ANTONIO ST\", \"2020-12-14T00:00:00\"], [\"Omni Austin\", \"94%\", \"701 BRAZOS ST\", \"2020-12-15T00:00:00\"], [\"Snack Max\", \"85%\", \"5630 N LAMAR BLVD\", \"2020-12-17T00:00:00\"], [\"Jack in the Box #907\", \"88%\", \"1151 AIRPORT BLVD\", \"2020-12-18T00:00:00\"], [\"The Gossip Shack 2\", \"89%\", \"1615 GRAND AVENUE PKWY\", \"2020-12-01T00:00:00\"], [\"HEB #236\", \"98%\", \"1434 W WELLS BRANCH PKWY\", \"2020-12-11T00:00:00\"], [\"Las Palomas\", \"84%\", \"3201 BEE CAVES RD\", \"2020-12-08T00:00:00\"], [\"Champ's Food Mart\", \"96%\", \"2433 S PLEASANT VALLEY RD\", \"2020-12-17T00:00:00\"], [\"Wheatsville Food Co-Op\", \"97%\", \"4001 S LAMAR BLVD\", \"2020-12-14T00:00:00\"], [\"Smokey Denmark Sausage\", \"97%\", \"3505 E 5TH ST\", \"2020-12-15T00:00:00\"], [\"Viva Food Mart - Taqueria\", \"85%\", \"8610 N LAMAR BLVD\", \"2020-12-15T00:00:00\"], [\"Dia's Market\", \"77%\", \"812 JUSTIN LN\", \"2020-12-07T00:00:00\"], [\"Starbucks Coffee #6470\", \"95%\", \"1001 CONGRESS AVE\", \"2020-12-01T00:00:00\"], [\"Hudson Bend Grocery\", \"97%\", \"5001 HUDSON BEND RD\", \"2020-12-10T00:00:00\"], [\"PF - Rio Grande Tex Mex\", \"86%\", \"15821 CENTRAL COMMERCE DR\", \"2020-12-15T00:00:00\"], [\"Wal-Mart Deli & Bakery\", \"93%\", \"710 E BEN WHITE BLVD\", \"2020-12-15T00:00:00\"], [\"New Generation Daycare\", \"92%\", \"2606 S 1ST ST\", \"2020-12-22T00:00:00\"], [\"Wendy's Old Fashioned Hamburgers #116\", \"95%\", \"2224 E RIVERSIDE DR\", \"2020-12-10T00:00:00\"], [\"Wingstop #164\", \"93%\", \"2410 E RIVERSIDE DR\", \"2020-12-07T00:00:00\"], [\"Mom's Convenience Store, Inc.\", \"93%\", \"10900 W US 290 HWY\", \"2020-12-08T00:00:00\"], [\"Coco's Cafe\", \"94%\", \"8557 RESEARCH BLVD\", \"2020-12-21T00:00:00\"], [\"Wing Daddy's Sauce House\", \"75%\", \"9811 S IH\", \"2020-12-16T00:00:00\"], [\"BC - Madam Mam's Thai Cuisine\", \"78%\", \"3929 MARKET ST\", \"2020-12-03T00:00:00\"], [\"PF - Morelia Mexican Grill\", \"72%\", \"18900 LIMESTONE COMMERCIAL DR\", \"2020-12-16T00:00:00\"], [\"Howdy Donut\", \"97%\", \"10815 FM 2222 RD\", \"2020-12-03T00:00:00\"], [\"PF - Los Amigos Market (Meat)\", \"90%\", \"15812 WINDERMERE DR\", \"2020-12-01T00:00:00\"], [\"Zachary Scott Theatre\", \"100%\", \"1510 TOOMEY RD\", \"2020-12-10T00:00:00\"], [\"Austin Recovery Inc.\", \"96%\", \"13207 WRIGHT RD\", \"2020-12-08T00:00:00\"], [\"BC - Maudie's Hill Country LLC\", \"84%\", \"12506 SHOPS PKWY\", \"2020-12-02T00:00:00\"], [\"7 - Eleven # 23807B\", \"99%\", \"6306 MANCHACA RD\", \"2020-12-18T00:00:00\"], [\"Dell Seton Medical Center at the University of Texas\", \"90%\", \"1500 RED RIVER ST\", \"2020-12-03T00:00:00\"], [\"Home of Southern Hospitality LLC\", \"86%\", \"5000 SHOALWOOD AVE\", \"2020-12-01T00:00:00\"], [\"BC - Yaghi's New York Pizzeria\", \"91%\", \"12400 W SH\", \"2020-12-01T00:00:00\"], [\"Kinder Care #155\", \"97%\", \"610 EMERALD WOOD DR\", \"2020-12-02T00:00:00\"], [\"Central Market: Deli/Bakery/Produce\", \"97%\", \"4477 S LAMAR BLVD\", \"2020-12-02T00:00:00\"], [\"Nurturing Child Care Center\", \"90%\", \"1054 SPRINGDALE RD\", \"2020-12-15T00:00:00\"], [\"Julio's Restaurant, Inc.\", \"94%\", \"4230 DUVAL ST\", \"2020-12-01T00:00:00\"], [\"Sleep Inn & Suites\", \"98%\", \"14004 OWEN TECH BLVD\", \"2020-12-21T00:00:00\"], [\"Poco Loco Supermercado - Deli & Bakery\", \"81%\", \"611 W BEN WHITE BLVD\", \"2020-12-10T00:00:00\"], [\"Chi'Lantro - Parmer\", \"96%\", \"6301 W PARMER LN\", \"2020-12-14T00:00:00\"], [\"Blue Star Alkaline Water Store\", \"100%\", \"1154 ANGELINA ST\", \"2020-12-23T00:00:00\"], [\"Domino's Pizza\", \"97%\", \"10001 S IH\", \"2020-12-08T00:00:00\"], [\"Asian American Cultural Center\", \"90%\", \"11713 JOLLYVILLE RD\", \"2020-12-15T00:00:00\"], [\"Tic Tac Toe\", \"92%\", \"2003 W ANDERSON LN\", \"2020-12-10T00:00:00\"], [\"Lost Creek Ctry Club Snack Bar\", \"99%\", \"2612 LOST CREEK BLVD\", \"2020-12-16T00:00:00\"], [\"Accent Food Services\", \"98%\", \"5501 AIRPORT BLVD\", \"2020-12-22T00:00:00\"], [\"Master Donuts\", \"81%\", \"1725 E RIVERSIDE DR\", \"2020-12-10T00:00:00\"], [\"Cost Plus World Market #74\", \"93%\", \"9333 RESEARCH BLVD\", \"2020-12-17T00:00:00\"], [\"My Friends House Child Care\", \"100%\", \"7050 VILLAGE CENTER DR\", \"2020-12-14T00:00:00\"], [\"Riverside Golf Course\", \"92%\", \"1020 GROVE BLVD\", \"2020-12-16T00:00:00\"], [\"Chick-Fil-A\", \"98%\", \"161 W SLAUGHTER LN\", \"2020-12-17T00:00:00\"], [\"BC - Snack Max # 6\", \"75%\", \"13006 W SH\", \"2020-12-03T00:00:00\"], [\"Short Stop #5\", \"84%\", \"3001 W ANDERSON LN\", \"2020-12-14T00:00:00\"], [\"IDEA Public Schools - Rundberg\", \"93%\", \"700 SHOWPLACE LN\", \"2020-12-08T00:00:00\"], [\"Burnet Jr. High\", \"97%\", \"8401 HATHAWAY DR\", \"2020-12-16T00:00:00\"], [\"Taco Bell #30099\", \"100%\", \"7793 BURNET RD\", \"2020-12-22T00:00:00\"], [\"Sushi Japon Steak House\", \"77%\", \"807 CAMINO LA\", \"2020-12-16T00:00:00\"], [\"BC-Marble Slab /Great American Cookies\", \"95%\", \"12717 SHOPS PKWY\", \"2020-12-03T00:00:00\"], [\"Riverbend Church\", \"88%\", \"4214 N CAPITAL OF TEXAS HWY\", \"2020-12-21T00:00:00\"], [\"JuiceLand Dom\", \"96%\", \"3120 PALM WAY\", \"2020-12-21T00:00:00\"], [\"Child's Day Child Development Center\", \"100%\", \"2525 WALLINGWOOD DR\", \"2020-12-21T00:00:00\"], [\"Fairfield Inn and Suites Austin NW/Research\", \"94%\", \"13087 N US 183 HWY\", \"2020-12-22T00:00:00\"], [\"WL - Randall's #2477-Starbucks\", \"100%\", \"3300 BEE CAVES RD\", \"2020-12-07T00:00:00\"], [\"RW - Panera Bread Bakery and Cafe\", \"86%\", \"2805 BEE CAVES RD\", \"2020-12-16T00:00:00\"], [\"Rudy's Country Store\", \"95%\", \"11570 RESEARCH BLVD\", \"2020-12-10T00:00:00\"], [\"WL - Maryes Gourmet Pizza\", \"93%\", \"3663 BEE CAVES RD\", \"2020-12-07T00:00:00\"], [\"Salvation Pizza\", \"73%\", \"11501 ROCK ROSE AVE\", \"2020-12-22T00:00:00\"], [\"Randalls 2480 Deli\", \"98%\", \"6600 S MOPAC EXPY\", \"2020-12-22T00:00:00\"], [\"MN - McDonald's of Manor\", \"89%\", \"12609 LEXINGTON ST\", \"2020-12-09T00:00:00\"], [\"Dry Creek Shell\", \"89%\", \"3800 DRY CREEK DR\", \"2020-12-15T00:00:00\"], [\"Nordstrom's Cafe Bistro\", \"92%\", \"2901 S CAPITAL OF TEXAS HWY\", \"2020-12-22T00:00:00\"], [\"Super 8 Capitol Downtown\", \"96%\", \"1201 N IH\", \"2020-12-14T00:00:00\"], [\"La Sabrocita Restaurant & Tortilleria\", \"91%\", \"850 E RUNDBERG LN\", \"2020-12-09T00:00:00\"], [\"Moms 6\", \"90%\", \"6301 E RIVERSIDE DR\", \"2020-12-18T00:00:00\"], [\"Highway Food Mart\", \"79%\", \"4535 E SH\", \"2020-12-17T00:00:00\"], [\"Teapioca Lounge\", \"98%\", \"1700 W PARMER LN\", \"2020-12-22T00:00:00\"], [\"Ashley's Playhouse\", \"100%\", \"13343 N US 183 HWY\", \"2020-12-08T00:00:00\"], [\"Capt Benny's Seafood\", \"90%\", \"5700 N IH\", \"2020-12-01T00:00:00\"], [\"Wendy's #W129/11274\", \"90%\", \"10701 RESEARCH BLVD\", \"2020-12-23T00:00:00\"], [\"Kid Spa Austin\", \"94%\", \"12809 N FM 620 RD\", \"2020-12-14T00:00:00\"], [\"Panera Bread\", \"82%\", \"4625 W WILLIAM CANNON DR\", \"2020-12-11T00:00:00\"], [\"The Carpenter Hotel\", \"96%\", \"400 JOSEPHINE ST\", \"2020-12-03T00:00:00\"], [\"Honest Mary's\", \"86%\", \"4800 BURNET RD\", \"2020-12-17T00:00:00\"], [\"Chinatown Restaurant\", \"71%\", \"3407 GREYSTONE DR\", \"2020-12-01T00:00:00\"], [\"Ann Richards School For Girls\", \"99%\", \"2206 PRATHER LN\", \"2020-12-16T00:00:00\"], [\"Short Stop\", \"83%\", \"6920 MANCHACA RD\", \"2020-12-01T00:00:00\"], [\"Subs-N-More / AM Petroleum\", \"86%\", \"3926 ED BLUESTEIN BLVD\", \"2020-12-04T00:00:00\"], [\"Northland Shell\", \"81%\", \"3310 NORTHLAND DR\", \"2020-12-09T00:00:00\"], [\"Subway\", \"90%\", \"4410 E RIVERSIDE DR\", \"2020-12-23T00:00:00\"], [\"Austin Ice\", \"100%\", \"1 2 8512 N LAMAR BLVD\", \"2020-12-09T00:00:00\"], [\"Sugar Pine\", \"86%\", \"8578 RESEARCH BLVD\", \"2020-12-15T00:00:00\"], [\"Austin Ridge Bible Church\", \"96%\", \"9300 FM 2244 RD\", \"2020-12-14T00:00:00\"], [\"Canteen @ Dell Seton Medical Center\", \"100%\", \"1500 RED RIVER ST\", \"2020-12-03T00:00:00\"], [\"MN-Libation Station\", \"100%\", \"201 E PARSONS ST\", \"2020-12-04T00:00:00\"], [\"Cannon Coffee\", \"95%\", \"1901 W WILLIAM CANNON DR\", \"2020-12-03T00:00:00\"], [\"Camino Real Restaurant\", \"95%\", \"8650 SPICEWOOD SPRINGS RD\", \"2020-12-03T00:00:00\"], [\"Biderman's Deli, LLC\", \"94%\", \"3742 FAR WEST BLVD\", \"2020-12-17T00:00:00\"], [\"Ken's Subs, Tacos and More\", \"86%\", \"9408 DESSAU RD\", \"2020-12-07T00:00:00\"], [\"PD Thai Cuisine\", \"90%\", \"3208 GUADALUPE ST\", \"2020-12-14T00:00:00\"], [\"Schlotzsky's Deli\", \"95%\", \"111 W WILLIAM CANNON DR\", \"2020-12-14T00:00:00\"], [\"BC - Edible Arrangements #1705\", \"97%\", \"11905 FM 2244 RD\", \"2020-12-02T00:00:00\"], [\"Bread Basket\", \"88%\", \"11410 MANCHACA RD\", \"2020-12-14T00:00:00\"], [\"Thundercloud Subs\", \"88%\", \"2801 S LAMAR BLVD\", \"2020-12-08T00:00:00\"], [\"BC - HEB Food Store #404\", \"91%\", \"12400 W SH\", \"2020-12-01T00:00:00\"], [\"House of Three Gorges\", \"70%\", \"8557 RESEARCH BLVD\", \"2020-12-17T00:00:00\"], [\"Yummi Taco\", \"90%\", \"12518 RESEARCH BLVD\", \"2020-12-07T00:00:00\"], [\"Austin High School\", \"95%\", \"1715 W CESAR CHAVEZ ST\", \"2020-12-10T00:00:00\"], [\"Mi Ranchito Taqueria\", \"96%\", \"1105 W FM 1626 RD\", \"2020-12-22T00:00:00\"], [\"Bar-B-Q-Inn\", \"70%\", \"9310 N LAMAR BLVD\", \"2020-12-03T00:00:00\"], [\"McDonald's\", \"92%\", \"2426 E RIVERSIDE DR\", \"2020-12-10T00:00:00\"], [\"IAS Austin\", \"99%\", \"8201 N FM 620 RD\", \"2020-12-14T00:00:00\"], [\"Dog Haus\", \"87%\", \"8023 BURNET RD\", \"2020-12-22T00:00:00\"], [\"BC - Domino's\", \"99%\", \"11805 FM 2244 RD\", \"2020-12-02T00:00:00\"], [\"Pho with US\", \"79%\", \"9900 S IH\", \"2020-12-18T00:00:00\"], [\"Subway Sandwich #22880\", \"93%\", \"1030 NORWOOD PARK BLVD\", \"2020-12-10T00:00:00\"], [\"Chick-Fil-A\", \"95%\", \"5033 W US 290 HWY\", \"2020-12-03T00:00:00\"], [\"BC - Jersey Mike's Subs\", \"92%\", \"4005 MARKET ST\", \"2020-12-03T00:00:00\"], [\"Subway Sandwiches\", \"98%\", \"6105 TECHNI CENTER DR\", \"2020-12-08T00:00:00\"], [\"Bread Basket - Chevron\", \"86%\", \"9401 S US 183 HWY\", \"2020-12-15T00:00:00\"], [\"Ramen Tatsu-Ya comal\", \"91%\", \"1600 E 6TH ST\", \"2020-12-17T00:00:00\"], [\"Osio\", \"95%\", \"2901 S CAPITAL OF TEXAS HWY\", \"2020-12-02T00:00:00\"], [\"Ike's Love & Sandwiches\", \"97%\", \"5207 BRODIE LN\", \"2020-12-03T00:00:00\"], [\"BC-Learn and Laugh Preschool\", \"93%\", \"11715 FM 2244 RD\", \"2020-12-02T00:00:00\"], [\"Poco Loco Supermercado\", \"81%\", \"1148 AIRPORT BLVD\", \"2020-12-22T00:00:00\"], [\"El Pollo Rico # 11\", \"93%\", \"609 W SLAUGHTER LN\", \"2020-12-17T00:00:00\"], [\"Lamar Grocery\", \"92%\", \"2238 S LAMAR BLVD\", \"2020-12-23T00:00:00\"], [\"Alameda House\", \"93%\", \"4019 MANCHACA RD\", \"2020-12-11T00:00:00\"], [\"Golden Chick\", \"93%\", \"9600 N LAMAR BLVD\", \"2020-12-23T00:00:00\"], [\"PF - Tokyo Garden Catering, LLC\", \"99%\", \"201 N FM\", \"2020-12-15T00:00:00\"], [\"LW - Lupine Lane\", \"98%\", \"1001 HIGHLANDS BLVD\", \"2020-12-04T00:00:00\"], [\"Gattis Pizza\", \"100%\", \"801 E WILLIAM CANNON DR\", \"2020-12-08T00:00:00\"], [\"GoPuff\", \"98%\", \"1138 AIRPORT BLVD\", \"2020-12-14T00:00:00\"], [\"Tony C's Pizza & Wine Bar\", \"80%\", \"10526 W PARMER LN\", \"2020-12-10T00:00:00\"], [\"J.D's Market #4\", \"80%\", \"11720 FM 1826 RD\", \"2020-12-08T00:00:00\"], [\"El Pollo Rico #13\", \"90%\", \"110 E WILLIAM CANNON DR\", \"2020-12-03T00:00:00\"], [\"LW - Randall's #1779 -Deli\", \"98%\", \"2301 S FM 620 RD\", \"2020-12-02T00:00:00\"], [\"PF - HEB Food Store #479 (Meat & Seafood)\", \"96%\", \"201 N FM\", \"2020-12-15T00:00:00\"], [\"Bluebonnet School of Canyon Creek\", \"94%\", \"10321 BOULDER LN\", \"2020-12-14T00:00:00\"], [\"WL - Jersey Mikes Subs\", \"98%\", \"3300 BEE CAVES RD\", \"2020-12-08T00:00:00\"], [\"Walgreens #03092\", \"100%\", \"8104 MESA DR\", \"2020-12-18T00:00:00\"], [\"Way South Philly Deli\", \"96%\", \"5222 BURNET RD\", \"2020-12-07T00:00:00\"], [\"Freddy's Frozen Custard & Steakburgers\", \"90%\", \"8300 N FM 620 RD\", \"2020-12-14T00:00:00\"], [\"La Quinta Inn & Suites # 937\", \"96%\", \"11901 N MOPAC EXPY\", \"2020-12-23T00:00:00\"], [\"Soup Peddler, The\", \"93%\", \"4631 AIRPORT BLVD\", \"2020-12-18T00:00:00\"], [\"Beer Geek\", \"94%\", \"2051 W FM 1626 RD\", \"2020-12-22T00:00:00\"], [\"C- Mart #9\", \"92%\", \"8523 RESEARCH BLVD\", \"2020-12-15T00:00:00\"], [\"Two Steps Ahead Learning Center\", \"95%\", \"3028 ROGGE LN\", \"2020-12-15T00:00:00\"], [\"Whataburger\", \"96%\", \"6301 W PARMER LN\", \"2020-12-04T00:00:00\"], [\"Marbridge Foundation-Winters\", \"97%\", \"2310 BLISS SPILLAR RD\", \"2020-12-02T00:00:00\"], [\"Taco Cabana #129\", \"87%\", \"2507 E RIVERSIDE DR\", \"2020-12-16T00:00:00\"], [\"MN - Excel High School\", \"100%\", \"600 E PARSONS ST\", \"2020-12-02T00:00:00\"], [\"Express Food Mart #7\", \"79%\", \"10500 N LAMAR BLVD\", \"2020-12-23T00:00:00\"], [\"Tierra Linda Taqueria\", \"93%\", \"8540 RESEARCH BLVD\", \"2020-12-02T00:00:00\"], [\"Super 8 Motel\", \"93%\", \"5606 E 51ST ST\", \"2020-12-15T00:00:00\"], [\"Circle K Store #2704682\", \"85%\", \"6500 S US 183 HWY\", \"2020-12-15T00:00:00\"], [\"1-Stop Food Store\", \"97%\", \"5101 AIRPORT BLVD\", \"2020-12-16T00:00:00\"], [\"Staybridge Suites\", \"91%\", \"13000 N IH\", \"2020-12-22T00:00:00\"], [\"Suprabhat\", \"70%\", \"9225 W PARMER LN\", \"2020-12-21T00:00:00\"], [\"Daily Juice Cafe\", \"100%\", \"3720 FAR WEST BLVD\", \"2020-12-11T00:00:00\"], [\"Springhill Suites Austin North\", \"97%\", \"12520 N IH\", \"2020-12-22T00:00:00\"], [\"Profile by Sanford\", \"93%\", \"9607 RESEARCH BLVD\", \"2020-12-16T00:00:00\"], [\"Crazy Fruits # 3\", \"98%\", \"5611 S US 183 HWY\", \"2020-12-15T00:00:00\"], [\"WL - Izumi Sushi\", \"87%\", \"701 S CAPITAL OF TEXAS HWY\", \"2020-12-08T00:00:00\"], [\"7-Eleven Convenience Store #35801A\", \"89%\", \"9704 GILES LN\", \"2020-12-18T00:00:00\"], [\"Great Hills Golf Club\", \"90%\", \"5914 LOST HORIZON DR\", \"2020-12-02T00:00:00\"], [\"Dunkin Donuts\", \"91%\", \"12200 RESEARCH BLVD\", \"2020-12-10T00:00:00\"], [\"Cook Elementary School\", \"98%\", \"1511 CRIPPLE CREEK DR\", \"2020-12-16T00:00:00\"], [\"Hwy 969 Food Mart\", \"84%\", \"6401 FM 969 RD\", \"2020-12-04T00:00:00\"], [\"Marco's Pizza\", \"87%\", \"11011 RESEARCH BLVD\", \"2020-12-02T00:00:00\"], [\"Family Business Beer Company\", \"100%\", \"19510 HAMILTON POOL RD\", \"2020-12-03T00:00:00\"], [\"1618 Asian Fusion\", \"74%\", \"1618 E RIVERSIDE DR\", \"2020-12-16T00:00:00\"], [\"Bert's BBQ\", \"89%\", \"3563 FAR WEST BLVD\", \"2020-12-14T00:00:00\"], [\"Silverado Barton Springs\", \"83%\", \"5200 DAVIS LN\", \"2020-12-18T00:00:00\"], [\"HEB #096-Deli/Bakery/Produce\", \"97%\", \"7025 VILLAGE CENTER DR\", \"2020-12-07T00:00:00\"], [\"Milano Pizza\", \"76%\", \"1025 W STASSNEY LN\", \"2020-12-11T00:00:00\"], [\"La Michoacana Meat Market\", \"74%\", \"2237 E RIVERSIDE DR\", \"2020-12-23T00:00:00\"], [\"Club El Tahur\", \"89%\", \"214 E ANDERSON LN\", \"2020-12-21T00:00:00\"], [\"Austin Ice\", \"97%\", \"7517 CAMERON RD\", \"2020-12-09T00:00:00\"], [\"BC - HEB Food Store #404 (Deli/Bakery)\", \"98%\", \"12400 W SH\", \"2020-12-01T00:00:00\"], [\"Dollar General #10959\", \"98%\", \"6010 E RIVERSIDE DR\", \"2020-12-10T00:00:00\"], [\"Chef Robert Catering\", \"100%\", \"8134 MESA DR\", \"2020-12-17T00:00:00\"], [\"Club de la Raza\", \"89%\", \"2429 E SH\", \"2020-12-22T00:00:00\"], [\"LW - Table 620\", \"98%\", \"2000 S FM 620 RD\", \"2020-12-21T00:00:00\"]], \"hovertemplate\": \"Restaurant Name: %{customdata[0]}<br>Score: %{customdata[1]}<br>Street: %{customdata[2]}<br>Inspection Date: %{customdata[3]}\", \"lat\": [null, 30.408522, 30.447473, 30.177931, 30.2749, 30.276806, 30.208272, 30.394225, 30.396092, 30.365558, null, null, 30.285611, 30.255443, 30.202797, 30.294778, 30.356996, 30.26165, 30.349678, 30.225443, 30.200184, 30.353756, null, 30.477802, 30.163664, 30.406508, 30.448429, 30.258663, 30.357642, 30.441937, 30.44057, 30.396129, 30.297764, 30.393948, 30.357567, 30.264475, 30.252383, 30.356395, null, 30.238711, 30.405944, 30.26437, null, null, 30.417542, 30.441937, 30.212609, null, 30.346442, 30.2749, null, 30.401922, 30.434702, 30.291053, 30.337222, 30.2, 30.181994, 30.308385, 30.341028, 30.268742, 30.275231, 30.433702, null, 30.194048, 30.421254, 30.260704, 30.284019, 30.36441, 30.442957, 30.477802, null, 30.445314, 30.441937, 30.465601, 30.359155, 30.194048, 30.19096, 30.348381, 30.341725, 30.218964, 30.30675, 30.447473, 30.323972, 30.317286, 30.211841, 30.283319, 30.200463, 30.241593, 30.441937, 30.416351, 30.148928, 30.41503, null, 30.392352, 30.206706, 30.313641, null, 30.29806, null, 30.356395, 30.425948, 30.351231, null, 30.416577, 30.231447, 30.296106, 30.174896, null, 30.261912, 30.228372, 30.20676, 30.216371, 30.173693, null, 30.267349, null, 30.281511, 30.277014, 30.285249, 30.436116, 30.394529, 30.358106, 30.255321, null, 30.31524, 30.273599, 30.137606, 30.30881, 30.307203, 30.390328, 30.235855, 30.357262, 30.311288, 30.264459, 30.263083, 30.424498, 30.268058, 30.196231, 30.294735, 30.358106, 30.274413, 30.26763, 30.31466, 30.219122, 30.188388, 30.259141, 30.322681, null, 30.207855, 30.394877, 30.36508, 30.279246, null, null, 30.340912, 30.441282, 30.235507, null, null, 30.338728, 30.221781, 30.446183, 30.366401, 30.203667, null, 30.4204, 30.226141, 30.34713, 30.31487, 30.121291, null, 30.352668, 30.264124, 30.392008, 30.269458, 30.346501, 30.301073, 30.416273, 30.209029, null, 30.236507, null, 30.202651, 30.359155, 30.284891, 30.202875, 30.441282, 30.368077, 30.288198, 30.267971, 30.409161, 30.360309, 30.292189, 30.278932, 30.359579, 30.303794, 30.256749, 30.304871, 30.391159, 30.235825, 30.276059, 30.295179, 30.306151, 30.345791, 30.315534, 30.242222, 30.319315, 30.344864, null, 30.392352, 30.157697, null, 30.220859, 30.216371, 30.225437, 30.299588, 30.233175, 30.227884, 30.2323, 30.467184, 30.380289, 30.261166, 30.255443, 30.446424, 30.255221, 30.2, 30.392352, 30.44865, 30.442957, 30.468797, 30.231279, 30.261819, 30.215188, null, 30.392008, null, 30.210163, 30.136879, null, 30.445314, 30.403592, 30.371414, 30.28244, 30.281321, 30.286835, 30.262568, 30.212841, 30.292189, 30.498868, 30.195647, 30.408522, 30.331385, 30.339003, null, 30.424623, 30.282032, null, 30.349015, 30.287311, null, 30.174157, 30.260384, 30.336486, 30.333311, null, 30.268577, 30.373732, 30.416867, null, 30.293609, null, 30.272251, 30.357466, null, 30.273727, 30.441282, 30.415584, 30.217891, 30.40026, 30.271901, 30.209029, 30.282708, 30.307606, 30.261959, null, 30.279246, 30.344978, 30.242031, 30.233362, 30.369642, 30.3911, 30.260455, 30.360601, 30.203569, 30.33542, 30.231155, 30.278077, 30.255454, 30.220579, 30.326754, 30.151943, 30.277589, 30.4204, 30.295089, 30.320667, 30.237459, 30.425623, 30.437959, null, 30.136879, null, 30.314499, 30.45313, 30.436116, 30.362817, 30.276054, 30.290493, 30.220579, 30.26505, null, 30.26478, 30.309564, 30.307221, 30.440956, 30.260763, 30.341398, 30.496761, 30.337689, 30.358106, 30.273683, 30.222178, 30.209029, 30.357964, 30.301917, 30.235825, null, 30.424508, 30.214771, 30.288452, 30.307985, null, 30.196231, 30.300666, 30.267349, 30.194788, 30.357847, 30.221194, 30.315685, 30.294801, 30.346342, 30.197961, 30.275803, 30.193353, 30.359155, 30.255645, null, 30.23447, 30.183677, null, 30.39806, 30.345616, 30.164607, 30.301295, 30.360739, 30.33674, 30.337919, 30.285955, 30.478405, null, 30.441937, null, 30.174157, 30.295085, 30.263709, 30.2651, 30.36516, 30.31268, 30.200841, 30.438743, 30.194148, 30.272293, 30.290551, 30.357503, null, 30.353397, 30.311864, 30.40065, null, 30.194794, 30.233436, 30.193108, 30.355045, null, 30.412643, 30.168927, 30.401922, 30.255443, 30.446183, null, null, 30.254056, 30.494618, 30.229501, 30.218964, 30.337689, 30.497655, 30.269774, 30.29203, 30.285782, 30.350454, 30.312538, 30.309715, 30.290012, null, 30.267919, 30.40065, 30.339981, 30.223821, 30.324549, 30.228614, 30.28684, 30.269153, 30.325649, 30.273807, 30.456005, 30.441282, 30.273599, 30.227802, 30.235825, 30.254031, 30.354942, 30.337181, 30.271775, 30.412468, 30.45037, 30.218964, 30.239069, 30.238678, 30.236507, 30.221809, 30.361033, null, 30.307616, 30.469768, null, 30.447473, 30.263892, 30.084128, 30.304679, 30.209124, 30.276147, 30.322958, null, 30.212956, 30.232228, 30.272605, 30.304855, 30.429684, 30.226725, 30.445314, 30.26926, null, 30.419705, 30.354444, 30.275231, 30.316742, 30.24371, 30.382116, 30.353297, 30.235995, 30.167179, null, 30.360404, 30.361597, 30.363947, 30.354586, null, 30.305053, 30.340843, 30.402572, 30.26452, null, 30.2749, 30.271017, 30.413727, 30.27897, 30.401102, 30.220579, 30.349816, 30.342994, 30.255443, null, 30.356996, 30.224799, null, 30.412512, null, null, 30.398571, null, 30.223712, 30.262045, 30.318803, 30.356842, 30.234747, 30.202311, 30.275195, 30.33711, 30.233175, null, 30.36194, null, 30.276147, 30.340865, 30.202651, 30.433558, 30.355859, 30.351197, 30.299782, 30.193108, null, 30.154194, 30.243957, null, 30.361033, 30.429156, 30.274085, 30.140471, 30.362392, 30.235633, 30.45313, 30.359155, null, null, 30.33872, null, 30.307228, 30.276059, null, 30.262989, 30.255443, 30.231596, null, 30.272115, 30.173058, 30.24741, 30.232532, 30.365544, null, 30.349938, 30.19096, 30.269959, 30.496761, 30.192594, 30.19287, null, null, 30.428742, 30.2749, 30.371773, 30.324549, 30.4204, 30.407262, 30.306151, 30.138581, 30.360095, 30.303188, 30.445314, 30.136879, 30.23403, 30.341783, 30.37324, 30.360701, 30.2927, 30.164023, 30.312363, null, 30.478405, 30.35546, null, 30.388391, null, 30.292189, 30.332321, 30.402112, 30.425921, 30.377667, null, 30.403592, 30.291006, 30.245028, 30.353534, 30.208765, 30.352555, 30.210567, 30.238295, 30.343521, 30.329586, null, 30.226402, 30.373443, null, null], \"legendgroup\": \"\", \"lon\": [null, -97.698168, -97.648368, -97.615839, -97.801111, -97.751192, -97.781635, -97.748272, -97.749989, -97.738956, null, null, -97.684167, -97.810066, -97.806221, -97.724118, -97.685774, -97.718305, -97.526006, -97.76661, -97.785895, -97.75401, null, -97.643263, -97.830628, -97.874421, -97.655218, -97.786729, -97.762151, -97.74148, -97.663126, -97.720128, -97.687283, -97.726442, -97.748349, -97.741002, -97.773635, -97.731374, null, -97.683849, -97.678556, -97.733445, null, null, -97.675682, -97.74148, -97.752474, null, -97.700016, -97.801111, null, -97.746122, -97.615494, -97.741264, -97.756645, -97.77, -97.8465, -97.938816, -97.557461, -97.728041, -97.843793, -97.77132, null, -97.843038, -97.628454, -97.734925, -97.74194, -97.710274, -97.741799, -97.643263, null, -97.743259, -97.74148, -97.597297, -97.73005, -97.843038, -97.771937, -97.557039, -97.970094, -97.755433, -97.750208, -97.648368, -97.689635, -97.740391, -97.964736, -97.742009, -97.799243, -97.785134, -97.74148, -97.697097, -97.842579, -97.696431, null, -97.746845, -97.77795, -97.704222, null, -98.006844, null, -97.731374, -97.716411, -97.708533, null, -97.745964, -97.787322, -97.743872, -97.82327, null, -97.723182, -97.789335, -97.719122, -97.964091, -97.821911, null, -97.743063, null, -97.710596, -97.742141, -97.774785, -97.612748, -97.75208, -97.735077, -97.719477, null, -97.741316, -97.799243, -97.857505, -97.740756, -97.931757, -97.884583, -97.728243, -97.686159, -97.666151, -97.757249, -97.816129, -97.750561, -97.746432, -97.785737, -97.824938, -97.735077, -97.800458, -97.741285, -97.71482, -97.688528, -97.856475, -97.759029, -97.714855, null, -97.780106, -97.745915, -97.695882, -97.806703, null, null, -97.738848, -97.66529, -97.763802, null, null, -97.97035, -97.689832, -97.648258, -97.695129, -97.878534, null, -97.84557, -97.705922, -97.72721, -97.733618, -97.635979, null, -97.723662, -97.741615, -97.707343, -97.696677, -97.67724, -97.674094, -97.695601, -97.78292, null, -97.725029, null, -97.805566, -97.73005, -97.715382, -97.837567, -97.66529, -97.694197, -97.744632, -97.742507, -97.715712, -97.790126, -97.828184, -97.742615, -97.737925, -97.726441, -97.71153, -97.736783, -97.659773, -97.792954, -97.668702, -97.740547, -97.715837, -97.967013, -97.755907, -97.72868, -97.689358, -97.736361, null, -97.746845, -97.833381, null, -97.691306, -97.964091, -97.769581, -97.740175, -97.721518, -97.786555, -97.758576, -97.64526, -97.68363, -97.721147, -97.810066, -97.686119, -97.844945, -97.77, -97.746845, -97.655677, -97.741799, -97.595887, -97.787453, -97.758731, -97.762343, null, -97.707343, null, -97.780138, -97.856197, null, -97.743259, -97.745141, -97.757, -97.711754, -97.703182, -97.703049, -97.725167, -97.713113, -97.828184, -97.773275, -97.777748, -97.698168, -97.722908, -97.754988, null, -97.672008, -97.743038, null, -97.554111, -97.742693, null, -97.796784, -97.734006, -97.739563, -97.705301, null, -97.727607, -97.719236, -97.746868, null, -97.741925, null, -97.691247, -97.686736, null, -97.697031, -97.66529, -97.695563, -97.861448, -97.745036, -97.876727, -97.78292, -97.74207, -97.945544, -97.761269, null, -97.759767, -97.736664, -97.728362, -97.73959, -97.733164, -97.721166, -97.738167, -97.739855, -97.785518, -97.559559, -97.791658, -97.760581, -97.761872, -97.837688, -97.687198, -97.833228, -97.720737, -97.84557, -97.73667, -97.968512, -97.725513, -97.715752, -97.75871, null, -97.856197, null, -97.755166, -97.8277, -97.612748, -97.69719, -97.816218, -97.742018, -97.837688, -97.732382, null, -97.737795, -97.941855, -97.74177, -97.773218, -97.712656, -97.557848, -97.774899, -97.692266, -97.735077, -97.720484, -97.838856, -97.78292, -97.760539, -97.764901, -97.792954, null, -97.713215, -97.832351, -97.747786, -97.940692, null, -97.785737, -97.74041, -97.743063, -97.783619, -97.978237, -97.690654, -97.741373, -97.742566, -97.966225, -97.767334, -97.735692, -97.77868, -97.73005, -97.698125, null, -97.911646, -97.792016, null, -97.704665, -97.713435, -97.692906, -97.739098, -97.716586, -97.694535, -97.74121, -97.681617, -97.765794, null, -97.74148, null, -97.796784, -97.742718, -97.731481, -97.742451, -97.695836, -97.960154, -97.879006, -97.756268, -97.77723, -97.697526, -97.742629, -97.97889, null, -97.705543, -97.963409, -97.747851, null, -97.842717, -97.739816, -97.779336, -97.728669, null, -97.689502, -97.825756, -97.746122, -97.810066, -97.648258, null, null, -97.782807, -97.7882, -97.864222, -97.755433, -97.692266, -97.777084, -97.806002, -97.742784, -97.744893, -97.748102, -97.693481, -97.934312, -97.707435, null, -97.694035, -97.747851, -97.804557, -97.763391, -97.739532, -97.77134, -97.742736, -97.740924, -97.726544, -97.697987, -97.659227, -97.66529, -97.799243, -97.727487, -97.792954, -97.703643, -97.703436, -97.720538, -97.741424, -97.927049, -97.655136, -97.755433, -97.761559, -97.72594, -97.725029, -97.956195, -97.716672, null, -97.937139, -97.595626, null, -97.648368, -97.759549, -97.752177, -97.93797, -97.804503, -97.733582, -97.742673, null, -97.778807, -97.79909, -97.691021, -97.725971, -97.671287, -97.770608, -97.743259, -97.724397, null, -97.752565, -97.727417, -97.843793, -97.713804, -97.729736, -97.740032, -97.755725, -97.703777, -97.791596, null, -97.739692, -97.687419, -97.726577, -97.731747, null, -97.940736, -97.80285, -97.721403, -97.78401, null, -97.801111, -97.789586, -97.746293, -97.806439, -97.722763, -97.837688, -97.55595, -97.763511, -97.810066, null, -97.685774, -97.703211, null, -97.688909, null, null, -97.745647, null, -97.843827, -97.758588, -97.739443, -97.747275, -97.788031, -97.806963, -97.668307, -97.756437, -97.721518, null, -97.717321, null, -97.733582, -97.556468, -97.805566, -97.771837, -97.758223, -97.675864, -97.740052, -97.779336, null, -97.833283, -97.781825, null, -97.716672, -97.760067, -97.766118, -97.834444, -97.697423, -97.724398, -97.8277, -97.73005, null, null, -97.692623, null, -97.937337, -97.668702, null, -97.72637, -97.810066, -97.818902, null, -97.697472, -97.800341, -97.7743, -97.786561, -97.695617, null, -98.012061, -97.771937, -97.696825, -97.774899, -97.925054, -97.77775, null, null, -97.838764, -97.801111, -97.757113, -97.739532, -97.84557, -97.719376, -97.715837, -97.849046, -97.716393, -97.678524, -97.743259, -97.856197, -97.723776, -97.551086, -97.691287, -97.716962, -97.664656, -97.693075, -97.715363, null, -97.765794, -97.757281, null, -97.743593, null, -97.828184, -97.622991, -97.766923, -97.753486, -97.703772, null, -97.745141, -98.075811, -97.73049, -97.753552, -97.862494, -97.756199, -97.786896, -97.725943, -97.704292, -97.689879, null, -97.706476, -97.756073, null, null], \"marker\": {\"color\": [90, 90, 100, 100, 100, 80, 100, 90, 100, 90, 70, 90, 80, 90, 90, 90, 90, 90, 100, 90, 80, 100, 90, 100, 90, 90, 90, 100, 100, 100, 100, 90, 90, 90, 100, 80, 100, 70, 100, 100, 100, 90, 90, 100, 90, 100, 80, 100, 90, 100, 90, 100, 90, 90, 100, 90, 90, 90, 80, 90, 90, 90, 100, 80, 90, 90, 50, 100, 90, 90, 90, 100, 80, 100, 90, 90, 80, 80, 90, 100, 90, 90, 100, 90, 100, 100, 90, 90, 90, 90, 90, 90, 70, 90, 100, 90, 90, 90, 90, 90, 80, 80, 90, 80, 100, 100, 90, 90, 90, 90, 70, 100, 90, 70, 100, 100, 100, 90, 100, 90, 100, 90, 90, 100, 90, 100, 90, 100, 100, 90, 90, 100, 90, 100, 90, 90, 100, 90, 100, 80, 90, 100, 90, 100, 100, 100, 100, 100, 90, 90, 90, 90, 100, 90, 80, 100, 100, 100, 90, 90, 90, 70, 90, 90, 90, 90, 100, 90, 80, 100, 80, 100, 90, 90, 90, 80, 90, 80, 90, 70, 70, 100, 100, 90, 90, 80, 100, 100, 100, 100, 90, 90, 100, 90, 90, 100, 80, 90, 90, 90, 100, 90, 90, 100, 90, 90, 80, 90, 100, 100, 90, 100, 90, 100, 100, 90, 90, 100, 100, 100, 100, 100, 80, 100, 90, 80, 90, 100, 90, 80, 90, 90, 100, 90, 100, 100, 100, 100, 100, 100, 80, 100, 100, 90, 90, 100, 80, 90, 90, 100, 90, 80, 90, 70, 90, 100, 80, 80, 100, 90, 90, 100, 80, 70, 100, 90, 100, 100, 100, 100, 90, 90, 90, 80, 70, 100, 90, 80, 80, 90, 70, 80, 100, 90, 90, 100, 80, 100, 100, 100, 90, 100, 90, 100, 90, 80, 100, 90, 100, 100, 80, 100, 90, 90, 100, 90, 90, 70, 100, 90, 100, 90, 100, 90, 90, 90, 90, 90, 90, 100, 100, 90, 100, 100, 100, 90, 80, 90, 100, 90, 100, 80, 100, 100, 100, 100, 90, 100, 80, 100, 90, 80, 90, 90, 90, 80, 100, 90, 100, 70, 100, 100, 90, 100, 100, 90, 100, 90, 100, 90, 100, 90, 90, 90, 100, 100, 80, 90, 100, 90, 100, 100, 90, 100, 100, 100, 100, 70, 80, 80, 90, 90, 100, 90, 90, 100, 100, 90, 90, 90, 80, 90, 100, 80, 100, 90, 90, 80, 100, 90, 100, 90, 90, 100, 100, 80, 100, 100, 90, 100, 90, 90, 90, 90, 90, 90, 100, 90, 80, 100, 90, 90, 80, 90, 90, 100, 80, 100, 100, 100, 80, 80, 100, 100, 90, 90, 90, 100, 90, 90, 90, 80, 80, 70, 100, 90, 100, 100, 80, 100, 90, 90, 90, 100, 100, 90, 90, 100, 80, 100, 100, 100, 90, 90, 100, 100, 80, 90, 100, 90, 100, 80, 80, 90, 100, 100, 80, 100, 90, 100, 100, 90, 100, 90, 100, 90, 70, 100, 90, 90, 90, 100, 90, 90, 80, 100, 100, 90, 90, 90, 80, 100, 90, 70, 100, 80, 90, 80, 90, 100, 90, 100, 100, 100, 100, 100, 90, 90, 90, 100, 100, 90, 90, 90, 70, 90, 100, 100, 70, 90, 100, 90, 100, 80, 90, 100, 90, 100, 90, 90, 100, 100, 90, 80, 90, 90, 90, 90, 100, 100, 100, 100, 80, 80, 90, 100, 100, 90, 100, 100, 100, 90, 100, 90, 90, 90, 100, 100, 100, 90, 100, 80, 90, 90, 80, 100, 90, 70, 100, 100, 90, 100, 90, 90, 90, 90, 100, 80, 90, 100, 70, 90, 80, 100, 80, 70, 90, 100, 100, 100, 100, 90, 100], \"coloraxis\": \"coloraxis\", \"opacity\": 0.5, \"size\": 10}, \"mode\": \"markers\", \"name\": \"\", \"showlegend\": false, \"subplot\": \"mapbox\", \"type\": \"scattermapbox\"}],                        {\"coloraxis\": {\"colorbar\": {\"title\": {\"text\": \"color\"}}, \"colorscale\": [[0.0, \"rgb(0,104,55)\"], [0.1, \"rgb(26,152,80)\"], [0.2, \"rgb(102,189,99)\"], [0.3, \"rgb(166,217,106)\"], [0.4, \"rgb(217,239,139)\"], [0.5, \"rgb(255,255,191)\"], [0.6, \"rgb(254,224,139)\"], [0.7, \"rgb(253,174,97)\"], [0.8, \"rgb(244,109,67)\"], [0.9, \"rgb(215,48,39)\"], [1.0, \"rgb(165,0,38)\"]]}, \"legend\": {\"tracegroupgap\": 0}, \"mapbox\": {\"center\": {\"lat\": 30.308063885658914, \"lon\": -97.75314880813954}, \"domain\": {\"x\": [0.0, 1.0], \"y\": [0.0, 1.0]}, \"style\": \"open-street-map\", \"zoom\": 10}, \"margin\": {\"t\": 60}, \"template\": {\"data\": {\"bar\": [{\"error_x\": {\"color\": \"#2a3f5f\"}, \"error_y\": {\"color\": \"#2a3f5f\"}, \"marker\": {\"line\": {\"color\": \"#E5ECF6\", \"width\": 0.5}}, \"type\": \"bar\"}], \"barpolar\": [{\"marker\": {\"line\": {\"color\": \"#E5ECF6\", \"width\": 0.5}}, \"type\": \"barpolar\"}], \"carpet\": [{\"aaxis\": {\"endlinecolor\": \"#2a3f5f\", \"gridcolor\": \"white\", \"linecolor\": \"white\", \"minorgridcolor\": \"white\", \"startlinecolor\": \"#2a3f5f\"}, \"baxis\": {\"endlinecolor\": \"#2a3f5f\", \"gridcolor\": \"white\", \"linecolor\": \"white\", \"minorgridcolor\": \"white\", \"startlinecolor\": \"#2a3f5f\"}, \"type\": \"carpet\"}], \"choropleth\": [{\"colorbar\": {\"outlinewidth\": 0, \"ticks\": \"\"}, \"type\": \"choropleth\"}], \"contour\": [{\"colorbar\": {\"outlinewidth\": 0, \"ticks\": \"\"}, \"colorscale\": [[0.0, \"#0d0887\"], [0.1111111111111111, \"#46039f\"], [0.2222222222222222, \"#7201a8\"], [0.3333333333333333, \"#9c179e\"], [0.4444444444444444, \"#bd3786\"], [0.5555555555555556, \"#d8576b\"], [0.6666666666666666, \"#ed7953\"], [0.7777777777777778, \"#fb9f3a\"], [0.8888888888888888, \"#fdca26\"], [1.0, \"#f0f921\"]], \"type\": \"contour\"}], \"contourcarpet\": [{\"colorbar\": {\"outlinewidth\": 0, \"ticks\": \"\"}, \"type\": \"contourcarpet\"}], \"heatmap\": [{\"colorbar\": {\"outlinewidth\": 0, \"ticks\": \"\"}, \"colorscale\": [[0.0, \"#0d0887\"], [0.1111111111111111, \"#46039f\"], [0.2222222222222222, \"#7201a8\"], [0.3333333333333333, \"#9c179e\"], [0.4444444444444444, \"#bd3786\"], [0.5555555555555556, \"#d8576b\"], [0.6666666666666666, \"#ed7953\"], [0.7777777777777778, \"#fb9f3a\"], [0.8888888888888888, \"#fdca26\"], [1.0, \"#f0f921\"]], \"type\": \"heatmap\"}], \"heatmapgl\": [{\"colorbar\": {\"outlinewidth\": 0, \"ticks\": \"\"}, \"colorscale\": [[0.0, \"#0d0887\"], [0.1111111111111111, \"#46039f\"], [0.2222222222222222, \"#7201a8\"], [0.3333333333333333, \"#9c179e\"], [0.4444444444444444, \"#bd3786\"], [0.5555555555555556, \"#d8576b\"], [0.6666666666666666, \"#ed7953\"], [0.7777777777777778, \"#fb9f3a\"], [0.8888888888888888, \"#fdca26\"], [1.0, \"#f0f921\"]], \"type\": \"heatmapgl\"}], \"histogram\": [{\"marker\": {\"colorbar\": {\"outlinewidth\": 0, \"ticks\": \"\"}}, \"type\": \"histogram\"}], \"histogram2d\": [{\"colorbar\": {\"outlinewidth\": 0, \"ticks\": \"\"}, \"colorscale\": [[0.0, \"#0d0887\"], [0.1111111111111111, \"#46039f\"], [0.2222222222222222, \"#7201a8\"], [0.3333333333333333, \"#9c179e\"], [0.4444444444444444, \"#bd3786\"], [0.5555555555555556, \"#d8576b\"], [0.6666666666666666, \"#ed7953\"], [0.7777777777777778, \"#fb9f3a\"], [0.8888888888888888, \"#fdca26\"], [1.0, \"#f0f921\"]], \"type\": \"histogram2d\"}], \"histogram2dcontour\": [{\"colorbar\": {\"outlinewidth\": 0, \"ticks\": \"\"}, \"colorscale\": [[0.0, \"#0d0887\"], [0.1111111111111111, \"#46039f\"], [0.2222222222222222, \"#7201a8\"], [0.3333333333333333, \"#9c179e\"], [0.4444444444444444, \"#bd3786\"], [0.5555555555555556, \"#d8576b\"], [0.6666666666666666, \"#ed7953\"], [0.7777777777777778, \"#fb9f3a\"], [0.8888888888888888, \"#fdca26\"], [1.0, \"#f0f921\"]], \"type\": \"histogram2dcontour\"}], \"mesh3d\": [{\"colorbar\": {\"outlinewidth\": 0, \"ticks\": \"\"}, \"type\": \"mesh3d\"}], \"parcoords\": [{\"line\": {\"colorbar\": {\"outlinewidth\": 0, \"ticks\": \"\"}}, \"type\": \"parcoords\"}], \"pie\": [{\"automargin\": true, \"type\": \"pie\"}], \"scatter\": [{\"marker\": {\"colorbar\": {\"outlinewidth\": 0, \"ticks\": \"\"}}, \"type\": \"scatter\"}], \"scatter3d\": [{\"line\": {\"colorbar\": {\"outlinewidth\": 0, \"ticks\": \"\"}}, \"marker\": {\"colorbar\": {\"outlinewidth\": 0, \"ticks\": \"\"}}, \"type\": \"scatter3d\"}], \"scattercarpet\": [{\"marker\": {\"colorbar\": {\"outlinewidth\": 0, \"ticks\": \"\"}}, \"type\": \"scattercarpet\"}], \"scattergeo\": [{\"marker\": {\"colorbar\": {\"outlinewidth\": 0, \"ticks\": \"\"}}, \"type\": \"scattergeo\"}], \"scattergl\": [{\"marker\": {\"colorbar\": {\"outlinewidth\": 0, \"ticks\": \"\"}}, \"type\": \"scattergl\"}], \"scattermapbox\": [{\"marker\": {\"colorbar\": {\"outlinewidth\": 0, \"ticks\": \"\"}}, \"type\": \"scattermapbox\"}], \"scatterpolar\": [{\"marker\": {\"colorbar\": {\"outlinewidth\": 0, \"ticks\": \"\"}}, \"type\": \"scatterpolar\"}], \"scatterpolargl\": [{\"marker\": {\"colorbar\": {\"outlinewidth\": 0, \"ticks\": \"\"}}, \"type\": \"scatterpolargl\"}], \"scatterternary\": [{\"marker\": {\"colorbar\": {\"outlinewidth\": 0, \"ticks\": \"\"}}, \"type\": \"scatterternary\"}], \"surface\": [{\"colorbar\": {\"outlinewidth\": 0, \"ticks\": \"\"}, \"colorscale\": [[0.0, \"#0d0887\"], [0.1111111111111111, \"#46039f\"], [0.2222222222222222, \"#7201a8\"], [0.3333333333333333, \"#9c179e\"], [0.4444444444444444, \"#bd3786\"], [0.5555555555555556, \"#d8576b\"], [0.6666666666666666, \"#ed7953\"], [0.7777777777777778, \"#fb9f3a\"], [0.8888888888888888, \"#fdca26\"], [1.0, \"#f0f921\"]], \"type\": \"surface\"}], \"table\": [{\"cells\": {\"fill\": {\"color\": \"#EBF0F8\"}, \"line\": {\"color\": \"white\"}}, \"header\": {\"fill\": {\"color\": \"#C8D4E3\"}, \"line\": {\"color\": \"white\"}}, \"type\": \"table\"}]}, \"layout\": {\"annotationdefaults\": {\"arrowcolor\": \"#2a3f5f\", \"arrowhead\": 0, \"arrowwidth\": 1}, \"autotypenumbers\": \"strict\", \"coloraxis\": {\"colorbar\": {\"outlinewidth\": 0, \"ticks\": \"\"}}, \"colorscale\": {\"diverging\": [[0, \"#8e0152\"], [0.1, \"#c51b7d\"], [0.2, \"#de77ae\"], [0.3, \"#f1b6da\"], [0.4, \"#fde0ef\"], [0.5, \"#f7f7f7\"], [0.6, \"#e6f5d0\"], [0.7, \"#b8e186\"], [0.8, \"#7fbc41\"], [0.9, \"#4d9221\"], [1, \"#276419\"]], \"sequential\": [[0.0, \"#0d0887\"], [0.1111111111111111, \"#46039f\"], [0.2222222222222222, \"#7201a8\"], [0.3333333333333333, \"#9c179e\"], [0.4444444444444444, \"#bd3786\"], [0.5555555555555556, \"#d8576b\"], [0.6666666666666666, \"#ed7953\"], [0.7777777777777778, \"#fb9f3a\"], [0.8888888888888888, \"#fdca26\"], [1.0, \"#f0f921\"]], \"sequentialminus\": [[0.0, \"#0d0887\"], [0.1111111111111111, \"#46039f\"], [0.2222222222222222, \"#7201a8\"], [0.3333333333333333, \"#9c179e\"], [0.4444444444444444, \"#bd3786\"], [0.5555555555555556, \"#d8576b\"], [0.6666666666666666, \"#ed7953\"], [0.7777777777777778, \"#fb9f3a\"], [0.8888888888888888, \"#fdca26\"], [1.0, \"#f0f921\"]]}, \"colorway\": [\"#636efa\", \"#EF553B\", \"#00cc96\", \"#ab63fa\", \"#FFA15A\", \"#19d3f3\", \"#FF6692\", \"#B6E880\", \"#FF97FF\", \"#FECB52\"], \"font\": {\"color\": \"#2a3f5f\"}, \"geo\": {\"bgcolor\": \"white\", \"lakecolor\": \"white\", \"landcolor\": \"#E5ECF6\", \"showlakes\": true, \"showland\": true, \"subunitcolor\": \"white\"}, \"hoverlabel\": {\"align\": \"left\"}, \"hovermode\": \"closest\", \"mapbox\": {\"style\": \"light\"}, \"paper_bgcolor\": \"white\", \"plot_bgcolor\": \"#E5ECF6\", \"polar\": {\"angularaxis\": {\"gridcolor\": \"white\", \"linecolor\": \"white\", \"ticks\": \"\"}, \"bgcolor\": \"#E5ECF6\", \"radialaxis\": {\"gridcolor\": \"white\", \"linecolor\": \"white\", \"ticks\": \"\"}}, \"scene\": {\"xaxis\": {\"backgroundcolor\": \"#E5ECF6\", \"gridcolor\": \"white\", \"gridwidth\": 2, \"linecolor\": \"white\", \"showbackground\": true, \"ticks\": \"\", \"zerolinecolor\": \"white\"}, \"yaxis\": {\"backgroundcolor\": \"#E5ECF6\", \"gridcolor\": \"white\", \"gridwidth\": 2, \"linecolor\": \"white\", \"showbackground\": true, \"ticks\": \"\", \"zerolinecolor\": \"white\"}, \"zaxis\": {\"backgroundcolor\": \"#E5ECF6\", \"gridcolor\": \"white\", \"gridwidth\": 2, \"linecolor\": \"white\", \"showbackground\": true, \"ticks\": \"\", \"zerolinecolor\": \"white\"}}, \"shapedefaults\": {\"line\": {\"color\": \"#2a3f5f\"}}, \"ternary\": {\"aaxis\": {\"gridcolor\": \"white\", \"linecolor\": \"white\", \"ticks\": \"\"}, \"baxis\": {\"gridcolor\": \"white\", \"linecolor\": \"white\", \"ticks\": \"\"}, \"bgcolor\": \"#E5ECF6\", \"caxis\": {\"gridcolor\": \"white\", \"linecolor\": \"white\", \"ticks\": \"\"}}, \"title\": {\"x\": 0.05}, \"xaxis\": {\"automargin\": true, \"gridcolor\": \"white\", \"linecolor\": \"white\", \"ticks\": \"\", \"title\": {\"standoff\": 15}, \"zerolinecolor\": \"white\", \"zerolinewidth\": 2}, \"yaxis\": {\"automargin\": true, \"gridcolor\": \"white\", \"linecolor\": \"white\", \"ticks\": \"\", \"title\": {\"standoff\": 15}, \"zerolinecolor\": \"white\", \"zerolinewidth\": 2}}}},                        {\"responsive\": true}                    ).then(function(){\n",
       "                            \n",
       "var gd = document.getElementById('dc732db7-fb6b-4811-aa17-9fb8b7cbee8f');\n",
       "var x = new MutationObserver(function (mutations, observer) {{\n",
       "        var display = window.getComputedStyle(gd).display;\n",
       "        if (!display || display === 'none') {{\n",
       "            console.log([gd, 'removed!']);\n",
       "            Plotly.purge(gd);\n",
       "            observer.disconnect();\n",
       "        }}\n",
       "}});\n",
       "\n",
       "// Listen for the removal of the full notebook cells\n",
       "var notebookContainer = gd.closest('#notebook-container');\n",
       "if (notebookContainer) {{\n",
       "    x.observe(notebookContainer, {childList: true});\n",
       "}}\n",
       "\n",
       "// Listen for the clearing of the current output cell\n",
       "var outputEl = gd.closest('.output');\n",
       "if (outputEl) {{\n",
       "    x.observe(outputEl, {childList: true});\n",
       "}}\n",
       "\n",
       "                        })                };                });            </script>        </div>"
      ]
     },
     "metadata": {},
     "output_type": "display_data"
    }
   ],
   "source": [
    "fig = px.scatter_mapbox(df,\n",
    "                        lat=\"lat\",\n",
    "                        lon=\"lon\",\n",
    "                        color='color',\n",
    "                        custom_data=['Restaurant Name','Score','Street', 'Inspection Date'],\n",
    "                        color_continuous_scale=px.colors.diverging.RdYlGn[::-1],\n",
    "                        size_max=10,\n",
    "                        zoom=10)\n",
    "\n",
    "fig.update_layout(mapbox_style=\"open-street-map\")\n",
    "\n",
    "fig.update_traces(showlegend=False,\n",
    "    hovertemplate=\"<br>\".join([\n",
    "        \"Restaurant Name: %{customdata[0]}\",\n",
    "        \"Score: %{customdata[1]}\",\n",
    "        \"Street: %{customdata[2]}\",\n",
    "        \"Inspection Date: %{customdata[3]}\"\n",
    "    ]), marker_size = 10, marker_opacity = 0.5)\n",
    "fig.show()"
   ]
  },
  {
   "cell_type": "markdown",
   "id": "casual-cache",
   "metadata": {},
   "source": [
    "OK, so that's a little more clear ( though red for 100% isn't a great choice. I really just wanted to show that you can reverse color scales). However, since we can provide reverse this list, it seems logical we could just pass a list to plotly. I'm to start by looking at what the actual command entails.\n",
    "\n",
    "- color_continuous_scale=px.colors.diverging.RdYlGn[::-1]\n",
    "\n",
    "Here's a link to stack exchange about this topic: https://stackoverflow.com/questions/57167826/how-to-reverse-the-color-scale-in-a-plotly-express-map#57169970"
   ]
  },
  {
   "cell_type": "code",
   "execution_count": 531,
   "id": "elegant-broadcasting",
   "metadata": {},
   "outputs": [
    {
     "name": "stdout",
     "output_type": "stream",
     "text": [
      "Red-Yellow-Green Scale in Proper Order\n",
      "['rgb(165,0,38)', 'rgb(215,48,39)', 'rgb(244,109,67)', 'rgb(253,174,97)', 'rgb(254,224,139)', 'rgb(255,255,191)', 'rgb(217,239,139)', 'rgb(166,217,106)', 'rgb(102,189,99)', 'rgb(26,152,80)', 'rgb(0,104,55)']\n",
      "\n",
      " Red-Yellow-Green Scale in Reverse Order\n",
      "['rgb(0,104,55)', 'rgb(26,152,80)', 'rgb(102,189,99)', 'rgb(166,217,106)', 'rgb(217,239,139)', 'rgb(255,255,191)', 'rgb(254,224,139)', 'rgb(253,174,97)', 'rgb(244,109,67)', 'rgb(215,48,39)', 'rgb(165,0,38)']\n",
      "\n",
      " How many items are in the list again?\n",
      "11\n"
     ]
    }
   ],
   "source": [
    "print(\"Red-Yellow-Green Scale in Proper Order\")\n",
    "print(px.colors.diverging.RdYlGn[:])\n",
    "print(\"\\n Red-Yellow-Green Scale in Reverse Order\")\n",
    "print(px.colors.diverging.RdYlGn[::-1])\n",
    "print(\"\\n How many items are in the list again?\")\n",
    "print(len(px.colors.diverging.RdYlGn[::-1]))"
   ]
  },
  {
   "cell_type": "markdown",
   "id": "monthly-surrey",
   "metadata": {},
   "source": [
    "Alright, so now I need a list of 11 colors to pass to plotly. Where can I fund such colors? Well I just did an internet search for \"Colorblindess friendly color scales.\"\n",
    "\n",
    "Lo and behold, the great Edward Tuft (go look him up if you want) has this page put together about it: \n",
    "- https://www.edwardtufte.com/bboard/q-and-a-fetch-msg?msg_id=0000HT\n",
    "\n",
    "But there's another option. See the 'color\" column in my data is rounded to the nearest 10th so 99=100, 87=9, 72=70 and so on. Instead of trying to find 10 colors that are friendly, maybe it's possible to find 10 distinct shapes instead or maybe I can display the score value with each point."
   ]
  },
  {
   "cell_type": "code",
   "execution_count": 544,
   "id": "vulnerable-advocate",
   "metadata": {},
   "outputs": [
    {
     "data": {
      "application/vnd.plotly.v1+json": {
       "config": {
        "plotlyServerURL": "https://plot.ly"
       },
       "data": [
        {
         "customdata": [
          [
           "Courtesy Shell #4",
           "91%",
           "2241 S IH",
           "2020-12-11T00:00:00"
          ],
          [
           "Little China Restaurant",
           "92%",
           "1921 CEDAR BEND DR",
           "2020-12-22T00:00:00"
          ],
          [
           "PF - Los Amigos Market (Grocery/Produce)",
           "96%",
           "15812 WINDERMERE DR",
           "2020-12-01T00:00:00"
          ],
          [
           "Del Valle ISD Opportunity Center",
           "96%",
           "5301 ROSS RD",
           "2020-12-02T00:00:00"
          ],
          [
           "WL - Randall's #2477-Bakery",
           "99%",
           "3300 BEE CAVES RD",
           "2020-12-07T00:00:00"
          ],
          [
           "Tavern, The",
           "75%",
           "922 W 12TH ST",
           "2020-12-14T00:00:00"
          ],
          [
           "Walgreens #3341",
           "98%",
           "5600 S 1ST ST",
           "2020-12-14T00:00:00"
          ],
          [
           "La Madeleine # 201",
           "92%",
           "9828 GREAT HILLS TRL",
           "2020-12-08T00:00:00"
          ],
          [
           "P F Chang's China Bistro",
           "99%",
           "10114 JOLLYVILLE RD",
           "2020-12-02T00:00:00"
          ],
          [
           "Stepping Stone School",
           "94%",
           "8121 SHOAL CREEK BLVD",
           "2020-12-14T00:00:00"
          ],
          [
           "Cover 2",
           "70%",
           "13701 N US 183 HWY",
           "2020-12-07T00:00:00"
          ],
          [
           "BC - Chick-Fil-A of Lake Travis",
           "94%",
           "3600 S FM 620 RD",
           "2020-12-03T00:00:00"
          ],
          [
           "Willie's Bar-B-Q",
           "78%",
           "4505 E MARTIN LUTHER KING JR BLVD",
           "2020-12-07T00:00:00"
          ],
          [
           "Pretzel Maker",
           "90%",
           "2901 S CAPITAL OF TEXAS HWY",
           "2020-12-09T00:00:00"
          ],
          [
           "Church's Chicken Store No. 386",
           "86%",
           "1945 W WILLIAM CANNON DR",
           "2020-12-16T00:00:00"
          ],
          [
           "St. Paul Lutheran",
           "89%",
           "3501 RED RIVER ST",
           "2020-12-03T00:00:00"
          ],
          [
           "La Mexiquense",
           "94%",
           "850 E RUNDBERG LN",
           "2020-12-22T00:00:00"
          ],
          [
           "Los Comales Taqueria",
           "86%",
           "2136 E 7TH ST",
           "2020-12-14T00:00:00"
          ],
          [
           "Speedy Express",
           "95%",
           "12836 E US 290 HWY",
           "2020-12-03T00:00:00"
          ],
          [
           "Encompass Health Rehabilitation Hospital of Austin",
           "94%",
           "330 W BEN WHITE BLVD",
           "2020-12-11T00:00:00"
          ],
          [
           "Seoul Restaurant",
           "81%",
           "6400 S 1ST ST",
           "2020-12-07T00:00:00"
          ],
          [
           "CVS Pharmacy #6893",
           "98%",
           "3569 FAR WEST BLVD",
           "2020-12-11T00:00:00"
          ],
          [
           "Little Country Diner",
           "93%",
           "22000 W SH",
           "2020-12-15T00:00:00"
          ],
          [
           "PF - Accent Food Services",
           "97%",
           "2913 AW GRIMES BLVD",
           "2020-12-15T00:00:00"
          ],
          [
           "South Austin Beer Garden",
           "93%",
           "10700 MANCHACA RD",
           "2020-12-10T00:00:00"
          ],
          [
           "Oasis Cantina",
           "90%",
           "6550 COMANCHE TRL",
           "2020-12-04T00:00:00"
          ],
          [
           "PF - Freddy's Frozen Custard & Steakburgers",
           "90%",
           "2602 W PECAN ST",
           "2020-12-01T00:00:00"
          ],
          [
           "Thom's Market",
           "97%",
           "1500 SPYGLASS DR",
           "2020-12-11T00:00:00"
          ],
          [
           "EPOCH Coffee",
           "100%",
           "3900 FAR WEST BLVD",
           "2020-12-01T00:00:00"
          ],
          [
           "Tokyo Gardens Catering",
           "100%",
           "6001 W PARMER LN",
           "2020-12-22T00:00:00"
          ],
          [
           "Harmony Science Academy-Pflugerville",
           "100%",
           "1421 W WELLS BRANCH PKWY",
           "2020-12-02T00:00:00"
          ],
          [
           "Freebirds World Burrito",
           "91%",
           "11101 BURNET RD",
           "2020-12-22T00:00:00"
          ],
          [
           "E-Z Stop Groceries & Gas / Conoco",
           "92%",
           "5029 MANOR RD",
           "2020-12-07T00:00:00"
          ],
          [
           "Cava Mezze Grill",
           "90%",
           "10808 DOMAIN DR",
           "2020-12-21T00:00:00"
          ],
          [
           "Austin's Pizza #23",
           "97%",
           "3435 GREYSTONE DR",
           "2020-12-01T00:00:00"
          ],
          [
           "Fogo De Chao Churrascaria",
           "85%",
           "309 E 3RD ST",
           "2020-12-10T00:00:00"
          ],
          [
           "Zilker Elementary",
           "99%",
           "1900 BLUEBONNET LN",
           "2020-12-15T00:00:00"
          ],
          [
           "Pho Tin",
           "70%",
           "2438 W ANDERSON LN",
           "2020-12-08T00:00:00"
          ],
          [
           "PF - HEB Food Store #479 (Grocery)",
           "95%",
           "201 N FM",
           "2020-12-15T00:00:00"
          ],
          [
           "La Pera",
           "97%",
           "502 THOMPSON LN",
           "2020-12-23T00:00:00"
          ],
          [
           "Residence Inn Austin North/Parmer",
           "100%",
           "12401 N LAMAR BLVD",
           "2020-12-22T00:00:00"
          ],
          [
           "Whole Foods Market",
           "93%",
           "901 E 5TH ST",
           "2020-12-17T00:00:00"
          ],
          [
           "Fazoli's Italian Food",
           "90%",
           "13201 N FM 620 RD",
           "2020-12-01T00:00:00"
          ],
          [
           "Snowfox SC8259",
           "98%",
           "1 2",
           "2020-12-16T00:00:00"
          ],
          [
           "John Connally High School",
           "93%",
           "13212 N LAMAR BLVD",
           "2020-12-07T00:00:00"
          ],
          [
           "HEB #20 Retail",
           "99%",
           "6001 W PARMER LN",
           "2020-12-22T00:00:00"
          ],
          [
           "Circle K Store #2704677",
           "80%",
           "1601 E ST ELMO RD",
           "2020-12-11T00:00:00"
          ],
          [
           "Jack in the Box #4850",
           "98%",
           "2517 E SH",
           "2020-12-15T00:00:00"
          ],
          [
           "Generations",
           "93%",
           "8203 SAM RAYBURN DR",
           "2020-12-10T00:00:00"
          ],
          [
           "WL - Randall's Grocery #2477",
           "97%",
           "3300 BEE CAVES RD",
           "2020-12-07T00:00:00"
          ],
          [
           "Double Dave's Pizza",
           "88%",
           "13343 N US 183 HWY",
           "2020-12-08T00:00:00"
          ],
          [
           "Jimmy John's Gourmet Sandwiches",
           "95%",
           "10900 RESEARCH BLVD",
           "2020-12-14T00:00:00"
          ],
          [
           "PF-Moi! Vietnamese Grill",
           "91%",
           "16051 DESSAU RD",
           "2020-12-15T00:00:00"
          ],
          [
           "Kerbey Lane",
           "89%",
           "2606 GUADALUPE ST",
           "2020-12-14T00:00:00"
          ],
          [
           "7-Eleven Convenience Store #36274B",
           "97%",
           "3324 NORTHLAND DR",
           "2020-12-08T00:00:00"
          ],
          [
           "Twin Peaks",
           "93%",
           "701 E STASSNEY LN",
           "2020-12-03T00:00:00"
          ],
          [
           "Taco Bell #030080",
           "91%",
           "3324 W SLAUGHTER LN",
           "2020-12-23T00:00:00"
          ],
          [
           "BC - Barnes & Noble Booksellers",
           "94%",
           "12701 HILL COUNTRY BLVD",
           "2020-12-15T00:00:00"
          ],
          [
           "MN - Golden Beijing",
           "80%",
           "100 E PARSONS ST",
           "2020-12-17T00:00:00"
          ],
          [
           "Nickel City",
           "92%",
           "1133 E 11TH ST",
           "2020-12-16T00:00:00"
          ],
          [
           "Lost Creek Country Club",
           "92%",
           "2612 LOST CREEK BLVD",
           "2020-12-16T00:00:00"
          ],
          [
           "Circle K #2741308",
           "93%",
           "8656 SPICEWOOD SPRINGS RD",
           "2020-12-18T00:00:00"
          ],
          [
           "Miraval Austin (Pool Cafe)",
           "100%",
           "13500 FM 2769 RD",
           "2020-12-17T00:00:00"
          ],
          [
           "Nanami Sushi Bar",
           "75%",
           "9001 BRODIE LN",
           "2020-12-14T00:00:00"
          ],
          [
           "Pollolandia",
           "91%",
           "14905 DESSAU RD",
           "2020-12-11T00:00:00"
          ],
          [
           "Austin Baptist Chapel",
           "94%",
           "908 E CESAR CHAVEZ ST",
           "2020-12-17T00:00:00"
          ],
          [
           "TEJI's Indian Restaurant",
           "54%",
           "2100 GUADALUPE ST",
           "2020-12-16T00:00:00"
          ],
          [
           "Wooldridge Elementary",
           "100%",
           "1412 NORSEMAN TER",
           "2020-12-16T00:00:00"
          ],
          [
           "McDonald's #24993",
           "89%",
           "6010 W PARMER LN",
           "2020-12-09T00:00:00"
          ],
          [
           "PF - Cobal Food Service",
           "90%",
           "2913 A W GRIMES BLVD",
           "2020-12-15T00:00:00"
          ],
          [
           "Pizzeria Casa Nostra",
           "93%",
           "21209 W SH",
           "2020-12-15T00:00:00"
          ],
          [
           "Little Woodrow's",
           "96%",
           "6301 W PARMER LN",
           "2020-12-10T00:00:00"
          ],
          [
           "Smokey Mo's BBQ",
           "80%",
           "6001 W PARMER LN",
           "2020-12-22T00:00:00"
          ],
          [
           "PF - Nothing Bundt Cakes",
           "98%",
           "18616 LIMESTONE COMMERCIAL DR",
           "2020-12-17T00:00:00"
          ],
          [
           "Bombay Walla",
           "86%",
           "8023 BURNET RD",
           "2020-12-03T00:00:00"
          ],
          [
           "Hacienda Arandinas",
           "89%",
           "9001 BRODIE LN",
           "2020-12-15T00:00:00"
          ],
          [
           "Chuy's Bakery",
           "83%",
           "801 E WILLIAM CANNON DR",
           "2020-12-08T00:00:00"
          ],
          [
           "MN - Texas Traditional BBQ",
           "82%",
           "910 N CALDWELL ST",
           "2020-12-04T00:00:00"
          ],
          [
           "LW - Flores Mexican Restaurant",
           "88%",
           "2127 LOHMANS CROSSING RD",
           "2020-12-23T00:00:00"
          ],
          [
           "Wal-Mart Supercenter #1253-Meat/Produce",
           "97%",
           "710 E BEN WHITE BLVD",
           "2020-12-15T00:00:00"
          ],
          [
           "Tiny's Milk & Cookies",
           "92%",
           "1515 W 35TH ST",
           "2020-12-07T00:00:00"
          ],
          [
           "PF - Los Amigos Meat (Kitchen)",
           "92%",
           "15812 WINDERMERE DR",
           "2020-12-01T00:00:00"
          ],
          [
           "NorthEast High School",
           "98%",
           "7104 BERKMAN DR",
           "2020-12-17T00:00:00"
          ],
          [
           "Pacha",
           "88%",
           "4618 BURNET RD",
           "2020-12-22T00:00:00"
          ],
          [
           "Provident Memory Care",
           "96%",
           "11013 SIGNAL HILL DR",
           "2020-12-01T00:00:00"
          ],
          [
           "Target Store T3250 - Starbucks",
           "97%",
           "2021 GUADALUPE ST",
           "2020-12-02T00:00:00"
          ],
          [
           "Circle K #2742420",
           "86%",
           "1405 W WILLIAM CANNON DR",
           "2020-12-01T00:00:00"
          ],
          [
           "Austin Daily Press",
           "93%",
           "3121 S LAMAR BLVD",
           "2020-12-21T00:00:00"
          ],
          [
           "HEB #20 Deli & Bakery",
           "88%",
           "6001 W PARMER LN",
           "2020-12-22T00:00:00"
          ],
          [
           "Parmer Lane Tavern",
           "89%",
           "2121 W PARMER LN",
           "2020-12-23T00:00:00"
          ],
          [
           "Numart",
           "88%",
           "11913 RANCHO ALTO RD",
           "2020-12-03T00:00:00"
          ],
          [
           "OOB Sonic",
           "86%",
           "12453 LAMPLIGHT VILLAGE AVE",
           "2020-12-01T00:00:00"
          ],
          [
           "Wing's N More",
           "74%",
           "1200 W HOWARD LN",
           "2020-12-23T00:00:00"
          ],
          [
           "Cheesecake Factory",
           "93%",
           "10000 RESEARCH BLVD",
           "2020-12-08T00:00:00"
          ],
          [
           "Tender Memories Learning Center",
           "97%",
           "308 W STASSNEY LN",
           "2020-12-02T00:00:00"
          ],
          [
           "Long John Silver's",
           "93%",
           "5600 CAMERON RD",
           "2020-12-16T00:00:00"
          ],
          [
           "Short Stop #2",
           "89%",
           "12784 N US 183 HWY",
           "2020-12-09T00:00:00"
          ],
          [
           "Verdes Grill",
           "94%",
           "16018 HAMILTON POOL RD",
           "2020-12-03T00:00:00"
          ],
          [
           "Food' n More",
           "89%",
           "9400 N IH",
           "2020-12-21T00:00:00"
          ],
          [
           "Donut Crown",
           "92%",
           "2438 W ANDERSON LN",
           "2020-12-17T00:00:00"
          ],
          [
           "PitaLicious",
           "76%",
           "4101 W PARMER LN",
           "2020-12-01T00:00:00"
          ],
          [
           "Tam Deli Cafe",
           "78%",
           "8222 N LAMAR BLVD",
           "2020-12-02T00:00:00"
          ],
          [
           "Chuck E. Cheese's #951",
           "89%",
           "9811 S IH",
           "2020-12-23T00:00:00"
          ],
          [
           "7-Eleven Convenience Store #36563B",
           "79%",
           "11643 RESEARCH BLVD",
           "2020-12-23T00:00:00"
          ],
          [
           "Radio Coffee & Beer",
           "97%",
           "4204 MANCHACA RD",
           "2020-12-11T00:00:00"
          ],
          [
           "Texas French Bread",
           "95%",
           "2900 RIO GRANDE ST",
           "2020-12-14T00:00:00"
          ],
          [
           "Popeye's #323 - Z & H Foods Inc.",
           "91%",
           "9718 MANCHACA RD",
           "2020-12-22T00:00:00"
          ],
          [
           "Jack in the Box #949",
           "90%",
           "9300 S IH",
           "2020-12-23T00:00:00"
          ],
          [
           "Via 313",
           "94%",
           "1802 E 6TH ST",
           "2020-12-17T00:00:00"
          ],
          [
           "Beatniks Market",
           "87%",
           "4415 MANCHACA RD",
           "2020-12-11T00:00:00"
          ],
          [
           "Casa Vallarta Restaurant",
           "72%",
           "6002 BURLESON RD",
           "2020-12-22T00:00:00"
          ],
          [
           "Summermoon Coffee Bar",
           "96%",
           "11601 W US 290 HWY",
           "2020-12-04T00:00:00"
          ],
          [
           "Donut Taco Palace II",
           "89%",
           "1807 W SLAUGHTER LN",
           "2020-12-18T00:00:00"
          ],
          [
           "Kentucky Fried Chicken",
           "74%",
           "13435 N US 183 HWY",
           "2020-12-15T00:00:00"
          ],
          [
           "Jimmy Johns",
           "100%",
           "515 CONGRESS AVE",
           "2020-12-04T00:00:00"
          ],
          [
           "Star Stop 75",
           "98%",
           "5801 N IH",
           "2020-12-04T00:00:00"
          ],
          [
           "Hospice Austin",
           "100%",
           "2820 E MARTIN LUTHER KING JR BLVD",
           "2020-12-16T00:00:00"
          ],
          [
           "Texas Chili Parlor",
           "87%",
           "1409 LAVACA ST",
           "2020-12-01T00:00:00"
          ],
          [
           "O' Henry Jr High",
           "99%",
           "2610 W 10TH ST",
           "2020-12-10T00:00:00"
          ],
          [
           "PF - Iron Fish Sushi and Grill",
           "87%",
           "900 E PECAN ST",
           "2020-12-16T00:00:00"
          ],
          [
           "Starbuck's Coffee#6203",
           "100%",
           "9722 GREAT HILLS TRL",
           "2020-12-08T00:00:00"
          ],
          [
           "Epoch Coffee",
           "92%",
           "2700 W ANDERSON LN",
           "2020-12-11T00:00:00"
          ],
          [
           "Express - O",
           "91%",
           "2228 E CESAR CHAVEZ ST",
           "2020-12-16T00:00:00"
          ],
          [
           "Homer's Bar and Grill",
           "99%",
           "1779 W WELLS BRANCH PKWY",
           "2020-12-16T00:00:00"
          ],
          [
           "Rosedale Market",
           "87%",
           "1309 W 45TH ST",
           "2020-12-22T00:00:00"
          ],
          [
           "Modern Market",
           "95%",
           "3201 BEE CAVES RD",
           "2020-12-07T00:00:00"
          ],
          [
           "Marbridge Foundation-Villa",
           "93%",
           "2504 BLISS SPILLAR RD",
           "2020-12-02T00:00:00"
          ],
          [
           "Peoples Pharmacy",
           "100%",
           "4018 N LAMAR BLVD",
           "2020-12-01T00:00:00"
          ],
          [
           "BC - Walgreens #11272",
           "100%",
           "12200 BEE CAVE PKWY",
           "2020-12-02T00:00:00"
          ],
          [
           "Domino's",
           "94%",
           "5145 N FM 620 RD",
           "2020-12-21T00:00:00"
          ],
          [
           "Shop N Save",
           "88%",
           "2204 WOODLAND AVE",
           "2020-12-01T00:00:00"
          ],
          [
           "Whistle Stop Grocery/La Mexicana",
           "95%",
           "834 E RUNDBERG LN",
           "2020-12-11T00:00:00"
          ],
          [
           "Dollar General Store #12967",
           "91%",
           "6729 MANOR RD",
           "2020-12-04T00:00:00"
          ],
          [
           "Zachary Scott Theatre Center",
           "100%",
           "202 S LAMAR BLVD",
           "2020-12-10T00:00:00"
          ],
          [
           "Rudy's Country Store and BBQ",
           "93%",
           "2451 S CAPITAL OF TEXAS HWY",
           "2020-12-16T00:00:00"
          ],
          [
           "Catfish Parlour",
           "92%",
           "11910 RESEARCH BLVD",
           "2020-12-10T00:00:00"
          ],
          [
           "Domino's",
           "99%",
           "311 W 5TH ST",
           "2020-12-01T00:00:00"
          ],
          [
           "Tutty Frutty",
           "90%",
           "500 W WILLIAM CANNON DR",
           "2020-12-04T00:00:00"
          ],
          [
           "WL - Waterfall Restaurant @ Westlake Surgical",
           "100%",
           "5656 BEE CAVES RD",
           "2020-12-08T00:00:00"
          ],
          [
           "High 5",
           "76%",
           "2700 W ANDERSON LN",
           "2020-12-21T00:00:00"
          ],
          [
           "Bruegger's Bagels",
           "91%",
           "3267 BEE CAVES RD",
           "2020-12-07T00:00:00"
          ],
          [
           "Eureka",
           "96%",
           "200 E 6TH ST",
           "2020-12-08T00:00:00"
          ],
          [
           "Eastside Pies Too!",
           "86%",
           "5312 AIRPORT BLVD",
           "2020-12-17T00:00:00"
          ],
          [
           "Waffle House #1623",
           "95%",
           "7809 E BEN WHITE BLVD",
           "2020-12-18T00:00:00"
          ],
          [
           "Bowie H.S. Culinary Kitchen",
           "97%",
           "4103 W SLAUGHTER LN",
           "2020-12-07T00:00:00"
          ],
          [
           "Signature #2",
           "97%",
           "608 S LAMAR BLVD",
           "2020-12-11T00:00:00"
          ],
          [
           "Accent Food Services - Netspend Airport",
           "99%",
           "5800 AIRPORT BLVD",
           "2020-12-18T00:00:00"
          ],
          [
           "Backyard Bar & Grill",
           "100%",
           "9900 S IH",
           "2020-12-10T00:00:00"
          ],
          [
           "La Michoacana-Austin #3 (Kitchen)",
           "88%",
           "512 W STASSNEY LN",
           "2020-12-10T00:00:00"
          ],
          [
           "Pizza Day",
           "86%",
           "10225 RESEARCH BLVD",
           "2020-12-09T00:00:00"
          ],
          [
           "Burger King #4228",
           "88%",
           "9523 N LAMAR BLVD",
           "2020-12-21T00:00:00"
          ],
          [
           "WL-Trianon Coffee",
           "90%",
           "3654 BEE CAVES RD",
           "2020-12-17T00:00:00"
          ],
          [
           "MN - Panda Express #2516",
           "98%",
           "11808 RING DR",
           "2020-12-09T00:00:00"
          ],
          [
           "BC-Giovanni's Table",
           "93%",
           "11701 FM 2244 RD",
           "2020-12-01T00:00:00"
          ],
          [
           "Flyrite Chicken Inc",
           "80%",
           "6539 BURNET RD",
           "2020-12-07T00:00:00"
          ],
          [
           "HEB Deli #236",
           "96%",
           "1434 W WELLS BRANCH PKWY",
           "2020-12-11T00:00:00"
          ],
          [
           "DH Mini Mart",
           "96%",
           "2911 S 1ST ST",
           "2020-12-15T00:00:00"
          ],
          [
           "BC - Bon Japanese Cuisine",
           "96%",
           "3500 S FM 620 RD",
           "2020-12-15T00:00:00"
          ],
          [
           "Subway #44843",
           "90%",
           "11215 S IH",
           "2020-12-23T00:00:00"
          ],
          [
           "LW - Pao's Mandarin House",
           "88%",
           "2300 LOHMANS SPUR RD",
           "2020-12-18T00:00:00"
          ],
          [
           "Staybridge Hotel",
           "89%",
           "1611 AIRPORT COMMERCE DR",
           "2020-12-17T00:00:00"
          ],
          [
           "PF - Kumar's Austin",
           "73%",
           "15803 WINDERMERE DR",
           "2020-12-17T00:00:00"
          ],
          [
           "Wingstop #188",
           "86%",
           "9616 N LAMAR BLVD",
           "2020-12-18T00:00:00"
          ],
          [
           "Starbucks Coffee #9617",
           "91%",
           "9600 ESCARPMENT BLVD",
           "2020-12-16T00:00:00"
          ],
          [
           "BC- Artemis Mediterranean Grill",
           "89%",
           "4025 S FM 620 RD",
           "2020-12-03T00:00:00"
          ],
          [
           "Summermoon Coffee Bar",
           "91%",
           "8300 N FM 620 RD",
           "2020-12-14T00:00:00"
          ],
          [
           "Crazy Fruits # 2",
           "95%",
           "6100 E RIVERSIDE DR",
           "2020-12-23T00:00:00"
          ],
          [
           "Stepping Stone Child Care",
           "93%",
           "1710 RICHCREEK RD",
           "2020-12-18T00:00:00"
          ],
          [
           "Pho MPH",
           "84%",
           "4616 TRIANGLE AVE",
           "2020-12-22T00:00:00"
          ],
          [
           "Dollar General #16198",
           "97%",
           "13903 FM 812 RD",
           "2020-12-17T00:00:00"
          ],
          [
           "LW - Santa Catarina",
           "79%",
           "1310 S FM 620 RD",
           "2020-12-21T00:00:00"
          ],
          [
           "Paola's Kitchen",
           "95%",
           "1700 W ANDERSON LN",
           "2020-12-21T00:00:00"
          ],
          [
           "2nd Street Market",
           "89%",
           "200 SAN JACINTO BLVD",
           "2020-12-14T00:00:00"
          ],
          [
           "Central Donut",
           "93%",
           "1910 W BRAKER LN",
           "2020-12-21T00:00:00"
          ],
          [
           "DJ's Food & Gas Stop",
           "93%",
           "1135 AIRPORT BLVD",
           "2020-12-11T00:00:00"
          ],
          [
           "Buddy's Mexican Grill",
           "81%",
           "9001 CAMERON RD",
           "2020-12-04T00:00:00"
          ],
          [
           "Walnut Hills Nursing & Rehab",
           "89%",
           "3509 ROGGE LN",
           "2020-12-15T00:00:00"
          ],
          [
           "Food Basket",
           "85%",
           "12503 LAMPLIGHT VILLAGE AVE",
           "2020-12-21T00:00:00"
          ],
          [
           "El Pollo Rico #4",
           "94%",
           "730 W STASSNEY LN",
           "2020-12-03T00:00:00"
          ],
          [
           "Kerbey Lane Cafe",
           "70%",
           "13435 N US 183 HWY",
           "2020-12-15T00:00:00"
          ],
          [
           "Joy East Chinese Buffet",
           "74%",
           "2410 E RIVERSIDE DR",
           "2020-12-01T00:00:00"
          ],
          [
           "Fairfield Inn & Suites Austin North",
           "96%",
           "12536 N IH",
           "2020-12-22T00:00:00"
          ],
          [
           "Old School Liquor & Market",
           "99%",
           "1901 W WILLIAM CANNON DR",
           "2020-12-09T00:00:00"
          ],
          [
           "Teji's Indian Restaurant",
           "92%",
           "8023 BURNET RD",
           "2020-12-03T00:00:00"
          ],
          [
           "RBM Food Mart",
           "87%",
           "2601 MANOR RD",
           "2020-12-07T00:00:00"
          ],
          [
           "7-Eleven Convenience Store # 24909B",
           "78%",
           "8010 BRODIE LN",
           "2020-12-16T00:00:00"
          ],
          [
           "HEB #236",
           "100%",
           "1434 W WELLS BRANCH PKWY",
           "2020-12-11T00:00:00"
          ],
          [
           "Popeye's #318 - Z & H Foods Inc",
           "95%",
           "9815 N LAMAR BLVD",
           "2020-12-03T00:00:00"
          ],
          [
           "Foodie's Corner 2",
           "96%",
           "2400 RIO GRANDE ST",
           "2020-12-15T00:00:00"
          ],
          [
           "Gold's Gym Austin Downtown",
           "98%",
           "115 E 6TH ST",
           "2020-12-14T00:00:00"
          ],
          [
           "7-Eleven Convenience Store #36592A",
           "91%",
           "12000 N MOPAC EXPY",
           "2020-12-23T00:00:00"
          ],
          [
           "Siena Restaurant at Bull Creek",
           "91%",
           "6203 N CAPITAL OF TEXAS HWY",
           "2020-12-15T00:00:00"
          ],
          [
           "WL - Chick-Fil-A",
           "98%",
           "701 S CAPITAL OF TEXAS HWY",
           "2020-12-08T00:00:00"
          ],
          [
           "Clay Pit Contemporary Indian Restaurant",
           "88%",
           "1601 GUADALUPE ST",
           "2020-12-02T00:00:00"
          ],
          [
           "San Francisco Bakery Cafe",
           "89%",
           "2900 W ANDERSON LN",
           "2020-12-18T00:00:00"
          ],
          [
           "Antonelli's Cheese Shop",
           "95%",
           "500 PARK BLVD",
           "2020-12-07T00:00:00"
          ],
          [
           "Stop N Tote",
           "80%",
           "2715 E 5TH ST",
           "2020-12-15T00:00:00"
          ],
          [
           "Circle K #2740080",
           "88%",
           "3909 GUADALUPE ST",
           "2020-12-07T00:00:00"
          ],
          [
           "Little Rascals Day Care",
           "89%",
           "1006 E YAGER LN",
           "2020-12-15T00:00:00"
          ],
          [
           "Wheatsville Food Co-Op - Deli",
           "91%",
           "4001 S LAMAR BLVD",
           "2020-12-14T00:00:00"
          ],
          [
           "Jiffy Sak",
           "95%",
           "6105 TECHNI CENTER DR",
           "2020-12-08T00:00:00"
          ],
          [
           "EPIC POKE",
           "93%",
           "6448 E US",
           "2020-12-03T00:00:00"
          ],
          [
           "Omelettry, The",
           "89%",
           "4631 AIRPORT BLVD",
           "2020-12-22T00:00:00"
          ],
          [
           "LW - Orange Leaf",
           "95%",
           "2011 MAIN ST",
           "2020-12-07T00:00:00"
          ],
          [
           "Westminster Manor AL & Arbour Dining Services",
           "92%",
           "4200 JACKSON AVE",
           "2020-12-01T00:00:00"
          ],
          [
           "Rositas Al Pastor",
           "86%",
           "1911 E RIVERSIDE DR",
           "2020-12-16T00:00:00"
          ],
          [
           "Short Stop",
           "83%",
           "6603 BERKMAN DR",
           "2020-12-01T00:00:00"
          ],
          [
           "Lala's",
           "86%",
           "2207 JUSTIN LN",
           "2020-12-21T00:00:00"
          ],
          [
           "KIPP Austin Public Schools",
           "96%",
           "8509 FM 969 RD",
           "2020-12-04T00:00:00"
          ],
          [
           "Amy's Ice Cream",
           "95%",
           "10000 RESEARCH BLVD",
           "2020-12-21T00:00:00"
          ],
          [
           "Ravenscroft Market",
           "87%",
           "11200 MANCHACA RD",
           "2020-12-03T00:00:00"
          ],
          [
           "Nordstrom Ebar",
           "98%",
           "3111 PALM WAY",
           "2020-12-21T00:00:00"
          ],
          [
           "Best Western Plus, Austin Airport",
           "92%",
           "1805 AIRPORT COMMERCE DR",
           "2020-12-17T00:00:00"
          ],
          [
           "Star Papa",
           "98%",
           "11601 W US 290 HWY",
           "2020-12-04T00:00:00"
          ],
          [
           "YMOK DayCare Austin LLC",
           "100%",
           "510 CLARKE ST",
           "2020-12-02T00:00:00"
          ],
          [
           "Thundercloud Subs",
           "91%",
           "3204 GUADALUPE ST",
           "2020-12-14T00:00:00"
          ],
          [
           "Little Caesar's Pizza",
           "87%",
           "4410 E RIVERSIDE DR",
           "2020-12-11T00:00:00"
          ],
          [
           "Nana's Playhouse Learning Center",
           "96%",
           "4406 RUSSELL DR",
           "2020-12-04T00:00:00"
          ],
          [
           "ATX Food Mart",
           "98%",
           "3002 S CONGRESS AVE",
           "2020-12-14T00:00:00"
          ],
          [
           "PF - Children's Courtyard, The",
           "99%",
           "1308 PICADILLY DR",
           "2020-12-21T00:00:00"
          ],
          [
           "Walnut Creek School",
           "96%",
           "401 W BRAKER LN",
           "2020-12-08T00:00:00"
          ],
          [
           "Cuvee Coffee",
           "98%",
           "2000 E 6TH ST",
           "2020-12-11T00:00:00"
          ],
          [
           "Ruby Thai Kitchen",
           "80%",
           "2901 S CAPITAL OF TEXAS HWY",
           "2020-12-09T00:00:00"
          ],
          [
           "Chow Town Foods",
           "100%",
           "14735 BRATTON LN",
           "2020-12-16T00:00:00"
          ],
          [
           "Cafe Regents",
           "90%",
           "3230 TRAVIS COUNTRY CIR",
           "2020-12-16T00:00:00"
          ],
          [
           "Chili's Grill & Bar",
           "84%",
           "701 E STASSNEY LN",
           "2020-12-17T00:00:00"
          ],
          [
           "Teapioca Arboretum",
           "86%",
           "10000 RESEARCH BLVD",
           "2020-12-14T00:00:00"
          ],
          [
           "PF - La Patisserie by Oven - Fresh Delights",
           "98%",
           "2604 W PECAN ST",
           "2020-12-01T00:00:00"
          ],
          [
           "Stop N Start",
           "88%",
           "6010 W PARMER LN",
           "2020-12-08T00:00:00"
          ],
          [
           "PF - Shogun Japanese Grill & Sushi Bar",
           "75%",
           "18816 LIMESTONE COMMERCIAL DR",
           "2020-12-15T00:00:00"
          ],
          [
           "Texan Market No. 7, The",
           "86%",
           "4205 MANCHACA RD",
           "2020-12-23T00:00:00"
          ],
          [
           "House Wine",
           "89%",
           "408 JOSEPHINE ST",
           "2020-12-21T00:00:00"
          ],
          [
           "Spokesman",
           "97%",
           "440 E ST ELMO RD",
           "2020-12-10T00:00:00"
          ],
          [
           "Hudson's Hill Country",
           "93%",
           "3509 N FM 620 RD",
           "2020-12-22T00:00:00"
          ],
          [
           "Subway #43067",
           "97%",
           "1910 W BRAKER LN",
           "2020-12-21T00:00:00"
          ],
          [
           "Nothing Bundt Cakes - South Austin",
           "97%",
           "9600 S IH",
           "2020-12-04T00:00:00"
          ],
          [
           "Growing Imaginations L.C.",
           "100%",
           "5410 S 1ST ST",
           "2020-12-07T00:00:00"
          ],
          [
           "Village @ Marbridge",
           "100%",
           "2310 BLISS SPILLAR RD",
           "2020-12-02T00:00:00"
          ],
          [
           "Intel ANA Cafe",
           "97%",
           "1300 S MOPAC EXPY",
           "2020-12-10T00:00:00"
          ],
          [
           "Muro's Pizza",
           "98%",
           "6301 W PARMER LN",
           "2020-12-10T00:00:00"
          ],
          [
           "Tiff's Treats",
           "80%",
           "11011 RESEARCH BLVD",
           "2020-12-02T00:00:00"
          ],
          [
           "Children's Courtyard",
           "98%",
           "4213 SPICEWOOD SPRINGS RD",
           "2020-12-16T00:00:00"
          ],
          [
           "Heritage Park Rehabilitation and Skilled Nursing Center",
           "95%",
           "2806 REAL ST",
           "2020-12-04T00:00:00"
          ],
          [
           "Terry's Seafood",
           "86%",
           "1805 AIRPORT BLVD",
           "2020-12-08T00:00:00"
          ],
          [
           "Batch Craft Beer & Kolaches",
           "91%",
           "3220 MANOR RD",
           "2020-12-11T00:00:00"
          ],
          [
           "The Liberty",
           "100%",
           "1618 1 2 E 6TH ST",
           "2020-12-12T00:00:00"
          ],
          [
           "Wendy's Old Fashioned Hamburgers #113",
           "80%",
           "6210 E BEN WHITE BLVD",
           "2020-12-18T00:00:00"
          ],
          [
           "WL - Tacodeli V, L.L.C.",
           "92%",
           "701 S CAPITAL OF TEXAS HWY",
           "2020-12-18T00:00:00"
          ],
          [
           "Challenger School Elementary",
           "94%",
           "15101 AVERY RANCH BLVD",
           "2020-12-07T00:00:00"
          ],
          [
           "Kinder Care Learning Center",
           "95%",
           "6434 S CONGRESS AVE",
           "2020-12-11T00:00:00"
          ],
          [
           "Pizza Paradise",
           "88%",
           "1921 CEDAR BEND DR",
           "2020-12-23T00:00:00"
          ],
          [
           "Lamar C Store",
           "83%",
           "6301 N LAMAR BLVD",
           "2020-12-07T00:00:00"
          ],
          [
           "McDonald's # 12430",
           "91%",
           "5762 N MOPAC EXPY",
           "2020-12-14T00:00:00"
          ],
          [
           "Pho Noodle House, The",
           "73%",
           "609 CLAYTON LN",
           "2020-12-16T00:00:00"
          ],
          [
           "Circle K #2741301",
           "92%",
           "1310 W HOWARD LN",
           "2020-12-22T00:00:00"
          ],
          [
           "Chick-fil-A",
           "99%",
           "503 W MARTIN LUTHER KING JR BLVD",
           "2020-12-18T00:00:00"
          ],
          [
           "BC - Rosie's Tamale House",
           "80%",
           "13436 W SH",
           "2020-12-02T00:00:00"
          ],
          [
           "MN - Shipley Donuts",
           "83%",
           "11300 E US 290 HWY",
           "2020-12-04T00:00:00"
          ],
          [
           "Insomnia Cookies",
           "96%",
           "2323 SAN ANTONIO ST",
           "2020-12-02T00:00:00"
          ],
          [
           "Miraval Resort & Spa",
           "89%",
           "13500 FM 2769 RD",
           "2020-12-17T00:00:00"
          ],
          [
           "LeRoy and Lewis BBQ",
           "93%",
           "630 RALPH ABLANEDO DR",
           "2020-12-17T00:00:00"
          ],
          [
           "Paper Route Bakery",
           "100%",
           "1010 E CESAR CHAVEZ ST",
           "2020-12-21T00:00:00"
          ],
          [
           "Asahi Imports",
           "85%",
           "6105 BURNET RD",
           "2020-12-11T00:00:00"
          ],
          [
           "Danelia Rogel Fruit Cup Shop LLC",
           "72%",
           "704 E ST JOHNS AVE",
           "2020-12-09T00:00:00"
          ],
          [
           "Whataburger #481",
           "100%",
           "11135 N IH",
           "2020-12-18T00:00:00"
          ],
          [
           "Paperboy",
           "92%",
           "1203 E 11TH ST",
           "2020-12-21T00:00:00"
          ],
          [
           "Jaime D. Padron Elementary",
           "100%",
           "2011 W RUNDBERG LN",
           "2020-12-16T00:00:00"
          ],
          [
           "IHOP",
           "98%",
           "11654 RESEARCH BLVD",
           "2020-12-02T00:00:00"
          ],
          [
           "Dairy Queen",
           "95%",
           "13301 N US 183 HWY",
           "2020-12-08T00:00:00"
          ],
          [
           "Whataburger",
           "99%",
           "2800 GUADALUPE ST",
           "2020-12-22T00:00:00"
          ],
          [
           "LW- HEB 714",
           "90%",
           "2000 S FM 620 RD",
           "2020-12-21T00:00:00"
          ],
          [
           "Daily Food Store",
           "92%",
           "1071 SPRINGDALE RD",
           "2020-12-14T00:00:00"
          ],
          [
           "Tienda Mexicana",
           "92%",
           "825 E RUNDBERG LN",
           "2020-12-11T00:00:00"
          ],
          [
           "Gong Cha",
           "83%",
           "13201 N FM 620 RD",
           "2020-12-01T00:00:00"
          ],
          [
           "Betos #2  Mexican Restaurant",
           "70%",
           "3306 OAK SPRINGS DR",
           "2020-12-11T00:00:00"
          ],
          [
           "Tokyo Gardens Catering",
           "100%",
           "1434 W WELLS BRANCH PKWY",
           "2020-12-11T00:00:00"
          ],
          [
           "Food Basket #7",
           "88%",
           "2015 W PARMER LN",
           "2020-12-22T00:00:00"
          ],
          [
           "Brookdale Beckett Meadows",
           "78%",
           "7709 BECKETT RD",
           "2020-12-16T00:00:00"
          ],
          [
           "Boston Market #1981",
           "80%",
           "4607 W BRAKER LN",
           "2020-12-16T00:00:00"
          ],
          [
           "Omni Barton Creek",
           "90%",
           "8501 CARRANZO DR",
           "2020-12-10T00:00:00"
          ],
          [
           "Las Lomas Mexican Restaurant",
           "73%",
           "730 W STASSNEY LN",
           "2020-12-16T00:00:00"
          ],
          [
           "H & C Food Service",
           "79%",
           "1914 GUADALUPE ST",
           "2020-12-07T00:00:00"
          ],
          [
           "BC - Spec's Wine, Spirits & Finer Foods",
           "100%",
           "13015 SHOPS PKWY",
           "2020-12-03T00:00:00"
          ],
          [
           "Austin Eastciders Barton Springs",
           "89%",
           "1530 BARTON SPRINGS RD",
           "2020-12-03T00:00:00"
          ],
          [
           "Pappadeaux Seafood Kitchen #3",
           "94%",
           "6319 N IH",
           "2020-12-11T00:00:00"
          ],
          [
           "Galaxy Cafe",
           "97%",
           "1000 WEST LYNN ST",
           "2020-12-07T00:00:00"
          ],
          [
           "Bread Basket",
           "81%",
           "2213 JUSTIN LN",
           "2020-12-04T00:00:00"
          ],
          [
           "MOD Superfast Pizza",
           "97%",
           "1920 E RIVERSIDE DR",
           "2020-12-22T00:00:00"
          ],
          [
           "Whataburger",
           "99%",
           "1616 E OLTORF ST",
           "2020-12-04T00:00:00"
          ],
          [
           "Pillow Elementary",
           "99%",
           "3025 CROSSCREEK DR",
           "2020-12-16T00:00:00"
          ],
          [
           "7 Eleven # 36610A",
           "89%",
           "2616 W BRAKER LN",
           "2020-12-21T00:00:00"
          ],
          [
           "Bungalow",
           "100%",
           "92 RAINEY ST",
           "2020-12-05T00:00:00"
          ],
          [
           "Einstein Bros Bagels #3111",
           "92%",
           "3010 W ANDERSON LN",
           "2020-12-08T00:00:00"
          ],
          [
           "House of Little Angels",
           "96%",
           "735 TURTLE CREEK BLVD",
           "2020-12-04T00:00:00"
          ],
          [
           "MN - Dollar General #6946",
           "86%",
           "12750 LAPOYNOR ST",
           "2020-12-09T00:00:00"
          ],
          [
           "Ben White Shell",
           "83%",
           "2125 W BEN WHITE BLVD",
           "2020-12-23T00:00:00"
          ],
          [
           "Mathews Elementary School",
           "100%",
           "906 WEST LYNN ST",
           "2020-12-10T00:00:00"
          ],
          [
           "TLC",
           "90%",
           "1100 S LAMAR BLVD",
           "2020-12-03T00:00:00"
          ],
          [
           "Randalls 2480 Bakery",
           "96%",
           "6600 S MOPAC EXPY",
           "2020-12-22T00:00:00"
          ],
          [
           "Clifton Center",
           "97%",
           "1519 CORONADO HILLS DR",
           "2020-12-11T00:00:00"
          ],
          [
           "Southside Flying Pizza - Arcade and Grill",
           "85%",
           "11600 MANCHACA RD",
           "2020-12-21T00:00:00"
          ],
          [
           "Gonzalo Garza Independence H S",
           "96%",
           "1600 CHICON ST",
           "2020-12-16T00:00:00"
          ],
          [
           "Whataburger #1022",
           "94%",
           "8300 N FM 620 RD",
           "2020-12-14T00:00:00"
          ],
          [
           "Vaquero Taquero",
           "90%",
           "104 E 31ST ST",
           "2020-12-08T00:00:00"
          ],
          [
           "BC - Falconhead Golf Club",
           "95%",
           "15201 FALCON HEAD BLVD",
           "2020-12-02T00:00:00"
          ],
          [
           "Popeye's #325 - Z & H Foods Inc.",
           "90%",
           "2320 E RIVERSIDE DR",
           "2020-12-22T00:00:00"
          ],
          [
           "Aviator Pizza & Drafthouse",
           "90%",
           "4005 W PARMER LN",
           "2020-12-01T00:00:00"
          ],
          [
           "OOB - Sonic Drive In",
           "71%",
           "6816 MC NEIL DR",
           "2020-12-08T00:00:00"
          ],
          [
           "Target Store T2288 -Grocery",
           "96%",
           "9500 S IH",
           "2020-12-07T00:00:00"
          ],
          [
           "Marbridge Found-Senior Dorm",
           "94%",
           "2310 BLISS SPILLAR RD",
           "2020-12-02T00:00:00"
          ],
          [
           "MN - Wendy's",
           "97%",
           "11808 RING DR",
           "2020-12-09T00:00:00"
          ],
          [
           "Westminster Manor",
           "86%",
           "4100 JACKSON AVE",
           "2020-12-01T00:00:00"
          ],
          [
           "Canteen @ Corning Optical Communications",
           "100%",
           "8201 N FM 620 RD",
           "2020-12-14T00:00:00"
          ],
          [
           "PF - Papa John's #1127",
           "90%",
           "900 E PECAN",
           "2020-12-17T00:00:00"
          ],
          [
           "Sonic Drive-In, Austin, North Lamar, LP",
           "93%",
           "9325 N LAMAR BLVD",
           "2020-12-17T00:00:00"
          ],
          [
           "People's Pharmacy",
           "93%",
           "4201 WESTBANK DR",
           "2020-12-08T00:00:00"
          ],
          [
           "Pizza Press, The",
           "87%",
           "404 W 26TH ST",
           "2020-12-15T00:00:00"
          ],
          [
           "Randall's #2480-Retail",
           "93%",
           "6600 S MOPAC EXPY",
           "2020-12-22T00:00:00"
          ],
          [
           "Bee Grocery, The",
           "88%",
           "1001 E 6TH ST",
           "2020-12-23T00:00:00"
          ],
          [
           "KIPP Austin Arts & Letters",
           "98%",
           "8509 FM 969 RD",
           "2020-12-04T00:00:00"
          ],
          [
           "Central District Brewing",
           "96%",
           "417 RED RIVER ST",
           "2020-12-07T00:00:00"
          ],
          [
           "BC - All Star Burger",
           "88%",
           "12921 HILL COUNTRY BLVD",
           "2020-12-03T00:00:00"
          ],
          [
           "Rudy's Country Store & BBQ",
           "96%",
           "3914 N LAMAR BLVD",
           "2020-12-09T00:00:00"
          ],
          [
           "Challenger School",
           "100%",
           "13015 POND SPRINGS RD",
           "2020-12-08T00:00:00"
          ],
          [
           "Little Caesars Pizza",
           "95%",
           "2601 E 7TH ST",
           "2020-12-16T00:00:00"
          ],
          [
           "MN-Country Boyz Fixins",
           "88%",
           "101 N LEXINGTON ST",
           "2020-12-04T00:00:00"
          ],
          [
           "League, The",
           "80%",
           "10526 W PARMER LN",
           "2020-12-21T00:00:00"
          ],
          [
           "Shipley's Donuts",
           "94%",
           "1045 NORWOOD PARK BLVD",
           "2020-12-10T00:00:00"
          ],
          [
           "Austin Catering",
           "97%",
           "2700 W ANDERSON LN",
           "2020-12-10T00:00:00"
          ],
          [
           "Big Easy Bar and Grill",
           "92%",
           "1806 E 12TH ST",
           "2020-12-02T00:00:00"
          ],
          [
           "Smoothie King",
           "97%",
           "4301 W WILLIAM CANNON DR",
           "2020-12-04T00:00:00"
          ],
          [
           "Rusty Cannon Pub",
           "79%",
           "730 W STASSNEY LN",
           "2020-12-18T00:00:00"
          ],
          [
           "Magellan International School, The",
           "100%",
           "7130 CHIMNEY CORNERS",
           "2020-12-01T00:00:00"
          ],
          [
           "Barnison Catering",
           "100%",
           "2614 EXPOSITION BLVD",
           "2020-12-03T00:00:00"
          ],
          [
           "Twin Liquors #44",
           "97%",
           "4001 S LAMAR BLVD",
           "2020-12-23T00:00:00"
          ],
          [
           "Wal-Mart Supercenter Deli/Bakery #5317",
           "97%",
           "9300 S IH",
           "2020-12-21T00:00:00"
          ],
          [
           "7-Eleven Convenience Store #36263B",
           "91%",
           "3801 W PARMER LN",
           "2020-12-23T00:00:00"
          ],
          [
           "Walgreen #4458",
           "98%",
           "3601 W WILLIAM CANNON DR",
           "2020-12-22T00:00:00"
          ],
          [
           "Fresh Plus",
           "83%",
           "2401 SAN GABRIEL ST",
           "2020-12-22T00:00:00"
          ],
          [
           "Erica Nelson Brown Catering",
           "100%",
           "12800 GALLERIA CIR",
           "2020-12-07T00:00:00"
          ],
          [
           "LW - Jason's Deli",
           "89%",
           "1504 S FM 620 RD",
           "2020-12-02T00:00:00"
          ],
          [
           "Tortilleria Rio Grande",
           "80%",
           "500 W WILLIAM CANNON DR",
           "2020-12-18T00:00:00"
          ],
          [
           "Foodheads",
           "92%",
           "616 W 34TH ST",
           "2020-12-17T00:00:00"
          ],
          [
           "Lamppost Coffee",
           "94%",
           "515 CONGRESS AVE",
           "2020-12-04T00:00:00"
          ],
          [
           "Susy's Child Care",
           "87%",
           "308 W WILLIAM CANNON DR",
           "2020-12-04T00:00:00"
          ],
          [
           "LW - Lakeway Market",
           "80%",
           "2114 LAKEWAY BLVD",
           "2020-12-02T00:00:00"
          ],
          [
           "Home 2 Suites by Hilton",
           "96%",
           "1705 AIRPORT COMMERCE DR",
           "2020-12-17T00:00:00"
          ],
          [
           "Upper Crust Bakery",
           "90%",
           "4508 BURNET RD",
           "2020-12-18T00:00:00"
          ],
          [
           "Star Stop 74",
           "96%",
           "2819 GUADALUPE ST",
           "2020-12-03T00:00:00"
          ],
          [
           "LW - Sakura Sushi & Bar",
           "70%",
           "1945 MEDICAL DR",
           "2020-12-21T00:00:00"
          ],
          [
           "Staybridge Suites Austin South Interstate 35",
           "97%",
           "901 LITTLE TEXAS LN",
           "2020-12-10T00:00:00"
          ],
          [
           "Respite Recovery",
           "95%",
           "403 E 15TH ST",
           "2020-12-03T00:00:00"
          ],
          [
           "Lavallarta Restaurant",
           "88%",
           "6628 S CONGRESS AVE",
           "2020-12-07T00:00:00"
          ],
          [
           "P F Chang's To Go - Mix on Burnet",
           "96%",
           "8023 BURNET RD",
           "2020-12-22T00:00:00"
          ],
          [
           "Alternative Learning Center School",
           "99%",
           "4900 GONZALES ST",
           "2020-12-07T00:00:00"
          ],
          [
           "Paleface Grocery",
           "89%",
           "23526 W SH",
           "2020-12-07T00:00:00"
          ],
          [
           "Graceland Grocery",
           "97%",
           "8600 W US 290 HWY",
           "2020-12-08T00:00:00"
          ],
          [
           "Casa Linda Taqueria",
           "94%",
           "623 W DITTMAR RD",
           "2020-12-10T00:00:00"
          ],
          [
           "Jimmy John's Gourmet Sandwiches",
           "97%",
           "13429 N US 183 HWY",
           "2020-12-10T00:00:00"
          ],
          [
           "Children's Courtyard",
           "90%",
           "11718 METRIC BLVD",
           "2020-12-22T00:00:00"
          ],
          [
           "Sun Ray Waters",
           "98%",
           "7801 N LAMAR BLVD",
           "2020-12-21T00:00:00"
          ],
          [
           "7-Eleven #36562H",
           "90%",
           "6422 S US 183 HWY",
           "2020-12-17T00:00:00"
          ],
          [
           "Amy's Ice Cream",
           "94%",
           "3500 GUADALUPE ST",
           "2020-12-07T00:00:00"
          ],
          [
           "Church's Chicken Store No. 765",
           "87%",
           "8545 RESEARCH BLVD",
           "2020-12-11T00:00:00"
          ],
          [
           "Taco Bell #030157",
           "96%",
           "1016 E ANDERSON LN",
           "2020-12-10T00:00:00"
          ],
          [
           "Lamar Middle School",
           "99%",
           "6201 WYNONA AVE",
           "2020-12-04T00:00:00"
          ],
          [
           "Fast Food Store",
           "81%",
           "4611 E MARTIN LUTHER KING JR BLVD",
           "2020-12-21T00:00:00"
          ],
          [
           "MTM Indian Foods",
           "90%",
           "9225 W PARMER LN",
           "2020-12-21T00:00:00"
          ],
          [
           "PF - HEB Food Store #479 (Bakery)",
           "97%",
           "201 N FM",
           "2020-12-15T00:00:00"
          ],
          [
           "Subway",
           "90%",
           "6001 W PARMER LN",
           "2020-12-22T00:00:00"
          ],
          [
           "China Steakhouse",
           "96%",
           "15511 W SH",
           "2020-12-14T00:00:00"
          ],
          [
           "Bricker Food and Beverage",
           "98%",
           "630 RALPH ABLANEDO DR",
           "2020-12-17T00:00:00"
          ],
          [
           "Taco Shack",
           "93%",
           "2825 GUADALUPE ST",
           "2020-12-08T00:00:00"
          ],
          [
           "Chipotle Mexican Grill #3328",
           "99%",
           "1109 E 5TH ST",
           "2020-12-11T00:00:00"
          ],
          [
           "Royal Blue Grocery",
           "96%",
           "301 BRAZOS ST",
           "2020-12-08T00:00:00"
          ],
          [
           "Whataburger #132",
           "96%",
           "9516 N LAMAR BLVD",
           "2020-12-23T00:00:00"
          ],
          [
           "BC-Hill Country Indoor",
           "96%",
           "13875 BEE CAVE PKWY",
           "2020-12-04T00:00:00"
          ],
          [
           "District",
           "71%",
           "5900 W SLAUGHTER LN",
           "2020-12-11T00:00:00"
          ],
          [
           "Stepping Stone School",
           "77%",
           "6616 MC NEIL DR",
           "2020-12-01T00:00:00"
          ],
          [
           "Little Darlin', The",
           "80%",
           "6507 CIRCLE S RD",
           "2020-12-17T00:00:00"
          ],
          [
           "Las Mangonadas",
           "91%",
           "1144 AIRPORT BLVD",
           "2020-12-21T00:00:00"
          ],
          [
           "Madam Mam",
           "92%",
           "510 W 26TH ST",
           "2020-12-17T00:00:00"
          ],
          [
           "LW - Little Sunshine's Playhouse & Preschool",
           "98%",
           "1501 LOHMANS CROSSING RD",
           "2020-12-23T00:00:00"
          ],
          [
           "Mariana's Kitchen",
           "90%",
           "5510 S IH",
           "2020-12-16T00:00:00"
          ],
          [
           "Pizza Hut",
           "87%",
           "8500 N LAMAR BLVD",
           "2020-12-04T00:00:00"
          ],
          [
           "BC - CVS/ Pharmacy # 8925",
           "98%",
           "14057 BEE CAVE PKWY",
           "2020-12-03T00:00:00"
          ],
          [
           "Fujiyama",
           "97%",
           "4815 W BRAKER LN",
           "2020-12-15T00:00:00"
          ],
          [
           "Braker Food Mart",
           "87%",
           "11300 N IH",
           "2020-12-09T00:00:00"
          ],
          [
           "Subway 66727",
           "94%",
           "8906 BRODIE LN",
           "2020-12-15T00:00:00"
          ],
          [
           "La Quinta Inn #0522",
           "94%",
           "1603 E OLTORF ST",
           "2020-12-18T00:00:00"
          ],
          [
           "Las Delicias Meat Market-Kitchen",
           "75%",
           "111 W WILLIAM CANNON DR",
           "2020-12-07T00:00:00"
          ],
          [
           "Shipley Donuts",
           "88%",
           "2113 W ANDERSON LN",
           "2020-12-15T00:00:00"
          ],
          [
           "MN - Taqueria La Parrillita",
           "98%",
           "10400 E US 290 HWY",
           "2020-12-17T00:00:00"
          ],
          [
           "Lone Star Kolaches",
           "83%",
           "1701 W PARMER LN",
           "2020-12-21T00:00:00"
          ],
          [
           "Austin's Moontower Saloon",
           "100%",
           "10212 MANCHACA RD",
           "2020-12-22T00:00:00"
          ],
          [
           "Austin's Pizza #7",
           "92%",
           "10900 RESEARCH BLVD",
           "2020-12-17T00:00:00"
          ],
          [
           "Four Brothers",
           "93%",
           "2901 S CAPITAL OF TEXAS HWY",
           "2020-12-09T00:00:00"
          ],
          [
           "PF - Eden Cafe",
           "76%",
           "15803 WINDERMERE DR",
           "2020-12-01T00:00:00"
          ],
          [
           "PF - HEB Food Store #479 (Deli)",
           "95%",
           "201 N FM",
           "2020-12-15T00:00:00"
          ],
          [
           "LW - Sandeez Hamburger Hut",
           "86%",
           "113 N FM 620 RD",
           "2020-12-03T00:00:00"
          ],
          [
           "Barton Hills Elementary",
           "98%",
           "2108 BARTON HILLS DR",
           "2020-12-15T00:00:00"
          ],
          [
           "Abacus School of Austin",
           "91%",
           "14115 AVERY RANCH BLVD",
           "2020-12-10T00:00:00"
          ],
          [
           "Escarpment Exxon",
           "93%",
           "6109 W WILLIAM CANNON DR",
           "2020-12-01T00:00:00"
          ],
          [
           "Wal-Mart Supercenter #1253",
           "99%",
           "710 E BEN WHITE BLVD",
           "2020-12-15T00:00:00"
          ],
          [
           "Eskimo Hut Beer-Wine-Frozen Daquiris to Go",
           "100%",
           "1045 NORWOOD PARK BLVD",
           "2020-12-10T00:00:00"
          ],
          [
           "Hunan Ranch",
           "80%",
           "14900 AVERY RANCH BLVD",
           "2020-12-07T00:00:00"
          ],
          [
           "Cedar Creek Elem. School",
           "98%",
           "3301 PINNACLE RD",
           "2020-12-16T00:00:00"
          ],
          [
           "Nueces Mart",
           "95%",
           "2700 NUECES ST",
           "2020-12-15T00:00:00"
          ],
          [
           "Hardin House",
           "94%",
           "2206 RIO GRANDE ST",
           "2020-12-07T00:00:00"
          ],
          [
           "Austin Montessori School, Inc",
           "99%",
           "6819 GREAT NORTHERN BLVD",
           "2020-12-17T00:00:00"
          ],
          [
           "El Tacorrido",
           "92%",
           "5811 BERKMAN DR",
           "2020-12-18T00:00:00"
          ],
          [
           "BC - Sonesta Bee Cave",
           "90%",
           "12525 BEE CAVE PKWY",
           "2020-12-15T00:00:00"
          ],
          [
           "7-Eleven Convenience Store #36680A",
           "91%",
           "3848 AIRPORT BLVD",
           "2020-12-18T00:00:00"
          ],
          [
           "La Michoacana Meat Market",
           "89%",
           "9811 N IH",
           "2020-12-09T00:00:00"
          ],
          [
           "Julie Myrtille Bakery",
           "88%",
           "1023 SPRINGDALE RD",
           "2020-12-02T00:00:00"
          ],
          [
           "Twin Lion Chinese Restaurant",
           "92%",
           "4815 W BRAKER LN",
           "2020-12-02T00:00:00"
          ],
          [
           "Bridgepoint Elem School",
           "96%",
           "6401 CEDAR ST",
           "2020-12-16T00:00:00"
          ],
          [
           "Courtesy Shell #2",
           "90%",
           "3906 S CONGRESS AVE",
           "2020-12-14T00:00:00"
          ],
          [
           "Austin Diner",
           "82%",
           "5222 BURNET RD",
           "2020-12-03T00:00:00"
          ],
          [
           "Galindo Elementary",
           "98%",
           "3800 S 2ND ST",
           "2020-12-15T00:00:00"
          ],
          [
           "Pi Beta Phi Sorority",
           "93%",
           "2300 SAN ANTONIO ST",
           "2020-12-14T00:00:00"
          ],
          [
           "Omni Austin",
           "94%",
           "701 BRAZOS ST",
           "2020-12-15T00:00:00"
          ],
          [
           "Snack Max",
           "85%",
           "5630 N LAMAR BLVD",
           "2020-12-17T00:00:00"
          ],
          [
           "Jack in the Box #907",
           "88%",
           "1151 AIRPORT BLVD",
           "2020-12-18T00:00:00"
          ],
          [
           "The Gossip Shack 2",
           "89%",
           "1615 GRAND AVENUE PKWY",
           "2020-12-01T00:00:00"
          ],
          [
           "HEB #236",
           "98%",
           "1434 W WELLS BRANCH PKWY",
           "2020-12-11T00:00:00"
          ],
          [
           "Las Palomas",
           "84%",
           "3201 BEE CAVES RD",
           "2020-12-08T00:00:00"
          ],
          [
           "Champ's Food Mart",
           "96%",
           "2433 S PLEASANT VALLEY RD",
           "2020-12-17T00:00:00"
          ],
          [
           "Wheatsville Food Co-Op",
           "97%",
           "4001 S LAMAR BLVD",
           "2020-12-14T00:00:00"
          ],
          [
           "Smokey Denmark Sausage",
           "97%",
           "3505 E 5TH ST",
           "2020-12-15T00:00:00"
          ],
          [
           "Viva Food Mart - Taqueria",
           "85%",
           "8610 N LAMAR BLVD",
           "2020-12-15T00:00:00"
          ],
          [
           "Dia's Market",
           "77%",
           "812 JUSTIN LN",
           "2020-12-07T00:00:00"
          ],
          [
           "Starbucks Coffee #6470",
           "95%",
           "1001 CONGRESS AVE",
           "2020-12-01T00:00:00"
          ],
          [
           "Hudson Bend Grocery",
           "97%",
           "5001 HUDSON BEND RD",
           "2020-12-10T00:00:00"
          ],
          [
           "PF - Rio Grande Tex Mex",
           "86%",
           "15821 CENTRAL COMMERCE DR",
           "2020-12-15T00:00:00"
          ],
          [
           "Wal-Mart Deli & Bakery",
           "93%",
           "710 E BEN WHITE BLVD",
           "2020-12-15T00:00:00"
          ],
          [
           "New Generation Daycare",
           "92%",
           "2606 S 1ST ST",
           "2020-12-22T00:00:00"
          ],
          [
           "Wendy's Old Fashioned Hamburgers #116",
           "95%",
           "2224 E RIVERSIDE DR",
           "2020-12-10T00:00:00"
          ],
          [
           "Wingstop #164",
           "93%",
           "2410 E RIVERSIDE DR",
           "2020-12-07T00:00:00"
          ],
          [
           "Mom's Convenience Store, Inc.",
           "93%",
           "10900 W US 290 HWY",
           "2020-12-08T00:00:00"
          ],
          [
           "Coco's Cafe",
           "94%",
           "8557 RESEARCH BLVD",
           "2020-12-21T00:00:00"
          ],
          [
           "Wing Daddy's Sauce House",
           "75%",
           "9811 S IH",
           "2020-12-16T00:00:00"
          ],
          [
           "BC - Madam Mam's Thai Cuisine",
           "78%",
           "3929 MARKET ST",
           "2020-12-03T00:00:00"
          ],
          [
           "PF - Morelia Mexican Grill",
           "72%",
           "18900 LIMESTONE COMMERCIAL DR",
           "2020-12-16T00:00:00"
          ],
          [
           "Howdy Donut",
           "97%",
           "10815 FM 2222 RD",
           "2020-12-03T00:00:00"
          ],
          [
           "PF - Los Amigos Market (Meat)",
           "90%",
           "15812 WINDERMERE DR",
           "2020-12-01T00:00:00"
          ],
          [
           "Zachary Scott Theatre",
           "100%",
           "1510 TOOMEY RD",
           "2020-12-10T00:00:00"
          ],
          [
           "Austin Recovery Inc.",
           "96%",
           "13207 WRIGHT RD",
           "2020-12-08T00:00:00"
          ],
          [
           "BC - Maudie's Hill Country LLC",
           "84%",
           "12506 SHOPS PKWY",
           "2020-12-02T00:00:00"
          ],
          [
           "7 - Eleven # 23807B",
           "99%",
           "6306 MANCHACA RD",
           "2020-12-18T00:00:00"
          ],
          [
           "Dell Seton Medical Center at the University of Texas",
           "90%",
           "1500 RED RIVER ST",
           "2020-12-03T00:00:00"
          ],
          [
           "Home of Southern Hospitality LLC",
           "86%",
           "5000 SHOALWOOD AVE",
           "2020-12-01T00:00:00"
          ],
          [
           "BC - Yaghi's New York Pizzeria",
           "91%",
           "12400 W SH",
           "2020-12-01T00:00:00"
          ],
          [
           "Kinder Care #155",
           "97%",
           "610 EMERALD WOOD DR",
           "2020-12-02T00:00:00"
          ],
          [
           "Central Market: Deli/Bakery/Produce",
           "97%",
           "4477 S LAMAR BLVD",
           "2020-12-02T00:00:00"
          ],
          [
           "Nurturing Child Care Center",
           "90%",
           "1054 SPRINGDALE RD",
           "2020-12-15T00:00:00"
          ],
          [
           "Julio's Restaurant, Inc.",
           "94%",
           "4230 DUVAL ST",
           "2020-12-01T00:00:00"
          ],
          [
           "Sleep Inn & Suites",
           "98%",
           "14004 OWEN TECH BLVD",
           "2020-12-21T00:00:00"
          ],
          [
           "Poco Loco Supermercado - Deli & Bakery",
           "81%",
           "611 W BEN WHITE BLVD",
           "2020-12-10T00:00:00"
          ],
          [
           "Chi'Lantro - Parmer",
           "96%",
           "6301 W PARMER LN",
           "2020-12-14T00:00:00"
          ],
          [
           "Blue Star Alkaline Water Store",
           "100%",
           "1154 ANGELINA ST",
           "2020-12-23T00:00:00"
          ],
          [
           "Domino's Pizza",
           "97%",
           "10001 S IH",
           "2020-12-08T00:00:00"
          ],
          [
           "Asian American Cultural Center",
           "90%",
           "11713 JOLLYVILLE RD",
           "2020-12-15T00:00:00"
          ],
          [
           "Tic Tac Toe",
           "92%",
           "2003 W ANDERSON LN",
           "2020-12-10T00:00:00"
          ],
          [
           "Lost Creek Ctry Club Snack Bar",
           "99%",
           "2612 LOST CREEK BLVD",
           "2020-12-16T00:00:00"
          ],
          [
           "Accent Food Services",
           "98%",
           "5501 AIRPORT BLVD",
           "2020-12-22T00:00:00"
          ],
          [
           "Master Donuts",
           "81%",
           "1725 E RIVERSIDE DR",
           "2020-12-10T00:00:00"
          ],
          [
           "Cost Plus World Market #74",
           "93%",
           "9333 RESEARCH BLVD",
           "2020-12-17T00:00:00"
          ],
          [
           "My Friends House Child Care",
           "100%",
           "7050 VILLAGE CENTER DR",
           "2020-12-14T00:00:00"
          ],
          [
           "Riverside Golf Course",
           "92%",
           "1020 GROVE BLVD",
           "2020-12-16T00:00:00"
          ],
          [
           "Chick-Fil-A",
           "98%",
           "161 W SLAUGHTER LN",
           "2020-12-17T00:00:00"
          ],
          [
           "BC - Snack Max # 6",
           "75%",
           "13006 W SH",
           "2020-12-03T00:00:00"
          ],
          [
           "Short Stop #5",
           "84%",
           "3001 W ANDERSON LN",
           "2020-12-14T00:00:00"
          ],
          [
           "IDEA Public Schools - Rundberg",
           "93%",
           "700 SHOWPLACE LN",
           "2020-12-08T00:00:00"
          ],
          [
           "Burnet Jr. High",
           "97%",
           "8401 HATHAWAY DR",
           "2020-12-16T00:00:00"
          ],
          [
           "Taco Bell #30099",
           "100%",
           "7793 BURNET RD",
           "2020-12-22T00:00:00"
          ],
          [
           "Sushi Japon Steak House",
           "77%",
           "807 CAMINO LA",
           "2020-12-16T00:00:00"
          ],
          [
           "BC-Marble Slab /Great American Cookies",
           "95%",
           "12717 SHOPS PKWY",
           "2020-12-03T00:00:00"
          ],
          [
           "Riverbend Church",
           "88%",
           "4214 N CAPITAL OF TEXAS HWY",
           "2020-12-21T00:00:00"
          ],
          [
           "JuiceLand Dom",
           "96%",
           "3120 PALM WAY",
           "2020-12-21T00:00:00"
          ],
          [
           "Child's Day Child Development Center",
           "100%",
           "2525 WALLINGWOOD DR",
           "2020-12-21T00:00:00"
          ],
          [
           "Fairfield Inn and Suites Austin NW/Research",
           "94%",
           "13087 N US 183 HWY",
           "2020-12-22T00:00:00"
          ],
          [
           "WL - Randall's #2477-Starbucks",
           "100%",
           "3300 BEE CAVES RD",
           "2020-12-07T00:00:00"
          ],
          [
           "RW - Panera Bread Bakery and Cafe",
           "86%",
           "2805 BEE CAVES RD",
           "2020-12-16T00:00:00"
          ],
          [
           "Rudy's Country Store",
           "95%",
           "11570 RESEARCH BLVD",
           "2020-12-10T00:00:00"
          ],
          [
           "WL - Maryes Gourmet Pizza",
           "93%",
           "3663 BEE CAVES RD",
           "2020-12-07T00:00:00"
          ],
          [
           "Salvation Pizza",
           "73%",
           "11501 ROCK ROSE AVE",
           "2020-12-22T00:00:00"
          ],
          [
           "Randalls 2480 Deli",
           "98%",
           "6600 S MOPAC EXPY",
           "2020-12-22T00:00:00"
          ],
          [
           "MN - McDonald's of Manor",
           "89%",
           "12609 LEXINGTON ST",
           "2020-12-09T00:00:00"
          ],
          [
           "Dry Creek Shell",
           "89%",
           "3800 DRY CREEK DR",
           "2020-12-15T00:00:00"
          ],
          [
           "Nordstrom's Cafe Bistro",
           "92%",
           "2901 S CAPITAL OF TEXAS HWY",
           "2020-12-22T00:00:00"
          ],
          [
           "Super 8 Capitol Downtown",
           "96%",
           "1201 N IH",
           "2020-12-14T00:00:00"
          ],
          [
           "La Sabrocita Restaurant & Tortilleria",
           "91%",
           "850 E RUNDBERG LN",
           "2020-12-09T00:00:00"
          ],
          [
           "Moms 6",
           "90%",
           "6301 E RIVERSIDE DR",
           "2020-12-18T00:00:00"
          ],
          [
           "Highway Food Mart",
           "79%",
           "4535 E SH",
           "2020-12-17T00:00:00"
          ],
          [
           "Teapioca Lounge",
           "98%",
           "1700 W PARMER LN",
           "2020-12-22T00:00:00"
          ],
          [
           "Ashley's Playhouse",
           "100%",
           "13343 N US 183 HWY",
           "2020-12-08T00:00:00"
          ],
          [
           "Capt Benny's Seafood",
           "90%",
           "5700 N IH",
           "2020-12-01T00:00:00"
          ],
          [
           "Wendy's #W129/11274",
           "90%",
           "10701 RESEARCH BLVD",
           "2020-12-23T00:00:00"
          ],
          [
           "Kid Spa Austin",
           "94%",
           "12809 N FM 620 RD",
           "2020-12-14T00:00:00"
          ],
          [
           "Panera Bread",
           "82%",
           "4625 W WILLIAM CANNON DR",
           "2020-12-11T00:00:00"
          ],
          [
           "The Carpenter Hotel",
           "96%",
           "400 JOSEPHINE ST",
           "2020-12-03T00:00:00"
          ],
          [
           "Honest Mary's",
           "86%",
           "4800 BURNET RD",
           "2020-12-17T00:00:00"
          ],
          [
           "Chinatown Restaurant",
           "71%",
           "3407 GREYSTONE DR",
           "2020-12-01T00:00:00"
          ],
          [
           "Ann Richards School For Girls",
           "99%",
           "2206 PRATHER LN",
           "2020-12-16T00:00:00"
          ],
          [
           "Short Stop",
           "83%",
           "6920 MANCHACA RD",
           "2020-12-01T00:00:00"
          ],
          [
           "Subs-N-More / AM Petroleum",
           "86%",
           "3926 ED BLUESTEIN BLVD",
           "2020-12-04T00:00:00"
          ],
          [
           "Northland Shell",
           "81%",
           "3310 NORTHLAND DR",
           "2020-12-09T00:00:00"
          ],
          [
           "Subway",
           "90%",
           "4410 E RIVERSIDE DR",
           "2020-12-23T00:00:00"
          ],
          [
           "Austin Ice",
           "100%",
           "1 2 8512 N LAMAR BLVD",
           "2020-12-09T00:00:00"
          ],
          [
           "Sugar Pine",
           "86%",
           "8578 RESEARCH BLVD",
           "2020-12-15T00:00:00"
          ],
          [
           "Austin Ridge Bible Church",
           "96%",
           "9300 FM 2244 RD",
           "2020-12-14T00:00:00"
          ],
          [
           "Canteen @ Dell Seton Medical Center",
           "100%",
           "1500 RED RIVER ST",
           "2020-12-03T00:00:00"
          ],
          [
           "MN-Libation Station",
           "100%",
           "201 E PARSONS ST",
           "2020-12-04T00:00:00"
          ],
          [
           "Cannon Coffee",
           "95%",
           "1901 W WILLIAM CANNON DR",
           "2020-12-03T00:00:00"
          ],
          [
           "Camino Real Restaurant",
           "95%",
           "8650 SPICEWOOD SPRINGS RD",
           "2020-12-03T00:00:00"
          ],
          [
           "Biderman's Deli, LLC",
           "94%",
           "3742 FAR WEST BLVD",
           "2020-12-17T00:00:00"
          ],
          [
           "Ken's Subs, Tacos and More",
           "86%",
           "9408 DESSAU RD",
           "2020-12-07T00:00:00"
          ],
          [
           "PD Thai Cuisine",
           "90%",
           "3208 GUADALUPE ST",
           "2020-12-14T00:00:00"
          ],
          [
           "Schlotzsky's Deli",
           "95%",
           "111 W WILLIAM CANNON DR",
           "2020-12-14T00:00:00"
          ],
          [
           "BC - Edible Arrangements #1705",
           "97%",
           "11905 FM 2244 RD",
           "2020-12-02T00:00:00"
          ],
          [
           "Bread Basket",
           "88%",
           "11410 MANCHACA RD",
           "2020-12-14T00:00:00"
          ],
          [
           "Thundercloud Subs",
           "88%",
           "2801 S LAMAR BLVD",
           "2020-12-08T00:00:00"
          ],
          [
           "BC - HEB Food Store #404",
           "91%",
           "12400 W SH",
           "2020-12-01T00:00:00"
          ],
          [
           "House of Three Gorges",
           "70%",
           "8557 RESEARCH BLVD",
           "2020-12-17T00:00:00"
          ],
          [
           "Yummi Taco",
           "90%",
           "12518 RESEARCH BLVD",
           "2020-12-07T00:00:00"
          ],
          [
           "Austin High School",
           "95%",
           "1715 W CESAR CHAVEZ ST",
           "2020-12-10T00:00:00"
          ],
          [
           "Mi Ranchito Taqueria",
           "96%",
           "1105 W FM 1626 RD",
           "2020-12-22T00:00:00"
          ],
          [
           "Bar-B-Q-Inn",
           "70%",
           "9310 N LAMAR BLVD",
           "2020-12-03T00:00:00"
          ],
          [
           "McDonald's",
           "92%",
           "2426 E RIVERSIDE DR",
           "2020-12-10T00:00:00"
          ],
          [
           "IAS Austin",
           "99%",
           "8201 N FM 620 RD",
           "2020-12-14T00:00:00"
          ],
          [
           "Dog Haus",
           "87%",
           "8023 BURNET RD",
           "2020-12-22T00:00:00"
          ],
          [
           "BC - Domino's",
           "99%",
           "11805 FM 2244 RD",
           "2020-12-02T00:00:00"
          ],
          [
           "Pho with US",
           "79%",
           "9900 S IH",
           "2020-12-18T00:00:00"
          ],
          [
           "Subway Sandwich #22880",
           "93%",
           "1030 NORWOOD PARK BLVD",
           "2020-12-10T00:00:00"
          ],
          [
           "Chick-Fil-A",
           "95%",
           "5033 W US 290 HWY",
           "2020-12-03T00:00:00"
          ],
          [
           "BC - Jersey Mike's Subs",
           "92%",
           "4005 MARKET ST",
           "2020-12-03T00:00:00"
          ],
          [
           "Subway Sandwiches",
           "98%",
           "6105 TECHNI CENTER DR",
           "2020-12-08T00:00:00"
          ],
          [
           "Bread Basket - Chevron",
           "86%",
           "9401 S US 183 HWY",
           "2020-12-15T00:00:00"
          ],
          [
           "Ramen Tatsu-Ya comal",
           "91%",
           "1600 E 6TH ST",
           "2020-12-17T00:00:00"
          ],
          [
           "Osio",
           "95%",
           "2901 S CAPITAL OF TEXAS HWY",
           "2020-12-02T00:00:00"
          ],
          [
           "Ike's Love & Sandwiches",
           "97%",
           "5207 BRODIE LN",
           "2020-12-03T00:00:00"
          ],
          [
           "BC-Learn and Laugh Preschool",
           "93%",
           "11715 FM 2244 RD",
           "2020-12-02T00:00:00"
          ],
          [
           "Poco Loco Supermercado",
           "81%",
           "1148 AIRPORT BLVD",
           "2020-12-22T00:00:00"
          ],
          [
           "El Pollo Rico # 11",
           "93%",
           "609 W SLAUGHTER LN",
           "2020-12-17T00:00:00"
          ],
          [
           "Lamar Grocery",
           "92%",
           "2238 S LAMAR BLVD",
           "2020-12-23T00:00:00"
          ],
          [
           "Alameda House",
           "93%",
           "4019 MANCHACA RD",
           "2020-12-11T00:00:00"
          ],
          [
           "Golden Chick",
           "93%",
           "9600 N LAMAR BLVD",
           "2020-12-23T00:00:00"
          ],
          [
           "PF - Tokyo Garden Catering, LLC",
           "99%",
           "201 N FM",
           "2020-12-15T00:00:00"
          ],
          [
           "LW - Lupine Lane",
           "98%",
           "1001 HIGHLANDS BLVD",
           "2020-12-04T00:00:00"
          ],
          [
           "Gattis Pizza",
           "100%",
           "801 E WILLIAM CANNON DR",
           "2020-12-08T00:00:00"
          ],
          [
           "GoPuff",
           "98%",
           "1138 AIRPORT BLVD",
           "2020-12-14T00:00:00"
          ],
          [
           "Tony C's Pizza & Wine Bar",
           "80%",
           "10526 W PARMER LN",
           "2020-12-10T00:00:00"
          ],
          [
           "J.D's Market #4",
           "80%",
           "11720 FM 1826 RD",
           "2020-12-08T00:00:00"
          ],
          [
           "El Pollo Rico #13",
           "90%",
           "110 E WILLIAM CANNON DR",
           "2020-12-03T00:00:00"
          ],
          [
           "LW - Randall's #1779 -Deli",
           "98%",
           "2301 S FM 620 RD",
           "2020-12-02T00:00:00"
          ],
          [
           "PF - HEB Food Store #479 (Meat & Seafood)",
           "96%",
           "201 N FM",
           "2020-12-15T00:00:00"
          ],
          [
           "Bluebonnet School of Canyon Creek",
           "94%",
           "10321 BOULDER LN",
           "2020-12-14T00:00:00"
          ],
          [
           "WL - Jersey Mikes Subs",
           "98%",
           "3300 BEE CAVES RD",
           "2020-12-08T00:00:00"
          ],
          [
           "Walgreens #03092",
           "100%",
           "8104 MESA DR",
           "2020-12-18T00:00:00"
          ],
          [
           "Way South Philly Deli",
           "96%",
           "5222 BURNET RD",
           "2020-12-07T00:00:00"
          ],
          [
           "Freddy's Frozen Custard & Steakburgers",
           "90%",
           "8300 N FM 620 RD",
           "2020-12-14T00:00:00"
          ],
          [
           "La Quinta Inn & Suites # 937",
           "96%",
           "11901 N MOPAC EXPY",
           "2020-12-23T00:00:00"
          ],
          [
           "Soup Peddler, The",
           "93%",
           "4631 AIRPORT BLVD",
           "2020-12-18T00:00:00"
          ],
          [
           "Beer Geek",
           "94%",
           "2051 W FM 1626 RD",
           "2020-12-22T00:00:00"
          ],
          [
           "C- Mart #9",
           "92%",
           "8523 RESEARCH BLVD",
           "2020-12-15T00:00:00"
          ],
          [
           "Two Steps Ahead Learning Center",
           "95%",
           "3028 ROGGE LN",
           "2020-12-15T00:00:00"
          ],
          [
           "Whataburger",
           "96%",
           "6301 W PARMER LN",
           "2020-12-04T00:00:00"
          ],
          [
           "Marbridge Foundation-Winters",
           "97%",
           "2310 BLISS SPILLAR RD",
           "2020-12-02T00:00:00"
          ],
          [
           "Taco Cabana #129",
           "87%",
           "2507 E RIVERSIDE DR",
           "2020-12-16T00:00:00"
          ],
          [
           "MN - Excel High School",
           "100%",
           "600 E PARSONS ST",
           "2020-12-02T00:00:00"
          ],
          [
           "Express Food Mart #7",
           "79%",
           "10500 N LAMAR BLVD",
           "2020-12-23T00:00:00"
          ],
          [
           "Tierra Linda Taqueria",
           "93%",
           "8540 RESEARCH BLVD",
           "2020-12-02T00:00:00"
          ],
          [
           "Super 8 Motel",
           "93%",
           "5606 E 51ST ST",
           "2020-12-15T00:00:00"
          ],
          [
           "Circle K Store #2704682",
           "85%",
           "6500 S US 183 HWY",
           "2020-12-15T00:00:00"
          ],
          [
           "1-Stop Food Store",
           "97%",
           "5101 AIRPORT BLVD",
           "2020-12-16T00:00:00"
          ],
          [
           "Staybridge Suites",
           "91%",
           "13000 N IH",
           "2020-12-22T00:00:00"
          ],
          [
           "Suprabhat",
           "70%",
           "9225 W PARMER LN",
           "2020-12-21T00:00:00"
          ],
          [
           "Daily Juice Cafe",
           "100%",
           "3720 FAR WEST BLVD",
           "2020-12-11T00:00:00"
          ],
          [
           "Springhill Suites Austin North",
           "97%",
           "12520 N IH",
           "2020-12-22T00:00:00"
          ],
          [
           "Profile by Sanford",
           "93%",
           "9607 RESEARCH BLVD",
           "2020-12-16T00:00:00"
          ],
          [
           "Crazy Fruits # 3",
           "98%",
           "5611 S US 183 HWY",
           "2020-12-15T00:00:00"
          ],
          [
           "WL - Izumi Sushi",
           "87%",
           "701 S CAPITAL OF TEXAS HWY",
           "2020-12-08T00:00:00"
          ],
          [
           "7-Eleven Convenience Store #35801A",
           "89%",
           "9704 GILES LN",
           "2020-12-18T00:00:00"
          ],
          [
           "Great Hills Golf Club",
           "90%",
           "5914 LOST HORIZON DR",
           "2020-12-02T00:00:00"
          ],
          [
           "Dunkin Donuts",
           "91%",
           "12200 RESEARCH BLVD",
           "2020-12-10T00:00:00"
          ],
          [
           "Cook Elementary School",
           "98%",
           "1511 CRIPPLE CREEK DR",
           "2020-12-16T00:00:00"
          ],
          [
           "Hwy 969 Food Mart",
           "84%",
           "6401 FM 969 RD",
           "2020-12-04T00:00:00"
          ],
          [
           "Marco's Pizza",
           "87%",
           "11011 RESEARCH BLVD",
           "2020-12-02T00:00:00"
          ],
          [
           "Family Business Beer Company",
           "100%",
           "19510 HAMILTON POOL RD",
           "2020-12-03T00:00:00"
          ],
          [
           "1618 Asian Fusion",
           "74%",
           "1618 E RIVERSIDE DR",
           "2020-12-16T00:00:00"
          ],
          [
           "Bert's BBQ",
           "89%",
           "3563 FAR WEST BLVD",
           "2020-12-14T00:00:00"
          ],
          [
           "Silverado Barton Springs",
           "83%",
           "5200 DAVIS LN",
           "2020-12-18T00:00:00"
          ],
          [
           "HEB #096-Deli/Bakery/Produce",
           "97%",
           "7025 VILLAGE CENTER DR",
           "2020-12-07T00:00:00"
          ],
          [
           "Milano Pizza",
           "76%",
           "1025 W STASSNEY LN",
           "2020-12-11T00:00:00"
          ],
          [
           "La Michoacana Meat Market",
           "74%",
           "2237 E RIVERSIDE DR",
           "2020-12-23T00:00:00"
          ],
          [
           "Club El Tahur",
           "89%",
           "214 E ANDERSON LN",
           "2020-12-21T00:00:00"
          ],
          [
           "Austin Ice",
           "97%",
           "7517 CAMERON RD",
           "2020-12-09T00:00:00"
          ],
          [
           "BC - HEB Food Store #404 (Deli/Bakery)",
           "98%",
           "12400 W SH",
           "2020-12-01T00:00:00"
          ],
          [
           "Dollar General #10959",
           "98%",
           "6010 E RIVERSIDE DR",
           "2020-12-10T00:00:00"
          ],
          [
           "Chef Robert Catering",
           "100%",
           "8134 MESA DR",
           "2020-12-17T00:00:00"
          ],
          [
           "Club de la Raza",
           "89%",
           "2429 E SH",
           "2020-12-22T00:00:00"
          ],
          [
           "LW - Table 620",
           "98%",
           "2000 S FM 620 RD",
           "2020-12-21T00:00:00"
          ]
         ],
         "hovertemplate": "Restaurant Name: %{customdata[0]}<br>Score: %{customdata[1]}<br>Street: %{customdata[2]}<br>Inspection Date: %{customdata[3]}",
         "lat": [
          null,
          30.408522,
          30.447473,
          30.177931,
          30.2749,
          30.276806,
          30.208272,
          30.394225,
          30.396092,
          30.365558,
          null,
          null,
          30.285611,
          30.255443,
          30.202797,
          30.294778,
          30.356996,
          30.26165,
          30.349678,
          30.225443,
          30.200184,
          30.353756,
          null,
          30.477802,
          30.163664,
          30.406508,
          30.448429,
          30.258663,
          30.357642,
          30.441937,
          30.44057,
          30.396129,
          30.297764,
          30.393948,
          30.357567,
          30.264475,
          30.252383,
          30.356395,
          null,
          30.238711,
          30.405944,
          30.26437,
          null,
          null,
          30.417542,
          30.441937,
          30.212609,
          null,
          30.346442,
          30.2749,
          null,
          30.401922,
          30.434702,
          30.291053,
          30.337222,
          30.2,
          30.181994,
          30.308385,
          30.341028,
          30.268742,
          30.275231,
          30.433702,
          null,
          30.194048,
          30.421254,
          30.260704,
          30.284019,
          30.36441,
          30.442957,
          30.477802,
          null,
          30.445314,
          30.441937,
          30.465601,
          30.359155,
          30.194048,
          30.19096,
          30.348381,
          30.341725,
          30.218964,
          30.30675,
          30.447473,
          30.323972,
          30.317286,
          30.211841,
          30.283319,
          30.200463,
          30.241593,
          30.441937,
          30.416351,
          30.148928,
          30.41503,
          null,
          30.392352,
          30.206706,
          30.313641,
          null,
          30.29806,
          null,
          30.356395,
          30.425948,
          30.351231,
          null,
          30.416577,
          30.231447,
          30.296106,
          30.174896,
          null,
          30.261912,
          30.228372,
          30.20676,
          30.216371,
          30.173693,
          null,
          30.267349,
          null,
          30.281511,
          30.277014,
          30.285249,
          30.436116,
          30.394529,
          30.358106,
          30.255321,
          null,
          30.31524,
          30.273599,
          30.137606,
          30.30881,
          30.307203,
          30.390328,
          30.235855,
          30.357262,
          30.311288,
          30.264459,
          30.263083,
          30.424498,
          30.268058,
          30.196231,
          30.294735,
          30.358106,
          30.274413,
          30.26763,
          30.31466,
          30.219122,
          30.188388,
          30.259141,
          30.322681,
          null,
          30.207855,
          30.394877,
          30.36508,
          30.279246,
          null,
          null,
          30.340912,
          30.441282,
          30.235507,
          null,
          null,
          30.338728,
          30.221781,
          30.446183,
          30.366401,
          30.203667,
          null,
          30.4204,
          30.226141,
          30.34713,
          30.31487,
          30.121291,
          null,
          30.352668,
          30.264124,
          30.392008,
          30.269458,
          30.346501,
          30.301073,
          30.416273,
          30.209029,
          null,
          30.236507,
          null,
          30.202651,
          30.359155,
          30.284891,
          30.202875,
          30.441282,
          30.368077,
          30.288198,
          30.267971,
          30.409161,
          30.360309,
          30.292189,
          30.278932,
          30.359579,
          30.303794,
          30.256749,
          30.304871,
          30.391159,
          30.235825,
          30.276059,
          30.295179,
          30.306151,
          30.345791,
          30.315534,
          30.242222,
          30.319315,
          30.344864,
          null,
          30.392352,
          30.157697,
          null,
          30.220859,
          30.216371,
          30.225437,
          30.299588,
          30.233175,
          30.227884,
          30.2323,
          30.467184,
          30.380289,
          30.261166,
          30.255443,
          30.446424,
          30.255221,
          30.2,
          30.392352,
          30.44865,
          30.442957,
          30.468797,
          30.231279,
          30.261819,
          30.215188,
          null,
          30.392008,
          null,
          30.210163,
          30.136879,
          null,
          30.445314,
          30.403592,
          30.371414,
          30.28244,
          30.281321,
          30.286835,
          30.262568,
          30.212841,
          30.292189,
          30.498868,
          30.195647,
          30.408522,
          30.331385,
          30.339003,
          null,
          30.424623,
          30.282032,
          null,
          30.349015,
          30.287311,
          null,
          30.174157,
          30.260384,
          30.336486,
          30.333311,
          null,
          30.268577,
          30.373732,
          30.416867,
          null,
          30.293609,
          null,
          30.272251,
          30.357466,
          null,
          30.273727,
          30.441282,
          30.415584,
          30.217891,
          30.40026,
          30.271901,
          30.209029,
          30.282708,
          30.307606,
          30.261959,
          null,
          30.279246,
          30.344978,
          30.242031,
          30.233362,
          30.369642,
          30.3911,
          30.260455,
          30.360601,
          30.203569,
          30.33542,
          30.231155,
          30.278077,
          30.255454,
          30.220579,
          30.326754,
          30.151943,
          30.277589,
          30.4204,
          30.295089,
          30.320667,
          30.237459,
          30.425623,
          30.437959,
          null,
          30.136879,
          null,
          30.314499,
          30.45313,
          30.436116,
          30.362817,
          30.276054,
          30.290493,
          30.220579,
          30.26505,
          null,
          30.26478,
          30.309564,
          30.307221,
          30.440956,
          30.260763,
          30.341398,
          30.496761,
          30.337689,
          30.358106,
          30.273683,
          30.222178,
          30.209029,
          30.357964,
          30.301917,
          30.235825,
          null,
          30.424508,
          30.214771,
          30.288452,
          30.307985,
          null,
          30.196231,
          30.300666,
          30.267349,
          30.194788,
          30.357847,
          30.221194,
          30.315685,
          30.294801,
          30.346342,
          30.197961,
          30.275803,
          30.193353,
          30.359155,
          30.255645,
          null,
          30.23447,
          30.183677,
          null,
          30.39806,
          30.345616,
          30.164607,
          30.301295,
          30.360739,
          30.33674,
          30.337919,
          30.285955,
          30.478405,
          null,
          30.441937,
          null,
          30.174157,
          30.295085,
          30.263709,
          30.2651,
          30.36516,
          30.31268,
          30.200841,
          30.438743,
          30.194148,
          30.272293,
          30.290551,
          30.357503,
          null,
          30.353397,
          30.311864,
          30.40065,
          null,
          30.194794,
          30.233436,
          30.193108,
          30.355045,
          null,
          30.412643,
          30.168927,
          30.401922,
          30.255443,
          30.446183,
          null,
          null,
          30.254056,
          30.494618,
          30.229501,
          30.218964,
          30.337689,
          30.497655,
          30.269774,
          30.29203,
          30.285782,
          30.350454,
          30.312538,
          30.309715,
          30.290012,
          null,
          30.267919,
          30.40065,
          30.339981,
          30.223821,
          30.324549,
          30.228614,
          30.28684,
          30.269153,
          30.325649,
          30.273807,
          30.456005,
          30.441282,
          30.273599,
          30.227802,
          30.235825,
          30.254031,
          30.354942,
          30.337181,
          30.271775,
          30.412468,
          30.45037,
          30.218964,
          30.239069,
          30.238678,
          30.236507,
          30.221809,
          30.361033,
          null,
          30.307616,
          30.469768,
          null,
          30.447473,
          30.263892,
          30.084128,
          30.304679,
          30.209124,
          30.276147,
          30.322958,
          null,
          30.212956,
          30.232228,
          30.272605,
          30.304855,
          30.429684,
          30.226725,
          30.445314,
          30.26926,
          null,
          30.419705,
          30.354444,
          30.275231,
          30.316742,
          30.24371,
          30.382116,
          30.353297,
          30.235995,
          30.167179,
          null,
          30.360404,
          30.361597,
          30.363947,
          30.354586,
          null,
          30.305053,
          30.340843,
          30.402572,
          30.26452,
          null,
          30.2749,
          30.271017,
          30.413727,
          30.27897,
          30.401102,
          30.220579,
          30.349816,
          30.342994,
          30.255443,
          null,
          30.356996,
          30.224799,
          null,
          30.412512,
          null,
          null,
          30.398571,
          null,
          30.223712,
          30.262045,
          30.318803,
          30.356842,
          30.234747,
          30.202311,
          30.275195,
          30.33711,
          30.233175,
          null,
          30.36194,
          null,
          30.276147,
          30.340865,
          30.202651,
          30.433558,
          30.355859,
          30.351197,
          30.299782,
          30.193108,
          null,
          30.154194,
          30.243957,
          null,
          30.361033,
          30.429156,
          30.274085,
          30.140471,
          30.362392,
          30.235633,
          30.45313,
          30.359155,
          null,
          null,
          30.33872,
          null,
          30.307228,
          30.276059,
          null,
          30.262989,
          30.255443,
          30.231596,
          null,
          30.272115,
          30.173058,
          30.24741,
          30.232532,
          30.365544,
          null,
          30.349938,
          30.19096,
          30.269959,
          30.496761,
          30.192594,
          30.19287,
          null,
          null,
          30.428742,
          30.2749,
          30.371773,
          30.324549,
          30.4204,
          30.407262,
          30.306151,
          30.138581,
          30.360095,
          30.303188,
          30.445314,
          30.136879,
          30.23403,
          30.341783,
          30.37324,
          30.360701,
          30.2927,
          30.164023,
          30.312363,
          null,
          30.478405,
          30.35546,
          null,
          30.388391,
          null,
          30.292189,
          30.332321,
          30.402112,
          30.425921,
          30.377667,
          null,
          30.403592,
          30.291006,
          30.245028,
          30.353534,
          30.208765,
          30.352555,
          30.210567,
          30.238295,
          30.343521,
          30.329586,
          null,
          30.226402,
          30.373443,
          null,
          null
         ],
         "legendgroup": "",
         "lon": [
          null,
          -97.698168,
          -97.648368,
          -97.615839,
          -97.801111,
          -97.751192,
          -97.781635,
          -97.748272,
          -97.749989,
          -97.738956,
          null,
          null,
          -97.684167,
          -97.810066,
          -97.806221,
          -97.724118,
          -97.685774,
          -97.718305,
          -97.526006,
          -97.76661,
          -97.785895,
          -97.75401,
          null,
          -97.643263,
          -97.830628,
          -97.874421,
          -97.655218,
          -97.786729,
          -97.762151,
          -97.74148,
          -97.663126,
          -97.720128,
          -97.687283,
          -97.726442,
          -97.748349,
          -97.741002,
          -97.773635,
          -97.731374,
          null,
          -97.683849,
          -97.678556,
          -97.733445,
          null,
          null,
          -97.675682,
          -97.74148,
          -97.752474,
          null,
          -97.700016,
          -97.801111,
          null,
          -97.746122,
          -97.615494,
          -97.741264,
          -97.756645,
          -97.77,
          -97.8465,
          -97.938816,
          -97.557461,
          -97.728041,
          -97.843793,
          -97.77132,
          null,
          -97.843038,
          -97.628454,
          -97.734925,
          -97.74194,
          -97.710274,
          -97.741799,
          -97.643263,
          null,
          -97.743259,
          -97.74148,
          -97.597297,
          -97.73005,
          -97.843038,
          -97.771937,
          -97.557039,
          -97.970094,
          -97.755433,
          -97.750208,
          -97.648368,
          -97.689635,
          -97.740391,
          -97.964736,
          -97.742009,
          -97.799243,
          -97.785134,
          -97.74148,
          -97.697097,
          -97.842579,
          -97.696431,
          null,
          -97.746845,
          -97.77795,
          -97.704222,
          null,
          -98.006844,
          null,
          -97.731374,
          -97.716411,
          -97.708533,
          null,
          -97.745964,
          -97.787322,
          -97.743872,
          -97.82327,
          null,
          -97.723182,
          -97.789335,
          -97.719122,
          -97.964091,
          -97.821911,
          null,
          -97.743063,
          null,
          -97.710596,
          -97.742141,
          -97.774785,
          -97.612748,
          -97.75208,
          -97.735077,
          -97.719477,
          null,
          -97.741316,
          -97.799243,
          -97.857505,
          -97.740756,
          -97.931757,
          -97.884583,
          -97.728243,
          -97.686159,
          -97.666151,
          -97.757249,
          -97.816129,
          -97.750561,
          -97.746432,
          -97.785737,
          -97.824938,
          -97.735077,
          -97.800458,
          -97.741285,
          -97.71482,
          -97.688528,
          -97.856475,
          -97.759029,
          -97.714855,
          null,
          -97.780106,
          -97.745915,
          -97.695882,
          -97.806703,
          null,
          null,
          -97.738848,
          -97.66529,
          -97.763802,
          null,
          null,
          -97.97035,
          -97.689832,
          -97.648258,
          -97.695129,
          -97.878534,
          null,
          -97.84557,
          -97.705922,
          -97.72721,
          -97.733618,
          -97.635979,
          null,
          -97.723662,
          -97.741615,
          -97.707343,
          -97.696677,
          -97.67724,
          -97.674094,
          -97.695601,
          -97.78292,
          null,
          -97.725029,
          null,
          -97.805566,
          -97.73005,
          -97.715382,
          -97.837567,
          -97.66529,
          -97.694197,
          -97.744632,
          -97.742507,
          -97.715712,
          -97.790126,
          -97.828184,
          -97.742615,
          -97.737925,
          -97.726441,
          -97.71153,
          -97.736783,
          -97.659773,
          -97.792954,
          -97.668702,
          -97.740547,
          -97.715837,
          -97.967013,
          -97.755907,
          -97.72868,
          -97.689358,
          -97.736361,
          null,
          -97.746845,
          -97.833381,
          null,
          -97.691306,
          -97.964091,
          -97.769581,
          -97.740175,
          -97.721518,
          -97.786555,
          -97.758576,
          -97.64526,
          -97.68363,
          -97.721147,
          -97.810066,
          -97.686119,
          -97.844945,
          -97.77,
          -97.746845,
          -97.655677,
          -97.741799,
          -97.595887,
          -97.787453,
          -97.758731,
          -97.762343,
          null,
          -97.707343,
          null,
          -97.780138,
          -97.856197,
          null,
          -97.743259,
          -97.745141,
          -97.757,
          -97.711754,
          -97.703182,
          -97.703049,
          -97.725167,
          -97.713113,
          -97.828184,
          -97.773275,
          -97.777748,
          -97.698168,
          -97.722908,
          -97.754988,
          null,
          -97.672008,
          -97.743038,
          null,
          -97.554111,
          -97.742693,
          null,
          -97.796784,
          -97.734006,
          -97.739563,
          -97.705301,
          null,
          -97.727607,
          -97.719236,
          -97.746868,
          null,
          -97.741925,
          null,
          -97.691247,
          -97.686736,
          null,
          -97.697031,
          -97.66529,
          -97.695563,
          -97.861448,
          -97.745036,
          -97.876727,
          -97.78292,
          -97.74207,
          -97.945544,
          -97.761269,
          null,
          -97.759767,
          -97.736664,
          -97.728362,
          -97.73959,
          -97.733164,
          -97.721166,
          -97.738167,
          -97.739855,
          -97.785518,
          -97.559559,
          -97.791658,
          -97.760581,
          -97.761872,
          -97.837688,
          -97.687198,
          -97.833228,
          -97.720737,
          -97.84557,
          -97.73667,
          -97.968512,
          -97.725513,
          -97.715752,
          -97.75871,
          null,
          -97.856197,
          null,
          -97.755166,
          -97.8277,
          -97.612748,
          -97.69719,
          -97.816218,
          -97.742018,
          -97.837688,
          -97.732382,
          null,
          -97.737795,
          -97.941855,
          -97.74177,
          -97.773218,
          -97.712656,
          -97.557848,
          -97.774899,
          -97.692266,
          -97.735077,
          -97.720484,
          -97.838856,
          -97.78292,
          -97.760539,
          -97.764901,
          -97.792954,
          null,
          -97.713215,
          -97.832351,
          -97.747786,
          -97.940692,
          null,
          -97.785737,
          -97.74041,
          -97.743063,
          -97.783619,
          -97.978237,
          -97.690654,
          -97.741373,
          -97.742566,
          -97.966225,
          -97.767334,
          -97.735692,
          -97.77868,
          -97.73005,
          -97.698125,
          null,
          -97.911646,
          -97.792016,
          null,
          -97.704665,
          -97.713435,
          -97.692906,
          -97.739098,
          -97.716586,
          -97.694535,
          -97.74121,
          -97.681617,
          -97.765794,
          null,
          -97.74148,
          null,
          -97.796784,
          -97.742718,
          -97.731481,
          -97.742451,
          -97.695836,
          -97.960154,
          -97.879006,
          -97.756268,
          -97.77723,
          -97.697526,
          -97.742629,
          -97.97889,
          null,
          -97.705543,
          -97.963409,
          -97.747851,
          null,
          -97.842717,
          -97.739816,
          -97.779336,
          -97.728669,
          null,
          -97.689502,
          -97.825756,
          -97.746122,
          -97.810066,
          -97.648258,
          null,
          null,
          -97.782807,
          -97.7882,
          -97.864222,
          -97.755433,
          -97.692266,
          -97.777084,
          -97.806002,
          -97.742784,
          -97.744893,
          -97.748102,
          -97.693481,
          -97.934312,
          -97.707435,
          null,
          -97.694035,
          -97.747851,
          -97.804557,
          -97.763391,
          -97.739532,
          -97.77134,
          -97.742736,
          -97.740924,
          -97.726544,
          -97.697987,
          -97.659227,
          -97.66529,
          -97.799243,
          -97.727487,
          -97.792954,
          -97.703643,
          -97.703436,
          -97.720538,
          -97.741424,
          -97.927049,
          -97.655136,
          -97.755433,
          -97.761559,
          -97.72594,
          -97.725029,
          -97.956195,
          -97.716672,
          null,
          -97.937139,
          -97.595626,
          null,
          -97.648368,
          -97.759549,
          -97.752177,
          -97.93797,
          -97.804503,
          -97.733582,
          -97.742673,
          null,
          -97.778807,
          -97.79909,
          -97.691021,
          -97.725971,
          -97.671287,
          -97.770608,
          -97.743259,
          -97.724397,
          null,
          -97.752565,
          -97.727417,
          -97.843793,
          -97.713804,
          -97.729736,
          -97.740032,
          -97.755725,
          -97.703777,
          -97.791596,
          null,
          -97.739692,
          -97.687419,
          -97.726577,
          -97.731747,
          null,
          -97.940736,
          -97.80285,
          -97.721403,
          -97.78401,
          null,
          -97.801111,
          -97.789586,
          -97.746293,
          -97.806439,
          -97.722763,
          -97.837688,
          -97.55595,
          -97.763511,
          -97.810066,
          null,
          -97.685774,
          -97.703211,
          null,
          -97.688909,
          null,
          null,
          -97.745647,
          null,
          -97.843827,
          -97.758588,
          -97.739443,
          -97.747275,
          -97.788031,
          -97.806963,
          -97.668307,
          -97.756437,
          -97.721518,
          null,
          -97.717321,
          null,
          -97.733582,
          -97.556468,
          -97.805566,
          -97.771837,
          -97.758223,
          -97.675864,
          -97.740052,
          -97.779336,
          null,
          -97.833283,
          -97.781825,
          null,
          -97.716672,
          -97.760067,
          -97.766118,
          -97.834444,
          -97.697423,
          -97.724398,
          -97.8277,
          -97.73005,
          null,
          null,
          -97.692623,
          null,
          -97.937337,
          -97.668702,
          null,
          -97.72637,
          -97.810066,
          -97.818902,
          null,
          -97.697472,
          -97.800341,
          -97.7743,
          -97.786561,
          -97.695617,
          null,
          -98.012061,
          -97.771937,
          -97.696825,
          -97.774899,
          -97.925054,
          -97.77775,
          null,
          null,
          -97.838764,
          -97.801111,
          -97.757113,
          -97.739532,
          -97.84557,
          -97.719376,
          -97.715837,
          -97.849046,
          -97.716393,
          -97.678524,
          -97.743259,
          -97.856197,
          -97.723776,
          -97.551086,
          -97.691287,
          -97.716962,
          -97.664656,
          -97.693075,
          -97.715363,
          null,
          -97.765794,
          -97.757281,
          null,
          -97.743593,
          null,
          -97.828184,
          -97.622991,
          -97.766923,
          -97.753486,
          -97.703772,
          null,
          -97.745141,
          -98.075811,
          -97.73049,
          -97.753552,
          -97.862494,
          -97.756199,
          -97.786896,
          -97.725943,
          -97.704292,
          -97.689879,
          null,
          -97.706476,
          -97.756073,
          null,
          null
         ],
         "marker": {
          "color": [
           90,
           90,
           100,
           100,
           100,
           80,
           100,
           90,
           100,
           90,
           70,
           90,
           80,
           90,
           90,
           90,
           90,
           90,
           100,
           90,
           80,
           100,
           90,
           100,
           90,
           90,
           90,
           100,
           100,
           100,
           100,
           90,
           90,
           90,
           100,
           80,
           100,
           70,
           100,
           100,
           100,
           90,
           90,
           100,
           90,
           100,
           80,
           100,
           90,
           100,
           90,
           100,
           90,
           90,
           100,
           90,
           90,
           90,
           80,
           90,
           90,
           90,
           100,
           80,
           90,
           90,
           50,
           100,
           90,
           90,
           90,
           100,
           80,
           100,
           90,
           90,
           80,
           80,
           90,
           100,
           90,
           90,
           100,
           90,
           100,
           100,
           90,
           90,
           90,
           90,
           90,
           90,
           70,
           90,
           100,
           90,
           90,
           90,
           90,
           90,
           80,
           80,
           90,
           80,
           100,
           100,
           90,
           90,
           90,
           90,
           70,
           100,
           90,
           70,
           100,
           100,
           100,
           90,
           100,
           90,
           100,
           90,
           90,
           100,
           90,
           100,
           90,
           100,
           100,
           90,
           90,
           100,
           90,
           100,
           90,
           90,
           100,
           90,
           100,
           80,
           90,
           100,
           90,
           100,
           100,
           100,
           100,
           100,
           90,
           90,
           90,
           90,
           100,
           90,
           80,
           100,
           100,
           100,
           90,
           90,
           90,
           70,
           90,
           90,
           90,
           90,
           100,
           90,
           80,
           100,
           80,
           100,
           90,
           90,
           90,
           80,
           90,
           80,
           90,
           70,
           70,
           100,
           100,
           90,
           90,
           80,
           100,
           100,
           100,
           100,
           90,
           90,
           100,
           90,
           90,
           100,
           80,
           90,
           90,
           90,
           100,
           90,
           90,
           100,
           90,
           90,
           80,
           90,
           100,
           100,
           90,
           100,
           90,
           100,
           100,
           90,
           90,
           100,
           100,
           100,
           100,
           100,
           80,
           100,
           90,
           80,
           90,
           100,
           90,
           80,
           90,
           90,
           100,
           90,
           100,
           100,
           100,
           100,
           100,
           100,
           80,
           100,
           100,
           90,
           90,
           100,
           80,
           90,
           90,
           100,
           90,
           80,
           90,
           70,
           90,
           100,
           80,
           80,
           100,
           90,
           90,
           100,
           80,
           70,
           100,
           90,
           100,
           100,
           100,
           100,
           90,
           90,
           90,
           80,
           70,
           100,
           90,
           80,
           80,
           90,
           70,
           80,
           100,
           90,
           90,
           100,
           80,
           100,
           100,
           100,
           90,
           100,
           90,
           100,
           90,
           80,
           100,
           90,
           100,
           100,
           80,
           100,
           90,
           90,
           100,
           90,
           90,
           70,
           100,
           90,
           100,
           90,
           100,
           90,
           90,
           90,
           90,
           90,
           90,
           100,
           100,
           90,
           100,
           100,
           100,
           90,
           80,
           90,
           100,
           90,
           100,
           80,
           100,
           100,
           100,
           100,
           90,
           100,
           80,
           100,
           90,
           80,
           90,
           90,
           90,
           80,
           100,
           90,
           100,
           70,
           100,
           100,
           90,
           100,
           100,
           90,
           100,
           90,
           100,
           90,
           100,
           90,
           90,
           90,
           100,
           100,
           80,
           90,
           100,
           90,
           100,
           100,
           90,
           100,
           100,
           100,
           100,
           70,
           80,
           80,
           90,
           90,
           100,
           90,
           90,
           100,
           100,
           90,
           90,
           90,
           80,
           90,
           100,
           80,
           100,
           90,
           90,
           80,
           100,
           90,
           100,
           90,
           90,
           100,
           100,
           80,
           100,
           100,
           90,
           100,
           90,
           90,
           90,
           90,
           90,
           90,
           100,
           90,
           80,
           100,
           90,
           90,
           80,
           90,
           90,
           100,
           80,
           100,
           100,
           100,
           80,
           80,
           100,
           100,
           90,
           90,
           90,
           100,
           90,
           90,
           90,
           80,
           80,
           70,
           100,
           90,
           100,
           100,
           80,
           100,
           90,
           90,
           90,
           100,
           100,
           90,
           90,
           100,
           80,
           100,
           100,
           100,
           90,
           90,
           100,
           100,
           80,
           90,
           100,
           90,
           100,
           80,
           80,
           90,
           100,
           100,
           80,
           100,
           90,
           100,
           100,
           90,
           100,
           90,
           100,
           90,
           70,
           100,
           90,
           90,
           90,
           100,
           90,
           90,
           80,
           100,
           100,
           90,
           90,
           90,
           80,
           100,
           90,
           70,
           100,
           80,
           90,
           80,
           90,
           100,
           90,
           100,
           100,
           100,
           100,
           100,
           90,
           90,
           90,
           100,
           100,
           90,
           90,
           90,
           70,
           90,
           100,
           100,
           70,
           90,
           100,
           90,
           100,
           80,
           90,
           100,
           90,
           100,
           90,
           90,
           100,
           100,
           90,
           80,
           90,
           90,
           90,
           90,
           100,
           100,
           100,
           100,
           80,
           80,
           90,
           100,
           100,
           90,
           100,
           100,
           100,
           90,
           100,
           90,
           90,
           90,
           100,
           100,
           100,
           90,
           100,
           80,
           90,
           90,
           80,
           100,
           90,
           70,
           100,
           100,
           90,
           100,
           90,
           90,
           90,
           90,
           100,
           80,
           90,
           100,
           70,
           90,
           80,
           100,
           80,
           70,
           90,
           100,
           100,
           100,
           100,
           90,
           100
          ],
          "coloraxis": "coloraxis",
          "opacity": 0.5,
          "size": 10
         },
         "mode": "markers+text",
         "name": "",
         "showlegend": false,
         "subplot": "mapbox",
         "text": [
          "91%",
          "92%",
          "96%",
          "96%",
          "99%",
          "75%",
          "98%",
          "92%",
          "99%",
          "94%",
          "70%",
          "94%",
          "78%",
          "90%",
          "86%",
          "89%",
          "94%",
          "86%",
          "95%",
          "94%",
          "81%",
          "98%",
          "93%",
          "97%",
          "93%",
          "90%",
          "90%",
          "97%",
          "100%",
          "100%",
          "100%",
          "91%",
          "92%",
          "90%",
          "97%",
          "85%",
          "99%",
          "70%",
          "95%",
          "97%",
          "100%",
          "93%",
          "90%",
          "98%",
          "93%",
          "99%",
          "80%",
          "98%",
          "93%",
          "97%",
          "88%",
          "95%",
          "91%",
          "89%",
          "97%",
          "93%",
          "91%",
          "94%",
          "80%",
          "92%",
          "92%",
          "93%",
          "100%",
          "75%",
          "91%",
          "94%",
          "54%",
          "100%",
          "89%",
          "90%",
          "93%",
          "96%",
          "80%",
          "98%",
          "86%",
          "89%",
          "83%",
          "82%",
          "88%",
          "97%",
          "92%",
          "92%",
          "98%",
          "88%",
          "96%",
          "97%",
          "86%",
          "93%",
          "88%",
          "89%",
          "88%",
          "86%",
          "74%",
          "93%",
          "97%",
          "93%",
          "89%",
          "94%",
          "89%",
          "92%",
          "76%",
          "78%",
          "89%",
          "79%",
          "97%",
          "95%",
          "91%",
          "90%",
          "94%",
          "87%",
          "72%",
          "96%",
          "89%",
          "74%",
          "100%",
          "98%",
          "100%",
          "87%",
          "99%",
          "87%",
          "100%",
          "92%",
          "91%",
          "99%",
          "87%",
          "95%",
          "93%",
          "100%",
          "100%",
          "94%",
          "88%",
          "95%",
          "91%",
          "100%",
          "93%",
          "92%",
          "99%",
          "90%",
          "100%",
          "76%",
          "91%",
          "96%",
          "86%",
          "95%",
          "97%",
          "97%",
          "99%",
          "100%",
          "88%",
          "86%",
          "88%",
          "90%",
          "98%",
          "93%",
          "80%",
          "96%",
          "96%",
          "96%",
          "90%",
          "88%",
          "89%",
          "73%",
          "86%",
          "91%",
          "89%",
          "91%",
          "95%",
          "93%",
          "84%",
          "97%",
          "79%",
          "95%",
          "89%",
          "93%",
          "93%",
          "81%",
          "89%",
          "85%",
          "94%",
          "70%",
          "74%",
          "96%",
          "99%",
          "92%",
          "87%",
          "78%",
          "100%",
          "95%",
          "96%",
          "98%",
          "91%",
          "91%",
          "98%",
          "88%",
          "89%",
          "95%",
          "80%",
          "88%",
          "89%",
          "91%",
          "95%",
          "93%",
          "89%",
          "95%",
          "92%",
          "86%",
          "83%",
          "86%",
          "96%",
          "95%",
          "87%",
          "98%",
          "92%",
          "98%",
          "100%",
          "91%",
          "87%",
          "96%",
          "98%",
          "99%",
          "96%",
          "98%",
          "80%",
          "100%",
          "90%",
          "84%",
          "86%",
          "98%",
          "88%",
          "75%",
          "86%",
          "89%",
          "97%",
          "93%",
          "97%",
          "97%",
          "100%",
          "100%",
          "97%",
          "98%",
          "80%",
          "98%",
          "95%",
          "86%",
          "91%",
          "100%",
          "80%",
          "92%",
          "94%",
          "95%",
          "88%",
          "83%",
          "91%",
          "73%",
          "92%",
          "99%",
          "80%",
          "83%",
          "96%",
          "89%",
          "93%",
          "100%",
          "85%",
          "72%",
          "100%",
          "92%",
          "100%",
          "98%",
          "95%",
          "99%",
          "90%",
          "92%",
          "92%",
          "83%",
          "70%",
          "100%",
          "88%",
          "78%",
          "80%",
          "90%",
          "73%",
          "79%",
          "100%",
          "89%",
          "94%",
          "97%",
          "81%",
          "97%",
          "99%",
          "99%",
          "89%",
          "100%",
          "92%",
          "96%",
          "86%",
          "83%",
          "100%",
          "90%",
          "96%",
          "97%",
          "85%",
          "96%",
          "94%",
          "90%",
          "95%",
          "90%",
          "90%",
          "71%",
          "96%",
          "94%",
          "97%",
          "86%",
          "100%",
          "90%",
          "93%",
          "93%",
          "87%",
          "93%",
          "88%",
          "98%",
          "96%",
          "88%",
          "96%",
          "100%",
          "95%",
          "88%",
          "80%",
          "94%",
          "97%",
          "92%",
          "97%",
          "79%",
          "100%",
          "100%",
          "97%",
          "97%",
          "91%",
          "98%",
          "83%",
          "100%",
          "89%",
          "80%",
          "92%",
          "94%",
          "87%",
          "80%",
          "96%",
          "90%",
          "96%",
          "70%",
          "97%",
          "95%",
          "88%",
          "96%",
          "99%",
          "89%",
          "97%",
          "94%",
          "97%",
          "90%",
          "98%",
          "90%",
          "94%",
          "87%",
          "96%",
          "99%",
          "81%",
          "90%",
          "97%",
          "90%",
          "96%",
          "98%",
          "93%",
          "99%",
          "96%",
          "96%",
          "96%",
          "71%",
          "77%",
          "80%",
          "91%",
          "92%",
          "98%",
          "90%",
          "87%",
          "98%",
          "97%",
          "87%",
          "94%",
          "94%",
          "75%",
          "88%",
          "98%",
          "83%",
          "100%",
          "92%",
          "93%",
          "76%",
          "95%",
          "86%",
          "98%",
          "91%",
          "93%",
          "99%",
          "100%",
          "80%",
          "98%",
          "95%",
          "94%",
          "99%",
          "92%",
          "90%",
          "91%",
          "89%",
          "88%",
          "92%",
          "96%",
          "90%",
          "82%",
          "98%",
          "93%",
          "94%",
          "85%",
          "88%",
          "89%",
          "98%",
          "84%",
          "96%",
          "97%",
          "97%",
          "85%",
          "77%",
          "95%",
          "97%",
          "86%",
          "93%",
          "92%",
          "95%",
          "93%",
          "93%",
          "94%",
          "75%",
          "78%",
          "72%",
          "97%",
          "90%",
          "100%",
          "96%",
          "84%",
          "99%",
          "90%",
          "86%",
          "91%",
          "97%",
          "97%",
          "90%",
          "94%",
          "98%",
          "81%",
          "96%",
          "100%",
          "97%",
          "90%",
          "92%",
          "99%",
          "98%",
          "81%",
          "93%",
          "100%",
          "92%",
          "98%",
          "75%",
          "84%",
          "93%",
          "97%",
          "100%",
          "77%",
          "95%",
          "88%",
          "96%",
          "100%",
          "94%",
          "100%",
          "86%",
          "95%",
          "93%",
          "73%",
          "98%",
          "89%",
          "89%",
          "92%",
          "96%",
          "91%",
          "90%",
          "79%",
          "98%",
          "100%",
          "90%",
          "90%",
          "94%",
          "82%",
          "96%",
          "86%",
          "71%",
          "99%",
          "83%",
          "86%",
          "81%",
          "90%",
          "100%",
          "86%",
          "96%",
          "100%",
          "100%",
          "95%",
          "95%",
          "94%",
          "86%",
          "90%",
          "95%",
          "97%",
          "88%",
          "88%",
          "91%",
          "70%",
          "90%",
          "95%",
          "96%",
          "70%",
          "92%",
          "99%",
          "87%",
          "99%",
          "79%",
          "93%",
          "95%",
          "92%",
          "98%",
          "86%",
          "91%",
          "95%",
          "97%",
          "93%",
          "81%",
          "93%",
          "92%",
          "93%",
          "93%",
          "99%",
          "98%",
          "100%",
          "98%",
          "80%",
          "80%",
          "90%",
          "98%",
          "96%",
          "94%",
          "98%",
          "100%",
          "96%",
          "90%",
          "96%",
          "93%",
          "94%",
          "92%",
          "95%",
          "96%",
          "97%",
          "87%",
          "100%",
          "79%",
          "93%",
          "93%",
          "85%",
          "97%",
          "91%",
          "70%",
          "100%",
          "97%",
          "93%",
          "98%",
          "87%",
          "89%",
          "90%",
          "91%",
          "98%",
          "84%",
          "87%",
          "100%",
          "74%",
          "89%",
          "83%",
          "97%",
          "76%",
          "74%",
          "89%",
          "97%",
          "98%",
          "98%",
          "100%",
          "89%",
          "98%"
         ],
         "textfont": {
          "color": "#E58606"
         },
         "textposition": "top left",
         "texttemplate": "%{Score}",
         "type": "scattermapbox"
        }
       ],
       "layout": {
        "coloraxis": {
         "colorbar": {
          "title": {
           "text": "color"
          }
         },
         "colorscale": [
          [
           0,
           "rgb(0,104,55)"
          ],
          [
           0.1,
           "rgb(26,152,80)"
          ],
          [
           0.2,
           "rgb(102,189,99)"
          ],
          [
           0.3,
           "rgb(166,217,106)"
          ],
          [
           0.4,
           "rgb(217,239,139)"
          ],
          [
           0.5,
           "rgb(255,255,191)"
          ],
          [
           0.6,
           "rgb(254,224,139)"
          ],
          [
           0.7,
           "rgb(253,174,97)"
          ],
          [
           0.8,
           "rgb(244,109,67)"
          ],
          [
           0.9,
           "rgb(215,48,39)"
          ],
          [
           1,
           "rgb(165,0,38)"
          ]
         ]
        },
        "legend": {
         "tracegroupgap": 0
        },
        "mapbox": {
         "center": {
          "lat": 30.308063885658914,
          "lon": -97.75314880813954
         },
         "domain": {
          "x": [
           0,
           1
          ],
          "y": [
           0,
           1
          ]
         },
         "style": "open-street-map",
         "zoom": 10
        },
        "margin": {
         "t": 60
        },
        "template": {
         "data": {
          "bar": [
           {
            "error_x": {
             "color": "#2a3f5f"
            },
            "error_y": {
             "color": "#2a3f5f"
            },
            "marker": {
             "line": {
              "color": "#E5ECF6",
              "width": 0.5
             }
            },
            "type": "bar"
           }
          ],
          "barpolar": [
           {
            "marker": {
             "line": {
              "color": "#E5ECF6",
              "width": 0.5
             }
            },
            "type": "barpolar"
           }
          ],
          "carpet": [
           {
            "aaxis": {
             "endlinecolor": "#2a3f5f",
             "gridcolor": "white",
             "linecolor": "white",
             "minorgridcolor": "white",
             "startlinecolor": "#2a3f5f"
            },
            "baxis": {
             "endlinecolor": "#2a3f5f",
             "gridcolor": "white",
             "linecolor": "white",
             "minorgridcolor": "white",
             "startlinecolor": "#2a3f5f"
            },
            "type": "carpet"
           }
          ],
          "choropleth": [
           {
            "colorbar": {
             "outlinewidth": 0,
             "ticks": ""
            },
            "type": "choropleth"
           }
          ],
          "contour": [
           {
            "colorbar": {
             "outlinewidth": 0,
             "ticks": ""
            },
            "colorscale": [
             [
              0,
              "#0d0887"
             ],
             [
              0.1111111111111111,
              "#46039f"
             ],
             [
              0.2222222222222222,
              "#7201a8"
             ],
             [
              0.3333333333333333,
              "#9c179e"
             ],
             [
              0.4444444444444444,
              "#bd3786"
             ],
             [
              0.5555555555555556,
              "#d8576b"
             ],
             [
              0.6666666666666666,
              "#ed7953"
             ],
             [
              0.7777777777777778,
              "#fb9f3a"
             ],
             [
              0.8888888888888888,
              "#fdca26"
             ],
             [
              1,
              "#f0f921"
             ]
            ],
            "type": "contour"
           }
          ],
          "contourcarpet": [
           {
            "colorbar": {
             "outlinewidth": 0,
             "ticks": ""
            },
            "type": "contourcarpet"
           }
          ],
          "heatmap": [
           {
            "colorbar": {
             "outlinewidth": 0,
             "ticks": ""
            },
            "colorscale": [
             [
              0,
              "#0d0887"
             ],
             [
              0.1111111111111111,
              "#46039f"
             ],
             [
              0.2222222222222222,
              "#7201a8"
             ],
             [
              0.3333333333333333,
              "#9c179e"
             ],
             [
              0.4444444444444444,
              "#bd3786"
             ],
             [
              0.5555555555555556,
              "#d8576b"
             ],
             [
              0.6666666666666666,
              "#ed7953"
             ],
             [
              0.7777777777777778,
              "#fb9f3a"
             ],
             [
              0.8888888888888888,
              "#fdca26"
             ],
             [
              1,
              "#f0f921"
             ]
            ],
            "type": "heatmap"
           }
          ],
          "heatmapgl": [
           {
            "colorbar": {
             "outlinewidth": 0,
             "ticks": ""
            },
            "colorscale": [
             [
              0,
              "#0d0887"
             ],
             [
              0.1111111111111111,
              "#46039f"
             ],
             [
              0.2222222222222222,
              "#7201a8"
             ],
             [
              0.3333333333333333,
              "#9c179e"
             ],
             [
              0.4444444444444444,
              "#bd3786"
             ],
             [
              0.5555555555555556,
              "#d8576b"
             ],
             [
              0.6666666666666666,
              "#ed7953"
             ],
             [
              0.7777777777777778,
              "#fb9f3a"
             ],
             [
              0.8888888888888888,
              "#fdca26"
             ],
             [
              1,
              "#f0f921"
             ]
            ],
            "type": "heatmapgl"
           }
          ],
          "histogram": [
           {
            "marker": {
             "colorbar": {
              "outlinewidth": 0,
              "ticks": ""
             }
            },
            "type": "histogram"
           }
          ],
          "histogram2d": [
           {
            "colorbar": {
             "outlinewidth": 0,
             "ticks": ""
            },
            "colorscale": [
             [
              0,
              "#0d0887"
             ],
             [
              0.1111111111111111,
              "#46039f"
             ],
             [
              0.2222222222222222,
              "#7201a8"
             ],
             [
              0.3333333333333333,
              "#9c179e"
             ],
             [
              0.4444444444444444,
              "#bd3786"
             ],
             [
              0.5555555555555556,
              "#d8576b"
             ],
             [
              0.6666666666666666,
              "#ed7953"
             ],
             [
              0.7777777777777778,
              "#fb9f3a"
             ],
             [
              0.8888888888888888,
              "#fdca26"
             ],
             [
              1,
              "#f0f921"
             ]
            ],
            "type": "histogram2d"
           }
          ],
          "histogram2dcontour": [
           {
            "colorbar": {
             "outlinewidth": 0,
             "ticks": ""
            },
            "colorscale": [
             [
              0,
              "#0d0887"
             ],
             [
              0.1111111111111111,
              "#46039f"
             ],
             [
              0.2222222222222222,
              "#7201a8"
             ],
             [
              0.3333333333333333,
              "#9c179e"
             ],
             [
              0.4444444444444444,
              "#bd3786"
             ],
             [
              0.5555555555555556,
              "#d8576b"
             ],
             [
              0.6666666666666666,
              "#ed7953"
             ],
             [
              0.7777777777777778,
              "#fb9f3a"
             ],
             [
              0.8888888888888888,
              "#fdca26"
             ],
             [
              1,
              "#f0f921"
             ]
            ],
            "type": "histogram2dcontour"
           }
          ],
          "mesh3d": [
           {
            "colorbar": {
             "outlinewidth": 0,
             "ticks": ""
            },
            "type": "mesh3d"
           }
          ],
          "parcoords": [
           {
            "line": {
             "colorbar": {
              "outlinewidth": 0,
              "ticks": ""
             }
            },
            "type": "parcoords"
           }
          ],
          "pie": [
           {
            "automargin": true,
            "type": "pie"
           }
          ],
          "scatter": [
           {
            "marker": {
             "colorbar": {
              "outlinewidth": 0,
              "ticks": ""
             }
            },
            "type": "scatter"
           }
          ],
          "scatter3d": [
           {
            "line": {
             "colorbar": {
              "outlinewidth": 0,
              "ticks": ""
             }
            },
            "marker": {
             "colorbar": {
              "outlinewidth": 0,
              "ticks": ""
             }
            },
            "type": "scatter3d"
           }
          ],
          "scattercarpet": [
           {
            "marker": {
             "colorbar": {
              "outlinewidth": 0,
              "ticks": ""
             }
            },
            "type": "scattercarpet"
           }
          ],
          "scattergeo": [
           {
            "marker": {
             "colorbar": {
              "outlinewidth": 0,
              "ticks": ""
             }
            },
            "type": "scattergeo"
           }
          ],
          "scattergl": [
           {
            "marker": {
             "colorbar": {
              "outlinewidth": 0,
              "ticks": ""
             }
            },
            "type": "scattergl"
           }
          ],
          "scattermapbox": [
           {
            "marker": {
             "colorbar": {
              "outlinewidth": 0,
              "ticks": ""
             }
            },
            "type": "scattermapbox"
           }
          ],
          "scatterpolar": [
           {
            "marker": {
             "colorbar": {
              "outlinewidth": 0,
              "ticks": ""
             }
            },
            "type": "scatterpolar"
           }
          ],
          "scatterpolargl": [
           {
            "marker": {
             "colorbar": {
              "outlinewidth": 0,
              "ticks": ""
             }
            },
            "type": "scatterpolargl"
           }
          ],
          "scatterternary": [
           {
            "marker": {
             "colorbar": {
              "outlinewidth": 0,
              "ticks": ""
             }
            },
            "type": "scatterternary"
           }
          ],
          "surface": [
           {
            "colorbar": {
             "outlinewidth": 0,
             "ticks": ""
            },
            "colorscale": [
             [
              0,
              "#0d0887"
             ],
             [
              0.1111111111111111,
              "#46039f"
             ],
             [
              0.2222222222222222,
              "#7201a8"
             ],
             [
              0.3333333333333333,
              "#9c179e"
             ],
             [
              0.4444444444444444,
              "#bd3786"
             ],
             [
              0.5555555555555556,
              "#d8576b"
             ],
             [
              0.6666666666666666,
              "#ed7953"
             ],
             [
              0.7777777777777778,
              "#fb9f3a"
             ],
             [
              0.8888888888888888,
              "#fdca26"
             ],
             [
              1,
              "#f0f921"
             ]
            ],
            "type": "surface"
           }
          ],
          "table": [
           {
            "cells": {
             "fill": {
              "color": "#EBF0F8"
             },
             "line": {
              "color": "white"
             }
            },
            "header": {
             "fill": {
              "color": "#C8D4E3"
             },
             "line": {
              "color": "white"
             }
            },
            "type": "table"
           }
          ]
         },
         "layout": {
          "annotationdefaults": {
           "arrowcolor": "#2a3f5f",
           "arrowhead": 0,
           "arrowwidth": 1
          },
          "autotypenumbers": "strict",
          "coloraxis": {
           "colorbar": {
            "outlinewidth": 0,
            "ticks": ""
           }
          },
          "colorscale": {
           "diverging": [
            [
             0,
             "#8e0152"
            ],
            [
             0.1,
             "#c51b7d"
            ],
            [
             0.2,
             "#de77ae"
            ],
            [
             0.3,
             "#f1b6da"
            ],
            [
             0.4,
             "#fde0ef"
            ],
            [
             0.5,
             "#f7f7f7"
            ],
            [
             0.6,
             "#e6f5d0"
            ],
            [
             0.7,
             "#b8e186"
            ],
            [
             0.8,
             "#7fbc41"
            ],
            [
             0.9,
             "#4d9221"
            ],
            [
             1,
             "#276419"
            ]
           ],
           "sequential": [
            [
             0,
             "#0d0887"
            ],
            [
             0.1111111111111111,
             "#46039f"
            ],
            [
             0.2222222222222222,
             "#7201a8"
            ],
            [
             0.3333333333333333,
             "#9c179e"
            ],
            [
             0.4444444444444444,
             "#bd3786"
            ],
            [
             0.5555555555555556,
             "#d8576b"
            ],
            [
             0.6666666666666666,
             "#ed7953"
            ],
            [
             0.7777777777777778,
             "#fb9f3a"
            ],
            [
             0.8888888888888888,
             "#fdca26"
            ],
            [
             1,
             "#f0f921"
            ]
           ],
           "sequentialminus": [
            [
             0,
             "#0d0887"
            ],
            [
             0.1111111111111111,
             "#46039f"
            ],
            [
             0.2222222222222222,
             "#7201a8"
            ],
            [
             0.3333333333333333,
             "#9c179e"
            ],
            [
             0.4444444444444444,
             "#bd3786"
            ],
            [
             0.5555555555555556,
             "#d8576b"
            ],
            [
             0.6666666666666666,
             "#ed7953"
            ],
            [
             0.7777777777777778,
             "#fb9f3a"
            ],
            [
             0.8888888888888888,
             "#fdca26"
            ],
            [
             1,
             "#f0f921"
            ]
           ]
          },
          "colorway": [
           "#636efa",
           "#EF553B",
           "#00cc96",
           "#ab63fa",
           "#FFA15A",
           "#19d3f3",
           "#FF6692",
           "#B6E880",
           "#FF97FF",
           "#FECB52"
          ],
          "font": {
           "color": "#2a3f5f"
          },
          "geo": {
           "bgcolor": "white",
           "lakecolor": "white",
           "landcolor": "#E5ECF6",
           "showlakes": true,
           "showland": true,
           "subunitcolor": "white"
          },
          "hoverlabel": {
           "align": "left"
          },
          "hovermode": "closest",
          "mapbox": {
           "style": "light"
          },
          "paper_bgcolor": "white",
          "plot_bgcolor": "#E5ECF6",
          "polar": {
           "angularaxis": {
            "gridcolor": "white",
            "linecolor": "white",
            "ticks": ""
           },
           "bgcolor": "#E5ECF6",
           "radialaxis": {
            "gridcolor": "white",
            "linecolor": "white",
            "ticks": ""
           }
          },
          "scene": {
           "xaxis": {
            "backgroundcolor": "#E5ECF6",
            "gridcolor": "white",
            "gridwidth": 2,
            "linecolor": "white",
            "showbackground": true,
            "ticks": "",
            "zerolinecolor": "white"
           },
           "yaxis": {
            "backgroundcolor": "#E5ECF6",
            "gridcolor": "white",
            "gridwidth": 2,
            "linecolor": "white",
            "showbackground": true,
            "ticks": "",
            "zerolinecolor": "white"
           },
           "zaxis": {
            "backgroundcolor": "#E5ECF6",
            "gridcolor": "white",
            "gridwidth": 2,
            "linecolor": "white",
            "showbackground": true,
            "ticks": "",
            "zerolinecolor": "white"
           }
          },
          "shapedefaults": {
           "line": {
            "color": "#2a3f5f"
           }
          },
          "ternary": {
           "aaxis": {
            "gridcolor": "white",
            "linecolor": "white",
            "ticks": ""
           },
           "baxis": {
            "gridcolor": "white",
            "linecolor": "white",
            "ticks": ""
           },
           "bgcolor": "#E5ECF6",
           "caxis": {
            "gridcolor": "white",
            "linecolor": "white",
            "ticks": ""
           }
          },
          "title": {
           "x": 0.05
          },
          "xaxis": {
           "automargin": true,
           "gridcolor": "white",
           "linecolor": "white",
           "ticks": "",
           "title": {
            "standoff": 15
           },
           "zerolinecolor": "white",
           "zerolinewidth": 2
          },
          "yaxis": {
           "automargin": true,
           "gridcolor": "white",
           "linecolor": "white",
           "ticks": "",
           "title": {
            "standoff": 15
           },
           "zerolinecolor": "white",
           "zerolinewidth": 2
          }
         }
        }
       }
      },
      "text/html": [
       "<div>                            <div id=\"2940adbd-64d3-44db-a858-01a6ec735c3a\" class=\"plotly-graph-div\" style=\"height:525px; width:100%;\"></div>            <script type=\"text/javascript\">                require([\"plotly\"], function(Plotly) {                    window.PLOTLYENV=window.PLOTLYENV || {};                                    if (document.getElementById(\"2940adbd-64d3-44db-a858-01a6ec735c3a\")) {                    Plotly.newPlot(                        \"2940adbd-64d3-44db-a858-01a6ec735c3a\",                        [{\"customdata\": [[\"Courtesy Shell #4\", \"91%\", \"2241 S IH\", \"2020-12-11T00:00:00\"], [\"Little China Restaurant\", \"92%\", \"1921 CEDAR BEND DR\", \"2020-12-22T00:00:00\"], [\"PF - Los Amigos Market (Grocery/Produce)\", \"96%\", \"15812 WINDERMERE DR\", \"2020-12-01T00:00:00\"], [\"Del Valle ISD Opportunity Center\", \"96%\", \"5301 ROSS RD\", \"2020-12-02T00:00:00\"], [\"WL - Randall's #2477-Bakery\", \"99%\", \"3300 BEE CAVES RD\", \"2020-12-07T00:00:00\"], [\"Tavern, The\", \"75%\", \"922 W 12TH ST\", \"2020-12-14T00:00:00\"], [\"Walgreens #3341\", \"98%\", \"5600 S 1ST ST\", \"2020-12-14T00:00:00\"], [\"La Madeleine # 201\", \"92%\", \"9828 GREAT HILLS TRL\", \"2020-12-08T00:00:00\"], [\"P F Chang's China Bistro\", \"99%\", \"10114 JOLLYVILLE RD\", \"2020-12-02T00:00:00\"], [\"Stepping Stone School\", \"94%\", \"8121 SHOAL CREEK BLVD\", \"2020-12-14T00:00:00\"], [\"Cover 2\", \"70%\", \"13701 N US 183 HWY\", \"2020-12-07T00:00:00\"], [\"BC - Chick-Fil-A of Lake Travis\", \"94%\", \"3600 S FM 620 RD\", \"2020-12-03T00:00:00\"], [\"Willie's Bar-B-Q\", \"78%\", \"4505 E MARTIN LUTHER KING JR BLVD\", \"2020-12-07T00:00:00\"], [\"Pretzel Maker\", \"90%\", \"2901 S CAPITAL OF TEXAS HWY\", \"2020-12-09T00:00:00\"], [\"Church's Chicken Store No. 386\", \"86%\", \"1945 W WILLIAM CANNON DR\", \"2020-12-16T00:00:00\"], [\"St. Paul Lutheran\", \"89%\", \"3501 RED RIVER ST\", \"2020-12-03T00:00:00\"], [\"La Mexiquense\", \"94%\", \"850 E RUNDBERG LN\", \"2020-12-22T00:00:00\"], [\"Los Comales Taqueria\", \"86%\", \"2136 E 7TH ST\", \"2020-12-14T00:00:00\"], [\"Speedy Express\", \"95%\", \"12836 E US 290 HWY\", \"2020-12-03T00:00:00\"], [\"Encompass Health Rehabilitation Hospital of Austin\", \"94%\", \"330 W BEN WHITE BLVD\", \"2020-12-11T00:00:00\"], [\"Seoul Restaurant\", \"81%\", \"6400 S 1ST ST\", \"2020-12-07T00:00:00\"], [\"CVS Pharmacy #6893\", \"98%\", \"3569 FAR WEST BLVD\", \"2020-12-11T00:00:00\"], [\"Little Country Diner\", \"93%\", \"22000 W SH\", \"2020-12-15T00:00:00\"], [\"PF - Accent Food Services\", \"97%\", \"2913 AW GRIMES BLVD\", \"2020-12-15T00:00:00\"], [\"South Austin Beer Garden\", \"93%\", \"10700 MANCHACA RD\", \"2020-12-10T00:00:00\"], [\"Oasis Cantina\", \"90%\", \"6550 COMANCHE TRL\", \"2020-12-04T00:00:00\"], [\"PF - Freddy's Frozen Custard & Steakburgers\", \"90%\", \"2602 W PECAN ST\", \"2020-12-01T00:00:00\"], [\"Thom's Market\", \"97%\", \"1500 SPYGLASS DR\", \"2020-12-11T00:00:00\"], [\"EPOCH Coffee\", \"100%\", \"3900 FAR WEST BLVD\", \"2020-12-01T00:00:00\"], [\"Tokyo Gardens Catering\", \"100%\", \"6001 W PARMER LN\", \"2020-12-22T00:00:00\"], [\"Harmony Science Academy-Pflugerville\", \"100%\", \"1421 W WELLS BRANCH PKWY\", \"2020-12-02T00:00:00\"], [\"Freebirds World Burrito\", \"91%\", \"11101 BURNET RD\", \"2020-12-22T00:00:00\"], [\"E-Z Stop Groceries & Gas / Conoco\", \"92%\", \"5029 MANOR RD\", \"2020-12-07T00:00:00\"], [\"Cava Mezze Grill\", \"90%\", \"10808 DOMAIN DR\", \"2020-12-21T00:00:00\"], [\"Austin's Pizza #23\", \"97%\", \"3435 GREYSTONE DR\", \"2020-12-01T00:00:00\"], [\"Fogo De Chao Churrascaria\", \"85%\", \"309 E 3RD ST\", \"2020-12-10T00:00:00\"], [\"Zilker Elementary\", \"99%\", \"1900 BLUEBONNET LN\", \"2020-12-15T00:00:00\"], [\"Pho Tin\", \"70%\", \"2438 W ANDERSON LN\", \"2020-12-08T00:00:00\"], [\"PF - HEB Food Store #479 (Grocery)\", \"95%\", \"201 N FM\", \"2020-12-15T00:00:00\"], [\"La Pera\", \"97%\", \"502 THOMPSON LN\", \"2020-12-23T00:00:00\"], [\"Residence Inn Austin North/Parmer\", \"100%\", \"12401 N LAMAR BLVD\", \"2020-12-22T00:00:00\"], [\"Whole Foods Market\", \"93%\", \"901 E 5TH ST\", \"2020-12-17T00:00:00\"], [\"Fazoli's Italian Food\", \"90%\", \"13201 N FM 620 RD\", \"2020-12-01T00:00:00\"], [\"Snowfox SC8259\", \"98%\", \"1 2\", \"2020-12-16T00:00:00\"], [\"John Connally High School\", \"93%\", \"13212 N LAMAR BLVD\", \"2020-12-07T00:00:00\"], [\"HEB #20 Retail\", \"99%\", \"6001 W PARMER LN\", \"2020-12-22T00:00:00\"], [\"Circle K Store #2704677\", \"80%\", \"1601 E ST ELMO RD\", \"2020-12-11T00:00:00\"], [\"Jack in the Box #4850\", \"98%\", \"2517 E SH\", \"2020-12-15T00:00:00\"], [\"Generations\", \"93%\", \"8203 SAM RAYBURN DR\", \"2020-12-10T00:00:00\"], [\"WL - Randall's Grocery #2477\", \"97%\", \"3300 BEE CAVES RD\", \"2020-12-07T00:00:00\"], [\"Double Dave's Pizza\", \"88%\", \"13343 N US 183 HWY\", \"2020-12-08T00:00:00\"], [\"Jimmy John's Gourmet Sandwiches\", \"95%\", \"10900 RESEARCH BLVD\", \"2020-12-14T00:00:00\"], [\"PF-Moi! Vietnamese Grill\", \"91%\", \"16051 DESSAU RD\", \"2020-12-15T00:00:00\"], [\"Kerbey Lane\", \"89%\", \"2606 GUADALUPE ST\", \"2020-12-14T00:00:00\"], [\"7-Eleven Convenience Store #36274B\", \"97%\", \"3324 NORTHLAND DR\", \"2020-12-08T00:00:00\"], [\"Twin Peaks\", \"93%\", \"701 E STASSNEY LN\", \"2020-12-03T00:00:00\"], [\"Taco Bell #030080\", \"91%\", \"3324 W SLAUGHTER LN\", \"2020-12-23T00:00:00\"], [\"BC - Barnes & Noble Booksellers\", \"94%\", \"12701 HILL COUNTRY BLVD\", \"2020-12-15T00:00:00\"], [\"MN - Golden Beijing\", \"80%\", \"100 E PARSONS ST\", \"2020-12-17T00:00:00\"], [\"Nickel City\", \"92%\", \"1133 E 11TH ST\", \"2020-12-16T00:00:00\"], [\"Lost Creek Country Club\", \"92%\", \"2612 LOST CREEK BLVD\", \"2020-12-16T00:00:00\"], [\"Circle K #2741308\", \"93%\", \"8656 SPICEWOOD SPRINGS RD\", \"2020-12-18T00:00:00\"], [\"Miraval Austin (Pool Cafe)\", \"100%\", \"13500 FM 2769 RD\", \"2020-12-17T00:00:00\"], [\"Nanami Sushi Bar\", \"75%\", \"9001 BRODIE LN\", \"2020-12-14T00:00:00\"], [\"Pollolandia\", \"91%\", \"14905 DESSAU RD\", \"2020-12-11T00:00:00\"], [\"Austin Baptist Chapel\", \"94%\", \"908 E CESAR CHAVEZ ST\", \"2020-12-17T00:00:00\"], [\"TEJI's Indian Restaurant\", \"54%\", \"2100 GUADALUPE ST\", \"2020-12-16T00:00:00\"], [\"Wooldridge Elementary\", \"100%\", \"1412 NORSEMAN TER\", \"2020-12-16T00:00:00\"], [\"McDonald's #24993\", \"89%\", \"6010 W PARMER LN\", \"2020-12-09T00:00:00\"], [\"PF - Cobal Food Service\", \"90%\", \"2913 A W GRIMES BLVD\", \"2020-12-15T00:00:00\"], [\"Pizzeria Casa Nostra\", \"93%\", \"21209 W SH\", \"2020-12-15T00:00:00\"], [\"Little Woodrow's\", \"96%\", \"6301 W PARMER LN\", \"2020-12-10T00:00:00\"], [\"Smokey Mo's BBQ\", \"80%\", \"6001 W PARMER LN\", \"2020-12-22T00:00:00\"], [\"PF - Nothing Bundt Cakes\", \"98%\", \"18616 LIMESTONE COMMERCIAL DR\", \"2020-12-17T00:00:00\"], [\"Bombay Walla\", \"86%\", \"8023 BURNET RD\", \"2020-12-03T00:00:00\"], [\"Hacienda Arandinas\", \"89%\", \"9001 BRODIE LN\", \"2020-12-15T00:00:00\"], [\"Chuy's Bakery\", \"83%\", \"801 E WILLIAM CANNON DR\", \"2020-12-08T00:00:00\"], [\"MN - Texas Traditional BBQ\", \"82%\", \"910 N CALDWELL ST\", \"2020-12-04T00:00:00\"], [\"LW - Flores Mexican Restaurant\", \"88%\", \"2127 LOHMANS CROSSING RD\", \"2020-12-23T00:00:00\"], [\"Wal-Mart Supercenter #1253-Meat/Produce\", \"97%\", \"710 E BEN WHITE BLVD\", \"2020-12-15T00:00:00\"], [\"Tiny's Milk & Cookies\", \"92%\", \"1515 W 35TH ST\", \"2020-12-07T00:00:00\"], [\"PF - Los Amigos Meat (Kitchen)\", \"92%\", \"15812 WINDERMERE DR\", \"2020-12-01T00:00:00\"], [\"NorthEast High School\", \"98%\", \"7104 BERKMAN DR\", \"2020-12-17T00:00:00\"], [\"Pacha\", \"88%\", \"4618 BURNET RD\", \"2020-12-22T00:00:00\"], [\"Provident Memory Care\", \"96%\", \"11013 SIGNAL HILL DR\", \"2020-12-01T00:00:00\"], [\"Target Store T3250 - Starbucks\", \"97%\", \"2021 GUADALUPE ST\", \"2020-12-02T00:00:00\"], [\"Circle K #2742420\", \"86%\", \"1405 W WILLIAM CANNON DR\", \"2020-12-01T00:00:00\"], [\"Austin Daily Press\", \"93%\", \"3121 S LAMAR BLVD\", \"2020-12-21T00:00:00\"], [\"HEB #20 Deli & Bakery\", \"88%\", \"6001 W PARMER LN\", \"2020-12-22T00:00:00\"], [\"Parmer Lane Tavern\", \"89%\", \"2121 W PARMER LN\", \"2020-12-23T00:00:00\"], [\"Numart\", \"88%\", \"11913 RANCHO ALTO RD\", \"2020-12-03T00:00:00\"], [\"OOB Sonic\", \"86%\", \"12453 LAMPLIGHT VILLAGE AVE\", \"2020-12-01T00:00:00\"], [\"Wing's N More\", \"74%\", \"1200 W HOWARD LN\", \"2020-12-23T00:00:00\"], [\"Cheesecake Factory\", \"93%\", \"10000 RESEARCH BLVD\", \"2020-12-08T00:00:00\"], [\"Tender Memories Learning Center\", \"97%\", \"308 W STASSNEY LN\", \"2020-12-02T00:00:00\"], [\"Long John Silver's\", \"93%\", \"5600 CAMERON RD\", \"2020-12-16T00:00:00\"], [\"Short Stop #2\", \"89%\", \"12784 N US 183 HWY\", \"2020-12-09T00:00:00\"], [\"Verdes Grill\", \"94%\", \"16018 HAMILTON POOL RD\", \"2020-12-03T00:00:00\"], [\"Food' n More\", \"89%\", \"9400 N IH\", \"2020-12-21T00:00:00\"], [\"Donut Crown\", \"92%\", \"2438 W ANDERSON LN\", \"2020-12-17T00:00:00\"], [\"PitaLicious\", \"76%\", \"4101 W PARMER LN\", \"2020-12-01T00:00:00\"], [\"Tam Deli Cafe\", \"78%\", \"8222 N LAMAR BLVD\", \"2020-12-02T00:00:00\"], [\"Chuck E. Cheese's #951\", \"89%\", \"9811 S IH\", \"2020-12-23T00:00:00\"], [\"7-Eleven Convenience Store #36563B\", \"79%\", \"11643 RESEARCH BLVD\", \"2020-12-23T00:00:00\"], [\"Radio Coffee & Beer\", \"97%\", \"4204 MANCHACA RD\", \"2020-12-11T00:00:00\"], [\"Texas French Bread\", \"95%\", \"2900 RIO GRANDE ST\", \"2020-12-14T00:00:00\"], [\"Popeye's #323 - Z & H Foods Inc.\", \"91%\", \"9718 MANCHACA RD\", \"2020-12-22T00:00:00\"], [\"Jack in the Box #949\", \"90%\", \"9300 S IH\", \"2020-12-23T00:00:00\"], [\"Via 313\", \"94%\", \"1802 E 6TH ST\", \"2020-12-17T00:00:00\"], [\"Beatniks Market\", \"87%\", \"4415 MANCHACA RD\", \"2020-12-11T00:00:00\"], [\"Casa Vallarta Restaurant\", \"72%\", \"6002 BURLESON RD\", \"2020-12-22T00:00:00\"], [\"Summermoon Coffee Bar\", \"96%\", \"11601 W US 290 HWY\", \"2020-12-04T00:00:00\"], [\"Donut Taco Palace II\", \"89%\", \"1807 W SLAUGHTER LN\", \"2020-12-18T00:00:00\"], [\"Kentucky Fried Chicken\", \"74%\", \"13435 N US 183 HWY\", \"2020-12-15T00:00:00\"], [\"Jimmy Johns\", \"100%\", \"515 CONGRESS AVE\", \"2020-12-04T00:00:00\"], [\"Star Stop 75\", \"98%\", \"5801 N IH\", \"2020-12-04T00:00:00\"], [\"Hospice Austin\", \"100%\", \"2820 E MARTIN LUTHER KING JR BLVD\", \"2020-12-16T00:00:00\"], [\"Texas Chili Parlor\", \"87%\", \"1409 LAVACA ST\", \"2020-12-01T00:00:00\"], [\"O' Henry Jr High\", \"99%\", \"2610 W 10TH ST\", \"2020-12-10T00:00:00\"], [\"PF - Iron Fish Sushi and Grill\", \"87%\", \"900 E PECAN ST\", \"2020-12-16T00:00:00\"], [\"Starbuck's Coffee#6203\", \"100%\", \"9722 GREAT HILLS TRL\", \"2020-12-08T00:00:00\"], [\"Epoch Coffee\", \"92%\", \"2700 W ANDERSON LN\", \"2020-12-11T00:00:00\"], [\"Express - O\", \"91%\", \"2228 E CESAR CHAVEZ ST\", \"2020-12-16T00:00:00\"], [\"Homer's Bar and Grill\", \"99%\", \"1779 W WELLS BRANCH PKWY\", \"2020-12-16T00:00:00\"], [\"Rosedale Market\", \"87%\", \"1309 W 45TH ST\", \"2020-12-22T00:00:00\"], [\"Modern Market\", \"95%\", \"3201 BEE CAVES RD\", \"2020-12-07T00:00:00\"], [\"Marbridge Foundation-Villa\", \"93%\", \"2504 BLISS SPILLAR RD\", \"2020-12-02T00:00:00\"], [\"Peoples Pharmacy\", \"100%\", \"4018 N LAMAR BLVD\", \"2020-12-01T00:00:00\"], [\"BC - Walgreens #11272\", \"100%\", \"12200 BEE CAVE PKWY\", \"2020-12-02T00:00:00\"], [\"Domino's\", \"94%\", \"5145 N FM 620 RD\", \"2020-12-21T00:00:00\"], [\"Shop N Save\", \"88%\", \"2204 WOODLAND AVE\", \"2020-12-01T00:00:00\"], [\"Whistle Stop Grocery/La Mexicana\", \"95%\", \"834 E RUNDBERG LN\", \"2020-12-11T00:00:00\"], [\"Dollar General Store #12967\", \"91%\", \"6729 MANOR RD\", \"2020-12-04T00:00:00\"], [\"Zachary Scott Theatre Center\", \"100%\", \"202 S LAMAR BLVD\", \"2020-12-10T00:00:00\"], [\"Rudy's Country Store and BBQ\", \"93%\", \"2451 S CAPITAL OF TEXAS HWY\", \"2020-12-16T00:00:00\"], [\"Catfish Parlour\", \"92%\", \"11910 RESEARCH BLVD\", \"2020-12-10T00:00:00\"], [\"Domino's\", \"99%\", \"311 W 5TH ST\", \"2020-12-01T00:00:00\"], [\"Tutty Frutty\", \"90%\", \"500 W WILLIAM CANNON DR\", \"2020-12-04T00:00:00\"], [\"WL - Waterfall Restaurant @ Westlake Surgical\", \"100%\", \"5656 BEE CAVES RD\", \"2020-12-08T00:00:00\"], [\"High 5\", \"76%\", \"2700 W ANDERSON LN\", \"2020-12-21T00:00:00\"], [\"Bruegger's Bagels\", \"91%\", \"3267 BEE CAVES RD\", \"2020-12-07T00:00:00\"], [\"Eureka\", \"96%\", \"200 E 6TH ST\", \"2020-12-08T00:00:00\"], [\"Eastside Pies Too!\", \"86%\", \"5312 AIRPORT BLVD\", \"2020-12-17T00:00:00\"], [\"Waffle House #1623\", \"95%\", \"7809 E BEN WHITE BLVD\", \"2020-12-18T00:00:00\"], [\"Bowie H.S. Culinary Kitchen\", \"97%\", \"4103 W SLAUGHTER LN\", \"2020-12-07T00:00:00\"], [\"Signature #2\", \"97%\", \"608 S LAMAR BLVD\", \"2020-12-11T00:00:00\"], [\"Accent Food Services - Netspend Airport\", \"99%\", \"5800 AIRPORT BLVD\", \"2020-12-18T00:00:00\"], [\"Backyard Bar & Grill\", \"100%\", \"9900 S IH\", \"2020-12-10T00:00:00\"], [\"La Michoacana-Austin #3 (Kitchen)\", \"88%\", \"512 W STASSNEY LN\", \"2020-12-10T00:00:00\"], [\"Pizza Day\", \"86%\", \"10225 RESEARCH BLVD\", \"2020-12-09T00:00:00\"], [\"Burger King #4228\", \"88%\", \"9523 N LAMAR BLVD\", \"2020-12-21T00:00:00\"], [\"WL-Trianon Coffee\", \"90%\", \"3654 BEE CAVES RD\", \"2020-12-17T00:00:00\"], [\"MN - Panda Express #2516\", \"98%\", \"11808 RING DR\", \"2020-12-09T00:00:00\"], [\"BC-Giovanni's Table\", \"93%\", \"11701 FM 2244 RD\", \"2020-12-01T00:00:00\"], [\"Flyrite Chicken Inc\", \"80%\", \"6539 BURNET RD\", \"2020-12-07T00:00:00\"], [\"HEB Deli #236\", \"96%\", \"1434 W WELLS BRANCH PKWY\", \"2020-12-11T00:00:00\"], [\"DH Mini Mart\", \"96%\", \"2911 S 1ST ST\", \"2020-12-15T00:00:00\"], [\"BC - Bon Japanese Cuisine\", \"96%\", \"3500 S FM 620 RD\", \"2020-12-15T00:00:00\"], [\"Subway #44843\", \"90%\", \"11215 S IH\", \"2020-12-23T00:00:00\"], [\"LW - Pao's Mandarin House\", \"88%\", \"2300 LOHMANS SPUR RD\", \"2020-12-18T00:00:00\"], [\"Staybridge Hotel\", \"89%\", \"1611 AIRPORT COMMERCE DR\", \"2020-12-17T00:00:00\"], [\"PF - Kumar's Austin\", \"73%\", \"15803 WINDERMERE DR\", \"2020-12-17T00:00:00\"], [\"Wingstop #188\", \"86%\", \"9616 N LAMAR BLVD\", \"2020-12-18T00:00:00\"], [\"Starbucks Coffee #9617\", \"91%\", \"9600 ESCARPMENT BLVD\", \"2020-12-16T00:00:00\"], [\"BC- Artemis Mediterranean Grill\", \"89%\", \"4025 S FM 620 RD\", \"2020-12-03T00:00:00\"], [\"Summermoon Coffee Bar\", \"91%\", \"8300 N FM 620 RD\", \"2020-12-14T00:00:00\"], [\"Crazy Fruits # 2\", \"95%\", \"6100 E RIVERSIDE DR\", \"2020-12-23T00:00:00\"], [\"Stepping Stone Child Care\", \"93%\", \"1710 RICHCREEK RD\", \"2020-12-18T00:00:00\"], [\"Pho MPH\", \"84%\", \"4616 TRIANGLE AVE\", \"2020-12-22T00:00:00\"], [\"Dollar General #16198\", \"97%\", \"13903 FM 812 RD\", \"2020-12-17T00:00:00\"], [\"LW - Santa Catarina\", \"79%\", \"1310 S FM 620 RD\", \"2020-12-21T00:00:00\"], [\"Paola's Kitchen\", \"95%\", \"1700 W ANDERSON LN\", \"2020-12-21T00:00:00\"], [\"2nd Street Market\", \"89%\", \"200 SAN JACINTO BLVD\", \"2020-12-14T00:00:00\"], [\"Central Donut\", \"93%\", \"1910 W BRAKER LN\", \"2020-12-21T00:00:00\"], [\"DJ's Food & Gas Stop\", \"93%\", \"1135 AIRPORT BLVD\", \"2020-12-11T00:00:00\"], [\"Buddy's Mexican Grill\", \"81%\", \"9001 CAMERON RD\", \"2020-12-04T00:00:00\"], [\"Walnut Hills Nursing & Rehab\", \"89%\", \"3509 ROGGE LN\", \"2020-12-15T00:00:00\"], [\"Food Basket\", \"85%\", \"12503 LAMPLIGHT VILLAGE AVE\", \"2020-12-21T00:00:00\"], [\"El Pollo Rico #4\", \"94%\", \"730 W STASSNEY LN\", \"2020-12-03T00:00:00\"], [\"Kerbey Lane Cafe\", \"70%\", \"13435 N US 183 HWY\", \"2020-12-15T00:00:00\"], [\"Joy East Chinese Buffet\", \"74%\", \"2410 E RIVERSIDE DR\", \"2020-12-01T00:00:00\"], [\"Fairfield Inn & Suites Austin North\", \"96%\", \"12536 N IH\", \"2020-12-22T00:00:00\"], [\"Old School Liquor & Market\", \"99%\", \"1901 W WILLIAM CANNON DR\", \"2020-12-09T00:00:00\"], [\"Teji's Indian Restaurant\", \"92%\", \"8023 BURNET RD\", \"2020-12-03T00:00:00\"], [\"RBM Food Mart\", \"87%\", \"2601 MANOR RD\", \"2020-12-07T00:00:00\"], [\"7-Eleven Convenience Store # 24909B\", \"78%\", \"8010 BRODIE LN\", \"2020-12-16T00:00:00\"], [\"HEB #236\", \"100%\", \"1434 W WELLS BRANCH PKWY\", \"2020-12-11T00:00:00\"], [\"Popeye's #318 - Z & H Foods Inc\", \"95%\", \"9815 N LAMAR BLVD\", \"2020-12-03T00:00:00\"], [\"Foodie's Corner 2\", \"96%\", \"2400 RIO GRANDE ST\", \"2020-12-15T00:00:00\"], [\"Gold's Gym Austin Downtown\", \"98%\", \"115 E 6TH ST\", \"2020-12-14T00:00:00\"], [\"7-Eleven Convenience Store #36592A\", \"91%\", \"12000 N MOPAC EXPY\", \"2020-12-23T00:00:00\"], [\"Siena Restaurant at Bull Creek\", \"91%\", \"6203 N CAPITAL OF TEXAS HWY\", \"2020-12-15T00:00:00\"], [\"WL - Chick-Fil-A\", \"98%\", \"701 S CAPITAL OF TEXAS HWY\", \"2020-12-08T00:00:00\"], [\"Clay Pit Contemporary Indian Restaurant\", \"88%\", \"1601 GUADALUPE ST\", \"2020-12-02T00:00:00\"], [\"San Francisco Bakery Cafe\", \"89%\", \"2900 W ANDERSON LN\", \"2020-12-18T00:00:00\"], [\"Antonelli's Cheese Shop\", \"95%\", \"500 PARK BLVD\", \"2020-12-07T00:00:00\"], [\"Stop N Tote\", \"80%\", \"2715 E 5TH ST\", \"2020-12-15T00:00:00\"], [\"Circle K #2740080\", \"88%\", \"3909 GUADALUPE ST\", \"2020-12-07T00:00:00\"], [\"Little Rascals Day Care\", \"89%\", \"1006 E YAGER LN\", \"2020-12-15T00:00:00\"], [\"Wheatsville Food Co-Op - Deli\", \"91%\", \"4001 S LAMAR BLVD\", \"2020-12-14T00:00:00\"], [\"Jiffy Sak\", \"95%\", \"6105 TECHNI CENTER DR\", \"2020-12-08T00:00:00\"], [\"EPIC POKE\", \"93%\", \"6448 E US\", \"2020-12-03T00:00:00\"], [\"Omelettry, The\", \"89%\", \"4631 AIRPORT BLVD\", \"2020-12-22T00:00:00\"], [\"LW - Orange Leaf\", \"95%\", \"2011 MAIN ST\", \"2020-12-07T00:00:00\"], [\"Westminster Manor AL & Arbour Dining Services\", \"92%\", \"4200 JACKSON AVE\", \"2020-12-01T00:00:00\"], [\"Rositas Al Pastor\", \"86%\", \"1911 E RIVERSIDE DR\", \"2020-12-16T00:00:00\"], [\"Short Stop\", \"83%\", \"6603 BERKMAN DR\", \"2020-12-01T00:00:00\"], [\"Lala's\", \"86%\", \"2207 JUSTIN LN\", \"2020-12-21T00:00:00\"], [\"KIPP Austin Public Schools\", \"96%\", \"8509 FM 969 RD\", \"2020-12-04T00:00:00\"], [\"Amy's Ice Cream\", \"95%\", \"10000 RESEARCH BLVD\", \"2020-12-21T00:00:00\"], [\"Ravenscroft Market\", \"87%\", \"11200 MANCHACA RD\", \"2020-12-03T00:00:00\"], [\"Nordstrom Ebar\", \"98%\", \"3111 PALM WAY\", \"2020-12-21T00:00:00\"], [\"Best Western Plus, Austin Airport\", \"92%\", \"1805 AIRPORT COMMERCE DR\", \"2020-12-17T00:00:00\"], [\"Star Papa\", \"98%\", \"11601 W US 290 HWY\", \"2020-12-04T00:00:00\"], [\"YMOK DayCare Austin LLC\", \"100%\", \"510 CLARKE ST\", \"2020-12-02T00:00:00\"], [\"Thundercloud Subs\", \"91%\", \"3204 GUADALUPE ST\", \"2020-12-14T00:00:00\"], [\"Little Caesar's Pizza\", \"87%\", \"4410 E RIVERSIDE DR\", \"2020-12-11T00:00:00\"], [\"Nana's Playhouse Learning Center\", \"96%\", \"4406 RUSSELL DR\", \"2020-12-04T00:00:00\"], [\"ATX Food Mart\", \"98%\", \"3002 S CONGRESS AVE\", \"2020-12-14T00:00:00\"], [\"PF - Children's Courtyard, The\", \"99%\", \"1308 PICADILLY DR\", \"2020-12-21T00:00:00\"], [\"Walnut Creek School\", \"96%\", \"401 W BRAKER LN\", \"2020-12-08T00:00:00\"], [\"Cuvee Coffee\", \"98%\", \"2000 E 6TH ST\", \"2020-12-11T00:00:00\"], [\"Ruby Thai Kitchen\", \"80%\", \"2901 S CAPITAL OF TEXAS HWY\", \"2020-12-09T00:00:00\"], [\"Chow Town Foods\", \"100%\", \"14735 BRATTON LN\", \"2020-12-16T00:00:00\"], [\"Cafe Regents\", \"90%\", \"3230 TRAVIS COUNTRY CIR\", \"2020-12-16T00:00:00\"], [\"Chili's Grill & Bar\", \"84%\", \"701 E STASSNEY LN\", \"2020-12-17T00:00:00\"], [\"Teapioca Arboretum\", \"86%\", \"10000 RESEARCH BLVD\", \"2020-12-14T00:00:00\"], [\"PF - La Patisserie by Oven - Fresh Delights\", \"98%\", \"2604 W PECAN ST\", \"2020-12-01T00:00:00\"], [\"Stop N Start\", \"88%\", \"6010 W PARMER LN\", \"2020-12-08T00:00:00\"], [\"PF - Shogun Japanese Grill & Sushi Bar\", \"75%\", \"18816 LIMESTONE COMMERCIAL DR\", \"2020-12-15T00:00:00\"], [\"Texan Market No. 7, The\", \"86%\", \"4205 MANCHACA RD\", \"2020-12-23T00:00:00\"], [\"House Wine\", \"89%\", \"408 JOSEPHINE ST\", \"2020-12-21T00:00:00\"], [\"Spokesman\", \"97%\", \"440 E ST ELMO RD\", \"2020-12-10T00:00:00\"], [\"Hudson's Hill Country\", \"93%\", \"3509 N FM 620 RD\", \"2020-12-22T00:00:00\"], [\"Subway #43067\", \"97%\", \"1910 W BRAKER LN\", \"2020-12-21T00:00:00\"], [\"Nothing Bundt Cakes - South Austin\", \"97%\", \"9600 S IH\", \"2020-12-04T00:00:00\"], [\"Growing Imaginations L.C.\", \"100%\", \"5410 S 1ST ST\", \"2020-12-07T00:00:00\"], [\"Village @ Marbridge\", \"100%\", \"2310 BLISS SPILLAR RD\", \"2020-12-02T00:00:00\"], [\"Intel ANA Cafe\", \"97%\", \"1300 S MOPAC EXPY\", \"2020-12-10T00:00:00\"], [\"Muro's Pizza\", \"98%\", \"6301 W PARMER LN\", \"2020-12-10T00:00:00\"], [\"Tiff's Treats\", \"80%\", \"11011 RESEARCH BLVD\", \"2020-12-02T00:00:00\"], [\"Children's Courtyard\", \"98%\", \"4213 SPICEWOOD SPRINGS RD\", \"2020-12-16T00:00:00\"], [\"Heritage Park Rehabilitation and Skilled Nursing Center\", \"95%\", \"2806 REAL ST\", \"2020-12-04T00:00:00\"], [\"Terry's Seafood\", \"86%\", \"1805 AIRPORT BLVD\", \"2020-12-08T00:00:00\"], [\"Batch Craft Beer & Kolaches\", \"91%\", \"3220 MANOR RD\", \"2020-12-11T00:00:00\"], [\"The Liberty\", \"100%\", \"1618 1 2 E 6TH ST\", \"2020-12-12T00:00:00\"], [\"Wendy's Old Fashioned Hamburgers #113\", \"80%\", \"6210 E BEN WHITE BLVD\", \"2020-12-18T00:00:00\"], [\"WL - Tacodeli V, L.L.C.\", \"92%\", \"701 S CAPITAL OF TEXAS HWY\", \"2020-12-18T00:00:00\"], [\"Challenger School Elementary\", \"94%\", \"15101 AVERY RANCH BLVD\", \"2020-12-07T00:00:00\"], [\"Kinder Care Learning Center\", \"95%\", \"6434 S CONGRESS AVE\", \"2020-12-11T00:00:00\"], [\"Pizza Paradise\", \"88%\", \"1921 CEDAR BEND DR\", \"2020-12-23T00:00:00\"], [\"Lamar C Store\", \"83%\", \"6301 N LAMAR BLVD\", \"2020-12-07T00:00:00\"], [\"McDonald's # 12430\", \"91%\", \"5762 N MOPAC EXPY\", \"2020-12-14T00:00:00\"], [\"Pho Noodle House, The\", \"73%\", \"609 CLAYTON LN\", \"2020-12-16T00:00:00\"], [\"Circle K #2741301\", \"92%\", \"1310 W HOWARD LN\", \"2020-12-22T00:00:00\"], [\"Chick-fil-A\", \"99%\", \"503 W MARTIN LUTHER KING JR BLVD\", \"2020-12-18T00:00:00\"], [\"BC - Rosie's Tamale House\", \"80%\", \"13436 W SH\", \"2020-12-02T00:00:00\"], [\"MN - Shipley Donuts\", \"83%\", \"11300 E US 290 HWY\", \"2020-12-04T00:00:00\"], [\"Insomnia Cookies\", \"96%\", \"2323 SAN ANTONIO ST\", \"2020-12-02T00:00:00\"], [\"Miraval Resort & Spa\", \"89%\", \"13500 FM 2769 RD\", \"2020-12-17T00:00:00\"], [\"LeRoy and Lewis BBQ\", \"93%\", \"630 RALPH ABLANEDO DR\", \"2020-12-17T00:00:00\"], [\"Paper Route Bakery\", \"100%\", \"1010 E CESAR CHAVEZ ST\", \"2020-12-21T00:00:00\"], [\"Asahi Imports\", \"85%\", \"6105 BURNET RD\", \"2020-12-11T00:00:00\"], [\"Danelia Rogel Fruit Cup Shop LLC\", \"72%\", \"704 E ST JOHNS AVE\", \"2020-12-09T00:00:00\"], [\"Whataburger #481\", \"100%\", \"11135 N IH\", \"2020-12-18T00:00:00\"], [\"Paperboy\", \"92%\", \"1203 E 11TH ST\", \"2020-12-21T00:00:00\"], [\"Jaime D. Padron Elementary\", \"100%\", \"2011 W RUNDBERG LN\", \"2020-12-16T00:00:00\"], [\"IHOP\", \"98%\", \"11654 RESEARCH BLVD\", \"2020-12-02T00:00:00\"], [\"Dairy Queen\", \"95%\", \"13301 N US 183 HWY\", \"2020-12-08T00:00:00\"], [\"Whataburger\", \"99%\", \"2800 GUADALUPE ST\", \"2020-12-22T00:00:00\"], [\"LW- HEB 714\", \"90%\", \"2000 S FM 620 RD\", \"2020-12-21T00:00:00\"], [\"Daily Food Store\", \"92%\", \"1071 SPRINGDALE RD\", \"2020-12-14T00:00:00\"], [\"Tienda Mexicana\", \"92%\", \"825 E RUNDBERG LN\", \"2020-12-11T00:00:00\"], [\"Gong Cha\", \"83%\", \"13201 N FM 620 RD\", \"2020-12-01T00:00:00\"], [\"Betos #2  Mexican Restaurant\", \"70%\", \"3306 OAK SPRINGS DR\", \"2020-12-11T00:00:00\"], [\"Tokyo Gardens Catering\", \"100%\", \"1434 W WELLS BRANCH PKWY\", \"2020-12-11T00:00:00\"], [\"Food Basket #7\", \"88%\", \"2015 W PARMER LN\", \"2020-12-22T00:00:00\"], [\"Brookdale Beckett Meadows\", \"78%\", \"7709 BECKETT RD\", \"2020-12-16T00:00:00\"], [\"Boston Market #1981\", \"80%\", \"4607 W BRAKER LN\", \"2020-12-16T00:00:00\"], [\"Omni Barton Creek\", \"90%\", \"8501 CARRANZO DR\", \"2020-12-10T00:00:00\"], [\"Las Lomas Mexican Restaurant\", \"73%\", \"730 W STASSNEY LN\", \"2020-12-16T00:00:00\"], [\"H & C Food Service\", \"79%\", \"1914 GUADALUPE ST\", \"2020-12-07T00:00:00\"], [\"BC - Spec's Wine, Spirits & Finer Foods\", \"100%\", \"13015 SHOPS PKWY\", \"2020-12-03T00:00:00\"], [\"Austin Eastciders Barton Springs\", \"89%\", \"1530 BARTON SPRINGS RD\", \"2020-12-03T00:00:00\"], [\"Pappadeaux Seafood Kitchen #3\", \"94%\", \"6319 N IH\", \"2020-12-11T00:00:00\"], [\"Galaxy Cafe\", \"97%\", \"1000 WEST LYNN ST\", \"2020-12-07T00:00:00\"], [\"Bread Basket\", \"81%\", \"2213 JUSTIN LN\", \"2020-12-04T00:00:00\"], [\"MOD Superfast Pizza\", \"97%\", \"1920 E RIVERSIDE DR\", \"2020-12-22T00:00:00\"], [\"Whataburger\", \"99%\", \"1616 E OLTORF ST\", \"2020-12-04T00:00:00\"], [\"Pillow Elementary\", \"99%\", \"3025 CROSSCREEK DR\", \"2020-12-16T00:00:00\"], [\"7 Eleven # 36610A\", \"89%\", \"2616 W BRAKER LN\", \"2020-12-21T00:00:00\"], [\"Bungalow\", \"100%\", \"92 RAINEY ST\", \"2020-12-05T00:00:00\"], [\"Einstein Bros Bagels #3111\", \"92%\", \"3010 W ANDERSON LN\", \"2020-12-08T00:00:00\"], [\"House of Little Angels\", \"96%\", \"735 TURTLE CREEK BLVD\", \"2020-12-04T00:00:00\"], [\"MN - Dollar General #6946\", \"86%\", \"12750 LAPOYNOR ST\", \"2020-12-09T00:00:00\"], [\"Ben White Shell\", \"83%\", \"2125 W BEN WHITE BLVD\", \"2020-12-23T00:00:00\"], [\"Mathews Elementary School\", \"100%\", \"906 WEST LYNN ST\", \"2020-12-10T00:00:00\"], [\"TLC\", \"90%\", \"1100 S LAMAR BLVD\", \"2020-12-03T00:00:00\"], [\"Randalls 2480 Bakery\", \"96%\", \"6600 S MOPAC EXPY\", \"2020-12-22T00:00:00\"], [\"Clifton Center\", \"97%\", \"1519 CORONADO HILLS DR\", \"2020-12-11T00:00:00\"], [\"Southside Flying Pizza - Arcade and Grill\", \"85%\", \"11600 MANCHACA RD\", \"2020-12-21T00:00:00\"], [\"Gonzalo Garza Independence H S\", \"96%\", \"1600 CHICON ST\", \"2020-12-16T00:00:00\"], [\"Whataburger #1022\", \"94%\", \"8300 N FM 620 RD\", \"2020-12-14T00:00:00\"], [\"Vaquero Taquero\", \"90%\", \"104 E 31ST ST\", \"2020-12-08T00:00:00\"], [\"BC - Falconhead Golf Club\", \"95%\", \"15201 FALCON HEAD BLVD\", \"2020-12-02T00:00:00\"], [\"Popeye's #325 - Z & H Foods Inc.\", \"90%\", \"2320 E RIVERSIDE DR\", \"2020-12-22T00:00:00\"], [\"Aviator Pizza & Drafthouse\", \"90%\", \"4005 W PARMER LN\", \"2020-12-01T00:00:00\"], [\"OOB - Sonic Drive In\", \"71%\", \"6816 MC NEIL DR\", \"2020-12-08T00:00:00\"], [\"Target Store T2288 -Grocery\", \"96%\", \"9500 S IH\", \"2020-12-07T00:00:00\"], [\"Marbridge Found-Senior Dorm\", \"94%\", \"2310 BLISS SPILLAR RD\", \"2020-12-02T00:00:00\"], [\"MN - Wendy's\", \"97%\", \"11808 RING DR\", \"2020-12-09T00:00:00\"], [\"Westminster Manor\", \"86%\", \"4100 JACKSON AVE\", \"2020-12-01T00:00:00\"], [\"Canteen @ Corning Optical Communications\", \"100%\", \"8201 N FM 620 RD\", \"2020-12-14T00:00:00\"], [\"PF - Papa John's #1127\", \"90%\", \"900 E PECAN\", \"2020-12-17T00:00:00\"], [\"Sonic Drive-In, Austin, North Lamar, LP\", \"93%\", \"9325 N LAMAR BLVD\", \"2020-12-17T00:00:00\"], [\"People's Pharmacy\", \"93%\", \"4201 WESTBANK DR\", \"2020-12-08T00:00:00\"], [\"Pizza Press, The\", \"87%\", \"404 W 26TH ST\", \"2020-12-15T00:00:00\"], [\"Randall's #2480-Retail\", \"93%\", \"6600 S MOPAC EXPY\", \"2020-12-22T00:00:00\"], [\"Bee Grocery, The\", \"88%\", \"1001 E 6TH ST\", \"2020-12-23T00:00:00\"], [\"KIPP Austin Arts & Letters\", \"98%\", \"8509 FM 969 RD\", \"2020-12-04T00:00:00\"], [\"Central District Brewing\", \"96%\", \"417 RED RIVER ST\", \"2020-12-07T00:00:00\"], [\"BC - All Star Burger\", \"88%\", \"12921 HILL COUNTRY BLVD\", \"2020-12-03T00:00:00\"], [\"Rudy's Country Store & BBQ\", \"96%\", \"3914 N LAMAR BLVD\", \"2020-12-09T00:00:00\"], [\"Challenger School\", \"100%\", \"13015 POND SPRINGS RD\", \"2020-12-08T00:00:00\"], [\"Little Caesars Pizza\", \"95%\", \"2601 E 7TH ST\", \"2020-12-16T00:00:00\"], [\"MN-Country Boyz Fixins\", \"88%\", \"101 N LEXINGTON ST\", \"2020-12-04T00:00:00\"], [\"League, The\", \"80%\", \"10526 W PARMER LN\", \"2020-12-21T00:00:00\"], [\"Shipley's Donuts\", \"94%\", \"1045 NORWOOD PARK BLVD\", \"2020-12-10T00:00:00\"], [\"Austin Catering\", \"97%\", \"2700 W ANDERSON LN\", \"2020-12-10T00:00:00\"], [\"Big Easy Bar and Grill\", \"92%\", \"1806 E 12TH ST\", \"2020-12-02T00:00:00\"], [\"Smoothie King\", \"97%\", \"4301 W WILLIAM CANNON DR\", \"2020-12-04T00:00:00\"], [\"Rusty Cannon Pub\", \"79%\", \"730 W STASSNEY LN\", \"2020-12-18T00:00:00\"], [\"Magellan International School, The\", \"100%\", \"7130 CHIMNEY CORNERS\", \"2020-12-01T00:00:00\"], [\"Barnison Catering\", \"100%\", \"2614 EXPOSITION BLVD\", \"2020-12-03T00:00:00\"], [\"Twin Liquors #44\", \"97%\", \"4001 S LAMAR BLVD\", \"2020-12-23T00:00:00\"], [\"Wal-Mart Supercenter Deli/Bakery #5317\", \"97%\", \"9300 S IH\", \"2020-12-21T00:00:00\"], [\"7-Eleven Convenience Store #36263B\", \"91%\", \"3801 W PARMER LN\", \"2020-12-23T00:00:00\"], [\"Walgreen #4458\", \"98%\", \"3601 W WILLIAM CANNON DR\", \"2020-12-22T00:00:00\"], [\"Fresh Plus\", \"83%\", \"2401 SAN GABRIEL ST\", \"2020-12-22T00:00:00\"], [\"Erica Nelson Brown Catering\", \"100%\", \"12800 GALLERIA CIR\", \"2020-12-07T00:00:00\"], [\"LW - Jason's Deli\", \"89%\", \"1504 S FM 620 RD\", \"2020-12-02T00:00:00\"], [\"Tortilleria Rio Grande\", \"80%\", \"500 W WILLIAM CANNON DR\", \"2020-12-18T00:00:00\"], [\"Foodheads\", \"92%\", \"616 W 34TH ST\", \"2020-12-17T00:00:00\"], [\"Lamppost Coffee\", \"94%\", \"515 CONGRESS AVE\", \"2020-12-04T00:00:00\"], [\"Susy's Child Care\", \"87%\", \"308 W WILLIAM CANNON DR\", \"2020-12-04T00:00:00\"], [\"LW - Lakeway Market\", \"80%\", \"2114 LAKEWAY BLVD\", \"2020-12-02T00:00:00\"], [\"Home 2 Suites by Hilton\", \"96%\", \"1705 AIRPORT COMMERCE DR\", \"2020-12-17T00:00:00\"], [\"Upper Crust Bakery\", \"90%\", \"4508 BURNET RD\", \"2020-12-18T00:00:00\"], [\"Star Stop 74\", \"96%\", \"2819 GUADALUPE ST\", \"2020-12-03T00:00:00\"], [\"LW - Sakura Sushi & Bar\", \"70%\", \"1945 MEDICAL DR\", \"2020-12-21T00:00:00\"], [\"Staybridge Suites Austin South Interstate 35\", \"97%\", \"901 LITTLE TEXAS LN\", \"2020-12-10T00:00:00\"], [\"Respite Recovery\", \"95%\", \"403 E 15TH ST\", \"2020-12-03T00:00:00\"], [\"Lavallarta Restaurant\", \"88%\", \"6628 S CONGRESS AVE\", \"2020-12-07T00:00:00\"], [\"P F Chang's To Go - Mix on Burnet\", \"96%\", \"8023 BURNET RD\", \"2020-12-22T00:00:00\"], [\"Alternative Learning Center School\", \"99%\", \"4900 GONZALES ST\", \"2020-12-07T00:00:00\"], [\"Paleface Grocery\", \"89%\", \"23526 W SH\", \"2020-12-07T00:00:00\"], [\"Graceland Grocery\", \"97%\", \"8600 W US 290 HWY\", \"2020-12-08T00:00:00\"], [\"Casa Linda Taqueria\", \"94%\", \"623 W DITTMAR RD\", \"2020-12-10T00:00:00\"], [\"Jimmy John's Gourmet Sandwiches\", \"97%\", \"13429 N US 183 HWY\", \"2020-12-10T00:00:00\"], [\"Children's Courtyard\", \"90%\", \"11718 METRIC BLVD\", \"2020-12-22T00:00:00\"], [\"Sun Ray Waters\", \"98%\", \"7801 N LAMAR BLVD\", \"2020-12-21T00:00:00\"], [\"7-Eleven #36562H\", \"90%\", \"6422 S US 183 HWY\", \"2020-12-17T00:00:00\"], [\"Amy's Ice Cream\", \"94%\", \"3500 GUADALUPE ST\", \"2020-12-07T00:00:00\"], [\"Church's Chicken Store No. 765\", \"87%\", \"8545 RESEARCH BLVD\", \"2020-12-11T00:00:00\"], [\"Taco Bell #030157\", \"96%\", \"1016 E ANDERSON LN\", \"2020-12-10T00:00:00\"], [\"Lamar Middle School\", \"99%\", \"6201 WYNONA AVE\", \"2020-12-04T00:00:00\"], [\"Fast Food Store\", \"81%\", \"4611 E MARTIN LUTHER KING JR BLVD\", \"2020-12-21T00:00:00\"], [\"MTM Indian Foods\", \"90%\", \"9225 W PARMER LN\", \"2020-12-21T00:00:00\"], [\"PF - HEB Food Store #479 (Bakery)\", \"97%\", \"201 N FM\", \"2020-12-15T00:00:00\"], [\"Subway\", \"90%\", \"6001 W PARMER LN\", \"2020-12-22T00:00:00\"], [\"China Steakhouse\", \"96%\", \"15511 W SH\", \"2020-12-14T00:00:00\"], [\"Bricker Food and Beverage\", \"98%\", \"630 RALPH ABLANEDO DR\", \"2020-12-17T00:00:00\"], [\"Taco Shack\", \"93%\", \"2825 GUADALUPE ST\", \"2020-12-08T00:00:00\"], [\"Chipotle Mexican Grill #3328\", \"99%\", \"1109 E 5TH ST\", \"2020-12-11T00:00:00\"], [\"Royal Blue Grocery\", \"96%\", \"301 BRAZOS ST\", \"2020-12-08T00:00:00\"], [\"Whataburger #132\", \"96%\", \"9516 N LAMAR BLVD\", \"2020-12-23T00:00:00\"], [\"BC-Hill Country Indoor\", \"96%\", \"13875 BEE CAVE PKWY\", \"2020-12-04T00:00:00\"], [\"District\", \"71%\", \"5900 W SLAUGHTER LN\", \"2020-12-11T00:00:00\"], [\"Stepping Stone School\", \"77%\", \"6616 MC NEIL DR\", \"2020-12-01T00:00:00\"], [\"Little Darlin', The\", \"80%\", \"6507 CIRCLE S RD\", \"2020-12-17T00:00:00\"], [\"Las Mangonadas\", \"91%\", \"1144 AIRPORT BLVD\", \"2020-12-21T00:00:00\"], [\"Madam Mam\", \"92%\", \"510 W 26TH ST\", \"2020-12-17T00:00:00\"], [\"LW - Little Sunshine's Playhouse & Preschool\", \"98%\", \"1501 LOHMANS CROSSING RD\", \"2020-12-23T00:00:00\"], [\"Mariana's Kitchen\", \"90%\", \"5510 S IH\", \"2020-12-16T00:00:00\"], [\"Pizza Hut\", \"87%\", \"8500 N LAMAR BLVD\", \"2020-12-04T00:00:00\"], [\"BC - CVS/ Pharmacy # 8925\", \"98%\", \"14057 BEE CAVE PKWY\", \"2020-12-03T00:00:00\"], [\"Fujiyama\", \"97%\", \"4815 W BRAKER LN\", \"2020-12-15T00:00:00\"], [\"Braker Food Mart\", \"87%\", \"11300 N IH\", \"2020-12-09T00:00:00\"], [\"Subway 66727\", \"94%\", \"8906 BRODIE LN\", \"2020-12-15T00:00:00\"], [\"La Quinta Inn #0522\", \"94%\", \"1603 E OLTORF ST\", \"2020-12-18T00:00:00\"], [\"Las Delicias Meat Market-Kitchen\", \"75%\", \"111 W WILLIAM CANNON DR\", \"2020-12-07T00:00:00\"], [\"Shipley Donuts\", \"88%\", \"2113 W ANDERSON LN\", \"2020-12-15T00:00:00\"], [\"MN - Taqueria La Parrillita\", \"98%\", \"10400 E US 290 HWY\", \"2020-12-17T00:00:00\"], [\"Lone Star Kolaches\", \"83%\", \"1701 W PARMER LN\", \"2020-12-21T00:00:00\"], [\"Austin's Moontower Saloon\", \"100%\", \"10212 MANCHACA RD\", \"2020-12-22T00:00:00\"], [\"Austin's Pizza #7\", \"92%\", \"10900 RESEARCH BLVD\", \"2020-12-17T00:00:00\"], [\"Four Brothers\", \"93%\", \"2901 S CAPITAL OF TEXAS HWY\", \"2020-12-09T00:00:00\"], [\"PF - Eden Cafe\", \"76%\", \"15803 WINDERMERE DR\", \"2020-12-01T00:00:00\"], [\"PF - HEB Food Store #479 (Deli)\", \"95%\", \"201 N FM\", \"2020-12-15T00:00:00\"], [\"LW - Sandeez Hamburger Hut\", \"86%\", \"113 N FM 620 RD\", \"2020-12-03T00:00:00\"], [\"Barton Hills Elementary\", \"98%\", \"2108 BARTON HILLS DR\", \"2020-12-15T00:00:00\"], [\"Abacus School of Austin\", \"91%\", \"14115 AVERY RANCH BLVD\", \"2020-12-10T00:00:00\"], [\"Escarpment Exxon\", \"93%\", \"6109 W WILLIAM CANNON DR\", \"2020-12-01T00:00:00\"], [\"Wal-Mart Supercenter #1253\", \"99%\", \"710 E BEN WHITE BLVD\", \"2020-12-15T00:00:00\"], [\"Eskimo Hut Beer-Wine-Frozen Daquiris to Go\", \"100%\", \"1045 NORWOOD PARK BLVD\", \"2020-12-10T00:00:00\"], [\"Hunan Ranch\", \"80%\", \"14900 AVERY RANCH BLVD\", \"2020-12-07T00:00:00\"], [\"Cedar Creek Elem. School\", \"98%\", \"3301 PINNACLE RD\", \"2020-12-16T00:00:00\"], [\"Nueces Mart\", \"95%\", \"2700 NUECES ST\", \"2020-12-15T00:00:00\"], [\"Hardin House\", \"94%\", \"2206 RIO GRANDE ST\", \"2020-12-07T00:00:00\"], [\"Austin Montessori School, Inc\", \"99%\", \"6819 GREAT NORTHERN BLVD\", \"2020-12-17T00:00:00\"], [\"El Tacorrido\", \"92%\", \"5811 BERKMAN DR\", \"2020-12-18T00:00:00\"], [\"BC - Sonesta Bee Cave\", \"90%\", \"12525 BEE CAVE PKWY\", \"2020-12-15T00:00:00\"], [\"7-Eleven Convenience Store #36680A\", \"91%\", \"3848 AIRPORT BLVD\", \"2020-12-18T00:00:00\"], [\"La Michoacana Meat Market\", \"89%\", \"9811 N IH\", \"2020-12-09T00:00:00\"], [\"Julie Myrtille Bakery\", \"88%\", \"1023 SPRINGDALE RD\", \"2020-12-02T00:00:00\"], [\"Twin Lion Chinese Restaurant\", \"92%\", \"4815 W BRAKER LN\", \"2020-12-02T00:00:00\"], [\"Bridgepoint Elem School\", \"96%\", \"6401 CEDAR ST\", \"2020-12-16T00:00:00\"], [\"Courtesy Shell #2\", \"90%\", \"3906 S CONGRESS AVE\", \"2020-12-14T00:00:00\"], [\"Austin Diner\", \"82%\", \"5222 BURNET RD\", \"2020-12-03T00:00:00\"], [\"Galindo Elementary\", \"98%\", \"3800 S 2ND ST\", \"2020-12-15T00:00:00\"], [\"Pi Beta Phi Sorority\", \"93%\", \"2300 SAN ANTONIO ST\", \"2020-12-14T00:00:00\"], [\"Omni Austin\", \"94%\", \"701 BRAZOS ST\", \"2020-12-15T00:00:00\"], [\"Snack Max\", \"85%\", \"5630 N LAMAR BLVD\", \"2020-12-17T00:00:00\"], [\"Jack in the Box #907\", \"88%\", \"1151 AIRPORT BLVD\", \"2020-12-18T00:00:00\"], [\"The Gossip Shack 2\", \"89%\", \"1615 GRAND AVENUE PKWY\", \"2020-12-01T00:00:00\"], [\"HEB #236\", \"98%\", \"1434 W WELLS BRANCH PKWY\", \"2020-12-11T00:00:00\"], [\"Las Palomas\", \"84%\", \"3201 BEE CAVES RD\", \"2020-12-08T00:00:00\"], [\"Champ's Food Mart\", \"96%\", \"2433 S PLEASANT VALLEY RD\", \"2020-12-17T00:00:00\"], [\"Wheatsville Food Co-Op\", \"97%\", \"4001 S LAMAR BLVD\", \"2020-12-14T00:00:00\"], [\"Smokey Denmark Sausage\", \"97%\", \"3505 E 5TH ST\", \"2020-12-15T00:00:00\"], [\"Viva Food Mart - Taqueria\", \"85%\", \"8610 N LAMAR BLVD\", \"2020-12-15T00:00:00\"], [\"Dia's Market\", \"77%\", \"812 JUSTIN LN\", \"2020-12-07T00:00:00\"], [\"Starbucks Coffee #6470\", \"95%\", \"1001 CONGRESS AVE\", \"2020-12-01T00:00:00\"], [\"Hudson Bend Grocery\", \"97%\", \"5001 HUDSON BEND RD\", \"2020-12-10T00:00:00\"], [\"PF - Rio Grande Tex Mex\", \"86%\", \"15821 CENTRAL COMMERCE DR\", \"2020-12-15T00:00:00\"], [\"Wal-Mart Deli & Bakery\", \"93%\", \"710 E BEN WHITE BLVD\", \"2020-12-15T00:00:00\"], [\"New Generation Daycare\", \"92%\", \"2606 S 1ST ST\", \"2020-12-22T00:00:00\"], [\"Wendy's Old Fashioned Hamburgers #116\", \"95%\", \"2224 E RIVERSIDE DR\", \"2020-12-10T00:00:00\"], [\"Wingstop #164\", \"93%\", \"2410 E RIVERSIDE DR\", \"2020-12-07T00:00:00\"], [\"Mom's Convenience Store, Inc.\", \"93%\", \"10900 W US 290 HWY\", \"2020-12-08T00:00:00\"], [\"Coco's Cafe\", \"94%\", \"8557 RESEARCH BLVD\", \"2020-12-21T00:00:00\"], [\"Wing Daddy's Sauce House\", \"75%\", \"9811 S IH\", \"2020-12-16T00:00:00\"], [\"BC - Madam Mam's Thai Cuisine\", \"78%\", \"3929 MARKET ST\", \"2020-12-03T00:00:00\"], [\"PF - Morelia Mexican Grill\", \"72%\", \"18900 LIMESTONE COMMERCIAL DR\", \"2020-12-16T00:00:00\"], [\"Howdy Donut\", \"97%\", \"10815 FM 2222 RD\", \"2020-12-03T00:00:00\"], [\"PF - Los Amigos Market (Meat)\", \"90%\", \"15812 WINDERMERE DR\", \"2020-12-01T00:00:00\"], [\"Zachary Scott Theatre\", \"100%\", \"1510 TOOMEY RD\", \"2020-12-10T00:00:00\"], [\"Austin Recovery Inc.\", \"96%\", \"13207 WRIGHT RD\", \"2020-12-08T00:00:00\"], [\"BC - Maudie's Hill Country LLC\", \"84%\", \"12506 SHOPS PKWY\", \"2020-12-02T00:00:00\"], [\"7 - Eleven # 23807B\", \"99%\", \"6306 MANCHACA RD\", \"2020-12-18T00:00:00\"], [\"Dell Seton Medical Center at the University of Texas\", \"90%\", \"1500 RED RIVER ST\", \"2020-12-03T00:00:00\"], [\"Home of Southern Hospitality LLC\", \"86%\", \"5000 SHOALWOOD AVE\", \"2020-12-01T00:00:00\"], [\"BC - Yaghi's New York Pizzeria\", \"91%\", \"12400 W SH\", \"2020-12-01T00:00:00\"], [\"Kinder Care #155\", \"97%\", \"610 EMERALD WOOD DR\", \"2020-12-02T00:00:00\"], [\"Central Market: Deli/Bakery/Produce\", \"97%\", \"4477 S LAMAR BLVD\", \"2020-12-02T00:00:00\"], [\"Nurturing Child Care Center\", \"90%\", \"1054 SPRINGDALE RD\", \"2020-12-15T00:00:00\"], [\"Julio's Restaurant, Inc.\", \"94%\", \"4230 DUVAL ST\", \"2020-12-01T00:00:00\"], [\"Sleep Inn & Suites\", \"98%\", \"14004 OWEN TECH BLVD\", \"2020-12-21T00:00:00\"], [\"Poco Loco Supermercado - Deli & Bakery\", \"81%\", \"611 W BEN WHITE BLVD\", \"2020-12-10T00:00:00\"], [\"Chi'Lantro - Parmer\", \"96%\", \"6301 W PARMER LN\", \"2020-12-14T00:00:00\"], [\"Blue Star Alkaline Water Store\", \"100%\", \"1154 ANGELINA ST\", \"2020-12-23T00:00:00\"], [\"Domino's Pizza\", \"97%\", \"10001 S IH\", \"2020-12-08T00:00:00\"], [\"Asian American Cultural Center\", \"90%\", \"11713 JOLLYVILLE RD\", \"2020-12-15T00:00:00\"], [\"Tic Tac Toe\", \"92%\", \"2003 W ANDERSON LN\", \"2020-12-10T00:00:00\"], [\"Lost Creek Ctry Club Snack Bar\", \"99%\", \"2612 LOST CREEK BLVD\", \"2020-12-16T00:00:00\"], [\"Accent Food Services\", \"98%\", \"5501 AIRPORT BLVD\", \"2020-12-22T00:00:00\"], [\"Master Donuts\", \"81%\", \"1725 E RIVERSIDE DR\", \"2020-12-10T00:00:00\"], [\"Cost Plus World Market #74\", \"93%\", \"9333 RESEARCH BLVD\", \"2020-12-17T00:00:00\"], [\"My Friends House Child Care\", \"100%\", \"7050 VILLAGE CENTER DR\", \"2020-12-14T00:00:00\"], [\"Riverside Golf Course\", \"92%\", \"1020 GROVE BLVD\", \"2020-12-16T00:00:00\"], [\"Chick-Fil-A\", \"98%\", \"161 W SLAUGHTER LN\", \"2020-12-17T00:00:00\"], [\"BC - Snack Max # 6\", \"75%\", \"13006 W SH\", \"2020-12-03T00:00:00\"], [\"Short Stop #5\", \"84%\", \"3001 W ANDERSON LN\", \"2020-12-14T00:00:00\"], [\"IDEA Public Schools - Rundberg\", \"93%\", \"700 SHOWPLACE LN\", \"2020-12-08T00:00:00\"], [\"Burnet Jr. High\", \"97%\", \"8401 HATHAWAY DR\", \"2020-12-16T00:00:00\"], [\"Taco Bell #30099\", \"100%\", \"7793 BURNET RD\", \"2020-12-22T00:00:00\"], [\"Sushi Japon Steak House\", \"77%\", \"807 CAMINO LA\", \"2020-12-16T00:00:00\"], [\"BC-Marble Slab /Great American Cookies\", \"95%\", \"12717 SHOPS PKWY\", \"2020-12-03T00:00:00\"], [\"Riverbend Church\", \"88%\", \"4214 N CAPITAL OF TEXAS HWY\", \"2020-12-21T00:00:00\"], [\"JuiceLand Dom\", \"96%\", \"3120 PALM WAY\", \"2020-12-21T00:00:00\"], [\"Child's Day Child Development Center\", \"100%\", \"2525 WALLINGWOOD DR\", \"2020-12-21T00:00:00\"], [\"Fairfield Inn and Suites Austin NW/Research\", \"94%\", \"13087 N US 183 HWY\", \"2020-12-22T00:00:00\"], [\"WL - Randall's #2477-Starbucks\", \"100%\", \"3300 BEE CAVES RD\", \"2020-12-07T00:00:00\"], [\"RW - Panera Bread Bakery and Cafe\", \"86%\", \"2805 BEE CAVES RD\", \"2020-12-16T00:00:00\"], [\"Rudy's Country Store\", \"95%\", \"11570 RESEARCH BLVD\", \"2020-12-10T00:00:00\"], [\"WL - Maryes Gourmet Pizza\", \"93%\", \"3663 BEE CAVES RD\", \"2020-12-07T00:00:00\"], [\"Salvation Pizza\", \"73%\", \"11501 ROCK ROSE AVE\", \"2020-12-22T00:00:00\"], [\"Randalls 2480 Deli\", \"98%\", \"6600 S MOPAC EXPY\", \"2020-12-22T00:00:00\"], [\"MN - McDonald's of Manor\", \"89%\", \"12609 LEXINGTON ST\", \"2020-12-09T00:00:00\"], [\"Dry Creek Shell\", \"89%\", \"3800 DRY CREEK DR\", \"2020-12-15T00:00:00\"], [\"Nordstrom's Cafe Bistro\", \"92%\", \"2901 S CAPITAL OF TEXAS HWY\", \"2020-12-22T00:00:00\"], [\"Super 8 Capitol Downtown\", \"96%\", \"1201 N IH\", \"2020-12-14T00:00:00\"], [\"La Sabrocita Restaurant & Tortilleria\", \"91%\", \"850 E RUNDBERG LN\", \"2020-12-09T00:00:00\"], [\"Moms 6\", \"90%\", \"6301 E RIVERSIDE DR\", \"2020-12-18T00:00:00\"], [\"Highway Food Mart\", \"79%\", \"4535 E SH\", \"2020-12-17T00:00:00\"], [\"Teapioca Lounge\", \"98%\", \"1700 W PARMER LN\", \"2020-12-22T00:00:00\"], [\"Ashley's Playhouse\", \"100%\", \"13343 N US 183 HWY\", \"2020-12-08T00:00:00\"], [\"Capt Benny's Seafood\", \"90%\", \"5700 N IH\", \"2020-12-01T00:00:00\"], [\"Wendy's #W129/11274\", \"90%\", \"10701 RESEARCH BLVD\", \"2020-12-23T00:00:00\"], [\"Kid Spa Austin\", \"94%\", \"12809 N FM 620 RD\", \"2020-12-14T00:00:00\"], [\"Panera Bread\", \"82%\", \"4625 W WILLIAM CANNON DR\", \"2020-12-11T00:00:00\"], [\"The Carpenter Hotel\", \"96%\", \"400 JOSEPHINE ST\", \"2020-12-03T00:00:00\"], [\"Honest Mary's\", \"86%\", \"4800 BURNET RD\", \"2020-12-17T00:00:00\"], [\"Chinatown Restaurant\", \"71%\", \"3407 GREYSTONE DR\", \"2020-12-01T00:00:00\"], [\"Ann Richards School For Girls\", \"99%\", \"2206 PRATHER LN\", \"2020-12-16T00:00:00\"], [\"Short Stop\", \"83%\", \"6920 MANCHACA RD\", \"2020-12-01T00:00:00\"], [\"Subs-N-More / AM Petroleum\", \"86%\", \"3926 ED BLUESTEIN BLVD\", \"2020-12-04T00:00:00\"], [\"Northland Shell\", \"81%\", \"3310 NORTHLAND DR\", \"2020-12-09T00:00:00\"], [\"Subway\", \"90%\", \"4410 E RIVERSIDE DR\", \"2020-12-23T00:00:00\"], [\"Austin Ice\", \"100%\", \"1 2 8512 N LAMAR BLVD\", \"2020-12-09T00:00:00\"], [\"Sugar Pine\", \"86%\", \"8578 RESEARCH BLVD\", \"2020-12-15T00:00:00\"], [\"Austin Ridge Bible Church\", \"96%\", \"9300 FM 2244 RD\", \"2020-12-14T00:00:00\"], [\"Canteen @ Dell Seton Medical Center\", \"100%\", \"1500 RED RIVER ST\", \"2020-12-03T00:00:00\"], [\"MN-Libation Station\", \"100%\", \"201 E PARSONS ST\", \"2020-12-04T00:00:00\"], [\"Cannon Coffee\", \"95%\", \"1901 W WILLIAM CANNON DR\", \"2020-12-03T00:00:00\"], [\"Camino Real Restaurant\", \"95%\", \"8650 SPICEWOOD SPRINGS RD\", \"2020-12-03T00:00:00\"], [\"Biderman's Deli, LLC\", \"94%\", \"3742 FAR WEST BLVD\", \"2020-12-17T00:00:00\"], [\"Ken's Subs, Tacos and More\", \"86%\", \"9408 DESSAU RD\", \"2020-12-07T00:00:00\"], [\"PD Thai Cuisine\", \"90%\", \"3208 GUADALUPE ST\", \"2020-12-14T00:00:00\"], [\"Schlotzsky's Deli\", \"95%\", \"111 W WILLIAM CANNON DR\", \"2020-12-14T00:00:00\"], [\"BC - Edible Arrangements #1705\", \"97%\", \"11905 FM 2244 RD\", \"2020-12-02T00:00:00\"], [\"Bread Basket\", \"88%\", \"11410 MANCHACA RD\", \"2020-12-14T00:00:00\"], [\"Thundercloud Subs\", \"88%\", \"2801 S LAMAR BLVD\", \"2020-12-08T00:00:00\"], [\"BC - HEB Food Store #404\", \"91%\", \"12400 W SH\", \"2020-12-01T00:00:00\"], [\"House of Three Gorges\", \"70%\", \"8557 RESEARCH BLVD\", \"2020-12-17T00:00:00\"], [\"Yummi Taco\", \"90%\", \"12518 RESEARCH BLVD\", \"2020-12-07T00:00:00\"], [\"Austin High School\", \"95%\", \"1715 W CESAR CHAVEZ ST\", \"2020-12-10T00:00:00\"], [\"Mi Ranchito Taqueria\", \"96%\", \"1105 W FM 1626 RD\", \"2020-12-22T00:00:00\"], [\"Bar-B-Q-Inn\", \"70%\", \"9310 N LAMAR BLVD\", \"2020-12-03T00:00:00\"], [\"McDonald's\", \"92%\", \"2426 E RIVERSIDE DR\", \"2020-12-10T00:00:00\"], [\"IAS Austin\", \"99%\", \"8201 N FM 620 RD\", \"2020-12-14T00:00:00\"], [\"Dog Haus\", \"87%\", \"8023 BURNET RD\", \"2020-12-22T00:00:00\"], [\"BC - Domino's\", \"99%\", \"11805 FM 2244 RD\", \"2020-12-02T00:00:00\"], [\"Pho with US\", \"79%\", \"9900 S IH\", \"2020-12-18T00:00:00\"], [\"Subway Sandwich #22880\", \"93%\", \"1030 NORWOOD PARK BLVD\", \"2020-12-10T00:00:00\"], [\"Chick-Fil-A\", \"95%\", \"5033 W US 290 HWY\", \"2020-12-03T00:00:00\"], [\"BC - Jersey Mike's Subs\", \"92%\", \"4005 MARKET ST\", \"2020-12-03T00:00:00\"], [\"Subway Sandwiches\", \"98%\", \"6105 TECHNI CENTER DR\", \"2020-12-08T00:00:00\"], [\"Bread Basket - Chevron\", \"86%\", \"9401 S US 183 HWY\", \"2020-12-15T00:00:00\"], [\"Ramen Tatsu-Ya comal\", \"91%\", \"1600 E 6TH ST\", \"2020-12-17T00:00:00\"], [\"Osio\", \"95%\", \"2901 S CAPITAL OF TEXAS HWY\", \"2020-12-02T00:00:00\"], [\"Ike's Love & Sandwiches\", \"97%\", \"5207 BRODIE LN\", \"2020-12-03T00:00:00\"], [\"BC-Learn and Laugh Preschool\", \"93%\", \"11715 FM 2244 RD\", \"2020-12-02T00:00:00\"], [\"Poco Loco Supermercado\", \"81%\", \"1148 AIRPORT BLVD\", \"2020-12-22T00:00:00\"], [\"El Pollo Rico # 11\", \"93%\", \"609 W SLAUGHTER LN\", \"2020-12-17T00:00:00\"], [\"Lamar Grocery\", \"92%\", \"2238 S LAMAR BLVD\", \"2020-12-23T00:00:00\"], [\"Alameda House\", \"93%\", \"4019 MANCHACA RD\", \"2020-12-11T00:00:00\"], [\"Golden Chick\", \"93%\", \"9600 N LAMAR BLVD\", \"2020-12-23T00:00:00\"], [\"PF - Tokyo Garden Catering, LLC\", \"99%\", \"201 N FM\", \"2020-12-15T00:00:00\"], [\"LW - Lupine Lane\", \"98%\", \"1001 HIGHLANDS BLVD\", \"2020-12-04T00:00:00\"], [\"Gattis Pizza\", \"100%\", \"801 E WILLIAM CANNON DR\", \"2020-12-08T00:00:00\"], [\"GoPuff\", \"98%\", \"1138 AIRPORT BLVD\", \"2020-12-14T00:00:00\"], [\"Tony C's Pizza & Wine Bar\", \"80%\", \"10526 W PARMER LN\", \"2020-12-10T00:00:00\"], [\"J.D's Market #4\", \"80%\", \"11720 FM 1826 RD\", \"2020-12-08T00:00:00\"], [\"El Pollo Rico #13\", \"90%\", \"110 E WILLIAM CANNON DR\", \"2020-12-03T00:00:00\"], [\"LW - Randall's #1779 -Deli\", \"98%\", \"2301 S FM 620 RD\", \"2020-12-02T00:00:00\"], [\"PF - HEB Food Store #479 (Meat & Seafood)\", \"96%\", \"201 N FM\", \"2020-12-15T00:00:00\"], [\"Bluebonnet School of Canyon Creek\", \"94%\", \"10321 BOULDER LN\", \"2020-12-14T00:00:00\"], [\"WL - Jersey Mikes Subs\", \"98%\", \"3300 BEE CAVES RD\", \"2020-12-08T00:00:00\"], [\"Walgreens #03092\", \"100%\", \"8104 MESA DR\", \"2020-12-18T00:00:00\"], [\"Way South Philly Deli\", \"96%\", \"5222 BURNET RD\", \"2020-12-07T00:00:00\"], [\"Freddy's Frozen Custard & Steakburgers\", \"90%\", \"8300 N FM 620 RD\", \"2020-12-14T00:00:00\"], [\"La Quinta Inn & Suites # 937\", \"96%\", \"11901 N MOPAC EXPY\", \"2020-12-23T00:00:00\"], [\"Soup Peddler, The\", \"93%\", \"4631 AIRPORT BLVD\", \"2020-12-18T00:00:00\"], [\"Beer Geek\", \"94%\", \"2051 W FM 1626 RD\", \"2020-12-22T00:00:00\"], [\"C- Mart #9\", \"92%\", \"8523 RESEARCH BLVD\", \"2020-12-15T00:00:00\"], [\"Two Steps Ahead Learning Center\", \"95%\", \"3028 ROGGE LN\", \"2020-12-15T00:00:00\"], [\"Whataburger\", \"96%\", \"6301 W PARMER LN\", \"2020-12-04T00:00:00\"], [\"Marbridge Foundation-Winters\", \"97%\", \"2310 BLISS SPILLAR RD\", \"2020-12-02T00:00:00\"], [\"Taco Cabana #129\", \"87%\", \"2507 E RIVERSIDE DR\", \"2020-12-16T00:00:00\"], [\"MN - Excel High School\", \"100%\", \"600 E PARSONS ST\", \"2020-12-02T00:00:00\"], [\"Express Food Mart #7\", \"79%\", \"10500 N LAMAR BLVD\", \"2020-12-23T00:00:00\"], [\"Tierra Linda Taqueria\", \"93%\", \"8540 RESEARCH BLVD\", \"2020-12-02T00:00:00\"], [\"Super 8 Motel\", \"93%\", \"5606 E 51ST ST\", \"2020-12-15T00:00:00\"], [\"Circle K Store #2704682\", \"85%\", \"6500 S US 183 HWY\", \"2020-12-15T00:00:00\"], [\"1-Stop Food Store\", \"97%\", \"5101 AIRPORT BLVD\", \"2020-12-16T00:00:00\"], [\"Staybridge Suites\", \"91%\", \"13000 N IH\", \"2020-12-22T00:00:00\"], [\"Suprabhat\", \"70%\", \"9225 W PARMER LN\", \"2020-12-21T00:00:00\"], [\"Daily Juice Cafe\", \"100%\", \"3720 FAR WEST BLVD\", \"2020-12-11T00:00:00\"], [\"Springhill Suites Austin North\", \"97%\", \"12520 N IH\", \"2020-12-22T00:00:00\"], [\"Profile by Sanford\", \"93%\", \"9607 RESEARCH BLVD\", \"2020-12-16T00:00:00\"], [\"Crazy Fruits # 3\", \"98%\", \"5611 S US 183 HWY\", \"2020-12-15T00:00:00\"], [\"WL - Izumi Sushi\", \"87%\", \"701 S CAPITAL OF TEXAS HWY\", \"2020-12-08T00:00:00\"], [\"7-Eleven Convenience Store #35801A\", \"89%\", \"9704 GILES LN\", \"2020-12-18T00:00:00\"], [\"Great Hills Golf Club\", \"90%\", \"5914 LOST HORIZON DR\", \"2020-12-02T00:00:00\"], [\"Dunkin Donuts\", \"91%\", \"12200 RESEARCH BLVD\", \"2020-12-10T00:00:00\"], [\"Cook Elementary School\", \"98%\", \"1511 CRIPPLE CREEK DR\", \"2020-12-16T00:00:00\"], [\"Hwy 969 Food Mart\", \"84%\", \"6401 FM 969 RD\", \"2020-12-04T00:00:00\"], [\"Marco's Pizza\", \"87%\", \"11011 RESEARCH BLVD\", \"2020-12-02T00:00:00\"], [\"Family Business Beer Company\", \"100%\", \"19510 HAMILTON POOL RD\", \"2020-12-03T00:00:00\"], [\"1618 Asian Fusion\", \"74%\", \"1618 E RIVERSIDE DR\", \"2020-12-16T00:00:00\"], [\"Bert's BBQ\", \"89%\", \"3563 FAR WEST BLVD\", \"2020-12-14T00:00:00\"], [\"Silverado Barton Springs\", \"83%\", \"5200 DAVIS LN\", \"2020-12-18T00:00:00\"], [\"HEB #096-Deli/Bakery/Produce\", \"97%\", \"7025 VILLAGE CENTER DR\", \"2020-12-07T00:00:00\"], [\"Milano Pizza\", \"76%\", \"1025 W STASSNEY LN\", \"2020-12-11T00:00:00\"], [\"La Michoacana Meat Market\", \"74%\", \"2237 E RIVERSIDE DR\", \"2020-12-23T00:00:00\"], [\"Club El Tahur\", \"89%\", \"214 E ANDERSON LN\", \"2020-12-21T00:00:00\"], [\"Austin Ice\", \"97%\", \"7517 CAMERON RD\", \"2020-12-09T00:00:00\"], [\"BC - HEB Food Store #404 (Deli/Bakery)\", \"98%\", \"12400 W SH\", \"2020-12-01T00:00:00\"], [\"Dollar General #10959\", \"98%\", \"6010 E RIVERSIDE DR\", \"2020-12-10T00:00:00\"], [\"Chef Robert Catering\", \"100%\", \"8134 MESA DR\", \"2020-12-17T00:00:00\"], [\"Club de la Raza\", \"89%\", \"2429 E SH\", \"2020-12-22T00:00:00\"], [\"LW - Table 620\", \"98%\", \"2000 S FM 620 RD\", \"2020-12-21T00:00:00\"]], \"hovertemplate\": \"Restaurant Name: %{customdata[0]}<br>Score: %{customdata[1]}<br>Street: %{customdata[2]}<br>Inspection Date: %{customdata[3]}\", \"lat\": [null, 30.408522, 30.447473, 30.177931, 30.2749, 30.276806, 30.208272, 30.394225, 30.396092, 30.365558, null, null, 30.285611, 30.255443, 30.202797, 30.294778, 30.356996, 30.26165, 30.349678, 30.225443, 30.200184, 30.353756, null, 30.477802, 30.163664, 30.406508, 30.448429, 30.258663, 30.357642, 30.441937, 30.44057, 30.396129, 30.297764, 30.393948, 30.357567, 30.264475, 30.252383, 30.356395, null, 30.238711, 30.405944, 30.26437, null, null, 30.417542, 30.441937, 30.212609, null, 30.346442, 30.2749, null, 30.401922, 30.434702, 30.291053, 30.337222, 30.2, 30.181994, 30.308385, 30.341028, 30.268742, 30.275231, 30.433702, null, 30.194048, 30.421254, 30.260704, 30.284019, 30.36441, 30.442957, 30.477802, null, 30.445314, 30.441937, 30.465601, 30.359155, 30.194048, 30.19096, 30.348381, 30.341725, 30.218964, 30.30675, 30.447473, 30.323972, 30.317286, 30.211841, 30.283319, 30.200463, 30.241593, 30.441937, 30.416351, 30.148928, 30.41503, null, 30.392352, 30.206706, 30.313641, null, 30.29806, null, 30.356395, 30.425948, 30.351231, null, 30.416577, 30.231447, 30.296106, 30.174896, null, 30.261912, 30.228372, 30.20676, 30.216371, 30.173693, null, 30.267349, null, 30.281511, 30.277014, 30.285249, 30.436116, 30.394529, 30.358106, 30.255321, null, 30.31524, 30.273599, 30.137606, 30.30881, 30.307203, 30.390328, 30.235855, 30.357262, 30.311288, 30.264459, 30.263083, 30.424498, 30.268058, 30.196231, 30.294735, 30.358106, 30.274413, 30.26763, 30.31466, 30.219122, 30.188388, 30.259141, 30.322681, null, 30.207855, 30.394877, 30.36508, 30.279246, null, null, 30.340912, 30.441282, 30.235507, null, null, 30.338728, 30.221781, 30.446183, 30.366401, 30.203667, null, 30.4204, 30.226141, 30.34713, 30.31487, 30.121291, null, 30.352668, 30.264124, 30.392008, 30.269458, 30.346501, 30.301073, 30.416273, 30.209029, null, 30.236507, null, 30.202651, 30.359155, 30.284891, 30.202875, 30.441282, 30.368077, 30.288198, 30.267971, 30.409161, 30.360309, 30.292189, 30.278932, 30.359579, 30.303794, 30.256749, 30.304871, 30.391159, 30.235825, 30.276059, 30.295179, 30.306151, 30.345791, 30.315534, 30.242222, 30.319315, 30.344864, null, 30.392352, 30.157697, null, 30.220859, 30.216371, 30.225437, 30.299588, 30.233175, 30.227884, 30.2323, 30.467184, 30.380289, 30.261166, 30.255443, 30.446424, 30.255221, 30.2, 30.392352, 30.44865, 30.442957, 30.468797, 30.231279, 30.261819, 30.215188, null, 30.392008, null, 30.210163, 30.136879, null, 30.445314, 30.403592, 30.371414, 30.28244, 30.281321, 30.286835, 30.262568, 30.212841, 30.292189, 30.498868, 30.195647, 30.408522, 30.331385, 30.339003, null, 30.424623, 30.282032, null, 30.349015, 30.287311, null, 30.174157, 30.260384, 30.336486, 30.333311, null, 30.268577, 30.373732, 30.416867, null, 30.293609, null, 30.272251, 30.357466, null, 30.273727, 30.441282, 30.415584, 30.217891, 30.40026, 30.271901, 30.209029, 30.282708, 30.307606, 30.261959, null, 30.279246, 30.344978, 30.242031, 30.233362, 30.369642, 30.3911, 30.260455, 30.360601, 30.203569, 30.33542, 30.231155, 30.278077, 30.255454, 30.220579, 30.326754, 30.151943, 30.277589, 30.4204, 30.295089, 30.320667, 30.237459, 30.425623, 30.437959, null, 30.136879, null, 30.314499, 30.45313, 30.436116, 30.362817, 30.276054, 30.290493, 30.220579, 30.26505, null, 30.26478, 30.309564, 30.307221, 30.440956, 30.260763, 30.341398, 30.496761, 30.337689, 30.358106, 30.273683, 30.222178, 30.209029, 30.357964, 30.301917, 30.235825, null, 30.424508, 30.214771, 30.288452, 30.307985, null, 30.196231, 30.300666, 30.267349, 30.194788, 30.357847, 30.221194, 30.315685, 30.294801, 30.346342, 30.197961, 30.275803, 30.193353, 30.359155, 30.255645, null, 30.23447, 30.183677, null, 30.39806, 30.345616, 30.164607, 30.301295, 30.360739, 30.33674, 30.337919, 30.285955, 30.478405, null, 30.441937, null, 30.174157, 30.295085, 30.263709, 30.2651, 30.36516, 30.31268, 30.200841, 30.438743, 30.194148, 30.272293, 30.290551, 30.357503, null, 30.353397, 30.311864, 30.40065, null, 30.194794, 30.233436, 30.193108, 30.355045, null, 30.412643, 30.168927, 30.401922, 30.255443, 30.446183, null, null, 30.254056, 30.494618, 30.229501, 30.218964, 30.337689, 30.497655, 30.269774, 30.29203, 30.285782, 30.350454, 30.312538, 30.309715, 30.290012, null, 30.267919, 30.40065, 30.339981, 30.223821, 30.324549, 30.228614, 30.28684, 30.269153, 30.325649, 30.273807, 30.456005, 30.441282, 30.273599, 30.227802, 30.235825, 30.254031, 30.354942, 30.337181, 30.271775, 30.412468, 30.45037, 30.218964, 30.239069, 30.238678, 30.236507, 30.221809, 30.361033, null, 30.307616, 30.469768, null, 30.447473, 30.263892, 30.084128, 30.304679, 30.209124, 30.276147, 30.322958, null, 30.212956, 30.232228, 30.272605, 30.304855, 30.429684, 30.226725, 30.445314, 30.26926, null, 30.419705, 30.354444, 30.275231, 30.316742, 30.24371, 30.382116, 30.353297, 30.235995, 30.167179, null, 30.360404, 30.361597, 30.363947, 30.354586, null, 30.305053, 30.340843, 30.402572, 30.26452, null, 30.2749, 30.271017, 30.413727, 30.27897, 30.401102, 30.220579, 30.349816, 30.342994, 30.255443, null, 30.356996, 30.224799, null, 30.412512, null, null, 30.398571, null, 30.223712, 30.262045, 30.318803, 30.356842, 30.234747, 30.202311, 30.275195, 30.33711, 30.233175, null, 30.36194, null, 30.276147, 30.340865, 30.202651, 30.433558, 30.355859, 30.351197, 30.299782, 30.193108, null, 30.154194, 30.243957, null, 30.361033, 30.429156, 30.274085, 30.140471, 30.362392, 30.235633, 30.45313, 30.359155, null, null, 30.33872, null, 30.307228, 30.276059, null, 30.262989, 30.255443, 30.231596, null, 30.272115, 30.173058, 30.24741, 30.232532, 30.365544, null, 30.349938, 30.19096, 30.269959, 30.496761, 30.192594, 30.19287, null, null, 30.428742, 30.2749, 30.371773, 30.324549, 30.4204, 30.407262, 30.306151, 30.138581, 30.360095, 30.303188, 30.445314, 30.136879, 30.23403, 30.341783, 30.37324, 30.360701, 30.2927, 30.164023, 30.312363, null, 30.478405, 30.35546, null, 30.388391, null, 30.292189, 30.332321, 30.402112, 30.425921, 30.377667, null, 30.403592, 30.291006, 30.245028, 30.353534, 30.208765, 30.352555, 30.210567, 30.238295, 30.343521, 30.329586, null, 30.226402, 30.373443, null, null], \"legendgroup\": \"\", \"lon\": [null, -97.698168, -97.648368, -97.615839, -97.801111, -97.751192, -97.781635, -97.748272, -97.749989, -97.738956, null, null, -97.684167, -97.810066, -97.806221, -97.724118, -97.685774, -97.718305, -97.526006, -97.76661, -97.785895, -97.75401, null, -97.643263, -97.830628, -97.874421, -97.655218, -97.786729, -97.762151, -97.74148, -97.663126, -97.720128, -97.687283, -97.726442, -97.748349, -97.741002, -97.773635, -97.731374, null, -97.683849, -97.678556, -97.733445, null, null, -97.675682, -97.74148, -97.752474, null, -97.700016, -97.801111, null, -97.746122, -97.615494, -97.741264, -97.756645, -97.77, -97.8465, -97.938816, -97.557461, -97.728041, -97.843793, -97.77132, null, -97.843038, -97.628454, -97.734925, -97.74194, -97.710274, -97.741799, -97.643263, null, -97.743259, -97.74148, -97.597297, -97.73005, -97.843038, -97.771937, -97.557039, -97.970094, -97.755433, -97.750208, -97.648368, -97.689635, -97.740391, -97.964736, -97.742009, -97.799243, -97.785134, -97.74148, -97.697097, -97.842579, -97.696431, null, -97.746845, -97.77795, -97.704222, null, -98.006844, null, -97.731374, -97.716411, -97.708533, null, -97.745964, -97.787322, -97.743872, -97.82327, null, -97.723182, -97.789335, -97.719122, -97.964091, -97.821911, null, -97.743063, null, -97.710596, -97.742141, -97.774785, -97.612748, -97.75208, -97.735077, -97.719477, null, -97.741316, -97.799243, -97.857505, -97.740756, -97.931757, -97.884583, -97.728243, -97.686159, -97.666151, -97.757249, -97.816129, -97.750561, -97.746432, -97.785737, -97.824938, -97.735077, -97.800458, -97.741285, -97.71482, -97.688528, -97.856475, -97.759029, -97.714855, null, -97.780106, -97.745915, -97.695882, -97.806703, null, null, -97.738848, -97.66529, -97.763802, null, null, -97.97035, -97.689832, -97.648258, -97.695129, -97.878534, null, -97.84557, -97.705922, -97.72721, -97.733618, -97.635979, null, -97.723662, -97.741615, -97.707343, -97.696677, -97.67724, -97.674094, -97.695601, -97.78292, null, -97.725029, null, -97.805566, -97.73005, -97.715382, -97.837567, -97.66529, -97.694197, -97.744632, -97.742507, -97.715712, -97.790126, -97.828184, -97.742615, -97.737925, -97.726441, -97.71153, -97.736783, -97.659773, -97.792954, -97.668702, -97.740547, -97.715837, -97.967013, -97.755907, -97.72868, -97.689358, -97.736361, null, -97.746845, -97.833381, null, -97.691306, -97.964091, -97.769581, -97.740175, -97.721518, -97.786555, -97.758576, -97.64526, -97.68363, -97.721147, -97.810066, -97.686119, -97.844945, -97.77, -97.746845, -97.655677, -97.741799, -97.595887, -97.787453, -97.758731, -97.762343, null, -97.707343, null, -97.780138, -97.856197, null, -97.743259, -97.745141, -97.757, -97.711754, -97.703182, -97.703049, -97.725167, -97.713113, -97.828184, -97.773275, -97.777748, -97.698168, -97.722908, -97.754988, null, -97.672008, -97.743038, null, -97.554111, -97.742693, null, -97.796784, -97.734006, -97.739563, -97.705301, null, -97.727607, -97.719236, -97.746868, null, -97.741925, null, -97.691247, -97.686736, null, -97.697031, -97.66529, -97.695563, -97.861448, -97.745036, -97.876727, -97.78292, -97.74207, -97.945544, -97.761269, null, -97.759767, -97.736664, -97.728362, -97.73959, -97.733164, -97.721166, -97.738167, -97.739855, -97.785518, -97.559559, -97.791658, -97.760581, -97.761872, -97.837688, -97.687198, -97.833228, -97.720737, -97.84557, -97.73667, -97.968512, -97.725513, -97.715752, -97.75871, null, -97.856197, null, -97.755166, -97.8277, -97.612748, -97.69719, -97.816218, -97.742018, -97.837688, -97.732382, null, -97.737795, -97.941855, -97.74177, -97.773218, -97.712656, -97.557848, -97.774899, -97.692266, -97.735077, -97.720484, -97.838856, -97.78292, -97.760539, -97.764901, -97.792954, null, -97.713215, -97.832351, -97.747786, -97.940692, null, -97.785737, -97.74041, -97.743063, -97.783619, -97.978237, -97.690654, -97.741373, -97.742566, -97.966225, -97.767334, -97.735692, -97.77868, -97.73005, -97.698125, null, -97.911646, -97.792016, null, -97.704665, -97.713435, -97.692906, -97.739098, -97.716586, -97.694535, -97.74121, -97.681617, -97.765794, null, -97.74148, null, -97.796784, -97.742718, -97.731481, -97.742451, -97.695836, -97.960154, -97.879006, -97.756268, -97.77723, -97.697526, -97.742629, -97.97889, null, -97.705543, -97.963409, -97.747851, null, -97.842717, -97.739816, -97.779336, -97.728669, null, -97.689502, -97.825756, -97.746122, -97.810066, -97.648258, null, null, -97.782807, -97.7882, -97.864222, -97.755433, -97.692266, -97.777084, -97.806002, -97.742784, -97.744893, -97.748102, -97.693481, -97.934312, -97.707435, null, -97.694035, -97.747851, -97.804557, -97.763391, -97.739532, -97.77134, -97.742736, -97.740924, -97.726544, -97.697987, -97.659227, -97.66529, -97.799243, -97.727487, -97.792954, -97.703643, -97.703436, -97.720538, -97.741424, -97.927049, -97.655136, -97.755433, -97.761559, -97.72594, -97.725029, -97.956195, -97.716672, null, -97.937139, -97.595626, null, -97.648368, -97.759549, -97.752177, -97.93797, -97.804503, -97.733582, -97.742673, null, -97.778807, -97.79909, -97.691021, -97.725971, -97.671287, -97.770608, -97.743259, -97.724397, null, -97.752565, -97.727417, -97.843793, -97.713804, -97.729736, -97.740032, -97.755725, -97.703777, -97.791596, null, -97.739692, -97.687419, -97.726577, -97.731747, null, -97.940736, -97.80285, -97.721403, -97.78401, null, -97.801111, -97.789586, -97.746293, -97.806439, -97.722763, -97.837688, -97.55595, -97.763511, -97.810066, null, -97.685774, -97.703211, null, -97.688909, null, null, -97.745647, null, -97.843827, -97.758588, -97.739443, -97.747275, -97.788031, -97.806963, -97.668307, -97.756437, -97.721518, null, -97.717321, null, -97.733582, -97.556468, -97.805566, -97.771837, -97.758223, -97.675864, -97.740052, -97.779336, null, -97.833283, -97.781825, null, -97.716672, -97.760067, -97.766118, -97.834444, -97.697423, -97.724398, -97.8277, -97.73005, null, null, -97.692623, null, -97.937337, -97.668702, null, -97.72637, -97.810066, -97.818902, null, -97.697472, -97.800341, -97.7743, -97.786561, -97.695617, null, -98.012061, -97.771937, -97.696825, -97.774899, -97.925054, -97.77775, null, null, -97.838764, -97.801111, -97.757113, -97.739532, -97.84557, -97.719376, -97.715837, -97.849046, -97.716393, -97.678524, -97.743259, -97.856197, -97.723776, -97.551086, -97.691287, -97.716962, -97.664656, -97.693075, -97.715363, null, -97.765794, -97.757281, null, -97.743593, null, -97.828184, -97.622991, -97.766923, -97.753486, -97.703772, null, -97.745141, -98.075811, -97.73049, -97.753552, -97.862494, -97.756199, -97.786896, -97.725943, -97.704292, -97.689879, null, -97.706476, -97.756073, null, null], \"marker\": {\"color\": [90, 90, 100, 100, 100, 80, 100, 90, 100, 90, 70, 90, 80, 90, 90, 90, 90, 90, 100, 90, 80, 100, 90, 100, 90, 90, 90, 100, 100, 100, 100, 90, 90, 90, 100, 80, 100, 70, 100, 100, 100, 90, 90, 100, 90, 100, 80, 100, 90, 100, 90, 100, 90, 90, 100, 90, 90, 90, 80, 90, 90, 90, 100, 80, 90, 90, 50, 100, 90, 90, 90, 100, 80, 100, 90, 90, 80, 80, 90, 100, 90, 90, 100, 90, 100, 100, 90, 90, 90, 90, 90, 90, 70, 90, 100, 90, 90, 90, 90, 90, 80, 80, 90, 80, 100, 100, 90, 90, 90, 90, 70, 100, 90, 70, 100, 100, 100, 90, 100, 90, 100, 90, 90, 100, 90, 100, 90, 100, 100, 90, 90, 100, 90, 100, 90, 90, 100, 90, 100, 80, 90, 100, 90, 100, 100, 100, 100, 100, 90, 90, 90, 90, 100, 90, 80, 100, 100, 100, 90, 90, 90, 70, 90, 90, 90, 90, 100, 90, 80, 100, 80, 100, 90, 90, 90, 80, 90, 80, 90, 70, 70, 100, 100, 90, 90, 80, 100, 100, 100, 100, 90, 90, 100, 90, 90, 100, 80, 90, 90, 90, 100, 90, 90, 100, 90, 90, 80, 90, 100, 100, 90, 100, 90, 100, 100, 90, 90, 100, 100, 100, 100, 100, 80, 100, 90, 80, 90, 100, 90, 80, 90, 90, 100, 90, 100, 100, 100, 100, 100, 100, 80, 100, 100, 90, 90, 100, 80, 90, 90, 100, 90, 80, 90, 70, 90, 100, 80, 80, 100, 90, 90, 100, 80, 70, 100, 90, 100, 100, 100, 100, 90, 90, 90, 80, 70, 100, 90, 80, 80, 90, 70, 80, 100, 90, 90, 100, 80, 100, 100, 100, 90, 100, 90, 100, 90, 80, 100, 90, 100, 100, 80, 100, 90, 90, 100, 90, 90, 70, 100, 90, 100, 90, 100, 90, 90, 90, 90, 90, 90, 100, 100, 90, 100, 100, 100, 90, 80, 90, 100, 90, 100, 80, 100, 100, 100, 100, 90, 100, 80, 100, 90, 80, 90, 90, 90, 80, 100, 90, 100, 70, 100, 100, 90, 100, 100, 90, 100, 90, 100, 90, 100, 90, 90, 90, 100, 100, 80, 90, 100, 90, 100, 100, 90, 100, 100, 100, 100, 70, 80, 80, 90, 90, 100, 90, 90, 100, 100, 90, 90, 90, 80, 90, 100, 80, 100, 90, 90, 80, 100, 90, 100, 90, 90, 100, 100, 80, 100, 100, 90, 100, 90, 90, 90, 90, 90, 90, 100, 90, 80, 100, 90, 90, 80, 90, 90, 100, 80, 100, 100, 100, 80, 80, 100, 100, 90, 90, 90, 100, 90, 90, 90, 80, 80, 70, 100, 90, 100, 100, 80, 100, 90, 90, 90, 100, 100, 90, 90, 100, 80, 100, 100, 100, 90, 90, 100, 100, 80, 90, 100, 90, 100, 80, 80, 90, 100, 100, 80, 100, 90, 100, 100, 90, 100, 90, 100, 90, 70, 100, 90, 90, 90, 100, 90, 90, 80, 100, 100, 90, 90, 90, 80, 100, 90, 70, 100, 80, 90, 80, 90, 100, 90, 100, 100, 100, 100, 100, 90, 90, 90, 100, 100, 90, 90, 90, 70, 90, 100, 100, 70, 90, 100, 90, 100, 80, 90, 100, 90, 100, 90, 90, 100, 100, 90, 80, 90, 90, 90, 90, 100, 100, 100, 100, 80, 80, 90, 100, 100, 90, 100, 100, 100, 90, 100, 90, 90, 90, 100, 100, 100, 90, 100, 80, 90, 90, 80, 100, 90, 70, 100, 100, 90, 100, 90, 90, 90, 90, 100, 80, 90, 100, 70, 90, 80, 100, 80, 70, 90, 100, 100, 100, 100, 90, 100], \"coloraxis\": \"coloraxis\", \"opacity\": 0.5, \"size\": 10}, \"mode\": \"markers+text\", \"name\": \"\", \"showlegend\": false, \"subplot\": \"mapbox\", \"text\": [\"91%\", \"92%\", \"96%\", \"96%\", \"99%\", \"75%\", \"98%\", \"92%\", \"99%\", \"94%\", \"70%\", \"94%\", \"78%\", \"90%\", \"86%\", \"89%\", \"94%\", \"86%\", \"95%\", \"94%\", \"81%\", \"98%\", \"93%\", \"97%\", \"93%\", \"90%\", \"90%\", \"97%\", \"100%\", \"100%\", \"100%\", \"91%\", \"92%\", \"90%\", \"97%\", \"85%\", \"99%\", \"70%\", \"95%\", \"97%\", \"100%\", \"93%\", \"90%\", \"98%\", \"93%\", \"99%\", \"80%\", \"98%\", \"93%\", \"97%\", \"88%\", \"95%\", \"91%\", \"89%\", \"97%\", \"93%\", \"91%\", \"94%\", \"80%\", \"92%\", \"92%\", \"93%\", \"100%\", \"75%\", \"91%\", \"94%\", \"54%\", \"100%\", \"89%\", \"90%\", \"93%\", \"96%\", \"80%\", \"98%\", \"86%\", \"89%\", \"83%\", \"82%\", \"88%\", \"97%\", \"92%\", \"92%\", \"98%\", \"88%\", \"96%\", \"97%\", \"86%\", \"93%\", \"88%\", \"89%\", \"88%\", \"86%\", \"74%\", \"93%\", \"97%\", \"93%\", \"89%\", \"94%\", \"89%\", \"92%\", \"76%\", \"78%\", \"89%\", \"79%\", \"97%\", \"95%\", \"91%\", \"90%\", \"94%\", \"87%\", \"72%\", \"96%\", \"89%\", \"74%\", \"100%\", \"98%\", \"100%\", \"87%\", \"99%\", \"87%\", \"100%\", \"92%\", \"91%\", \"99%\", \"87%\", \"95%\", \"93%\", \"100%\", \"100%\", \"94%\", \"88%\", \"95%\", \"91%\", \"100%\", \"93%\", \"92%\", \"99%\", \"90%\", \"100%\", \"76%\", \"91%\", \"96%\", \"86%\", \"95%\", \"97%\", \"97%\", \"99%\", \"100%\", \"88%\", \"86%\", \"88%\", \"90%\", \"98%\", \"93%\", \"80%\", \"96%\", \"96%\", \"96%\", \"90%\", \"88%\", \"89%\", \"73%\", \"86%\", \"91%\", \"89%\", \"91%\", \"95%\", \"93%\", \"84%\", \"97%\", \"79%\", \"95%\", \"89%\", \"93%\", \"93%\", \"81%\", \"89%\", \"85%\", \"94%\", \"70%\", \"74%\", \"96%\", \"99%\", \"92%\", \"87%\", \"78%\", \"100%\", \"95%\", \"96%\", \"98%\", \"91%\", \"91%\", \"98%\", \"88%\", \"89%\", \"95%\", \"80%\", \"88%\", \"89%\", \"91%\", \"95%\", \"93%\", \"89%\", \"95%\", \"92%\", \"86%\", \"83%\", \"86%\", \"96%\", \"95%\", \"87%\", \"98%\", \"92%\", \"98%\", \"100%\", \"91%\", \"87%\", \"96%\", \"98%\", \"99%\", \"96%\", \"98%\", \"80%\", \"100%\", \"90%\", \"84%\", \"86%\", \"98%\", \"88%\", \"75%\", \"86%\", \"89%\", \"97%\", \"93%\", \"97%\", \"97%\", \"100%\", \"100%\", \"97%\", \"98%\", \"80%\", \"98%\", \"95%\", \"86%\", \"91%\", \"100%\", \"80%\", \"92%\", \"94%\", \"95%\", \"88%\", \"83%\", \"91%\", \"73%\", \"92%\", \"99%\", \"80%\", \"83%\", \"96%\", \"89%\", \"93%\", \"100%\", \"85%\", \"72%\", \"100%\", \"92%\", \"100%\", \"98%\", \"95%\", \"99%\", \"90%\", \"92%\", \"92%\", \"83%\", \"70%\", \"100%\", \"88%\", \"78%\", \"80%\", \"90%\", \"73%\", \"79%\", \"100%\", \"89%\", \"94%\", \"97%\", \"81%\", \"97%\", \"99%\", \"99%\", \"89%\", \"100%\", \"92%\", \"96%\", \"86%\", \"83%\", \"100%\", \"90%\", \"96%\", \"97%\", \"85%\", \"96%\", \"94%\", \"90%\", \"95%\", \"90%\", \"90%\", \"71%\", \"96%\", \"94%\", \"97%\", \"86%\", \"100%\", \"90%\", \"93%\", \"93%\", \"87%\", \"93%\", \"88%\", \"98%\", \"96%\", \"88%\", \"96%\", \"100%\", \"95%\", \"88%\", \"80%\", \"94%\", \"97%\", \"92%\", \"97%\", \"79%\", \"100%\", \"100%\", \"97%\", \"97%\", \"91%\", \"98%\", \"83%\", \"100%\", \"89%\", \"80%\", \"92%\", \"94%\", \"87%\", \"80%\", \"96%\", \"90%\", \"96%\", \"70%\", \"97%\", \"95%\", \"88%\", \"96%\", \"99%\", \"89%\", \"97%\", \"94%\", \"97%\", \"90%\", \"98%\", \"90%\", \"94%\", \"87%\", \"96%\", \"99%\", \"81%\", \"90%\", \"97%\", \"90%\", \"96%\", \"98%\", \"93%\", \"99%\", \"96%\", \"96%\", \"96%\", \"71%\", \"77%\", \"80%\", \"91%\", \"92%\", \"98%\", \"90%\", \"87%\", \"98%\", \"97%\", \"87%\", \"94%\", \"94%\", \"75%\", \"88%\", \"98%\", \"83%\", \"100%\", \"92%\", \"93%\", \"76%\", \"95%\", \"86%\", \"98%\", \"91%\", \"93%\", \"99%\", \"100%\", \"80%\", \"98%\", \"95%\", \"94%\", \"99%\", \"92%\", \"90%\", \"91%\", \"89%\", \"88%\", \"92%\", \"96%\", \"90%\", \"82%\", \"98%\", \"93%\", \"94%\", \"85%\", \"88%\", \"89%\", \"98%\", \"84%\", \"96%\", \"97%\", \"97%\", \"85%\", \"77%\", \"95%\", \"97%\", \"86%\", \"93%\", \"92%\", \"95%\", \"93%\", \"93%\", \"94%\", \"75%\", \"78%\", \"72%\", \"97%\", \"90%\", \"100%\", \"96%\", \"84%\", \"99%\", \"90%\", \"86%\", \"91%\", \"97%\", \"97%\", \"90%\", \"94%\", \"98%\", \"81%\", \"96%\", \"100%\", \"97%\", \"90%\", \"92%\", \"99%\", \"98%\", \"81%\", \"93%\", \"100%\", \"92%\", \"98%\", \"75%\", \"84%\", \"93%\", \"97%\", \"100%\", \"77%\", \"95%\", \"88%\", \"96%\", \"100%\", \"94%\", \"100%\", \"86%\", \"95%\", \"93%\", \"73%\", \"98%\", \"89%\", \"89%\", \"92%\", \"96%\", \"91%\", \"90%\", \"79%\", \"98%\", \"100%\", \"90%\", \"90%\", \"94%\", \"82%\", \"96%\", \"86%\", \"71%\", \"99%\", \"83%\", \"86%\", \"81%\", \"90%\", \"100%\", \"86%\", \"96%\", \"100%\", \"100%\", \"95%\", \"95%\", \"94%\", \"86%\", \"90%\", \"95%\", \"97%\", \"88%\", \"88%\", \"91%\", \"70%\", \"90%\", \"95%\", \"96%\", \"70%\", \"92%\", \"99%\", \"87%\", \"99%\", \"79%\", \"93%\", \"95%\", \"92%\", \"98%\", \"86%\", \"91%\", \"95%\", \"97%\", \"93%\", \"81%\", \"93%\", \"92%\", \"93%\", \"93%\", \"99%\", \"98%\", \"100%\", \"98%\", \"80%\", \"80%\", \"90%\", \"98%\", \"96%\", \"94%\", \"98%\", \"100%\", \"96%\", \"90%\", \"96%\", \"93%\", \"94%\", \"92%\", \"95%\", \"96%\", \"97%\", \"87%\", \"100%\", \"79%\", \"93%\", \"93%\", \"85%\", \"97%\", \"91%\", \"70%\", \"100%\", \"97%\", \"93%\", \"98%\", \"87%\", \"89%\", \"90%\", \"91%\", \"98%\", \"84%\", \"87%\", \"100%\", \"74%\", \"89%\", \"83%\", \"97%\", \"76%\", \"74%\", \"89%\", \"97%\", \"98%\", \"98%\", \"100%\", \"89%\", \"98%\"], \"textfont\": {\"color\": \"#E58606\"}, \"textposition\": \"top left\", \"texttemplate\": \"%{Score}\", \"type\": \"scattermapbox\"}],                        {\"coloraxis\": {\"colorbar\": {\"title\": {\"text\": \"color\"}}, \"colorscale\": [[0.0, \"rgb(0,104,55)\"], [0.1, \"rgb(26,152,80)\"], [0.2, \"rgb(102,189,99)\"], [0.3, \"rgb(166,217,106)\"], [0.4, \"rgb(217,239,139)\"], [0.5, \"rgb(255,255,191)\"], [0.6, \"rgb(254,224,139)\"], [0.7, \"rgb(253,174,97)\"], [0.8, \"rgb(244,109,67)\"], [0.9, \"rgb(215,48,39)\"], [1.0, \"rgb(165,0,38)\"]]}, \"legend\": {\"tracegroupgap\": 0}, \"mapbox\": {\"center\": {\"lat\": 30.308063885658914, \"lon\": -97.75314880813954}, \"domain\": {\"x\": [0.0, 1.0], \"y\": [0.0, 1.0]}, \"style\": \"open-street-map\", \"zoom\": 10}, \"margin\": {\"t\": 60}, \"template\": {\"data\": {\"bar\": [{\"error_x\": {\"color\": \"#2a3f5f\"}, \"error_y\": {\"color\": \"#2a3f5f\"}, \"marker\": {\"line\": {\"color\": \"#E5ECF6\", \"width\": 0.5}}, \"type\": \"bar\"}], \"barpolar\": [{\"marker\": {\"line\": {\"color\": \"#E5ECF6\", \"width\": 0.5}}, \"type\": \"barpolar\"}], \"carpet\": [{\"aaxis\": {\"endlinecolor\": \"#2a3f5f\", \"gridcolor\": \"white\", \"linecolor\": \"white\", \"minorgridcolor\": \"white\", \"startlinecolor\": \"#2a3f5f\"}, \"baxis\": {\"endlinecolor\": \"#2a3f5f\", \"gridcolor\": \"white\", \"linecolor\": \"white\", \"minorgridcolor\": \"white\", \"startlinecolor\": \"#2a3f5f\"}, \"type\": \"carpet\"}], \"choropleth\": [{\"colorbar\": {\"outlinewidth\": 0, \"ticks\": \"\"}, \"type\": \"choropleth\"}], \"contour\": [{\"colorbar\": {\"outlinewidth\": 0, \"ticks\": \"\"}, \"colorscale\": [[0.0, \"#0d0887\"], [0.1111111111111111, \"#46039f\"], [0.2222222222222222, \"#7201a8\"], [0.3333333333333333, \"#9c179e\"], [0.4444444444444444, \"#bd3786\"], [0.5555555555555556, \"#d8576b\"], [0.6666666666666666, \"#ed7953\"], [0.7777777777777778, \"#fb9f3a\"], [0.8888888888888888, \"#fdca26\"], [1.0, \"#f0f921\"]], \"type\": \"contour\"}], \"contourcarpet\": [{\"colorbar\": {\"outlinewidth\": 0, \"ticks\": \"\"}, \"type\": \"contourcarpet\"}], \"heatmap\": [{\"colorbar\": {\"outlinewidth\": 0, \"ticks\": \"\"}, \"colorscale\": [[0.0, \"#0d0887\"], [0.1111111111111111, \"#46039f\"], [0.2222222222222222, \"#7201a8\"], [0.3333333333333333, \"#9c179e\"], [0.4444444444444444, \"#bd3786\"], [0.5555555555555556, \"#d8576b\"], [0.6666666666666666, \"#ed7953\"], [0.7777777777777778, \"#fb9f3a\"], [0.8888888888888888, \"#fdca26\"], [1.0, \"#f0f921\"]], \"type\": \"heatmap\"}], \"heatmapgl\": [{\"colorbar\": {\"outlinewidth\": 0, \"ticks\": \"\"}, \"colorscale\": [[0.0, \"#0d0887\"], [0.1111111111111111, \"#46039f\"], [0.2222222222222222, \"#7201a8\"], [0.3333333333333333, \"#9c179e\"], [0.4444444444444444, \"#bd3786\"], [0.5555555555555556, \"#d8576b\"], [0.6666666666666666, \"#ed7953\"], [0.7777777777777778, \"#fb9f3a\"], [0.8888888888888888, \"#fdca26\"], [1.0, \"#f0f921\"]], \"type\": \"heatmapgl\"}], \"histogram\": [{\"marker\": {\"colorbar\": {\"outlinewidth\": 0, \"ticks\": \"\"}}, \"type\": \"histogram\"}], \"histogram2d\": [{\"colorbar\": {\"outlinewidth\": 0, \"ticks\": \"\"}, \"colorscale\": [[0.0, \"#0d0887\"], [0.1111111111111111, \"#46039f\"], [0.2222222222222222, \"#7201a8\"], [0.3333333333333333, \"#9c179e\"], [0.4444444444444444, \"#bd3786\"], [0.5555555555555556, \"#d8576b\"], [0.6666666666666666, \"#ed7953\"], [0.7777777777777778, \"#fb9f3a\"], [0.8888888888888888, \"#fdca26\"], [1.0, \"#f0f921\"]], \"type\": \"histogram2d\"}], \"histogram2dcontour\": [{\"colorbar\": {\"outlinewidth\": 0, \"ticks\": \"\"}, \"colorscale\": [[0.0, \"#0d0887\"], [0.1111111111111111, \"#46039f\"], [0.2222222222222222, \"#7201a8\"], [0.3333333333333333, \"#9c179e\"], [0.4444444444444444, \"#bd3786\"], [0.5555555555555556, \"#d8576b\"], [0.6666666666666666, \"#ed7953\"], [0.7777777777777778, \"#fb9f3a\"], [0.8888888888888888, \"#fdca26\"], [1.0, \"#f0f921\"]], \"type\": \"histogram2dcontour\"}], \"mesh3d\": [{\"colorbar\": {\"outlinewidth\": 0, \"ticks\": \"\"}, \"type\": \"mesh3d\"}], \"parcoords\": [{\"line\": {\"colorbar\": {\"outlinewidth\": 0, \"ticks\": \"\"}}, \"type\": \"parcoords\"}], \"pie\": [{\"automargin\": true, \"type\": \"pie\"}], \"scatter\": [{\"marker\": {\"colorbar\": {\"outlinewidth\": 0, \"ticks\": \"\"}}, \"type\": \"scatter\"}], \"scatter3d\": [{\"line\": {\"colorbar\": {\"outlinewidth\": 0, \"ticks\": \"\"}}, \"marker\": {\"colorbar\": {\"outlinewidth\": 0, \"ticks\": \"\"}}, \"type\": \"scatter3d\"}], \"scattercarpet\": [{\"marker\": {\"colorbar\": {\"outlinewidth\": 0, \"ticks\": \"\"}}, \"type\": \"scattercarpet\"}], \"scattergeo\": [{\"marker\": {\"colorbar\": {\"outlinewidth\": 0, \"ticks\": \"\"}}, \"type\": \"scattergeo\"}], \"scattergl\": [{\"marker\": {\"colorbar\": {\"outlinewidth\": 0, \"ticks\": \"\"}}, \"type\": \"scattergl\"}], \"scattermapbox\": [{\"marker\": {\"colorbar\": {\"outlinewidth\": 0, \"ticks\": \"\"}}, \"type\": \"scattermapbox\"}], \"scatterpolar\": [{\"marker\": {\"colorbar\": {\"outlinewidth\": 0, \"ticks\": \"\"}}, \"type\": \"scatterpolar\"}], \"scatterpolargl\": [{\"marker\": {\"colorbar\": {\"outlinewidth\": 0, \"ticks\": \"\"}}, \"type\": \"scatterpolargl\"}], \"scatterternary\": [{\"marker\": {\"colorbar\": {\"outlinewidth\": 0, \"ticks\": \"\"}}, \"type\": \"scatterternary\"}], \"surface\": [{\"colorbar\": {\"outlinewidth\": 0, \"ticks\": \"\"}, \"colorscale\": [[0.0, \"#0d0887\"], [0.1111111111111111, \"#46039f\"], [0.2222222222222222, \"#7201a8\"], [0.3333333333333333, \"#9c179e\"], [0.4444444444444444, \"#bd3786\"], [0.5555555555555556, \"#d8576b\"], [0.6666666666666666, \"#ed7953\"], [0.7777777777777778, \"#fb9f3a\"], [0.8888888888888888, \"#fdca26\"], [1.0, \"#f0f921\"]], \"type\": \"surface\"}], \"table\": [{\"cells\": {\"fill\": {\"color\": \"#EBF0F8\"}, \"line\": {\"color\": \"white\"}}, \"header\": {\"fill\": {\"color\": \"#C8D4E3\"}, \"line\": {\"color\": \"white\"}}, \"type\": \"table\"}]}, \"layout\": {\"annotationdefaults\": {\"arrowcolor\": \"#2a3f5f\", \"arrowhead\": 0, \"arrowwidth\": 1}, \"autotypenumbers\": \"strict\", \"coloraxis\": {\"colorbar\": {\"outlinewidth\": 0, \"ticks\": \"\"}}, \"colorscale\": {\"diverging\": [[0, \"#8e0152\"], [0.1, \"#c51b7d\"], [0.2, \"#de77ae\"], [0.3, \"#f1b6da\"], [0.4, \"#fde0ef\"], [0.5, \"#f7f7f7\"], [0.6, \"#e6f5d0\"], [0.7, \"#b8e186\"], [0.8, \"#7fbc41\"], [0.9, \"#4d9221\"], [1, \"#276419\"]], \"sequential\": [[0.0, \"#0d0887\"], [0.1111111111111111, \"#46039f\"], [0.2222222222222222, \"#7201a8\"], [0.3333333333333333, \"#9c179e\"], [0.4444444444444444, \"#bd3786\"], [0.5555555555555556, \"#d8576b\"], [0.6666666666666666, \"#ed7953\"], [0.7777777777777778, \"#fb9f3a\"], [0.8888888888888888, \"#fdca26\"], [1.0, \"#f0f921\"]], \"sequentialminus\": [[0.0, \"#0d0887\"], [0.1111111111111111, \"#46039f\"], [0.2222222222222222, \"#7201a8\"], [0.3333333333333333, \"#9c179e\"], [0.4444444444444444, \"#bd3786\"], [0.5555555555555556, \"#d8576b\"], [0.6666666666666666, \"#ed7953\"], [0.7777777777777778, \"#fb9f3a\"], [0.8888888888888888, \"#fdca26\"], [1.0, \"#f0f921\"]]}, \"colorway\": [\"#636efa\", \"#EF553B\", \"#00cc96\", \"#ab63fa\", \"#FFA15A\", \"#19d3f3\", \"#FF6692\", \"#B6E880\", \"#FF97FF\", \"#FECB52\"], \"font\": {\"color\": \"#2a3f5f\"}, \"geo\": {\"bgcolor\": \"white\", \"lakecolor\": \"white\", \"landcolor\": \"#E5ECF6\", \"showlakes\": true, \"showland\": true, \"subunitcolor\": \"white\"}, \"hoverlabel\": {\"align\": \"left\"}, \"hovermode\": \"closest\", \"mapbox\": {\"style\": \"light\"}, \"paper_bgcolor\": \"white\", \"plot_bgcolor\": \"#E5ECF6\", \"polar\": {\"angularaxis\": {\"gridcolor\": \"white\", \"linecolor\": \"white\", \"ticks\": \"\"}, \"bgcolor\": \"#E5ECF6\", \"radialaxis\": {\"gridcolor\": \"white\", \"linecolor\": \"white\", \"ticks\": \"\"}}, \"scene\": {\"xaxis\": {\"backgroundcolor\": \"#E5ECF6\", \"gridcolor\": \"white\", \"gridwidth\": 2, \"linecolor\": \"white\", \"showbackground\": true, \"ticks\": \"\", \"zerolinecolor\": \"white\"}, \"yaxis\": {\"backgroundcolor\": \"#E5ECF6\", \"gridcolor\": \"white\", \"gridwidth\": 2, \"linecolor\": \"white\", \"showbackground\": true, \"ticks\": \"\", \"zerolinecolor\": \"white\"}, \"zaxis\": {\"backgroundcolor\": \"#E5ECF6\", \"gridcolor\": \"white\", \"gridwidth\": 2, \"linecolor\": \"white\", \"showbackground\": true, \"ticks\": \"\", \"zerolinecolor\": \"white\"}}, \"shapedefaults\": {\"line\": {\"color\": \"#2a3f5f\"}}, \"ternary\": {\"aaxis\": {\"gridcolor\": \"white\", \"linecolor\": \"white\", \"ticks\": \"\"}, \"baxis\": {\"gridcolor\": \"white\", \"linecolor\": \"white\", \"ticks\": \"\"}, \"bgcolor\": \"#E5ECF6\", \"caxis\": {\"gridcolor\": \"white\", \"linecolor\": \"white\", \"ticks\": \"\"}}, \"title\": {\"x\": 0.05}, \"xaxis\": {\"automargin\": true, \"gridcolor\": \"white\", \"linecolor\": \"white\", \"ticks\": \"\", \"title\": {\"standoff\": 15}, \"zerolinecolor\": \"white\", \"zerolinewidth\": 2}, \"yaxis\": {\"automargin\": true, \"gridcolor\": \"white\", \"linecolor\": \"white\", \"ticks\": \"\", \"title\": {\"standoff\": 15}, \"zerolinecolor\": \"white\", \"zerolinewidth\": 2}}}},                        {\"responsive\": true}                    ).then(function(){\n",
       "                            \n",
       "var gd = document.getElementById('2940adbd-64d3-44db-a858-01a6ec735c3a');\n",
       "var x = new MutationObserver(function (mutations, observer) {{\n",
       "        var display = window.getComputedStyle(gd).display;\n",
       "        if (!display || display === 'none') {{\n",
       "            console.log([gd, 'removed!']);\n",
       "            Plotly.purge(gd);\n",
       "            observer.disconnect();\n",
       "        }}\n",
       "}});\n",
       "\n",
       "// Listen for the removal of the full notebook cells\n",
       "var notebookContainer = gd.closest('#notebook-container');\n",
       "if (notebookContainer) {{\n",
       "    x.observe(notebookContainer, {childList: true});\n",
       "}}\n",
       "\n",
       "// Listen for the clearing of the current output cell\n",
       "var outputEl = gd.closest('.output');\n",
       "if (outputEl) {{\n",
       "    x.observe(outputEl, {childList: true});\n",
       "}}\n",
       "\n",
       "                        })                };                });            </script>        </div>"
      ]
     },
     "metadata": {},
     "output_type": "display_data"
    }
   ],
   "source": [
    "fig = px.scatter_mapbox(df,\n",
    "                        lat=\"lat\",\n",
    "                        lon=\"lon\",\n",
    "                        color='color',\n",
    "                        text='Score',\n",
    "                        custom_data=['Restaurant Name','Score','Street', 'Inspection Date'],\n",
    "                        color_continuous_scale=px.colors.diverging.RdYlGn[::-1],\n",
    "                        size_max=10,\n",
    "                        zoom=10)\n",
    "\n",
    "fig.update_layout(mapbox_style=\"open-street-map\")\n",
    "\n",
    "fig.update_traces(showlegend=False,\n",
    "        texttemplate =\"%{Score}\",\n",
    "        textposition='top left',\n",
    "        textfont=dict(color='#E58606'),\n",
    "        mode='markers+text',\n",
    "        hovertemplate=\"<br>\".join([\n",
    "        \"Restaurant Name: %{customdata[0]}\",\n",
    "        \"Score: %{customdata[1]}\",\n",
    "        \"Street: %{customdata[2]}\",\n",
    "        \"Inspection Date: %{customdata[3]}\"\n",
    "    ]), marker_size = 10, marker_opacity = 0.5)\n",
    "fig.show()"
   ]
  },
  {
   "cell_type": "code",
   "execution_count": null,
   "id": "patent-bread",
   "metadata": {},
   "outputs": [],
   "source": []
  },
  {
   "cell_type": "code",
   "execution_count": null,
   "id": "outer-struggle",
   "metadata": {},
   "outputs": [],
   "source": []
  },
  {
   "cell_type": "code",
   "execution_count": 233,
   "id": "deluxe-airport",
   "metadata": {},
   "outputs": [
    {
     "data": {
      "text/plain": [
       "2020    211465\n",
       "2019    204953\n",
       "2018    197200\n",
       "2017    190642\n",
       "2016    184896\n",
       "2015    177855\n",
       "2014    173829\n",
       "2013    171601\n",
       "2012    166888\n",
       "2011    164311\n",
       "2010    159625\n",
       "2009    153749\n",
       "2008    149087\n",
       "2007    143090\n",
       "2021     75284\n",
       "Name: Obligation End Date, dtype: int64"
      ]
     },
     "execution_count": 233,
     "metadata": {},
     "output_type": "execute_result"
    }
   ],
   "source": [
    "(pd.to_datetime(mixed_beverages['Obligation End Date']).dt.year).value_counts()\n",
    "#ok so that's a lot. Let's narrow down to just those with end dates in 2021"
   ]
  },
  {
   "cell_type": "code",
   "execution_count": 390,
   "id": "dangerous-conversion",
   "metadata": {},
   "outputs": [],
   "source": [
    "mixed_beverages['Obligation End Date']=pd.to_datetime(mixed_beverages['Obligation End Date'])"
   ]
  },
  {
   "cell_type": "code",
   "execution_count": 448,
   "id": "geographic-board",
   "metadata": {},
   "outputs": [],
   "source": [
    "recent_mixed=mixed_beverages.query(\"`Obligation End Date` >= '01-01-2008'\")"
   ]
  },
  {
   "cell_type": "code",
   "execution_count": 449,
   "id": "thorough-restriction",
   "metadata": {},
   "outputs": [
    {
     "name": "stdout",
     "output_type": "stream",
     "text": [
      "<class 'pandas.core.frame.DataFrame'>\n",
      "Int64Index: 2381385 entries, 0 to 2524474\n",
      "Data columns (total 24 columns):\n",
      " #   Column                      Dtype         \n",
      "---  ------                      -----         \n",
      " 0   Taxpayer Number             int64         \n",
      " 1   Taxpayer Name               object        \n",
      " 2   Taxpayer Address            object        \n",
      " 3   Taxpayer City               object        \n",
      " 4   Taxpayer State              object        \n",
      " 5   Taxpayer Zip                float64       \n",
      " 6   Taxpayer County             int64         \n",
      " 7   Location Number             int64         \n",
      " 8   Location Name               object        \n",
      " 9   Location Address            object        \n",
      " 10  Location City               object        \n",
      " 11  Location State              object        \n",
      " 12  Location Zip                int64         \n",
      " 13  Location County             int64         \n",
      " 14  Inside/Outside City Limits  object        \n",
      " 15  TABC Permit Number          object        \n",
      " 16  Responsibility Begin Date   object        \n",
      " 17  Responsibility End Date     object        \n",
      " 18  Obligation End Date         datetime64[ns]\n",
      " 19  Liquor Receipts             object        \n",
      " 20  Wine Receipts               object        \n",
      " 21  Beer Receipts               object        \n",
      " 22  Cover Charge Receipts       object        \n",
      " 23  Total Receipts              object        \n",
      "dtypes: datetime64[ns](1), float64(1), int64(5), object(17)\n",
      "memory usage: 454.2+ MB\n"
     ]
    }
   ],
   "source": [
    "recent_mixed.info()"
   ]
  },
  {
   "cell_type": "markdown",
   "id": "medical-trade",
   "metadata": {},
   "source": [
    "Notice that basically ALL the dtypes are wrong. Instead of changing each one, let's do this as one bulk change. I'll skip the ones with receipt in the name to show you a trick on this."
   ]
  },
  {
   "cell_type": "code",
   "execution_count": 450,
   "id": "unique-support",
   "metadata": {},
   "outputs": [],
   "source": [
    "recent_mixed=recent_mixed.astype({'Taxpayer Number': 'object',\n",
    "                     'Taxpayer Name': 'object',\n",
    "                    'Taxpayer Zip':'object',\n",
    "                    'Taxpayer County': 'object',\n",
    "                    'Responsibility Begin Date': 'datetime64',\n",
    "                    'Responsibility End Date': 'datetime64'})"
   ]
  },
  {
   "cell_type": "code",
   "execution_count": null,
   "id": "continuing-hotel",
   "metadata": {},
   "outputs": [],
   "source": []
  },
  {
   "cell_type": "markdown",
   "id": "persistent-costs",
   "metadata": {},
   "source": [
    "So, I know that columns 19 and onward are supposed to be float values that should be changed. Instead of typing out each one, I'll construct a lambda function to replacethe comma value and change all the columns at one time with the index location of the column (.iloc).\n",
    "- Here's the link to the stack exchange post that I used to help construct my loop: https://stackoverflow.com/questions/48328970/how-to-convert-pandas-columns-to-double-in-for-loop#48329148"
   ]
  },
  {
   "cell_type": "code",
   "execution_count": 451,
   "id": "familiar-clerk",
   "metadata": {},
   "outputs": [],
   "source": [
    "recent_mixed.iloc[:, 19:]=recent_mixed.iloc[:,19:].apply(lambda x: x.str.replace(',','')).astype(float)"
   ]
  },
  {
   "cell_type": "code",
   "execution_count": 456,
   "id": "dried-blowing",
   "metadata": {},
   "outputs": [
    {
     "name": "stdout",
     "output_type": "stream",
     "text": [
      "<class 'pandas.core.frame.DataFrame'>\n",
      "Int64Index: 2381385 entries, 0 to 2524474\n",
      "Data columns (total 6 columns):\n",
      " #   Column                 Dtype  \n",
      "---  ------                 -----  \n",
      " 0   Liquor Receipts        float64\n",
      " 1   Wine Receipts          float64\n",
      " 2   Beer Receipts          float64\n",
      " 3   Cover Charge Receipts  float64\n",
      " 4   Total Receipts         float64\n",
      " 5   zip                    string \n",
      "dtypes: float64(5), string(1)\n",
      "memory usage: 127.2 MB\n"
     ]
    }
   ],
   "source": [
    "recent_mixed.iloc[:, 19:].info()"
   ]
  },
  {
   "cell_type": "markdown",
   "id": "neutral-elizabeth",
   "metadata": {},
   "source": [
    "Yay! That was simple."
   ]
  },
  {
   "cell_type": "code",
   "execution_count": 580,
   "id": "ancient-aruba",
   "metadata": {},
   "outputs": [],
   "source": [
    "import geopandas\n",
    "zipfile = \"tl_2020_us_zcta510.zip\"\n",
    "ztca = geopandas.read_file(zipfile)"
   ]
  },
  {
   "cell_type": "code",
   "execution_count": 582,
   "id": "structured-eclipse",
   "metadata": {},
   "outputs": [
    {
     "data": {
      "text/html": [
       "<div>\n",
       "<style scoped>\n",
       "    .dataframe tbody tr th:only-of-type {\n",
       "        vertical-align: middle;\n",
       "    }\n",
       "\n",
       "    .dataframe tbody tr th {\n",
       "        vertical-align: top;\n",
       "    }\n",
       "\n",
       "    .dataframe thead th {\n",
       "        text-align: right;\n",
       "    }\n",
       "</style>\n",
       "<table border=\"1\" class=\"dataframe\">\n",
       "  <thead>\n",
       "    <tr style=\"text-align: right;\">\n",
       "      <th></th>\n",
       "      <th>Liquor Receipts</th>\n",
       "      <th>Wine Receipts</th>\n",
       "      <th>Beer Receipts</th>\n",
       "      <th>Cover Charge Receipts</th>\n",
       "      <th>Total Receipts</th>\n",
       "    </tr>\n",
       "    <tr>\n",
       "      <th>zip</th>\n",
       "      <th></th>\n",
       "      <th></th>\n",
       "      <th></th>\n",
       "      <th></th>\n",
       "      <th></th>\n",
       "    </tr>\n",
       "  </thead>\n",
       "  <tbody>\n",
       "    <tr>\n",
       "      <th>75001</th>\n",
       "      <td>190952739.0</td>\n",
       "      <td>61672017.0</td>\n",
       "      <td>108972540.0</td>\n",
       "      <td>2950622.0</td>\n",
       "      <td>364993696.0</td>\n",
       "    </tr>\n",
       "    <tr>\n",
       "      <th>75002</th>\n",
       "      <td>67029672.0</td>\n",
       "      <td>14226369.0</td>\n",
       "      <td>57508237.0</td>\n",
       "      <td>97897.0</td>\n",
       "      <td>138862175.0</td>\n",
       "    </tr>\n",
       "    <tr>\n",
       "      <th>75006</th>\n",
       "      <td>24385550.0</td>\n",
       "      <td>4046262.0</td>\n",
       "      <td>14105494.0</td>\n",
       "      <td>35853.0</td>\n",
       "      <td>42653223.0</td>\n",
       "    </tr>\n",
       "    <tr>\n",
       "      <th>75007</th>\n",
       "      <td>31008741.0</td>\n",
       "      <td>3635860.0</td>\n",
       "      <td>16735903.0</td>\n",
       "      <td>21090.0</td>\n",
       "      <td>51406070.0</td>\n",
       "    </tr>\n",
       "    <tr>\n",
       "      <th>75009</th>\n",
       "      <td>2419431.0</td>\n",
       "      <td>233155.0</td>\n",
       "      <td>1065772.0</td>\n",
       "      <td>0.0</td>\n",
       "      <td>3723548.0</td>\n",
       "    </tr>\n",
       "    <tr>\n",
       "      <th>...</th>\n",
       "      <td>...</td>\n",
       "      <td>...</td>\n",
       "      <td>...</td>\n",
       "      <td>...</td>\n",
       "      <td>...</td>\n",
       "    </tr>\n",
       "    <tr>\n",
       "      <th>79934</th>\n",
       "      <td>2870554.0</td>\n",
       "      <td>304288.0</td>\n",
       "      <td>5234533.0</td>\n",
       "      <td>0.0</td>\n",
       "      <td>8409375.0</td>\n",
       "    </tr>\n",
       "    <tr>\n",
       "      <th>79935</th>\n",
       "      <td>23100652.0</td>\n",
       "      <td>862804.0</td>\n",
       "      <td>28240938.0</td>\n",
       "      <td>66129.0</td>\n",
       "      <td>52339795.0</td>\n",
       "    </tr>\n",
       "    <tr>\n",
       "      <th>79936</th>\n",
       "      <td>201913902.0</td>\n",
       "      <td>12535509.0</td>\n",
       "      <td>194538851.0</td>\n",
       "      <td>454845.0</td>\n",
       "      <td>409976786.0</td>\n",
       "    </tr>\n",
       "    <tr>\n",
       "      <th>79938</th>\n",
       "      <td>21380384.0</td>\n",
       "      <td>1188402.0</td>\n",
       "      <td>19993304.0</td>\n",
       "      <td>740.0</td>\n",
       "      <td>42669897.0</td>\n",
       "    </tr>\n",
       "    <tr>\n",
       "      <th>79968</th>\n",
       "      <td>338363.0</td>\n",
       "      <td>578241.0</td>\n",
       "      <td>1369740.0</td>\n",
       "      <td>0.0</td>\n",
       "      <td>2286344.0</td>\n",
       "    </tr>\n",
       "  </tbody>\n",
       "</table>\n",
       "<p>1317 rows × 5 columns</p>\n",
       "</div>"
      ],
      "text/plain": [
       "       Liquor Receipts  Wine Receipts  Beer Receipts  Cover Charge Receipts  \\\n",
       "zip                                                                           \n",
       "75001      190952739.0     61672017.0    108972540.0              2950622.0   \n",
       "75002       67029672.0     14226369.0     57508237.0                97897.0   \n",
       "75006       24385550.0      4046262.0     14105494.0                35853.0   \n",
       "75007       31008741.0      3635860.0     16735903.0                21090.0   \n",
       "75009        2419431.0       233155.0      1065772.0                    0.0   \n",
       "...                ...            ...            ...                    ...   \n",
       "79934        2870554.0       304288.0      5234533.0                    0.0   \n",
       "79935       23100652.0       862804.0     28240938.0                66129.0   \n",
       "79936      201913902.0     12535509.0    194538851.0               454845.0   \n",
       "79938       21380384.0      1188402.0     19993304.0                  740.0   \n",
       "79968         338363.0       578241.0      1369740.0                    0.0   \n",
       "\n",
       "       Total Receipts  \n",
       "zip                    \n",
       "75001     364993696.0  \n",
       "75002     138862175.0  \n",
       "75006      42653223.0  \n",
       "75007      51406070.0  \n",
       "75009       3723548.0  \n",
       "...               ...  \n",
       "79934       8409375.0  \n",
       "79935      52339795.0  \n",
       "79936     409976786.0  \n",
       "79938      42669897.0  \n",
       "79968       2286344.0  \n",
       "\n",
       "[1317 rows x 5 columns]"
      ]
     },
     "execution_count": 582,
     "metadata": {},
     "output_type": "execute_result"
    }
   ],
   "source": [
    "ztca['zip']=ztca['ZCTA5CE10'].astype('string')\n",
    "recent_mixed['zip']=recent_mixed['Location Zip'].astype('string')\n",
    "# get the totals zip code\n",
    "\n",
    "zip_totals=recent_mixed.groupby('zip')[['Liquor Receipts','Wine Receipts','Beer Receipts','Cover Charge Receipts','Total Receipts']].sum()\n",
    "zip_totals"
   ]
  },
  {
   "cell_type": "code",
   "execution_count": 583,
   "id": "furnished-display",
   "metadata": {},
   "outputs": [
    {
     "data": {
      "text/html": [
       "<div>\n",
       "<style scoped>\n",
       "    .dataframe tbody tr th:only-of-type {\n",
       "        vertical-align: middle;\n",
       "    }\n",
       "\n",
       "    .dataframe tbody tr th {\n",
       "        vertical-align: top;\n",
       "    }\n",
       "\n",
       "    .dataframe thead th {\n",
       "        text-align: right;\n",
       "    }\n",
       "</style>\n",
       "<table border=\"1\" class=\"dataframe\">\n",
       "  <thead>\n",
       "    <tr style=\"text-align: right;\">\n",
       "      <th></th>\n",
       "      <th>Liquor Receipts</th>\n",
       "      <th>Wine Receipts</th>\n",
       "      <th>Beer Receipts</th>\n",
       "      <th>Cover Charge Receipts</th>\n",
       "      <th>Total Receipts</th>\n",
       "      <th>ZCTA5CE10</th>\n",
       "      <th>GEOID10</th>\n",
       "      <th>CLASSFP10</th>\n",
       "      <th>MTFCC10</th>\n",
       "      <th>FUNCSTAT10</th>\n",
       "      <th>ALAND10</th>\n",
       "      <th>AWATER10</th>\n",
       "      <th>INTPTLAT10</th>\n",
       "      <th>INTPTLON10</th>\n",
       "      <th>geometry</th>\n",
       "    </tr>\n",
       "    <tr>\n",
       "      <th>zip</th>\n",
       "      <th></th>\n",
       "      <th></th>\n",
       "      <th></th>\n",
       "      <th></th>\n",
       "      <th></th>\n",
       "      <th></th>\n",
       "      <th></th>\n",
       "      <th></th>\n",
       "      <th></th>\n",
       "      <th></th>\n",
       "      <th></th>\n",
       "      <th></th>\n",
       "      <th></th>\n",
       "      <th></th>\n",
       "      <th></th>\n",
       "    </tr>\n",
       "  </thead>\n",
       "  <tbody>\n",
       "    <tr>\n",
       "      <th>75001</th>\n",
       "      <td>190952739.0</td>\n",
       "      <td>61672017.0</td>\n",
       "      <td>108972540.0</td>\n",
       "      <td>2950622.0</td>\n",
       "      <td>364993696.0</td>\n",
       "      <td>75001</td>\n",
       "      <td>75001</td>\n",
       "      <td>B5</td>\n",
       "      <td>G6350</td>\n",
       "      <td>S</td>\n",
       "      <td>9915172.0</td>\n",
       "      <td>8702.0</td>\n",
       "      <td>+32.9600470</td>\n",
       "      <td>-096.8385216</td>\n",
       "      <td>POLYGON ((-96.85891 32.95326, -96.85888 32.954...</td>\n",
       "    </tr>\n",
       "    <tr>\n",
       "      <th>75002</th>\n",
       "      <td>67029672.0</td>\n",
       "      <td>14226369.0</td>\n",
       "      <td>57508237.0</td>\n",
       "      <td>97897.0</td>\n",
       "      <td>138862175.0</td>\n",
       "      <td>75002</td>\n",
       "      <td>75002</td>\n",
       "      <td>B5</td>\n",
       "      <td>G6350</td>\n",
       "      <td>S</td>\n",
       "      <td>96347638.0</td>\n",
       "      <td>5289260.0</td>\n",
       "      <td>+33.0898539</td>\n",
       "      <td>-096.6086003</td>\n",
       "      <td>POLYGON ((-96.68551 33.07379, -96.68455 33.075...</td>\n",
       "    </tr>\n",
       "    <tr>\n",
       "      <th>75006</th>\n",
       "      <td>24385550.0</td>\n",
       "      <td>4046262.0</td>\n",
       "      <td>14105494.0</td>\n",
       "      <td>35853.0</td>\n",
       "      <td>42653223.0</td>\n",
       "      <td>75006</td>\n",
       "      <td>75006</td>\n",
       "      <td>B5</td>\n",
       "      <td>G6350</td>\n",
       "      <td>S</td>\n",
       "      <td>43513857.0</td>\n",
       "      <td>846029.0</td>\n",
       "      <td>+32.9621408</td>\n",
       "      <td>-096.8985846</td>\n",
       "      <td>POLYGON ((-96.94440 32.96630, -96.94437 32.966...</td>\n",
       "    </tr>\n",
       "    <tr>\n",
       "      <th>75007</th>\n",
       "      <td>31008741.0</td>\n",
       "      <td>3635860.0</td>\n",
       "      <td>16735903.0</td>\n",
       "      <td>21090.0</td>\n",
       "      <td>51406070.0</td>\n",
       "      <td>75007</td>\n",
       "      <td>75007</td>\n",
       "      <td>B5</td>\n",
       "      <td>G6350</td>\n",
       "      <td>S</td>\n",
       "      <td>30430355.0</td>\n",
       "      <td>314310.0</td>\n",
       "      <td>+33.0052617</td>\n",
       "      <td>-096.8967417</td>\n",
       "      <td>POLYGON ((-96.94846 32.99399, -96.94845 32.994...</td>\n",
       "    </tr>\n",
       "    <tr>\n",
       "      <th>75009</th>\n",
       "      <td>2419431.0</td>\n",
       "      <td>233155.0</td>\n",
       "      <td>1065772.0</td>\n",
       "      <td>0.0</td>\n",
       "      <td>3723548.0</td>\n",
       "      <td>75009</td>\n",
       "      <td>75009</td>\n",
       "      <td>B5</td>\n",
       "      <td>G6350</td>\n",
       "      <td>S</td>\n",
       "      <td>247632938.0</td>\n",
       "      <td>3711938.0</td>\n",
       "      <td>+33.3388989</td>\n",
       "      <td>-096.7529773</td>\n",
       "      <td>POLYGON ((-96.89262 33.28215, -96.89253 33.283...</td>\n",
       "    </tr>\n",
       "    <tr>\n",
       "      <th>...</th>\n",
       "      <td>...</td>\n",
       "      <td>...</td>\n",
       "      <td>...</td>\n",
       "      <td>...</td>\n",
       "      <td>...</td>\n",
       "      <td>...</td>\n",
       "      <td>...</td>\n",
       "      <td>...</td>\n",
       "      <td>...</td>\n",
       "      <td>...</td>\n",
       "      <td>...</td>\n",
       "      <td>...</td>\n",
       "      <td>...</td>\n",
       "      <td>...</td>\n",
       "      <td>...</td>\n",
       "    </tr>\n",
       "    <tr>\n",
       "      <th>79934</th>\n",
       "      <td>2870554.0</td>\n",
       "      <td>304288.0</td>\n",
       "      <td>5234533.0</td>\n",
       "      <td>0.0</td>\n",
       "      <td>8409375.0</td>\n",
       "      <td>79934</td>\n",
       "      <td>79934</td>\n",
       "      <td>B5</td>\n",
       "      <td>G6350</td>\n",
       "      <td>S</td>\n",
       "      <td>153423879.0</td>\n",
       "      <td>178564.0</td>\n",
       "      <td>+31.9506694</td>\n",
       "      <td>-106.4335175</td>\n",
       "      <td>POLYGON ((-106.51706 32.00076, -106.51399 32.0...</td>\n",
       "    </tr>\n",
       "    <tr>\n",
       "      <th>79935</th>\n",
       "      <td>23100652.0</td>\n",
       "      <td>862804.0</td>\n",
       "      <td>28240938.0</td>\n",
       "      <td>66129.0</td>\n",
       "      <td>52339795.0</td>\n",
       "      <td>79935</td>\n",
       "      <td>79935</td>\n",
       "      <td>B5</td>\n",
       "      <td>G6350</td>\n",
       "      <td>S</td>\n",
       "      <td>9079681.0</td>\n",
       "      <td>0.0</td>\n",
       "      <td>+31.7679446</td>\n",
       "      <td>-106.3301772</td>\n",
       "      <td>POLYGON ((-106.34525 31.75268, -106.34509 31.7...</td>\n",
       "    </tr>\n",
       "    <tr>\n",
       "      <th>79936</th>\n",
       "      <td>201913902.0</td>\n",
       "      <td>12535509.0</td>\n",
       "      <td>194538851.0</td>\n",
       "      <td>454845.0</td>\n",
       "      <td>409976786.0</td>\n",
       "      <td>79936</td>\n",
       "      <td>79936</td>\n",
       "      <td>B5</td>\n",
       "      <td>G6350</td>\n",
       "      <td>S</td>\n",
       "      <td>68971190.0</td>\n",
       "      <td>54180.0</td>\n",
       "      <td>+31.7765930</td>\n",
       "      <td>-106.2969765</td>\n",
       "      <td>POLYGON ((-106.36225 31.83114, -106.36189 31.8...</td>\n",
       "    </tr>\n",
       "    <tr>\n",
       "      <th>79938</th>\n",
       "      <td>21380384.0</td>\n",
       "      <td>1188402.0</td>\n",
       "      <td>19993304.0</td>\n",
       "      <td>740.0</td>\n",
       "      <td>42669897.0</td>\n",
       "      <td>79938</td>\n",
       "      <td>79938</td>\n",
       "      <td>B5</td>\n",
       "      <td>G6350</td>\n",
       "      <td>S</td>\n",
       "      <td>943746827.0</td>\n",
       "      <td>171229.0</td>\n",
       "      <td>+31.8297121</td>\n",
       "      <td>-105.9713625</td>\n",
       "      <td>POLYGON ((-106.28248 31.83679, -106.26894 31.8...</td>\n",
       "    </tr>\n",
       "    <tr>\n",
       "      <th>79968</th>\n",
       "      <td>338363.0</td>\n",
       "      <td>578241.0</td>\n",
       "      <td>1369740.0</td>\n",
       "      <td>0.0</td>\n",
       "      <td>2286344.0</td>\n",
       "      <td>NaN</td>\n",
       "      <td>NaN</td>\n",
       "      <td>NaN</td>\n",
       "      <td>NaN</td>\n",
       "      <td>NaN</td>\n",
       "      <td>NaN</td>\n",
       "      <td>NaN</td>\n",
       "      <td>NaN</td>\n",
       "      <td>NaN</td>\n",
       "      <td>None</td>\n",
       "    </tr>\n",
       "  </tbody>\n",
       "</table>\n",
       "<p>1317 rows × 15 columns</p>\n",
       "</div>"
      ],
      "text/plain": [
       "       Liquor Receipts  Wine Receipts  Beer Receipts  Cover Charge Receipts  \\\n",
       "zip                                                                           \n",
       "75001      190952739.0     61672017.0    108972540.0              2950622.0   \n",
       "75002       67029672.0     14226369.0     57508237.0                97897.0   \n",
       "75006       24385550.0      4046262.0     14105494.0                35853.0   \n",
       "75007       31008741.0      3635860.0     16735903.0                21090.0   \n",
       "75009        2419431.0       233155.0      1065772.0                    0.0   \n",
       "...                ...            ...            ...                    ...   \n",
       "79934        2870554.0       304288.0      5234533.0                    0.0   \n",
       "79935       23100652.0       862804.0     28240938.0                66129.0   \n",
       "79936      201913902.0     12535509.0    194538851.0               454845.0   \n",
       "79938       21380384.0      1188402.0     19993304.0                  740.0   \n",
       "79968         338363.0       578241.0      1369740.0                    0.0   \n",
       "\n",
       "       Total Receipts ZCTA5CE10 GEOID10 CLASSFP10 MTFCC10 FUNCSTAT10  \\\n",
       "zip                                                                    \n",
       "75001     364993696.0     75001   75001        B5   G6350          S   \n",
       "75002     138862175.0     75002   75002        B5   G6350          S   \n",
       "75006      42653223.0     75006   75006        B5   G6350          S   \n",
       "75007      51406070.0     75007   75007        B5   G6350          S   \n",
       "75009       3723548.0     75009   75009        B5   G6350          S   \n",
       "...               ...       ...     ...       ...     ...        ...   \n",
       "79934       8409375.0     79934   79934        B5   G6350          S   \n",
       "79935      52339795.0     79935   79935        B5   G6350          S   \n",
       "79936     409976786.0     79936   79936        B5   G6350          S   \n",
       "79938      42669897.0     79938   79938        B5   G6350          S   \n",
       "79968       2286344.0       NaN     NaN       NaN     NaN        NaN   \n",
       "\n",
       "           ALAND10   AWATER10   INTPTLAT10    INTPTLON10  \\\n",
       "zip                                                        \n",
       "75001    9915172.0     8702.0  +32.9600470  -096.8385216   \n",
       "75002   96347638.0  5289260.0  +33.0898539  -096.6086003   \n",
       "75006   43513857.0   846029.0  +32.9621408  -096.8985846   \n",
       "75007   30430355.0   314310.0  +33.0052617  -096.8967417   \n",
       "75009  247632938.0  3711938.0  +33.3388989  -096.7529773   \n",
       "...            ...        ...          ...           ...   \n",
       "79934  153423879.0   178564.0  +31.9506694  -106.4335175   \n",
       "79935    9079681.0        0.0  +31.7679446  -106.3301772   \n",
       "79936   68971190.0    54180.0  +31.7765930  -106.2969765   \n",
       "79938  943746827.0   171229.0  +31.8297121  -105.9713625   \n",
       "79968          NaN        NaN          NaN           NaN   \n",
       "\n",
       "                                                geometry  \n",
       "zip                                                       \n",
       "75001  POLYGON ((-96.85891 32.95326, -96.85888 32.954...  \n",
       "75002  POLYGON ((-96.68551 33.07379, -96.68455 33.075...  \n",
       "75006  POLYGON ((-96.94440 32.96630, -96.94437 32.966...  \n",
       "75007  POLYGON ((-96.94846 32.99399, -96.94845 32.994...  \n",
       "75009  POLYGON ((-96.89262 33.28215, -96.89253 33.283...  \n",
       "...                                                  ...  \n",
       "79934  POLYGON ((-106.51706 32.00076, -106.51399 32.0...  \n",
       "79935  POLYGON ((-106.34525 31.75268, -106.34509 31.7...  \n",
       "79936  POLYGON ((-106.36225 31.83114, -106.36189 31.8...  \n",
       "79938  POLYGON ((-106.28248 31.83679, -106.26894 31.8...  \n",
       "79968                                               None  \n",
       "\n",
       "[1317 rows x 15 columns]"
      ]
     },
     "execution_count": 583,
     "metadata": {},
     "output_type": "execute_result"
    }
   ],
   "source": [
    "zip_pay=zip_totals.join(ztca.set_index('zip'), how = 'left')\n",
    "zip_pay"
   ]
  },
  {
   "cell_type": "code",
   "execution_count": 585,
   "id": "voluntary-notion",
   "metadata": {},
   "outputs": [
    {
     "data": {
      "text/plain": [
       "zip\n",
       "75001    364993696.0\n",
       "75002    138862175.0\n",
       "75006     42653223.0\n",
       "75007     51406070.0\n",
       "75009      3723548.0\n",
       "            ...     \n",
       "79934      8409375.0\n",
       "79935     52339795.0\n",
       "79936    409976786.0\n",
       "79938     42669897.0\n",
       "79968      2286344.0\n",
       "Name: Total Receipts, Length: 1317, dtype: float64"
      ]
     },
     "metadata": {},
     "output_type": "display_data"
    },
    {
     "data": {
      "text/plain": [
       "zip\n",
       "78701    2.915591e+09\n",
       "78205    1.430869e+09\n",
       "75201    1.335637e+09\n",
       "77002    1.244020e+09\n",
       "77006    1.025279e+09\n",
       "             ...     \n",
       "75960    0.000000e+00\n",
       "75962    0.000000e+00\n",
       "77837    0.000000e+00\n",
       "78675    0.000000e+00\n",
       "77050    0.000000e+00\n",
       "Name: Total Receipts, Length: 1317, dtype: float64"
      ]
     },
     "metadata": {},
     "output_type": "display_data"
    }
   ],
   "source": [
    "from geopandas import GeoDataFrame\n",
    "merged = GeoDataFrame(zip_pay)\n",
    "display(merged['Total Receipts'])\n",
    "type(merged)\n",
    "display(merged['Total Receipts'].sort_values(ascending=False))\n"
   ]
  },
  {
   "cell_type": "code",
   "execution_count": 589,
   "id": "local-convert",
   "metadata": {
    "scrolled": true
   },
   "outputs": [
    {
     "data": {
      "image/png": "[encoded data removed]",
      "text/plain": [
       "<Figure size 500x500 with 2 Axes>"
      ]
     },
     "metadata": {
      "needs_background": "light"
     },
     "output_type": "display_data"
    }
   ],
   "source": [
    "# set up : see here for more info -> https://stackoverflow.com/questions/34162443/why-do-many-examples-use-fig-ax-plt-subplots-in-matplotlib-pyplot-python\n",
    "    # Because we have made a specific statement to the axes and figure, we need to change the figure size here as opposed to in the .plot statement...\n",
    "    #...any changes to the size in the .plot statement will be ignored.\n",
    "fig, ax = plt.subplots(1, 1, figsize=(5,5), dpi=100)\n",
    "\n",
    "import matplotlib\n",
    "from matplotlib import colors as colors\n",
    "\n",
    "ax.axis('off')\n",
    "\n",
    "#Create the plot here\n",
    "merged['data']= merged['Total Receipts']\n",
    "fig=merged.plot(column=('data'),\n",
    "                cmap='tab20c_r',\n",
    "                ax=ax,\n",
    "                legend=True,\n",
    "                norm=matplotlib.colors.Normalize(vmin=10000,\n",
    "                                                 vmax=10000000, clip=True))\n",
    "\n",
    "#add an annotation for the source code at the bottom, check your size to ensure the annotate is legible.\n",
    "ax.annotate('Source: Texas Open Data, 2021',\n",
    "            xy=(0.1, .08),\n",
    "            xycoords='figure fraction',\n",
    "            horizontalalignment='left',\n",
    "            verticalalignment='top',\n",
    "            fontsize=14,\n",
    "            color='#555555')\n",
    "plt.show()"
   ]
  },
  {
   "cell_type": "code",
   "execution_count": null,
   "id": "fourth-wisconsin",
   "metadata": {},
   "outputs": [],
   "source": []
  },
  {
   "cell_type": "code",
   "execution_count": null,
   "id": "japanese-canada",
   "metadata": {},
   "outputs": [],
   "source": []
  }
 ],
 "metadata": {
  "kernelspec": {
   "display_name": "Python 3",
   "language": "python",
   "name": "python3"
  },
  "language_info": {
   "codemirror_mode": {
    "name": "ipython",
    "version": 3
   },
   "file_extension": ".py",
   "mimetype": "text/x-python",
   "name": "python",
   "nbconvert_exporter": "python",
   "pygments_lexer": "ipython3",
   "version": "3.8.6"
  }
 },
 "nbformat": 4,
 "nbformat_minor": 5
}
